{
 "cells": [
  {
   "cell_type": "code",
   "execution_count": 1,
   "id": "06df7392-1afd-4018-be6d-770880b4d2be",
   "metadata": {},
   "outputs": [
    {
     "name": "stdout",
     "output_type": "stream",
     "text": [
      "{\n",
      "    \"name\": \"data\",\n",
      "    \"type\": \"folder\",\n",
      "    \"children\": [\n",
      "        {\n",
      "            \"name\": \"d1\",\n",
      "            \"type\": \"folder\",\n",
      "            \"children\": [\n",
      "                {\n",
      "                    \"name\": \"00002.JPG\",\n",
      "                    \"type\": \"file\"\n",
      "                },\n",
      "                {\n",
      "                    \"name\": \"00002_1.JPG\",\n",
      "                    \"type\": \"file\"\n",
      "                }\n",
      "            ]\n",
      "        },\n",
      "        {\n",
      "            \"name\": \"d2\",\n",
      "            \"type\": \"folder\",\n",
      "            \"children\": [\n",
      "                {\n",
      "                    \"name\": \"2.JPG\",\n",
      "                    \"type\": \"file\"\n",
      "                }\n",
      "            ]\n",
      "        }\n",
      "    ]\n",
      "}\n"
     ]
    }
   ],
   "source": [
    "import os\n",
    "import json\n",
    "\n",
    "def generate_tree(path):\n",
    "    tree = {}\n",
    "    tree['name'] = os.path.basename(path)\n",
    "    tree['type'] = 'folder' if os.path.isdir(path) else 'file'\n",
    "    if os.path.isdir(path):\n",
    "        tree['children'] = [generate_tree(os.path.join(path, item)) for item in os.listdir(path)]\n",
    "    return tree\n",
    "\n",
    "data_path = 'data'  # צייני את הנתיב לתיקיית המידע שלך כאן\n",
    "tree = generate_tree(data_path)\n",
    "print(json.dumps(tree, indent=4))"
   ]
  }
 ],
 "metadata": {
  "kernelspec": {
   "display_name": "Python 3 (ipykernel)",
   "language": "python",
   "name": "python3"
  },
  "language_info": {
   "codemirror_mode": {
    "name": "ipython",
    "version": 3
   },
   "file_extension": ".py",
   "mimetype": "text/x-python",
   "name": "python",
   "nbconvert_exporter": "python",
   "pygments_lexer": "ipython3",
   "version": "3.12.4"
  }
 },
 "nbformat": 4,
 "nbformat_minor": 5
}
