{
 "cells": [
  {
   "cell_type": "code",
   "execution_count": null,
   "id": "9cb18c50-c1ee-4556-b132-0ad79236a88c",
   "metadata": {},
   "outputs": [],
   "source": [
    "# pip install Flask-CORS"
   ]
  },
  {
   "cell_type": "code",
   "execution_count": null,
   "id": "e45a9cc0-006a-490b-9ede-5822590f6fe2",
   "metadata": {},
   "outputs": [],
   "source": [
    "# pip install flask"
   ]
  },
  {
   "cell_type": "code",
   "execution_count": 32,
   "id": "eb2b302b-c466-4791-a37b-bf5f99a00ec1",
   "metadata": {},
   "outputs": [
    {
     "name": "stdout",
     "output_type": "stream",
     "text": [
      "File: data\\d1\\10256434_1.json\n",
      "JSON file path: data\\d1\\10256434_1_format.json\n",
      "JSON file found!\n",
      "File: data\\d1\\10256434_1_format.json\n",
      "JSON file path: data\\d1\\10256434_1_format_format.json\n",
      "{\n",
      "    \"name\": \"data\",\n",
      "    \"type\": \"folder\",\n",
      "    \"children\": [\n",
      "        {\n",
      "            \"name\": \"d1\",\n",
      "            \"type\": \"folder\",\n",
      "            \"children\": [\n",
      "                {\n",
      "                    \"name\": \"10256434_1.JPG\",\n",
      "                    \"type\": \"file\",\n",
      "                    \"image\": \"data\\\\d1\\\\10256434_1.JPG\"\n",
      "                },\n",
      "                {\n",
      "                    \"name\": \"10256434_1.json\",\n",
      "                    \"type\": \"json\",\n",
      "                    \"entity_types\": {\n",
      "                        \"CARDINAL\": [\n",
      "                            \"540\",\n",
      "                            \"2.40\",\n",
      "                            \"4.45\"\n",
      "                        ],\n",
      "                        \"GPE\": [\n",
      "                            \"Lodz\"\n",
      "                        ],\n",
      "                        \"DATE\": [\n",
      "                            \"Czeslawa 10\",\n",
      "                            \"10.11.19\",\n",
      "                            \"1.1.47\",\n",
      "                            \"47 DP\",\n",
      "                            \"45 befreit\",\n",
      "                            \"44 Gh\",\n",
      "                            \"77 SELIGMAN\",\n",
      "                            \"19 Lodz\"\n",
      "                        ]\n",
      "                    }\n",
      "                },\n",
      "                {\n",
      "                    \"name\": \"10256434_1_format.json\",\n",
      "                    \"type\": \"json\"\n",
      "                }\n",
      "            ]\n",
      "        }\n",
      "    ]\n",
      "}\n"
     ]
    }
   ],
   "source": [
    "import os\n",
    "import json\n",
    "\n",
    "import os\n",
    "import json\n",
    "\n",
    "def generate_tree(path):\n",
    "    tree = {}\n",
    "    tree['name'] = os.path.basename(path)\n",
    "    \n",
    "    if os.path.isdir(path):\n",
    "        tree['type'] = 'folder'\n",
    "        tree['children'] = [generate_tree(os.path.join(path, item)) for item in os.listdir(path)]\n",
    "    elif os.path.isfile(path):             \n",
    "        if path.endswith('.png') or path.endswith('.jpg') or path.endswith('.JPG'):\n",
    "            tree['type'] = 'file'\n",
    "            tree['image'] = path\n",
    "        else:\n",
    "            tree['type'] = 'json'\n",
    "            # Look for associated JSON file in the same directory as the image\n",
    "            json_file_path = os.path.join(os.path.dirname(path), f\"{os.path.splitext(os.path.basename(path))[0]}_format.json\")\n",
    "            \n",
    "            print(\"File:\", path)\n",
    "            print(\"JSON file path:\", json_file_path)\n",
    "            \n",
    "            if os.path.isfile(json_file_path):\n",
    "                print(\"JSON file found!\")\n",
    "                with open(json_file_path) as json_file:\n",
    "                    data = json.load(json_file)\n",
    "                    if 'entity_types' in data:\n",
    "                        tree['entity_types'] = data['entity_types']\n",
    "\n",
    "    return tree\n",
    "\n",
    "data_path = 'data'  # Specify the path to your data directory here\n",
    "tree = generate_tree(data_path)\n",
    "print(json.dumps(tree, indent=4))\n"
   ]
  },
  {
   "cell_type": "code",
   "execution_count": null,
   "id": "57b5c448-440f-4ca9-93cc-a2e61a8c9e7e",
   "metadata": {},
   "outputs": [],
   "source": [
    "import os\n",
    "from flask import Flask, jsonify\n",
    "from flask_cors import CORS\n",
    "app = Flask(__name__)\n",
    "CORS(app)\n",
    "@app.route('/api/data')\n",
    "def get_data():\n",
    "    data = {\n",
    "        'title': 'Welcome to Angular-Python App',\n",
    "        'message': 'This is an example integration between Angular and Python!'\n",
    "    }\n",
    "    return jsonify(data)\n",
    "# if __name__ == '__main__':\n",
    "#     app.run()\n"
   ]
  },
  {
   "cell_type": "code",
   "execution_count": null,
   "id": "e602bc51-41d6-4b6a-9ad6-3d1786a78a65",
   "metadata": {},
   "outputs": [],
   "source": [
    "# import os\n",
    "# from flask import Flask, jsonify, Response\n",
    "# from flask_cors import CORS\n",
    "# import json\n",
    "\n",
    "# app = Flask(__name__)\n",
    "# CORS(app)\n",
    "\n",
    "# # Function to generate a tree structure of folders and files\n",
    "# def generate_tree(path):\n",
    "#     tree = {}\n",
    "#     tree['name'] = os.path.basename(path)\n",
    "#     tree['type'] = 'folder' if os.path.isdir(path) else 'file'\n",
    "#     if os.path.isdir(path):\n",
    "#         tree['children'] = [generate_tree(os.path.join(path, item)) for item in os.listdir(path)]\n",
    "#     return tree\n",
    "\n",
    "# @app.route('/api/tree', methods=['GET'])  # Ensure to specify methods for the route\n",
    "# def get_tree():\n",
    "#     data_path = 'data'  # Specify the path to your data folder\n",
    "#     tree = generate_tree(data_path)\n",
    "#     response = Response(response=json.dumps(tree, indent=4), status=200, content_type='application/json')\n",
    "#     return response\n",
    "\n",
    "# if __name__ == '__main__':\n",
    "#     app.run()"
   ]
  },
  {
   "cell_type": "code",
   "execution_count": null,
   "id": "b4a9db45-fbb8-43e8-a5df-84c4193c3d15",
   "metadata": {},
   "outputs": [],
   "source": [
    "from flask import Flask\n",
    "app = Flask(__name__)\n",
    "\n",
    "@app.route(\"/\")\n",
    "def hello():\n",
    "    return \"Hello World!\"\n",
    "\n",
    "if __name__ == '__main__':\n",
    "    app.run()"
   ]
  },
  {
   "cell_type": "code",
   "execution_count": null,
   "id": "d4502524-6541-4d1e-9761-a07b07118a0e",
   "metadata": {},
   "outputs": [
    {
     "name": "stdout",
     "output_type": "stream",
     "text": [
      " * Serving Flask app '__main__'\n",
      " * Debug mode: off\n"
     ]
    },
    {
     "name": "stderr",
     "output_type": "stream",
     "text": [
      "WARNING: This is a development server. Do not use it in a production deployment. Use a production WSGI server instead.\n",
      " * Running on http://127.0.0.1:5000\n",
      "Press CTRL+C to quit\n",
      "127.0.0.1 - - [07/Aug/2024 13:11:40] \"GET /api/data HTTP/1.1\" 200 -\n",
      "127.0.0.1 - - [07/Aug/2024 13:11:40] \"GET /api/tree HTTP/1.1\" 200 -\n"
     ]
    },
    {
     "name": "stdout",
     "output_type": "stream",
     "text": [
      "File: data\\d1\\10256434_1.json\n",
      "JSON file path: data\\d1\\10256434_1_format.json\n",
      "JSON file found!\n",
      "File: data\\d1\\10256434_1_format.json\n",
      "JSON file path: data\\d1\\10256434_1_format_format.json\n"
     ]
    },
    {
     "name": "stderr",
     "output_type": "stream",
     "text": [
      "127.0.0.1 - - [07/Aug/2024 13:13:29] \"GET /api/tree HTTP/1.1\" 200 -\n"
     ]
    },
    {
     "name": "stdout",
     "output_type": "stream",
     "text": [
      "File: data\\d1\\10256434_1.json\n",
      "JSON file path: data\\d1\\10256434_1_format.json\n",
      "JSON file found!\n",
      "File: data\\d1\\10256434_1_format.json\n",
      "JSON file path: data\\d1\\10256434_1_format_format.json\n"
     ]
    },
    {
     "name": "stderr",
     "output_type": "stream",
     "text": [
      "127.0.0.1 - - [07/Aug/2024 13:17:27] \"GET /api/data HTTP/1.1\" 200 -\n",
      "127.0.0.1 - - [07/Aug/2024 13:17:27] \"GET /api/tree HTTP/1.1\" 200 -\n",
      "127.0.0.1 - - [07/Aug/2024 13:17:27] \"GET /api/data HTTP/1.1\" 200 -\n",
      "127.0.0.1 - - [07/Aug/2024 13:17:27] \"GET /api/tree HTTP/1.1\" 200 -\n",
      "127.0.0.1 - - [07/Aug/2024 13:17:27] \"GET /api/data HTTP/1.1\" 200 -\n"
     ]
    },
    {
     "name": "stdout",
     "output_type": "stream",
     "text": [
      "File: data\\d1\\10256434_1.json\n",
      "JSON file path: data\\d1\\10256434_1_format.json\n",
      "JSON file found!\n",
      "File: data\\d1\\10256434_1_format.json\n",
      "JSON file path: data\\d1\\10256434_1_format_format.json\n",
      "File: data\\d1\\10256434_1.json\n",
      "JSON file path: data\\d1\\10256434_1_format.json\n",
      "JSON file found!\n",
      "File: data\\d1\\10256434_1_format.json\n",
      "JSON file path: data\\d1\\10256434_1_format_format.json\n"
     ]
    },
    {
     "name": "stderr",
     "output_type": "stream",
     "text": [
      "127.0.0.1 - - [07/Aug/2024 13:17:27] \"GET /api/tree HTTP/1.1\" 200 -\n"
     ]
    },
    {
     "name": "stdout",
     "output_type": "stream",
     "text": [
      "File: data\\d1\\10256434_1.json\n",
      "JSON file path: data\\d1\\10256434_1_format.json\n",
      "JSON file found!\n",
      "File: data\\d1\\10256434_1_format.json\n",
      "JSON file path: data\\d1\\10256434_1_format_format.json\n"
     ]
    },
    {
     "name": "stderr",
     "output_type": "stream",
     "text": [
      "127.0.0.1 - - [07/Aug/2024 13:17:54] \"GET /api/data HTTP/1.1\" 200 -\n",
      "127.0.0.1 - - [07/Aug/2024 13:17:54] \"GET /api/data HTTP/1.1\" 200 -\n",
      "127.0.0.1 - - [07/Aug/2024 13:17:54] \"GET /api/tree HTTP/1.1\" 200 -\n",
      "127.0.0.1 - - [07/Aug/2024 13:17:54] \"GET /api/tree HTTP/1.1\" 200 -\n"
     ]
    },
    {
     "name": "stdout",
     "output_type": "stream",
     "text": [
      "File: data\\d1\\10256434_1.json\n",
      "JSON file path: data\\d1\\10256434_1_format.json\n",
      "JSON file found!\n",
      "File: data\\d1\\10256434_1_format.json\n",
      "JSON file path: data\\d1\\10256434_1_format_format.json\n",
      "File: data\\d1\\10256434_1.json\n",
      "JSON file path: data\\d1\\10256434_1_format.json\n",
      "JSON file found!\n",
      "File: data\\d1\\10256434_1_format.json\n",
      "JSON file path: data\\d1\\10256434_1_format_format.json\n"
     ]
    },
    {
     "name": "stderr",
     "output_type": "stream",
     "text": [
      "127.0.0.1 - - [07/Aug/2024 13:17:54] \"GET /api/data HTTP/1.1\" 200 -\n",
      "127.0.0.1 - - [07/Aug/2024 13:17:54] \"GET /api/tree HTTP/1.1\" 200 -\n"
     ]
    },
    {
     "name": "stdout",
     "output_type": "stream",
     "text": [
      "File: data\\d1\\10256434_1.json\n",
      "JSON file path: data\\d1\\10256434_1_format.json\n",
      "JSON file found!\n",
      "File: data\\d1\\10256434_1_format.json\n",
      "JSON file path: data\\d1\\10256434_1_format_format.json\n"
     ]
    },
    {
     "name": "stderr",
     "output_type": "stream",
     "text": [
      "127.0.0.1 - - [07/Aug/2024 13:17:58] \"GET /api/data HTTP/1.1\" 200 -\n",
      "127.0.0.1 - - [07/Aug/2024 13:17:58] \"GET /api/tree HTTP/1.1\" 200 -\n",
      "127.0.0.1 - - [07/Aug/2024 13:17:58] \"GET /api/data HTTP/1.1\" 200 -\n",
      "127.0.0.1 - - [07/Aug/2024 13:17:58] \"GET /api/tree HTTP/1.1\" 200 -\n"
     ]
    },
    {
     "name": "stdout",
     "output_type": "stream",
     "text": [
      "File: data\\d1\\10256434_1.json\n",
      "JSON file path: data\\d1\\10256434_1_format.json\n",
      "JSON file found!\n",
      "File: data\\d1\\10256434_1_format.json\n",
      "JSON file path: data\\d1\\10256434_1_format_format.json\n",
      "File: data\\d1\\10256434_1.json\n",
      "JSON file path: data\\d1\\10256434_1_format.json\n",
      "JSON file found!\n",
      "File: data\\d1\\10256434_1_format.json\n",
      "JSON file path: data\\d1\\10256434_1_format_format.json\n"
     ]
    },
    {
     "name": "stderr",
     "output_type": "stream",
     "text": [
      "127.0.0.1 - - [07/Aug/2024 13:17:59] \"GET /api/data HTTP/1.1\" 200 -\n",
      "127.0.0.1 - - [07/Aug/2024 13:17:59] \"GET /api/tree HTTP/1.1\" 200 -\n"
     ]
    },
    {
     "name": "stdout",
     "output_type": "stream",
     "text": [
      "File: data\\d1\\10256434_1.json\n",
      "JSON file path: data\\d1\\10256434_1_format.json\n",
      "JSON file found!\n",
      "File: data\\d1\\10256434_1_format.json\n",
      "JSON file path: data\\d1\\10256434_1_format_format.json\n"
     ]
    },
    {
     "name": "stderr",
     "output_type": "stream",
     "text": [
      "127.0.0.1 - - [07/Aug/2024 13:18:02] \"GET /api/data HTTP/1.1\" 200 -\n",
      "127.0.0.1 - - [07/Aug/2024 13:18:02] \"GET /api/tree HTTP/1.1\" 200 -\n",
      "127.0.0.1 - - [07/Aug/2024 13:18:02] \"GET /api/data HTTP/1.1\" 200 -\n",
      "127.0.0.1 - - [07/Aug/2024 13:18:02] \"GET /api/tree HTTP/1.1\" 200 -\n"
     ]
    },
    {
     "name": "stdout",
     "output_type": "stream",
     "text": [
      "File: data\\d1\\10256434_1.json\n",
      "JSON file path: data\\d1\\10256434_1_format.json\n",
      "JSON file found!\n",
      "File: data\\d1\\10256434_1_format.json\n",
      "JSON file path: data\\d1\\10256434_1_format_format.json\n",
      "File: data\\d1\\10256434_1.json\n",
      "JSON file path: data\\d1\\10256434_1_format.json\n",
      "JSON file found!\n",
      "File: data\\d1\\10256434_1_format.json\n",
      "JSON file path: data\\d1\\10256434_1_format_format.json\n"
     ]
    },
    {
     "name": "stderr",
     "output_type": "stream",
     "text": [
      "127.0.0.1 - - [07/Aug/2024 13:18:02] \"GET /api/data HTTP/1.1\" 200 -\n",
      "127.0.0.1 - - [07/Aug/2024 13:18:02] \"GET /api/tree HTTP/1.1\" 200 -\n"
     ]
    },
    {
     "name": "stdout",
     "output_type": "stream",
     "text": [
      "File: data\\d1\\10256434_1.json\n",
      "JSON file path: data\\d1\\10256434_1_format.json\n",
      "JSON file found!\n",
      "File: data\\d1\\10256434_1_format.json\n",
      "JSON file path: data\\d1\\10256434_1_format_format.json\n"
     ]
    },
    {
     "name": "stderr",
     "output_type": "stream",
     "text": [
      "127.0.0.1 - - [07/Aug/2024 13:19:11] \"GET /api/data HTTP/1.1\" 200 -\n",
      "127.0.0.1 - - [07/Aug/2024 13:19:11] \"GET /api/tree HTTP/1.1\" 200 -\n",
      "127.0.0.1 - - [07/Aug/2024 13:19:11] \"GET /api/data HTTP/1.1\" 200 -\n",
      "127.0.0.1 - - [07/Aug/2024 13:19:11] \"GET /api/tree HTTP/1.1\" 200 -\n",
      "127.0.0.1 - - [07/Aug/2024 13:19:11] \"GET /api/data HTTP/1.1\" 200 -\n"
     ]
    },
    {
     "name": "stdout",
     "output_type": "stream",
     "text": [
      "File: data\\d1\\10256434_1.json\n",
      "JSON file path: data\\d1\\10256434_1_format.json\n",
      "JSON file found!\n",
      "File: data\\d1\\10256434_1_format.json\n",
      "JSON file path: data\\d1\\10256434_1_format_format.json\n",
      "File: data\\d1\\10256434_1.json\n",
      "JSON file path: data\\d1\\10256434_1_format.json\n",
      "JSON file found!\n",
      "File: data\\d1\\10256434_1_format.json\n",
      "JSON file path: data\\d1\\10256434_1_format_format.json\n"
     ]
    },
    {
     "name": "stderr",
     "output_type": "stream",
     "text": [
      "127.0.0.1 - - [07/Aug/2024 13:19:11] \"GET /api/tree HTTP/1.1\" 200 -\n"
     ]
    },
    {
     "name": "stdout",
     "output_type": "stream",
     "text": [
      "File: data\\d1\\10256434_1.json\n",
      "JSON file path: data\\d1\\10256434_1_format.json\n",
      "JSON file found!\n",
      "File: data\\d1\\10256434_1_format.json\n",
      "JSON file path: data\\d1\\10256434_1_format_format.json\n"
     ]
    },
    {
     "name": "stderr",
     "output_type": "stream",
     "text": [
      "127.0.0.1 - - [07/Aug/2024 13:19:47] \"GET /api/data HTTP/1.1\" 200 -\n",
      "127.0.0.1 - - [07/Aug/2024 13:19:47] \"GET /api/tree HTTP/1.1\" 200 -\n",
      "127.0.0.1 - - [07/Aug/2024 13:19:47] \"GET /api/data HTTP/1.1\" 200 -\n",
      "127.0.0.1 - - [07/Aug/2024 13:19:47] \"GET /api/tree HTTP/1.1\" 200 -\n"
     ]
    },
    {
     "name": "stdout",
     "output_type": "stream",
     "text": [
      "File: data\\d1\\10256434_1.json\n",
      "JSON file path: data\\d1\\10256434_1_format.json\n",
      "JSON file found!\n",
      "File: data\\d1\\10256434_1_format.json\n",
      "JSON file path: data\\d1\\10256434_1_format_format.json\n",
      "File: data\\d1\\10256434_1.json\n",
      "JSON file path: data\\d1\\10256434_1_format.json\n",
      "JSON file found!\n",
      "File: data\\d1\\10256434_1_format.json\n",
      "JSON file path: data\\d1\\10256434_1_format_format.json\n"
     ]
    },
    {
     "name": "stderr",
     "output_type": "stream",
     "text": [
      "127.0.0.1 - - [07/Aug/2024 13:19:47] \"GET /api/data HTTP/1.1\" 200 -\n",
      "127.0.0.1 - - [07/Aug/2024 13:19:47] \"GET /api/tree HTTP/1.1\" 200 -\n"
     ]
    },
    {
     "name": "stdout",
     "output_type": "stream",
     "text": [
      "File: data\\d1\\10256434_1.json\n",
      "JSON file path: data\\d1\\10256434_1_format.json\n",
      "JSON file found!\n",
      "File: data\\d1\\10256434_1_format.json\n",
      "JSON file path: data\\d1\\10256434_1_format_format.json\n"
     ]
    },
    {
     "name": "stderr",
     "output_type": "stream",
     "text": [
      "127.0.0.1 - - [07/Aug/2024 13:23:24] \"GET /api/data HTTP/1.1\" 200 -\n",
      "127.0.0.1 - - [07/Aug/2024 13:23:24] \"GET /api/tree HTTP/1.1\" 200 -\n",
      "127.0.0.1 - - [07/Aug/2024 13:23:24] \"GET /api/data HTTP/1.1\" 200 -\n",
      "127.0.0.1 - - [07/Aug/2024 13:23:24] \"GET /api/tree HTTP/1.1\" 200 -\n"
     ]
    },
    {
     "name": "stdout",
     "output_type": "stream",
     "text": [
      "File: data\\d1\\10256434_1.json\n",
      "JSON file path: data\\d1\\10256434_1_format.json\n",
      "JSON file found!\n",
      "File: data\\d1\\10256434_1_format.json\n",
      "JSON file path: data\\d1\\10256434_1_format_format.json\n",
      "File: data\\d1\\10256434_1.json\n",
      "JSON file path: data\\d1\\10256434_1_format.json\n",
      "JSON file found!\n",
      "File: data\\d1\\10256434_1_format.json\n",
      "JSON file path: data\\d1\\10256434_1_format_format.json\n"
     ]
    },
    {
     "name": "stderr",
     "output_type": "stream",
     "text": [
      "127.0.0.1 - - [07/Aug/2024 13:23:24] \"GET /api/data HTTP/1.1\" 200 -\n",
      "127.0.0.1 - - [07/Aug/2024 13:23:24] \"GET /api/tree HTTP/1.1\" 200 -\n"
     ]
    },
    {
     "name": "stdout",
     "output_type": "stream",
     "text": [
      "File: data\\d1\\10256434_1.json\n",
      "JSON file path: data\\d1\\10256434_1_format.json\n",
      "JSON file found!\n",
      "File: data\\d1\\10256434_1_format.json\n",
      "JSON file path: data\\d1\\10256434_1_format_format.json\n"
     ]
    },
    {
     "name": "stderr",
     "output_type": "stream",
     "text": [
      "127.0.0.1 - - [07/Aug/2024 13:25:01] \"GET /api/data HTTP/1.1\" 200 -\n",
      "127.0.0.1 - - [07/Aug/2024 13:25:01] \"GET /api/tree HTTP/1.1\" 200 -\n"
     ]
    },
    {
     "name": "stdout",
     "output_type": "stream",
     "text": [
      "File: data\\d1\\10256434_1.json\n",
      "JSON file path: data\\d1\\10256434_1_format.json\n",
      "JSON file found!\n",
      "File: data\\d1\\10256434_1_format.json\n",
      "JSON file path: data\\d1\\10256434_1_format_format.json\n"
     ]
    },
    {
     "name": "stderr",
     "output_type": "stream",
     "text": [
      "127.0.0.1 - - [07/Aug/2024 13:25:01] \"GET /api/data HTTP/1.1\" 200 -\n",
      "127.0.0.1 - - [07/Aug/2024 13:25:01] \"GET /api/tree HTTP/1.1\" 200 -\n",
      "127.0.0.1 - - [07/Aug/2024 13:25:01] \"GET /api/data HTTP/1.1\" 200 -\n",
      "127.0.0.1 - - [07/Aug/2024 13:25:01] \"GET /api/tree HTTP/1.1\" 200 -\n"
     ]
    },
    {
     "name": "stdout",
     "output_type": "stream",
     "text": [
      "File: data\\d1\\10256434_1.json\n",
      "JSON file path: data\\d1\\10256434_1_format.json\n",
      "JSON file found!\n",
      "File: data\\d1\\10256434_1_format.json\n",
      "JSON file path: data\\d1\\10256434_1_format_format.json\n",
      "File: data\\d1\\10256434_1.json\n",
      "JSON file path: data\\d1\\10256434_1_format.json\n",
      "JSON file found!\n",
      "File: data\\d1\\10256434_1_format.json\n",
      "JSON file path: data\\d1\\10256434_1_format_format.json\n"
     ]
    },
    {
     "name": "stderr",
     "output_type": "stream",
     "text": [
      "127.0.0.1 - - [07/Aug/2024 13:25:03] \"GET /api/data HTTP/1.1\" 200 -\n",
      "127.0.0.1 - - [07/Aug/2024 13:25:03] \"GET /api/tree HTTP/1.1\" 200 -\n",
      "127.0.0.1 - - [07/Aug/2024 13:25:03] \"GET /api/data HTTP/1.1\" 200 -\n",
      "127.0.0.1 - - [07/Aug/2024 13:25:03] \"GET /api/tree HTTP/1.1\" 200 -\n"
     ]
    },
    {
     "name": "stdout",
     "output_type": "stream",
     "text": [
      "File: data\\d1\\10256434_1.json\n",
      "JSON file path: data\\d1\\10256434_1_format.json\n",
      "JSON file found!\n",
      "File: data\\d1\\10256434_1_format.json\n",
      "JSON file path: data\\d1\\10256434_1_format_format.json\n",
      "File: data\\d1\\10256434_1.json\n",
      "JSON file path: data\\d1\\10256434_1_format.json\n",
      "JSON file found!\n",
      "File: data\\d1\\10256434_1_format.json\n",
      "JSON file path: data\\d1\\10256434_1_format_format.json\n"
     ]
    },
    {
     "name": "stderr",
     "output_type": "stream",
     "text": [
      "127.0.0.1 - - [07/Aug/2024 13:25:03] \"GET /api/data HTTP/1.1\" 200 -\n",
      "127.0.0.1 - - [07/Aug/2024 13:25:03] \"GET /api/tree HTTP/1.1\" 200 -\n"
     ]
    },
    {
     "name": "stdout",
     "output_type": "stream",
     "text": [
      "File: data\\d1\\10256434_1.json\n",
      "JSON file path: data\\d1\\10256434_1_format.json\n",
      "JSON file found!\n",
      "File: data\\d1\\10256434_1_format.json\n",
      "JSON file path: data\\d1\\10256434_1_format_format.json\n"
     ]
    },
    {
     "name": "stderr",
     "output_type": "stream",
     "text": [
      "127.0.0.1 - - [07/Aug/2024 13:25:08] \"GET /api/data HTTP/1.1\" 200 -\n",
      "127.0.0.1 - - [07/Aug/2024 13:25:08] \"GET /api/tree HTTP/1.1\" 200 -\n",
      "127.0.0.1 - - [07/Aug/2024 13:25:08] \"GET /api/data HTTP/1.1\" 200 -\n",
      "127.0.0.1 - - [07/Aug/2024 13:25:08] \"GET /api/tree HTTP/1.1\" 200 -\n",
      "127.0.0.1 - - [07/Aug/2024 13:25:08] \"GET /api/data HTTP/1.1\" 200 -\n",
      "127.0.0.1 - - [07/Aug/2024 13:25:08] \"GET /api/tree HTTP/1.1\" 200 -\n"
     ]
    },
    {
     "name": "stdout",
     "output_type": "stream",
     "text": [
      "File: data\\d1\\10256434_1.json\n",
      "JSON file path: data\\d1\\10256434_1_format.json\n",
      "JSON file found!\n",
      "File: data\\d1\\10256434_1_format.json\n",
      "JSON file path: data\\d1\\10256434_1_format_format.json\n",
      "File: data\\d1\\10256434_1.json\n",
      "JSON file path: data\\d1\\10256434_1_format.json\n",
      "JSON file found!\n",
      "File: data\\d1\\10256434_1_format.json\n",
      "JSON file path: data\\d1\\10256434_1_format_format.json\n",
      "File: data\\d1\\10256434_1.json\n",
      "JSON file path: data\\d1\\10256434_1_format.json\n",
      "JSON file found!\n",
      "File: data\\d1\\10256434_1_format.json\n",
      "JSON file path: data\\d1\\10256434_1_format_format.json\n"
     ]
    },
    {
     "name": "stderr",
     "output_type": "stream",
     "text": [
      "127.0.0.1 - - [07/Aug/2024 13:25:32] \"GET /api/data HTTP/1.1\" 200 -\n",
      "127.0.0.1 - - [07/Aug/2024 13:25:32] \"GET /api/tree HTTP/1.1\" 200 -\n",
      "127.0.0.1 - - [07/Aug/2024 13:25:32] \"GET /api/data HTTP/1.1\" 200 -\n",
      "127.0.0.1 - - [07/Aug/2024 13:25:32] \"GET /api/tree HTTP/1.1\" 200 -\n",
      "127.0.0.1 - - [07/Aug/2024 13:25:32] \"GET /api/data HTTP/1.1\" 200 -\n",
      "127.0.0.1 - - [07/Aug/2024 13:25:32] \"GET /api/tree HTTP/1.1\" 200 -\n"
     ]
    },
    {
     "name": "stdout",
     "output_type": "stream",
     "text": [
      "File: data\\d1\\10256434_1.json\n",
      "JSON file path: data\\d1\\10256434_1_format.json\n",
      "JSON file found!\n",
      "File: data\\d1\\10256434_1_format.json\n",
      "JSON file path: data\\d1\\10256434_1_format_format.json\n",
      "File: data\\d1\\10256434_1.json\n",
      "JSON file path: data\\d1\\10256434_1_format.json\n",
      "JSON file found!\n",
      "File: data\\d1\\10256434_1_format.json\n",
      "JSON file path: data\\d1\\10256434_1_format_format.json\n",
      "File: data\\d1\\10256434_1.json\n",
      "JSON file path: data\\d1\\10256434_1_format.json\n",
      "JSON file found!\n",
      "File: data\\d1\\10256434_1_format.json\n",
      "JSON file path: data\\d1\\10256434_1_format_format.json\n"
     ]
    },
    {
     "name": "stderr",
     "output_type": "stream",
     "text": [
      "127.0.0.1 - - [07/Aug/2024 13:25:34] \"GET /api/data HTTP/1.1\" 200 -\n",
      "127.0.0.1 - - [07/Aug/2024 13:25:34] \"GET /api/data HTTP/1.1\" 200 -\n",
      "127.0.0.1 - - [07/Aug/2024 13:25:34] \"GET /api/tree HTTP/1.1\" 200 -\n",
      "127.0.0.1 - - [07/Aug/2024 13:25:34] \"GET /api/tree HTTP/1.1\" 200 -\n"
     ]
    },
    {
     "name": "stdout",
     "output_type": "stream",
     "text": [
      "File: data\\d1\\10256434_1.json\n",
      "JSON file path: data\\d1\\10256434_1_format.json\n",
      "JSON file found!\n",
      "File: data\\d1\\10256434_1_format.json\n",
      "JSON file path: data\\d1\\10256434_1_format_format.json\n",
      "File: data\\d1\\10256434_1.json\n",
      "JSON file path: data\\d1\\10256434_1_format.json\n",
      "JSON file found!\n",
      "File: data\\d1\\10256434_1_format.json\n",
      "JSON file path: data\\d1\\10256434_1_format_format.json\n"
     ]
    },
    {
     "name": "stderr",
     "output_type": "stream",
     "text": [
      "127.0.0.1 - - [07/Aug/2024 13:25:35] \"GET /api/data HTTP/1.1\" 200 -\n",
      "127.0.0.1 - - [07/Aug/2024 13:25:35] \"GET /api/tree HTTP/1.1\" 200 -\n"
     ]
    },
    {
     "name": "stdout",
     "output_type": "stream",
     "text": [
      "File: data\\d1\\10256434_1.json\n",
      "JSON file path: data\\d1\\10256434_1_format.json\n",
      "JSON file found!\n",
      "File: data\\d1\\10256434_1_format.json\n",
      "JSON file path: data\\d1\\10256434_1_format_format.json\n"
     ]
    },
    {
     "name": "stderr",
     "output_type": "stream",
     "text": [
      "127.0.0.1 - - [07/Aug/2024 13:25:36] \"GET /api/data HTTP/1.1\" 200 -\n",
      "127.0.0.1 - - [07/Aug/2024 13:25:36] \"GET /api/tree HTTP/1.1\" 200 -\n",
      "127.0.0.1 - - [07/Aug/2024 13:25:36] \"GET /api/data HTTP/1.1\" 200 -\n",
      "127.0.0.1 - - [07/Aug/2024 13:25:36] \"GET /api/tree HTTP/1.1\" 200 -\n"
     ]
    },
    {
     "name": "stdout",
     "output_type": "stream",
     "text": [
      "File: data\\d1\\10256434_1.json\n",
      "JSON file path: data\\d1\\10256434_1_format.json\n",
      "JSON file found!\n",
      "File: data\\d1\\10256434_1_format.json\n",
      "JSON file path: data\\d1\\10256434_1_format_format.json\n",
      "File: data\\d1\\10256434_1.json\n",
      "JSON file path: data\\d1\\10256434_1_format.json\n",
      "JSON file found!\n",
      "File: data\\d1\\10256434_1_format.json\n",
      "JSON file path: data\\d1\\10256434_1_format_format.json\n"
     ]
    },
    {
     "name": "stderr",
     "output_type": "stream",
     "text": [
      "127.0.0.1 - - [07/Aug/2024 13:25:36] \"GET /api/data HTTP/1.1\" 200 -\n",
      "127.0.0.1 - - [07/Aug/2024 13:25:36] \"GET /api/tree HTTP/1.1\" 200 -\n"
     ]
    },
    {
     "name": "stdout",
     "output_type": "stream",
     "text": [
      "File: data\\d1\\10256434_1.json\n",
      "JSON file path: data\\d1\\10256434_1_format.json\n",
      "JSON file found!\n",
      "File: data\\d1\\10256434_1_format.json\n",
      "JSON file path: data\\d1\\10256434_1_format_format.json\n"
     ]
    },
    {
     "name": "stderr",
     "output_type": "stream",
     "text": [
      "127.0.0.1 - - [07/Aug/2024 13:26:31] \"GET /api/data HTTP/1.1\" 200 -\n",
      "127.0.0.1 - - [07/Aug/2024 13:26:31] \"GET /api/tree HTTP/1.1\" 200 -\n",
      "127.0.0.1 - - [07/Aug/2024 13:26:31] \"GET /api/data HTTP/1.1\" 200 -\n"
     ]
    },
    {
     "name": "stdout",
     "output_type": "stream",
     "text": [
      "File: data\\d1\\10256434_1.json\n",
      "JSON file path: data\\d1\\10256434_1_format.json\n",
      "JSON file found!\n",
      "File: data\\d1\\10256434_1_format.json\n",
      "JSON file path: data\\d1\\10256434_1_format_format.json\n"
     ]
    },
    {
     "name": "stderr",
     "output_type": "stream",
     "text": [
      "127.0.0.1 - - [07/Aug/2024 13:26:31] \"GET /api/tree HTTP/1.1\" 200 -\n",
      "127.0.0.1 - - [07/Aug/2024 13:26:31] \"GET /api/data HTTP/1.1\" 200 -\n",
      "127.0.0.1 - - [07/Aug/2024 13:26:31] \"GET /api/tree HTTP/1.1\" 200 -\n"
     ]
    },
    {
     "name": "stdout",
     "output_type": "stream",
     "text": [
      "File: data\\d1\\10256434_1.json\n",
      "JSON file path: data\\d1\\10256434_1_format.json\n",
      "JSON file found!\n",
      "File: data\\d1\\10256434_1_format.json\n",
      "JSON file path: data\\d1\\10256434_1_format_format.json\n",
      "File: data\\d1\\10256434_1.json\n",
      "JSON file path: data\\d1\\10256434_1_format.json\n",
      "JSON file found!\n",
      "File: data\\d1\\10256434_1_format.json\n",
      "JSON file path: data\\d1\\10256434_1_format_format.json\n"
     ]
    },
    {
     "name": "stderr",
     "output_type": "stream",
     "text": [
      "127.0.0.1 - - [07/Aug/2024 13:37:01] \"GET /api/data HTTP/1.1\" 200 -\n",
      "127.0.0.1 - - [07/Aug/2024 13:37:01] \"GET /api/tree HTTP/1.1\" 200 -\n",
      "127.0.0.1 - - [07/Aug/2024 13:37:01] \"GET /api/data HTTP/1.1\" 200 -\n",
      "127.0.0.1 - - [07/Aug/2024 13:37:01] \"GET /api/tree HTTP/1.1\" 200 -\n"
     ]
    },
    {
     "name": "stdout",
     "output_type": "stream",
     "text": [
      "File: data\\d1\\10256434_1.json\n",
      "JSON file path: data\\d1\\10256434_1_format.json\n",
      "JSON file found!\n",
      "File: data\\d1\\10256434_1_format.json\n",
      "JSON file path: data\\d1\\10256434_1_format_format.json\n",
      "File: data\\d1\\10256434_1.json\n",
      "JSON file path: data\\d1\\10256434_1_format.json\n",
      "JSON file found!\n",
      "File: data\\d1\\10256434_1_format.json\n",
      "JSON file path: data\\d1\\10256434_1_format_format.json\n"
     ]
    },
    {
     "name": "stderr",
     "output_type": "stream",
     "text": [
      "127.0.0.1 - - [07/Aug/2024 13:37:01] \"GET /api/data HTTP/1.1\" 200 -\n",
      "127.0.0.1 - - [07/Aug/2024 13:37:01] \"GET /api/tree HTTP/1.1\" 200 -\n"
     ]
    },
    {
     "name": "stdout",
     "output_type": "stream",
     "text": [
      "File: data\\d1\\10256434_1.json\n",
      "JSON file path: data\\d1\\10256434_1_format.json\n",
      "JSON file found!\n",
      "File: data\\d1\\10256434_1_format.json\n",
      "JSON file path: data\\d1\\10256434_1_format_format.json\n"
     ]
    },
    {
     "name": "stderr",
     "output_type": "stream",
     "text": [
      "127.0.0.1 - - [07/Aug/2024 13:41:28] \"GET /api/data HTTP/1.1\" 200 -\n",
      "127.0.0.1 - - [07/Aug/2024 13:41:28] \"GET /api/tree HTTP/1.1\" 200 -\n"
     ]
    },
    {
     "name": "stdout",
     "output_type": "stream",
     "text": [
      "File: data\\d1\\10256434_1.json\n",
      "JSON file path: data\\d1\\10256434_1_format.json\n",
      "JSON file found!\n",
      "File: data\\d1\\10256434_1_format.json\n",
      "JSON file path: data\\d1\\10256434_1_format_format.json\n"
     ]
    },
    {
     "name": "stderr",
     "output_type": "stream",
     "text": [
      "127.0.0.1 - - [07/Aug/2024 13:41:28] \"GET /api/data HTTP/1.1\" 200 -\n",
      "127.0.0.1 - - [07/Aug/2024 13:41:28] \"GET /api/tree HTTP/1.1\" 200 -\n",
      "127.0.0.1 - - [07/Aug/2024 13:41:28] \"GET /api/data HTTP/1.1\" 200 -\n",
      "127.0.0.1 - - [07/Aug/2024 13:41:28] \"GET /api/tree HTTP/1.1\" 200 -\n"
     ]
    },
    {
     "name": "stdout",
     "output_type": "stream",
     "text": [
      "File: data\\d1\\10256434_1.json\n",
      "JSON file path: data\\d1\\10256434_1_format.json\n",
      "JSON file found!\n",
      "File: data\\d1\\10256434_1_format.json\n",
      "JSON file path: data\\d1\\10256434_1_format_format.json\n",
      "File: data\\d1\\10256434_1.json\n",
      "JSON file path: data\\d1\\10256434_1_format.json\n",
      "JSON file found!\n",
      "File: data\\d1\\10256434_1_format.json\n",
      "JSON file path: data\\d1\\10256434_1_format_format.json\n"
     ]
    },
    {
     "name": "stderr",
     "output_type": "stream",
     "text": [
      "127.0.0.1 - - [07/Aug/2024 13:41:57] \"GET /api/data HTTP/1.1\" 200 -\n",
      "127.0.0.1 - - [07/Aug/2024 13:41:57] \"GET /api/tree HTTP/1.1\" 200 -\n"
     ]
    },
    {
     "name": "stdout",
     "output_type": "stream",
     "text": [
      "File: data\\d1\\10256434_1.json\n",
      "JSON file path: data\\d1\\10256434_1_format.json\n",
      "JSON file found!\n",
      "File: data\\d1\\10256434_1_format.json\n",
      "JSON file path: data\\d1\\10256434_1_format_format.json\n"
     ]
    },
    {
     "name": "stderr",
     "output_type": "stream",
     "text": [
      "127.0.0.1 - - [07/Aug/2024 13:41:57] \"GET /api/data HTTP/1.1\" 200 -\n",
      "127.0.0.1 - - [07/Aug/2024 13:41:57] \"GET /api/tree HTTP/1.1\" 200 -\n",
      "127.0.0.1 - - [07/Aug/2024 13:41:57] \"GET /api/data HTTP/1.1\" 200 -\n",
      "127.0.0.1 - - [07/Aug/2024 13:41:57] \"GET /api/tree HTTP/1.1\" 200 -\n"
     ]
    },
    {
     "name": "stdout",
     "output_type": "stream",
     "text": [
      "File: data\\d1\\10256434_1.json\n",
      "JSON file path: data\\d1\\10256434_1_format.json\n",
      "JSON file found!\n",
      "File: data\\d1\\10256434_1_format.json\n",
      "JSON file path: data\\d1\\10256434_1_format_format.json\n",
      "File: data\\d1\\10256434_1.json\n",
      "JSON file path: data\\d1\\10256434_1_format.json\n",
      "JSON file found!\n",
      "File: data\\d1\\10256434_1_format.json\n",
      "JSON file path: data\\d1\\10256434_1_format_format.json\n"
     ]
    },
    {
     "name": "stderr",
     "output_type": "stream",
     "text": [
      "127.0.0.1 - - [07/Aug/2024 13:42:14] \"GET /api/data HTTP/1.1\" 200 -\n",
      "127.0.0.1 - - [07/Aug/2024 13:42:14] \"GET /api/tree HTTP/1.1\" 200 -\n",
      "127.0.0.1 - - [07/Aug/2024 13:42:14] \"GET /api/data HTTP/1.1\" 200 -\n",
      "127.0.0.1 - - [07/Aug/2024 13:42:14] \"GET /api/tree HTTP/1.1\" 200 -\n"
     ]
    },
    {
     "name": "stdout",
     "output_type": "stream",
     "text": [
      "File: data\\d1\\10256434_1.json\n",
      "JSON file path: data\\d1\\10256434_1_format.json\n",
      "JSON file found!\n",
      "File: data\\d1\\10256434_1_format.json\n",
      "JSON file path: data\\d1\\10256434_1_format_format.json\n",
      "File: data\\d1\\10256434_1.json\n",
      "JSON file path: data\\d1\\10256434_1_format.json\n",
      "JSON file found!\n",
      "File: data\\d1\\10256434_1_format.json\n",
      "JSON file path: data\\d1\\10256434_1_format_format.json\n"
     ]
    },
    {
     "name": "stderr",
     "output_type": "stream",
     "text": [
      "127.0.0.1 - - [07/Aug/2024 13:42:14] \"GET /api/data HTTP/1.1\" 200 -\n",
      "127.0.0.1 - - [07/Aug/2024 13:42:14] \"GET /api/tree HTTP/1.1\" 200 -\n"
     ]
    },
    {
     "name": "stdout",
     "output_type": "stream",
     "text": [
      "File: data\\d1\\10256434_1.json\n",
      "JSON file path: data\\d1\\10256434_1_format.json\n",
      "JSON file found!\n",
      "File: data\\d1\\10256434_1_format.json\n",
      "JSON file path: data\\d1\\10256434_1_format_format.json\n"
     ]
    },
    {
     "name": "stderr",
     "output_type": "stream",
     "text": [
      "127.0.0.1 - - [07/Aug/2024 13:42:21] \"GET /api/data HTTP/1.1\" 200 -\n",
      "127.0.0.1 - - [07/Aug/2024 13:42:21] \"GET /api/tree HTTP/1.1\" 200 -\n",
      "127.0.0.1 - - [07/Aug/2024 13:42:21] \"GET /api/data HTTP/1.1\" 200 -\n"
     ]
    },
    {
     "name": "stdout",
     "output_type": "stream",
     "text": [
      "File: data\\d1\\10256434_1.json\n",
      "JSON file path: data\\d1\\10256434_1_format.json\n",
      "JSON file found!\n",
      "File: data\\d1\\10256434_1_format.json\n",
      "JSON file path: data\\d1\\10256434_1_format_format.json\n"
     ]
    },
    {
     "name": "stderr",
     "output_type": "stream",
     "text": [
      "127.0.0.1 - - [07/Aug/2024 13:42:21] \"GET /api/tree HTTP/1.1\" 200 -\n",
      "127.0.0.1 - - [07/Aug/2024 13:42:21] \"GET /api/data HTTP/1.1\" 200 -\n"
     ]
    },
    {
     "name": "stdout",
     "output_type": "stream",
     "text": [
      "File: data\\d1\\10256434_1.json\n",
      "JSON file path: data\\d1\\10256434_1_format.json\n",
      "JSON file found!\n",
      "File: data\\d1\\10256434_1_format.json\n",
      "JSON file path: data\\d1\\10256434_1_format_format.json\n"
     ]
    },
    {
     "name": "stderr",
     "output_type": "stream",
     "text": [
      "127.0.0.1 - - [07/Aug/2024 13:42:21] \"GET /api/tree HTTP/1.1\" 200 -\n"
     ]
    },
    {
     "name": "stdout",
     "output_type": "stream",
     "text": [
      "File: data\\d1\\10256434_1.json\n",
      "JSON file path: data\\d1\\10256434_1_format.json\n",
      "JSON file found!\n",
      "File: data\\d1\\10256434_1_format.json\n",
      "JSON file path: data\\d1\\10256434_1_format_format.json\n"
     ]
    },
    {
     "name": "stderr",
     "output_type": "stream",
     "text": [
      "127.0.0.1 - - [07/Aug/2024 13:42:27] \"GET /api/data HTTP/1.1\" 200 -\n",
      "127.0.0.1 - - [07/Aug/2024 13:42:27] \"GET /api/tree HTTP/1.1\" 200 -\n",
      "127.0.0.1 - - [07/Aug/2024 13:42:27] \"GET /api/data HTTP/1.1\" 200 -\n",
      "127.0.0.1 - - [07/Aug/2024 13:42:27] \"GET /api/tree HTTP/1.1\" 200 -\n"
     ]
    },
    {
     "name": "stdout",
     "output_type": "stream",
     "text": [
      "File: data\\d1\\10256434_1.json\n",
      "JSON file path: data\\d1\\10256434_1_format.json\n",
      "JSON file found!\n",
      "File: data\\d1\\10256434_1_format.json\n",
      "JSON file path: data\\d1\\10256434_1_format_format.json\n",
      "File: data\\d1\\10256434_1.json\n",
      "JSON file path: data\\d1\\10256434_1_format.json\n",
      "JSON file found!\n",
      "File: data\\d1\\10256434_1_format.json\n",
      "JSON file path: data\\d1\\10256434_1_format_format.json\n"
     ]
    },
    {
     "name": "stderr",
     "output_type": "stream",
     "text": [
      "127.0.0.1 - - [07/Aug/2024 13:42:27] \"GET /api/data HTTP/1.1\" 200 -\n",
      "127.0.0.1 - - [07/Aug/2024 13:42:28] \"GET /api/tree HTTP/1.1\" 200 -\n"
     ]
    },
    {
     "name": "stdout",
     "output_type": "stream",
     "text": [
      "File: data\\d1\\10256434_1.json\n",
      "JSON file path: data\\d1\\10256434_1_format.json\n",
      "JSON file found!\n",
      "File: data\\d1\\10256434_1_format.json\n",
      "JSON file path: data\\d1\\10256434_1_format_format.json\n"
     ]
    },
    {
     "name": "stderr",
     "output_type": "stream",
     "text": [
      "127.0.0.1 - - [07/Aug/2024 13:42:30] \"GET /api/data HTTP/1.1\" 200 -\n",
      "127.0.0.1 - - [07/Aug/2024 13:42:30] \"GET /api/tree HTTP/1.1\" 200 -\n",
      "127.0.0.1 - - [07/Aug/2024 13:42:30] \"GET /api/data HTTP/1.1\" 200 -\n",
      "127.0.0.1 - - [07/Aug/2024 13:42:30] \"GET /api/tree HTTP/1.1\" 200 -\n"
     ]
    },
    {
     "name": "stdout",
     "output_type": "stream",
     "text": [
      "File: data\\d1\\10256434_1.json\n",
      "JSON file path: data\\d1\\10256434_1_format.json\n",
      "JSON file found!\n",
      "File: data\\d1\\10256434_1_format.json\n",
      "JSON file path: data\\d1\\10256434_1_format_format.json\n",
      "File: data\\d1\\10256434_1.json\n",
      "JSON file path: data\\d1\\10256434_1_format.json\n",
      "JSON file found!\n",
      "File: data\\d1\\10256434_1_format.json\n",
      "JSON file path: data\\d1\\10256434_1_format_format.json\n"
     ]
    },
    {
     "name": "stderr",
     "output_type": "stream",
     "text": [
      "127.0.0.1 - - [07/Aug/2024 13:42:30] \"GET /api/data HTTP/1.1\" 200 -\n",
      "127.0.0.1 - - [07/Aug/2024 13:42:30] \"GET /api/tree HTTP/1.1\" 200 -\n"
     ]
    },
    {
     "name": "stdout",
     "output_type": "stream",
     "text": [
      "File: data\\d1\\10256434_1.json\n",
      "JSON file path: data\\d1\\10256434_1_format.json\n",
      "JSON file found!\n",
      "File: data\\d1\\10256434_1_format.json\n",
      "JSON file path: data\\d1\\10256434_1_format_format.json\n"
     ]
    },
    {
     "name": "stderr",
     "output_type": "stream",
     "text": [
      "127.0.0.1 - - [07/Aug/2024 13:42:31] \"GET /api/data HTTP/1.1\" 200 -\n",
      "127.0.0.1 - - [07/Aug/2024 13:42:31] \"GET /api/tree HTTP/1.1\" 200 -\n"
     ]
    },
    {
     "name": "stdout",
     "output_type": "stream",
     "text": [
      "File: data\\d1\\10256434_1.json\n",
      "JSON file path: data\\d1\\10256434_1_format.json\n",
      "JSON file found!\n",
      "File: data\\d1\\10256434_1_format.json\n",
      "JSON file path: data\\d1\\10256434_1_format_format.json\n"
     ]
    },
    {
     "name": "stderr",
     "output_type": "stream",
     "text": [
      "127.0.0.1 - - [07/Aug/2024 13:42:32] \"GET /api/data HTTP/1.1\" 200 -\n",
      "127.0.0.1 - - [07/Aug/2024 13:42:32] \"GET /api/tree HTTP/1.1\" 200 -\n",
      "127.0.0.1 - - [07/Aug/2024 13:42:32] \"GET /api/data HTTP/1.1\" 200 -\n"
     ]
    },
    {
     "name": "stdout",
     "output_type": "stream",
     "text": [
      "File: data\\d1\\10256434_1.json\n",
      "JSON file path: data\\d1\\10256434_1_format.json\n",
      "JSON file found!\n",
      "File: data\\d1\\10256434_1_format.json\n",
      "JSON file path: data\\d1\\10256434_1_format_format.json\n"
     ]
    },
    {
     "name": "stderr",
     "output_type": "stream",
     "text": [
      "127.0.0.1 - - [07/Aug/2024 13:42:32] \"GET /api/tree HTTP/1.1\" 200 -\n"
     ]
    },
    {
     "name": "stdout",
     "output_type": "stream",
     "text": [
      "File: data\\d1\\10256434_1.json\n",
      "JSON file path: data\\d1\\10256434_1_format.json\n",
      "JSON file found!\n",
      "File: data\\d1\\10256434_1_format.json\n",
      "JSON file path: data\\d1\\10256434_1_format_format.json\n"
     ]
    },
    {
     "name": "stderr",
     "output_type": "stream",
     "text": [
      "127.0.0.1 - - [07/Aug/2024 13:43:13] \"GET /api/data HTTP/1.1\" 200 -\n",
      "127.0.0.1 - - [07/Aug/2024 13:43:13] \"GET /api/tree HTTP/1.1\" 200 -\n"
     ]
    },
    {
     "name": "stdout",
     "output_type": "stream",
     "text": [
      "File: data\\d1\\10256434_1.json\n",
      "JSON file path: data\\d1\\10256434_1_format.json\n",
      "JSON file found!\n",
      "File: data\\d1\\10256434_1_format.json\n",
      "JSON file path: data\\d1\\10256434_1_format_format.json\n"
     ]
    },
    {
     "name": "stderr",
     "output_type": "stream",
     "text": [
      "127.0.0.1 - - [07/Aug/2024 13:43:13] \"GET /api/data HTTP/1.1\" 200 -\n",
      "127.0.0.1 - - [07/Aug/2024 13:43:13] \"GET /api/tree HTTP/1.1\" 200 -\n",
      "127.0.0.1 - - [07/Aug/2024 13:43:13] \"GET /api/data HTTP/1.1\" 200 -\n",
      "127.0.0.1 - - [07/Aug/2024 13:43:13] \"GET /api/tree HTTP/1.1\" 200 -\n"
     ]
    },
    {
     "name": "stdout",
     "output_type": "stream",
     "text": [
      "File: data\\d1\\10256434_1.json\n",
      "JSON file path: data\\d1\\10256434_1_format.json\n",
      "JSON file found!\n",
      "File: data\\d1\\10256434_1_format.json\n",
      "JSON file path: data\\d1\\10256434_1_format_format.json\n",
      "File: data\\d1\\10256434_1.json\n",
      "JSON file path: data\\d1\\10256434_1_format.json\n",
      "JSON file found!\n",
      "File: data\\d1\\10256434_1_format.json\n",
      "JSON file path: data\\d1\\10256434_1_format_format.json\n"
     ]
    },
    {
     "name": "stderr",
     "output_type": "stream",
     "text": [
      "127.0.0.1 - - [07/Aug/2024 13:44:55] \"GET /api/data HTTP/1.1\" 200 -\n",
      "127.0.0.1 - - [07/Aug/2024 13:44:55] \"GET /api/tree HTTP/1.1\" 200 -\n",
      "127.0.0.1 - - [07/Aug/2024 13:44:55] \"GET /api/data HTTP/1.1\" 200 -\n",
      "127.0.0.1 - - [07/Aug/2024 13:44:55] \"GET /api/tree HTTP/1.1\" 200 -\n"
     ]
    },
    {
     "name": "stdout",
     "output_type": "stream",
     "text": [
      "File: data\\d1\\10256434_1.json\n",
      "JSON file path: data\\d1\\10256434_1_format.json\n",
      "JSON file found!\n",
      "File: data\\d1\\10256434_1_format.json\n",
      "JSON file path: data\\d1\\10256434_1_format_format.json\n",
      "File: data\\d1\\10256434_1.json\n",
      "JSON file path: data\\d1\\10256434_1_format.json\n",
      "JSON file found!\n",
      "File: data\\d1\\10256434_1_format.json\n",
      "JSON file path: data\\d1\\10256434_1_format_format.json\n"
     ]
    },
    {
     "name": "stderr",
     "output_type": "stream",
     "text": [
      "127.0.0.1 - - [07/Aug/2024 13:44:55] \"GET /api/data HTTP/1.1\" 200 -\n",
      "127.0.0.1 - - [07/Aug/2024 13:44:55] \"GET /api/tree HTTP/1.1\" 200 -\n"
     ]
    },
    {
     "name": "stdout",
     "output_type": "stream",
     "text": [
      "File: data\\d1\\10256434_1.json\n",
      "JSON file path: data\\d1\\10256434_1_format.json\n",
      "JSON file found!\n",
      "File: data\\d1\\10256434_1_format.json\n",
      "JSON file path: data\\d1\\10256434_1_format_format.json\n"
     ]
    },
    {
     "name": "stderr",
     "output_type": "stream",
     "text": [
      "127.0.0.1 - - [07/Aug/2024 13:45:15] \"GET /api/data HTTP/1.1\" 200 -\n",
      "127.0.0.1 - - [07/Aug/2024 13:45:15] \"GET /api/tree HTTP/1.1\" 200 -\n",
      "127.0.0.1 - - [07/Aug/2024 13:45:15] \"GET /api/data HTTP/1.1\" 200 -\n",
      "127.0.0.1 - - [07/Aug/2024 13:45:15] \"GET /api/tree HTTP/1.1\" 200 -\n",
      "127.0.0.1 - - [07/Aug/2024 13:45:15] \"GET /api/data HTTP/1.1\" 200 -\n"
     ]
    },
    {
     "name": "stdout",
     "output_type": "stream",
     "text": [
      "File: data\\d1\\10256434_1.json\n",
      "JSON file path: data\\d1\\10256434_1_format.json\n",
      "JSON file found!\n",
      "File: data\\d1\\10256434_1_format.json\n",
      "JSON file path: data\\d1\\10256434_1_format_format.json\n",
      "File: data\\d1\\10256434_1.json\n",
      "JSON file path: data\\d1\\10256434_1_format.json\n",
      "JSON file found!\n",
      "File: data\\d1\\10256434_1_format.json\n",
      "JSON file path: data\\d1\\10256434_1_format_format.json\n"
     ]
    },
    {
     "name": "stderr",
     "output_type": "stream",
     "text": [
      "127.0.0.1 - - [07/Aug/2024 13:45:15] \"GET /api/tree HTTP/1.1\" 200 -\n"
     ]
    },
    {
     "name": "stdout",
     "output_type": "stream",
     "text": [
      "File: data\\d1\\10256434_1.json\n",
      "JSON file path: data\\d1\\10256434_1_format.json\n",
      "JSON file found!\n",
      "File: data\\d1\\10256434_1_format.json\n",
      "JSON file path: data\\d1\\10256434_1_format_format.json\n"
     ]
    },
    {
     "name": "stderr",
     "output_type": "stream",
     "text": [
      "127.0.0.1 - - [07/Aug/2024 13:45:20] \"GET /api/data HTTP/1.1\" 200 -\n",
      "127.0.0.1 - - [07/Aug/2024 13:45:20] \"GET /api/tree HTTP/1.1\" 200 -\n",
      "127.0.0.1 - - [07/Aug/2024 13:45:20] \"GET /api/data HTTP/1.1\" 200 -\n",
      "127.0.0.1 - - [07/Aug/2024 13:45:20] \"GET /api/tree HTTP/1.1\" 200 -\n"
     ]
    },
    {
     "name": "stdout",
     "output_type": "stream",
     "text": [
      "File: data\\d1\\10256434_1.json\n",
      "JSON file path: data\\d1\\10256434_1_format.json\n",
      "JSON file found!\n",
      "File: data\\d1\\10256434_1_format.json\n",
      "JSON file path: data\\d1\\10256434_1_format_format.json\n",
      "File: data\\d1\\10256434_1.json\n",
      "JSON file path: data\\d1\\10256434_1_format.json\n",
      "JSON file found!\n",
      "File: data\\d1\\10256434_1_format.json\n",
      "JSON file path: data\\d1\\10256434_1_format_format.json\n"
     ]
    },
    {
     "name": "stderr",
     "output_type": "stream",
     "text": [
      "127.0.0.1 - - [07/Aug/2024 13:45:20] \"GET /api/data HTTP/1.1\" 200 -\n",
      "127.0.0.1 - - [07/Aug/2024 13:45:20] \"GET /api/tree HTTP/1.1\" 200 -\n"
     ]
    },
    {
     "name": "stdout",
     "output_type": "stream",
     "text": [
      "File: data\\d1\\10256434_1.json\n",
      "JSON file path: data\\d1\\10256434_1_format.json\n",
      "JSON file found!\n",
      "File: data\\d1\\10256434_1_format.json\n",
      "JSON file path: data\\d1\\10256434_1_format_format.json\n"
     ]
    },
    {
     "name": "stderr",
     "output_type": "stream",
     "text": [
      "127.0.0.1 - - [07/Aug/2024 13:45:22] \"GET /api/data HTTP/1.1\" 200 -\n",
      "127.0.0.1 - - [07/Aug/2024 13:45:22] \"GET /api/data HTTP/1.1\" 200 -\n",
      "127.0.0.1 - - [07/Aug/2024 13:45:22] \"GET /api/tree HTTP/1.1\" 200 -\n",
      "127.0.0.1 - - [07/Aug/2024 13:45:22] \"GET /api/tree HTTP/1.1\" 200 -\n",
      "127.0.0.1 - - [07/Aug/2024 13:45:22] \"GET /api/data HTTP/1.1\" 200 -\n"
     ]
    },
    {
     "name": "stdout",
     "output_type": "stream",
     "text": [
      "File: data\\d1\\10256434_1.json\n",
      "JSON file path: data\\d1\\10256434_1_format.json\n",
      "JSON file found!\n",
      "File: data\\d1\\10256434_1_format.json\n",
      "JSON file path: data\\d1\\10256434_1_format_format.json\n",
      "File: data\\d1\\10256434_1.json\n",
      "JSON file path: data\\d1\\10256434_1_format.json\n",
      "JSON file found!\n",
      "File: data\\d1\\10256434_1_format.json\n",
      "JSON file path: data\\d1\\10256434_1_format_format.json\n"
     ]
    },
    {
     "name": "stderr",
     "output_type": "stream",
     "text": [
      "127.0.0.1 - - [07/Aug/2024 13:45:22] \"GET /api/tree HTTP/1.1\" 200 -\n"
     ]
    },
    {
     "name": "stdout",
     "output_type": "stream",
     "text": [
      "File: data\\d1\\10256434_1.json\n",
      "JSON file path: data\\d1\\10256434_1_format.json\n",
      "JSON file found!\n",
      "File: data\\d1\\10256434_1_format.json\n",
      "JSON file path: data\\d1\\10256434_1_format_format.json\n"
     ]
    },
    {
     "name": "stderr",
     "output_type": "stream",
     "text": [
      "127.0.0.1 - - [07/Aug/2024 13:45:24] \"GET /api/data HTTP/1.1\" 200 -\n",
      "127.0.0.1 - - [07/Aug/2024 13:45:24] \"GET /api/tree HTTP/1.1\" 200 -\n",
      "127.0.0.1 - - [07/Aug/2024 13:45:24] \"GET /api/data HTTP/1.1\" 200 -\n",
      "127.0.0.1 - - [07/Aug/2024 13:45:24] \"GET /api/tree HTTP/1.1\" 200 -\n"
     ]
    },
    {
     "name": "stdout",
     "output_type": "stream",
     "text": [
      "File: data\\d1\\10256434_1.json\n",
      "JSON file path: data\\d1\\10256434_1_format.json\n",
      "JSON file found!\n",
      "File: data\\d1\\10256434_1_format.json\n",
      "JSON file path: data\\d1\\10256434_1_format_format.json\n",
      "File: data\\d1\\10256434_1.json\n",
      "JSON file path: data\\d1\\10256434_1_format.json\n",
      "JSON file found!\n",
      "File: data\\d1\\10256434_1_format.json\n",
      "JSON file path: data\\d1\\10256434_1_format_format.json\n"
     ]
    },
    {
     "name": "stderr",
     "output_type": "stream",
     "text": [
      "127.0.0.1 - - [07/Aug/2024 13:45:24] \"GET /api/data HTTP/1.1\" 200 -\n",
      "127.0.0.1 - - [07/Aug/2024 13:45:24] \"GET /api/tree HTTP/1.1\" 200 -\n"
     ]
    },
    {
     "name": "stdout",
     "output_type": "stream",
     "text": [
      "File: data\\d1\\10256434_1.json\n",
      "JSON file path: data\\d1\\10256434_1_format.json\n",
      "JSON file found!\n",
      "File: data\\d1\\10256434_1_format.json\n",
      "JSON file path: data\\d1\\10256434_1_format_format.json\n"
     ]
    },
    {
     "name": "stderr",
     "output_type": "stream",
     "text": [
      "127.0.0.1 - - [07/Aug/2024 13:45:27] \"GET /api/data HTTP/1.1\" 200 -\n",
      "127.0.0.1 - - [07/Aug/2024 13:45:27] \"GET /api/tree HTTP/1.1\" 200 -\n",
      "127.0.0.1 - - [07/Aug/2024 13:45:27] \"GET /api/data HTTP/1.1\" 200 -\n",
      "127.0.0.1 - - [07/Aug/2024 13:45:27] \"GET /api/tree HTTP/1.1\" 200 -\n"
     ]
    },
    {
     "name": "stdout",
     "output_type": "stream",
     "text": [
      "File: data\\d1\\10256434_1.json\n",
      "JSON file path: data\\d1\\10256434_1_format.json\n",
      "JSON file found!\n",
      "File: data\\d1\\10256434_1_format.json\n",
      "JSON file path: data\\d1\\10256434_1_format_format.json\n",
      "File: data\\d1\\10256434_1.json\n",
      "JSON file path: data\\d1\\10256434_1_format.json\n",
      "JSON file found!\n",
      "File: data\\d1\\10256434_1_format.json\n",
      "JSON file path: data\\d1\\10256434_1_format_format.json\n"
     ]
    },
    {
     "name": "stderr",
     "output_type": "stream",
     "text": [
      "127.0.0.1 - - [07/Aug/2024 13:45:27] \"GET /api/data HTTP/1.1\" 200 -\n",
      "127.0.0.1 - - [07/Aug/2024 13:45:27] \"GET /api/tree HTTP/1.1\" 200 -\n"
     ]
    },
    {
     "name": "stdout",
     "output_type": "stream",
     "text": [
      "File: data\\d1\\10256434_1.json\n",
      "JSON file path: data\\d1\\10256434_1_format.json\n",
      "JSON file found!\n",
      "File: data\\d1\\10256434_1_format.json\n",
      "JSON file path: data\\d1\\10256434_1_format_format.json\n"
     ]
    },
    {
     "name": "stderr",
     "output_type": "stream",
     "text": [
      "127.0.0.1 - - [07/Aug/2024 13:46:14] \"GET /api/data HTTP/1.1\" 200 -\n",
      "127.0.0.1 - - [07/Aug/2024 13:46:14] \"GET /api/tree HTTP/1.1\" 200 -\n",
      "127.0.0.1 - - [07/Aug/2024 13:46:14] \"GET /api/data HTTP/1.1\" 200 -\n",
      "127.0.0.1 - - [07/Aug/2024 13:46:14] \"GET /api/tree HTTP/1.1\" 200 -\n"
     ]
    },
    {
     "name": "stdout",
     "output_type": "stream",
     "text": [
      "File: data\\d1\\10256434_1.json\n",
      "JSON file path: data\\d1\\10256434_1_format.json\n",
      "JSON file found!\n",
      "File: data\\d1\\10256434_1_format.json\n",
      "JSON file path: data\\d1\\10256434_1_format_format.json\n",
      "File: data\\d1\\10256434_1.json\n",
      "JSON file path: data\\d1\\10256434_1_format.json\n",
      "JSON file found!\n",
      "File: data\\d1\\10256434_1_format.json\n",
      "JSON file path: data\\d1\\10256434_1_format_format.json\n"
     ]
    },
    {
     "name": "stderr",
     "output_type": "stream",
     "text": [
      "127.0.0.1 - - [07/Aug/2024 13:46:15] \"GET /api/data HTTP/1.1\" 200 -\n",
      "127.0.0.1 - - [07/Aug/2024 13:46:15] \"GET /api/tree HTTP/1.1\" 200 -\n"
     ]
    },
    {
     "name": "stdout",
     "output_type": "stream",
     "text": [
      "File: data\\d1\\10256434_1.json\n",
      "JSON file path: data\\d1\\10256434_1_format.json\n",
      "JSON file found!\n",
      "File: data\\d1\\10256434_1_format.json\n",
      "JSON file path: data\\d1\\10256434_1_format_format.json\n"
     ]
    },
    {
     "name": "stderr",
     "output_type": "stream",
     "text": [
      "127.0.0.1 - - [07/Aug/2024 13:46:17] \"GET /api/data HTTP/1.1\" 200 -\n",
      "127.0.0.1 - - [07/Aug/2024 13:46:17] \"GET /api/tree HTTP/1.1\" 200 -\n",
      "127.0.0.1 - - [07/Aug/2024 13:46:17] \"GET /api/data HTTP/1.1\" 200 -\n",
      "127.0.0.1 - - [07/Aug/2024 13:46:17] \"GET /api/tree HTTP/1.1\" 200 -\n"
     ]
    },
    {
     "name": "stdout",
     "output_type": "stream",
     "text": [
      "File: data\\d1\\10256434_1.json\n",
      "JSON file path: data\\d1\\10256434_1_format.json\n",
      "JSON file found!\n",
      "File: data\\d1\\10256434_1_format.json\n",
      "JSON file path: data\\d1\\10256434_1_format_format.json\n",
      "File: data\\d1\\10256434_1.json\n",
      "JSON file path: data\\d1\\10256434_1_format.json\n",
      "JSON file found!\n",
      "File: data\\d1\\10256434_1_format.json\n",
      "JSON file path: data\\d1\\10256434_1_format_format.json\n"
     ]
    },
    {
     "name": "stderr",
     "output_type": "stream",
     "text": [
      "127.0.0.1 - - [07/Aug/2024 13:46:17] \"GET /api/data HTTP/1.1\" 200 -\n",
      "127.0.0.1 - - [07/Aug/2024 13:46:17] \"GET /api/tree HTTP/1.1\" 200 -\n"
     ]
    },
    {
     "name": "stdout",
     "output_type": "stream",
     "text": [
      "File: data\\d1\\10256434_1.json\n",
      "JSON file path: data\\d1\\10256434_1_format.json\n",
      "JSON file found!\n",
      "File: data\\d1\\10256434_1_format.json\n",
      "JSON file path: data\\d1\\10256434_1_format_format.json\n"
     ]
    },
    {
     "name": "stderr",
     "output_type": "stream",
     "text": [
      "127.0.0.1 - - [07/Aug/2024 13:46:22] \"GET /api/data HTTP/1.1\" 200 -\n",
      "127.0.0.1 - - [07/Aug/2024 13:46:22] \"GET /api/data HTTP/1.1\" 200 -\n",
      "127.0.0.1 - - [07/Aug/2024 13:46:22] \"GET /api/tree HTTP/1.1\" 200 -\n",
      "127.0.0.1 - - [07/Aug/2024 13:46:22] \"GET /api/tree HTTP/1.1\" 200 -\n",
      "127.0.0.1 - - [07/Aug/2024 13:46:22] \"GET /api/data HTTP/1.1\" 200 -\n",
      "127.0.0.1 - - [07/Aug/2024 13:46:22] \"GET /api/tree HTTP/1.1\" 200 -\n"
     ]
    },
    {
     "name": "stdout",
     "output_type": "stream",
     "text": [
      "File: data\\d1\\10256434_1.json\n",
      "JSON file path: data\\d1\\10256434_1_format.json\n",
      "JSON file found!\n",
      "File: data\\d1\\10256434_1_format.json\n",
      "JSON file path: data\\d1\\10256434_1_format_format.json\n",
      "File: data\\d1\\10256434_1.json\n",
      "JSON file path: data\\d1\\10256434_1_format.json\n",
      "JSON file found!\n",
      "File: data\\d1\\10256434_1_format.json\n",
      "JSON file path: data\\d1\\10256434_1_format_format.json\n",
      "File: data\\d1\\10256434_1.json\n",
      "JSON file path: data\\d1\\10256434_1_format.json\n",
      "JSON file found!\n",
      "File: data\\d1\\10256434_1_format.json\n",
      "JSON file path: data\\d1\\10256434_1_format_format.json\n"
     ]
    },
    {
     "name": "stderr",
     "output_type": "stream",
     "text": [
      "127.0.0.1 - - [07/Aug/2024 13:46:52] \"GET /api/data HTTP/1.1\" 200 -\n",
      "127.0.0.1 - - [07/Aug/2024 13:46:52] \"GET /api/tree HTTP/1.1\" 200 -\n",
      "127.0.0.1 - - [07/Aug/2024 13:46:53] \"GET /api/data HTTP/1.1\" 200 -\n"
     ]
    },
    {
     "name": "stdout",
     "output_type": "stream",
     "text": [
      "File: data\\d1\\10256434_1.json\n",
      "JSON file path: data\\d1\\10256434_1_format.json\n",
      "JSON file found!\n",
      "File: data\\d1\\10256434_1_format.json\n",
      "JSON file path: data\\d1\\10256434_1_format_format.json\n"
     ]
    },
    {
     "name": "stderr",
     "output_type": "stream",
     "text": [
      "127.0.0.1 - - [07/Aug/2024 13:46:53] \"GET /api/tree HTTP/1.1\" 200 -\n",
      "127.0.0.1 - - [07/Aug/2024 13:46:53] \"GET /api/data HTTP/1.1\" 200 -\n",
      "127.0.0.1 - - [07/Aug/2024 13:46:53] \"GET /api/tree HTTP/1.1\" 200 -\n"
     ]
    },
    {
     "name": "stdout",
     "output_type": "stream",
     "text": [
      "File: data\\d1\\10256434_1.json\n",
      "JSON file path: data\\d1\\10256434_1_format.json\n",
      "JSON file found!\n",
      "File: data\\d1\\10256434_1_format.json\n",
      "JSON file path: data\\d1\\10256434_1_format_format.json\n",
      "File: data\\d1\\10256434_1.json\n",
      "JSON file path: data\\d1\\10256434_1_format.json\n",
      "JSON file found!\n",
      "File: data\\d1\\10256434_1_format.json\n",
      "JSON file path: data\\d1\\10256434_1_format_format.json\n"
     ]
    },
    {
     "name": "stderr",
     "output_type": "stream",
     "text": [
      "127.0.0.1 - - [07/Aug/2024 13:46:58] \"GET /api/data HTTP/1.1\" 200 -\n",
      "127.0.0.1 - - [07/Aug/2024 13:46:58] \"GET /api/tree HTTP/1.1\" 200 -\n",
      "127.0.0.1 - - [07/Aug/2024 13:46:58] \"GET /api/data HTTP/1.1\" 200 -\n",
      "127.0.0.1 - - [07/Aug/2024 13:46:58] \"GET /api/tree HTTP/1.1\" 200 -\n",
      "127.0.0.1 - - [07/Aug/2024 13:46:58] \"GET /api/data HTTP/1.1\" 200 -\n"
     ]
    },
    {
     "name": "stdout",
     "output_type": "stream",
     "text": [
      "File: data\\d1\\10256434_1.json\n",
      "JSON file path: data\\d1\\10256434_1_format.json\n",
      "JSON file found!\n",
      "File: data\\d1\\10256434_1_format.json\n",
      "JSON file path: data\\d1\\10256434_1_format_format.json\n",
      "File: data\\d1\\10256434_1.json\n",
      "JSON file path: data\\d1\\10256434_1_format.json\n",
      "JSON file found!\n",
      "File: data\\d1\\10256434_1_format.json\n",
      "JSON file path: data\\d1\\10256434_1_format_format.json\n"
     ]
    },
    {
     "name": "stderr",
     "output_type": "stream",
     "text": [
      "127.0.0.1 - - [07/Aug/2024 13:46:58] \"GET /api/tree HTTP/1.1\" 200 -\n"
     ]
    },
    {
     "name": "stdout",
     "output_type": "stream",
     "text": [
      "File: data\\d1\\10256434_1.json\n",
      "JSON file path: data\\d1\\10256434_1_format.json\n",
      "JSON file found!\n",
      "File: data\\d1\\10256434_1_format.json\n",
      "JSON file path: data\\d1\\10256434_1_format_format.json\n"
     ]
    },
    {
     "name": "stderr",
     "output_type": "stream",
     "text": [
      "127.0.0.1 - - [07/Aug/2024 13:47:14] \"GET /api/data HTTP/1.1\" 200 -\n",
      "127.0.0.1 - - [07/Aug/2024 13:47:14] \"GET /api/tree HTTP/1.1\" 200 -\n",
      "127.0.0.1 - - [07/Aug/2024 13:47:14] \"GET /api/data HTTP/1.1\" 200 -\n",
      "127.0.0.1 - - [07/Aug/2024 13:47:14] \"GET /api/tree HTTP/1.1\" 200 -\n"
     ]
    },
    {
     "name": "stdout",
     "output_type": "stream",
     "text": [
      "File: data\\d1\\10256434_1.json\n",
      "JSON file path: data\\d1\\10256434_1_format.json\n",
      "JSON file found!\n",
      "File: data\\d1\\10256434_1_format.json\n",
      "JSON file path: data\\d1\\10256434_1_format_format.json\n",
      "File: data\\d1\\10256434_1.json\n",
      "JSON file path: data\\d1\\10256434_1_format.json\n",
      "JSON file found!\n",
      "File: data\\d1\\10256434_1_format.json\n",
      "JSON file path: data\\d1\\10256434_1_format_format.json\n"
     ]
    },
    {
     "name": "stderr",
     "output_type": "stream",
     "text": [
      "127.0.0.1 - - [07/Aug/2024 13:47:14] \"GET /api/data HTTP/1.1\" 200 -\n",
      "127.0.0.1 - - [07/Aug/2024 13:47:14] \"GET /api/tree HTTP/1.1\" 200 -\n"
     ]
    },
    {
     "name": "stdout",
     "output_type": "stream",
     "text": [
      "File: data\\d1\\10256434_1.json\n",
      "JSON file path: data\\d1\\10256434_1_format.json\n",
      "JSON file found!\n",
      "File: data\\d1\\10256434_1_format.json\n",
      "JSON file path: data\\d1\\10256434_1_format_format.json\n"
     ]
    },
    {
     "name": "stderr",
     "output_type": "stream",
     "text": [
      "127.0.0.1 - - [07/Aug/2024 13:47:24] \"GET /api/data HTTP/1.1\" 200 -\n",
      "127.0.0.1 - - [07/Aug/2024 13:47:24] \"GET /api/tree HTTP/1.1\" 200 -\n",
      "127.0.0.1 - - [07/Aug/2024 13:47:24] \"GET /api/data HTTP/1.1\" 200 -\n",
      "127.0.0.1 - - [07/Aug/2024 13:47:24] \"GET /api/tree HTTP/1.1\" 200 -\n",
      "127.0.0.1 - - [07/Aug/2024 13:47:24] \"GET /api/data HTTP/1.1\" 200 -\n",
      "127.0.0.1 - - [07/Aug/2024 13:47:24] \"GET /api/tree HTTP/1.1\" 200 -\n"
     ]
    },
    {
     "name": "stdout",
     "output_type": "stream",
     "text": [
      "File: data\\d1\\10256434_1.json\n",
      "JSON file path: data\\d1\\10256434_1_format.json\n",
      "JSON file found!\n",
      "File: data\\d1\\10256434_1_format.json\n",
      "JSON file path: data\\d1\\10256434_1_format_format.json\n",
      "File: data\\d1\\10256434_1.json\n",
      "JSON file path: data\\d1\\10256434_1_format.json\n",
      "JSON file found!\n",
      "File: data\\d1\\10256434_1_format.json\n",
      "JSON file path: data\\d1\\10256434_1_format_format.json\n",
      "File: data\\d1\\10256434_1.json\n",
      "JSON file path: data\\d1\\10256434_1_format.json\n",
      "JSON file found!\n",
      "File: data\\d1\\10256434_1_format.json\n",
      "JSON file path: data\\d1\\10256434_1_format_format.json\n"
     ]
    },
    {
     "name": "stderr",
     "output_type": "stream",
     "text": [
      "127.0.0.1 - - [07/Aug/2024 13:47:52] \"GET /api/data HTTP/1.1\" 200 -\n",
      "127.0.0.1 - - [07/Aug/2024 13:47:52] \"GET /api/tree HTTP/1.1\" 200 -\n",
      "127.0.0.1 - - [07/Aug/2024 13:47:52] \"GET /api/data HTTP/1.1\" 200 -\n",
      "127.0.0.1 - - [07/Aug/2024 13:47:52] \"GET /api/tree HTTP/1.1\" 200 -\n"
     ]
    },
    {
     "name": "stdout",
     "output_type": "stream",
     "text": [
      "File: data\\d1\\10256434_1.json\n",
      "JSON file path: data\\d1\\10256434_1_format.json\n",
      "JSON file found!\n",
      "File: data\\d1\\10256434_1_format.json\n",
      "JSON file path: data\\d1\\10256434_1_format_format.json\n",
      "File: data\\d1\\10256434_1.json\n",
      "JSON file path: data\\d1\\10256434_1_format.json\n",
      "JSON file found!\n",
      "File: data\\d1\\10256434_1_format.json\n",
      "JSON file path: data\\d1\\10256434_1_format_format.json\n"
     ]
    },
    {
     "name": "stderr",
     "output_type": "stream",
     "text": [
      "127.0.0.1 - - [07/Aug/2024 13:47:52] \"GET /api/data HTTP/1.1\" 200 -\n",
      "127.0.0.1 - - [07/Aug/2024 13:47:52] \"GET /api/tree HTTP/1.1\" 200 -\n"
     ]
    },
    {
     "name": "stdout",
     "output_type": "stream",
     "text": [
      "File: data\\d1\\10256434_1.json\n",
      "JSON file path: data\\d1\\10256434_1_format.json\n",
      "JSON file found!\n",
      "File: data\\d1\\10256434_1_format.json\n",
      "JSON file path: data\\d1\\10256434_1_format_format.json\n"
     ]
    },
    {
     "name": "stderr",
     "output_type": "stream",
     "text": [
      "127.0.0.1 - - [07/Aug/2024 13:48:04] \"GET /api/data HTTP/1.1\" 200 -\n",
      "127.0.0.1 - - [07/Aug/2024 13:48:04] \"GET /api/tree HTTP/1.1\" 200 -\n",
      "127.0.0.1 - - [07/Aug/2024 13:48:04] \"GET /api/data HTTP/1.1\" 200 -\n",
      "127.0.0.1 - - [07/Aug/2024 13:48:04] \"GET /api/tree HTTP/1.1\" 200 -\n"
     ]
    },
    {
     "name": "stdout",
     "output_type": "stream",
     "text": [
      "File: data\\d1\\10256434_1.json\n",
      "JSON file path: data\\d1\\10256434_1_format.json\n",
      "JSON file found!\n",
      "File: data\\d1\\10256434_1_format.json\n",
      "JSON file path: data\\d1\\10256434_1_format_format.json\n",
      "File: data\\d1\\10256434_1.json\n",
      "JSON file path: data\\d1\\10256434_1_format.json\n",
      "JSON file found!\n",
      "File: data\\d1\\10256434_1_format.json\n",
      "JSON file path: data\\d1\\10256434_1_format_format.json\n"
     ]
    },
    {
     "name": "stderr",
     "output_type": "stream",
     "text": [
      "127.0.0.1 - - [07/Aug/2024 13:48:04] \"GET /api/data HTTP/1.1\" 200 -\n",
      "127.0.0.1 - - [07/Aug/2024 13:48:04] \"GET /api/tree HTTP/1.1\" 200 -\n"
     ]
    },
    {
     "name": "stdout",
     "output_type": "stream",
     "text": [
      "File: data\\d1\\10256434_1.json\n",
      "JSON file path: data\\d1\\10256434_1_format.json\n",
      "JSON file found!\n",
      "File: data\\d1\\10256434_1_format.json\n",
      "JSON file path: data\\d1\\10256434_1_format_format.json\n"
     ]
    },
    {
     "name": "stderr",
     "output_type": "stream",
     "text": [
      "127.0.0.1 - - [07/Aug/2024 13:48:14] \"GET /api/data HTTP/1.1\" 200 -\n",
      "127.0.0.1 - - [07/Aug/2024 13:48:14] \"GET /api/tree HTTP/1.1\" 200 -\n",
      "127.0.0.1 - - [07/Aug/2024 13:48:14] \"GET /api/data HTTP/1.1\" 200 -\n",
      "127.0.0.1 - - [07/Aug/2024 13:48:14] \"GET /api/tree HTTP/1.1\" 200 -\n"
     ]
    },
    {
     "name": "stdout",
     "output_type": "stream",
     "text": [
      "File: data\\d1\\10256434_1.json\n",
      "JSON file path: data\\d1\\10256434_1_format.json\n",
      "JSON file found!\n",
      "File: data\\d1\\10256434_1_format.json\n",
      "JSON file path: data\\d1\\10256434_1_format_format.json\n",
      "File: data\\d1\\10256434_1.json\n",
      "JSON file path: data\\d1\\10256434_1_format.json\n",
      "JSON file found!\n",
      "File: data\\d1\\10256434_1_format.json\n",
      "JSON file path: data\\d1\\10256434_1_format_format.json\n"
     ]
    },
    {
     "name": "stderr",
     "output_type": "stream",
     "text": [
      "127.0.0.1 - - [07/Aug/2024 13:48:14] \"GET /api/data HTTP/1.1\" 200 -\n",
      "127.0.0.1 - - [07/Aug/2024 13:48:14] \"GET /api/tree HTTP/1.1\" 200 -\n"
     ]
    },
    {
     "name": "stdout",
     "output_type": "stream",
     "text": [
      "File: data\\d1\\10256434_1.json\n",
      "JSON file path: data\\d1\\10256434_1_format.json\n",
      "JSON file found!\n",
      "File: data\\d1\\10256434_1_format.json\n",
      "JSON file path: data\\d1\\10256434_1_format_format.json\n"
     ]
    },
    {
     "name": "stderr",
     "output_type": "stream",
     "text": [
      "127.0.0.1 - - [07/Aug/2024 13:48:28] \"GET /api/data HTTP/1.1\" 200 -\n",
      "127.0.0.1 - - [07/Aug/2024 13:48:28] \"GET /api/tree HTTP/1.1\" 200 -\n",
      "127.0.0.1 - - [07/Aug/2024 13:48:28] \"GET /api/data HTTP/1.1\" 200 -\n",
      "127.0.0.1 - - [07/Aug/2024 13:48:28] \"GET /api/tree HTTP/1.1\" 200 -\n",
      "127.0.0.1 - - [07/Aug/2024 13:48:28] \"GET /api/data HTTP/1.1\" 200 -\n",
      "127.0.0.1 - - [07/Aug/2024 13:48:28] \"GET /api/tree HTTP/1.1\" 200 -\n"
     ]
    },
    {
     "name": "stdout",
     "output_type": "stream",
     "text": [
      "File: data\\d1\\10256434_1.json\n",
      "JSON file path: data\\d1\\10256434_1_format.json\n",
      "JSON file found!\n",
      "File: data\\d1\\10256434_1_format.json\n",
      "JSON file path: data\\d1\\10256434_1_format_format.json\n",
      "File: data\\d1\\10256434_1.json\n",
      "JSON file path: data\\d1\\10256434_1_format.json\n",
      "JSON file found!\n",
      "File: data\\d1\\10256434_1_format.json\n",
      "JSON file path: data\\d1\\10256434_1_format_format.json\n",
      "File: data\\d1\\10256434_1.json\n",
      "JSON file path: data\\d1\\10256434_1_format.json\n",
      "JSON file found!\n",
      "File: data\\d1\\10256434_1_format.json\n",
      "JSON file path: data\\d1\\10256434_1_format_format.json\n"
     ]
    },
    {
     "name": "stderr",
     "output_type": "stream",
     "text": [
      "127.0.0.1 - - [07/Aug/2024 13:50:48] \"GET /api/data HTTP/1.1\" 200 -\n",
      "127.0.0.1 - - [07/Aug/2024 13:50:48] \"GET /api/tree HTTP/1.1\" 200 -\n",
      "127.0.0.1 - - [07/Aug/2024 13:50:48] \"GET /api/data HTTP/1.1\" 200 -\n",
      "127.0.0.1 - - [07/Aug/2024 13:50:48] \"GET /api/tree HTTP/1.1\" 200 -\n"
     ]
    },
    {
     "name": "stdout",
     "output_type": "stream",
     "text": [
      "File: data\\d1\\10256434_1.json\n",
      "JSON file path: data\\d1\\10256434_1_format.json\n",
      "JSON file found!\n",
      "File: data\\d1\\10256434_1_format.json\n",
      "JSON file path: data\\d1\\10256434_1_format_format.json\n",
      "File: data\\d1\\10256434_1.json\n",
      "JSON file path: data\\d1\\10256434_1_format.json\n",
      "JSON file found!\n",
      "File: data\\d1\\10256434_1_format.json\n",
      "JSON file path: data\\d1\\10256434_1_format_format.json\n"
     ]
    },
    {
     "name": "stderr",
     "output_type": "stream",
     "text": [
      "127.0.0.1 - - [07/Aug/2024 13:50:49] \"GET /api/data HTTP/1.1\" 200 -\n",
      "127.0.0.1 - - [07/Aug/2024 13:50:49] \"GET /api/tree HTTP/1.1\" 200 -\n"
     ]
    },
    {
     "name": "stdout",
     "output_type": "stream",
     "text": [
      "File: data\\d1\\10256434_1.json\n",
      "JSON file path: data\\d1\\10256434_1_format.json\n",
      "JSON file found!\n",
      "File: data\\d1\\10256434_1_format.json\n",
      "JSON file path: data\\d1\\10256434_1_format_format.json\n"
     ]
    },
    {
     "name": "stderr",
     "output_type": "stream",
     "text": [
      "127.0.0.1 - - [07/Aug/2024 13:51:05] \"GET /api/data HTTP/1.1\" 200 -\n",
      "127.0.0.1 - - [07/Aug/2024 13:51:05] \"GET /api/tree HTTP/1.1\" 200 -\n",
      "127.0.0.1 - - [07/Aug/2024 13:51:05] \"GET /api/data HTTP/1.1\" 200 -\n",
      "127.0.0.1 - - [07/Aug/2024 13:51:05] \"GET /api/tree HTTP/1.1\" 200 -\n"
     ]
    },
    {
     "name": "stdout",
     "output_type": "stream",
     "text": [
      "File: data\\d1\\10256434_1.json\n",
      "JSON file path: data\\d1\\10256434_1_format.json\n",
      "JSON file found!\n",
      "File: data\\d1\\10256434_1_format.json\n",
      "JSON file path: data\\d1\\10256434_1_format_format.json\n",
      "File: data\\d1\\10256434_1.json\n",
      "JSON file path: data\\d1\\10256434_1_format.json\n",
      "JSON file found!\n",
      "File: data\\d1\\10256434_1_format.json\n",
      "JSON file path: data\\d1\\10256434_1_format_format.json\n"
     ]
    },
    {
     "name": "stderr",
     "output_type": "stream",
     "text": [
      "127.0.0.1 - - [07/Aug/2024 13:51:05] \"GET /api/data HTTP/1.1\" 200 -\n",
      "127.0.0.1 - - [07/Aug/2024 13:51:05] \"GET /api/tree HTTP/1.1\" 200 -\n"
     ]
    },
    {
     "name": "stdout",
     "output_type": "stream",
     "text": [
      "File: data\\d1\\10256434_1.json\n",
      "JSON file path: data\\d1\\10256434_1_format.json\n",
      "JSON file found!\n",
      "File: data\\d1\\10256434_1_format.json\n",
      "JSON file path: data\\d1\\10256434_1_format_format.json\n"
     ]
    },
    {
     "name": "stderr",
     "output_type": "stream",
     "text": [
      "127.0.0.1 - - [07/Aug/2024 13:52:42] \"GET /api/data HTTP/1.1\" 200 -\n",
      "127.0.0.1 - - [07/Aug/2024 13:52:42] \"GET /api/tree HTTP/1.1\" 200 -\n",
      "127.0.0.1 - - [07/Aug/2024 13:52:42] \"GET /api/data HTTP/1.1\" 200 -\n",
      "127.0.0.1 - - [07/Aug/2024 13:52:42] \"GET /api/tree HTTP/1.1\" 200 -\n"
     ]
    },
    {
     "name": "stdout",
     "output_type": "stream",
     "text": [
      "File: data\\d1\\10256434_1.json\n",
      "JSON file path: data\\d1\\10256434_1_format.json\n",
      "JSON file found!\n",
      "File: data\\d1\\10256434_1_format.json\n",
      "JSON file path: data\\d1\\10256434_1_format_format.json\n",
      "File: data\\d1\\10256434_1.json\n",
      "JSON file path: data\\d1\\10256434_1_format.json\n",
      "JSON file found!\n",
      "File: data\\d1\\10256434_1_format.json\n",
      "JSON file path: data\\d1\\10256434_1_format_format.json\n"
     ]
    },
    {
     "name": "stderr",
     "output_type": "stream",
     "text": [
      "127.0.0.1 - - [07/Aug/2024 13:52:42] \"GET /api/data HTTP/1.1\" 200 -\n",
      "127.0.0.1 - - [07/Aug/2024 13:52:42] \"GET /api/tree HTTP/1.1\" 200 -\n"
     ]
    },
    {
     "name": "stdout",
     "output_type": "stream",
     "text": [
      "File: data\\d1\\10256434_1.json\n",
      "JSON file path: data\\d1\\10256434_1_format.json\n",
      "JSON file found!\n",
      "File: data\\d1\\10256434_1_format.json\n",
      "JSON file path: data\\d1\\10256434_1_format_format.json\n"
     ]
    },
    {
     "name": "stderr",
     "output_type": "stream",
     "text": [
      "127.0.0.1 - - [07/Aug/2024 13:52:46] \"GET /api/data HTTP/1.1\" 200 -\n",
      "127.0.0.1 - - [07/Aug/2024 13:52:46] \"GET /api/tree HTTP/1.1\" 200 -\n",
      "127.0.0.1 - - [07/Aug/2024 13:52:46] \"GET /api/data HTTP/1.1\" 200 -\n",
      "127.0.0.1 - - [07/Aug/2024 13:52:46] \"GET /api/tree HTTP/1.1\" 200 -\n"
     ]
    },
    {
     "name": "stdout",
     "output_type": "stream",
     "text": [
      "File: data\\d1\\10256434_1.json\n",
      "JSON file path: data\\d1\\10256434_1_format.json\n",
      "JSON file found!\n",
      "File: data\\d1\\10256434_1_format.json\n",
      "JSON file path: data\\d1\\10256434_1_format_format.json\n",
      "File: data\\d1\\10256434_1.json\n",
      "JSON file path: data\\d1\\10256434_1_format.json\n",
      "JSON file found!\n",
      "File: data\\d1\\10256434_1_format.json\n",
      "JSON file path: data\\d1\\10256434_1_format_format.json\n"
     ]
    },
    {
     "name": "stderr",
     "output_type": "stream",
     "text": [
      "127.0.0.1 - - [07/Aug/2024 13:52:46] \"GET /api/data HTTP/1.1\" 200 -\n",
      "127.0.0.1 - - [07/Aug/2024 13:52:46] \"GET /api/tree HTTP/1.1\" 200 -\n"
     ]
    },
    {
     "name": "stdout",
     "output_type": "stream",
     "text": [
      "File: data\\d1\\10256434_1.json\n",
      "JSON file path: data\\d1\\10256434_1_format.json\n",
      "JSON file found!\n",
      "File: data\\d1\\10256434_1_format.json\n",
      "JSON file path: data\\d1\\10256434_1_format_format.json\n"
     ]
    },
    {
     "name": "stderr",
     "output_type": "stream",
     "text": [
      "127.0.0.1 - - [07/Aug/2024 14:02:44] \"GET /api/data HTTP/1.1\" 200 -\n",
      "127.0.0.1 - - [07/Aug/2024 14:02:44] \"GET /api/tree HTTP/1.1\" 200 -\n"
     ]
    },
    {
     "name": "stdout",
     "output_type": "stream",
     "text": [
      "File: data\\d1\\10256434_1.json\n",
      "JSON file path: data\\d1\\10256434_1_format.json\n",
      "JSON file found!\n",
      "File: data\\d1\\10256434_1_format.json\n",
      "JSON file path: data\\d1\\10256434_1_format_format.json\n"
     ]
    },
    {
     "name": "stderr",
     "output_type": "stream",
     "text": [
      "127.0.0.1 - - [07/Aug/2024 14:02:44] \"GET /api/data HTTP/1.1\" 200 -\n",
      "127.0.0.1 - - [07/Aug/2024 14:02:44] \"GET /api/tree HTTP/1.1\" 200 -\n",
      "127.0.0.1 - - [07/Aug/2024 14:02:44] \"GET /api/data HTTP/1.1\" 200 -\n",
      "127.0.0.1 - - [07/Aug/2024 14:02:44] \"GET /api/tree HTTP/1.1\" 200 -\n"
     ]
    },
    {
     "name": "stdout",
     "output_type": "stream",
     "text": [
      "File: data\\d1\\10256434_1.json\n",
      "JSON file path: data\\d1\\10256434_1_format.json\n",
      "JSON file found!\n",
      "File: data\\d1\\10256434_1_format.json\n",
      "JSON file path: data\\d1\\10256434_1_format_format.json\n",
      "File: data\\d1\\10256434_1.json\n",
      "JSON file path: data\\d1\\10256434_1_format.json\n",
      "JSON file found!\n",
      "File: data\\d1\\10256434_1_format.json\n",
      "JSON file path: data\\d1\\10256434_1_format_format.json\n"
     ]
    },
    {
     "name": "stderr",
     "output_type": "stream",
     "text": [
      "127.0.0.1 - - [07/Aug/2024 14:03:32] \"GET /api/data HTTP/1.1\" 200 -\n",
      "127.0.0.1 - - [07/Aug/2024 14:03:32] \"GET /api/tree HTTP/1.1\" 200 -\n",
      "127.0.0.1 - - [07/Aug/2024 14:03:32] \"GET /api/data HTTP/1.1\" 200 -\n",
      "127.0.0.1 - - [07/Aug/2024 14:03:32] \"GET /api/tree HTTP/1.1\" 200 -\n",
      "127.0.0.1 - - [07/Aug/2024 14:03:32] \"GET /api/data HTTP/1.1\" 200 -\n"
     ]
    },
    {
     "name": "stdout",
     "output_type": "stream",
     "text": [
      "File: data\\d1\\10256434_1.json\n",
      "JSON file path: data\\d1\\10256434_1_format.json\n",
      "JSON file found!\n",
      "File: data\\d1\\10256434_1_format.json\n",
      "JSON file path: data\\d1\\10256434_1_format_format.json\n",
      "File: data\\d1\\10256434_1.json\n",
      "JSON file path: data\\d1\\10256434_1_format.json\n",
      "JSON file found!\n",
      "File: data\\d1\\10256434_1_format.json\n",
      "JSON file path: data\\d1\\10256434_1_format_format.json\n"
     ]
    },
    {
     "name": "stderr",
     "output_type": "stream",
     "text": [
      "127.0.0.1 - - [07/Aug/2024 14:03:32] \"GET /api/tree HTTP/1.1\" 200 -\n"
     ]
    },
    {
     "name": "stdout",
     "output_type": "stream",
     "text": [
      "File: data\\d1\\10256434_1.json\n",
      "JSON file path: data\\d1\\10256434_1_format.json\n",
      "JSON file found!\n",
      "File: data\\d1\\10256434_1_format.json\n",
      "JSON file path: data\\d1\\10256434_1_format_format.json\n"
     ]
    },
    {
     "name": "stderr",
     "output_type": "stream",
     "text": [
      "127.0.0.1 - - [07/Aug/2024 14:03:40] \"GET /api/data HTTP/1.1\" 200 -\n",
      "127.0.0.1 - - [07/Aug/2024 14:03:40] \"GET /api/tree HTTP/1.1\" 200 -\n",
      "127.0.0.1 - - [07/Aug/2024 14:03:40] \"GET /api/data HTTP/1.1\" 200 -\n",
      "127.0.0.1 - - [07/Aug/2024 14:03:40] \"GET /api/tree HTTP/1.1\" 200 -\n"
     ]
    },
    {
     "name": "stdout",
     "output_type": "stream",
     "text": [
      "File: data\\d1\\10256434_1.json\n",
      "JSON file path: data\\d1\\10256434_1_format.json\n",
      "JSON file found!\n",
      "File: data\\d1\\10256434_1_format.json\n",
      "JSON file path: data\\d1\\10256434_1_format_format.json\n",
      "File: data\\d1\\10256434_1.json\n",
      "JSON file path: data\\d1\\10256434_1_format.json\n",
      "JSON file found!\n",
      "File: data\\d1\\10256434_1_format.json\n",
      "JSON file path: data\\d1\\10256434_1_format_format.json\n"
     ]
    },
    {
     "name": "stderr",
     "output_type": "stream",
     "text": [
      "127.0.0.1 - - [07/Aug/2024 14:03:40] \"GET /api/data HTTP/1.1\" 200 -\n",
      "127.0.0.1 - - [07/Aug/2024 14:03:40] \"GET /api/tree HTTP/1.1\" 200 -\n"
     ]
    },
    {
     "name": "stdout",
     "output_type": "stream",
     "text": [
      "File: data\\d1\\10256434_1.json\n",
      "JSON file path: data\\d1\\10256434_1_format.json\n",
      "JSON file found!\n",
      "File: data\\d1\\10256434_1_format.json\n",
      "JSON file path: data\\d1\\10256434_1_format_format.json\n"
     ]
    },
    {
     "name": "stderr",
     "output_type": "stream",
     "text": [
      "127.0.0.1 - - [07/Aug/2024 15:02:15] \"GET /api/data HTTP/1.1\" 200 -\n",
      "127.0.0.1 - - [07/Aug/2024 15:02:15] \"GET /api/tree HTTP/1.1\" 200 -\n"
     ]
    },
    {
     "name": "stdout",
     "output_type": "stream",
     "text": [
      "File: data\\d1\\10256434_1.json\n",
      "JSON file path: data\\d1\\10256434_1_format.json\n",
      "JSON file found!\n",
      "File: data\\d1\\10256434_1_format.json\n",
      "JSON file path: data\\d1\\10256434_1_format_format.json\n"
     ]
    },
    {
     "name": "stderr",
     "output_type": "stream",
     "text": [
      "127.0.0.1 - - [07/Aug/2024 15:02:16] \"GET /api/data HTTP/1.1\" 200 -\n",
      "127.0.0.1 - - [07/Aug/2024 15:02:16] \"GET /api/tree HTTP/1.1\" 200 -\n"
     ]
    },
    {
     "name": "stdout",
     "output_type": "stream",
     "text": [
      "File: data\\d1\\10256434_1.json\n",
      "JSON file path: data\\d1\\10256434_1_format.json\n",
      "JSON file found!\n",
      "File: data\\d1\\10256434_1_format.json\n",
      "JSON file path: data\\d1\\10256434_1_format_format.json\n"
     ]
    },
    {
     "name": "stderr",
     "output_type": "stream",
     "text": [
      "127.0.0.1 - - [07/Aug/2024 15:12:41] \"GET /api/data HTTP/1.1\" 200 -\n",
      "127.0.0.1 - - [07/Aug/2024 15:12:41] \"GET /api/tree HTTP/1.1\" 200 -\n",
      "127.0.0.1 - - [07/Aug/2024 15:12:41] \"GET /api/data HTTP/1.1\" 200 -\n",
      "127.0.0.1 - - [07/Aug/2024 15:12:41] \"GET /api/tree HTTP/1.1\" 200 -\n"
     ]
    },
    {
     "name": "stdout",
     "output_type": "stream",
     "text": [
      "File: data\\d1\\10256434_1.json\n",
      "JSON file path: data\\d1\\10256434_1_format.json\n",
      "JSON file found!\n",
      "File: data\\d1\\10256434_1_format.json\n",
      "JSON file path: data\\d1\\10256434_1_format_format.json\n",
      "File: data\\d1\\10256434_1.json\n",
      "JSON file path: data\\d1\\10256434_1_format.json\n",
      "JSON file found!\n",
      "File: data\\d1\\10256434_1_format.json\n",
      "JSON file path: data\\d1\\10256434_1_format_format.json\n"
     ]
    },
    {
     "name": "stderr",
     "output_type": "stream",
     "text": [
      "127.0.0.1 - - [07/Aug/2024 17:29:04] \"GET /api/data HTTP/1.1\" 200 -\n",
      "127.0.0.1 - - [07/Aug/2024 17:29:04] \"GET /api/tree HTTP/1.1\" 200 -\n"
     ]
    },
    {
     "name": "stdout",
     "output_type": "stream",
     "text": [
      "File: data\\d1\\10256434_1.json\n",
      "JSON file path: data\\d1\\10256434_1_format.json\n",
      "JSON file found!\n",
      "File: data\\d1\\10256434_1_format.json\n",
      "JSON file path: data\\d1\\10256434_1_format_format.json\n"
     ]
    },
    {
     "name": "stderr",
     "output_type": "stream",
     "text": [
      "127.0.0.1 - - [07/Aug/2024 17:29:36] \"GET /api/data HTTP/1.1\" 200 -\n",
      "127.0.0.1 - - [07/Aug/2024 17:29:36] \"GET /api/tree HTTP/1.1\" 200 -\n"
     ]
    },
    {
     "name": "stdout",
     "output_type": "stream",
     "text": [
      "File: data\\d1\\10256434_1.json\n",
      "JSON file path: data\\d1\\10256434_1_format.json\n",
      "JSON file found!\n",
      "File: data\\d1\\10256434_1_format.json\n",
      "JSON file path: data\\d1\\10256434_1_format_format.json\n"
     ]
    },
    {
     "name": "stderr",
     "output_type": "stream",
     "text": [
      "127.0.0.1 - - [07/Aug/2024 17:29:55] \"GET /api/data HTTP/1.1\" 200 -\n",
      "127.0.0.1 - - [07/Aug/2024 17:29:55] \"GET /api/tree HTTP/1.1\" 200 -\n"
     ]
    },
    {
     "name": "stdout",
     "output_type": "stream",
     "text": [
      "File: data\\d1\\10256434_1.json\n",
      "JSON file path: data\\d1\\10256434_1_format.json\n",
      "JSON file found!\n",
      "File: data\\d1\\10256434_1_format.json\n",
      "JSON file path: data\\d1\\10256434_1_format_format.json\n"
     ]
    },
    {
     "name": "stderr",
     "output_type": "stream",
     "text": [
      "127.0.0.1 - - [07/Aug/2024 17:30:04] \"GET /api/data HTTP/1.1\" 200 -\n",
      "127.0.0.1 - - [07/Aug/2024 17:30:04] \"GET /api/tree HTTP/1.1\" 200 -\n"
     ]
    },
    {
     "name": "stdout",
     "output_type": "stream",
     "text": [
      "File: data\\d1\\10256434_1.json\n",
      "JSON file path: data\\d1\\10256434_1_format.json\n",
      "JSON file found!\n",
      "File: data\\d1\\10256434_1_format.json\n",
      "JSON file path: data\\d1\\10256434_1_format_format.json\n"
     ]
    },
    {
     "name": "stderr",
     "output_type": "stream",
     "text": [
      "127.0.0.1 - - [07/Aug/2024 17:32:19] \"GET /api/data HTTP/1.1\" 200 -\n",
      "127.0.0.1 - - [07/Aug/2024 17:32:19] \"GET /api/tree HTTP/1.1\" 200 -\n"
     ]
    },
    {
     "name": "stdout",
     "output_type": "stream",
     "text": [
      "File: data\\d1\\10256434_1.json\n",
      "JSON file path: data\\d1\\10256434_1_format.json\n",
      "JSON file found!\n",
      "File: data\\d1\\10256434_1_format.json\n",
      "JSON file path: data\\d1\\10256434_1_format_format.json\n"
     ]
    }
   ],
   "source": [
    "import os\n",
    "from flask import Flask, jsonify, Response\n",
    "from flask_cors import CORS\n",
    "import json\n",
    "\n",
    "app = Flask(__name__)\n",
    "CORS(app)\n",
    "\n",
    "\n",
    "@app.route('/api/data')\n",
    "def get_data():\n",
    "    data = {\n",
    "        'title': 'Welcome to Angular-Python App',\n",
    "        'message': 'This is an example integration between Angular and Python!'\n",
    "    }\n",
    "    return jsonify(data)\n",
    "\n",
    "import base64\n",
    "\n",
    "\n",
    "# from flask import send_file\n",
    "\n",
    "# @app.route('/api/tree/<path:image_path>')\n",
    "# def get_image(image_path):\n",
    "#     data_folder = 'data'  # Specify the path to your data folder\n",
    "#     image_file_path = os.path.join(data_folder, image_path)\n",
    "\n",
    "#     if os.path.isfile(image_file_path) and (image_file_path.endswith('.png') or image_file_path.endswith('.jpg') or image_file_path.endswith('.JPJ')):\n",
    "#         return send_file(image_file_path, mimetype='image/png')  # Adjust mimetype based on image type\n",
    "\n",
    "#     return 'Image not found or not supported', 404\n",
    "    \n",
    "\n",
    "# def generate_tree(path):\n",
    "#     tree = {}\n",
    "#     tree['name'] = os.path.basename(path)\n",
    "#     tree['type'] = 'folder' if os.path.isdir(path) else 'file'\n",
    "    \n",
    "#     if os.path.isdir(path):\n",
    "#         tree['children'] = [generate_tree(os.path.join(path, item)) for item in os.listdir(path)]\n",
    "#     elif os.path.isfile(path):\n",
    "#         if path.endswith('.png') or path.endswith('.jpg') or path.endswith('.jpeg'):\n",
    "#             with open(path, 'rb') as img_file:\n",
    "#                 image_data = base64.b64encode(img_file.read()).decode('utf-8')\n",
    "#             tree['image'] = f\"data:image/jpeg;base64,{image_data}\"  # Update the image MIME type accordingly\n",
    "    \n",
    "#     return tree\n",
    "\n",
    "\n",
    "import os\n",
    "import base64\n",
    "import json\n",
    "\n",
    "def generate_tree(path):\n",
    "    tree = {}\n",
    "    tree['name'] = os.path.basename(path)\n",
    "    \n",
    "    if os.path.isdir(path):\n",
    "        tree['type'] = 'folder'\n",
    "        tree['children'] = [generate_tree(os.path.join(path, item)) for item in os.listdir(path)]\n",
    "    elif os.path.isfile(path):             \n",
    "        if path.endswith('.png') or path.endswith('.jpg') or path.endswith('.JPG'):\n",
    "            tree['type'] = 'file'\n",
    "            tree['image'] = path\n",
    "        else:\n",
    "            tree['type'] = 'json'\n",
    "            # Look for associated JSON file in the same directory as the image\n",
    "            json_file_path = os.path.join(os.path.dirname(path), f\"{os.path.splitext(os.path.basename(path))[0]}_format.json\")\n",
    "            \n",
    "            print(\"File:\", path)\n",
    "            print(\"JSON file path:\", json_file_path)\n",
    "            \n",
    "            if os.path.isfile(json_file_path):\n",
    "                print(\"JSON file found!\")\n",
    "                with open(json_file_path) as json_file:\n",
    "                    data = json.load(json_file)\n",
    "                    if 'entity_types' in data:\n",
    "                        tree['entity_types'] = data['entity_types']\n",
    "\n",
    "    return tree\n",
    "\n",
    "\n",
    "\n",
    "\n",
    "@app.route('/api/tree')\n",
    "def get_tree():\n",
    "    data_path = 'data'  # Specify the path to your data folder\n",
    "    try:\n",
    "        tree = generate_tree(data_path)\n",
    "        return json.dumps(tree, indent=4)\n",
    "    except Exception as e:\n",
    "        error_message = {'error': str(e)}\n",
    "        response = Response(response=json.dumps(error_message), status=500, content_type='application/json')\n",
    "        return response\n",
    "\n",
    "\n",
    "\n",
    "\n",
    "\n",
    "@app.route(\"/api/hello\")\n",
    "def hello():\n",
    "    return \"Hello World!\"\n",
    "\n",
    "if __name__ == '__main__':\n",
    "    app.run()"
   ]
  },
  {
   "cell_type": "code",
   "execution_count": null,
   "id": "a21b65bd-4dd3-45cd-9b8e-a49cf0f1234b",
   "metadata": {},
   "outputs": [],
   "source": [
    "from flask_cors import CORS\n",
    "cors = CORS(app)"
   ]
  }
 ],
 "metadata": {
  "kernelspec": {
   "display_name": "Python 3 (ipykernel)",
   "language": "python",
   "name": "python3"
  },
  "language_info": {
   "codemirror_mode": {
    "name": "ipython",
    "version": 3
   },
   "file_extension": ".py",
   "mimetype": "text/x-python",
   "name": "python",
   "nbconvert_exporter": "python",
   "pygments_lexer": "ipython3",
   "version": "3.12.4"
  }
 },
 "nbformat": 4,
 "nbformat_minor": 5
}
