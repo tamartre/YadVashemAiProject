{
 "cells": [
  {
   "cell_type": "code",
   "execution_count": 1,
   "id": "7274d9ba-43b8-4322-ad28-f561b8ba68e1",
   "metadata": {},
   "outputs": [],
   "source": [
    "# pip install Flask-CORS"
   ]
  },
  {
   "cell_type": "code",
   "execution_count": 2,
   "id": "c73005c3-6c86-431b-9e30-d28344fdcc6a",
   "metadata": {},
   "outputs": [],
   "source": [
    "# pip install flask"
   ]
  },
  {
   "cell_type": "code",
   "execution_count": 5,
   "id": "af016b18-e5fd-4977-a914-cf9976a5d79a",
   "metadata": {},
   "outputs": [
    {
     "name": "stdout",
     "output_type": "stream",
     "text": [
      " * Serving Flask app '__main__'\n",
      " * Debug mode: off\n"
     ]
    },
    {
     "name": "stderr",
     "output_type": "stream",
     "text": [
      "WARNING: This is a development server. Do not use it in a production deployment. Use a production WSGI server instead.\n",
      " * Running on http://127.0.0.1:5000\n",
      "Press CTRL+C to quit\n"
     ]
    }
   ],
   "source": [
    "from flask import Flask, jsonify\n",
    "from flask_cors import CORS\n",
    "\n",
    "app = Flask(__name__)\n",
    "CORS(app)\n",
    "@app.route('/api/data')\n",
    "def get_data():\n",
    "    data = {\n",
    "        'title': 'Welcome to Angular-Python App',\n",
    "        'message': 'This is an example integration between Angular and Python!'\n",
    "    }\n",
    "    return jsonify(data)\n",
    "\n",
    "if __name__ == '__main__':\n",
    "    app.run()"
   ]
  },
  {
   "cell_type": "code",
   "execution_count": 6,
   "id": "21ba2992-0b17-42c3-91ec-caa0f44560b9",
   "metadata": {},
   "outputs": [],
   "source": [
    "from flask_cors import CORS\n",
    "\n",
    "cors = CORS(app, resources={r\"/api/*\": {\"origins\": \"http://4200\"}})\n"
   ]
  }
 ],
 "metadata": {
  "kernelspec": {
   "display_name": "Python 3 (ipykernel)",
   "language": "python",
   "name": "python3"
  },
  "language_info": {
   "codemirror_mode": {
    "name": "ipython",
    "version": 3
   },
   "file_extension": ".py",
   "mimetype": "text/x-python",
   "name": "python",
   "nbconvert_exporter": "python",
   "pygments_lexer": "ipython3",
   "version": "3.12.4"
  }
 },
 "nbformat": 4,
 "nbformat_minor": 5
}
