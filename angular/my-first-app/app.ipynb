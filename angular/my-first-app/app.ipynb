{
 "cells": [
  {
   "cell_type": "code",
   "execution_count": 1,
   "id": "fcd924dd-a207-4a4a-837a-30827783ef2c",
   "metadata": {},
   "outputs": [],
   "source": [
    "# pip install Flask-CORS"
   ]
  },
  {
   "cell_type": "code",
   "execution_count": 2,
   "id": "3cb29699-24d5-49b0-974c-fd3cb5908075",
   "metadata": {},
   "outputs": [],
   "source": [
    "# pip install flask"
   ]
  },
  {
   "cell_type": "code",
   "execution_count": null,
   "id": "1bc1b304-0ecb-4e73-8f0f-8c192e0239b0",
   "metadata": {},
   "outputs": [],
   "source": [
    "import os\n",
    "from flask import Flask, jsonify, Response\n",
    "from flask_cors import CORS\n",
    "import json\n",
    "app = Flask(__name__)\n",
    "# app = Flask(__name__)\n",
    "CORS(app)\n",
    "\n",
    "def generate_tree(path):\n",
    "    tree = {}\n",
    "    tree['name'] = os.path.basename(path)\n",
    "    tree['type'] = 'folder' if os.path.isdir(path) else 'file'\n",
    "    if os.path.isdir(path):\n",
    "        tree['children'] = [generate_tree(os.path.join(path, item)) for item in os.listdir(path)]\n",
    "        return tree\n",
    "\n",
    "@app.route('/api/tree', methods=['GET'])\n",
    "def get_tree():\n",
    "    data_path = 'data'  # Specify the path to your data folder\n",
    "    try:\n",
    "        tree = generate_tree(data_path)\n",
    "        response = Response(response=json.dumps(tree, indent=4), status=200, content_type='application/json')\n",
    "        print(response)\n",
    "        return response\n",
    "    except Exception as e:\n",
    "        error_message = {'error': str(e)}\n",
    "        response = Response(response=json.dumps(error_message), status=500, content_type='application/json')\n",
    "        return response\n",
    "\n",
    "if __name__ == '__main__':\n",
    "    app.run()"
   ]
  },
  {
   "cell_type": "code",
   "execution_count": null,
   "id": "79cfcc4d-74af-4845-b6f4-d5ee037f6f61",
   "metadata": {},
   "outputs": [],
   "source": [
    "from flask_cors import CORS\n",
    "cors = CORS(app, resources={r\"/api/*\": {\"origins\": \"http://4200\"}})"
   ]
  }
 ],
 "metadata": {
  "kernelspec": {
   "display_name": "Python 3 (ipykernel)",
   "language": "python",
   "name": "python3"
  },
  "language_info": {
   "codemirror_mode": {
    "name": "ipython",
    "version": 3
   },
   "file_extension": ".py",
   "mimetype": "text/x-python",
   "name": "python",
   "nbconvert_exporter": "python",
   "pygments_lexer": "ipython3",
   "version": "3.12.4"
  }
 },
 "nbformat": 4,
 "nbformat_minor": 5
}
