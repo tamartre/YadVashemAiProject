{
 "cells": [
  {
   "cell_type": "code",
   "execution_count": 1,
   "id": "f04df038",
   "metadata": {},
   "outputs": [
    {
     "name": "stdout",
     "output_type": "stream",
     "text": [
      "Requirement already satisfied: Augmentor in c:\\users\\the user\\anaconda3\\lib\\site-packages (0.2.12)\n",
      "Requirement already satisfied: Pillow>=5.2.0 in c:\\users\\the user\\anaconda3\\lib\\site-packages (from Augmentor) (9.4.0)\n",
      "Requirement already satisfied: tqdm>=4.9.0 in c:\\users\\the user\\anaconda3\\lib\\site-packages (from Augmentor) (4.65.0)\n",
      "Requirement already satisfied: numpy>=1.11.0 in c:\\users\\the user\\anaconda3\\lib\\site-packages (from Augmentor) (1.24.3)\n",
      "Requirement already satisfied: colorama in c:\\users\\the user\\anaconda3\\lib\\site-packages (from tqdm>=4.9.0->Augmentor) (0.4.6)\n",
      "Note: you may need to restart the kernel to use updated packages.\n"
     ]
    }
   ],
   "source": [
    "pip install Augmentor"
   ]
  },
  {
   "cell_type": "code",
   "execution_count": 2,
   "id": "e9700bad",
   "metadata": {},
   "outputs": [],
   "source": [
    "import os\n",
    "import numpy as np\n",
    "import shutil\n",
    "import pandas as pd\n",
    "from sklearn import model_selection\n",
    "from sklearn.neighbors import KNeighborsClassifier\n",
    "from sklearn.metrics import confusion_matrix, classification_report, accuracy_score\n",
    "import cv2\n",
    "import numpy as np\n",
    "from sklearn.preprocessing import StandardScaler\n",
    "from sklearn.model_selection import train_test_split\n",
    "from sklearn.neighbors import KNeighborsClassifier\n",
    "from matplotlib import pyplot as plt\n",
    "import os\n",
    "import pandas as pd\n"
   ]
  },
  {
   "cell_type": "code",
   "execution_count": 3,
   "id": "f4f2787d",
   "metadata": {},
   "outputs": [
    {
     "name": "stdout",
     "output_type": "stream",
     "text": [
      "Requirement already satisfied: opencv-python in c:\\users\\the user\\anaconda3\\lib\\site-packages (4.10.0.82)\n",
      "Requirement already satisfied: numpy>=1.21.2 in c:\\users\\the user\\anaconda3\\lib\\site-packages (from opencv-python) (1.24.3)\n",
      "Note: you may need to restart the kernel to use updated packages.\n"
     ]
    }
   ],
   "source": [
    "pip install opencv-python"
   ]
  },
  {
   "cell_type": "code",
   "execution_count": 15,
   "id": "d82431ff",
   "metadata": {},
   "outputs": [
    {
     "name": "stdout",
     "output_type": "stream",
     "text": [
      "Background color changed images saved in the output folder.\n"
     ]
    }
   ],
   "source": [
    "import cv2\n",
    "import numpy as np\n",
    "import os\n",
    "\n",
    #"input_folder = './supervisedData/2/2'\n",
    "output_folder = './output_images4/'\n",
    "brown_color = (33, 54, 75)  # Brown color in BGR format\n",
    "yellow_color = (153, 255, 255)  # Yellow color in BGR format\n",
    "\n",
    "for filename in os.listdir(input_folder):\n",
    "    if filename.endswith('.JPG'):\n",
    "        image_path = os.path.join(input_folder, filename)\n",
    "        image = cv2.imread(image_path, cv2.IMREAD_COLOR)\n",
    "\n",
    "        new_bg_color = brown_color  # Choose either brown or yellow color\n",
    "        new_bg_image = np.full_like(image, new_bg_color, dtype=np.uint8)\n",
    "\n",
    "        result_image = cv2.addWeighted(image, 0.7, new_bg_image, 0.3, 0)  # Adjust alpha values for blending\n",
    " \n",
    "        output_path = os.path.join(output_folder, filename)\n",
    "        cv2.imwrite(output_path, result_image)\n",
    "\n",
    "print(\"Background color changed images saved in the output folder.\")"
   ]
  },
  {
   "cell_type": "code",
   "execution_count": 17,
   "id": "f9f8d4ea",
   "metadata": {},
   "outputs": [
    {
     "name": "stdout",
     "output_type": "stream",
     "text": [
      "Initialised with 4 image(s) found.\n",
      "Output directory set to ./supervisedData/2/2\\output."
     ]
    },
    {
     "name": "stderr",
     "output_type": "stream",
     "text": [
      "Processing <PIL.Image.Image image mode=1 size=495x672 at 0x2EEF7EACB50>: 100%|███| 20/20 [00:00<00:00, 42.17 Samples/s]\n"
     ]
    }
   ],
   "source": [
    "import Augmentor\n",
    "\n",
    "# Passing the path of the image directory\n",
    "p = Augmentor.Pipeline('./supervisedData/2/2')\n",
    "\n",
    "# Adding random color transform to the pipeline\n",
    "p.random_color(probability=1, min_factor=0.3, max_factor=6)\n",
    "\n",
    "# Defining augmentation parameters and generating 8 samples\n",
    "p.black_and_white(0.3)\n",
    "p.rotate(0.3, 10, 10)\n",
    "p.skew(0.4, 0.5)\n",
    "p.zoom(probability=0.2, min_factor=1.1, max_factor=1.5)\n",
    "p.sample(20)"
   ]
  }
 ],
 "metadata": {
  "kernelspec": {
   "display_name": "Python 3 (ipykernel)",
   "language": "python",
   "name": "python3"
  },
  "language_info": {
   "codemirror_mode": {
    "name": "ipython",
    "version": 3
   },
   "file_extension": ".py",
   "mimetype": "text/x-python",
   "name": "python",
   "nbconvert_exporter": "python",
   "pygments_lexer": "ipython3",
   "version": "3.11.5"
  }
 },
 "nbformat": 4,
 "nbformat_minor": 5
}
