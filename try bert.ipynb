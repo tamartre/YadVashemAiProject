{
 "cells": [
  {
   "cell_type": "code",
   "execution_count": 1,
   "id": "7e9bab22-19f1-407d-bcfa-81190f08bcb5",
   "metadata": {},
   "outputs": [],
   "source": [
    "# pip install AutoTokenizer"
   ]
  },
  {
   "cell_type": "code",
   "execution_count": null,
   "id": "d863318b-ac59-414a-80ce-c3c81030413e",
   "metadata": {},
   "outputs": [],
   "source": []
  },
  {
   "cell_type": "code",
   "execution_count": 2,
   "id": "a1b05045-e859-4ade-ad44-58af6a8fce07",
   "metadata": {},
   "outputs": [],
   "source": [
    "import spacy"
   ]
  },
  {
   "cell_type": "code",
   "execution_count": 12,
   "id": "e476319f-661c-4096-9232-82240a5646c9",
   "metadata": {},
   "outputs": [],
   "source": [
    "# !python -m spacy download en_core_web_trf"
   ]
  },
  {
   "cell_type": "code",
   "execution_count": 3,
   "id": "8db3d7c8-e8a8-44d6-84ef-7b4681fb23d8",
   "metadata": {},
   "outputs": [],
   "source": [
    "from transformers import AutoTokenizer, AutoModelForTokenClassification\n",
    "from transformers import pipeline"
   ]
  },
  {
   "cell_type": "code",
   "execution_count": 15,
   "id": "2bf314f8-b225-442b-809d-aacf9607b082",
   "metadata": {},
   "outputs": [],
   "source": [
    "# from transformers import AutoTokenizer, AutoModel\n",
    "# import torch\n",
    "# import torch.nn.functional as F\n",
    "\n",
    "# #Mean Pooling - Take attention mask into account for correct averaging\n",
    "# def mean_pooling(model_output, attention_mask):\n",
    "#     token_embeddings = model_output[0] #First element of model_output contains all token embeddings\n",
    "#     input_mask_expanded = attention_mask.unsqueeze(-1).expand(token_embeddings.size()).float()\n",
    "#     return torch.sum(token_embeddings * input_mask_expanded, 1) / torch.clamp(input_mask_expanded.sum(1), min=1e-9)\n",
    "\n",
    "\n",
    "# # Sentences we want sentence embeddings for\n",
    "# sentences = ['This is an example sentence', 'Each sentence is converted']\n",
    "\n",
    "# # Load model from HuggingFace Hub\n",
    "# tokenizer = AutoTokenizer.from_pretrained('sentence-transformers/all-MiniLM-L6-v2')\n",
    "# model = AutoModel.from_pretrained('sentence-transformers/all-MiniLM-L6-v2')\n",
    "\n",
    "# # Tokenize sentences\n",
    "# encoded_input = tokenizer(sentences, padding=True, truncation=True, return_tensors='pt')\n",
    "\n",
    "# # Compute token embeddings\n",
    "# with torch.no_grad():\n",
    "#     model_output = model(**encoded_input)\n",
    "\n",
    "# # Perform pooling\n",
    "# sentence_embeddings = mean_pooling(model_output, encoded_input['attention_mask'])\n",
    "\n",
    "# # Normalize embeddings\n",
    "# sentence_embeddings = F.normalize(sentence_embeddings, p=2, dim=1)\n",
    "# print(\"Sentence embeddings:\")\n",
    "# print(sentence_embeddings)\n"
   ]
  },
  {
   "cell_type": "code",
   "execution_count": null,
   "id": "54e4db1b-ad67-4300-87a7-896fecb3efce",
   "metadata": {},
   "outputs": [],
   "source": []
  },
  {
   "cell_type": "code",
   "execution_count": 16,
   "id": "7b80a41a-ea5a-4c6e-916f-f761727df445",
   "metadata": {},
   "outputs": [],
   "source": [
    "json={\"full_desc_with_verices\": [{\"text\": \"ארכיון יד ושם YAD VASHEM ARCHIVES RECORD GROUP: RECORD GROUP: FILE NUMBER: PREVIOUS FILE NUMBER: ORIGINAL ARCHIVE: ORIGINAL FILE NUMBER: INVENTORY NUMBER: NUMBER OF PAGES: ITEM NUMBER: חטיבה: 0.6 שם חטיבה : אוסף פולין Poland Collection 577 מספר תיק: םימול תיק קודם : ארכיון מוצא: סימול מקורי: מספר נכנסות: מספר עמודים : מספר פריט:\"}, {\"vertices\": [{\"x\": 614, \"y\": 385}, {\"x\": 2168, \"y\": 385}, {\"x\": 2168, \"y\": 2476}, {\"x\": 614, \"y\": 2476}]}], \"words\": [[{\"vertices\": [{\"x\": 614, \"y\": 385}, {\"x\": 2168, \"y\": 385}, {\"x\": 2168, \"y\": 2476}, {\"x\": 614, \"y\": 2476}]}, [\"ארכיון יד ושם\", \"YAD VASHEM ARCHIVES\", \"RECORD GROUP:\", \"RECORD GROUP:\", \"FILE NUMBER:\", \"PREVIOUS FILE\", \"NUMBER:\", \"ORIGINAL\", \"ARCHIVE:\", \"ORIGINAL FILE\", \"NUMBER:\", \"INVENTORY\", \"NUMBER:\", \"NUMBER OF\", \"PAGES:\", \"ITEM NUMBER:\", \"חטיבה:\", \"0.6\", \"שם חטיבה :\", \"אוסף פולין\", \"Poland Collection\", \"577\", \"מספר תיק:\", \"םימול תיק\", \"קודם :\", \"ארכיון מוצא:\", \"סימול מקורי:\", \"מספר נכנסות:\", \"מספר עמודים :\", \"מספר פריט:\"]], [{\"vertices\": [{\"x\": 1420, \"y\": 392}, {\"x\": 1740, \"y\": 398}, {\"x\": 1738, \"y\": 500}, {\"x\": 1418, \"y\": 494}]}, [\"ארכיון\"]], [{\"vertices\": [{\"x\": 1288, \"y\": 391}, {\"x\": 1380, \"y\": 393}, {\"x\": 1378, \"y\": 494}, {\"x\": 1286, \"y\": 492}]}, [\"יד\"]], [{\"vertices\": [{\"x\": 1052, \"y\": 387}, {\"x\": 1248, \"y\": 390}, {\"x\": 1246, \"y\": 491}, {\"x\": 1050, \"y\": 488}]}, [\"ושם\"]], [{\"vertices\": [{\"x\": 813, \"y\": 526}, {\"x\": 1019, \"y\": 527}, {\"x\": 1019, \"y\": 596}, {\"x\": 813, \"y\": 595}]}, [\"YAD\"]], [{\"vertices\": [{\"x\": 1054, \"y\": 527}, {\"x\": 1460, \"y\": 528}, {\"x\": 1460, \"y\": 597}, {\"x\": 1054, \"y\": 596}]}, [\"VASHEM\"]], [{\"vertices\": [{\"x\": 1487, \"y\": 528}, {\"x\": 1973, \"y\": 530}, {\"x\": 1973, \"y\": 599}, {\"x\": 1487, \"y\": 597}]}, [\"ARCHIVES\"]], [{\"vertices\": [{\"x\": 614, \"y\": 782}, {\"x\": 836, \"y\": 783}, {\"x\": 836, \"y\": 822}, {\"x\": 614, \"y\": 821}]}, [\"RECORD\"]], [{\"vertices\": [{\"x\": 857, \"y\": 783}, {\"x\": 1047, \"y\": 784}, {\"x\": 1047, \"y\": 823}, {\"x\": 857, \"y\": 822}]}, [\"GROUP\"]], [{\"vertices\": [{\"x\": 1049, \"y\": 784}, {\"x\": 1062, \"y\": 784}, {\"x\": 1062, \"y\": 822}, {\"x\": 1049, \"y\": 822}]}, [\":\"]], [{\"vertices\": [{\"x\": 616, \"y\": 937}, {\"x\": 839, \"y\": 937}, {\"x\": 839, \"y\": 977}, {\"x\": 616, \"y\": 977}]}, [\"RECORD\"]], [{\"vertices\": [{\"x\": 859, \"y\": 937}, {\"x\": 1046, \"y\": 937}, {\"x\": 1046, \"y\": 977}, {\"x\": 859, \"y\": 977}]}, [\"GROUP\"]], [{\"vertices\": [{\"x\": 1054, \"y\": 937}, {\"x\": 1060, \"y\": 937}, {\"x\": 1060, \"y\": 977}, {\"x\": 1054, \"y\": 977}]}, [\":\"]], [{\"vertices\": [{\"x\": 616, \"y\": 1217}, {\"x\": 731, \"y\": 1217}, {\"x\": 731, \"y\": 1256}, {\"x\": 616, \"y\": 1256}]}, [\"FILE\"]], [{\"vertices\": [{\"x\": 746, \"y\": 1217}, {\"x\": 989, \"y\": 1217}, {\"x\": 989, \"y\": 1256}, {\"x\": 746, \"y\": 1256}]}, [\"NUMBER\"]], [{\"vertices\": [{\"x\": 993, \"y\": 1217}, {\"x\": 1000, \"y\": 1217}, {\"x\": 1000, \"y\": 1256}, {\"x\": 993, \"y\": 1256}]}, [\":\"]], [{\"vertices\": [{\"x\": 615, \"y\": 1345}, {\"x\": 886, \"y\": 1345}, {\"x\": 886, \"y\": 1384}, {\"x\": 615, \"y\": 1384}]}, [\"PREVIOUS\"]], [{\"vertices\": [{\"x\": 903, \"y\": 1345}, {\"x\": 1021, \"y\": 1345}, {\"x\": 1021, \"y\": 1384}, {\"x\": 903, \"y\": 1384}]}, [\"FILE\"]], [{\"vertices\": [{\"x\": 615, \"y\": 1443}, {\"x\": 845, \"y\": 1443}, {\"x\": 845, \"y\": 1482}, {\"x\": 615, \"y\": 1482}]}, [\"NUMBER\"]], [{\"vertices\": [{\"x\": 856, \"y\": 1443}, {\"x\": 866, \"y\": 1443}, {\"x\": 866, \"y\": 1482}, {\"x\": 856, \"y\": 1482}]}, [\":\"]], [{\"vertices\": [{\"x\": 616, \"y\": 1571}, {\"x\": 879, \"y\": 1571}, {\"x\": 879, \"y\": 1608}, {\"x\": 616, \"y\": 1608}]}, [\"ORIGINAL\"]], [{\"vertices\": [{\"x\": 616, \"y\": 1667}, {\"x\": 862, \"y\": 1668}, {\"x\": 862, \"y\": 1706}, {\"x\": 616, \"y\": 1705}]}, [\"ARCHIVE\"]], [{\"vertices\": [{\"x\": 865, \"y\": 1669}, {\"x\": 878, \"y\": 1669}, {\"x\": 878, \"y\": 1706}, {\"x\": 865, \"y\": 1706}]}, [\":\"]], [{\"vertices\": [{\"x\": 617, \"y\": 1789}, {\"x\": 885, \"y\": 1789}, {\"x\": 885, \"y\": 1827}, {\"x\": 617, \"y\": 1827}]}, [\"ORIGINAL\"]], [{\"vertices\": [{\"x\": 900, \"y\": 1789}, {\"x\": 1019, \"y\": 1789}, {\"x\": 1019, \"y\": 1827}, {\"x\": 900, \"y\": 1827}]}, [\"FILE\"]], [{\"vertices\": [{\"x\": 616, \"y\": 1885}, {\"x\": 856, \"y\": 1885}, {\"x\": 856, \"y\": 1924}, {\"x\": 616, \"y\": 1924}]}, [\"NUMBER\"]], [{\"vertices\": [{\"x\": 860, \"y\": 1885}, {\"x\": 866, \"y\": 1885}, {\"x\": 866, \"y\": 1924}, {\"x\": 860, \"y\": 1924}]}, [\":\"]], [{\"vertices\": [{\"x\": 617, \"y\": 2005}, {\"x\": 938, \"y\": 2005}, {\"x\": 938, \"y\": 2042}, {\"x\": 617, \"y\": 2042}]}, [\"INVENTORY\"]], [{\"vertices\": [{\"x\": 616, \"y\": 2102}, {\"x\": 846, \"y\": 2102}, {\"x\": 846, \"y\": 2140}, {\"x\": 616, \"y\": 2140}]}, [\"NUMBER\"]], [{\"vertices\": [{\"x\": 854, \"y\": 2102}, {\"x\": 866, \"y\": 2102}, {\"x\": 866, \"y\": 2140}, {\"x\": 854, \"y\": 2140}]}, [\":\"]], [{\"vertices\": [{\"x\": 615, \"y\": 2221}, {\"x\": 851, \"y\": 2221}, {\"x\": 851, \"y\": 2259}, {\"x\": 615, \"y\": 2259}]}, [\"NUMBER\"]], [{\"vertices\": [{\"x\": 869, \"y\": 2221}, {\"x\": 940, \"y\": 2221}, {\"x\": 940, \"y\": 2259}, {\"x\": 869, \"y\": 2259}]}, [\"OF\"]], [{\"vertices\": [{\"x\": 617, \"y\": 2318}, {\"x\": 790, \"y\": 2318}, {\"x\": 790, \"y\": 2355}, {\"x\": 617, \"y\": 2355}]}, [\"PAGES\"]], [{\"vertices\": [{\"x\": 796, \"y\": 2318}, {\"x\": 808, \"y\": 2318}, {\"x\": 808, \"y\": 2355}, {\"x\": 796, \"y\": 2355}]}, [\":\"]], [{\"vertices\": [{\"x\": 618, \"y\": 2436}, {\"x\": 752, \"y\": 2436}, {\"x\": 752, \"y\": 2476}, {\"x\": 618, \"y\": 2476}]}, [\"ITEM\"]], [{\"vertices\": [{\"x\": 766, \"y\": 2436}, {\"x\": 998, \"y\": 2436}, {\"x\": 998, \"y\": 2476}, {\"x\": 766, \"y\": 2476}]}, [\"NUMBER\"]], [{\"vertices\": [{\"x\": 1006, \"y\": 2436}, {\"x\": 1018, \"y\": 2436}, {\"x\": 1018, \"y\": 2476}, {\"x\": 1006, \"y\": 2476}]}, [\":\"]], [{\"vertices\": [{\"x\": 2009, \"y\": 787}, {\"x\": 2168, \"y\": 785}, {\"x\": 2168, \"y\": 823}, {\"x\": 2009, \"y\": 825}]}, [\"חטיבה\"]], [{\"vertices\": [{\"x\": 1987, \"y\": 789}, {\"x\": 1994, \"y\": 789}, {\"x\": 1994, \"y\": 826}, {\"x\": 1987, \"y\": 826}]}, [\":\"]], [{\"vertices\": [{\"x\": 1387, \"y\": 791}, {\"x\": 1504, \"y\": 791}, {\"x\": 1504, \"y\": 842}, {\"x\": 1387, \"y\": 842}]}, [\"0.6\"]], [{\"vertices\": [{\"x\": 2093, \"y\": 939}, {\"x\": 2167, \"y\": 938}, {\"x\": 2167, \"y\": 977}, {\"x\": 2093, \"y\": 978}]}, [\"שם\"]], [{\"vertices\": [{\"x\": 1911, \"y\": 939}, {\"x\": 2073, \"y\": 938}, {\"x\": 2073, \"y\": 978}, {\"x\": 1911, \"y\": 979}]}, [\"חטיבה\"]], [{\"vertices\": [{\"x\": 1890, \"y\": 941}, {\"x\": 1896, \"y\": 941}, {\"x\": 1896, \"y\": 980}, {\"x\": 1890, \"y\": 980}]}, [\":\"]], [{\"vertices\": [{\"x\": 1448, \"y\": 931}, {\"x\": 1560, \"y\": 933}, {\"x\": 1559, \"y\": 984}, {\"x\": 1447, \"y\": 982}]}, [\"אוסף\"]], [{\"vertices\": [{\"x\": 1328, \"y\": 929}, {\"x\": 1432, \"y\": 931}, {\"x\": 1431, \"y\": 982}, {\"x\": 1327, \"y\": 980}]}, [\"פולין\"]], [{\"vertices\": [{\"x\": 1254, \"y\": 1101}, {\"x\": 1397, \"y\": 1101}, {\"x\": 1397, \"y\": 1138}, {\"x\": 1254, \"y\": 1138}]}, [\"Poland\"]], [{\"vertices\": [{\"x\": 1413, \"y\": 1101}, {\"x\": 1630, \"y\": 1101}, {\"x\": 1630, \"y\": 1138}, {\"x\": 1413, \"y\": 1138}]}, [\"Collection\"]], [{\"vertices\": [{\"x\": 1317, \"y\": 1215}, {\"x\": 1503, \"y\": 1224}, {\"x\": 1500, \"y\": 1286}, {\"x\": 1314, \"y\": 1277}]}, [\"577\"]], [{\"vertices\": [{\"x\": 2033, \"y\": 1218}, {\"x\": 2165, \"y\": 1215}, {\"x\": 2166, \"y\": 1264}, {\"x\": 2034, \"y\": 1267}]}, [\"מספר\"]], [{\"vertices\": [{\"x\": 1920, \"y\": 1221}, {\"x\": 2013, \"y\": 1219}, {\"x\": 2014, \"y\": 1267}, {\"x\": 1921, \"y\": 1269}]}, [\"תיק\"]], [{\"vertices\": [{\"x\": 1896, \"y\": 1222}, {\"x\": 1904, \"y\": 1222}, {\"x\": 1905, \"y\": 1270}, {\"x\": 1897, \"y\": 1270}]}, [\":\"]], [{\"vertices\": [{\"x\": 2022, \"y\": 1340}, {\"x\": 2167, \"y\": 1336}, {\"x\": 2168, \"y\": 1391}, {\"x\": 2024, \"y\": 1395}]}, [\"םימול\"]], [{\"vertices\": [{\"x\": 1910, \"y\": 1343}, {\"x\": 2003, \"y\": 1340}, {\"x\": 2005, \"y\": 1395}, {\"x\": 1912, \"y\": 1398}]}, [\"תיק\"]], [{\"vertices\": [{\"x\": 2039, \"y\": 1450}, {\"x\": 2165, \"y\": 1448}, {\"x\": 2166, \"y\": 1498}, {\"x\": 2040, \"y\": 1500}]}, [\"קודם\"]], [{\"vertices\": [{\"x\": 2016, \"y\": 1451}, {\"x\": 2024, \"y\": 1451}, {\"x\": 2025, \"y\": 1500}, {\"x\": 2017, \"y\": 1500}]}, [\":\"]], [{\"vertices\": [{\"x\": 2010, \"y\": 1573}, {\"x\": 2165, \"y\": 1576}, {\"x\": 2164, \"y\": 1625}, {\"x\": 2009, \"y\": 1622}]}, [\"ארכיון\"]], [{\"vertices\": [{\"x\": 1862, \"y\": 1569}, {\"x\": 1988, \"y\": 1571}, {\"x\": 1987, \"y\": 1620}, {\"x\": 1861, \"y\": 1618}]}, [\"מוצא\"]], [{\"vertices\": [{\"x\": 1838, \"y\": 1570}, {\"x\": 1846, \"y\": 1570}, {\"x\": 1845, \"y\": 1618}, {\"x\": 1837, \"y\": 1618}]}, [\":\"]], [{\"vertices\": [{\"x\": 2022, \"y\": 1783}, {\"x\": 2165, \"y\": 1779}, {\"x\": 2166, \"y\": 1835}, {\"x\": 2023, \"y\": 1839}]}, [\"סימול\"]], [{\"vertices\": [{\"x\": 1855, \"y\": 1787}, {\"x\": 2001, \"y\": 1783}, {\"x\": 2002, \"y\": 1839}, {\"x\": 1856, \"y\": 1843}]}, [\"מקורי\"]], [{\"vertices\": [{\"x\": 1835, \"y\": 1788}, {\"x\": 1841, \"y\": 1788}, {\"x\": 1842, \"y\": 1843}, {\"x\": 1836, \"y\": 1843}]}, [\":\"]], [{\"vertices\": [{\"x\": 2031, \"y\": 2005}, {\"x\": 2163, \"y\": 2004}, {\"x\": 2163, \"y\": 2042}, {\"x\": 2031, \"y\": 2043}]}, [\"מספר\"]], [{\"vertices\": [{\"x\": 1843, \"y\": 2006}, {\"x\": 2011, \"y\": 2005}, {\"x\": 2011, \"y\": 2042}, {\"x\": 1843, \"y\": 2043}]}, [\"נכנסות\"]], [{\"vertices\": [{\"x\": 1822, \"y\": 2007}, {\"x\": 1828, \"y\": 2007}, {\"x\": 1828, \"y\": 2044}, {\"x\": 1822, \"y\": 2044}]}, [\":\"]], [{\"vertices\": [{\"x\": 2029, \"y\": 2221}, {\"x\": 2161, \"y\": 2220}, {\"x\": 2161, \"y\": 2262}, {\"x\": 2029, \"y\": 2263}]}, [\"מספר\"]], [{\"vertices\": [{\"x\": 1833, \"y\": 2222}, {\"x\": 2011, \"y\": 2221}, {\"x\": 2011, \"y\": 2262}, {\"x\": 1833, \"y\": 2263}]}, [\"עמודים\"]], [{\"vertices\": [{\"x\": 1810, \"y\": 2223}, {\"x\": 1816, \"y\": 2223}, {\"x\": 1816, \"y\": 2264}, {\"x\": 1810, \"y\": 2264}]}, [\":\"]], [{\"vertices\": [{\"x\": 2030, \"y\": 2438}, {\"x\": 2162, \"y\": 2438}, {\"x\": 2162, \"y\": 2476}, {\"x\": 2030, \"y\": 2476}]}, [\"מספר\"]], [{\"vertices\": [{\"x\": 1894, \"y\": 2438}, {\"x\": 2010, \"y\": 2438}, {\"x\": 2010, \"y\": 2476}, {\"x\": 1894, \"y\": 2476}]}, [\"פריט\"]], [{\"vertices\": [{\"x\": 1872, \"y\": 2438}, {\"x\": 1878, \"y\": 2438}, {\"x\": 1878, \"y\": 2476}, {\"x\": 1872, \"y\": 2476}]}, [\":\"]]], \"CARDINAL\": [\"0.6\"], \"ORG\": [\"Poland Collection\"], \"PERSON\": [\"מספר תיק\", \"מספר נכנסות\", \"מספר עמודים\"], \"Production date\": \"\", \"data_Languages\": [[\"English\", 0.59451586], [\"Hebrew\", 0.38450354]], \"top_title\": [\"ארכיון יד ושם \", \"YAD VASHEM ARCHIVES \"], \"json_path\": \"data\\\\1\\\\00002 (2).json\", \"format_json_path\": \"data\\\\1\\\\00002 (2)_format.json\", \"pic-doc-ed\": \"documents\"}"
   ]
  },
  {
   "cell_type": "code",
   "execution_count": 17,
   "id": "357de633-341a-4fb6-b5c0-31812652d86b",
   "metadata": {},
   "outputs": [],
   "source": [
    "def res_word(word):\n",
    "    res=word.split('##')\n",
    "    if '' in res:\n",
    "        res.remove('')\n",
    "    if len(res)>1:\n",
    "        return res[1]\n",
    "    else:\n",
    "        return res[0]"
   ]
  },
  {
   "cell_type": "code",
   "execution_count": 18,
   "id": "98772abe-c1ad-4294-b0ef-2a5820a568bb",
   "metadata": {},
   "outputs": [],
   "source": [
    "\n",
    "def bert(example, nlp):\n",
    "    ner_results = nlp(example)\n",
    "    entities = {'ORG': [], 'LOC': [], 'PER': [], 'MISC': []}\n",
    "    B_LOC=0\n",
    "    B_PER=0\n",
    "    B_MISC=0\n",
    "    B_ORG=0\n",
    "    for res in ner_results:\n",
    "        if res['entity'] == 'B-LOC':\n",
    "            B_LOC+=1\n",
    "            entities['LOC'].append(res_word(res['word']))\n",
    "        elif res['entity'] == 'I-LOC':\n",
    "            entities['LOC'][B_LOC-1] += res_word(res['word'])\n",
    "        elif res['entity'] == 'B-PER':\n",
    "            B_PER+=1\n",
    "            entities['PER'].append(res_word(res['word']))\n",
    "        elif res['entity'] == 'I-PER':\n",
    "            entities['PER'][B_PER-1] += res_word(res['word'])\n",
    "        elif res['entity'] == 'B-ORG':\n",
    "            B_ORG+=1\n",
    "            entities['ORG'].append(res_word(res['word']))\n",
    "        elif res['entity'] == 'I-ORG':\n",
    "            entities['ORG'][B_ORG-1] += res_word(res['word'])\n",
    "        elif res['entity'] == 'B-MISC':\n",
    "            B_MISC+=1\n",
    "            entities['MISC'].append(res_word(res['word']))\n",
    "        elif res['entity'] == 'I-MISC':\n",
    "            entities['MISC'][B_MISC-1] += res_word(res['word'])\n",
    "    \n",
    "    for en in entities:\n",
    "        print(en)\n",
    "        print(entities[en])"
   ]
  },
  {
   "cell_type": "code",
   "execution_count": 27,
   "id": "4581256e-93f8-49d8-b270-0b75fdc0fb2c",
   "metadata": {},
   "outputs": [],
   "source": [
    "def before_bert(example):\n",
    "    tokenizer = AutoTokenizer.from_pretrained(\"bert-large-uncased\")\n",
    "    model = AutoModelForTokenClassification.from_pretrained(\"bert-large-uncased\")\n",
    "    nlp = pipeline(\"ner\", model=model, tokenizer=tokenizer)\n",
    "    bert(example, nlp)"
   ]
  },
  {
   "cell_type": "code",
   "execution_count": 28,
   "id": "ecd6506c-8994-48a0-a340-8aadbe7db431",
   "metadata": {},
   "outputs": [],
   "source": [
    "example='A: There were seven brothers and me.  I was the only daughter.  They were all older than me.  I was – there was no one younger than me.  All the brothers were in Poland.  One brother went to Belgium in 1928.When the war broke out we were all in Radom. '\n",
    "example3='My name is Yaffa Goldwasser, my maiden name was Zucker.  I was born in Radom in 1924.  Until the outbreak of the war, I was a high school student.  I studied in the “Hovevei Daat” Jewish high school.  My father was a merchant in Radom.'\n",
    "example4=' At the beginning of the war, the Judenrat asked girls who had studied in high school to teach the children because there were no schools for little children.  So I had very many private lessons, I had groups of children who came to me and I taught them.  Besides that I went to work volunteering in an old folk’s home in Radom.  Suddenly there was a lot of trouble and they said they needed people to work in the old folk’s home.  So I went to work as a volunteer in the old folk’s home.And afterwards, as time went on, it began like this, we simply thought (I didn’t get to that yet).  We came to … when there was a ghetto.'\n",
    "example5=' You mean all the Jews from the main streets apparently, where the Jews lived in the Christian district, were transferred to the ghetto'\n",
    "example6='  There were two ghetto districts in Radom.  One ghetto was bigger and the second ghetto had 8,000 Jews that lived in the smaller ghetto. 8,000, not 8,000 … no, eight thousand, right.  All together there were over 30,000 Jews in the Radom ghetto and the rest were in the big ghetto.We had to leave our apartment, of course, together with all the other Jews and we entered the ghetto.  We had a room there with a tiny kitchen and we were crowded.  We were a big family.  I should also emphasize that one of my brothers, who already lived in Skarzysko, was quite a wealthy Jew.  When the Germans came in, the Gestapo took him right away as a hostage because they gave a contribution for that town and he was among the ho'\n",
    "# example7\n",
    "# example8\n",
    "# example9\n",
    "example2='Two brothers were married.  One lived in Skarzysko with his wife and the other lived in Radom with his wife and their little boy.  '\n",
    "example2+='When the war broke out, we couldn’t, at least my father couldn’t go into our shop out of fear,'\n",
    "example2+='because when the Germans occupied Radom, the decrees and maltreatment already started. '\n",
    "example2+='We were simply afraid for my father to leave the house.  My brothers used to go out.  '\n",
    "example2+='They would take them very often actually for forced labor and would maltreat them. '\n",
    "example2+='I remember how they looked sometimes when they would come back from work. '\n",
    "example2+='They would say:  - from the experience they had with the Germans at the time. '\n",
    "example2+='But during that time they would go to our store.  At that time the Germans would arrive '\n",
    "example2+='with a truck and load it with goods in a very official manner.  They didn’t steal it.' \n",
    "example2+='They brought a paper that said they were officially taking the goods to some offices, '\n",
    "example2+='I don’t know, for their needs.  And over time, since our store was in a very central l'\n",
    "example2+='ocation in town, on the main street, they began to come and complain that a Jew’s store could not be there. '\n",
    "example2+='But the store owner was a Pole and for some reason, not out of love for the Jews but hatred for the Germans'\n",
    "example2+='he didn’t want to hand the store over to anyone else.  He said he had no complaints against that man. '\n",
    "example2+='My father had had the store in that place for forty years.'\n",
    "example2+='And we stayed right up to the time when Jews were forbidden to run that kind of store and they had to put a trustee (‘treuhander’) '\n",
    "example2+='in there.To tell the truth, we knew such a danger awaited us.  So we tried that the treuhander would be one'\n",
    "example2+='of the people we knew.  We had one of our customers, who was a volksdeutsche.  We decided he would submit'\n",
    "example2+='his candidacy and he got the ??????.  He was a volksdeutsche who during the war found it perhaps conveni'\n",
    "example2+='ent to be a volksdeutsche.  He applied for it and got the store.  We thought conditions would be mor'\n",
    "example2+='e convenient with this.  He took my brothers to work for him.  They worked in that store.  '\n",
    "example2+='And we were on quite good terms with him.  There was forced labor during that time.  At' \n",
    "example2+='that time my brothers were either abducted or taken by force.  They also paid other workers and sent them.' \n",
    "example2+='The Judenrat would send workers and receive ransom from the Jews who were busy with commerce or other such things'"
   ]
  },
  {
   "cell_type": "code",
   "execution_count": 29,
   "id": "270cef30-91d0-439d-9524-55f4041c46a8",
   "metadata": {},
   "outputs": [],
   "source": [
    "def get_finds_dates_places_persons(desc):\n",
    "    nlp = spacy.load(\"en_core_web_trf\")\n",
    "    doc = nlp(desc)\n",
    "    entity_types = {}\n",
    "    \n",
    "    for ent in doc.ents:\n",
    "        type_name = ent.label_\n",
    "        entity = ent.text\n",
    "\n",
    "        if type_name not in entity_types:\n",
    "            entity_types[type_name] = []\n",
    "\n",
    "        entity_types[type_name].append(entity)\n",
    "    target_word=nlp(\"study\")\n",
    "    return entity_types"
   ]
  },
  {
   "cell_type": "code",
   "execution_count": 30,
   "id": "6268b655-8afe-4f4f-87d5-7d1773263212",
   "metadata": {
    "scrolled": true
   },
   "outputs": [
    {
     "data": {
      "application/vnd.jupyter.widget-view+json": {
       "model_id": "d65628bd60ed40d497485458dd117afc",
       "version_major": 2,
       "version_minor": 0
      },
      "text/plain": [
       "tokenizer_config.json:   0%|          | 0.00/48.0 [00:00<?, ?B/s]"
      ]
     },
     "metadata": {},
     "output_type": "display_data"
    },
    {
     "name": "stderr",
     "output_type": "stream",
     "text": [
      "C:\\Python310\\lib\\site-packages\\huggingface_hub\\file_download.py:157: UserWarning: `huggingface_hub` cache-system uses symlinks by default to efficiently store duplicated files but your machine does not support them in C:\\Users\\The user\\.cache\\huggingface\\hub\\models--bert-large-uncased. Caching files will still work but in a degraded version that might require more space on your disk. This warning can be disabled by setting the `HF_HUB_DISABLE_SYMLINKS_WARNING` environment variable. For more details, see https://huggingface.co/docs/huggingface_hub/how-to-cache#limitations.\n",
      "To support symlinks on Windows, you either need to activate Developer Mode or to run Python as an administrator. In order to see activate developer mode, see this article: https://docs.microsoft.com/en-us/windows/apps/get-started/enable-your-device-for-development\n",
      "  warnings.warn(message)\n"
     ]
    },
    {
     "data": {
      "application/vnd.jupyter.widget-view+json": {
       "model_id": "1d57973a2ae848cd889c77e99efe57bd",
       "version_major": 2,
       "version_minor": 0
      },
      "text/plain": [
       "config.json:   0%|          | 0.00/571 [00:00<?, ?B/s]"
      ]
     },
     "metadata": {},
     "output_type": "display_data"
    },
    {
     "data": {
      "application/vnd.jupyter.widget-view+json": {
       "model_id": "9567377e4c674f93b95a92cc6a25137b",
       "version_major": 2,
       "version_minor": 0
      },
      "text/plain": [
       "vocab.txt:   0%|          | 0.00/232k [00:00<?, ?B/s]"
      ]
     },
     "metadata": {},
     "output_type": "display_data"
    },
    {
     "data": {
      "application/vnd.jupyter.widget-view+json": {
       "model_id": "2515221c06544bffac3faba14f5a3baa",
       "version_major": 2,
       "version_minor": 0
      },
      "text/plain": [
       "tokenizer.json: 0.00B [00:00, ?B/s]"
      ]
     },
     "metadata": {},
     "output_type": "display_data"
    },
    {
     "data": {
      "application/vnd.jupyter.widget-view+json": {
       "model_id": "d164a736d7304b53a7d807feb56b4144",
       "version_major": 2,
       "version_minor": 0
      },
      "text/plain": [
       "model.safetensors:   0%|          | 0.00/1.34G [00:00<?, ?B/s]"
      ]
     },
     "metadata": {},
     "output_type": "display_data"
    },
    {
     "name": "stderr",
     "output_type": "stream",
     "text": [
      "A parameter name that contains `beta` will be renamed internally to `bias`. Please use a different name to suppress this warning.\n",
      "A parameter name that contains `gamma` will be renamed internally to `weight`. Please use a different name to suppress this warning.\n",
      "A parameter name that contains `beta` will be renamed internally to `bias`. Please use a different name to suppress this warning.\n",
      "A parameter name that contains `gamma` will be renamed internally to `weight`. Please use a different name to suppress this warning.\n",
      "A parameter name that contains `beta` will be renamed internally to `bias`. Please use a different name to suppress this warning.\n",
      "A parameter name that contains `gamma` will be renamed internally to `weight`. Please use a different name to suppress this warning.\n",
      "A parameter name that contains `beta` will be renamed internally to `bias`. Please use a different name to suppress this warning.\n",
      "A parameter name that contains `gamma` will be renamed internally to `weight`. Please use a different name to suppress this warning.\n",
      "A parameter name that contains `beta` will be renamed internally to `bias`. Please use a different name to suppress this warning.\n",
      "A parameter name that contains `gamma` will be renamed internally to `weight`. Please use a different name to suppress this warning.\n",
      "A parameter name that contains `beta` will be renamed internally to `bias`. Please use a different name to suppress this warning.\n",
      "A parameter name that contains `gamma` will be renamed internally to `weight`. Please use a different name to suppress this warning.\n",
      "A parameter name that contains `beta` will be renamed internally to `bias`. Please use a different name to suppress this warning.\n",
      "A parameter name that contains `gamma` will be renamed internally to `weight`. Please use a different name to suppress this warning.\n",
      "A parameter name that contains `beta` will be renamed internally to `bias`. Please use a different name to suppress this warning.\n",
      "A parameter name that contains `gamma` will be renamed internally to `weight`. Please use a different name to suppress this warning.\n",
      "A parameter name that contains `beta` will be renamed internally to `bias`. Please use a different name to suppress this warning.\n",
      "A parameter name that contains `gamma` will be renamed internally to `weight`. Please use a different name to suppress this warning.\n",
      "A parameter name that contains `beta` will be renamed internally to `bias`. Please use a different name to suppress this warning.\n",
      "A parameter name that contains `gamma` will be renamed internally to `weight`. Please use a different name to suppress this warning.\n",
      "A parameter name that contains `beta` will be renamed internally to `bias`. Please use a different name to suppress this warning.\n",
      "A parameter name that contains `gamma` will be renamed internally to `weight`. Please use a different name to suppress this warning.\n",
      "A parameter name that contains `beta` will be renamed internally to `bias`. Please use a different name to suppress this warning.\n",
      "A parameter name that contains `gamma` will be renamed internally to `weight`. Please use a different name to suppress this warning.\n",
      "A parameter name that contains `beta` will be renamed internally to `bias`. Please use a different name to suppress this warning.\n",
      "A parameter name that contains `gamma` will be renamed internally to `weight`. Please use a different name to suppress this warning.\n",
      "A parameter name that contains `beta` will be renamed internally to `bias`. Please use a different name to suppress this warning.\n",
      "A parameter name that contains `gamma` will be renamed internally to `weight`. Please use a different name to suppress this warning.\n",
      "A parameter name that contains `beta` will be renamed internally to `bias`. Please use a different name to suppress this warning.\n",
      "A parameter name that contains `gamma` will be renamed internally to `weight`. Please use a different name to suppress this warning.\n",
      "A parameter name that contains `beta` will be renamed internally to `bias`. Please use a different name to suppress this warning.\n",
      "A parameter name that contains `gamma` will be renamed internally to `weight`. Please use a different name to suppress this warning.\n",
      "A parameter name that contains `beta` will be renamed internally to `bias`. Please use a different name to suppress this warning.\n",
      "A parameter name that contains `gamma` will be renamed internally to `weight`. Please use a different name to suppress this warning.\n",
      "A parameter name that contains `beta` will be renamed internally to `bias`. Please use a different name to suppress this warning.\n",
      "A parameter name that contains `gamma` will be renamed internally to `weight`. Please use a different name to suppress this warning.\n",
      "A parameter name that contains `beta` will be renamed internally to `bias`. Please use a different name to suppress this warning.\n",
      "A parameter name that contains `gamma` will be renamed internally to `weight`. Please use a different name to suppress this warning.\n",
      "A parameter name that contains `beta` will be renamed internally to `bias`. Please use a different name to suppress this warning.\n",
      "A parameter name that contains `gamma` will be renamed internally to `weight`. Please use a different name to suppress this warning.\n",
      "A parameter name that contains `beta` will be renamed internally to `bias`. Please use a different name to suppress this warning.\n",
      "A parameter name that contains `gamma` will be renamed internally to `weight`. Please use a different name to suppress this warning.\n",
      "A parameter name that contains `beta` will be renamed internally to `bias`. Please use a different name to suppress this warning.\n",
      "A parameter name that contains `gamma` will be renamed internally to `weight`. Please use a different name to suppress this warning.\n",
      "A parameter name that contains `beta` will be renamed internally to `bias`. Please use a different name to suppress this warning.\n",
      "A parameter name that contains `gamma` will be renamed internally to `weight`. Please use a different name to suppress this warning.\n",
      "A parameter name that contains `beta` will be renamed internally to `bias`. Please use a different name to suppress this warning.\n",
      "A parameter name that contains `gamma` will be renamed internally to `weight`. Please use a different name to suppress this warning.\n",
      "A parameter name that contains `beta` will be renamed internally to `bias`. Please use a different name to suppress this warning.\n",
      "A parameter name that contains `gamma` will be renamed internally to `weight`. Please use a different name to suppress this warning.\n",
      "A parameter name that contains `beta` will be renamed internally to `bias`. Please use a different name to suppress this warning.\n",
      "A parameter name that contains `gamma` will be renamed internally to `weight`. Please use a different name to suppress this warning.\n",
      "A parameter name that contains `beta` will be renamed internally to `bias`. Please use a different name to suppress this warning.\n",
      "A parameter name that contains `gamma` will be renamed internally to `weight`. Please use a different name to suppress this warning.\n",
      "A parameter name that contains `beta` will be renamed internally to `bias`. Please use a different name to suppress this warning.\n",
      "A parameter name that contains `gamma` will be renamed internally to `weight`. Please use a different name to suppress this warning.\n",
      "A parameter name that contains `beta` will be renamed internally to `bias`. Please use a different name to suppress this warning.\n",
      "A parameter name that contains `gamma` will be renamed internally to `weight`. Please use a different name to suppress this warning.\n",
      "A parameter name that contains `beta` will be renamed internally to `bias`. Please use a different name to suppress this warning.\n",
      "A parameter name that contains `gamma` will be renamed internally to `weight`. Please use a different name to suppress this warning.\n",
      "A parameter name that contains `beta` will be renamed internally to `bias`. Please use a different name to suppress this warning.\n",
      "A parameter name that contains `gamma` will be renamed internally to `weight`. Please use a different name to suppress this warning.\n",
      "A parameter name that contains `beta` will be renamed internally to `bias`. Please use a different name to suppress this warning.\n",
      "A parameter name that contains `gamma` will be renamed internally to `weight`. Please use a different name to suppress this warning.\n",
      "A parameter name that contains `beta` will be renamed internally to `bias`. Please use a different name to suppress this warning.\n",
      "A parameter name that contains `gamma` will be renamed internally to `weight`. Please use a different name to suppress this warning.\n",
      "A parameter name that contains `beta` will be renamed internally to `bias`. Please use a different name to suppress this warning.\n",
      "A parameter name that contains `gamma` will be renamed internally to `weight`. Please use a different name to suppress this warning.\n",
      "A parameter name that contains `beta` will be renamed internally to `bias`. Please use a different name to suppress this warning.\n",
      "A parameter name that contains `gamma` will be renamed internally to `weight`. Please use a different name to suppress this warning.\n",
      "A parameter name that contains `beta` will be renamed internally to `bias`. Please use a different name to suppress this warning.\n",
      "A parameter name that contains `gamma` will be renamed internally to `weight`. Please use a different name to suppress this warning.\n",
      "A parameter name that contains `beta` will be renamed internally to `bias`. Please use a different name to suppress this warning.\n",
      "A parameter name that contains `gamma` will be renamed internally to `weight`. Please use a different name to suppress this warning.\n",
      "A parameter name that contains `beta` will be renamed internally to `bias`. Please use a different name to suppress this warning.\n",
      "A parameter name that contains `gamma` will be renamed internally to `weight`. Please use a different name to suppress this warning.\n",
      "A parameter name that contains `beta` will be renamed internally to `bias`. Please use a different name to suppress this warning.\n",
      "A parameter name that contains `gamma` will be renamed internally to `weight`. Please use a different name to suppress this warning.\n",
      "A parameter name that contains `beta` will be renamed internally to `bias`. Please use a different name to suppress this warning.\n",
      "A parameter name that contains `gamma` will be renamed internally to `weight`. Please use a different name to suppress this warning.\n",
      "A parameter name that contains `beta` will be renamed internally to `bias`. Please use a different name to suppress this warning.\n",
      "A parameter name that contains `gamma` will be renamed internally to `weight`. Please use a different name to suppress this warning.\n",
      "A parameter name that contains `beta` will be renamed internally to `bias`. Please use a different name to suppress this warning.\n",
      "A parameter name that contains `gamma` will be renamed internally to `weight`. Please use a different name to suppress this warning.\n",
      "A parameter name that contains `beta` will be renamed internally to `bias`. Please use a different name to suppress this warning.\n",
      "A parameter name that contains `gamma` will be renamed internally to `weight`. Please use a different name to suppress this warning.\n",
      "A parameter name that contains `beta` will be renamed internally to `bias`. Please use a different name to suppress this warning.\n",
      "A parameter name that contains `gamma` will be renamed internally to `weight`. Please use a different name to suppress this warning.\n",
      "A parameter name that contains `beta` will be renamed internally to `bias`. Please use a different name to suppress this warning.\n",
      "A parameter name that contains `gamma` will be renamed internally to `weight`. Please use a different name to suppress this warning.\n",
      "A parameter name that contains `beta` will be renamed internally to `bias`. Please use a different name to suppress this warning.\n",
      "A parameter name that contains `gamma` will be renamed internally to `weight`. Please use a different name to suppress this warning.\n",
      "A parameter name that contains `beta` will be renamed internally to `bias`. Please use a different name to suppress this warning.\n",
      "A parameter name that contains `gamma` will be renamed internally to `weight`. Please use a different name to suppress this warning.\n",
      "A parameter name that contains `beta` will be renamed internally to `bias`. Please use a different name to suppress this warning.\n",
      "A parameter name that contains `gamma` will be renamed internally to `weight`. Please use a different name to suppress this warning.\n",
      "A parameter name that contains `beta` will be renamed internally to `bias`. Please use a different name to suppress this warning.\n",
      "A parameter name that contains `gamma` will be renamed internally to `weight`. Please use a different name to suppress this warning.\n",
      "A parameter name that contains `beta` will be renamed internally to `bias`. Please use a different name to suppress this warning.\n",
      "A parameter name that contains `gamma` will be renamed internally to `weight`. Please use a different name to suppress this warning.\n",
      "Some weights of BertForTokenClassification were not initialized from the model checkpoint at bert-large-uncased and are newly initialized: ['classifier.bias', 'classifier.weight']\n",
      "You should probably TRAIN this model on a down-stream task to be able to use it for predictions and inference.\n"
     ]
    },
    {
     "name": "stdout",
     "output_type": "stream",
     "text": [
      "ORG\n",
      "[]\n",
      "LOC\n",
      "[]\n",
      "PER\n",
      "[]\n",
      "MISC\n",
      "[]\n"
     ]
    }
   ],
   "source": [
    "before_bert(example3)\n",
    "# before_bert(json['full_desc_with_verices'][0]['text'])"
   ]
  },
  {
   "cell_type": "code",
   "execution_count": 31,
   "id": "b39c0cfc-7ed5-48e7-9994-479de7bbc23b",
   "metadata": {},
   "outputs": [
    {
     "data": {
      "text/plain": [
       "{'PERSON': ['Yaffa Goldwasser', 'Zucker'],\n",
       " 'GPE': ['Radom', 'Radom'],\n",
       " 'DATE': ['1924'],\n",
       " 'ORG': ['Hovevei Daat'],\n",
       " 'NORP': ['Jewish']}"
      ]
     },
     "execution_count": 31,
     "metadata": {},
     "output_type": "execute_result"
    }
   ],
   "source": [
    "get_finds_dates_places_persons(example3)"
   ]
  },
  {
   "cell_type": "code",
   "execution_count": null,
   "id": "73126b06-3d26-4c78-bc3a-1ad74b8661f0",
   "metadata": {},
   "outputs": [],
   "source": []
  },
  {
   "cell_type": "code",
   "execution_count": null,
   "id": "beca6b27-b711-437c-bd48-5aeaf6614a86",
   "metadata": {
    "scrolled": true
   },
   "outputs": [],
   "source": [
    "# from sentence_transformers import SentenceTransformer\n",
    "# sentences = [\"This is an example sentence\", \"Each sentence is converted\"]\n",
    "\n",
    "# model = SentenceTransformer('sentence-transformers/all-MiniLM-L6-v2')\n",
    "# embeddings = model.encode(sentences)\n",
    "# print(embeddings)"
   ]
  },
  {
   "cell_type": "code",
   "execution_count": 2,
   "id": "6bf1e498-14de-4286-9838-815e55a2cf28",
   "metadata": {},
   "outputs": [],
   "source": [
    "# import tensorflow as tf\n",
    "# from transformers import AutoTokenizer\n",
    "# tokenizer = AutoTokenizer.from_pretrained(\"distilbert-base-uncased\")\n",
    "# labels = tokenizer(\"The capital of France is Paris.\", return_tensors=\"tf\")[\"input_ids\"]\n",
    "# # mask labels of non-[MASK] tokens\n",
    "# mask_token_id = tokenizer.mask_token_id\n",
    "# labels = tf.where(labels != mask_token_id, labels, -100)\n",
    "\n",
    "# # Make sure 'model' and 'inputs' are defined before using them\n",
    "# outputs = model(**inputs, labels=labels)"
   ]
  },
  {
   "cell_type": "code",
   "execution_count": 8,
   "id": "0bb9f012-3053-4626-9417-4c96e57b784e",
   "metadata": {},
   "outputs": [],
   "source": [
    "# from sentence_transformers import SentenceTransformer\n",
    "\n",
    "# # Load or train a model\n",
    "# model.save_to_hub(\"my_new_model\")"
   ]
  },
  {
   "cell_type": "code",
   "execution_count": 1,
   "id": "1e117893-f9bd-4ca8-a5a0-ccf4d0a51934",
   "metadata": {},
   "outputs": [],
   "source": [
    "# from sentence_transformers import SentenceTransformer, util\n",
    "# model = SentenceTransformer('multi-qa-MiniLM-L6-cos-v1')\n",
    "\n",
    "# query_embedding = model.encode('How big is London')\n",
    "# passage_embedding = model.encode(['London has 9,787,426 inhabitants at the 2011 census',\n",
    "#                                   'London is known for its finacial district'])\n",
    "\n",
    "# print(\"Similarity:\", util.dot_score(query_embedding, passage_embedding))"
   ]
  },
  {
   "cell_type": "code",
   "execution_count": 10,
   "id": "a2e3ed8a-12d2-425b-9d61-1618c83e7833",
   "metadata": {},
   "outputs": [],
   "source": [
    "# from sentence_transformers import SentenceTransformer\n",
    "# model = SentenceTransformer('model_name')"
   ]
  },
  {
   "cell_type": "code",
   "execution_count": 69,
   "id": "4c3c558d-0119-4fb9-9b58-feac2d959610",
   "metadata": {},
   "outputs": [],
   "source": [
    "# pip install tensorflow"
   ]
  },
  {
   "cell_type": "code",
   "execution_count": 3,
   "id": "5aa5bc68-a634-44cc-b581-cd3995c47d15",
   "metadata": {},
   "outputs": [
    {
     "name": "stdout",
     "output_type": "stream",
     "text": [
      "[]\n"
     ]
    }
   ],
   "source": [
    "import tensorflow as tf\n",
    "print(tf.config.list_physical_devices('GPU'))"
   ]
  },
  {
   "cell_type": "code",
   "execution_count": 4,
   "id": "37d2d362-6e46-4a2c-85c9-e86cc7268817",
   "metadata": {},
   "outputs": [],
   "source": [
    "# pip install transformers[torch]"
   ]
  },
  {
   "cell_type": "code",
   "execution_count": 5,
   "id": "82d1098f-e599-4e62-881a-3c069813b605",
   "metadata": {},
   "outputs": [],
   "source": [
    "# pip install git+https://github.com/huggingface/transformers"
   ]
  },
  {
   "cell_type": "code",
   "execution_count": 6,
   "id": "be8430b3-61a2-4869-a957-bbdcc98834c4",
   "metadata": {},
   "outputs": [],
   "source": [
    "# pip install huggingface_hub"
   ]
  },
  {
   "cell_type": "code",
   "execution_count": null,
   "id": "e6b9bec2-b7af-4a9a-b820-42eb3b1f1168",
   "metadata": {},
   "outputs": [],
   "source": []
  }
 ],
 "metadata": {
  "kernelspec": {
   "display_name": "Python 3 (ipykernel)",
   "language": "python",
   "name": "python3"
  },
  "language_info": {
   "codemirror_mode": {
    "name": "ipython",
    "version": 3
   },
   "file_extension": ".py",
   "mimetype": "text/x-python",
   "name": "python",
   "nbconvert_exporter": "python",
   "pygments_lexer": "ipython3",
   "version": "3.12.4"
  }
 },
 "nbformat": 4,
 "nbformat_minor": 5
}
