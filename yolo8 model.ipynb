{
 "cells": [
  {
   "cell_type": "markdown",
   "id": "77432b29",
   "metadata": {},
   "source": [
    "https://docs.ultralytics.com/usage/python/\n",
    "\n",
    "https://github.com/ultralytics/ultralytics\n",
    "\n",
    "https://github.com/spmallick/learnopencv/blob/master/Train-YOLOv8-on-Custom-Dataset-A-Complete-Tutorial/yolov8_fine_tuning.ipynb"
   ]
  },
  {
   "cell_type": "code",
   "execution_count": 1,
   "id": "ba9a421f",
   "metadata": {},
   "outputs": [],
   "source": [
    "# pip install ultralytics"
   ]
  },
  {
   "cell_type": "code",
   "execution_count": null,
   "id": "2cf35d67",
   "metadata": {},
   "outputs": [],
   "source": [
    "from ultralytics import YOLO\n",
    "\n",
    "# Create a new YOLO model from scratch\n",
    "model = YOLO(\"yolov8n.yaml\")\n",
    "\n",
    "# Load a pretrained YOLO model (recommended for training)\n",
    "model = YOLO(\"yolov8n.pt\")\n",
    "\n",
    "# Train the model using the 'coco8.yaml' dataset for 3 epochs\n",
    "results = model.train(data=\"coco8.yaml\", epochs=3)\n",
    "\n",
    "# Evaluate the model's performance on the validation set\n",
    "results = model.val()\n",
    "\n",
    "# Perform object detection on an image using the model\n",
    "results = model(\"https://ultralytics.com/images/bus.jpg\")\n",
    "\n",
    "# Export the model to ONNX format\n",
    "success = model.export(format=\"onnx\")"
   ]
  },
  {
   "cell_type": "code",
   "execution_count": 4,
   "id": "ff880bd3",
   "metadata": {},
   "outputs": [],
   "source": [
    "# from ultralytics import YOLO\n",
    "\n",
    "# model = YOLO(\"yolov8n.pt\")  # pass any model type\n",
    "# results = model.train(epochs=5)"
   ]
  },
  {
   "cell_type": "code",
   "execution_count": 5,
   "id": "09153ec0",
   "metadata": {},
   "outputs": [],
   "source": [
    "# results = model.train(epochs=1)"
   ]
  },
  {
   "cell_type": "code",
   "execution_count": 6,
   "id": "bf8d8e22",
   "metadata": {},
   "outputs": [],
   "source": [
    "import os\n",
    "import zipfile\n",
    "import requests\n",
    "import cv2\n",
    "import matplotlib.pyplot as plt\n",
    "import glob \n",
    "import random\n",
    "import os\n",
    "os.makedirs('datasets', exist_ok=True)\n"
   ]
  },
  {
   "cell_type": "code",
   "execution_count": 7,
   "id": "0b293b9f",
   "metadata": {},
   "outputs": [
    {
     "name": "stdout",
     "output_type": "stream",
     "text": [
      "C:\\Users\\The user\\Desktop\\פרקטיקום 15 07 2024\\פרקטיקום שני\\יד ושם שני ! מה קורה פה\\datasets\n"
     ]
    }
   ],
   "source": [
    "%cd datasets"
   ]
  },
  {
   "cell_type": "code",
   "execution_count": 9,
   "id": "4ba9a2c5",
   "metadata": {},
   "outputs": [],
   "source": [
    "def download_file(url, save_name):\n",
    "    url = url\n",
    "    if not os.path.exists(save_name):\n",
    "        file = requests.get(url)\n",
    "        open(save_name, 'wb').write(file.content)\n",
    "        \n",
    "download_file(\n",
    "    'https://www.dropbox.com/s/qvglw8pqo16769f/pothole_dataset_v8.zip?dl=1',\n",
    "    'pothole_dataset_v8.zip'\n",
    ")"
   ]
  },
  {
   "cell_type": "code",
   "execution_count": 10,
   "id": "022e4dcd",
   "metadata": {},
   "outputs": [
    {
     "name": "stdout",
     "output_type": "stream",
     "text": [
      "Invalid file\n"
     ]
    }
   ],
   "source": [
    "# Unzip the data file\n",
    "def unzip(zip_file=None):\n",
    "    try:\n",
    "        with zipfile.ZipFile(zip_file) as z:\n",
    "            z.extractall(\"./\")\n",
    "            print(\"Extracted all\")\n",
    "    except:\n",
    "        print(\"Invalid file\")\n",
    "\n",
    "unzip('pothole_dataset_v8.zip')"
   ]
  },
  {
   "cell_type": "code",
   "execution_count": null,
   "id": "714d0b2c",
   "metadata": {},
   "outputs": [],
   "source": []
  },
  {
   "cell_type": "code",
   "execution_count": null,
   "id": "5d953562",
   "metadata": {},
   "outputs": [],
   "source": [
    "results = model(\"10002413_1.JPG\")  # predict on an image\n"
   ]
  },
  {
   "cell_type": "code",
   "execution_count": null,
   "id": "59f13f72",
   "metadata": {},
   "outputs": [],
   "source": [
    "results"
   ]
  },
  {
   "cell_type": "code",
   "execution_count": null,
   "id": "e7af72cc",
   "metadata": {},
   "outputs": [],
   "source": [
    "%cd"
   ]
  },
  {
   "cell_type": "code",
   "execution_count": null,
   "id": "2b83ea01",
   "metadata": {},
   "outputs": [],
   "source": [
    "ls"
   ]
  },
  {
   "cell_type": "code",
   "execution_count": null,
   "id": "6fbf75df",
   "metadata": {},
   "outputs": [],
   "source": [
    "%%writefile yv_v8.yaml\n",
    "path: 'yv_dataset_v8/'\n",
    "train: 'train/images'\n",
    "val: 'valid/images'\n",
    "\n",
    "# class names\n",
    "names: \n",
    "    0: 'photo'\n",
    "    1: 'document'\n",
    "    2: 'testimony_page'"
   ]
  },
  {
   "cell_type": "code",
   "execution_count": null,
   "id": "2620f089",
   "metadata": {},
   "outputs": [],
   "source": [
    "# Sample training for 5 epoch.\n",
    "EPOCHS = 2\n",
    "!yolo task=detect mode=train model=yolov8n.pt imgsz=1280 data=yv_v8.yaml epochs={EPOCHS} batch=8 name=yolov8n_v8_50e"
   ]
  },
  {
   "cell_type": "code",
   "execution_count": null,
   "id": "58284644",
   "metadata": {},
   "outputs": [],
   "source": [
    "from ultralytics import YOLO\n",
    "\n",
    "# Load a model\n",
    "# model = YOLO(\"yv_v8.yaml\")  # build a new model from scratch\n",
    "model = YOLO(\"yolov8n.pt\")  # load a pretrained model (recommended for training)\n",
    "\n",
    "# # Use the model\n",
    "model.train(data=\"yv_v8.yaml\", epochs=3)  # train the model\n",
    "# metrics = model.val()  # evaluate model performance on the validation set\n",
    "# results = model(\"https://ultralytics.com/images/bus.jpg\")  # predict on an image\n",
    "# path = model.export(format=\"onnx\")  # export the model to ONNX format"
   ]
  },
  {
   "cell_type": "code",
   "execution_count": null,
   "id": "91ff359a",
   "metadata": {},
   "outputs": [],
   "source": []
  }
 ],
 "metadata": {
  "kernelspec": {
   "display_name": "Python 3 (ipykernel)",
   "language": "python",
   "name": "python3"
  },
  "language_info": {
   "codemirror_mode": {
    "name": "ipython",
    "version": 3
   },
   "file_extension": ".py",
   "mimetype": "text/x-python",
   "name": "python",
   "nbconvert_exporter": "python",
   "pygments_lexer": "ipython3",
   "version": "3.12.4"
  }
 },
 "nbformat": 4,
 "nbformat_minor": 5
}
