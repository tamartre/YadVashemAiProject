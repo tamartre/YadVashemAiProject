{
 "cells": [
  {
   "cell_type": "code",
   "execution_count": 1,
   "id": "b415951c-8d11-4969-aa03-09693cbb8e2e",
   "metadata": {},
   "outputs": [],
   "source": [
    "# אז מה צריך לעשות ?\n",
    "# כל תמונה דבר ראשון רצים עליה ומסווגים לאיזה סוג היא:\n",
    "# תמונה- אז רק מכניסים את הנתיב שלה  לDB לטבלת תמונות\n",
    "# אם זה כירכת יד ושם- אז שולחים לפונקציה ש \n"
   ]
  },
  {
   "cell_type": "code",
   "execution_count": 2,
   "id": "5d5b86b6-6e89-46ee-9d0f-17ddb4fa4b35",
   "metadata": {},
   "outputs": [
    {
     "name": "stdout",
     "output_type": "stream",
     "text": [
      "Requirement already satisfied: matplotlib in c:\\python310\\lib\\site-packages (3.9.1)Note: you may need to restart the kernel to use updated packages.\n"
     ]
    },
    {
     "name": "stderr",
     "output_type": "stream",
     "text": [
      "WARNING: Ignoring invalid distribution -rotobuf (c:\\python310\\lib\\site-packages)\n",
      "WARNING: Ignoring invalid distribution -rotobuf (c:\\python310\\lib\\site-packages)\n"
     ]
    },
    {
     "name": "stdout",
     "output_type": "stream",
     "text": [
      "\n",
      "Requirement already satisfied: contourpy>=1.0.1 in c:\\python310\\lib\\site-packages (from matplotlib) (1.2.1)\n",
      "Requirement already satisfied: cycler>=0.10 in c:\\python310\\lib\\site-packages (from matplotlib) (0.12.1)\n",
      "Requirement already satisfied: fonttools>=4.22.0 in c:\\python310\\lib\\site-packages (from matplotlib) (4.53.1)\n",
      "Requirement already satisfied: kiwisolver>=1.3.1 in c:\\python310\\lib\\site-packages (from matplotlib) (1.4.5)\n",
      "Requirement already satisfied: numpy>=1.23 in c:\\python310\\lib\\site-packages (from matplotlib) (1.26.4)\n",
      "Requirement already satisfied: packaging>=20.0 in c:\\python310\\lib\\site-packages (from matplotlib) (24.1)\n",
      "Requirement already satisfied: pillow>=8 in c:\\python310\\lib\\site-packages (from matplotlib) (10.4.0)\n",
      "Requirement already satisfied: pyparsing>=2.3.1 in c:\\python310\\lib\\site-packages (from matplotlib) (3.1.2)\n",
      "Requirement already satisfied: python-dateutil>=2.7 in c:\\python310\\lib\\site-packages (from matplotlib) (2.9.0.post0)\n",
      "Requirement already satisfied: six>=1.5 in c:\\python310\\lib\\site-packages (from python-dateutil>=2.7->matplotlib) (1.16.0)\n"
     ]
    }
   ],
   "source": [
    "pip install matplotlib"
   ]
  },
  {
   "cell_type": "code",
   "execution_count": 3,
   "id": "f1df835d-48d6-4c18-a056-e8abde667547",
   "metadata": {},
   "outputs": [
    {
     "name": "stdout",
     "output_type": "stream",
     "text": [
      "Requirement already satisfied: opencv-python in c:\\python310\\lib\\site-packages (4.10.0.84)\n",
      "Requirement already satisfied: numpy>=1.21.2 in c:\\python310\\lib\\site-packages (from opencv-python) (1.26.4)\n",
      "Note: you may need to restart the kernel to use updated packages.\n"
     ]
    },
    {
     "name": "stderr",
     "output_type": "stream",
     "text": [
      "WARNING: Ignoring invalid distribution -rotobuf (c:\\python310\\lib\\site-packages)\n",
      "WARNING: Ignoring invalid distribution -rotobuf (c:\\python310\\lib\\site-packages)\n"
     ]
    }
   ],
   "source": [
    "pip install opencv-python"
   ]
  },
  {
   "cell_type": "code",
   "execution_count": 4,
   "id": "4bf3184c-e889-4f79-80e4-103c95cc6c1a",
   "metadata": {},
   "outputs": [
    {
     "data": {
      "text/plain": [
       "'C:\\\\Python310\\\\python.exe -m pip install --upgrade pip'"
      ]
     },
     "execution_count": 4,
     "metadata": {},
     "output_type": "execute_result"
    }
   ],
   "source": [
    "'C:\\Python310\\python.exe -m pip install --upgrade pip'"
   ]
  },
  {
   "cell_type": "code",
   "execution_count": 5,
   "id": "3a67b48f-a483-44c6-9603-ea57abfb13c0",
   "metadata": {},
   "outputs": [
    {
     "name": "stdout",
     "output_type": "stream",
     "text": [
      "Note: you may need to restart the kernel to use updated packages.Requirement already satisfied: joblib in c:\\python310\\lib\\site-packages (1.4.2)\n",
      "\n"
     ]
    },
    {
     "name": "stderr",
     "output_type": "stream",
     "text": [
      "WARNING: Ignoring invalid distribution -rotobuf (c:\\python310\\lib\\site-packages)\n",
      "WARNING: Ignoring invalid distribution -rotobuf (c:\\python310\\lib\\site-packages)\n"
     ]
    }
   ],
   "source": [
    "pip install joblib"
   ]
  },
  {
   "cell_type": "code",
   "execution_count": 6,
   "id": "2e42bcb6-2e97-42ec-b1a9-2841e91b75f1",
   "metadata": {},
   "outputs": [],
   "source": [
    "# pip install scikit-image\n",
    "# # #"
   ]
  },
  {
   "cell_type": "code",
   "execution_count": 7,
   "id": "b98cff1f-d05b-444c-8fcd-951c34060d95",
   "metadata": {},
   "outputs": [],
   "source": [
    "# pip install scikit-learn"
   ]
  },
  {
   "cell_type": "code",
   "execution_count": 8,
   "id": "345cc99f-c933-449c-a2bc-202f813522ce",
   "metadata": {},
   "outputs": [],
   "source": [
    "# pip install --upgrade --force-reinstall tensorflow\n"
   ]
  },
  {
   "cell_type": "code",
   "execution_count": 9,
   "id": "6dbeb387-cf7c-42ef-b4e3-680d700728ab",
   "metadata": {},
   "outputs": [],
   "source": [
    "# !pip show tensorflow"
   ]
  },
  {
   "cell_type": "code",
   "execution_count": 10,
   "id": "eb7bcdc9-6747-4eee-962f-a84d5338991e",
   "metadata": {},
   "outputs": [],
   "source": [
    "# pip install pyodbc"
   ]
  },
  {
   "cell_type": "code",
   "execution_count": 11,
   "id": "ecbb195c-cefa-4370-a1f7-908f2dd91415",
   "metadata": {},
   "outputs": [],
   "source": [
    "import cv2\n",
    "import tensorflow as tf\n",
    "import matplotlib.pyplot as plt\n",
    "import matplotlib\n",
    "import matplotlib.patches as mpatches\n",
    "import os, os.path\n",
    "from matplotlib.patches import Rectangle\n",
    "from PIL import Image\n",
    "import glob\n",
    "import base64\n",
    "import requests\n",
    "import json\n",
    "import io\n",
    "import ast\n",
    "import numpy as np\n",
    "import joblib\n",
    "import ast\n",
    "from skimage.transform import resize\n",
    "import PIL\n",
    "import tensorflow as tf\n",
    "import pyodbc\n",
    "import json"
   ]
  },
  {
   "cell_type": "code",
   "execution_count": 12,
   "id": "fb5df2c6",
   "metadata": {},
   "outputs": [],
   "source": [
    "import spacy"
   ]
  },
  {
   "cell_type": "code",
   "execution_count": 13,
   "id": "4725b3b0",
   "metadata": {},
   "outputs": [],
   "source": [
    "# !pip install spacy\n",
    "# !python -m spacy download en_core_web_sm\n",
    "# !python -m spacy download en_core_web_trf\n",
    "# !python -m spacy download en_core_web_trf"
   ]
  },
  {
   "cell_type": "code",
   "execution_count": 14,
   "id": "b6528f21",
   "metadata": {},
   "outputs": [],
   "source": [
    "# !python -m spacy download en_core_web_sm"
   ]
  },
  {
   "cell_type": "code",
   "execution_count": 15,
   "id": "c3f9f895",
   "metadata": {},
   "outputs": [],
   "source": [
    "# !python -m spacy download en_core_web_trf"
   ]
  },
  {
   "cell_type": "code",
   "execution_count": 16,
   "id": "e300692b-1f6b-45e2-96dd-9e208cc9d69a",
   "metadata": {},
   "outputs": [],
   "source": [
    "def get_normal_text(i):\n",
    "    if i:\n",
    "    # Check and replace '.' if it exists in the string\n",
    "        if '.' in i:\n",
    "            i = i.replace('.', '')\n",
    "    \n",
    "        # Check and replace '/' if it exists in the string\n",
    "        if '/' in i:\n",
    "            i = i.replace('/', '')\n",
    "    \n",
    "        # Check and replace ',' if it exists in the string\n",
    "        if ',' in i:\n",
    "            i = i.replace(',', '')\n",
    "    \n",
    "        # Check and replace ':' if it exists in the string\n",
    "        if ':' in i:\n",
    "            i = i.replace(':', '')\n",
    "    \n",
    "        # Check and replace ')' if it exists in the string\n",
    "        if ')' in i:\n",
    "            i = i.replace(')', '')\n",
    "\n",
    "    # Check and replace '(' if it exists in the string\n",
    "        if '(' in i:\n",
    "            i = i.replace('(', '')\n",
    "\n",
    "        return i"
   ]
  },
  {
   "cell_type": "code",
   "execution_count": 17,
   "id": "ebe72cf6",
   "metadata": {},
   "outputs": [],
   "source": [
    "def get_finds_dates_places_persons(desc):\n",
    "    nlp = spacy.load(\"en_core_web_sm\")\n",
    "    doc = nlp(desc)\n",
    "    entity_types = {}\n",
    "    \n",
    "    for ent in doc.ents:\n",
    "        type_name = ent.label_\n",
    "        entity = ent.text\n",
    "\n",
    "        if type_name not in entity_types:\n",
    "            entity_types[type_name] = []\n",
    "\n",
    "        entity_types[type_name].append(entity)\n",
    "    target_word=nlp(\"study\")\n",
    "    return entity_types"
   ]
  },
  {
   "cell_type": "code",
   "execution_count": 18,
   "id": "699835b0",
   "metadata": {},
   "outputs": [],
   "source": [
    "def get_num_words_in_json(json):\n",
    "    textAnnotations = json['responses'][0]['textAnnotations']\n",
    "    word_count=0\n",
    "    for word in textAnnotations:\n",
    "        desc = word['description']\n",
    "        word_count+=1\n",
    "    return word_count"
   ]
  },
  {
   "cell_type": "code",
   "execution_count": 19,
   "id": "a1ab72a0",
   "metadata": {},
   "outputs": [],
   "source": [
    "def get_all_words_with_vertices(data_response):\n",
    "    textAnnotations=data_response['responses'][0][\"textAnnotations\"]\n",
    "    text=data_response['responses'][0]['fullTextAnnotation']['text']\n",
    "    arr_res=[]\n",
    "    arr_res.append(({'text':text},textAnnotations[0]['boundingPoly'] ))\n",
    "    for idx, i in enumerate(textAnnotations, start=1):\n",
    "        ver=i[\"boundingPoly\"]\n",
    "        desc=i['description']\n",
    "        desc=desc.split(\"\\n\")\n",
    "        list1=(ver,desc)\n",
    "        arr_res.append(list1)\n",
    "    xx=arr_res[0]\n",
    "    arr_res= arr_res[1:]\n",
    "    return [arr_res, xx]"
   ]
  },
  {
   "cell_type": "code",
   "execution_count": 20,
   "id": "a576acc6",
   "metadata": {},
   "outputs": [],
   "source": [
    "def create_json_get_by_y(json):\n",
    "    [words,full_desc_with_verices] =get_all_words_with_vertices(json)\n",
    "    json_res={}\n",
    "    json_res[\"full_desc_with_verices\"]=full_desc_with_verices\n",
    "    json_res['words']=words\n",
    "    return json_res"
   ]
  },
  {
   "cell_type": "code",
   "execution_count": 215,
   "id": "9a7636d3",
   "metadata": {},
   "outputs": [],
   "source": [
    "def get_size_y(json):\n",
    "    vertices = json[\"full_desc_with_verices\"][1][\"vertices\"]\n",
    "    y_start = vertices[0].get(\"y\", 0)  # default value 0 if 'y' key is not found in the dictionary\n",
    "    y_end = vertices[3].get(\"y\", 0)\n",
    "    \n",
    "    x_start = vertices[0].get(\"x\", 0)  # default value 0 if 'y' key is not found in the dictionary\n",
    "    x_end = vertices[1].get(\"x\", 0)\n",
    "    if \"y\" in vertices[0] and \"y\" in vertices[3]:\n",
    "        range_y = vertices[3][\"y\"] - vertices[0][\"y\"]\n",
    "    else:\n",
    "        range_y = 0  # or set a default value if 'y' key is missing in some vertices\n",
    "    if \"x\" in vertices[1] and \"x\" in vertices[0]:\n",
    "        range_x= vertices[1][\"x\"] - vertices[0][\"x\"]\n",
    "    else:\n",
    "        range_x = 0  # or set a default value if 'y' key is missing in some vertices\n",
    "    \n",
    "    \n",
    "    if range_y != 0 and range_x!=0:\n",
    "        loc_title_up= (y_start,y_start+range_y/4)\n",
    "        loc_title_middle=(y_start+range_y/4,y_start+(range_y/3)*2)\n",
    "        loc_title_down=(y_start+(range_y/3)*2,y_start+range_y)\n",
    "        x_middle=(x_start+(range_x/2))\n",
    "        return [loc_title_up,loc_title_middle,loc_title_down, x_middle]\n",
    "    else:\n",
    "        return [(0, 0), (0, 0), (0,0), (0, 0)]"
   ]
  },
  {
   "cell_type": "code",
   "execution_count": 136,
   "id": "72c3d0f0",
   "metadata": {},
   "outputs": [],
   "source": [
    "def get_text_from_block(block):\n",
    "    text=''\n",
    "    words=block['paragraphs'][0]['words']\n",
    "    for w in words:\n",
    "        word=w['symbols']\n",
    "        for l in word:\n",
    "            text+=l['text']\n",
    "        text+=' '\n",
    "    return text"
   ]
  },
  {
   "cell_type": "code",
   "execution_count": 23,
   "id": "730f057e",
   "metadata": {},
   "outputs": [],
   "source": [
    "def get_big_letter_from_desc(json, words_count):\n",
    "    text_annotations = json.get('responses', [{}])[0].get('textAnnotations', [])\n",
    "    \n",
    "    block_areas_num = []\n",
    "    \n",
    "    for word in text_annotations[1:]:\n",
    "        desc = word.get('description', '')\n",
    "        block_vertices = word.get('boundingPoly', {}).get('vertices', [])\n",
    "        x_values = [vertex.get('x', 0) for vertex in block_vertices if 'x' in vertex]\n",
    "        y_values = [vertex.get('y', 0) for vertex in block_vertices if 'y' in vertex]\n",
    "        \n",
    "        if len(x_values) > 0 and len(y_values) > 0:\n",
    "            max_x = max(x_values)\n",
    "            min_x = min(x_values)\n",
    "\n",
    "            max_y = max(y_values)\n",
    "            min_y = min(y_values)\n",
    "\n",
    "            block_x = max_x - min_x\n",
    "            block_y = max_y - min_y\n",
    "\n",
    "            num_letter = len(desc)\n",
    "            area = block_x * block_y\n",
    "            letter = area / num_letter\n",
    "            \n",
    "            if desc not in ['(', ')', '-', '[', ']', ',', '.']:\n",
    "                block_areas_num.append((desc, letter))\n",
    "    \n",
    "    sorted_block_areas_num = sorted(block_areas_num, key=lambda x: x[1], reverse=True)\n",
    "    \n",
    "    return sorted_block_areas_num"
   ]
  },
  {
   "cell_type": "code",
   "execution_count": 200,
   "id": "d1fa8b04-3368-4c88-b6a7-17ac7f815cdd",
   "metadata": {},
   "outputs": [],
   "source": [
    "def get_date_Testimony(json_res, json, date_arr, format_json):\n",
    "    res_date=''\n",
    "    side_date=1\n",
    "    data_Language=format_json['data_Languages'][0][0]\n",
    "    if data_Language=='Hebrew' or data_Language=='Arabic':\n",
    "        side_date=0\n",
    "    [loc_title_up,loc_title_middle,loc_title_down, x_middle ]=get_size_y(json_res)\n",
    "    print(loc_title_up)\n",
    "    if [loc_title_up,loc_title_middle,loc_title_down, x_middle ]!=[(0, 0), (0, 0), (0,0), (0, 0)]:\n",
    "        fullTextAnnotation_pages = json['responses'][0]['fullTextAnnotation']['pages']\n",
    "        dict_block_by_loc_date={0:[[], []], 1:[[], []], 2:[[], []]}\n",
    "        for page in fullTextAnnotation_pages:\n",
    "            blocks = page['blocks']\n",
    "            blocks=sorted( blocks, key=lambda block:block['boundingBox']['vertices'][0]['y'] )\n",
    "            for block in blocks:\n",
    "                # 0 left\n",
    "                # 1 right\n",
    "                side=0\n",
    "                text_from_block=get_text_from_block(block)\n",
    "                words=block['paragraphs'][0]['words']\n",
    "                block_vertices = block['boundingBox']['vertices']\n",
    "                y=block_vertices[3]['y']-block_vertices[0]['y']\n",
    "                x=block_vertices[0]['x']\n",
    "                if x>=x_middle:\n",
    "                    side=1\n",
    "                if block_vertices[0]['y']<=loc_title_up[1]:\n",
    "                    ans=0\n",
    "                elif block_vertices[0]['y']<=loc_title_middle[1]:\n",
    "                    ans=1\n",
    "                else:\n",
    "                    ans=2\n",
    "                desc_words=''\n",
    "                for word in words:\n",
    "                    word_vertices=word['boundingBox']['vertices'] \n",
    "                    desc=''\n",
    "                    word1=word['symbols']\n",
    "                    for l in word1:\n",
    "                        desc+=l['text']\n",
    "                    desc_words+=desc\n",
    "                    desc_words+=' '\n",
    "                    for date in date_arr:\n",
    "                        date_split=date.split(' ')\n",
    "                        for ds in date_split:\n",
    "                            if desc==ds:\n",
    "                                dict_block_by_loc_date[ans][side].append(date)\n",
    "    if dict_block_by_loc_date[2]:\n",
    "        arr=dict_block_by_loc_date[2]\n",
    "        res_arr=arr[side_date]\n",
    "        if len(res_arr)>0:\n",
    "            return res_arr[0]\n",
    "        else:\n",
    "            res_arr=arr[abs(side_date-1)]\n",
    "            if len(res_arr)>0:\n",
    "                return res_arr[0]\n",
    "    # elif dict_block_by_loc_date[2]:\n",
    "    #     arr=dict_block_by_loc_date[2]\n",
    "    #     res_arr=arr[side_date]\n",
    "    #     if len(res_arr)>0:\n",
    "    #         return res_arr[0]\n",
    "    #     else:\n",
    "    #         res_arr=arr[abs(side_date-1)]\n",
    "    #         if len(res_arr)>0:\n",
    "    #             return res_arr[0]\n",
    "    # elif dict_block_by_loc_date[1]:\n",
    "    #     arr=dict_block_by_loc_date[1]\n",
    "    #     res_arr=arr[side_date]\n",
    "    #     if len(res_arr)>0:\n",
    "    #         return res_arr[0]\n",
    "    #     else:\n",
    "    #         res_arr=arr[abs(side_date-1)]\n",
    "    #         if len(res_arr)>0:\n",
    "    #             return res_arr[0]\n",
    "    return '' "
   ]
  },
  {
   "cell_type": "code",
   "execution_count": 179,
   "id": "0e26dfe9",
   "metadata": {},
   "outputs": [],
   "source": [
    "def get_date(json_res, json, date_arr, format_json):\n",
    "    res_date=''\n",
    "    side_date=1\n",
    "    data_Language=format_json['data_Languages'][0][0]\n",
    "    if data_Language=='Hebrew' or data_Language=='Arabic':\n",
    "        side_date=0\n",
    "    [loc_title_up,loc_title_middle,loc_title_down, x_middle ]=get_size_y(json_res)\n",
    "    print(loc_title_up)\n",
    "    if [loc_title_up,loc_title_middle,loc_title_down, x_middle ]!=[(0, 0), (0, 0), (0,0), (0, 0)]:\n",
    "        fullTextAnnotation_pages = json['responses'][0]['fullTextAnnotation']['pages']\n",
    "        dict_block_by_loc_date={0:[[], []], 1:[[], []], 2:[[], []]}\n",
    "        for page in fullTextAnnotation_pages:\n",
    "            blocks = page['blocks']\n",
    "            blocks=sorted( blocks, key=lambda block:block['boundingBox']['vertices'][0]['y'] )\n",
    "            for block in blocks:\n",
    "                # 0 left\n",
    "                # 1 right\n",
    "                side=0\n",
    "                text_from_block=get_text_from_block(block)\n",
    "                words=block['paragraphs'][0]['words']\n",
    "                block_vertices = block['boundingBox']['vertices']\n",
    "                y=block_vertices[3]['y']-block_vertices[0]['y']\n",
    "                x=block_vertices[0]['x']\n",
    "                if x>=x_middle:\n",
    "                    side=1\n",
    "                if block_vertices[0]['y']<=loc_title_up[1]:\n",
    "                    ans=0\n",
    "                elif block_vertices[0]['y']<=loc_title_middle[1]:\n",
    "                    ans=1\n",
    "                else:\n",
    "                    ans=2\n",
    "                desc_words=''\n",
    "                for word in words:\n",
    "                    word_vertices=word['boundingBox']['vertices'] \n",
    "                    desc=''\n",
    "                    word1=word['symbols']\n",
    "                    for l in word1:\n",
    "                        desc+=l['text']\n",
    "                    desc_words+=desc\n",
    "                    desc_words+=' '\n",
    "                    for date in date_arr:\n",
    "                        date_split=date.split(' ')\n",
    "                        for ds in date_split:\n",
    "                            if desc==ds:\n",
    "                                dict_block_by_loc_date[ans][side].append(date)\n",
    "    if dict_block_by_loc_date[0]:\n",
    "        arr=dict_block_by_loc_date[0]\n",
    "        res_arr=arr[side_date]\n",
    "        if len(res_arr)>0:\n",
    "            return res_arr[0]\n",
    "        else:\n",
    "            res_arr=arr[abs(side_date-1)]\n",
    "            if len(res_arr)>0:\n",
    "                return res_arr[0]\n",
    "    elif dict_block_by_loc_date[2]:\n",
    "        arr=dict_block_by_loc_date[2]\n",
    "        res_arr=arr[side_date]\n",
    "        if len(res_arr)>0:\n",
    "            return res_arr[0]\n",
    "        else:\n",
    "            res_arr=arr[abs(side_date-1)]\n",
    "            if len(res_arr)>0:\n",
    "                return res_arr[0]\n",
    "    elif dict_block_by_loc_date[1]:\n",
    "        arr=dict_block_by_loc_date[1]\n",
    "        res_arr=arr[side_date]\n",
    "        if len(res_arr)>0:\n",
    "            return res_arr[0]\n",
    "        else:\n",
    "            res_arr=arr[abs(side_date-1)]\n",
    "            if len(res_arr)>0:\n",
    "                return res_arr[0]\n",
    "    return '' "
   ]
  },
  {
   "cell_type": "code",
   "execution_count": 141,
   "id": "073ede2a",
   "metadata": {},
   "outputs": [],
   "source": [
    "def get_title(json,json_res, arr_date):\n",
    "    [loc_title_up,loc_title_middle,loc_title_down ]=get_size_y(json_res)\n",
    "    if [loc_title_up,loc_title_middle,loc_title_down ]!=[(0, 0), (0, 0), (0,0,)]:\n",
    "        fullTextAnnotation_pages = json['responses'][0]['fullTextAnnotation']['pages']\n",
    "        word_count=get_num_words_in_json(json) \n",
    "        sorted_block_areas_num=get_big_letter_from_desc(json,word_count )\n",
    "        dict_block_by_loc_title={0:[], 1:[], 2:[]}\n",
    "        dict_mean_letter_in_block=[]\n",
    "        private_ans=0\n",
    "        for page in fullTextAnnotation_pages:\n",
    "            blocks = page['blocks']\n",
    "            if (len(blocks)<=3):\n",
    "                private_ans=2\n",
    "            for block in blocks:\n",
    "                words=block['paragraphs'][0]['words']\n",
    "                len_words=len(words)\n",
    "                if len_words<=15:\n",
    "                    mean_letter_in_block=0\n",
    "                    text=get_text_from_block(block)\n",
    "                    block_vertices = block['boundingBox']['vertices']\n",
    "                    y=block_vertices[3]['y']-block_vertices[0]['y']\n",
    "                    if block_vertices[0]['y']<=loc_title_up[1]:\n",
    "                        ans=1\n",
    "                    elif block_vertices[0]['y']<=loc_title_middle[1]:\n",
    "                        ans=2\n",
    "                    else:\n",
    "                        ans=3\n",
    "                    for word in words:\n",
    "                        desc=''\n",
    "                        word1=word['symbols']\n",
    "                        for l in word1:\n",
    "                            desc+=l['text']\n",
    "                        word_vertices=word['boundingBox']['vertices']\n",
    "                        x_values = []\n",
    "                        for vertex in block_vertices:\n",
    "                            if 'x' in vertex:\n",
    "                                x_values.append(vertex['x'])\n",
    "                        max_x = max(x_values)\n",
    "                        min_x = min(x_values)\n",
    "    \n",
    "                        y_values = []\n",
    "                        for vertex in block_vertices:\n",
    "                            if 'y' in vertex:\n",
    "                                y_values.append(vertex['y'])                         \n",
    "                        max_y = max(y_values)\n",
    "                        min_y = min(y_values)\n",
    "    \n",
    "                        block_x = max_x - min_x\n",
    "                        block_y = max_y - min_y\n",
    "\n",
    "                        num_letter = len(desc)\n",
    "                        area = block_x * block_y\n",
    "                        letter = area / num_letter\n",
    "                        mean_letter_in_block+=letter\n",
    "                    mean_letter_in_block=mean_letter_in_block/len_words\n",
    "                    \n",
    "                    text1=get_normal_text(text)\n",
    "                    text_split=text1.split(' ')\n",
    "                    flag=0\n",
    "                    c=0\n",
    "                    for t in text_split:\n",
    "                        try:\n",
    "                            float(t)\n",
    "                            c=c+1  #מספר המילים שהם מספרים\n",
    "                        except ValueError:\n",
    "                            flag=10\n",
    "                        for en in arr_entity_types:\n",
    "                            if t==en:\n",
    "                                c=c+1\n",
    "                        for date in arr_date:\n",
    "                            if t==date:\n",
    "                                c=c+1\n",
    "                    if c<(len(text_split)*0.7):\n",
    "                        if private_ans!=0:\n",
    "                            dict_mean_letter_in_block.append((text,mean_letter_in_block , private_ans))\n",
    "                        else:\n",
    "                            dict_mean_letter_in_block.append((text,mean_letter_in_block , ans))\n",
    "        sorted_dict_mean_letter_in_block = sorted(dict_mean_letter_in_block, key=lambda x: x[1], reverse=True)\n",
    "        \n",
    "        if sorted_dict_mean_letter_in_block!=[]:\n",
    "            min_num_of_title_letter=int((sorted_dict_mean_letter_in_block[0][1])/2)\n",
    "        else:\n",
    "            min_num_of_title_letter=0\n",
    "            \n",
    "        for i in sorted_dict_mean_letter_in_block:\n",
    "            ans=i[2]-1\n",
    "            if i[1]>=min_num_of_title_letter:\n",
    "                dict_block_by_loc_title[ans].append((i[0]))\n",
    "        print(dict_block_by_loc_title)\n",
    "        return dict_block_by_loc_title\n",
    "    # return sorted_dict_mean_letter_in_block               "
   ]
  },
  {
   "cell_type": "code",
   "execution_count": 142,
   "id": "5ff494db-be58-4dc7-9e5f-bbb2108228ae",
   "metadata": {},
   "outputs": [],
   "source": [
    "import numpy as np\n",
    "from PIL import Image\n",
    "from skimage.transform import resize\n",
    "\n",
    "def check_type_binding(image_path):\n",
    "    # model_path = \"./pic_doc_ed.h5\"  # Update this with the full path to your model file\n",
    "    # loaded_model = tf.keras.models.load_model(\"binding.h5\")\n",
    "    loaded_model = tf.keras.models.load_model('./classification_models/binding.h5')\n",
    "\n",
    "    valid_images = ['jpeg', 'jpg', 'png']\n",
    "    ext = image_path.split('.')[1]\n",
    "    \n",
    "    if ext.lower() in valid_images:\n",
    "        image = Image.open(image_path)\n",
    "        resized_image = resize(np.array(image), (180, 180, 3))  # Resize to match the model's input shape\n",
    "        \n",
    "        image_features = resized_image.flatten()\n",
    "        \n",
    "        # Pad or truncate the features to match the expected number\n",
    "        if len(image_features) < (180 * 180 * 3):\n",
    "            image_features = np.pad(image_features, (0, (180 * 180 * 3) - len(image_features)), mode='constant')\n",
    "        elif len(image_features) > (180 * 180 * 3):\n",
    "            image_features = image_features[:180 * 180 * 3]\n",
    "        \n",
    "        prediction = loaded_model.predict(image_features.reshape(1, 180, 180, 3))  # Reshape to match the model's input\n",
    "        \n",
    "        # Get the class with the highest probability\n",
    "        predicted_class = np.argmax(prediction)\n",
    "        \n",
    "        if predicted_class == 0:\n",
    "            return 'Not binding'\n",
    "        elif predicted_class == 1:\n",
    "            return 'Yad Vashem binding'\n",
    "        else:\n",
    "            return 'Another binding'"
   ]
  },
  {
   "cell_type": "code",
   "execution_count": 143,
   "id": "25f3de8d-af85-46e8-971a-4d925cb666c4",
   "metadata": {},
   "outputs": [],
   "source": [
    "def check_type_pic_doc_ed(image_path):\n",
    "# Load the saved KNN model\n",
    "    # loaded_model = joblib.load('logistic_model.pkl')\n",
    "    loaded_model = tf.keras.models.load_model(\"./classification_models/pic-doc-ed.h5\")\n",
    "    # Loop through the images in the folder\n",
    "    valid_images = ['jpeg', 'jpg', 'png']  # Define the valid image extensions\n",
    "    ext = image_path.split('.')[1]\n",
    "    if ext.lower() in valid_images:\n",
    "        image = Image.open(image_path)\n",
    "        # Resize the image to match the expected input size of the SVM model\n",
    "        resized_image = resize(np.array(image), (50, 50))  # Resize to (50, 50) or adjust as needed\n",
    "    \n",
    "        # Flatten and add zeros to match the expected number of features\n",
    "        image_features = resized_image.flatten()\n",
    "        if len(image_features) < 6750:\n",
    "            image_features = np.pad(image_features, (0, 6750 - len(image_features)), mode='constant')\n",
    "        elif len(image_features) > 6750:\n",
    "            image_features = image_features[:6750]\n",
    "    \n",
    "                # Apply the loaded SVM model to the image\n",
    "        prediction = loaded_model.predict(image_features.reshape(1, -1))\n",
    "    \n",
    "        if prediction == 0:\n",
    "            return 'Testimony page'\n",
    "        elif prediction == 1:\n",
    "            return 'document'\n",
    "        else:\n",
    "            return 'Image'\n",
    "    # return 'Another binding'"
   ]
  },
  {
   "cell_type": "code",
   "execution_count": 144,
   "id": "c85cd3aa",
   "metadata": {},
   "outputs": [],
   "source": [
    "\n",
    "def get_data_Languages(data_response):\n",
    "    x = data_response['responses'][0]['fullTextAnnotation']['pages'][0]\n",
    "    if 'property' in x: \n",
    "        data_languages = data_response['responses'][0]['fullTextAnnotation']['pages'][0][\"property\"][\"detectedLanguages\"]\n",
    "        lang_map={\n",
    "            \"de\" : \"German\", \n",
    "            \"es\" :\"Spanish\",\n",
    "            \"fr\" :\"French\", \n",
    "            \"it\" :\"Italian\", \n",
    "            \"ja\" :\"Japanese\", \n",
    "            \"ko\" :\"Korean\", \n",
    "            \"ru\" : \"Russian\", \n",
    "            \"zh\" :\"Chinese (Mandarin)\", \n",
    "            \"hr\" :\"Croatian\", \n",
    "            \"nl\": \"Dutch\", \n",
    "            'pl': 'Polish',\n",
    "            'en': 'English',\n",
    "            'sk': 'Slovak',\n",
    "            'da': 'Danish',\n",
    "            'no': 'Norwegian',\n",
    "            'lt': 'Lithuanian',\n",
    "            'haw': 'Hawaiian',\n",
    "            'mt': 'Maltese',\n",
    "            'ceb': 'Cebuano',\n",
    "            'uz': 'Uzbek', \n",
    "            'ar': 'Arabic',\n",
    "            'iw':'Hebrew', \n",
    "            'yi':'Yiddish', \n",
    "            'hu':'Hungarian', \n",
    "            'lb':'Luxembourgish',  \n",
    "            'lv':'Latvian',\n",
    "            'om':'Oromo', \n",
    "            'fy':'Frisian',\n",
    "            'la':'Latin', \n",
    "            'sv' :'Swedish', \n",
    "            'af': 'Afrikaans',\n",
    "            'am': 'Amharic',\n",
    "            'az': 'Azerbaijani',\n",
    "            'be': 'Belarusian',\n",
    "            'bg': 'Bulgarian',\n",
    "            'bn': 'Bengali',\n",
    "            'bs': 'Bosnian',\n",
    "            'ca': 'Catalan',\n",
    "            'co': 'Corsican',\n",
    "            'cs': 'Czech',\n",
    "            'cy': 'Welsh',\n",
    "            'el': 'Greek',\n",
    "            'eo': 'Esperanto',\n",
    "            'et': 'Estonian',\n",
    "            'eu': 'Basque',\n",
    "            'fa': 'Persian',\n",
    "            'fi': 'Finnish',\n",
    "            'fj': 'Fijian',\n",
    "            'fo': 'Faroese',\n",
    "            'gd': 'Scottish Gaelic',\n",
    "            'gl': 'Galician',\n",
    "            'gu': 'Gujarati',\n",
    "            'ha': 'Hausa',\n",
    "            'he': 'Hebrew',\n",
    "            'hi': 'Hindi',\n",
    "            'hmn': 'Hmong',\n",
    "            'ht': 'Haitian Creole',\n",
    "            'hy': 'Armenian',\n",
    "            'id': 'Indonesian',\n",
    "            'ig': 'Igbo',\n",
    "            'is': 'Icelandic',\n",
    "            'jv': 'Javanese',\n",
    "            'ka': 'Georgian',\n",
    "            'kk': 'Kazakh',\n",
    "            'km': 'Khmer',\n",
    "            'kn': 'Kannada',\n",
    "            'ku': 'Kurdish',\n",
    "            'ky': 'Kyrgyz',\n",
    "            'lo': 'Lao',\n",
    "            'mg': 'Malagasy',\n",
    "            'mi': 'Maori',\n",
    "            'mk': 'Macedonian',\n",
    "            'ml': 'Malayalam',\n",
    "            'mn': 'Mongolian',\n",
    "            'mr': 'Marathi',\n",
    "            'ms': 'Malay',\n",
    "            'my': 'Burmese',\n",
    "            'ne': 'Nepali',\n",
    "            'ny': 'Chichewa',\n",
    "            'or': 'Odia',\n",
    "            'pa': 'Punjabi',\n",
    "            'ps': 'Pashto',\n",
    "            'pt': 'Portuguese',\n",
    "            'ro': 'Romanian',\n",
    "            'rw': 'Kinyarwanda',\n",
    "            'sd': 'Sindhi',\n",
    "            'si': 'Sinhala',\n",
    "            'sl': 'Slovenian',\n",
    "            'sm': 'Samoan',\n",
    "                'sn': 'Shona',\n",
    "            'so': 'Somali',\n",
    "            'sq': 'Albanian',\n",
    "            'sr': 'Serbian',\n",
    "            'st': 'Sesotho',\n",
    "            'su': 'Sundanese',\n",
    "            'sw': 'Swahili',\n",
    "            'ta': 'Tamil',\n",
    "            'te': 'Telugu',\n",
    "            'tg': 'Tajik',\n",
    "            'th': 'Thai',\n",
    "            'tk': 'Turkmen',\n",
    "            'tl': 'Filipino',\n",
    "            'tr': 'Turkish',\n",
    "            'tt': 'Tatar',\n",
    "            'ug': 'Uyghur',\n",
    "            'uk': 'Ukrainian',\n",
    "            'ur': 'Urdu',\n",
    "            'vi': 'Vietnamese',\n",
    "            'xh': 'Xhosa',\n",
    "            'yo': 'Yoruba',\n",
    "            'zu': 'Zulu'\n",
    "        }\n",
    "        for la in data_languages:\n",
    "            i=la['languageCode']\n",
    "            if i in lang_map:\n",
    "                la['languageCode']=lang_map[i]\n",
    "        sorted_languages = sorted(data_languages, key=lambda x: x['confidence'], reverse=True)\n",
    "        len_sorted = len(sorted_languages)\n",
    "        if len_sorted > 4:\n",
    "            len_sorted = 4\n",
    "        top_languages=[(la['languageCode'], la['confidence']) for la in sorted_languages[:len_sorted]]\n",
    "        return top_languages"
   ]
  },
  {
   "cell_type": "code",
   "execution_count": 145,
   "id": "871d4dfe-ee1d-45fd-9392-68fc77b59e54",
   "metadata": {},
   "outputs": [],
   "source": [
    "\n",
    "import csv\n",
    "\n",
    "def write_to_csv_title(file_name):\n",
    "    with open(file_name, mode='a', newline='') as file:\n",
    "        writer = csv.writer(file)\n",
    "        writer.writerow(['Image Path', 'top_title'])\n",
    "\n",
    "def write_to_csv(data, file_name):\n",
    "    with open(file_name, mode='a', newline='') as file:\n",
    "        writer = csv.writer(file)\n",
    "        writer.writerow([data[0], data[1]])\n",
    "\n",
    "def read_from_csv(file_name):\n",
    "    with open(file_name, mode='r') as file:\n",
    "        reader = csv.reader(file)\n",
    "        for row in reader:\n",
    "            print(row)\n",
    "            return row"
   ]
  },
  {
   "cell_type": "code",
   "execution_count": 146,
   "id": "7e667ad3-4767-4504-a7fe-c87eabf0c9bc",
   "metadata": {},
   "outputs": [],
   "source": [
    "import re\n",
    "\n",
    "def extract_dates_from_ocr_response(text):\n",
    "    date_formats = [\n",
    "        r'\\b\\d{1,2}[./-]\\d{1,2}[./-]\\d{2,4}\\b',  # Date format: 28.05.1944 or 28/05/44\n",
    "        r'\\b\\d{1,2}\\.\\s(?:Januar|Februar|März|April|Mai|Juni|Juli|August|September|Oktober|November|Dezember)\\s\\d{2,4}\\b',  # Date format: 28. Mai 1944\n",
    "        r'\\b(?:january|february|march|april|may|june|july|august|september|october|november|december)\\s+\\d{1,2},?\\s+\\d{2,4}\\b',\n",
    "        r'\\b\\d{1,2}[./-]\\s(?:Jan\\.?|Feb\\.?|Mar\\.?|Apr\\.?|May|Jun\\.?|Jul\\.?|Aug\\.?|Sep\\.?|Oct\\.?|Nov\\.?|Dec\\.?)\\s\\d{2,4}\\b',  # Date format: 20. Jan. 1991\n",
    "        r'\\b\\d{1,2}\\s+(?:JANUARY|FEBRUARY|MARCH|APRIL|MAY|JUNE|JULY|AUGUST|SEPTEMBER|OCTOBER|NOVEMBER|DECEMBER)\\s+\\d{2,4}\\b',  # New date format\n",
    "        r'\\b\\d{4}-\\d{4}\\b'  # Date format: 2011-2012\n",
    "    ]\n",
    "\n",
    "    dates_found = []\n",
    "\n",
    "    for date_format in date_formats:\n",
    "        date_matches = re.finditer(date_format, text, re.IGNORECASE)\n",
    "        for date_match in date_matches:\n",
    "            dates_found.append(date_match.group())\n",
    "\n",
    "    return dates_found\n",
    "\n",
    "# Example usage to identify dates in '20 JULY 2020' format and '2011-2012' format"
   ]
  },
  {
   "cell_type": "code",
   "execution_count": 147,
   "id": "8f31de51-91bf-41b0-bdf8-350e320d7639",
   "metadata": {},
   "outputs": [],
   "source": [
    "def append_dates_new(entity_types):\n",
    "    date_finish=[]\n",
    "    for type_name, entities in entity_types.items():\n",
    "        for en in entities:\n",
    "            en_split=en.split(' ')\n",
    "            for e_split in en_split:\n",
    "                date_found=extract_dates_from_ocr_response(e_split)\n",
    "                if len(date_found)>0:\n",
    "                    flag=False\n",
    "                    date=date_found[0]\n",
    "                    for d in date_finish:\n",
    "                        if d==date:\n",
    "                            flag=True\n",
    "                    if flag==False:\n",
    "                        date_finish.append(date)\n",
    "    return(date_finish)"
   ]
  },
  {
   "cell_type": "code",
   "execution_count": 217,
   "id": "deea14ed-382b-40c1-8023-afdafe54d4db",
   "metadata": {},
   "outputs": [],
   "source": [
    "def get_title_another_binding(json, json_res, date_arr):\n",
    "    [loc_title_up,loc_title_middle,loc_title_down ]=get_size_y(json_res)\n",
    "    if [loc_title_up,loc_title_middle,loc_title_down ]!=[(0, 0), (0, 0), (0,0,)]:\n",
    "        fullTextAnnotation_pages = json['responses'][0]['fullTextAnnotation']['pages']\n",
    "        word_count=get_num_words_in_json(json) \n",
    "        sorted_block_areas_num=get_big_letter_from_desc(json,word_count )\n",
    "        dict_block_by_loc_title={0:[], 1:[], 2:[]}\n",
    "        dict_mean_letter_in_block=[]\n",
    "        private_ans=0\n",
    "        for page in fullTextAnnotation_pages:\n",
    "            blocks = page['blocks']\n",
    "            if (len(blocks)<=3):\n",
    "                private_ans=2\n",
    "            for block in blocks:\n",
    "                words=block['paragraphs'][0]['words']\n",
    "                len_words=len(words)\n",
    "                if len_words<=15:\n",
    "                    mean_letter_in_block=0\n",
    "                    text=get_text_from_block(block)\n",
    "                    block_vertices = block['boundingBox']['vertices']\n",
    "                    y=block_vertices[3]['y']-block_vertices[0]['y']\n",
    "                    if block_vertices[0]['y']<=loc_title_up[1]:\n",
    "                        ans=1\n",
    "                    elif block_vertices[0]['y']<=loc_title_middle[1]:\n",
    "                        ans=2\n",
    "                    else:\n",
    "                        ans=3\n",
    "                    for word in words:\n",
    "                        desc=''\n",
    "                        word1=word['symbols']\n",
    "                        for l in word1:\n",
    "                            desc+=l['text']\n",
    "                        word_vertices=word['boundingBox']['vertices']\n",
    "                        x_values = []\n",
    "                        for vertex in block_vertices:\n",
    "                            if 'x' in vertex:\n",
    "                                x_values.append(vertex['x'])\n",
    "                        max_x = max(x_values)\n",
    "                        min_x = min(x_values)\n",
    "    \n",
    "                        y_values = []\n",
    "                        for vertex in block_vertices:\n",
    "                            if 'y' in vertex:\n",
    "                                y_values.append(vertex['y'])                         \n",
    "                        max_y = max(y_values)\n",
    "                        min_y = min(y_values)\n",
    "    \n",
    "                        block_x = max_x - min_x\n",
    "                        block_y = max_y - min_y\n",
    "\n",
    "                        num_letter = len(desc)\n",
    "                        area = block_x * block_y\n",
    "                        letter = area / num_letter\n",
    "                        mean_letter_in_block+=letter\n",
    "                    mean_letter_in_block=mean_letter_in_block/len_words\n",
    "                    \n",
    "                    text1=get_normal_text(text)\n",
    "                    text_split=text1.split(' ')\n",
    "                    flag=0\n",
    "                    c=0\n",
    "                    for t in text_split:\n",
    "                        try:\n",
    "                            float(t)\n",
    "                            c=c+1  #מספר המילים שהם מספרים\n",
    "                        except ValueError:\n",
    "                            flag=10\n",
    "                        for en in arr_entity_types:\n",
    "                            if t==en:\n",
    "                                c=c+1\n",
    "                        for date in arr_date:\n",
    "                            if t==date:\n",
    "                                c=c+1\n",
    "                    if c<(len(text_split)*0.7):\n",
    "                        if private_ans!=0:\n",
    "                            dict_mean_letter_in_block.append((text,mean_letter_in_block , private_ans))\n",
    "                        else:\n",
    "                            dict_mean_letter_in_block.append((text,mean_letter_in_block , ans))\n",
    "    sorted_dict_mean_letter_in_block = sorted(dict_mean_letter_in_block, key=lambda x: x[1], reverse=True)\n",
    "    return sorted_dict_mean_letter_in_block[2:]\n",
    "        # if sorted_dict_mean_letter_in_block!=[]:\n",
    "        #     min_num_of_title_letter=int((sorted_dict_mean_letter_in_block[0][1])/2)\n",
    "        # else:\n",
    "        #     min_num_of_title_letter=0\n",
    "            \n",
    "        # for i in sorted_dict_mean_letter_in_block:\n",
    "        #     ans=i[2]-1\n",
    "        #     if i[1]>=min_num_of_title_letter:\n",
    "        #         dict_block_by_loc_title[ans].append((i[0]))\n",
    "        # print(dict_block_by_loc_title)\n",
    "        # return dict_block_by_loc_title\n",
    "    # return sorted_dict_mean_letter_in_block               "
   ]
  },
  {
   "cell_type": "code",
   "execution_count": 305,
   "id": "397a0826-a122-4aa9-bb48-9c7077ef4fff",
   "metadata": {},
   "outputs": [],
   "source": [
    "def get_date_from_Testimony_page(json, format_json, json_res):\n",
    "    date_arr=[]\n",
    "    date=''\n",
    "    date1=extract_dates_from_ocr_response(format_json['full_desc_with_verices'][0]['text'])\n",
    "    if len(date1)>0:\n",
    "        date_arr=date1\n",
    "    entity_types=format_json['entity_types']\n",
    "    if 'DATE' in entity_types:\n",
    "        date2=entity_types['DATE']\n",
    "        for date in date2:\n",
    "            if date not in date_arr:\n",
    "                date_arr.append(date)\n",
    "    if 'CARDINAL' in entity_types:\n",
    "        for car in entity_types['CARDINAL']:\n",
    "            d=extract_dates_from_ocr_response(car)\n",
    "            if len(d)>0:\n",
    "                if d[0] not in date_arr:\n",
    "                    date_arr.append(d[0])\n",
    "    date3=append_dates_new(entity_types)\n",
    "    if len(date3)>0:\n",
    "        for date in date3:\n",
    "            if date not in date_arr:\n",
    "                date_arr.append(date)\n",
    "    if len(date_arr)>0:\n",
    "        date_arr=list(set(date_arr))\n",
    "        res_date =  get_date_Testimony(json_res, json, date_arr, format_json)\n",
    "        if len(res_date)>0:\n",
    "            date= res_date  \n",
    "    return date_arr, date   "
   ]
  },
  {
   "cell_type": "code",
   "execution_count": 312,
   "id": "d4f434b5-377c-4477-a3ff-daf308d079b4",
   "metadata": {},
   "outputs": [],
   "source": [
    "def get_date_from_document( json, format_json, json_res):\n",
    "    date_arr=[]\n",
    "    date=''\n",
    "    date1=extract_dates_from_ocr_response(format_json['full_desc_with_verices'][0]['text'])\n",
    "    if len(date1)>0:\n",
    "        date_arr=date1\n",
    "    entity_types=format_json['entity_types']\n",
    "    if 'DATE' in entity_types:\n",
    "        date2=entity_types['DATE']\n",
    "        for date in date2:\n",
    "            d=extract_dates_from_ocr_response(date)\n",
    "            if len(d)>0:\n",
    "                if d[0] not in date_arr:\n",
    "                    date_arr.append(d[0])\n",
    "    if 'CARDINAL' in entity_types:\n",
    "        for car in entity_types['CARDINAL']:\n",
    "            d=extract_dates_from_ocr_response(car)\n",
    "            if len(d)>0:\n",
    "                if d[0] not in date_arr:\n",
    "                    date_arr.append(d[0])\n",
    "    date3=append_dates_new(entity_types)\n",
    "    if len(date3)>0:\n",
    "        for date in date3:\n",
    "            d=extract_dates_from_ocr_response(date)\n",
    "            if len(d)>0:\n",
    "                if d[0] not in date_arr:\n",
    "                    date_arr.append(d[0])\n",
    "    if len(date_arr)>0:\n",
    "        date_arr=list(set(date_arr))\n",
    "        res_date =  get_date(json_res, json, date_arr, format_json)\n",
    "        if len(res_date)>0:\n",
    "            date= res_date  \n",
    "    return date_arr, date"
   ]
  },
  {
   "cell_type": "code",
   "execution_count": null,
   "id": "d53f2719-6f1a-4658-8ce1-d3ab70a34d16",
   "metadata": {},
   "outputs": [],
   "source": []
  },
  {
   "cell_type": "code",
   "execution_count": 307,
   "id": "a8817f3b",
   "metadata": {},
   "outputs": [],
   "source": [
    "def create_format_json(img_path, json, format_json):\n",
    "    page_type=format_json['page type']\n",
    "    format_json['data_Languages'] = get_data_Languages(json)\n",
    "    json_res = create_json_get_by_y(json)\n",
    "    if json_res:\n",
    "        format_json['full_desc_with_verices'] = json_res.get('full_desc_with_verices', [])\n",
    "        format_json['words'] = json_res.get('words', [])\n",
    "        text_ = format_json['full_desc_with_verices'][0].get('text', '')\n",
    "        text_ = ' '.join(text_.split(\"\\n\")) if text_ else ''\n",
    "        format_json['full_desc_with_verices'][0]['text'] = text_\n",
    "        entity_types = get_finds_dates_places_persons(text_)\n",
    "        format_json['entity_types']=entity_types \n",
    "        if page_type=='another binding':\n",
    "            print(\"ddddddddddddddddddd\")\n",
    "            title = get_title_another_binding(json, json_res, date_arr)\n",
    "            if title:\n",
    "                print(\"title\", title)\n",
    "                format_json['top_title'] = title\n",
    "                return format_json\n",
    "        if page_type=='yad vashem binding':\n",
    "            print(\"ddddddddddddddddddd\")\n",
    "            format_json['top_title']=['YAD VASHEM ARCHIVES', 'ארכיון יד ושם']\n",
    "            return format_json\n",
    "        if page_type=='Testimony page':\n",
    "            format_json['top_title']=['page of Testimony', 'דף עד']\n",
    "            date_arr, date=get_date_from_Testimony_page(json, format_json,json_res )\n",
    "            print(date)\n",
    "            format_json['Production date']=date\n",
    "            return format_json\n",
    "        if  page_type=='Testimony page including a photograph':\n",
    "            format_json['top_title']=['page of Testimony', 'דף עד']\n",
    "            date_arr, date=get_date_from_Testimony_page(json, format_json,json_res )\n",
    "            print(date)\n",
    "            format_json['Production date']=date\n",
    "            return format_json\n",
    "        if page_type=='document':\n",
    "            date_arr, date=get_date_from_document(json, format_json,json_res )\n",
    "            format_json['Production date']=date\n",
    "            dict_block_by_loc_title = get_title(json, json_res, date_arr)\n",
    "            if dict_block_by_loc_title:\n",
    "                title = dict_block_by_loc_title[0]\n",
    "                if len(title)>3:\n",
    "                    title=title[:3]\n",
    "                format_json['top_title'] = title\n",
    "                return format_json\n",
    "    return format_json"
   ]
  },
  {
   "cell_type": "code",
   "execution_count": null,
   "id": "d401cd68-4fa9-4ca0-bb62-20487a01943c",
   "metadata": {},
   "outputs": [],
   "source": []
  },
  {
   "cell_type": "code",
   "execution_count": 308,
   "id": "2f3f89b0",
   "metadata": {},
   "outputs": [],
   "source": [
    "import json\n",
    "\n",
    "def read_json_file(json_filename):\n",
    "    try:\n",
    "        with open(json_filename, 'r', encoding='utf-8') as json_file:\n",
    "            data = json.load(json_file)\n",
    "        return data\n",
    "    except json.JSONDecodeError as e:\n",
    "        print(f\"Error decoding JSON: {e}\")\n",
    "        return None"
   ]
  },
  {
   "cell_type": "code",
   "execution_count": 309,
   "id": "f99ce010",
   "metadata": {},
   "outputs": [],
   "source": [
    "def process_images_in_folders(main_folder):\n",
    "    valid_images = ['.json']  # Define the valid image extensions\n",
    "    imgs_dict = {}\n",
    "    regular_imgs=[]\n",
    "    pictures=[]\n",
    "    to_remove=[]\n",
    "    for folder in os.listdir(main_folder):\n",
    "        folder_path = os.path.join(main_folder, folder)\n",
    "        if not os.path.isdir(folder_path):\n",
    "            continue\n",
    "        for image_file in os.listdir(folder_path):\n",
    "            ext = os.path.splitext(image_file)[1]\n",
    "            image_path = os.path.join(folder_path, image_file)\n",
    "            if ext.lower() not in valid_images:\n",
    "                type_pred=check_type_page(image_path)\n",
    "                if type_pred=='picture':\n",
    "                    pictures.append(image_path)\n",
    "                else:\n",
    "                    regular_imgs.append(image_path)\n",
    "            else:\n",
    "                json=read_json_file(image_path)\n",
    "                if json!=None:\n",
    "                    imgs_dict[image_path]=json\n",
    "                else:\n",
    "                    to_remove.append(image_path.split('.')[0])\n",
    "    regular_imgs_2=[]\n",
    "    for i in regular_imgs:\n",
    "        ii=i.split('.')[0]\n",
    "        if ii not in to_remove:\n",
    "            regular_imgs_2.append(i)\n",
    "    return imgs_dict, regular_imgs_2, pictures"
   ]
  },
  {
   "cell_type": "code",
   "execution_count": 293,
   "id": "81dfbf42-038b-4aba-9aa5-0bb05f138942",
   "metadata": {},
   "outputs": [],
   "source": [
    "import json\n",
    "\n",
    "def write_for_json(json_filename, json_object):\n",
    "    with open(json_filename, 'w', encoding='utf-8') as json_file:\n",
    "        json.dump(json_object, json_file, ensure_ascii=False)"
   ]
  },
  {
   "cell_type": "code",
   "execution_count": 294,
   "id": "7b0191d4-06be-4424-9e8b-66a9a2fcf206",
   "metadata": {},
   "outputs": [],
   "source": [
    "def predict_ed(class_names, img_height, img_width, pic_path, loaded_model):\n",
    "    img = tf.keras.utils.load_img(pic_path, target_size=(img_height, img_width))\n",
    "    img_array = tf.keras.utils.img_to_array(img)\n",
    "    img_array = tf.expand_dims(img_array, 0) # Create a batch\n",
    "    predictions = loaded_model.predict(img_array)\n",
    "    \n",
    "    return class_names[np.argmax(predictions[0])]\n"
   ]
  },
  {
   "cell_type": "code",
   "execution_count": 295,
   "id": "99905778-9a71-4c21-8ea7-af236b89b607",
   "metadata": {},
   "outputs": [],
   "source": [
    "\n",
    "def predict_type_ed(image):\n",
    "    loaded_model = tf.keras.models.load_model(\"./classification_models/ed.h5\")\n",
    "    class_names = ['ed', 'edp']\n",
    "    img_height = 180\n",
    "    img_width = 180\n",
    "    if image.endswith(('.jpg', '.JPG', '.png', '.gif')):\n",
    "        pred = predict_ed(class_names, img_height, img_width, image, loaded_model)\n",
    "        return pred"
   ]
  },
  {
   "cell_type": "code",
   "execution_count": 296,
   "id": "09c4a537-a2bc-41b9-9383-44e88aa2d4db",
   "metadata": {},
   "outputs": [],
   "source": [
    "def predict_pic_doc_ed(class_names, img_height, img_width, pic_path, loaded_model):\n",
    "    img = tf.keras.utils.load_img(pic_path, target_size=(img_height, img_width))\n",
    "    img_array = tf.keras.utils.img_to_array(img)\n",
    "    img_array = tf.expand_dims(img_array, 0) # Create a batch\n",
    "    predictions = loaded_model.predict(img_array)\n",
    "    \n",
    "    return class_names[np.argmax(predictions[0])]\n"
   ]
  },
  {
   "cell_type": "code",
   "execution_count": 297,
   "id": "976c4c9a-fd32-4720-8721-147ff8734416",
   "metadata": {},
   "outputs": [],
   "source": [
    "def predict_type_pic_doc_ed(image):\n",
    "    loaded_model = tf.keras.models.load_model(\"./classification_models/pic-doc-ed.h5\")\n",
    "    class_names = ['pictures', 'documents', 'ed']\n",
    "    img_height = 180\n",
    "    img_width = 180\n",
    "    if image.endswith(('.jpg', '.JPG', '.png', '.gif')):\n",
    "        pred = predict_pic_doc_ed(class_names, img_height, img_width, image, loaded_model)\n",
    "        return pred"
   ]
  },
  {
   "cell_type": "code",
   "execution_count": 298,
   "id": "3bdf4243-92aa-4684-9bb2-f0b6fe78cc78",
   "metadata": {},
   "outputs": [],
   "source": [
    "def predict_binding(class_names, img_height, img_width, pic_path, loaded_model):\n",
    "    img = tf.keras.utils.load_img(pic_path, target_size=(img_height, img_width))\n",
    "    img_array = tf.keras.utils.img_to_array(img)\n",
    "    img_array = tf.expand_dims(img_array, 0) # Create a batch\n",
    "    predictions = loaded_model.predict(img_array)\n",
    "    return class_names[np.argmax(predictions[0])]\n"
   ]
  },
  {
   "cell_type": "code",
   "execution_count": 299,
   "id": "0d6f0388-9d0a-47b5-a8f5-3b996884ad58",
   "metadata": {},
   "outputs": [],
   "source": [
    "\n",
    "def predict_type_binding(image):\n",
    "    loaded_model = tf.keras.models.load_model(\"./classification_models/binding.h5\")\n",
    "    class_names = ['not binding', 'yad vashem binding', 'another binding']\n",
    "    img_height = 180\n",
    "    img_width = 180\n",
    "    if image.endswith(('.jpg', '.JPG', '.png', '.gif')):\n",
    "        pred = predict_binding(class_names, img_height, img_width, image, loaded_model)\n",
    "        return pred"
   ]
  },
  {
   "cell_type": "code",
   "execution_count": 300,
   "id": "bf209f3f-3014-467a-9366-0b731add451e",
   "metadata": {},
   "outputs": [],
   "source": [
    "def check_type_page(image_path):\n",
    "    pred_pic_doc_ed=predict_type_pic_doc_ed(image_path)\n",
    "    if pred_pic_doc_ed=='pictures':\n",
    "        return 'picture'\n",
    "    elif pred_pic_doc_ed=='documents':\n",
    "        pred_bind=predict_type_binding(image_path)\n",
    "        if pred_bind=='not binding':\n",
    "            return 'document'\n",
    "        else:\n",
    "            pred_bind\n",
    "    else:\n",
    "        pred_ed=predict_type_ed(image_path)\n",
    "        if pred_ed=='ed':\n",
    "            return 'Testimony page'\n",
    "        else :\n",
    "            return 'Testimony page including a photograph'"
   ]
  },
  {
   "cell_type": "code",
   "execution_count": 301,
   "id": "ba938f22-6e9e-4713-a1b1-e0fffa95b89c",
   "metadata": {},
   "outputs": [],
   "source": [
    "def write_to_sql(json_data):\n",
    "    image_name=json_data.get(\"image_path\", '')\n",
    "    full_desc_with_verices=json_data.get(\"full_desc_with_verices\", '')\n",
    "    lang_text_1=''\n",
    "    lang_text_1+=str(full_desc_with_verices[0])\n",
    "    lang_text_1+=','\n",
    "    lang_text_1+=str(full_desc_with_verices[1])\n",
    "    full_desc_with_verices=lang_text_1\n",
    "    words=json_data.get(\"words\", '')\n",
    "    flat_data = [item for sublist in words for item in sublist]\n",
    "    long_string = ', '.join(map(str, flat_data))\n",
    "    words=long_string\n",
    "    top_title=json_data.get(\"top_title\", '')\n",
    "    format_json_path=json_data.get(\"format_json_path\", '')\n",
    "    json_path=json_data.get(\"json_path\", '')\n",
    "    date=json_data.get(\"Production date\", '')\n",
    "    if date==[]:\n",
    "        date=''\n",
    "    type_page=json_data.get(\"type_page\", '')\n",
    "    entity_types=str(json_data.get(\"entity_types\", ''))\n",
    "# Establish connection to the SQL Server database\n",
    "    connection_string = 'DRIVER={SQL Server};SERVER=DESKTOP-E0FAPSB\\SQLEXPRESS;DATABASE=Practicom-DB-format_json;Trusted_Connection=yes;'\n",
    "    connection = pyodbc.connect(connection_string)\n",
    "    cursor = connection.cursor()\n",
    "    \n",
    "    try:\n",
    "        # Insert data into the Master table\n",
    "        cursor.execute(\"INSERT INTO Master (IMG_NAME, FULL_DESC_WITH_VERTICES, WORDS, DATE, JSON_PATH, FORMAT_JSON_PATH, TYPE_PAGE, ENTITY_YTPES) VALUES (?, ?, ?, ?, ?, ?, ?)\", \n",
    "                           (image_name, full_desc_with_verices, words, date, json_path, format_json_path, type_page, entity_types))\n",
    "        connection.commit()\n",
    "    \n",
    "        # Get the generated DOC_ID\n",
    "        cursor.execute(\"SELECT @@IDENTITY AS LastIdentity\")\n",
    "        doc_id = cursor.fetchone().LastIdentity\n",
    "        # Insert data into the Title table with the correct DOC_ID\n",
    "        for title_text in top_title:\n",
    "            cursor.execute(\"INSERT INTO Title (DOC_ID, TITLE_TEXT) VALUES (?, ?)\", (doc_id, title_text))\n",
    "        connection.commit()\n",
    "    \n",
    "        # Insert data into the Data_Languages table\n",
    "        data_languages = json_data.get(\"data_Languages\", [])\n",
    "        for language, confidence in data_languages:\n",
    "            cursor.execute(\"INSERT INTO Data_Languages (DOC_ID, LANGUAGE, CONFIDENCE) VALUES (?, ?, ?)\", (doc_id, language, confidence))\n",
    "        connection.commit()\n",
    "    \n",
    "    except Exception as e:\n",
    "        # Handle any exceptions that may occur during the database operations\n",
    "        print(\"An error occurred:\", e)\n",
    "    finally:\n",
    "        cursor.close()\n",
    "        connection.close()"
   ]
  },
  {
   "cell_type": "code",
   "execution_count": 302,
   "id": "49f65d2f-766e-4bd0-8f8a-9941a46bc704",
   "metadata": {},
   "outputs": [],
   "source": [
    "def write_to_sql_pictures(picture):\n",
    "    connection_string = 'DRIVER={SQL Server};SERVER=DESKTOP-E0FAPSB\\SQLEXPRESS;DATABASE=Practicom-DB-format_json;Trusted_Connection=yes;'\n",
    "    connection = pyodbc.connect(connection_string)\n",
    "    cursor = connection.cursor()\n",
    "    \n",
    "    try:\n",
    "        # Insert data into the Master table\n",
    "        cursor.execute(\"INSERT INTO Pictures (IMG_PATH) VALUES (?)\", \n",
    "                           (picture))\n",
    "        connection.commit()\n",
    "    except Exception as e:\n",
    "# Handle any exceptions that may occur during the database operations\n",
    "        print(\"An error occurred:\", e)\n",
    "    finally:\n",
    "        cursor.close()\n",
    "        connection.close()"
   ]
  },
  {
   "cell_type": "code",
   "execution_count": 311,
   "id": "890c0817",
   "metadata": {},
   "outputs": [],
   "source": [
    "import ast\n",
    "import json\n",
    "def second_steps_for_all_images(data):\n",
    "    new_json_dict={}\n",
    "    regular_imgs=[]\n",
    "    imgs_dict, regular_imgs, pictures=process_images_in_folders(data)\n",
    "    img=''\n",
    "    print(len(imgs_dict), len(regular_imgs), len(pictures))\n",
    "    for picture in pictures:\n",
    "        print(\"pic\")\n",
    "        # write_to_sql_pictures(picture)\n",
    "    for img_path, json in imgs_dict.items():\n",
    "        format_json={}\n",
    "        format_json['page type']=check_type_page(img_path)\n",
    "        format_json=create_format_json(img_path, json, format_json)\n",
    "        format_json['json_path']=img_path\n",
    "        img=img_path.split('.')[0]\n",
    "        new_json_dict[img]=format_json\n",
    "    for img_path in regular_imgs:\n",
    "        format_json['image_path']=img_path\n",
    "        img1=img_path.split('.')[0]\n",
    "        format_json=new_json_dict[img1]\n",
    "        format_json['format_json_path']=img1+'_format.json'\n",
    "        # write_to_sql(format_json)\n",
    "        # write_for_json(format_json['format_json_path'], format_json)\n",
    "        # print(img_path, format_json.get('Production date', 0), '  :::  ', format_json.get('top_title', ''))\n",
    "        # print(\"img_path\", img_path)"
   ]
  },
  {
   "cell_type": "code",
   "execution_count": null,
   "id": "11e4140e",
   "metadata": {},
   "outputs": [],
   "source": []
  },
  {
   "cell_type": "code",
   "execution_count": 310,
   "id": "d15ff864",
   "metadata": {},
   "outputs": [
    {
     "name": "stderr",
     "output_type": "stream",
     "text": [
      "WARNING:absl:Compiled the loaded model, but the compiled metrics have yet to be built. `model.compile_metrics` will be empty until you train or evaluate the model.\n"
     ]
    },
    {
     "name": "stdout",
     "output_type": "stream",
     "text": [
      "\u001b[1m1/1\u001b[0m \u001b[32m━━━━━━━━━━━━━━━━━━━━\u001b[0m\u001b[37m\u001b[0m \u001b[1m0s\u001b[0m 105ms/step\n"
     ]
    },
    {
     "name": "stderr",
     "output_type": "stream",
     "text": [
      "WARNING:absl:Compiled the loaded model, but the compiled metrics have yet to be built. `model.compile_metrics` will be empty until you train or evaluate the model.\n"
     ]
    },
    {
     "name": "stdout",
     "output_type": "stream",
     "text": [
      "\u001b[1m1/1\u001b[0m \u001b[32m━━━━━━━━━━━━━━━━━━━━\u001b[0m\u001b[37m\u001b[0m \u001b[1m0s\u001b[0m 107ms/step\n"
     ]
    },
    {
     "name": "stderr",
     "output_type": "stream",
     "text": [
      "WARNING:absl:Compiled the loaded model, but the compiled metrics have yet to be built. `model.compile_metrics` will be empty until you train or evaluate the model.\n"
     ]
    },
    {
     "name": "stdout",
     "output_type": "stream",
     "text": [
      "\u001b[1m1/1\u001b[0m \u001b[32m━━━━━━━━━━━━━━━━━━━━\u001b[0m\u001b[37m\u001b[0m \u001b[1m0s\u001b[0m 115ms/step\n"
     ]
    },
    {
     "name": "stderr",
     "output_type": "stream",
     "text": [
      "WARNING:absl:Compiled the loaded model, but the compiled metrics have yet to be built. `model.compile_metrics` will be empty until you train or evaluate the model.\n"
     ]
    },
    {
     "name": "stdout",
     "output_type": "stream",
     "text": [
      "\u001b[1m1/1\u001b[0m \u001b[32m━━━━━━━━━━━━━━━━━━━━\u001b[0m\u001b[37m\u001b[0m \u001b[1m0s\u001b[0m 111ms/step\n"
     ]
    },
    {
     "name": "stderr",
     "output_type": "stream",
     "text": [
      "WARNING:absl:Compiled the loaded model, but the compiled metrics have yet to be built. `model.compile_metrics` will be empty until you train or evaluate the model.\n"
     ]
    },
    {
     "name": "stdout",
     "output_type": "stream",
     "text": [
      "\u001b[1m1/1\u001b[0m \u001b[32m━━━━━━━━━━━━━━━━━━━━\u001b[0m\u001b[37m\u001b[0m \u001b[1m0s\u001b[0m 92ms/step\n"
     ]
    },
    {
     "name": "stderr",
     "output_type": "stream",
     "text": [
      "WARNING:absl:Compiled the loaded model, but the compiled metrics have yet to be built. `model.compile_metrics` will be empty until you train or evaluate the model.\n"
     ]
    },
    {
     "name": "stdout",
     "output_type": "stream",
     "text": [
      "\u001b[1m1/1\u001b[0m \u001b[32m━━━━━━━━━━━━━━━━━━━━\u001b[0m\u001b[37m\u001b[0m \u001b[1m0s\u001b[0m 140ms/step\n"
     ]
    },
    {
     "name": "stderr",
     "output_type": "stream",
     "text": [
      "WARNING:absl:Compiled the loaded model, but the compiled metrics have yet to be built. `model.compile_metrics` will be empty until you train or evaluate the model.\n"
     ]
    },
    {
     "name": "stdout",
     "output_type": "stream",
     "text": [
      "\u001b[1m1/1\u001b[0m \u001b[32m━━━━━━━━━━━━━━━━━━━━\u001b[0m\u001b[37m\u001b[0m \u001b[1m0s\u001b[0m 88ms/step\n"
     ]
    },
    {
     "name": "stderr",
     "output_type": "stream",
     "text": [
      "WARNING:absl:Compiled the loaded model, but the compiled metrics have yet to be built. `model.compile_metrics` will be empty until you train or evaluate the model.\n"
     ]
    },
    {
     "name": "stdout",
     "output_type": "stream",
     "text": [
      "\u001b[1m1/1\u001b[0m \u001b[32m━━━━━━━━━━━━━━━━━━━━\u001b[0m\u001b[37m\u001b[0m \u001b[1m0s\u001b[0m 98ms/step\n"
     ]
    },
    {
     "name": "stderr",
     "output_type": "stream",
     "text": [
      "WARNING:absl:Compiled the loaded model, but the compiled metrics have yet to be built. `model.compile_metrics` will be empty until you train or evaluate the model.\n"
     ]
    },
    {
     "name": "stdout",
     "output_type": "stream",
     "text": [
      "\u001b[1m1/1\u001b[0m \u001b[32m━━━━━━━━━━━━━━━━━━━━\u001b[0m\u001b[37m\u001b[0m \u001b[1m0s\u001b[0m 149ms/step\n"
     ]
    },
    {
     "name": "stderr",
     "output_type": "stream",
     "text": [
      "WARNING:absl:Compiled the loaded model, but the compiled metrics have yet to be built. `model.compile_metrics` will be empty until you train or evaluate the model.\n"
     ]
    },
    {
     "name": "stdout",
     "output_type": "stream",
     "text": [
      "\u001b[1m1/1\u001b[0m \u001b[32m━━━━━━━━━━━━━━━━━━━━\u001b[0m\u001b[37m\u001b[0m \u001b[1m0s\u001b[0m 94ms/step\n"
     ]
    },
    {
     "name": "stderr",
     "output_type": "stream",
     "text": [
      "WARNING:absl:Compiled the loaded model, but the compiled metrics have yet to be built. `model.compile_metrics` will be empty until you train or evaluate the model.\n"
     ]
    },
    {
     "name": "stdout",
     "output_type": "stream",
     "text": [
      "\u001b[1m1/1\u001b[0m \u001b[32m━━━━━━━━━━━━━━━━━━━━\u001b[0m\u001b[37m\u001b[0m \u001b[1m0s\u001b[0m 104ms/step\n"
     ]
    },
    {
     "name": "stderr",
     "output_type": "stream",
     "text": [
      "WARNING:absl:Compiled the loaded model, but the compiled metrics have yet to be built. `model.compile_metrics` will be empty until you train or evaluate the model.\n"
     ]
    },
    {
     "name": "stdout",
     "output_type": "stream",
     "text": [
      "\u001b[1m1/1\u001b[0m \u001b[32m━━━━━━━━━━━━━━━━━━━━\u001b[0m\u001b[37m\u001b[0m \u001b[1m0s\u001b[0m 96ms/step\n"
     ]
    },
    {
     "name": "stderr",
     "output_type": "stream",
     "text": [
      "WARNING:absl:Compiled the loaded model, but the compiled metrics have yet to be built. `model.compile_metrics` will be empty until you train or evaluate the model.\n"
     ]
    },
    {
     "name": "stdout",
     "output_type": "stream",
     "text": [
      "\u001b[1m1/1\u001b[0m \u001b[32m━━━━━━━━━━━━━━━━━━━━\u001b[0m\u001b[37m\u001b[0m \u001b[1m0s\u001b[0m 152ms/step\n"
     ]
    },
    {
     "name": "stderr",
     "output_type": "stream",
     "text": [
      "WARNING:absl:Compiled the loaded model, but the compiled metrics have yet to be built. `model.compile_metrics` will be empty until you train or evaluate the model.\n"
     ]
    },
    {
     "name": "stdout",
     "output_type": "stream",
     "text": [
      "\u001b[1m1/1\u001b[0m \u001b[32m━━━━━━━━━━━━━━━━━━━━\u001b[0m\u001b[37m\u001b[0m \u001b[1m0s\u001b[0m 91ms/step\n"
     ]
    },
    {
     "name": "stderr",
     "output_type": "stream",
     "text": [
      "WARNING:absl:Compiled the loaded model, but the compiled metrics have yet to be built. `model.compile_metrics` will be empty until you train or evaluate the model.\n"
     ]
    },
    {
     "name": "stdout",
     "output_type": "stream",
     "text": [
      "\u001b[1m1/1\u001b[0m \u001b[32m━━━━━━━━━━━━━━━━━━━━\u001b[0m\u001b[37m\u001b[0m \u001b[1m0s\u001b[0m 111ms/step\n"
     ]
    },
    {
     "name": "stderr",
     "output_type": "stream",
     "text": [
      "WARNING:absl:Compiled the loaded model, but the compiled metrics have yet to be built. `model.compile_metrics` will be empty until you train or evaluate the model.\n"
     ]
    },
    {
     "name": "stdout",
     "output_type": "stream",
     "text": [
      "\u001b[1m1/1\u001b[0m \u001b[32m━━━━━━━━━━━━━━━━━━━━\u001b[0m\u001b[37m\u001b[0m \u001b[1m0s\u001b[0m 98ms/step\n"
     ]
    },
    {
     "name": "stderr",
     "output_type": "stream",
     "text": [
      "WARNING:absl:Compiled the loaded model, but the compiled metrics have yet to be built. `model.compile_metrics` will be empty until you train or evaluate the model.\n"
     ]
    },
    {
     "name": "stdout",
     "output_type": "stream",
     "text": [
      "\u001b[1m1/1\u001b[0m \u001b[32m━━━━━━━━━━━━━━━━━━━━\u001b[0m\u001b[37m\u001b[0m \u001b[1m0s\u001b[0m 84ms/step\n"
     ]
    },
    {
     "name": "stderr",
     "output_type": "stream",
     "text": [
      "WARNING:absl:Compiled the loaded model, but the compiled metrics have yet to be built. `model.compile_metrics` will be empty until you train or evaluate the model.\n"
     ]
    },
    {
     "name": "stdout",
     "output_type": "stream",
     "text": [
      "\u001b[1m1/1\u001b[0m \u001b[32m━━━━━━━━━━━━━━━━━━━━\u001b[0m\u001b[37m\u001b[0m \u001b[1m0s\u001b[0m 116ms/step\n"
     ]
    },
    {
     "name": "stderr",
     "output_type": "stream",
     "text": [
      "WARNING:absl:Compiled the loaded model, but the compiled metrics have yet to be built. `model.compile_metrics` will be empty until you train or evaluate the model.\n"
     ]
    },
    {
     "name": "stdout",
     "output_type": "stream",
     "text": [
      "\u001b[1m1/1\u001b[0m \u001b[32m━━━━━━━━━━━━━━━━━━━━\u001b[0m\u001b[37m\u001b[0m \u001b[1m0s\u001b[0m 100ms/step\n"
     ]
    },
    {
     "name": "stderr",
     "output_type": "stream",
     "text": [
      "WARNING:absl:Compiled the loaded model, but the compiled metrics have yet to be built. `model.compile_metrics` will be empty until you train or evaluate the model.\n"
     ]
    },
    {
     "name": "stdout",
     "output_type": "stream",
     "text": [
      "\u001b[1m1/1\u001b[0m \u001b[32m━━━━━━━━━━━━━━━━━━━━\u001b[0m\u001b[37m\u001b[0m \u001b[1m0s\u001b[0m 87ms/step\n"
     ]
    },
    {
     "name": "stderr",
     "output_type": "stream",
     "text": [
      "WARNING:absl:Compiled the loaded model, but the compiled metrics have yet to be built. `model.compile_metrics` will be empty until you train or evaluate the model.\n"
     ]
    },
    {
     "name": "stdout",
     "output_type": "stream",
     "text": [
      "\u001b[1m1/1\u001b[0m \u001b[32m━━━━━━━━━━━━━━━━━━━━\u001b[0m\u001b[37m\u001b[0m \u001b[1m0s\u001b[0m 94ms/step\n"
     ]
    },
    {
     "name": "stderr",
     "output_type": "stream",
     "text": [
      "WARNING:absl:Compiled the loaded model, but the compiled metrics have yet to be built. `model.compile_metrics` will be empty until you train or evaluate the model.\n"
     ]
    },
    {
     "name": "stdout",
     "output_type": "stream",
     "text": [
      "\u001b[1m1/1\u001b[0m \u001b[32m━━━━━━━━━━━━━━━━━━━━\u001b[0m\u001b[37m\u001b[0m \u001b[1m0s\u001b[0m 102ms/step\n"
     ]
    },
    {
     "name": "stderr",
     "output_type": "stream",
     "text": [
      "WARNING:absl:Compiled the loaded model, but the compiled metrics have yet to be built. `model.compile_metrics` will be empty until you train or evaluate the model.\n"
     ]
    },
    {
     "name": "stdout",
     "output_type": "stream",
     "text": [
      "\u001b[1m1/1\u001b[0m \u001b[32m━━━━━━━━━━━━━━━━━━━━\u001b[0m\u001b[37m\u001b[0m \u001b[1m0s\u001b[0m 109ms/step\n"
     ]
    },
    {
     "name": "stderr",
     "output_type": "stream",
     "text": [
      "WARNING:absl:Compiled the loaded model, but the compiled metrics have yet to be built. `model.compile_metrics` will be empty until you train or evaluate the model.\n"
     ]
    },
    {
     "name": "stdout",
     "output_type": "stream",
     "text": [
      "\u001b[1m1/1\u001b[0m \u001b[32m━━━━━━━━━━━━━━━━━━━━\u001b[0m\u001b[37m\u001b[0m \u001b[1m0s\u001b[0m 113ms/step\n"
     ]
    },
    {
     "name": "stderr",
     "output_type": "stream",
     "text": [
      "WARNING:absl:Compiled the loaded model, but the compiled metrics have yet to be built. `model.compile_metrics` will be empty until you train or evaluate the model.\n"
     ]
    },
    {
     "name": "stdout",
     "output_type": "stream",
     "text": [
      "\u001b[1m1/1\u001b[0m \u001b[32m━━━━━━━━━━━━━━━━━━━━\u001b[0m\u001b[37m\u001b[0m \u001b[1m0s\u001b[0m 103ms/step\n"
     ]
    },
    {
     "name": "stderr",
     "output_type": "stream",
     "text": [
      "WARNING:absl:Compiled the loaded model, but the compiled metrics have yet to be built. `model.compile_metrics` will be empty until you train or evaluate the model.\n"
     ]
    },
    {
     "name": "stdout",
     "output_type": "stream",
     "text": [
      "\u001b[1m1/1\u001b[0m \u001b[32m━━━━━━━━━━━━━━━━━━━━\u001b[0m\u001b[37m\u001b[0m \u001b[1m0s\u001b[0m 98ms/step\n"
     ]
    },
    {
     "name": "stderr",
     "output_type": "stream",
     "text": [
      "WARNING:absl:Compiled the loaded model, but the compiled metrics have yet to be built. `model.compile_metrics` will be empty until you train or evaluate the model.\n"
     ]
    },
    {
     "name": "stdout",
     "output_type": "stream",
     "text": [
      "\u001b[1m1/1\u001b[0m \u001b[32m━━━━━━━━━━━━━━━━━━━━\u001b[0m\u001b[37m\u001b[0m \u001b[1m0s\u001b[0m 101ms/step\n"
     ]
    },
    {
     "name": "stderr",
     "output_type": "stream",
     "text": [
      "WARNING:absl:Compiled the loaded model, but the compiled metrics have yet to be built. `model.compile_metrics` will be empty until you train or evaluate the model.\n"
     ]
    },
    {
     "name": "stdout",
     "output_type": "stream",
     "text": [
      "\u001b[1m1/1\u001b[0m \u001b[32m━━━━━━━━━━━━━━━━━━━━\u001b[0m\u001b[37m\u001b[0m \u001b[1m0s\u001b[0m 98ms/step\n"
     ]
    },
    {
     "name": "stderr",
     "output_type": "stream",
     "text": [
      "WARNING:absl:Compiled the loaded model, but the compiled metrics have yet to be built. `model.compile_metrics` will be empty until you train or evaluate the model.\n"
     ]
    },
    {
     "name": "stdout",
     "output_type": "stream",
     "text": [
      "\u001b[1m1/1\u001b[0m \u001b[32m━━━━━━━━━━━━━━━━━━━━\u001b[0m\u001b[37m\u001b[0m \u001b[1m0s\u001b[0m 117ms/step\n"
     ]
    },
    {
     "name": "stderr",
     "output_type": "stream",
     "text": [
      "WARNING:absl:Compiled the loaded model, but the compiled metrics have yet to be built. `model.compile_metrics` will be empty until you train or evaluate the model.\n"
     ]
    },
    {
     "name": "stdout",
     "output_type": "stream",
     "text": [
      "\u001b[1m1/1\u001b[0m \u001b[32m━━━━━━━━━━━━━━━━━━━━\u001b[0m\u001b[37m\u001b[0m \u001b[1m0s\u001b[0m 99ms/step\n"
     ]
    },
    {
     "name": "stderr",
     "output_type": "stream",
     "text": [
      "WARNING:absl:Compiled the loaded model, but the compiled metrics have yet to be built. `model.compile_metrics` will be empty until you train or evaluate the model.\n"
     ]
    },
    {
     "name": "stdout",
     "output_type": "stream",
     "text": [
      "\u001b[1m1/1\u001b[0m \u001b[32m━━━━━━━━━━━━━━━━━━━━\u001b[0m\u001b[37m\u001b[0m \u001b[1m0s\u001b[0m 98ms/step\n"
     ]
    },
    {
     "name": "stderr",
     "output_type": "stream",
     "text": [
      "WARNING:absl:Compiled the loaded model, but the compiled metrics have yet to be built. `model.compile_metrics` will be empty until you train or evaluate the model.\n"
     ]
    },
    {
     "name": "stdout",
     "output_type": "stream",
     "text": [
      "\u001b[1m1/1\u001b[0m \u001b[32m━━━━━━━━━━━━━━━━━━━━\u001b[0m\u001b[37m\u001b[0m \u001b[1m0s\u001b[0m 119ms/step\n"
     ]
    },
    {
     "name": "stderr",
     "output_type": "stream",
     "text": [
      "WARNING:absl:Compiled the loaded model, but the compiled metrics have yet to be built. `model.compile_metrics` will be empty until you train or evaluate the model.\n"
     ]
    },
    {
     "name": "stdout",
     "output_type": "stream",
     "text": [
      "\u001b[1m1/1\u001b[0m \u001b[32m━━━━━━━━━━━━━━━━━━━━\u001b[0m\u001b[37m\u001b[0m \u001b[1m0s\u001b[0m 97ms/step\n"
     ]
    },
    {
     "name": "stderr",
     "output_type": "stream",
     "text": [
      "WARNING:absl:Compiled the loaded model, but the compiled metrics have yet to be built. `model.compile_metrics` will be empty until you train or evaluate the model.\n"
     ]
    },
    {
     "name": "stdout",
     "output_type": "stream",
     "text": [
      "\u001b[1m1/1\u001b[0m \u001b[32m━━━━━━━━━━━━━━━━━━━━\u001b[0m\u001b[37m\u001b[0m \u001b[1m0s\u001b[0m 113ms/step\n"
     ]
    },
    {
     "name": "stderr",
     "output_type": "stream",
     "text": [
      "WARNING:absl:Compiled the loaded model, but the compiled metrics have yet to be built. `model.compile_metrics` will be empty until you train or evaluate the model.\n"
     ]
    },
    {
     "name": "stdout",
     "output_type": "stream",
     "text": [
      "\u001b[1m1/1\u001b[0m \u001b[32m━━━━━━━━━━━━━━━━━━━━\u001b[0m\u001b[37m\u001b[0m \u001b[1m0s\u001b[0m 131ms/step\n"
     ]
    },
    {
     "name": "stderr",
     "output_type": "stream",
     "text": [
      "WARNING:absl:Compiled the loaded model, but the compiled metrics have yet to be built. `model.compile_metrics` will be empty until you train or evaluate the model.\n"
     ]
    },
    {
     "name": "stdout",
     "output_type": "stream",
     "text": [
      "\u001b[1m1/1\u001b[0m \u001b[32m━━━━━━━━━━━━━━━━━━━━\u001b[0m\u001b[37m\u001b[0m \u001b[1m0s\u001b[0m 149ms/step\n"
     ]
    },
    {
     "name": "stderr",
     "output_type": "stream",
     "text": [
      "WARNING:absl:Compiled the loaded model, but the compiled metrics have yet to be built. `model.compile_metrics` will be empty until you train or evaluate the model.\n"
     ]
    },
    {
     "name": "stdout",
     "output_type": "stream",
     "text": [
      "\u001b[1m1/1\u001b[0m \u001b[32m━━━━━━━━━━━━━━━━━━━━\u001b[0m\u001b[37m\u001b[0m \u001b[1m0s\u001b[0m 190ms/step\n"
     ]
    },
    {
     "name": "stderr",
     "output_type": "stream",
     "text": [
      "WARNING:absl:Compiled the loaded model, but the compiled metrics have yet to be built. `model.compile_metrics` will be empty until you train or evaluate the model.\n"
     ]
    },
    {
     "name": "stdout",
     "output_type": "stream",
     "text": [
      "\u001b[1m1/1\u001b[0m \u001b[32m━━━━━━━━━━━━━━━━━━━━\u001b[0m\u001b[37m\u001b[0m \u001b[1m0s\u001b[0m 120ms/step\n"
     ]
    },
    {
     "name": "stderr",
     "output_type": "stream",
     "text": [
      "WARNING:absl:Compiled the loaded model, but the compiled metrics have yet to be built. `model.compile_metrics` will be empty until you train or evaluate the model.\n"
     ]
    },
    {
     "name": "stdout",
     "output_type": "stream",
     "text": [
      "\u001b[1m1/1\u001b[0m \u001b[32m━━━━━━━━━━━━━━━━━━━━\u001b[0m\u001b[37m\u001b[0m \u001b[1m0s\u001b[0m 103ms/step\n"
     ]
    },
    {
     "name": "stderr",
     "output_type": "stream",
     "text": [
      "WARNING:absl:Compiled the loaded model, but the compiled metrics have yet to be built. `model.compile_metrics` will be empty until you train or evaluate the model.\n"
     ]
    },
    {
     "name": "stdout",
     "output_type": "stream",
     "text": [
      "\u001b[1m1/1\u001b[0m \u001b[32m━━━━━━━━━━━━━━━━━━━━\u001b[0m\u001b[37m\u001b[0m \u001b[1m0s\u001b[0m 113ms/step\n"
     ]
    },
    {
     "name": "stderr",
     "output_type": "stream",
     "text": [
      "WARNING:absl:Compiled the loaded model, but the compiled metrics have yet to be built. `model.compile_metrics` will be empty until you train or evaluate the model.\n"
     ]
    },
    {
     "name": "stdout",
     "output_type": "stream",
     "text": [
      "18 16 8\n",
      "pic\n",
      "pic\n",
      "pic\n",
      "pic\n",
      "pic\n",
      "pic\n",
      "pic\n",
      "pic\n"
     ]
    },
    {
     "name": "stderr",
     "output_type": "stream",
     "text": [
      "WARNING:absl:Compiled the loaded model, but the compiled metrics have yet to be built. `model.compile_metrics` will be empty until you train or evaluate the model.\n"
     ]
    },
    {
     "name": "stdout",
     "output_type": "stream",
     "text": [
      "data_practucom/test\\another_binding_with_format_json\\00017.json 😄 Testimony page including a photograph\n"
     ]
    },
    {
     "name": "stderr",
     "output_type": "stream",
     "text": [
      "WARNING:absl:Compiled the loaded model, but the compiled metrics have yet to be built. `model.compile_metrics` will be empty until you train or evaluate the model.\n"
     ]
    },
    {
     "name": "stdout",
     "output_type": "stream",
     "text": [
      "eeeeeeeeeeeeeeeeeeeeeeeeeeeee\n",
      "\n",
      "uuuuuuuuuuuuuuuuuuuuu {'page type': 'Testimony page including a photograph', 'data_Languages': [('Hebrew', 0.76785314)], 'full_desc_with_verices': ({'text': '16) יום הקדיש'}, {'vertices': [{'x': 1188, 'y': 194}, {'x': 1772, 'y': 194}, {'x': 1772, 'y': 892}, {'x': 1188, 'y': 892}]}), 'words': [({'vertices': [{'x': 1188, 'y': 194}, {'x': 1772, 'y': 194}, {'x': 1772, 'y': 892}, {'x': 1188, 'y': 892}]}, ['16)', 'יום הקדיש']), ({'vertices': [{'x': 1493, 'y': 207}, {'x': 1631, 'y': 196}, {'x': 1638, 'y': 287}, {'x': 1500, 'y': 298}]}, ['16']), ({'vertices': [{'x': 1593, 'y': 199}, {'x': 1657, 'y': 194}, {'x': 1664, 'y': 285}, {'x': 1600, 'y': 290}]}, [')']), ({'vertices': [{'x': 1612, 'y': 780}, {'x': 1772, 'y': 780}, {'x': 1772, 'y': 892}, {'x': 1612, 'y': 892}]}, ['יום']), ({'vertices': [{'x': 1188, 'y': 780}, {'x': 1548, 'y': 780}, {'x': 1548, 'y': 892}, {'x': 1188, 'y': 892}]}, ['הקדיש'])], 'entity_types': {'CARDINAL': ['16']}, 'top_title': ['page of Testimony', 'דף עד'], 'Production date': ''}\n"
     ]
    },
    {
     "name": "stderr",
     "output_type": "stream",
     "text": [
      "WARNING:absl:Compiled the loaded model, but the compiled metrics have yet to be built. `model.compile_metrics` will be empty until you train or evaluate the model.\n"
     ]
    },
    {
     "name": "stdout",
     "output_type": "stream",
     "text": [
      "data_practucom/test\\another_binding_with_format_json\\00036.json 😄 Testimony page including a photograph\n"
     ]
    },
    {
     "name": "stderr",
     "output_type": "stream",
     "text": [
      "WARNING:absl:Compiled the loaded model, but the compiled metrics have yet to be built. `model.compile_metrics` will be empty until you train or evaluate the model.\n"
     ]
    },
    {
     "name": "stdout",
     "output_type": "stream",
     "text": [
      "eeeeeeeeeeeeeeeeeeeeeeeeeeeee\n",
      "(127, 520.75)\n",
      "וואָס\n",
      "uuuuuuuuuuuuuuuuuuuuu {'page type': 'Testimony page including a photograph', 'data_Languages': [('Yiddish', 0.69158727), ('French', 0.14139622), ('Hebrew', 0.1390799)], 'full_desc_with_verices': ({'text': '17 די אריער לעגענדע אוּן די ר א סוּ פון ז ש א ן פ י נ א. Le Roman des Races par Jean Finot. איבערזעצט מיט אייניגע באַמערקונגען און אבנייגונגען פון טעקסט פון ממרינט תמיד נאר אמת וואָס מער אמת! ביאליסטאק, — ת ר צ י ו דרוקעריי, ליטאָגראף ביאליסטאס.'}, {'vertices': [{'x': 619, 'y': 127}, {'x': 1549, 'y': 127}, {'x': 1549, 'y': 1702}, {'x': 619, 'y': 1702}]}), 'words': [({'vertices': [{'x': 619, 'y': 127}, {'x': 1549, 'y': 127}, {'x': 1549, 'y': 1702}, {'x': 619, 'y': 1702}]}, ['17', 'די אריער לעגענדע', 'אוּן די ר א סוּ', 'פון ז ש א ן פ י נ א.', 'Le Roman des Races', 'par', 'Jean Finot.', 'איבערזעצט מיט אייניגע באַמערקונגען און אבנייגונגען פון טעקסט', 'פון ממרינט', 'תמיד נאר אמת וואָס מער אמת!', 'ביאליסטאק, — ת ר צ י ו', 'דרוקעריי, ליטאָגראף ביאליסטאס.']), ({'vertices': [{'x': 1218, 'y': 127}, {'x': 1294, 'y': 133}, {'x': 1291, 'y': 177}, {'x': 1215, 'y': 172}]}, ['17']), ({'vertices': [{'x': 1375, 'y': 345}, {'x': 1454, 'y': 347}, {'x': 1452, 'y': 432}, {'x': 1373, 'y': 430}]}, ['די']), ({'vertices': [{'x': 1096, 'y': 338}, {'x': 1327, 'y': 344}, {'x': 1325, 'y': 430}, {'x': 1094, 'y': 424}]}, ['אריער']), ({'vertices': [{'x': 730, 'y': 328}, {'x': 1050, 'y': 337}, {'x': 1048, 'y': 423}, {'x': 728, 'y': 414}]}, ['לעגענדע']), ({'vertices': [{'x': 1275, 'y': 459}, {'x': 1451, 'y': 464}, {'x': 1449, 'y': 544}, {'x': 1273, 'y': 539}]}, ['אוּן']), ({'vertices': [{'x': 1086, 'y': 454}, {'x': 1189, 'y': 457}, {'x': 1187, 'y': 537}, {'x': 1084, 'y': 534}]}, ['די']), ({'vertices': [{'x': 956, 'y': 451}, {'x': 1008, 'y': 452}, {'x': 1006, 'y': 532}, {'x': 954, 'y': 531}]}, ['ר']), ({'vertices': [{'x': 872, 'y': 448}, {'x': 924, 'y': 449}, {'x': 922, 'y': 529}, {'x': 870, 'y': 528}]}, ['א']), ({'vertices': [{'x': 728, 'y': 444}, {'x': 840, 'y': 447}, {'x': 838, 'y': 528}, {'x': 726, 'y': 525}]}, ['סוּ']), ({'vertices': [{'x': 1251, 'y': 569}, {'x': 1284, 'y': 570}, {'x': 1283, 'y': 610}, {'x': 1250, 'y': 609}]}, ['פון']), ({'vertices': [{'x': 1194, 'y': 567}, {'x': 1214, 'y': 568}, {'x': 1213, 'y': 608}, {'x': 1193, 'y': 607}]}, ['ז']), ({'vertices': [{'x': 1146, 'y': 565}, {'x': 1176, 'y': 566}, {'x': 1175, 'y': 606}, {'x': 1145, 'y': 605}]}, ['ש']), ({'vertices': [{'x': 1104, 'y': 564}, {'x': 1128, 'y': 565}, {'x': 1127, 'y': 605}, {'x': 1103, 'y': 604}]}, ['א']), ({'vertices': [{'x': 1076, 'y': 563}, {'x': 1086, 'y': 563}, {'x': 1085, 'y': 603}, {'x': 1075, 'y': 603}]}, ['ן']), ({'vertices': [{'x': 1018, 'y': 561}, {'x': 1042, 'y': 562}, {'x': 1041, 'y': 602}, {'x': 1017, 'y': 601}]}, ['פ']), ({'vertices': [{'x': 984, 'y': 559}, {'x': 998, 'y': 559}, {'x': 997, 'y': 599}, {'x': 983, 'y': 599}]}, ['י']), ({'vertices': [{'x': 950, 'y': 558}, {'x': 966, 'y': 559}, {'x': 965, 'y': 599}, {'x': 949, 'y': 598}]}, ['נ']), ({'vertices': [{'x': 908, 'y': 557}, {'x': 930, 'y': 558}, {'x': 929, 'y': 598}, {'x': 907, 'y': 597}]}, ['א']), ({'vertices': [{'x': 896, 'y': 557}, {'x': 906, 'y': 557}, {'x': 905, 'y': 597}, {'x': 895, 'y': 597}]}, ['.']), ({'vertices': [{'x': 620, 'y': 703}, {'x': 718, 'y': 705}, {'x': 717, 'y': 757}, {'x': 619, 'y': 755}]}, ['Le']), ({'vertices': [{'x': 756, 'y': 705}, {'x': 1058, 'y': 712}, {'x': 1057, 'y': 765}, {'x': 755, 'y': 758}]}, ['Roman']), ({'vertices': [{'x': 1095, 'y': 713}, {'x': 1245, 'y': 717}, {'x': 1244, 'y': 770}, {'x': 1094, 'y': 766}]}, ['des']), ({'vertices': [{'x': 1284, 'y': 718}, {'x': 1549, 'y': 724}, {'x': 1548, 'y': 777}, {'x': 1283, 'y': 771}]}, ['Races']), ({'vertices': [{'x': 1044, 'y': 806}, {'x': 1127, 'y': 809}, {'x': 1126, 'y': 830}, {'x': 1043, 'y': 827}]}, ['par']), ({'vertices': [{'x': 942, 'y': 853}, {'x': 1066, 'y': 855}, {'x': 1065, 'y': 889}, {'x': 941, 'y': 887}]}, ['Jean']), ({'vertices': [{'x': 1092, 'y': 856}, {'x': 1216, 'y': 858}, {'x': 1215, 'y': 891}, {'x': 1091, 'y': 889}]}, ['Finot']), ({'vertices': [{'x': 1218, 'y': 858}, {'x': 1224, 'y': 858}, {'x': 1223, 'y': 891}, {'x': 1217, 'y': 891}]}, ['.']), ({'vertices': [{'x': 1375, 'y': 1016}, {'x': 1532, 'y': 1019}, {'x': 1531, 'y': 1060}, {'x': 1374, 'y': 1057}]}, ['איבערזעצט']), ({'vertices': [{'x': 1312, 'y': 1014}, {'x': 1361, 'y': 1015}, {'x': 1360, 'y': 1054}, {'x': 1311, 'y': 1053}]}, ['מיט']), ({'vertices': [{'x': 1210, 'y': 1012}, {'x': 1298, 'y': 1014}, {'x': 1297, 'y': 1054}, {'x': 1209, 'y': 1052}]}, ['אייניגע']), ({'vertices': [{'x': 1019, 'y': 1008}, {'x': 1196, 'y': 1012}, {'x': 1195, 'y': 1054}, {'x': 1018, 'y': 1050}]}, ['באַמערקונגען']), ({'vertices': [{'x': 966, 'y': 1007}, {'x': 1003, 'y': 1008}, {'x': 1002, 'y': 1047}, {'x': 965, 'y': 1046}]}, ['און']), ({'vertices': [{'x': 805, 'y': 1004}, {'x': 954, 'y': 1007}, {'x': 953, 'y': 1048}, {'x': 804, 'y': 1045}]}, ['אבנייגונגען']), ({'vertices': [{'x': 754, 'y': 1003}, {'x': 791, 'y': 1004}, {'x': 790, 'y': 1042}, {'x': 753, 'y': 1041}]}, ['פון']), ({'vertices': [{'x': 638, 'y': 1001}, {'x': 739, 'y': 1003}, {'x': 738, 'y': 1042}, {'x': 637, 'y': 1040}]}, ['טעקסט']), ({'vertices': [{'x': 1168, 'y': 1076}, {'x': 1198, 'y': 1077}, {'x': 1196, 'y': 1111}, {'x': 1167, 'y': 1110}]}, ['פון']), ({'vertices': [{'x': 961, 'y': 1066}, {'x': 1135, 'y': 1074}, {'x': 1133, 'y': 1109}, {'x': 959, 'y': 1101}]}, ['ממרינט']), ({'vertices': [{'x': 1212, 'y': 1252}, {'x': 1269, 'y': 1253}, {'x': 1269, 'y': 1283}, {'x': 1212, 'y': 1282}]}, ['תמיד']), ({'vertices': [{'x': 1153, 'y': 1251}, {'x': 1194, 'y': 1252}, {'x': 1194, 'y': 1282}, {'x': 1153, 'y': 1281}]}, ['נאר']), ({'vertices': [{'x': 1088, 'y': 1250}, {'x': 1135, 'y': 1251}, {'x': 1135, 'y': 1281}, {'x': 1088, 'y': 1280}]}, ['אמת']), ({'vertices': [{'x': 1024, 'y': 1249}, {'x': 1069, 'y': 1250}, {'x': 1069, 'y': 1280}, {'x': 1024, 'y': 1279}]}, ['וואָס']), ({'vertices': [{'x': 961, 'y': 1248}, {'x': 1006, 'y': 1249}, {'x': 1006, 'y': 1279}, {'x': 961, 'y': 1278}]}, ['מער']), ({'vertices': [{'x': 891, 'y': 1247}, {'x': 935, 'y': 1248}, {'x': 935, 'y': 1278}, {'x': 891, 'y': 1277}]}, ['אמת']), ({'vertices': [{'x': 883, 'y': 1247}, {'x': 891, 'y': 1247}, {'x': 891, 'y': 1277}, {'x': 883, 'y': 1277}]}, ['!']), ({'vertices': [{'x': 1114, 'y': 1431}, {'x': 1304, 'y': 1438}, {'x': 1302, 'y': 1492}, {'x': 1112, 'y': 1485}]}, ['ביאליסטאק']), ({'vertices': [{'x': 1098, 'y': 1432}, {'x': 1112, 'y': 1433}, {'x': 1110, 'y': 1484}, {'x': 1096, 'y': 1484}]}, [',']), ({'vertices': [{'x': 1039, 'y': 1430}, {'x': 1075, 'y': 1431}, {'x': 1073, 'y': 1483}, {'x': 1037, 'y': 1482}]}, ['—']), ({'vertices': [{'x': 994, 'y': 1428}, {'x': 1020, 'y': 1429}, {'x': 1018, 'y': 1481}, {'x': 992, 'y': 1480}]}, ['ת']), ({'vertices': [{'x': 952, 'y': 1427}, {'x': 974, 'y': 1428}, {'x': 972, 'y': 1480}, {'x': 950, 'y': 1479}]}, ['ר']), ({'vertices': [{'x': 906, 'y': 1425}, {'x': 930, 'y': 1426}, {'x': 928, 'y': 1478}, {'x': 904, 'y': 1477}]}, ['צ']), ({'vertices': [{'x': 874, 'y': 1424}, {'x': 884, 'y': 1424}, {'x': 882, 'y': 1476}, {'x': 872, 'y': 1476}]}, ['י']), ({'vertices': [{'x': 838, 'y': 1423}, {'x': 852, 'y': 1424}, {'x': 850, 'y': 1475}, {'x': 836, 'y': 1475}]}, ['ו']), ({'vertices': [{'x': 1225, 'y': 1650}, {'x': 1375, 'y': 1653}, {'x': 1374, 'y': 1700}, {'x': 1224, 'y': 1697}]}, ['דרוקעריי']), ({'vertices': [{'x': 1207, 'y': 1649}, {'x': 1217, 'y': 1649}, {'x': 1216, 'y': 1694}, {'x': 1206, 'y': 1694}]}, [',']), ({'vertices': [{'x': 1018, 'y': 1645}, {'x': 1176, 'y': 1648}, {'x': 1175, 'y': 1694}, {'x': 1017, 'y': 1691}]}, ['ליטאָגראף']), ({'vertices': [{'x': 769, 'y': 1637}, {'x': 963, 'y': 1641}, {'x': 962, 'y': 1689}, {'x': 768, 'y': 1685}]}, ['ביאליסטאס']), ({'vertices': [{'x': 755, 'y': 1640}, {'x': 763, 'y': 1640}, {'x': 762, 'y': 1685}, {'x': 754, 'y': 1685}]}, ['.'])], 'entity_types': {'CARDINAL': ['17'], 'ORG': ['Le Roman des Races', 'איבערזעצט מיט'], 'PERSON': ['Jean Finot'], 'DATE': ['וואָס']}, 'top_title': ['page of Testimony', 'דף עד'], 'Production date': 'וואָס'}\n"
     ]
    },
    {
     "name": "stderr",
     "output_type": "stream",
     "text": [
      "WARNING:absl:Compiled the loaded model, but the compiled metrics have yet to be built. `model.compile_metrics` will be empty until you train or evaluate the model.\n"
     ]
    },
    {
     "name": "stdout",
     "output_type": "stream",
     "text": [
      "data_practucom/test\\documents_with_json\\10256434_1.json 😄 Testimony page including a photograph\n"
     ]
    },
    {
     "name": "stderr",
     "output_type": "stream",
     "text": [
      "WARNING:absl:Compiled the loaded model, but the compiled metrics have yet to be built. `model.compile_metrics` will be empty until you train or evaluate the model.\n"
     ]
    },
    {
     "name": "stdout",
     "output_type": "stream",
     "text": [
      "eeeeeeeeeeeeeeeeeeeeeeeeeeeee\n",
      "(27, 191.0)\n",
      "1.1.47\n",
      "uuuuuuuuuuuuuuuuuuuuu {'page type': 'Testimony page including a photograph', 'data_Languages': [('German', 0.35298702), ('English', 0.19448327), ('Hungarian', 0.08563776), ('Slovenian', 0.06144397)], 'full_desc_with_verices': ({'text': 'Rel.jud. usa./poln. 540 377 SELIGMAN geb.SZAG KANTOR Czeslawa 10.11.19 Lodz 2.40 10.44 11.44 Gh.Lodz Ravensbrück ZAL Wittenberg/ 4.45 befreit. 1.1.47 DP-Lg.: Eschwege Reg.Pr.Darmstadt Ro'}, {'vertices': [{'x': 54, 'y': 27}, {'x': 1121, 'y': 27}, {'x': 1121, 'y': 683}, {'x': 54, 'y': 683}]}), 'words': [({'vertices': [{'x': 54, 'y': 27}, {'x': 1121, 'y': 27}, {'x': 1121, 'y': 683}, {'x': 54, 'y': 683}]}, ['Rel.jud.', 'usa./poln.', '540 377', 'SELIGMAN', 'geb.SZAG KANTOR', 'Czeslawa', '10.11.19', 'Lodz', '2.40', '10.44', '11.44', 'Gh.Lodz', 'Ravensbrück', 'ZAL Wittenberg/ 4.45 befreit.', '1.1.47 DP-Lg.: Eschwege', 'Reg.Pr.Darmstadt', 'Ro']), ({'vertices': [{'x': 954, 'y': 151}, {'x': 1092, 'y': 157}, {'x': 1091, 'y': 186}, {'x': 953, 'y': 180}]}, ['Rel.jud']), ({'vertices': [{'x': 1094, 'y': 158}, {'x': 1106, 'y': 159}, {'x': 1105, 'y': 187}, {'x': 1093, 'y': 186}]}, ['.']), ({'vertices': [{'x': 896, 'y': 185}, {'x': 1073, 'y': 190}, {'x': 1072, 'y': 226}, {'x': 895, 'y': 221}]}, ['usa./poln']), ({'vertices': [{'x': 1075, 'y': 191}, {'x': 1086, 'y': 191}, {'x': 1085, 'y': 226}, {'x': 1074, 'y': 226}]}, ['.']), ({'vertices': [{'x': 801, 'y': 27}, {'x': 860, 'y': 29}, {'x': 859, 'y': 59}, {'x': 800, 'y': 57}]}, ['540']), ({'vertices': [{'x': 880, 'y': 30}, {'x': 936, 'y': 32}, {'x': 935, 'y': 61}, {'x': 879, 'y': 59}]}, ['377']), ({'vertices': [{'x': 259, 'y': 58}, {'x': 551, 'y': 62}, {'x': 551, 'y': 89}, {'x': 259, 'y': 85}]}, ['SELIGMAN']), ({'vertices': [{'x': 260, 'y': 100}, {'x': 411, 'y': 98}, {'x': 411, 'y': 130}, {'x': 260, 'y': 132}]}, ['geb.SZAG']), ({'vertices': [{'x': 430, 'y': 98}, {'x': 549, 'y': 96}, {'x': 549, 'y': 128}, {'x': 430, 'y': 130}]}, ['KANTOR']), ({'vertices': [{'x': 685, 'y': 69}, {'x': 840, 'y': 70}, {'x': 840, 'y': 98}, {'x': 685, 'y': 97}]}, ['Czeslawa']), ({'vertices': [{'x': 144, 'y': 184}, {'x': 297, 'y': 187}, {'x': 296, 'y': 216}, {'x': 143, 'y': 213}]}, ['10.11.19']), ({'vertices': [{'x': 489, 'y': 188}, {'x': 565, 'y': 189}, {'x': 565, 'y': 218}, {'x': 489, 'y': 217}]}, ['Lodz']), ({'vertices': [{'x': 141, 'y': 253}, {'x': 219, 'y': 255}, {'x': 218, 'y': 283}, {'x': 140, 'y': 281}]}, ['2.40']), ({'vertices': [{'x': 124, 'y': 291}, {'x': 221, 'y': 294}, {'x': 220, 'y': 323}, {'x': 123, 'y': 320}]}, ['10.44']), ({'vertices': [{'x': 123, 'y': 329}, {'x': 219, 'y': 332}, {'x': 218, 'y': 361}, {'x': 122, 'y': 358}]}, ['11.44']), ({'vertices': [{'x': 353, 'y': 256}, {'x': 488, 'y': 258}, {'x': 488, 'y': 285}, {'x': 353, 'y': 283}]}, ['Gh.Lodz']), ({'vertices': [{'x': 352, 'y': 296}, {'x': 570, 'y': 299}, {'x': 570, 'y': 325}, {'x': 352, 'y': 322}]}, ['Ravensbrück']), ({'vertices': [{'x': 353, 'y': 328}, {'x': 411, 'y': 329}, {'x': 410, 'y': 366}, {'x': 352, 'y': 365}]}, ['ZAL']), ({'vertices': [{'x': 428, 'y': 330}, {'x': 631, 'y': 334}, {'x': 630, 'y': 370}, {'x': 427, 'y': 366}]}, ['Wittenberg']), ({'vertices': [{'x': 623, 'y': 333}, {'x': 645, 'y': 333}, {'x': 644, 'y': 369}, {'x': 622, 'y': 369}]}, ['/']), ({'vertices': [{'x': 658, 'y': 334}, {'x': 741, 'y': 336}, {'x': 740, 'y': 371}, {'x': 657, 'y': 370}]}, ['4.45']), ({'vertices': [{'x': 758, 'y': 336}, {'x': 896, 'y': 338}, {'x': 895, 'y': 374}, {'x': 757, 'y': 372}]}, ['befreit']), ({'vertices': [{'x': 899, 'y': 338}, {'x': 912, 'y': 338}, {'x': 911, 'y': 374}, {'x': 898, 'y': 374}]}, ['.']), ({'vertices': [{'x': 352, 'y': 409}, {'x': 466, 'y': 411}, {'x': 465, 'y': 443}, {'x': 351, 'y': 441}]}, ['1.1.47']), ({'vertices': [{'x': 483, 'y': 412}, {'x': 525, 'y': 413}, {'x': 524, 'y': 445}, {'x': 482, 'y': 444}]}, ['DP']), ({'vertices': [{'x': 527, 'y': 413}, {'x': 545, 'y': 413}, {'x': 544, 'y': 444}, {'x': 526, 'y': 444}]}, ['-']), ({'vertices': [{'x': 542, 'y': 413}, {'x': 589, 'y': 414}, {'x': 588, 'y': 446}, {'x': 541, 'y': 445}]}, ['Lg']), ({'vertices': [{'x': 586, 'y': 414}, {'x': 618, 'y': 415}, {'x': 617, 'y': 447}, {'x': 585, 'y': 446}]}, ['.:']), ({'vertices': [{'x': 639, 'y': 415}, {'x': 797, 'y': 418}, {'x': 796, 'y': 450}, {'x': 638, 'y': 447}]}, ['Eschwege']), ({'vertices': [{'x': 54, 'y': 560}, {'x': 369, 'y': 560}, {'x': 369, 'y': 592}, {'x': 54, 'y': 592}]}, ['Reg.Pr.Darmstadt']), ({'vertices': [{'x': 1082, 'y': 659}, {'x': 1121, 'y': 659}, {'x': 1121, 'y': 683}, {'x': 1082, 'y': 683}]}, ['Ro'])], 'entity_types': {'GPE': ['Rel.jud', 'Lodz'], 'ORG': ['usa./poln', 'SELIGMAN'], 'CARDINAL': ['540 377', '10.11.19', '2.40', '4.45', '1.1.47'], 'PERSON': ['SZAG KANTOR Czeslawa', 'Lodz Ravensbrück ZAL', 'Eschwege Reg', 'Darmstadt Ro'], 'PERCENT': ['11.44 Gh']}, 'top_title': ['page of Testimony', 'דף עד'], 'Production date': '1.1.47'}\n"
     ]
    },
    {
     "name": "stderr",
     "output_type": "stream",
     "text": [
      "WARNING:absl:Compiled the loaded model, but the compiled metrics have yet to be built. `model.compile_metrics` will be empty until you train or evaluate the model.\n"
     ]
    },
    {
     "name": "stdout",
     "output_type": "stream",
     "text": [
      "data_practucom/test\\documents_with_json\\10257538_1.json 😄 Testimony page including a photograph\n"
     ]
    },
    {
     "name": "stderr",
     "output_type": "stream",
     "text": [
      "WARNING:absl:Compiled the loaded model, but the compiled metrics have yet to be built. `model.compile_metrics` will be empty until you train or evaluate the model.\n"
     ]
    },
    {
     "name": "stdout",
     "output_type": "stream",
     "text": [
      "eeeeeeeeeeeeeeeeeeeeeeeeeeeee\n",
      "(25, 177.5)\n",
      "44-4.45\n",
      "uuuuuuuuuuuuuuuuuuuuu {'page type': 'Testimony page including a photograph', 'data_Languages': [('German', 0.4000872), ('English', 0.10625659), ('Slovenian', 0.08661784), ('Luxembourgish', 0.07366613)], 'full_desc_with_verices': ({'text': 'GALLANT geb: FERSCHT 24.8.25 Lodz 5.40 8.44-4.45 befr. 298 099 Dina stls. fr. poln. rel.jüd. Gh.Lodz Auschw. Berg.-Bels. Salzwedel Bayer. Landger. München BK 514/52'}, {'vertices': [{'x': 39, 'y': 25}, {'x': 1092, 'y': 25}, {'x': 1092, 'y': 635}, {'x': 39, 'y': 635}]}), 'words': [({'vertices': [{'x': 39, 'y': 25}, {'x': 1092, 'y': 25}, {'x': 1092, 'y': 635}, {'x': 39, 'y': 635}]}, ['GALLANT', 'geb: FERSCHT', '24.8.25', 'Lodz', '5.40', '8.44-4.45', 'befr.', '298 099', 'Dina', 'stls. fr. poln.', 'rel.jüd.', 'Gh.Lodz', 'Auschw. Berg.-Bels. Salzwedel', 'Bayer. Landger. München', 'BK 514/52']), ({'vertices': [{'x': 206, 'y': 63}, {'x': 510, 'y': 61}, {'x': 510, 'y': 93}, {'x': 206, 'y': 95}]}, ['GALLANT']), ({'vertices': [{'x': 206, 'y': 106}, {'x': 281, 'y': 105}, {'x': 282, 'y': 138}, {'x': 207, 'y': 139}]}, ['geb']), ({'vertices': [{'x': 280, 'y': 105}, {'x': 297, 'y': 105}, {'x': 298, 'y': 137}, {'x': 281, 'y': 137}]}, [':']), ({'vertices': [{'x': 324, 'y': 104}, {'x': 483, 'y': 101}, {'x': 484, 'y': 134}, {'x': 325, 'y': 137}]}, ['FERSCHT']), ({'vertices': [{'x': 112, 'y': 178}, {'x': 282, 'y': 179}, {'x': 282, 'y': 212}, {'x': 112, 'y': 211}]}, ['24.8.25']), ({'vertices': [{'x': 444, 'y': 177}, {'x': 531, 'y': 179}, {'x': 530, 'y': 210}, {'x': 443, 'y': 208}]}, ['Lodz']), ({'vertices': [{'x': 40, 'y': 278}, {'x': 134, 'y': 279}, {'x': 134, 'y': 309}, {'x': 40, 'y': 308}]}, ['5.40']), ({'vertices': [{'x': 40, 'y': 320}, {'x': 278, 'y': 313}, {'x': 279, 'y': 352}, {'x': 41, 'y': 359}]}, ['8.44-4.45']), ({'vertices': [{'x': 415, 'y': 369}, {'x': 509, 'y': 372}, {'x': 508, 'y': 403}, {'x': 414, 'y': 400}]}, ['befr']), ({'vertices': [{'x': 506, 'y': 372}, {'x': 521, 'y': 372}, {'x': 520, 'y': 402}, {'x': 505, 'y': 402}]}, ['.']), ({'vertices': [{'x': 766, 'y': 26}, {'x': 837, 'y': 26}, {'x': 837, 'y': 59}, {'x': 766, 'y': 59}]}, ['298']), ({'vertices': [{'x': 860, 'y': 26}, {'x': 931, 'y': 26}, {'x': 931, 'y': 58}, {'x': 860, 'y': 58}]}, ['099']), ({'vertices': [{'x': 581, 'y': 64}, {'x': 671, 'y': 66}, {'x': 670, 'y': 93}, {'x': 580, 'y': 91}]}, ['Dina']), ({'vertices': [{'x': 768, 'y': 137}, {'x': 863, 'y': 139}, {'x': 862, 'y': 175}, {'x': 767, 'y': 173}]}, ['stls']), ({'vertices': [{'x': 860, 'y': 139}, {'x': 875, 'y': 139}, {'x': 874, 'y': 174}, {'x': 859, 'y': 174}]}, ['.']), ({'vertices': [{'x': 881, 'y': 139}, {'x': 930, 'y': 140}, {'x': 929, 'y': 176}, {'x': 880, 'y': 175}]}, ['fr']), ({'vertices': [{'x': 931, 'y': 140}, {'x': 946, 'y': 140}, {'x': 945, 'y': 175}, {'x': 930, 'y': 175}]}, ['.']), ({'vertices': [{'x': 954, 'y': 141}, {'x': 1049, 'y': 143}, {'x': 1048, 'y': 178}, {'x': 953, 'y': 176}]}, ['poln']), ({'vertices': [{'x': 1047, 'y': 142}, {'x': 1063, 'y': 142}, {'x': 1062, 'y': 177}, {'x': 1046, 'y': 177}]}, ['.']), ({'vertices': [{'x': 862, 'y': 178}, {'x': 1025, 'y': 181}, {'x': 1024, 'y': 215}, {'x': 861, 'y': 212}]}, ['rel.jüd']), ({'vertices': [{'x': 1028, 'y': 181}, {'x': 1045, 'y': 181}, {'x': 1044, 'y': 214}, {'x': 1027, 'y': 214}]}, ['.']), ({'vertices': [{'x': 439, 'y': 274}, {'x': 602, 'y': 277}, {'x': 601, 'y': 308}, {'x': 439, 'y': 305}]}, ['Gh.Lodz']), ({'vertices': [{'x': 415, 'y': 314}, {'x': 552, 'y': 314}, {'x': 552, 'y': 349}, {'x': 415, 'y': 349}]}, ['Auschw']), ({'vertices': [{'x': 555, 'y': 314}, {'x': 571, 'y': 314}, {'x': 571, 'y': 348}, {'x': 555, 'y': 348}]}, ['.']), ({'vertices': [{'x': 602, 'y': 314}, {'x': 698, 'y': 314}, {'x': 698, 'y': 348}, {'x': 602, 'y': 348}]}, ['Berg']), ({'vertices': [{'x': 699, 'y': 313}, {'x': 713, 'y': 313}, {'x': 713, 'y': 347}, {'x': 699, 'y': 347}]}, ['.']), ({'vertices': [{'x': 719, 'y': 313}, {'x': 740, 'y': 313}, {'x': 740, 'y': 347}, {'x': 719, 'y': 347}]}, ['-']), ({'vertices': [{'x': 742, 'y': 313}, {'x': 828, 'y': 313}, {'x': 828, 'y': 347}, {'x': 742, 'y': 347}]}, ['Bels']), ({'vertices': [{'x': 838, 'y': 313}, {'x': 850, 'y': 313}, {'x': 850, 'y': 347}, {'x': 838, 'y': 347}]}, ['.']), ({'vertices': [{'x': 884, 'y': 312}, {'x': 1092, 'y': 311}, {'x': 1092, 'y': 346}, {'x': 884, 'y': 347}]}, ['Salzwedel']), ({'vertices': [{'x': 39, 'y': 564}, {'x': 161, 'y': 563}, {'x': 161, 'y': 600}, {'x': 39, 'y': 601}]}, ['Bayer']), ({'vertices': [{'x': 158, 'y': 563}, {'x': 172, 'y': 563}, {'x': 172, 'y': 599}, {'x': 158, 'y': 599}]}, ['.']), ({'vertices': [{'x': 205, 'y': 562}, {'x': 368, 'y': 560}, {'x': 368, 'y': 597}, {'x': 205, 'y': 599}]}, ['Landger']), ({'vertices': [{'x': 372, 'y': 561}, {'x': 387, 'y': 561}, {'x': 387, 'y': 597}, {'x': 372, 'y': 597}]}, ['.']), ({'vertices': [{'x': 413, 'y': 560}, {'x': 582, 'y': 558}, {'x': 582, 'y': 595}, {'x': 413, 'y': 597}]}, ['München']), ({'vertices': [{'x': 43, 'y': 600}, {'x': 92, 'y': 600}, {'x': 92, 'y': 634}, {'x': 43, 'y': 634}]}, ['BK']), ({'vertices': [{'x': 111, 'y': 599}, {'x': 253, 'y': 600}, {'x': 253, 'y': 635}, {'x': 111, 'y': 634}]}, ['514/52'])], 'entity_types': {'CARDINAL': ['24.8.25', '5.40', '298 099', '514/52'], 'QUANTITY': ['8.44-4.45'], 'PERSON': ['poln', 'Lodz Auschw', 'Salzwedel Bayer'], 'GPE': ['Berg.-Bels'], 'ORG': ['BK']}, 'top_title': ['page of Testimony', 'דף עד'], 'Production date': '44-4.45'}\n"
     ]
    },
    {
     "name": "stderr",
     "output_type": "stream",
     "text": [
      "WARNING:absl:Compiled the loaded model, but the compiled metrics have yet to be built. `model.compile_metrics` will be empty until you train or evaluate the model.\n"
     ]
    },
    {
     "name": "stdout",
     "output_type": "stream",
     "text": [
      "data_practucom/test\\documents_with_json\\10258234_1.json 😄 Testimony page including a photograph\n"
     ]
    },
    {
     "name": "stderr",
     "output_type": "stream",
     "text": [
      "WARNING:absl:Compiled the loaded model, but the compiled metrics have yet to be built. `model.compile_metrics` will be empty until you train or evaluate the model.\n"
     ]
    },
    {
     "name": "stdout",
     "output_type": "stream",
     "text": [
      "eeeeeeeeeeeeeeeeeeeeeeeeeeeee\n",
      "(28, 179.75)\n",
      "44-4.45\n",
      "uuuuuuuuuuuuuuuuuuuuu {'page type': 'Testimony page including a photograph', 'data_Languages': [('English', 0.22940138), ('German', 0.19717303), ('Dutch', 0.07542884), ('Hungarian', 0.06978107)], 'full_desc_with_verices': ({'text': '511 805 ROTTER 10.4.25 1:5.40-3.1944 Lodz Gh.Lodz Szmul (Samuel) ZAL. Czenstochau Buchenwald. 3.44-9.44- 9.44-10.44 10.44-4.45 4.45-5.45 ZAL Sonnenberg Evakuierungsmarsch befr. Braseitz Sudeten poln. DP Lg Foehrenwald BLEA Mue.'}, {'vertices': [{'x': 48, 'y': 28}, {'x': 1104, 'y': 28}, {'x': 1104, 'y': 635}, {'x': 48, 'y': 635}]}), 'words': [({'vertices': [{'x': 48, 'y': 28}, {'x': 1104, 'y': 28}, {'x': 1104, 'y': 635}, {'x': 48, 'y': 635}]}, ['511 805', 'ROTTER', '10.4.25', '1:5.40-3.1944', 'Lodz', 'Gh.Lodz', 'Szmul (Samuel)', 'ZAL. Czenstochau', 'Buchenwald.', '3.44-9.44-', '9.44-10.44', '10.44-4.45', '4.45-5.45', 'ZAL Sonnenberg', 'Evakuierungsmarsch', 'befr. Braseitz Sudeten', 'poln.', 'DP Lg Foehrenwald', 'BLEA Mue.']), ({'vertices': [{'x': 844, 'y': 30}, {'x': 904, 'y': 29}, {'x': 904, 'y': 57}, {'x': 844, 'y': 58}]}, ['511']), ({'vertices': [{'x': 923, 'y': 29}, {'x': 980, 'y': 28}, {'x': 980, 'y': 56}, {'x': 923, 'y': 57}]}, ['805']), ({'vertices': [{'x': 183, 'y': 68}, {'x': 403, 'y': 70}, {'x': 403, 'y': 100}, {'x': 183, 'y': 98}]}, ['ROTTER']), ({'vertices': [{'x': 108, 'y': 170}, {'x': 242, 'y': 170}, {'x': 242, 'y': 197}, {'x': 108, 'y': 197}]}, ['10.4.25']), ({'vertices': [{'x': 49, 'y': 250}, {'x': 71, 'y': 250}, {'x': 72, 'y': 280}, {'x': 50, 'y': 280}]}, ['1']), ({'vertices': [{'x': 73, 'y': 249}, {'x': 87, 'y': 249}, {'x': 88, 'y': 279}, {'x': 74, 'y': 279}]}, [':']), ({'vertices': [{'x': 86, 'y': 248}, {'x': 303, 'y': 244}, {'x': 304, 'y': 275}, {'x': 87, 'y': 279}]}, ['5.40-3.1944']), ({'vertices': [{'x': 479, 'y': 166}, {'x': 557, 'y': 167}, {'x': 557, 'y': 193}, {'x': 479, 'y': 192}]}, ['Lodz']), ({'vertices': [{'x': 341, 'y': 243}, {'x': 474, 'y': 240}, {'x': 475, 'y': 271}, {'x': 342, 'y': 274}]}, ['Gh.Lodz']), ({'vertices': [{'x': 613, 'y': 64}, {'x': 711, 'y': 64}, {'x': 711, 'y': 99}, {'x': 613, 'y': 99}]}, ['Szmul']), ({'vertices': [{'x': 733, 'y': 64}, {'x': 746, 'y': 64}, {'x': 746, 'y': 99}, {'x': 733, 'y': 99}]}, ['(']), ({'vertices': [{'x': 752, 'y': 64}, {'x': 867, 'y': 64}, {'x': 867, 'y': 99}, {'x': 752, 'y': 99}]}, ['Samuel']), ({'vertices': [{'x': 870, 'y': 64}, {'x': 882, 'y': 64}, {'x': 882, 'y': 99}, {'x': 870, 'y': 99}]}, [')']), ({'vertices': [{'x': 338, 'y': 280}, {'x': 403, 'y': 280}, {'x': 403, 'y': 307}, {'x': 338, 'y': 307}]}, ['ZAL']), ({'vertices': [{'x': 404, 'y': 280}, {'x': 419, 'y': 280}, {'x': 419, 'y': 306}, {'x': 404, 'y': 306}]}, ['.']), ({'vertices': [{'x': 457, 'y': 280}, {'x': 673, 'y': 279}, {'x': 673, 'y': 305}, {'x': 457, 'y': 306}]}, ['Czenstochau']), ({'vertices': [{'x': 342, 'y': 316}, {'x': 537, 'y': 317}, {'x': 537, 'y': 345}, {'x': 342, 'y': 344}]}, ['Buchenwald']), ({'vertices': [{'x': 552, 'y': 318}, {'x': 561, 'y': 318}, {'x': 561, 'y': 345}, {'x': 552, 'y': 345}]}, ['.']), ({'vertices': [{'x': 49, 'y': 284}, {'x': 254, 'y': 284}, {'x': 254, 'y': 314}, {'x': 49, 'y': 314}]}, ['3.44-9.44-']), ({'vertices': [{'x': 49, 'y': 322}, {'x': 245, 'y': 320}, {'x': 245, 'y': 351}, {'x': 49, 'y': 353}]}, ['9.44-10.44']), ({'vertices': [{'x': 51, 'y': 362}, {'x': 244, 'y': 357}, {'x': 245, 'y': 386}, {'x': 52, 'y': 391}]}, ['10.44-4.45']), ({'vertices': [{'x': 49, 'y': 400}, {'x': 226, 'y': 395}, {'x': 227, 'y': 425}, {'x': 50, 'y': 430}]}, ['4.45-5.45']), ({'vertices': [{'x': 340, 'y': 352}, {'x': 402, 'y': 353}, {'x': 401, 'y': 383}, {'x': 339, 'y': 382}]}, ['ZAL']), ({'vertices': [{'x': 440, 'y': 354}, {'x': 638, 'y': 358}, {'x': 637, 'y': 388}, {'x': 439, 'y': 384}]}, ['Sonnenberg']), ({'vertices': [{'x': 343, 'y': 392}, {'x': 695, 'y': 392}, {'x': 695, 'y': 424}, {'x': 343, 'y': 424}]}, ['Evakuierungsmarsch']), ({'vertices': [{'x': 343, 'y': 432}, {'x': 419, 'y': 431}, {'x': 419, 'y': 459}, {'x': 343, 'y': 460}]}, ['befr']), ({'vertices': [{'x': 423, 'y': 432}, {'x': 440, 'y': 432}, {'x': 440, 'y': 459}, {'x': 423, 'y': 459}]}, ['.']), ({'vertices': [{'x': 459, 'y': 431}, {'x': 613, 'y': 429}, {'x': 613, 'y': 457}, {'x': 459, 'y': 459}]}, ['Braseitz']), ({'vertices': [{'x': 632, 'y': 429}, {'x': 771, 'y': 427}, {'x': 771, 'y': 455}, {'x': 632, 'y': 457}]}, ['Sudeten']), ({'vertices': [{'x': 926, 'y': 164}, {'x': 1006, 'y': 162}, {'x': 1007, 'y': 191}, {'x': 927, 'y': 193}]}, ['poln']), ({'vertices': [{'x': 1008, 'y': 163}, {'x': 1021, 'y': 163}, {'x': 1022, 'y': 191}, {'x': 1009, 'y': 191}]}, ['.']), ({'vertices': [{'x': 768, 'y': 346}, {'x': 807, 'y': 346}, {'x': 807, 'y': 376}, {'x': 768, 'y': 376}]}, ['DP']), ({'vertices': [{'x': 826, 'y': 346}, {'x': 870, 'y': 346}, {'x': 870, 'y': 376}, {'x': 826, 'y': 376}]}, ['Lg']), ({'vertices': [{'x': 887, 'y': 346}, {'x': 1104, 'y': 348}, {'x': 1104, 'y': 379}, {'x': 887, 'y': 377}]}, ['Foehrenwald']), ({'vertices': [{'x': 51, 'y': 603}, {'x': 130, 'y': 604}, {'x': 129, 'y': 633}, {'x': 50, 'y': 632}]}, ['BLEA']), ({'vertices': [{'x': 144, 'y': 605}, {'x': 208, 'y': 606}, {'x': 207, 'y': 635}, {'x': 143, 'y': 634}]}, ['Mue']), ({'vertices': [{'x': 212, 'y': 607}, {'x': 226, 'y': 607}, {'x': 225, 'y': 635}, {'x': 211, 'y': 635}]}, ['.'])], 'entity_types': {'CARDINAL': ['511', '10.4.25', '3.44', '9.44'], 'PERSON': ['Lodz Gh', 'Lodz Szmul', 'Samuel) ZAL', 'Czenstochau Buchenwald', 'ZAL Sonnenberg Evakuierungsmarsch', 'Braseitz Sudeten', 'Lg Foehrenwald BLEA Mue'], 'QUANTITY': ['10.44-4.45']}, 'top_title': ['page of Testimony', 'דף עד'], 'Production date': '44-4.45'}\n"
     ]
    },
    {
     "name": "stderr",
     "output_type": "stream",
     "text": [
      "WARNING:absl:Compiled the loaded model, but the compiled metrics have yet to be built. `model.compile_metrics` will be empty until you train or evaluate the model.\n"
     ]
    },
    {
     "name": "stdout",
     "output_type": "stream",
     "text": [
      "data_practucom/test\\documents_with_json\\10261046_1.json 😄 Testimony page including a photograph\n"
     ]
    },
    {
     "name": "stderr",
     "output_type": "stream",
     "text": [
      "WARNING:absl:Compiled the loaded model, but the compiled metrics have yet to be built. `model.compile_metrics` will be empty until you train or evaluate the model.\n"
     ]
    },
    {
     "name": "stdout",
     "output_type": "stream",
     "text": [
      "eeeeeeeeeeeeeeeeeeeeeeeeeeeee\n",
      "(35, 187.25)\n",
      "1.5.40 - 20.8.44\n",
      "uuuuuuuuuuuuuuuuuuuuu {'page type': 'Testimony page including a photograph', 'data_Languages': [('German', 0.34596628), ('English', 0.12118661), ('Luxembourgish', 0.0919103), ('Turkish', 0.067758545)], 'full_desc_with_verices': ({'text': 'LEI B Abraham Elt: Szulim & Sura 3.8.20 Beuthen 1.5.40 - 20.8.44 Gh. Lods 12.44 5.5.45 befr. 353 594 Lg. Auschwitz Mr.B-10361 Mauthausen u.dort am \" H.Nr. 119995 Nach d.Befr.: DP-Lg: Bensheim 11.1947 nach USA ausgew. ; Reg.-Präs., Darmstadt/AZ;D/16375/20/A DP/ E; Dr.Lovenson, Mü.-'}, {'vertices': [{'x': 107, 'y': 35}, {'x': 1118, 'y': 35}, {'x': 1118, 'y': 644}, {'x': 107, 'y': 644}]}), 'words': [({'vertices': [{'x': 107, 'y': 35}, {'x': 1118, 'y': 35}, {'x': 1118, 'y': 644}, {'x': 107, 'y': 644}]}, ['LEI B Abraham', 'Elt: Szulim & Sura', '3.8.20', 'Beuthen', '1.5.40 - 20.8.44 Gh. Lods', '12.44', '5.5.45 befr.', '353 594', 'Lg. Auschwitz Mr.B-10361', 'Mauthausen u.dort am', '\" H.Nr. 119995', 'Nach d.Befr.: DP-Lg: Bensheim', '11.1947 nach USA ausgew.', ';', 'Reg.-Präs.,', 'Darmstadt/AZ;D/16375/20/A DP/', 'E; Dr.Lovenson, Mü.-']), ({'vertices': [{'x': 203, 'y': 92}, {'x': 323, 'y': 92}, {'x': 323, 'y': 124}, {'x': 203, 'y': 124}]}, ['LEI']), ({'vertices': [{'x': 344, 'y': 92}, {'x': 370, 'y': 92}, {'x': 370, 'y': 124}, {'x': 344, 'y': 124}]}, ['B']), ({'vertices': [{'x': 460, 'y': 96}, {'x': 620, 'y': 95}, {'x': 620, 'y': 124}, {'x': 460, 'y': 125}]}, ['Abraham']), ({'vertices': [{'x': 204, 'y': 133}, {'x': 273, 'y': 132}, {'x': 273, 'y': 163}, {'x': 204, 'y': 164}]}, ['Elt']), ({'vertices': [{'x': 279, 'y': 133}, {'x': 293, 'y': 133}, {'x': 293, 'y': 163}, {'x': 279, 'y': 163}]}, [':']), ({'vertices': [{'x': 322, 'y': 132}, {'x': 467, 'y': 131}, {'x': 467, 'y': 162}, {'x': 322, 'y': 163}]}, ['Szulim']), ({'vertices': [{'x': 485, 'y': 131}, {'x': 509, 'y': 131}, {'x': 509, 'y': 161}, {'x': 485, 'y': 161}]}, ['&']), ({'vertices': [{'x': 530, 'y': 130}, {'x': 624, 'y': 129}, {'x': 624, 'y': 160}, {'x': 530, 'y': 161}]}, ['Sura']), ({'vertices': [{'x': 110, 'y': 188}, {'x': 248, 'y': 187}, {'x': 248, 'y': 219}, {'x': 110, 'y': 220}]}, ['3.8.20']), ({'vertices': [{'x': 461, 'y': 192}, {'x': 625, 'y': 191}, {'x': 625, 'y': 221}, {'x': 461, 'y': 222}]}, ['Beuthen']), ({'vertices': [{'x': 108, 'y': 288}, {'x': 252, 'y': 282}, {'x': 254, 'y': 326}, {'x': 110, 'y': 332}]}, ['1.5.40']), ({'vertices': [{'x': 271, 'y': 282}, {'x': 294, 'y': 281}, {'x': 296, 'y': 324}, {'x': 273, 'y': 325}]}, ['-']), ({'vertices': [{'x': 316, 'y': 280}, {'x': 484, 'y': 274}, {'x': 486, 'y': 317}, {'x': 318, 'y': 324}]}, ['20.8.44']), ({'vertices': [{'x': 554, 'y': 285}, {'x': 602, 'y': 285}, {'x': 602, 'y': 317}, {'x': 554, 'y': 317}]}, ['Gh']), ({'vertices': [{'x': 604, 'y': 285}, {'x': 617, 'y': 285}, {'x': 617, 'y': 316}, {'x': 604, 'y': 316}]}, ['.']), ({'vertices': [{'x': 646, 'y': 285}, {'x': 740, 'y': 285}, {'x': 740, 'y': 316}, {'x': 646, 'y': 316}]}, ['Lods']), ({'vertices': [{'x': 322, 'y': 363}, {'x': 442, 'y': 363}, {'x': 442, 'y': 392}, {'x': 322, 'y': 392}]}, ['12.44']), ({'vertices': [{'x': 110, 'y': 399}, {'x': 250, 'y': 400}, {'x': 250, 'y': 434}, {'x': 110, 'y': 433}]}, ['5.5.45']), ({'vertices': [{'x': 275, 'y': 400}, {'x': 369, 'y': 401}, {'x': 369, 'y': 435}, {'x': 275, 'y': 434}]}, ['befr']), ({'vertices': [{'x': 372, 'y': 401}, {'x': 387, 'y': 401}, {'x': 387, 'y': 434}, {'x': 372, 'y': 434}]}, ['.']), ({'vertices': [{'x': 883, 'y': 35}, {'x': 953, 'y': 35}, {'x': 953, 'y': 69}, {'x': 883, 'y': 69}]}, ['353']), ({'vertices': [{'x': 973, 'y': 35}, {'x': 1046, 'y': 35}, {'x': 1046, 'y': 69}, {'x': 973, 'y': 69}]}, ['594']), ({'vertices': [{'x': 552, 'y': 324}, {'x': 604, 'y': 324}, {'x': 604, 'y': 359}, {'x': 552, 'y': 359}]}, ['Lg']), ({'vertices': [{'x': 602, 'y': 324}, {'x': 617, 'y': 324}, {'x': 617, 'y': 358}, {'x': 602, 'y': 358}]}, ['.']), ({'vertices': [{'x': 644, 'y': 323}, {'x': 855, 'y': 322}, {'x': 855, 'y': 357}, {'x': 644, 'y': 358}]}, ['Auschwitz']), ({'vertices': [{'x': 880, 'y': 322}, {'x': 975, 'y': 321}, {'x': 975, 'y': 355}, {'x': 880, 'y': 356}]}, ['Mr.B']), ({'vertices': [{'x': 976, 'y': 322}, {'x': 994, 'y': 322}, {'x': 994, 'y': 356}, {'x': 976, 'y': 356}]}, ['-']), ({'vertices': [{'x': 999, 'y': 321}, {'x': 1112, 'y': 320}, {'x': 1112, 'y': 355}, {'x': 999, 'y': 356}]}, ['10361']), ({'vertices': [{'x': 645, 'y': 361}, {'x': 884, 'y': 362}, {'x': 884, 'y': 395}, {'x': 645, 'y': 394}]}, ['Mauthausen']), ({'vertices': [{'x': 906, 'y': 362}, {'x': 1044, 'y': 363}, {'x': 1044, 'y': 396}, {'x': 906, 'y': 395}]}, ['u.dort']), ({'vertices': [{'x': 1069, 'y': 363}, {'x': 1118, 'y': 363}, {'x': 1118, 'y': 395}, {'x': 1069, 'y': 395}]}, ['am']), ({'vertices': [{'x': 674, 'y': 396}, {'x': 690, 'y': 396}, {'x': 690, 'y': 432}, {'x': 674, 'y': 432}]}, ['\"']), ({'vertices': [{'x': 717, 'y': 396}, {'x': 827, 'y': 397}, {'x': 827, 'y': 433}, {'x': 717, 'y': 432}]}, ['H.Nr.']), ({'vertices': [{'x': 857, 'y': 397}, {'x': 996, 'y': 398}, {'x': 996, 'y': 435}, {'x': 857, 'y': 434}]}, ['119995']), ({'vertices': [{'x': 107, 'y': 457}, {'x': 207, 'y': 457}, {'x': 207, 'y': 493}, {'x': 107, 'y': 493}]}, ['Nach']), ({'vertices': [{'x': 228, 'y': 457}, {'x': 368, 'y': 457}, {'x': 368, 'y': 493}, {'x': 228, 'y': 493}]}, ['d.Befr']), ({'vertices': [{'x': 372, 'y': 457}, {'x': 408, 'y': 457}, {'x': 408, 'y': 493}, {'x': 372, 'y': 493}]}, ['.:']), ({'vertices': [{'x': 437, 'y': 457}, {'x': 485, 'y': 457}, {'x': 485, 'y': 493}, {'x': 437, 'y': 493}]}, ['DP']), ({'vertices': [{'x': 486, 'y': 457}, {'x': 504, 'y': 457}, {'x': 504, 'y': 493}, {'x': 486, 'y': 493}]}, ['-']), ({'vertices': [{'x': 507, 'y': 457}, {'x': 555, 'y': 457}, {'x': 555, 'y': 493}, {'x': 507, 'y': 493}]}, ['Lg']), ({'vertices': [{'x': 562, 'y': 457}, {'x': 573, 'y': 457}, {'x': 573, 'y': 493}, {'x': 562, 'y': 493}]}, [':']), ({'vertices': [{'x': 603, 'y': 457}, {'x': 788, 'y': 457}, {'x': 788, 'y': 493}, {'x': 603, 'y': 493}]}, ['Bensheim']), ({'vertices': [{'x': 110, 'y': 494}, {'x': 270, 'y': 495}, {'x': 270, 'y': 529}, {'x': 110, 'y': 528}]}, ['11.1947']), ({'vertices': [{'x': 298, 'y': 495}, {'x': 393, 'y': 496}, {'x': 393, 'y': 530}, {'x': 298, 'y': 529}]}, ['nach']), ({'vertices': [{'x': 415, 'y': 497}, {'x': 485, 'y': 498}, {'x': 485, 'y': 531}, {'x': 415, 'y': 530}]}, ['USA']), ({'vertices': [{'x': 508, 'y': 497}, {'x': 653, 'y': 498}, {'x': 653, 'y': 532}, {'x': 508, 'y': 531}]}, ['ausgew']), ({'vertices': [{'x': 652, 'y': 498}, {'x': 668, 'y': 498}, {'x': 668, 'y': 531}, {'x': 652, 'y': 531}]}, ['.']), ({'vertices': [{'x': 130, 'y': 537}, {'x': 136, 'y': 537}, {'x': 136, 'y': 546}, {'x': 130, 'y': 546}]}, [';']), ({'vertices': [{'x': 107, 'y': 565}, {'x': 180, 'y': 565}, {'x': 180, 'y': 609}, {'x': 107, 'y': 609}]}, ['Reg']), ({'vertices': [{'x': 183, 'y': 565}, {'x': 198, 'y': 565}, {'x': 198, 'y': 608}, {'x': 183, 'y': 608}]}, ['.']), ({'vertices': [{'x': 200, 'y': 565}, {'x': 220, 'y': 565}, {'x': 220, 'y': 608}, {'x': 200, 'y': 608}]}, ['-']), ({'vertices': [{'x': 227, 'y': 565}, {'x': 317, 'y': 565}, {'x': 317, 'y': 608}, {'x': 227, 'y': 608}]}, ['Präs']), ({'vertices': [{'x': 324, 'y': 565}, {'x': 337, 'y': 565}, {'x': 337, 'y': 608}, {'x': 324, 'y': 608}]}, ['.']), ({'vertices': [{'x': 345, 'y': 565}, {'x': 359, 'y': 565}, {'x': 359, 'y': 608}, {'x': 345, 'y': 608}]}, [',']), ({'vertices': [{'x': 387, 'y': 564}, {'x': 597, 'y': 563}, {'x': 597, 'y': 607}, {'x': 387, 'y': 608}]}, ['Darmstadt']), ({'vertices': [{'x': 601, 'y': 564}, {'x': 624, 'y': 564}, {'x': 624, 'y': 607}, {'x': 601, 'y': 607}]}, ['/']), ({'vertices': [{'x': 623, 'y': 563}, {'x': 670, 'y': 563}, {'x': 670, 'y': 606}, {'x': 623, 'y': 606}]}, ['AZ']), ({'vertices': [{'x': 677, 'y': 563}, {'x': 688, 'y': 563}, {'x': 688, 'y': 606}, {'x': 677, 'y': 606}]}, [';']), ({'vertices': [{'x': 692, 'y': 563}, {'x': 715, 'y': 563}, {'x': 715, 'y': 606}, {'x': 692, 'y': 606}]}, ['D']), ({'vertices': [{'x': 717, 'y': 563}, {'x': 741, 'y': 563}, {'x': 741, 'y': 606}, {'x': 717, 'y': 606}]}, ['/']), ({'vertices': [{'x': 741, 'y': 563}, {'x': 856, 'y': 563}, {'x': 856, 'y': 606}, {'x': 741, 'y': 606}]}, ['16375']), ({'vertices': [{'x': 856, 'y': 563}, {'x': 882, 'y': 563}, {'x': 882, 'y': 606}, {'x': 856, 'y': 606}]}, ['/']), ({'vertices': [{'x': 881, 'y': 562}, {'x': 929, 'y': 562}, {'x': 929, 'y': 605}, {'x': 881, 'y': 605}]}, ['20']), ({'vertices': [{'x': 928, 'y': 562}, {'x': 954, 'y': 562}, {'x': 954, 'y': 605}, {'x': 928, 'y': 605}]}, ['/']), ({'vertices': [{'x': 947, 'y': 562}, {'x': 977, 'y': 562}, {'x': 977, 'y': 605}, {'x': 947, 'y': 605}]}, ['A']), ({'vertices': [{'x': 996, 'y': 562}, {'x': 1047, 'y': 562}, {'x': 1047, 'y': 605}, {'x': 996, 'y': 605}]}, ['DP']), ({'vertices': [{'x': 1043, 'y': 562}, {'x': 1067, 'y': 562}, {'x': 1067, 'y': 605}, {'x': 1043, 'y': 605}]}, ['/']), ({'vertices': [{'x': 107, 'y': 608}, {'x': 130, 'y': 608}, {'x': 130, 'y': 644}, {'x': 107, 'y': 644}]}, ['E']), ({'vertices': [{'x': 138, 'y': 608}, {'x': 151, 'y': 608}, {'x': 151, 'y': 644}, {'x': 138, 'y': 644}]}, [';']), ({'vertices': [{'x': 178, 'y': 608}, {'x': 442, 'y': 608}, {'x': 442, 'y': 644}, {'x': 178, 'y': 644}]}, ['Dr.Lovenson']), ({'vertices': [{'x': 444, 'y': 608}, {'x': 457, 'y': 608}, {'x': 457, 'y': 644}, {'x': 444, 'y': 644}]}, [',']), ({'vertices': [{'x': 482, 'y': 608}, {'x': 580, 'y': 608}, {'x': 580, 'y': 644}, {'x': 482, 'y': 644}]}, ['Mü.-'])], 'entity_types': {'PERSON': ['LEI B Abraham Elt', 'B-10361 Mauthausen', 'Nach d.Befr', 'Darmstadt', 'Lovenson'], 'ORG': ['Szulim & Sura', 'Auschwitz', 'USA'], 'DATE': ['1.5.40 - 20.8.44', '119995'], 'CARDINAL': ['12.44', '353', '11.1947'], 'GPE': ['H.Nr']}, 'top_title': ['page of Testimony', 'דף עד'], 'Production date': '1.5.40 - 20.8.44'}\n"
     ]
    },
    {
     "name": "stderr",
     "output_type": "stream",
     "text": [
      "WARNING:absl:Compiled the loaded model, but the compiled metrics have yet to be built. `model.compile_metrics` will be empty until you train or evaluate the model.\n"
     ]
    },
    {
     "name": "stdout",
     "output_type": "stream",
     "text": [
      "data_practucom/test\\documents_with_json\\10261769_1.json 😄 Testimony page including a photograph\n"
     ]
    },
    {
     "name": "stderr",
     "output_type": "stream",
     "text": [
      "WARNING:absl:Compiled the loaded model, but the compiled metrics have yet to be built. `model.compile_metrics` will be empty until you train or evaluate the model.\n",
      "WARNING:absl:Compiled the loaded model, but the compiled metrics have yet to be built. `model.compile_metrics` will be empty until you train or evaluate the model.\n"
     ]
    },
    {
     "name": "stdout",
     "output_type": "stream",
     "text": [
      "eeeeeeeeeeeeeeeeeeeeeeeeeeeee\n",
      "(44, 198.0)\n",
      "1906\n",
      "uuuuuuuuuuuuuuuuuuuuu {'page type': 'Testimony page including a photograph', 'data_Languages': [('English', 0.63869923), ('kri', 0.10956852), ('Finnish', 0.058332834), ('Polish', 0.04399088)], 'full_desc_with_verices': ({'text': \"Date Name 5.4.49 METTELMAN Izrael File F18-08 -- BD 1906 BP Nat Polish Jew Book M..175 Next of Kin parents;Gedale & Dwojra Source of InformationCentral Jew.Committee in Poland Warsa Lodz Cegieln.14 Arr. Dateaft.war Jan 47 lib. Last kn. Location CC/Prison Transt. 'on to Died on in Cause of death Auried on Grave Remarks addr.in 1939;Lode in D. C. No.\"}, {'vertices': [{'x': 22, 'y': 44}, {'x': 1142, 'y': 44}, {'x': 1142, 'y': 660}, {'x': 22, 'y': 660}]}), 'words': [({'vertices': [{'x': 22, 'y': 44}, {'x': 1142, 'y': 44}, {'x': 1142, 'y': 660}, {'x': 22, 'y': 660}]}, ['Date', 'Name', '5.4.49', 'METTELMAN', 'Izrael', 'File F18-08', '--', 'BD', '1906', 'BP', 'Nat Polish Jew', 'Book M..175', 'Next of Kin parents;Gedale & Dwojra', 'Source of InformationCentral Jew.Committee in Poland Warsa', 'Lodz Cegieln.14', 'Arr.', 'Dateaft.war Jan 47', 'lib.', 'Last kn. Location', 'CC/Prison', \"Transt. 'on\", 'to', 'Died on', 'in', 'Cause of death', 'Auried on', 'Grave', 'Remarks', 'addr.in 1939;Lode', 'in', 'D. C. No.']), ({'vertices': [{'x': 22, 'y': 68}, {'x': 99, 'y': 67}, {'x': 99, 'y': 92}, {'x': 22, 'y': 93}]}, ['Date']), ({'vertices': [{'x': 26, 'y': 120}, {'x': 114, 'y': 116}, {'x': 115, 'y': 137}, {'x': 27, 'y': 141}]}, ['Name']), ({'vertices': [{'x': 147, 'y': 49}, {'x': 265, 'y': 44}, {'x': 266, 'y': 74}, {'x': 148, 'y': 80}]}, ['5.4.49']), ({'vertices': [{'x': 320, 'y': 105}, {'x': 491, 'y': 104}, {'x': 491, 'y': 130}, {'x': 320, 'y': 131}]}, ['METTELMAN']), ({'vertices': [{'x': 549, 'y': 101}, {'x': 662, 'y': 102}, {'x': 662, 'y': 128}, {'x': 549, 'y': 127}]}, ['Izrael']), ({'vertices': [{'x': 805, 'y': 98}, {'x': 873, 'y': 96}, {'x': 874, 'y': 125}, {'x': 806, 'y': 127}]}, ['File']), ({'vertices': [{'x': 906, 'y': 95}, {'x': 1064, 'y': 90}, {'x': 1065, 'y': 119}, {'x': 907, 'y': 124}]}, ['F18-08']), ({'vertices': [{'x': 501, 'y': 141}, {'x': 532, 'y': 140}, {'x': 532, 'y': 146}, {'x': 501, 'y': 147}]}, ['--']), ({'vertices': [{'x': 26, 'y': 162}, {'x': 75, 'y': 161}, {'x': 75, 'y': 186}, {'x': 26, 'y': 187}]}, ['BD']), ({'vertices': [{'x': 149, 'y': 160}, {'x': 227, 'y': 155}, {'x': 229, 'y': 184}, {'x': 151, 'y': 189}]}, ['1906']), ({'vertices': [{'x': 363, 'y': 156}, {'x': 411, 'y': 155}, {'x': 411, 'y': 181}, {'x': 363, 'y': 182}]}, ['BP']), ({'vertices': [{'x': 818, 'y': 146}, {'x': 874, 'y': 145}, {'x': 875, 'y': 174}, {'x': 819, 'y': 175}]}, ['Nat']), ({'vertices': [{'x': 906, 'y': 144}, {'x': 1027, 'y': 141}, {'x': 1028, 'y': 170}, {'x': 907, 'y': 173}]}, ['Polish']), ({'vertices': [{'x': 1041, 'y': 141}, {'x': 1101, 'y': 140}, {'x': 1102, 'y': 169}, {'x': 1042, 'y': 170}]}, ['Jew']), ({'vertices': [{'x': 906, 'y': 190}, {'x': 988, 'y': 189}, {'x': 988, 'y': 219}, {'x': 906, 'y': 220}]}, ['Book']), ({'vertices': [{'x': 1001, 'y': 190}, {'x': 1142, 'y': 189}, {'x': 1142, 'y': 218}, {'x': 1001, 'y': 219}]}, ['M..175']), ({'vertices': [{'x': 24, 'y': 205}, {'x': 101, 'y': 203}, {'x': 102, 'y': 238}, {'x': 25, 'y': 240}]}, ['Next']), ({'vertices': [{'x': 116, 'y': 203}, {'x': 151, 'y': 202}, {'x': 152, 'y': 237}, {'x': 117, 'y': 238}]}, ['of']), ({'vertices': [{'x': 164, 'y': 203}, {'x': 227, 'y': 202}, {'x': 228, 'y': 236}, {'x': 165, 'y': 237}]}, ['Kin']), ({'vertices': [{'x': 261, 'y': 200}, {'x': 398, 'y': 197}, {'x': 399, 'y': 232}, {'x': 262, 'y': 235}]}, ['parents']), ({'vertices': [{'x': 401, 'y': 198}, {'x': 410, 'y': 198}, {'x': 411, 'y': 232}, {'x': 402, 'y': 232}]}, [';']), ({'vertices': [{'x': 416, 'y': 197}, {'x': 531, 'y': 195}, {'x': 532, 'y': 230}, {'x': 417, 'y': 232}]}, ['Gedale']), ({'vertices': [{'x': 546, 'y': 195}, {'x': 574, 'y': 194}, {'x': 575, 'y': 228}, {'x': 547, 'y': 229}]}, ['&']), ({'vertices': [{'x': 586, 'y': 193}, {'x': 704, 'y': 191}, {'x': 705, 'y': 226}, {'x': 587, 'y': 228}]}, ['Dwojra']), ({'vertices': [{'x': 23, 'y': 254}, {'x': 135, 'y': 252}, {'x': 135, 'y': 282}, {'x': 23, 'y': 284}]}, ['Source']), ({'vertices': [{'x': 150, 'y': 252}, {'x': 187, 'y': 251}, {'x': 187, 'y': 281}, {'x': 150, 'y': 282}]}, ['of']), ({'vertices': [{'x': 199, 'y': 252}, {'x': 530, 'y': 248}, {'x': 530, 'y': 278}, {'x': 199, 'y': 282}]}, ['InformationCentral']), ({'vertices': [{'x': 548, 'y': 247}, {'x': 796, 'y': 244}, {'x': 796, 'y': 274}, {'x': 548, 'y': 277}]}, ['Jew.Committee']), ({'vertices': [{'x': 815, 'y': 243}, {'x': 854, 'y': 242}, {'x': 854, 'y': 272}, {'x': 815, 'y': 273}]}, ['in']), ({'vertices': [{'x': 871, 'y': 243}, {'x': 990, 'y': 241}, {'x': 990, 'y': 270}, {'x': 871, 'y': 272}]}, ['Poland']), ({'vertices': [{'x': 1004, 'y': 241}, {'x': 1108, 'y': 240}, {'x': 1108, 'y': 270}, {'x': 1004, 'y': 271}]}, ['Warsa']), ({'vertices': [{'x': 377, 'y': 293}, {'x': 460, 'y': 294}, {'x': 459, 'y': 328}, {'x': 376, 'y': 327}]}, ['Lodz']), ({'vertices': [{'x': 472, 'y': 294}, {'x': 666, 'y': 297}, {'x': 665, 'y': 331}, {'x': 471, 'y': 328}]}, ['Cegieln.14']), ({'vertices': [{'x': 485, 'y': 344}, {'x': 544, 'y': 344}, {'x': 544, 'y': 369}, {'x': 485, 'y': 369}]}, ['Arr']), ({'vertices': [{'x': 545, 'y': 344}, {'x': 554, 'y': 344}, {'x': 554, 'y': 369}, {'x': 545, 'y': 369}]}, ['.']), ({'vertices': [{'x': 800, 'y': 289}, {'x': 1008, 'y': 291}, {'x': 1008, 'y': 320}, {'x': 800, 'y': 318}]}, ['Dateaft.war']), ({'vertices': [{'x': 1025, 'y': 292}, {'x': 1083, 'y': 293}, {'x': 1083, 'y': 322}, {'x': 1025, 'y': 321}]}, ['Jan']), ({'vertices': [{'x': 1095, 'y': 293}, {'x': 1140, 'y': 294}, {'x': 1140, 'y': 322}, {'x': 1095, 'y': 321}]}, ['47']), ({'vertices': [{'x': 823, 'y': 339}, {'x': 865, 'y': 339}, {'x': 865, 'y': 364}, {'x': 823, 'y': 364}]}, ['lib']), ({'vertices': [{'x': 867, 'y': 339}, {'x': 875, 'y': 339}, {'x': 875, 'y': 364}, {'x': 867, 'y': 364}]}, ['.']), ({'vertices': [{'x': 24, 'y': 302}, {'x': 93, 'y': 301}, {'x': 93, 'y': 329}, {'x': 24, 'y': 330}]}, ['Last']), ({'vertices': [{'x': 109, 'y': 301}, {'x': 149, 'y': 300}, {'x': 149, 'y': 327}, {'x': 109, 'y': 328}]}, ['kn']), ({'vertices': [{'x': 151, 'y': 300}, {'x': 161, 'y': 300}, {'x': 161, 'y': 327}, {'x': 151, 'y': 327}]}, ['.']), ({'vertices': [{'x': 176, 'y': 300}, {'x': 317, 'y': 298}, {'x': 317, 'y': 325}, {'x': 176, 'y': 327}]}, ['Location']), ({'vertices': [{'x': 25, 'y': 350}, {'x': 72, 'y': 349}, {'x': 72, 'y': 377}, {'x': 25, 'y': 378}]}, ['CC']), ({'vertices': [{'x': 76, 'y': 350}, {'x': 85, 'y': 350}, {'x': 85, 'y': 377}, {'x': 76, 'y': 377}]}, ['/']), ({'vertices': [{'x': 92, 'y': 349}, {'x': 197, 'y': 348}, {'x': 197, 'y': 376}, {'x': 92, 'y': 377}]}, ['Prison']), ({'vertices': [{'x': 26, 'y': 399}, {'x': 132, 'y': 396}, {'x': 133, 'y': 422}, {'x': 27, 'y': 425}]}, ['Transt']), ({'vertices': [{'x': 133, 'y': 397}, {'x': 142, 'y': 397}, {'x': 143, 'y': 422}, {'x': 134, 'y': 422}]}, ['.']), ({'vertices': [{'x': 147, 'y': 396}, {'x': 157, 'y': 396}, {'x': 158, 'y': 421}, {'x': 148, 'y': 421}]}, [\"'\"]), ({'vertices': [{'x': 156, 'y': 396}, {'x': 194, 'y': 395}, {'x': 195, 'y': 420}, {'x': 157, 'y': 421}]}, ['on']), ({'vertices': [{'x': 520, 'y': 396}, {'x': 554, 'y': 396}, {'x': 554, 'y': 415}, {'x': 520, 'y': 415}]}, ['to']), ({'vertices': [{'x': 26, 'y': 442}, {'x': 99, 'y': 442}, {'x': 99, 'y': 471}, {'x': 26, 'y': 471}]}, ['Died']), ({'vertices': [{'x': 112, 'y': 442}, {'x': 154, 'y': 442}, {'x': 154, 'y': 471}, {'x': 112, 'y': 471}]}, ['on']), ({'vertices': [{'x': 518, 'y': 439}, {'x': 550, 'y': 438}, {'x': 551, 'y': 460}, {'x': 519, 'y': 461}]}, ['in']), ({'vertices': [{'x': 24, 'y': 493}, {'x': 118, 'y': 490}, {'x': 119, 'y': 518}, {'x': 25, 'y': 521}]}, ['Cause']), ({'vertices': [{'x': 135, 'y': 490}, {'x': 169, 'y': 489}, {'x': 170, 'y': 516}, {'x': 136, 'y': 517}]}, ['of']), ({'vertices': [{'x': 183, 'y': 488}, {'x': 270, 'y': 485}, {'x': 271, 'y': 512}, {'x': 184, 'y': 515}]}, ['death']), ({'vertices': [{'x': 25, 'y': 540}, {'x': 134, 'y': 540}, {'x': 134, 'y': 566}, {'x': 25, 'y': 566}]}, ['Auried']), ({'vertices': [{'x': 152, 'y': 540}, {'x': 191, 'y': 540}, {'x': 191, 'y': 566}, {'x': 152, 'y': 566}]}, ['on']), ({'vertices': [{'x': 25, 'y': 588}, {'x': 121, 'y': 587}, {'x': 121, 'y': 613}, {'x': 25, 'y': 614}]}, ['Grave']), ({'vertices': [{'x': 25, 'y': 633}, {'x': 175, 'y': 631}, {'x': 175, 'y': 658}, {'x': 25, 'y': 660}]}, ['Remarks']), ({'vertices': [{'x': 269, 'y': 627}, {'x': 405, 'y': 627}, {'x': 405, 'y': 660}, {'x': 269, 'y': 660}]}, ['addr.in']), ({'vertices': [{'x': 422, 'y': 627}, {'x': 498, 'y': 627}, {'x': 498, 'y': 660}, {'x': 422, 'y': 660}]}, ['1939']), ({'vertices': [{'x': 500, 'y': 627}, {'x': 513, 'y': 627}, {'x': 513, 'y': 660}, {'x': 500, 'y': 660}]}, [';']), ({'vertices': [{'x': 514, 'y': 627}, {'x': 594, 'y': 627}, {'x': 594, 'y': 660}, {'x': 514, 'y': 660}]}, ['Lode']), ({'vertices': [{'x': 519, 'y': 533}, {'x': 551, 'y': 533}, {'x': 551, 'y': 556}, {'x': 519, 'y': 556}]}, ['in']), ({'vertices': [{'x': 739, 'y': 574}, {'x': 774, 'y': 574}, {'x': 774, 'y': 601}, {'x': 739, 'y': 601}]}, ['D.']), ({'vertices': [{'x': 781, 'y': 574}, {'x': 812, 'y': 574}, {'x': 812, 'y': 600}, {'x': 781, 'y': 600}]}, ['C.']), ({'vertices': [{'x': 821, 'y': 574}, {'x': 874, 'y': 574}, {'x': 874, 'y': 600}, {'x': 821, 'y': 600}]}, ['No.'])], 'entity_types': {'DATE': ['1906'], 'NORP': ['Polish'], 'PERSON': ['Jew Book M', 'Lodz Cegieln.14 Arr'], 'CARDINAL': ['175'], 'ORG': ['Kin parents;Gedale & Dwojra Source', 'InformationCentral Jew.Committee'], 'GPE': ['Poland', 'Cause']}, 'top_title': ['page of Testimony', 'דף עד'], 'Production date': '1906'}\n",
      "data_practucom/test\\documents_with_json\\10262331_1.json 😄 Testimony page including a photograph\n"
     ]
    },
    {
     "name": "stderr",
     "output_type": "stream",
     "text": [
      "WARNING:absl:Compiled the loaded model, but the compiled metrics have yet to be built. `model.compile_metrics` will be empty until you train or evaluate the model.\n"
     ]
    },
    {
     "name": "stdout",
     "output_type": "stream",
     "text": [
      "eeeeeeeeeeeeeeeeeeeeeeeeeeeee\n",
      "(50, 215.25)\n",
      "29.10.29\n",
      "uuuuuuuuuuuuuuuuuuuuu {'page type': 'Testimony page including a photograph', 'data_Languages': [('English', 0.5740429), ('Croatian', 0.1415872)], 'full_desc_with_verices': ({'text': '559 957 Mark LOZ IN S od. LOZINSKI Marek 29.10.29 1940 -44 1945 Gh. Litzmannstadt Auschwitz Buchenwald RBA f. Wg. Trier f. R▲ Klein, Ffm. Bi.'}, {'vertices': [{'x': 158, 'y': 50}, {'x': 987, 'y': 50}, {'x': 987, 'y': 711}, {'x': 158, 'y': 711}]}), 'words': [({'vertices': [{'x': 158, 'y': 50}, {'x': 987, 'y': 50}, {'x': 987, 'y': 711}, {'x': 158, 'y': 711}]}, ['559 957', 'Mark', 'LOZ IN S', 'od. LOZINSKI Marek', '29.10.29', '1940 -44', '1945', 'Gh. Litzmannstadt', 'Auschwitz', 'Buchenwald', 'RBA f. Wg. Trier', 'f. R▲ Klein, Ffm.', 'Bi.']), ({'vertices': [{'x': 818, 'y': 50}, {'x': 878, 'y': 51}, {'x': 878, 'y': 81}, {'x': 818, 'y': 80}]}, ['559']), ({'vertices': [{'x': 895, 'y': 51}, {'x': 955, 'y': 52}, {'x': 955, 'y': 82}, {'x': 895, 'y': 81}]}, ['957']), ({'vertices': [{'x': 453, 'y': 89}, {'x': 527, 'y': 90}, {'x': 527, 'y': 113}, {'x': 453, 'y': 112}]}, ['Mark']), ({'vertices': [{'x': 165, 'y': 82}, {'x': 262, 'y': 83}, {'x': 262, 'y': 109}, {'x': 165, 'y': 108}]}, ['LOZ']), ({'vertices': [{'x': 281, 'y': 82}, {'x': 340, 'y': 82}, {'x': 340, 'y': 108}, {'x': 281, 'y': 108}]}, ['IN']), ({'vertices': [{'x': 355, 'y': 83}, {'x': 375, 'y': 83}, {'x': 375, 'y': 109}, {'x': 355, 'y': 109}]}, ['S']), ({'vertices': [{'x': 165, 'y': 121}, {'x': 204, 'y': 121}, {'x': 204, 'y': 150}, {'x': 165, 'y': 150}]}, ['od']), ({'vertices': [{'x': 208, 'y': 121}, {'x': 219, 'y': 121}, {'x': 219, 'y': 150}, {'x': 208, 'y': 150}]}, ['.']), ({'vertices': [{'x': 243, 'y': 121}, {'x': 394, 'y': 123}, {'x': 394, 'y': 153}, {'x': 243, 'y': 151}]}, ['LOZINSKI']), ({'vertices': [{'x': 414, 'y': 123}, {'x': 512, 'y': 124}, {'x': 512, 'y': 154}, {'x': 414, 'y': 153}]}, ['Marek']), ({'vertices': [{'x': 162, 'y': 221}, {'x': 319, 'y': 221}, {'x': 319, 'y': 249}, {'x': 162, 'y': 249}]}, ['29.10.29']), ({'vertices': [{'x': 164, 'y': 296}, {'x': 243, 'y': 297}, {'x': 243, 'y': 327}, {'x': 164, 'y': 326}]}, ['1940']), ({'vertices': [{'x': 260, 'y': 297}, {'x': 319, 'y': 298}, {'x': 319, 'y': 328}, {'x': 260, 'y': 327}]}, ['-44']), ({'vertices': [{'x': 163, 'y': 338}, {'x': 239, 'y': 338}, {'x': 239, 'y': 366}, {'x': 163, 'y': 366}]}, ['1945']), ({'vertices': [{'x': 415, 'y': 301}, {'x': 454, 'y': 301}, {'x': 454, 'y': 325}, {'x': 415, 'y': 325}]}, ['Gh']), ({'vertices': [{'x': 457, 'y': 301}, {'x': 469, 'y': 301}, {'x': 469, 'y': 325}, {'x': 457, 'y': 325}]}, ['.']), ({'vertices': [{'x': 489, 'y': 301}, {'x': 741, 'y': 301}, {'x': 741, 'y': 325}, {'x': 489, 'y': 325}]}, ['Litzmannstadt']), ({'vertices': [{'x': 414, 'y': 340}, {'x': 585, 'y': 340}, {'x': 585, 'y': 365}, {'x': 414, 'y': 365}]}, ['Auschwitz']), ({'vertices': [{'x': 414, 'y': 376}, {'x': 608, 'y': 376}, {'x': 608, 'y': 401}, {'x': 414, 'y': 401}]}, ['Buchenwald']), ({'vertices': [{'x': 161, 'y': 608}, {'x': 221, 'y': 608}, {'x': 221, 'y': 637}, {'x': 161, 'y': 637}]}, ['RBA']), ({'vertices': [{'x': 238, 'y': 608}, {'x': 258, 'y': 608}, {'x': 258, 'y': 637}, {'x': 238, 'y': 637}]}, ['f']), ({'vertices': [{'x': 260, 'y': 608}, {'x': 270, 'y': 608}, {'x': 270, 'y': 637}, {'x': 260, 'y': 637}]}, ['.']), ({'vertices': [{'x': 295, 'y': 608}, {'x': 334, 'y': 608}, {'x': 334, 'y': 637}, {'x': 295, 'y': 637}]}, ['Wg']), ({'vertices': [{'x': 339, 'y': 608}, {'x': 349, 'y': 608}, {'x': 349, 'y': 637}, {'x': 339, 'y': 637}]}, ['.']), ({'vertices': [{'x': 373, 'y': 608}, {'x': 468, 'y': 608}, {'x': 468, 'y': 637}, {'x': 373, 'y': 637}]}, ['Trier']), ({'vertices': [{'x': 158, 'y': 643}, {'x': 180, 'y': 643}, {'x': 180, 'y': 672}, {'x': 158, 'y': 672}]}, ['f']), ({'vertices': [{'x': 182, 'y': 643}, {'x': 195, 'y': 643}, {'x': 195, 'y': 672}, {'x': 182, 'y': 672}]}, ['.']), ({'vertices': [{'x': 217, 'y': 643}, {'x': 239, 'y': 643}, {'x': 239, 'y': 672}, {'x': 217, 'y': 672}]}, ['R']), ({'vertices': [{'x': 237, 'y': 643}, {'x': 260, 'y': 643}, {'x': 260, 'y': 672}, {'x': 237, 'y': 672}]}, ['▲']), ({'vertices': [{'x': 276, 'y': 643}, {'x': 373, 'y': 643}, {'x': 373, 'y': 672}, {'x': 276, 'y': 672}]}, ['Klein']), ({'vertices': [{'x': 377, 'y': 643}, {'x': 388, 'y': 643}, {'x': 388, 'y': 672}, {'x': 377, 'y': 672}]}, [',']), ({'vertices': [{'x': 413, 'y': 643}, {'x': 471, 'y': 643}, {'x': 471, 'y': 672}, {'x': 413, 'y': 672}]}, ['Ffm']), ({'vertices': [{'x': 475, 'y': 643}, {'x': 485, 'y': 643}, {'x': 485, 'y': 672}, {'x': 475, 'y': 672}]}, ['.']), ({'vertices': [{'x': 933, 'y': 684}, {'x': 970, 'y': 683}, {'x': 971, 'y': 710}, {'x': 934, 'y': 711}]}, ['Bi']), ({'vertices': [{'x': 975, 'y': 682}, {'x': 986, 'y': 682}, {'x': 987, 'y': 709}, {'x': 976, 'y': 709}]}, ['.'])], 'entity_types': {'CARDINAL': ['559'], 'PERSON': ['Mark LOZ', 'LOZINSKI Marek', 'Litzmannstadt Auschwitz Buchenwald RBA f.', 'Trier f. R', 'Klein'], 'DATE': ['29.10.29 1940 -44 1945'], 'GPE': ['Ffm']}, 'top_title': ['page of Testimony', 'דף עד'], 'Production date': '29.10.29'}\n"
     ]
    },
    {
     "name": "stderr",
     "output_type": "stream",
     "text": [
      "WARNING:absl:Compiled the loaded model, but the compiled metrics have yet to be built. `model.compile_metrics` will be empty until you train or evaluate the model.\n"
     ]
    },
    {
     "name": "stdout",
     "output_type": "stream",
     "text": [
      "data_practucom/test\\documents_with_json\\10263012_1.json 😄 Testimony page including a photograph\n"
     ]
    },
    {
     "name": "stderr",
     "output_type": "stream",
     "text": [
      "WARNING:absl:Compiled the loaded model, but the compiled metrics have yet to be built. `model.compile_metrics` will be empty until you train or evaluate the model.\n"
     ]
    },
    {
     "name": "stdout",
     "output_type": "stream",
     "text": [
      "eeeeeeeeeeeeeeeeeeeeeeeeeeeee\n",
      "(403, 893.5)\n",
      "25 19\n",
      "uuuuuuuuuuuuuuuuuuuuu {'page type': 'Testimony page including a photograph', 'data_Languages': [('Russian', 0.4592453), ('Latvian', 0.33975944), ('Tatar', 0.054106236), ('Lithuanian', 0.022499524)], 'full_desc_with_verices': ({'text': 'Гражданин (ка) Pilsonis (ne) miris (usi) СВИДЕТЕЛЬСТВО О СМЕРТИ MIRŠANAS APLIECĪBA фамилия uzvärds, Mupd32 ca в возрасте 25 19. 92 года gada имя, отчество - värds, tevyärds число, месяц, год — gads, diena, menesis (цифрами и прописью — cipariem un vārdiem) лет рачем в книге регистрации актов о смерти gadu vecuma, par to miršanas aktu reģistrācijas grāmata эксера произведена запись за № 6 izdarīts ieraksts Причина смерти Nāves cēlonis месяца mēneša числа datumā Место смерти: город, селение Miršanas vieta: \"pilsēta, ciems Lue район rajons область, край apgabals республика republika Место регистрации Registracijas vieta М. П. Z. V. pifcko Celas Republika наименование и местонахождение органа ЗАГСа civilstāvokļa aktu egistracijas iestādes nosaukums un atrašanās vieta Дата выдачи 19 м Aplieciba izdota g Заведующий отделом записи актов гражданского состояния. Civilstavokla aktu reģistrācijas nodaļas vadītājs IV-ME N 295105 МТ Гознака. 1990. Латышский яз.'}, {'vertices': [{'x': 103, 'y': 403}, {'x': 1517, 'y': 403}, {'x': 1517, 'y': 2365}, {'x': 103, 'y': 2365}]}), 'words': [({'vertices': [{'x': 103, 'y': 403}, {'x': 1517, 'y': 403}, {'x': 1517, 'y': 2365}, {'x': 103, 'y': 2365}]}, ['Гражданин (ка)', 'Pilsonis (ne)', 'miris (usi)', 'СВИДЕТЕЛЬСТВО О СМЕРТИ', 'MIRŠANAS APLIECĪBA', 'фамилия uzvärds,', 'Mupd32 ca', 'в возрасте 25', '19.', '92 года', 'gada', 'имя, отчество - värds, tevyärds', 'число, месяц, год — gads, diena, menesis', '(цифрами и прописью — cipariem un vārdiem)', 'лет рачем в книге регистрации актов о смерти', 'gadu vecuma, par to miršanas aktu reģistrācijas grāmata', 'эксера', 'произведена запись за № 6', 'izdarīts ieraksts', 'Причина смерти', 'Nāves cēlonis', 'месяца', 'mēneša', 'числа', 'datumā', 'Место смерти: город, селение', 'Miršanas vieta: \"pilsēta, ciems', 'Lue', 'район', 'rajons', 'область, край', 'apgabals', 'республика', 'republika', 'Место регистрации', 'Registracijas vieta', 'М. П.', 'Z. V.', 'pifcko', 'Celas Republika', 'наименование и местонахождение органа ЗАГСа', 'civilstāvokļa aktu egistracijas iestādes nosaukums un atrašanās vieta', 'Дата выдачи 19 м', 'Aplieciba izdota', 'g', 'Заведующий отделом', 'записи актов гражданского состояния.', 'Civilstavokla aktu reģistrācijas', 'nodaļas vadītājs', 'IV-ME N 295105', 'МТ Гознака. 1990. Латышский яз.']), ({'vertices': [{'x': 108, 'y': 590}, {'x': 289, 'y': 590}, {'x': 289, 'y': 628}, {'x': 108, 'y': 628}]}, ['Гражданин']), ({'vertices': [{'x': 307, 'y': 590}, {'x': 317, 'y': 590}, {'x': 317, 'y': 628}, {'x': 307, 'y': 628}]}, ['(']), ({'vertices': [{'x': 325, 'y': 590}, {'x': 358, 'y': 590}, {'x': 358, 'y': 628}, {'x': 325, 'y': 628}]}, ['ка']), ({'vertices': [{'x': 364, 'y': 590}, {'x': 376, 'y': 590}, {'x': 376, 'y': 628}, {'x': 364, 'y': 628}]}, [')']), ({'vertices': [{'x': 104, 'y': 623}, {'x': 226, 'y': 627}, {'x': 225, 'y': 662}, {'x': 103, 'y': 658}]}, ['Pilsonis']), ({'vertices': [{'x': 247, 'y': 628}, {'x': 262, 'y': 629}, {'x': 261, 'y': 662}, {'x': 246, 'y': 662}]}, ['(']), ({'vertices': [{'x': 263, 'y': 629}, {'x': 305, 'y': 630}, {'x': 304, 'y': 664}, {'x': 262, 'y': 663}]}, ['ne']), ({'vertices': [{'x': 305, 'y': 630}, {'x': 320, 'y': 631}, {'x': 319, 'y': 664}, {'x': 304, 'y': 664}]}, [')']), ({'vertices': [{'x': 105, 'y': 784}, {'x': 183, 'y': 784}, {'x': 183, 'y': 821}, {'x': 105, 'y': 821}]}, ['miris']), ({'vertices': [{'x': 201, 'y': 784}, {'x': 213, 'y': 784}, {'x': 213, 'y': 821}, {'x': 201, 'y': 821}]}, ['(']), ({'vertices': [{'x': 218, 'y': 784}, {'x': 264, 'y': 784}, {'x': 264, 'y': 821}, {'x': 218, 'y': 821}]}, ['usi']), ({'vertices': [{'x': 268, 'y': 784}, {'x': 280, 'y': 784}, {'x': 280, 'y': 821}, {'x': 268, 'y': 821}]}, [')']), ({'vertices': [{'x': 437, 'y': 411}, {'x': 863, 'y': 406}, {'x': 864, 'y': 473}, {'x': 438, 'y': 478}]}, ['СВИДЕТЕЛЬСТВО']), ({'vertices': [{'x': 905, 'y': 406}, {'x': 932, 'y': 406}, {'x': 933, 'y': 472}, {'x': 906, 'y': 472}]}, ['О']), ({'vertices': [{'x': 975, 'y': 405}, {'x': 1177, 'y': 403}, {'x': 1178, 'y': 470}, {'x': 976, 'y': 472}]}, ['СМЕРТИ']), ({'vertices': [{'x': 530, 'y': 485}, {'x': 776, 'y': 483}, {'x': 776, 'y': 547}, {'x': 530, 'y': 549}]}, ['MIRŠANAS']), ({'vertices': [{'x': 817, 'y': 483}, {'x': 1088, 'y': 481}, {'x': 1088, 'y': 545}, {'x': 817, 'y': 547}]}, ['APLIECĪBA']), ({'vertices': [{'x': 824, 'y': 639}, {'x': 938, 'y': 637}, {'x': 938, 'y': 662}, {'x': 824, 'y': 664}]}, ['фамилия']), ({'vertices': [{'x': 981, 'y': 636}, {'x': 1083, 'y': 637}, {'x': 1083, 'y': 660}, {'x': 981, 'y': 659}]}, ['uzvärds']), ({'vertices': [{'x': 1084, 'y': 638}, {'x': 1090, 'y': 638}, {'x': 1090, 'y': 660}, {'x': 1084, 'y': 660}]}, [',']), ({'vertices': [{'x': 356, 'y': 650}, {'x': 817, 'y': 643}, {'x': 818, 'y': 732}, {'x': 357, 'y': 739}]}, ['Mupd32']), ({'vertices': [{'x': 1131, 'y': 638}, {'x': 1237, 'y': 636}, {'x': 1238, 'y': 725}, {'x': 1132, 'y': 727}]}, ['ca']), ({'vertices': [{'x': 107, 'y': 881}, {'x': 123, 'y': 881}, {'x': 123, 'y': 954}, {'x': 107, 'y': 954}]}, ['в']), ({'vertices': [{'x': 140, 'y': 880}, {'x': 282, 'y': 879}, {'x': 282, 'y': 952}, {'x': 140, 'y': 953}]}, ['возрасте']), ({'vertices': [{'x': 349, 'y': 879}, {'x': 437, 'y': 879}, {'x': 437, 'y': 953}, {'x': 349, 'y': 953}]}, ['25']), ({'vertices': [{'x': 106, 'y': 1002}, {'x': 145, 'y': 1002}, {'x': 145, 'y': 1028}, {'x': 106, 'y': 1028}]}, ['19']), ({'vertices': [{'x': 142, 'y': 1002}, {'x': 153, 'y': 1002}, {'x': 153, 'y': 1028}, {'x': 142, 'y': 1028}]}, ['.']), ({'vertices': [{'x': 165, 'y': 968}, {'x': 245, 'y': 970}, {'x': 244, 'y': 1028}, {'x': 164, 'y': 1026}]}, ['92']), ({'vertices': [{'x': 265, 'y': 970}, {'x': 339, 'y': 971}, {'x': 338, 'y': 1029}, {'x': 264, 'y': 1028}]}, ['года']), ({'vertices': [{'x': 265, 'y': 1022}, {'x': 342, 'y': 1015}, {'x': 345, 'y': 1050}, {'x': 268, 'y': 1057}]}, ['gada']), ({'vertices': [{'x': 601, 'y': 720}, {'x': 649, 'y': 719}, {'x': 649, 'y': 744}, {'x': 601, 'y': 745}]}, ['имя']), ({'vertices': [{'x': 652, 'y': 720}, {'x': 656, 'y': 720}, {'x': 656, 'y': 744}, {'x': 652, 'y': 744}]}, [',']), ({'vertices': [{'x': 672, 'y': 719}, {'x': 779, 'y': 717}, {'x': 779, 'y': 742}, {'x': 672, 'y': 744}]}, ['отчество']), ({'vertices': [{'x': 788, 'y': 717}, {'x': 813, 'y': 717}, {'x': 813, 'y': 741}, {'x': 788, 'y': 741}]}, ['-']), ({'vertices': [{'x': 819, 'y': 717}, {'x': 888, 'y': 716}, {'x': 888, 'y': 740}, {'x': 819, 'y': 741}]}, ['värds']), ({'vertices': [{'x': 890, 'y': 716}, {'x': 896, 'y': 716}, {'x': 896, 'y': 740}, {'x': 890, 'y': 740}]}, [',']), ({'vertices': [{'x': 914, 'y': 715}, {'x': 1022, 'y': 713}, {'x': 1022, 'y': 738}, {'x': 914, 'y': 740}]}, ['tevyärds']), ({'vertices': [{'x': 626, 'y': 801}, {'x': 695, 'y': 801}, {'x': 695, 'y': 820}, {'x': 626, 'y': 820}]}, ['число']), ({'vertices': [{'x': 699, 'y': 801}, {'x': 703, 'y': 801}, {'x': 703, 'y': 820}, {'x': 699, 'y': 820}]}, [',']), ({'vertices': [{'x': 721, 'y': 801}, {'x': 795, 'y': 801}, {'x': 795, 'y': 820}, {'x': 721, 'y': 820}]}, ['месяц']), ({'vertices': [{'x': 797, 'y': 801}, {'x': 801, 'y': 801}, {'x': 801, 'y': 820}, {'x': 797, 'y': 820}]}, [',']), ({'vertices': [{'x': 821, 'y': 801}, {'x': 858, 'y': 801}, {'x': 858, 'y': 820}, {'x': 821, 'y': 820}]}, ['год']), ({'vertices': [{'x': 868, 'y': 801}, {'x': 891, 'y': 801}, {'x': 891, 'y': 820}, {'x': 868, 'y': 820}]}, ['—']), ({'vertices': [{'x': 897, 'y': 795}, {'x': 954, 'y': 794}, {'x': 954, 'y': 819}, {'x': 897, 'y': 820}]}, ['gads']), ({'vertices': [{'x': 957, 'y': 794}, {'x': 962, 'y': 794}, {'x': 962, 'y': 818}, {'x': 957, 'y': 818}]}, [',']), ({'vertices': [{'x': 980, 'y': 793}, {'x': 1049, 'y': 792}, {'x': 1049, 'y': 817}, {'x': 980, 'y': 818}]}, ['diena']), ({'vertices': [{'x': 1048, 'y': 793}, {'x': 1054, 'y': 793}, {'x': 1054, 'y': 817}, {'x': 1048, 'y': 817}]}, [',']), ({'vertices': [{'x': 1073, 'y': 792}, {'x': 1170, 'y': 790}, {'x': 1170, 'y': 814}, {'x': 1073, 'y': 816}]}, ['menesis']), ({'vertices': [{'x': 496, 'y': 875}, {'x': 504, 'y': 875}, {'x': 504, 'y': 900}, {'x': 496, 'y': 900}]}, ['(']), ({'vertices': [{'x': 511, 'y': 875}, {'x': 627, 'y': 875}, {'x': 627, 'y': 900}, {'x': 511, 'y': 900}]}, ['цифрами']), ({'vertices': [{'x': 642, 'y': 875}, {'x': 660, 'y': 875}, {'x': 660, 'y': 900}, {'x': 642, 'y': 900}]}, ['и']), ({'vertices': [{'x': 675, 'y': 875}, {'x': 804, 'y': 875}, {'x': 804, 'y': 900}, {'x': 675, 'y': 900}]}, ['прописью']), ({'vertices': [{'x': 812, 'y': 875}, {'x': 836, 'y': 875}, {'x': 836, 'y': 900}, {'x': 812, 'y': 900}]}, ['—']), ({'vertices': [{'x': 842, 'y': 874}, {'x': 946, 'y': 872}, {'x': 946, 'y': 897}, {'x': 842, 'y': 899}]}, ['cipariem']), ({'vertices': [{'x': 963, 'y': 872}, {'x': 997, 'y': 871}, {'x': 997, 'y': 896}, {'x': 963, 'y': 897}]}, ['un']), ({'vertices': [{'x': 1010, 'y': 871}, {'x': 1115, 'y': 869}, {'x': 1115, 'y': 894}, {'x': 1010, 'y': 896}]}, ['vārdiem']), ({'vertices': [{'x': 1120, 'y': 870}, {'x': 1131, 'y': 870}, {'x': 1131, 'y': 894}, {'x': 1120, 'y': 894}]}, [')']), ({'vertices': [{'x': 471, 'y': 879}, {'x': 533, 'y': 879}, {'x': 533, 'y': 952}, {'x': 471, 'y': 952}]}, ['лет']), ({'vertices': [{'x': 559, 'y': 878}, {'x': 657, 'y': 878}, {'x': 657, 'y': 952}, {'x': 559, 'y': 952}]}, ['рачем']), ({'vertices': [{'x': 670, 'y': 878}, {'x': 691, 'y': 878}, {'x': 691, 'y': 951}, {'x': 670, 'y': 951}]}, ['в']), ({'vertices': [{'x': 706, 'y': 878}, {'x': 801, 'y': 878}, {'x': 801, 'y': 951}, {'x': 706, 'y': 951}]}, ['книге']), ({'vertices': [{'x': 816, 'y': 877}, {'x': 1023, 'y': 876}, {'x': 1023, 'y': 950}, {'x': 816, 'y': 951}]}, ['регистрации']), ({'vertices': [{'x': 1042, 'y': 877}, {'x': 1134, 'y': 877}, {'x': 1134, 'y': 950}, {'x': 1042, 'y': 950}]}, ['актов']), ({'vertices': [{'x': 1154, 'y': 876}, {'x': 1170, 'y': 876}, {'x': 1170, 'y': 949}, {'x': 1154, 'y': 949}]}, ['о']), ({'vertices': [{'x': 1191, 'y': 876}, {'x': 1300, 'y': 876}, {'x': 1300, 'y': 949}, {'x': 1191, 'y': 949}]}, ['смерти']), ({'vertices': [{'x': 474, 'y': 941}, {'x': 551, 'y': 940}, {'x': 551, 'y': 981}, {'x': 474, 'y': 982}]}, ['gadu']), ({'vertices': [{'x': 570, 'y': 940}, {'x': 684, 'y': 939}, {'x': 684, 'y': 980}, {'x': 570, 'y': 981}]}, ['vecuma']), ({'vertices': [{'x': 687, 'y': 940}, {'x': 695, 'y': 940}, {'x': 695, 'y': 980}, {'x': 687, 'y': 980}]}, [',']), ({'vertices': [{'x': 716, 'y': 939}, {'x': 768, 'y': 939}, {'x': 768, 'y': 979}, {'x': 716, 'y': 979}]}, ['par']), ({'vertices': [{'x': 787, 'y': 939}, {'x': 819, 'y': 939}, {'x': 819, 'y': 979}, {'x': 787, 'y': 979}]}, ['to']), ({'vertices': [{'x': 839, 'y': 938}, {'x': 975, 'y': 937}, {'x': 975, 'y': 978}, {'x': 839, 'y': 979}]}, ['miršanas']), ({'vertices': [{'x': 997, 'y': 936}, {'x': 1070, 'y': 935}, {'x': 1070, 'y': 976}, {'x': 997, 'y': 977}]}, ['aktu']), ({'vertices': [{'x': 1087, 'y': 936}, {'x': 1281, 'y': 934}, {'x': 1281, 'y': 975}, {'x': 1087, 'y': 977}]}, ['reģistrācijas']), ({'vertices': [{'x': 1309, 'y': 934}, {'x': 1441, 'y': 933}, {'x': 1441, 'y': 974}, {'x': 1309, 'y': 975}]}, ['grāmata']), ({'vertices': [{'x': 599, 'y': 974}, {'x': 855, 'y': 977}, {'x': 854, 'y': 1059}, {'x': 598, 'y': 1056}]}, ['эксера']), ({'vertices': [{'x': 106, 'y': 1049}, {'x': 305, 'y': 1045}, {'x': 306, 'y': 1111}, {'x': 107, 'y': 1115}]}, ['произведена']), ({'vertices': [{'x': 325, 'y': 1045}, {'x': 428, 'y': 1043}, {'x': 429, 'y': 1109}, {'x': 326, 'y': 1111}]}, ['запись']), ({'vertices': [{'x': 450, 'y': 1043}, {'x': 482, 'y': 1042}, {'x': 483, 'y': 1107}, {'x': 451, 'y': 1108}]}, ['за']), ({'vertices': [{'x': 505, 'y': 1042}, {'x': 546, 'y': 1041}, {'x': 547, 'y': 1106}, {'x': 506, 'y': 1107}]}, ['№']), ({'vertices': [{'x': 606, 'y': 1040}, {'x': 662, 'y': 1039}, {'x': 663, 'y': 1104}, {'x': 607, 'y': 1105}]}, ['6']), ({'vertices': [{'x': 105, 'y': 1100}, {'x': 228, 'y': 1100}, {'x': 228, 'y': 1127}, {'x': 105, 'y': 1127}]}, ['izdarīts']), ({'vertices': [{'x': 245, 'y': 1100}, {'x': 369, 'y': 1100}, {'x': 369, 'y': 1127}, {'x': 245, 'y': 1127}]}, ['ieraksts']), ({'vertices': [{'x': 108, 'y': 1143}, {'x': 249, 'y': 1146}, {'x': 248, 'y': 1182}, {'x': 107, 'y': 1179}]}, ['Причина']), ({'vertices': [{'x': 272, 'y': 1147}, {'x': 384, 'y': 1150}, {'x': 383, 'y': 1186}, {'x': 271, 'y': 1183}]}, ['смерти']), ({'vertices': [{'x': 107, 'y': 1182}, {'x': 199, 'y': 1182}, {'x': 199, 'y': 1211}, {'x': 107, 'y': 1211}]}, ['Nāves']), ({'vertices': [{'x': 220, 'y': 1182}, {'x': 328, 'y': 1182}, {'x': 328, 'y': 1211}, {'x': 220, 'y': 1211}]}, ['cēlonis']), ({'vertices': [{'x': 1124, 'y': 985}, {'x': 1239, 'y': 984}, {'x': 1239, 'y': 1012}, {'x': 1124, 'y': 1013}]}, ['месяца']), ({'vertices': [{'x': 1125, 'y': 1021}, {'x': 1239, 'y': 1020}, {'x': 1239, 'y': 1043}, {'x': 1125, 'y': 1044}]}, ['mēneša']), ({'vertices': [{'x': 1403, 'y': 982}, {'x': 1491, 'y': 984}, {'x': 1491, 'y': 1004}, {'x': 1403, 'y': 1002}]}, ['числа']), ({'vertices': [{'x': 1401, 'y': 1014}, {'x': 1517, 'y': 1014}, {'x': 1517, 'y': 1041}, {'x': 1401, 'y': 1041}]}, ['datumā']), ({'vertices': [{'x': 111, 'y': 1377}, {'x': 205, 'y': 1378}, {'x': 205, 'y': 1415}, {'x': 111, 'y': 1414}]}, ['Место']), ({'vertices': [{'x': 227, 'y': 1378}, {'x': 339, 'y': 1379}, {'x': 339, 'y': 1416}, {'x': 227, 'y': 1415}]}, ['смерти']), ({'vertices': [{'x': 341, 'y': 1379}, {'x': 348, 'y': 1379}, {'x': 348, 'y': 1415}, {'x': 341, 'y': 1415}]}, [':']), ({'vertices': [{'x': 368, 'y': 1379}, {'x': 457, 'y': 1380}, {'x': 457, 'y': 1417}, {'x': 368, 'y': 1416}]}, ['город']), ({'vertices': [{'x': 459, 'y': 1380}, {'x': 465, 'y': 1380}, {'x': 465, 'y': 1416}, {'x': 459, 'y': 1416}]}, [',']), ({'vertices': [{'x': 489, 'y': 1380}, {'x': 612, 'y': 1381}, {'x': 612, 'y': 1418}, {'x': 489, 'y': 1417}]}, ['селение']), ({'vertices': [{'x': 109, 'y': 1418}, {'x': 247, 'y': 1418}, {'x': 247, 'y': 1450}, {'x': 109, 'y': 1450}]}, ['Miršanas']), ({'vertices': [{'x': 267, 'y': 1418}, {'x': 346, 'y': 1418}, {'x': 346, 'y': 1450}, {'x': 267, 'y': 1450}]}, ['vieta']), ({'vertices': [{'x': 348, 'y': 1418}, {'x': 359, 'y': 1418}, {'x': 359, 'y': 1450}, {'x': 348, 'y': 1450}]}, [':']), ({'vertices': [{'x': 366, 'y': 1418}, {'x': 380, 'y': 1418}, {'x': 380, 'y': 1450}, {'x': 366, 'y': 1450}]}, ['\"']), ({'vertices': [{'x': 375, 'y': 1418}, {'x': 479, 'y': 1418}, {'x': 479, 'y': 1450}, {'x': 375, 'y': 1450}]}, ['pilsēta']), ({'vertices': [{'x': 481, 'y': 1418}, {'x': 488, 'y': 1418}, {'x': 488, 'y': 1450}, {'x': 481, 'y': 1450}]}, [',']), ({'vertices': [{'x': 510, 'y': 1418}, {'x': 596, 'y': 1418}, {'x': 596, 'y': 1450}, {'x': 510, 'y': 1450}]}, ['ciems']), ({'vertices': [{'x': 963, 'y': 1357}, {'x': 1148, 'y': 1358}, {'x': 1148, 'y': 1415}, {'x': 963, 'y': 1414}]}, ['Lue']), ({'vertices': [{'x': 109, 'y': 1458}, {'x': 203, 'y': 1457}, {'x': 203, 'y': 1493}, {'x': 109, 'y': 1494}]}, ['район']), ({'vertices': [{'x': 107, 'y': 1502}, {'x': 208, 'y': 1502}, {'x': 208, 'y': 1530}, {'x': 107, 'y': 1530}]}, ['rajons']), ({'vertices': [{'x': 111, 'y': 1537}, {'x': 232, 'y': 1537}, {'x': 232, 'y': 1570}, {'x': 111, 'y': 1570}]}, ['область']), ({'vertices': [{'x': 238, 'y': 1537}, {'x': 243, 'y': 1537}, {'x': 243, 'y': 1570}, {'x': 238, 'y': 1570}]}, [',']), ({'vertices': [{'x': 263, 'y': 1537}, {'x': 340, 'y': 1537}, {'x': 340, 'y': 1570}, {'x': 263, 'y': 1570}]}, ['край']), ({'vertices': [{'x': 108, 'y': 1575}, {'x': 247, 'y': 1569}, {'x': 249, 'y': 1607}, {'x': 110, 'y': 1613}]}, ['apgabals']), ({'vertices': [{'x': 110, 'y': 1618}, {'x': 294, 'y': 1607}, {'x': 296, 'y': 1643}, {'x': 112, 'y': 1654}]}, ['республика']), ({'vertices': [{'x': 106, 'y': 1655}, {'x': 256, 'y': 1649}, {'x': 257, 'y': 1684}, {'x': 107, 'y': 1690}]}, ['republika']), ({'vertices': [{'x': 111, 'y': 1692}, {'x': 206, 'y': 1694}, {'x': 205, 'y': 1728}, {'x': 110, 'y': 1726}]}, ['Место']), ({'vertices': [{'x': 226, 'y': 1694}, {'x': 430, 'y': 1698}, {'x': 429, 'y': 1732}, {'x': 225, 'y': 1728}]}, ['регистрации']), ({'vertices': [{'x': 110, 'y': 1733}, {'x': 313, 'y': 1732}, {'x': 313, 'y': 1764}, {'x': 110, 'y': 1765}]}, ['Registracijas']), ({'vertices': [{'x': 336, 'y': 1732}, {'x': 413, 'y': 1732}, {'x': 413, 'y': 1764}, {'x': 336, 'y': 1764}]}, ['vieta']), ({'vertices': [{'x': 167, 'y': 1939}, {'x': 201, 'y': 1938}, {'x': 201, 'y': 1957}, {'x': 167, 'y': 1958}]}, ['М.']), ({'vertices': [{'x': 217, 'y': 1937}, {'x': 247, 'y': 1936}, {'x': 247, 'y': 1956}, {'x': 217, 'y': 1957}]}, ['П.']), ({'vertices': [{'x': 169, 'y': 1967}, {'x': 196, 'y': 1967}, {'x': 196, 'y': 1988}, {'x': 169, 'y': 1988}]}, ['Z.']), ({'vertices': [{'x': 206, 'y': 1967}, {'x': 239, 'y': 1967}, {'x': 239, 'y': 1988}, {'x': 206, 'y': 1988}]}, ['V.']), ({'vertices': [{'x': 448, 'y': 1712}, {'x': 528, 'y': 1765}, {'x': 511, 'y': 1790}, {'x': 431, 'y': 1737}]}, ['pifcko']), ({'vertices': [{'x': 1062, 'y': 1649}, {'x': 1216, 'y': 1648}, {'x': 1216, 'y': 1680}, {'x': 1062, 'y': 1681}]}, ['Celas']), ({'vertices': [{'x': 1232, 'y': 1648}, {'x': 1428, 'y': 1647}, {'x': 1428, 'y': 1679}, {'x': 1232, 'y': 1680}]}, ['Republika']), ({'vertices': [{'x': 636, 'y': 1738}, {'x': 818, 'y': 1736}, {'x': 818, 'y': 1761}, {'x': 636, 'y': 1763}]}, ['наименование']), ({'vertices': [{'x': 832, 'y': 1737}, {'x': 848, 'y': 1737}, {'x': 848, 'y': 1761}, {'x': 832, 'y': 1761}]}, ['и']), ({'vertices': [{'x': 864, 'y': 1736}, {'x': 1088, 'y': 1734}, {'x': 1088, 'y': 1759}, {'x': 864, 'y': 1761}]}, ['местонахождение']), ({'vertices': [{'x': 1102, 'y': 1733}, {'x': 1185, 'y': 1732}, {'x': 1185, 'y': 1757}, {'x': 1102, 'y': 1758}]}, ['органа']), ({'vertices': [{'x': 1201, 'y': 1733}, {'x': 1291, 'y': 1732}, {'x': 1291, 'y': 1756}, {'x': 1201, 'y': 1757}]}, ['ЗАГСа']), ({'vertices': [{'x': 353, 'y': 1816}, {'x': 513, 'y': 1815}, {'x': 513, 'y': 1842}, {'x': 353, 'y': 1843}]}, ['civilstāvokļa']), ({'vertices': [{'x': 527, 'y': 1815}, {'x': 582, 'y': 1815}, {'x': 582, 'y': 1841}, {'x': 527, 'y': 1841}]}, ['aktu']), ({'vertices': [{'x': 606, 'y': 1814}, {'x': 751, 'y': 1813}, {'x': 751, 'y': 1840}, {'x': 606, 'y': 1841}]}, ['egistracijas']), ({'vertices': [{'x': 768, 'y': 1813}, {'x': 867, 'y': 1812}, {'x': 867, 'y': 1839}, {'x': 768, 'y': 1840}]}, ['iestādes']), ({'vertices': [{'x': 881, 'y': 1812}, {'x': 1020, 'y': 1811}, {'x': 1020, 'y': 1838}, {'x': 881, 'y': 1839}]}, ['nosaukums']), ({'vertices': [{'x': 1034, 'y': 1811}, {'x': 1069, 'y': 1811}, {'x': 1069, 'y': 1837}, {'x': 1034, 'y': 1837}]}, ['un']), ({'vertices': [{'x': 1082, 'y': 1810}, {'x': 1199, 'y': 1809}, {'x': 1199, 'y': 1836}, {'x': 1082, 'y': 1837}]}, ['atrašanās']), ({'vertices': [{'x': 1215, 'y': 1809}, {'x': 1276, 'y': 1809}, {'x': 1276, 'y': 1836}, {'x': 1215, 'y': 1836}]}, ['vieta']), ({'vertices': [{'x': 270, 'y': 1847}, {'x': 350, 'y': 1848}, {'x': 350, 'y': 1880}, {'x': 270, 'y': 1879}]}, ['Дата']), ({'vertices': [{'x': 371, 'y': 1848}, {'x': 487, 'y': 1849}, {'x': 487, 'y': 1881}, {'x': 371, 'y': 1880}]}, ['выдачи']), ({'vertices': [{'x': 553, 'y': 1865}, {'x': 591, 'y': 1866}, {'x': 590, 'y': 1896}, {'x': 552, 'y': 1895}]}, ['19']), ({'vertices': [{'x': 607, 'y': 1868}, {'x': 639, 'y': 1869}, {'x': 638, 'y': 1898}, {'x': 606, 'y': 1897}]}, ['м']), ({'vertices': [{'x': 271, 'y': 1886}, {'x': 418, 'y': 1885}, {'x': 418, 'y': 1917}, {'x': 271, 'y': 1918}]}, ['Aplieciba']), ({'vertices': [{'x': 438, 'y': 1885}, {'x': 538, 'y': 1884}, {'x': 538, 'y': 1916}, {'x': 438, 'y': 1917}]}, ['izdota']), ({'vertices': [{'x': 680, 'y': 1895}, {'x': 700, 'y': 1894}, {'x': 701, 'y': 1918}, {'x': 681, 'y': 1919}]}, ['g']), ({'vertices': [{'x': 714, 'y': 1931}, {'x': 875, 'y': 1929}, {'x': 875, 'y': 1956}, {'x': 714, 'y': 1958}]}, ['Заведующий']), ({'vertices': [{'x': 892, 'y': 1929}, {'x': 993, 'y': 1928}, {'x': 993, 'y': 1955}, {'x': 892, 'y': 1956}]}, ['отделом']), ({'vertices': [{'x': 476, 'y': 1963}, {'x': 564, 'y': 1962}, {'x': 564, 'y': 1989}, {'x': 476, 'y': 1990}]}, ['записи']), ({'vertices': [{'x': 579, 'y': 1962}, {'x': 652, 'y': 1961}, {'x': 652, 'y': 1988}, {'x': 579, 'y': 1989}]}, ['актов']), ({'vertices': [{'x': 664, 'y': 1961}, {'x': 844, 'y': 1959}, {'x': 844, 'y': 1986}, {'x': 664, 'y': 1988}]}, ['гражданского']), ({'vertices': [{'x': 862, 'y': 1959}, {'x': 992, 'y': 1958}, {'x': 992, 'y': 1985}, {'x': 862, 'y': 1986}]}, ['состояния']), ({'vertices': [{'x': 995, 'y': 1958}, {'x': 1000, 'y': 1958}, {'x': 1000, 'y': 1984}, {'x': 995, 'y': 1984}]}, ['.']), ({'vertices': [{'x': 571, 'y': 1990}, {'x': 741, 'y': 1989}, {'x': 741, 'y': 2017}, {'x': 571, 'y': 2018}]}, ['Civilstavokla']), ({'vertices': [{'x': 756, 'y': 1989}, {'x': 814, 'y': 1989}, {'x': 814, 'y': 2017}, {'x': 756, 'y': 2017}]}, ['aktu']), ({'vertices': [{'x': 828, 'y': 1989}, {'x': 995, 'y': 1988}, {'x': 995, 'y': 2016}, {'x': 828, 'y': 2017}]}, ['reģistrācijas']), ({'vertices': [{'x': 778, 'y': 2019}, {'x': 877, 'y': 2018}, {'x': 877, 'y': 2044}, {'x': 778, 'y': 2045}]}, ['nodaļas']), ({'vertices': [{'x': 889, 'y': 2018}, {'x': 995, 'y': 2017}, {'x': 995, 'y': 2043}, {'x': 889, 'y': 2044}]}, ['vadītājs']), ({'vertices': [{'x': 511, 'y': 2173}, {'x': 570, 'y': 2173}, {'x': 570, 'y': 2214}, {'x': 511, 'y': 2214}]}, ['IV']), ({'vertices': [{'x': 574, 'y': 2173}, {'x': 584, 'y': 2173}, {'x': 584, 'y': 2214}, {'x': 574, 'y': 2214}]}, ['-']), ({'vertices': [{'x': 586, 'y': 2173}, {'x': 667, 'y': 2173}, {'x': 667, 'y': 2214}, {'x': 586, 'y': 2214}]}, ['ME']), ({'vertices': [{'x': 723, 'y': 2173}, {'x': 769, 'y': 2173}, {'x': 769, 'y': 2214}, {'x': 723, 'y': 2214}]}, ['N']), ({'vertices': [{'x': 808, 'y': 2173}, {'x': 996, 'y': 2173}, {'x': 996, 'y': 2214}, {'x': 808, 'y': 2214}]}, ['295105']), ({'vertices': [{'x': 579, 'y': 2343}, {'x': 622, 'y': 2343}, {'x': 622, 'y': 2365}, {'x': 579, 'y': 2365}]}, ['МТ']), ({'vertices': [{'x': 637, 'y': 2343}, {'x': 750, 'y': 2342}, {'x': 750, 'y': 2363}, {'x': 637, 'y': 2364}]}, ['Гознака']), ({'vertices': [{'x': 752, 'y': 2343}, {'x': 757, 'y': 2343}, {'x': 757, 'y': 2364}, {'x': 752, 'y': 2364}]}, ['.']), ({'vertices': [{'x': 777, 'y': 2342}, {'x': 839, 'y': 2342}, {'x': 839, 'y': 2364}, {'x': 777, 'y': 2364}]}, ['1990.']), ({'vertices': [{'x': 855, 'y': 2342}, {'x': 1019, 'y': 2341}, {'x': 1019, 'y': 2363}, {'x': 855, 'y': 2364}]}, ['Латышский']), ({'vertices': [{'x': 1034, 'y': 2341}, {'x': 1065, 'y': 2341}, {'x': 1065, 'y': 2362}, {'x': 1034, 'y': 2362}]}, ['яз']), ({'vertices': [{'x': 1066, 'y': 2341}, {'x': 1071, 'y': 2341}, {'x': 1071, 'y': 2362}, {'x': 1066, 'y': 2362}]}, ['.'])], 'entity_types': {'PERSON': ['Гражданин', 'Pilsonis', 'лет рачем', 'Nāves', 'месяца mēneša числа', 'Lue район', 'Место', 'М. П. Z. V. pifcko', 'Celas Republika', 'Дата выдачи'], 'DATE': ['25 19', '1990'], 'CARDINAL': ['92', '6', '19'], 'ORG': ['un', 'Причина', 'местонахождение', 'un'], 'PRODUCT': ['Место'], 'NORP': ['Aplieciba'], 'GPE': ['Заведующий']}, 'top_title': ['page of Testimony', 'דף עד'], 'Production date': '25 19'}\n"
     ]
    },
    {
     "name": "stderr",
     "output_type": "stream",
     "text": [
      "WARNING:absl:Compiled the loaded model, but the compiled metrics have yet to be built. `model.compile_metrics` will be empty until you train or evaluate the model.\n"
     ]
    },
    {
     "name": "stdout",
     "output_type": "stream",
     "text": [
      "data_practucom/test\\documents_with_json\\10263118_1.json 😄 Testimony page including a photograph\n"
     ]
    },
    {
     "name": "stderr",
     "output_type": "stream",
     "text": [
      "WARNING:absl:Compiled the loaded model, but the compiled metrics have yet to be built. `model.compile_metrics` will be empty until you train or evaluate the model.\n"
     ]
    },
    {
     "name": "stdout",
     "output_type": "stream",
     "text": [
      "eeeeeeeeeeeeeeeeeeeeeeeeeeeee\n",
      "(329, 873.75)\n",
      "2009\n",
      "uuuuuuuuuuuuuuuuuuuuu {'page type': 'Testimony page including a photograph', 'data_Languages': [('Latvian', 0.89149874), ('English', 0.026556032), ('Croatian', 0.018399796), ('Czech', 0.015216348)], 'full_desc_with_verices': ({'text': 'dzimis (-usi) miris (-usi) plkst.1:05 LATVIJAS REPUBLIKA MIRŠANAS APLIECĪBA LV AD 0697418 Krupņikovs Pēteris /Krupnikov Peter/ uzvārds, vārds personas kods Itālija, Florence, 19.03.1920 dzimšanas victa, gads, diena, mēnesis 13 20.02.2009. divi tūkstoši devītā gada divdesmitajā februārī gads, diena, mēnesis, stunda- cipariem un vārdiem 23.02.2009 diena, mēnesis, gads par ko miršanas reģistrācijas grāmatā 1428 izdarīts ieraksts Nr. Miršanas vieta Reģistrācijas vieta. Latvija, Rīga republika, pilsēta, novads, pagasts Rīgas pilsētas Dzimtsarakstu nodaļa. dzimtsarakstu nodaļas nosaukums 2009. 23. februārī Apliecība izsniegta gada Zv Dzimtsarakstu nodaļas vadītājs Bar & Papko'}, {'vertices': [{'x': 233, 'y': 329}, {'x': 1860, 'y': 329}, {'x': 1860, 'y': 2508}, {'x': 233, 'y': 2508}]}), 'words': [({'vertices': [{'x': 233, 'y': 329}, {'x': 1860, 'y': 329}, {'x': 1860, 'y': 2508}, {'x': 233, 'y': 2508}]}, ['dzimis (-usi)', 'miris (-usi)', 'plkst.1:05', 'LATVIJAS', 'REPUBLIKA', 'MIRŠANAS APLIECĪBA', 'LV AD 0697418', 'Krupņikovs Pēteris /Krupnikov Peter/', 'uzvārds, vārds', 'personas kods', 'Itālija, Florence, 19.03.1920', 'dzimšanas victa, gads, diena, mēnesis', '13', '20.02.2009. divi tūkstoši devītā gada divdesmitajā februārī', 'gads, diena, mēnesis, stunda-', 'cipariem un vārdiem', '23.02.2009', 'diena, mēnesis, gads', 'par ko miršanas reģistrācijas grāmatā', '1428', 'izdarīts ieraksts Nr.', 'Miršanas vieta', 'Reģistrācijas vieta.', 'Latvija, Rīga', 'republika, pilsēta, novads, pagasts', 'Rīgas pilsētas Dzimtsarakstu nodaļa.', 'dzimtsarakstu nodaļas nosaukums', '2009.', '23.', 'februārī', 'Apliecība izsniegta', 'gada', 'Zv', 'Dzimtsarakstu nodaļas vadītājs', 'Bar & Papko']), ({'vertices': [{'x': 261, 'y': 1147}, {'x': 388, 'y': 1150}, {'x': 387, 'y': 1185}, {'x': 260, 'y': 1182}]}, ['dzimis']), ({'vertices': [{'x': 402, 'y': 1151}, {'x': 416, 'y': 1151}, {'x': 415, 'y': 1185}, {'x': 401, 'y': 1185}]}, ['(']), ({'vertices': [{'x': 414, 'y': 1151}, {'x': 494, 'y': 1153}, {'x': 493, 'y': 1187}, {'x': 413, 'y': 1185}]}, ['-usi']), ({'vertices': [{'x': 493, 'y': 1153}, {'x': 507, 'y': 1153}, {'x': 506, 'y': 1187}, {'x': 492, 'y': 1187}]}, [')']), ({'vertices': [{'x': 259, 'y': 1420}, {'x': 359, 'y': 1422}, {'x': 358, 'y': 1456}, {'x': 258, 'y': 1454}]}, ['miris']), ({'vertices': [{'x': 370, 'y': 1422}, {'x': 385, 'y': 1422}, {'x': 384, 'y': 1455}, {'x': 369, 'y': 1455}]}, ['(']), ({'vertices': [{'x': 384, 'y': 1423}, {'x': 464, 'y': 1424}, {'x': 463, 'y': 1457}, {'x': 383, 'y': 1456}]}, ['-usi']), ({'vertices': [{'x': 464, 'y': 1424}, {'x': 478, 'y': 1424}, {'x': 477, 'y': 1457}, {'x': 463, 'y': 1457}]}, [')']), ({'vertices': [{'x': 233, 'y': 1510}, {'x': 360, 'y': 1505}, {'x': 362, 'y': 1548}, {'x': 235, 'y': 1553}]}, ['plkst.1']), ({'vertices': [{'x': 365, 'y': 1505}, {'x': 376, 'y': 1505}, {'x': 378, 'y': 1547}, {'x': 367, 'y': 1547}]}, [':']), ({'vertices': [{'x': 378, 'y': 1504}, {'x': 425, 'y': 1502}, {'x': 427, 'y': 1544}, {'x': 380, 'y': 1546}]}, ['05']), ({'vertices': [{'x': 685, 'y': 329}, {'x': 837, 'y': 331}, {'x': 837, 'y': 360}, {'x': 685, 'y': 358}]}, ['LATVIJAS']), ({'vertices': [{'x': 1237, 'y': 331}, {'x': 1420, 'y': 333}, {'x': 1420, 'y': 356}, {'x': 1237, 'y': 354}]}, ['REPUBLIKA']), ({'vertices': [{'x': 613, 'y': 568}, {'x': 1019, 'y': 568}, {'x': 1019, 'y': 630}, {'x': 613, 'y': 630}]}, ['MIRŠANAS']), ({'vertices': [{'x': 1045, 'y': 568}, {'x': 1442, 'y': 568}, {'x': 1442, 'y': 630}, {'x': 1045, 'y': 630}]}, ['APLIECĪBA']), ({'vertices': [{'x': 834, 'y': 654}, {'x': 909, 'y': 655}, {'x': 908, 'y': 711}, {'x': 833, 'y': 710}]}, ['LV']), ({'vertices': [{'x': 933, 'y': 655}, {'x': 1017, 'y': 656}, {'x': 1016, 'y': 712}, {'x': 932, 'y': 711}]}, ['AD']), ({'vertices': [{'x': 1067, 'y': 656}, {'x': 1354, 'y': 660}, {'x': 1353, 'y': 717}, {'x': 1066, 'y': 713}]}, ['0697418']), ({'vertices': [{'x': 523, 'y': 792}, {'x': 847, 'y': 792}, {'x': 847, 'y': 847}, {'x': 523, 'y': 847}]}, ['Krupņikovs']), ({'vertices': [{'x': 880, 'y': 792}, {'x': 1062, 'y': 792}, {'x': 1062, 'y': 847}, {'x': 880, 'y': 847}]}, ['Pēteris']), ({'vertices': [{'x': 1091, 'y': 792}, {'x': 1117, 'y': 792}, {'x': 1117, 'y': 847}, {'x': 1091, 'y': 847}]}, ['/']), ({'vertices': [{'x': 1111, 'y': 792}, {'x': 1408, 'y': 792}, {'x': 1408, 'y': 847}, {'x': 1111, 'y': 847}]}, ['Krupnikov']), ({'vertices': [{'x': 1436, 'y': 792}, {'x': 1580, 'y': 792}, {'x': 1580, 'y': 847}, {'x': 1436, 'y': 847}]}, ['Peter']), ({'vertices': [{'x': 1579, 'y': 792}, {'x': 1601, 'y': 792}, {'x': 1601, 'y': 847}, {'x': 1579, 'y': 847}]}, ['/']), ({'vertices': [{'x': 969, 'y': 877}, {'x': 1064, 'y': 876}, {'x': 1064, 'y': 899}, {'x': 969, 'y': 900}]}, ['uzvārds']), ({'vertices': [{'x': 1064, 'y': 877}, {'x': 1072, 'y': 877}, {'x': 1072, 'y': 899}, {'x': 1064, 'y': 899}]}, [',']), ({'vertices': [{'x': 1078, 'y': 877}, {'x': 1145, 'y': 877}, {'x': 1145, 'y': 899}, {'x': 1078, 'y': 899}]}, ['vārds']), ({'vertices': [{'x': 945, 'y': 1017}, {'x': 1080, 'y': 1010}, {'x': 1081, 'y': 1036}, {'x': 946, 'y': 1043}]}, ['personas']), ({'vertices': [{'x': 1090, 'y': 1010}, {'x': 1164, 'y': 1006}, {'x': 1165, 'y': 1032}, {'x': 1091, 'y': 1036}]}, ['kods']), ({'vertices': [{'x': 536, 'y': 1120}, {'x': 654, 'y': 1119}, {'x': 654, 'y': 1161}, {'x': 536, 'y': 1162}]}, ['Itālija']), ({'vertices': [{'x': 655, 'y': 1120}, {'x': 664, 'y': 1120}, {'x': 664, 'y': 1161}, {'x': 655, 'y': 1161}]}, [',']), ({'vertices': [{'x': 678, 'y': 1119}, {'x': 854, 'y': 1118}, {'x': 854, 'y': 1160}, {'x': 678, 'y': 1161}]}, ['Florence']), ({'vertices': [{'x': 856, 'y': 1119}, {'x': 867, 'y': 1119}, {'x': 867, 'y': 1160}, {'x': 856, 'y': 1160}]}, [',']), ({'vertices': [{'x': 884, 'y': 1118}, {'x': 1105, 'y': 1117}, {'x': 1105, 'y': 1159}, {'x': 884, 'y': 1160}]}, ['19.03.1920']), ({'vertices': [{'x': 822, 'y': 1186}, {'x': 947, 'y': 1187}, {'x': 947, 'y': 1214}, {'x': 822, 'y': 1213}]}, ['dzimšanas']), ({'vertices': [{'x': 954, 'y': 1186}, {'x': 1013, 'y': 1186}, {'x': 1013, 'y': 1213}, {'x': 954, 'y': 1213}]}, ['victa']), ({'vertices': [{'x': 1014, 'y': 1186}, {'x': 1021, 'y': 1186}, {'x': 1021, 'y': 1213}, {'x': 1014, 'y': 1213}]}, [',']), ({'vertices': [{'x': 1029, 'y': 1186}, {'x': 1084, 'y': 1186}, {'x': 1084, 'y': 1214}, {'x': 1029, 'y': 1214}]}, ['gads']), ({'vertices': [{'x': 1086, 'y': 1187}, {'x': 1092, 'y': 1187}, {'x': 1092, 'y': 1214}, {'x': 1086, 'y': 1214}]}, [',']), ({'vertices': [{'x': 1100, 'y': 1187}, {'x': 1168, 'y': 1187}, {'x': 1168, 'y': 1214}, {'x': 1100, 'y': 1214}]}, ['diena']), ({'vertices': [{'x': 1168, 'y': 1187}, {'x': 1174, 'y': 1187}, {'x': 1174, 'y': 1214}, {'x': 1168, 'y': 1214}]}, [',']), ({'vertices': [{'x': 1183, 'y': 1187}, {'x': 1280, 'y': 1187}, {'x': 1280, 'y': 1214}, {'x': 1183, 'y': 1214}]}, ['mēnesis']), ({'vertices': [{'x': 1302, 'y': 966}, {'x': 1315, 'y': 966}, {'x': 1315, 'y': 972}, {'x': 1302, 'y': 972}]}, ['13']), ({'vertices': [{'x': 501, 'y': 1386}, {'x': 725, 'y': 1387}, {'x': 725, 'y': 1436}, {'x': 501, 'y': 1435}]}, ['20.02.2009']), ({'vertices': [{'x': 728, 'y': 1387}, {'x': 738, 'y': 1387}, {'x': 738, 'y': 1435}, {'x': 728, 'y': 1435}]}, ['.']), ({'vertices': [{'x': 755, 'y': 1388}, {'x': 830, 'y': 1388}, {'x': 830, 'y': 1436}, {'x': 755, 'y': 1436}]}, ['divi']), ({'vertices': [{'x': 844, 'y': 1388}, {'x': 1000, 'y': 1389}, {'x': 1000, 'y': 1437}, {'x': 844, 'y': 1436}]}, ['tūkstoši']), ({'vertices': [{'x': 1013, 'y': 1389}, {'x': 1135, 'y': 1390}, {'x': 1135, 'y': 1438}, {'x': 1013, 'y': 1437}]}, ['devītā']), ({'vertices': [{'x': 1149, 'y': 1389}, {'x': 1243, 'y': 1389}, {'x': 1243, 'y': 1438}, {'x': 1149, 'y': 1438}]}, ['gada']), ({'vertices': [{'x': 1255, 'y': 1389}, {'x': 1510, 'y': 1390}, {'x': 1510, 'y': 1439}, {'x': 1255, 'y': 1438}]}, ['divdesmitajā']), ({'vertices': [{'x': 1521, 'y': 1390}, {'x': 1683, 'y': 1391}, {'x': 1683, 'y': 1440}, {'x': 1521, 'y': 1439}]}, ['februārī']), ({'vertices': [{'x': 876, 'y': 1459}, {'x': 930, 'y': 1459}, {'x': 930, 'y': 1485}, {'x': 876, 'y': 1485}]}, ['gads']), ({'vertices': [{'x': 930, 'y': 1459}, {'x': 936, 'y': 1459}, {'x': 936, 'y': 1484}, {'x': 930, 'y': 1484}]}, [',']), ({'vertices': [{'x': 946, 'y': 1459}, {'x': 1014, 'y': 1458}, {'x': 1014, 'y': 1483}, {'x': 946, 'y': 1484}]}, ['diena']), ({'vertices': [{'x': 1013, 'y': 1458}, {'x': 1020, 'y': 1458}, {'x': 1020, 'y': 1483}, {'x': 1013, 'y': 1483}]}, [',']), ({'vertices': [{'x': 1028, 'y': 1458}, {'x': 1125, 'y': 1457}, {'x': 1125, 'y': 1483}, {'x': 1028, 'y': 1484}]}, ['mēnesis']), ({'vertices': [{'x': 1126, 'y': 1458}, {'x': 1132, 'y': 1458}, {'x': 1132, 'y': 1483}, {'x': 1126, 'y': 1483}]}, [',']), ({'vertices': [{'x': 1141, 'y': 1457}, {'x': 1234, 'y': 1456}, {'x': 1234, 'y': 1482}, {'x': 1141, 'y': 1483}]}, ['stunda-']), ({'vertices': [{'x': 923, 'y': 1594}, {'x': 1026, 'y': 1592}, {'x': 1026, 'y': 1617}, {'x': 923, 'y': 1619}]}, ['cipariem']), ({'vertices': [{'x': 1036, 'y': 1592}, {'x': 1068, 'y': 1591}, {'x': 1068, 'y': 1616}, {'x': 1036, 'y': 1617}]}, ['un']), ({'vertices': [{'x': 1075, 'y': 1592}, {'x': 1176, 'y': 1590}, {'x': 1176, 'y': 1614}, {'x': 1075, 'y': 1616}]}, ['vārdiem']), ({'vertices': [{'x': 1117, 'y': 1679}, {'x': 1342, 'y': 1679}, {'x': 1342, 'y': 1713}, {'x': 1117, 'y': 1713}]}, ['23.02.2009']), ({'vertices': [{'x': 999, 'y': 1730}, {'x': 1066, 'y': 1730}, {'x': 1066, 'y': 1755}, {'x': 999, 'y': 1755}]}, ['diena']), ({'vertices': [{'x': 1066, 'y': 1730}, {'x': 1074, 'y': 1730}, {'x': 1074, 'y': 1755}, {'x': 1066, 'y': 1755}]}, [',']), ({'vertices': [{'x': 1081, 'y': 1730}, {'x': 1178, 'y': 1730}, {'x': 1178, 'y': 1755}, {'x': 1081, 'y': 1755}]}, ['mēnesis']), ({'vertices': [{'x': 1178, 'y': 1730}, {'x': 1186, 'y': 1730}, {'x': 1186, 'y': 1755}, {'x': 1178, 'y': 1755}]}, [',']), ({'vertices': [{'x': 1195, 'y': 1730}, {'x': 1250, 'y': 1730}, {'x': 1250, 'y': 1756}, {'x': 1195, 'y': 1756}]}, ['gads']), ({'vertices': [{'x': 259, 'y': 1693}, {'x': 324, 'y': 1693}, {'x': 324, 'y': 1732}, {'x': 259, 'y': 1732}]}, ['par']), ({'vertices': [{'x': 332, 'y': 1693}, {'x': 380, 'y': 1693}, {'x': 380, 'y': 1732}, {'x': 332, 'y': 1732}]}, ['ko']), ({'vertices': [{'x': 390, 'y': 1693}, {'x': 562, 'y': 1694}, {'x': 562, 'y': 1734}, {'x': 390, 'y': 1733}]}, ['miršanas']), ({'vertices': [{'x': 573, 'y': 1694}, {'x': 800, 'y': 1695}, {'x': 800, 'y': 1734}, {'x': 573, 'y': 1733}]}, ['reģistrācijas']), ({'vertices': [{'x': 812, 'y': 1695}, {'x': 962, 'y': 1696}, {'x': 962, 'y': 1736}, {'x': 812, 'y': 1735}]}, ['grāmatā']), ({'vertices': [{'x': 681, 'y': 1810}, {'x': 777, 'y': 1810}, {'x': 777, 'y': 1842}, {'x': 681, 'y': 1842}]}, ['1428']), ({'vertices': [{'x': 259, 'y': 1827}, {'x': 403, 'y': 1828}, {'x': 403, 'y': 1859}, {'x': 259, 'y': 1858}]}, ['izdarīts']), ({'vertices': [{'x': 414, 'y': 1828}, {'x': 559, 'y': 1829}, {'x': 559, 'y': 1860}, {'x': 414, 'y': 1859}]}, ['ieraksts']), ({'vertices': [{'x': 572, 'y': 1829}, {'x': 620, 'y': 1829}, {'x': 620, 'y': 1859}, {'x': 572, 'y': 1859}]}, ['Nr']), ({'vertices': [{'x': 621, 'y': 1830}, {'x': 630, 'y': 1830}, {'x': 630, 'y': 1860}, {'x': 621, 'y': 1860}]}, ['.']), ({'vertices': [{'x': 257, 'y': 1965}, {'x': 431, 'y': 1967}, {'x': 431, 'y': 1997}, {'x': 257, 'y': 1995}]}, ['Miršanas']), ({'vertices': [{'x': 443, 'y': 1967}, {'x': 536, 'y': 1968}, {'x': 536, 'y': 1998}, {'x': 443, 'y': 1997}]}, ['vieta']), ({'vertices': [{'x': 257, 'y': 2100}, {'x': 493, 'y': 2097}, {'x': 494, 'y': 2135}, {'x': 258, 'y': 2138}]}, ['Reģistrācijas']), ({'vertices': [{'x': 506, 'y': 2097}, {'x': 598, 'y': 2096}, {'x': 599, 'y': 2133}, {'x': 507, 'y': 2134}]}, ['vieta']), ({'vertices': [{'x': 590, 'y': 2096}, {'x': 604, 'y': 2096}, {'x': 605, 'y': 2133}, {'x': 591, 'y': 2133}]}, ['.']), ({'vertices': [{'x': 928, 'y': 1950}, {'x': 1071, 'y': 1951}, {'x': 1071, 'y': 1993}, {'x': 928, 'y': 1992}]}, ['Latvija']), ({'vertices': [{'x': 1071, 'y': 1952}, {'x': 1081, 'y': 1952}, {'x': 1081, 'y': 1993}, {'x': 1071, 'y': 1993}]}, [',']), ({'vertices': [{'x': 1093, 'y': 1951}, {'x': 1191, 'y': 1952}, {'x': 1191, 'y': 1994}, {'x': 1093, 'y': 1993}]}, ['Rīga']), ({'vertices': [{'x': 841, 'y': 2001}, {'x': 960, 'y': 2002}, {'x': 960, 'y': 2029}, {'x': 841, 'y': 2028}]}, ['republika']), ({'vertices': [{'x': 958, 'y': 2001}, {'x': 965, 'y': 2001}, {'x': 965, 'y': 2028}, {'x': 958, 'y': 2028}]}, [',']), ({'vertices': [{'x': 973, 'y': 2001}, {'x': 1053, 'y': 2001}, {'x': 1053, 'y': 2028}, {'x': 973, 'y': 2028}]}, ['pilsēta']), ({'vertices': [{'x': 1052, 'y': 2001}, {'x': 1059, 'y': 2001}, {'x': 1059, 'y': 2028}, {'x': 1052, 'y': 2028}]}, [',']), ({'vertices': [{'x': 1067, 'y': 2002}, {'x': 1155, 'y': 2002}, {'x': 1155, 'y': 2029}, {'x': 1067, 'y': 2029}]}, ['novads']), ({'vertices': [{'x': 1153, 'y': 2002}, {'x': 1161, 'y': 2002}, {'x': 1161, 'y': 2029}, {'x': 1153, 'y': 2029}]}, [',']), ({'vertices': [{'x': 1169, 'y': 2002}, {'x': 1258, 'y': 2002}, {'x': 1258, 'y': 2029}, {'x': 1169, 'y': 2029}]}, ['pagasts']), ({'vertices': [{'x': 693, 'y': 2068}, {'x': 807, 'y': 2068}, {'x': 807, 'y': 2112}, {'x': 693, 'y': 2112}]}, ['Rīgas']), ({'vertices': [{'x': 820, 'y': 2067}, {'x': 970, 'y': 2066}, {'x': 970, 'y': 2110}, {'x': 820, 'y': 2111}]}, ['pilsētas']), ({'vertices': [{'x': 984, 'y': 2067}, {'x': 1271, 'y': 2066}, {'x': 1271, 'y': 2110}, {'x': 984, 'y': 2111}]}, ['Dzimtsarakstu']), ({'vertices': [{'x': 1283, 'y': 2065}, {'x': 1418, 'y': 2064}, {'x': 1418, 'y': 2108}, {'x': 1283, 'y': 2109}]}, ['nodaļa']), ({'vertices': [{'x': 1415, 'y': 2065}, {'x': 1425, 'y': 2065}, {'x': 1425, 'y': 2108}, {'x': 1415, 'y': 2108}]}, ['.']), ({'vertices': [{'x': 836, 'y': 2135}, {'x': 1007, 'y': 2135}, {'x': 1007, 'y': 2160}, {'x': 836, 'y': 2160}]}, ['dzimtsarakstu']), ({'vertices': [{'x': 1015, 'y': 2135}, {'x': 1107, 'y': 2135}, {'x': 1107, 'y': 2160}, {'x': 1015, 'y': 2160}]}, ['nodaļas']), ({'vertices': [{'x': 1115, 'y': 2135}, {'x': 1255, 'y': 2135}, {'x': 1255, 'y': 2160}, {'x': 1115, 'y': 2160}]}, ['nosaukums']), ({'vertices': [{'x': 1173, 'y': 2212}, {'x': 1273, 'y': 2213}, {'x': 1273, 'y': 2246}, {'x': 1173, 'y': 2245}]}, ['2009']), ({'vertices': [{'x': 1276, 'y': 2212}, {'x': 1286, 'y': 2212}, {'x': 1286, 'y': 2245}, {'x': 1276, 'y': 2245}]}, ['.']), ({'vertices': [{'x': 1491, 'y': 2212}, {'x': 1541, 'y': 2213}, {'x': 1540, 'y': 2247}, {'x': 1490, 'y': 2246}]}, ['23']), ({'vertices': [{'x': 1545, 'y': 2212}, {'x': 1555, 'y': 2212}, {'x': 1554, 'y': 2246}, {'x': 1544, 'y': 2246}]}, ['.']), ({'vertices': [{'x': 1612, 'y': 2213}, {'x': 1772, 'y': 2213}, {'x': 1772, 'y': 2246}, {'x': 1612, 'y': 2246}]}, ['februārī']), ({'vertices': [{'x': 688, 'y': 2232}, {'x': 873, 'y': 2233}, {'x': 873, 'y': 2272}, {'x': 688, 'y': 2271}]}, ['Apliecība']), ({'vertices': [{'x': 886, 'y': 2233}, {'x': 1054, 'y': 2234}, {'x': 1054, 'y': 2273}, {'x': 886, 'y': 2272}]}, ['izsniegta']), ({'vertices': [{'x': 1313, 'y': 2234}, {'x': 1398, 'y': 2231}, {'x': 1399, 'y': 2269}, {'x': 1314, 'y': 2272}]}, ['gada']), ({'vertices': [{'x': 363, 'y': 2396}, {'x': 429, 'y': 2400}, {'x': 427, 'y': 2427}, {'x': 361, 'y': 2423}]}, ['Zv']), ({'vertices': [{'x': 676, 'y': 2457}, {'x': 951, 'y': 2460}, {'x': 951, 'y': 2499}, {'x': 676, 'y': 2496}]}, ['Dzimtsarakstu']), ({'vertices': [{'x': 962, 'y': 2460}, {'x': 1109, 'y': 2461}, {'x': 1109, 'y': 2500}, {'x': 962, 'y': 2499}]}, ['nodaļas']), ({'vertices': [{'x': 1122, 'y': 2462}, {'x': 1272, 'y': 2463}, {'x': 1272, 'y': 2501}, {'x': 1122, 'y': 2500}]}, ['vadītājs']), ({'vertices': [{'x': 1407, 'y': 2375}, {'x': 1687, 'y': 2381}, {'x': 1684, 'y': 2504}, {'x': 1404, 'y': 2498}]}, ['Bar']), ({'vertices': [{'x': 1653, 'y': 2380}, {'x': 1752, 'y': 2382}, {'x': 1749, 'y': 2505}, {'x': 1650, 'y': 2503}]}, ['&']), ({'vertices': [{'x': 1709, 'y': 2381}, {'x': 1860, 'y': 2384}, {'x': 1857, 'y': 2507}, {'x': 1706, 'y': 2504}]}, ['Papko'])], 'entity_types': {'ORG': ['LATVIJAS REPUBLIKA MIRŠANAS APLIECĪBA', 'Itālija, Florence', 'divi tūkstoši', 'un', 'Bar & Papko'], 'PERSON': ['Krupņikovs Pēteris', 'ko miršanas reģistrācijas grāmatā', 'Miršanas vieta', 'Rīgas', 'dzimtsarakstu nodaļas', 'februārī Apliecība', 'Zv Dzimtsarakstu'], 'CARDINAL': ['19.03.1920', '13', '23.02.2009', '23'], 'DATE': ['1428', '2009'], 'GPE': ['Reģistrācijas', 'Latvija', 'Rīga', 'Dzimtsarakstu']}, 'top_title': ['page of Testimony', 'דף עד'], 'Production date': '2009'}\n"
     ]
    },
    {
     "name": "stderr",
     "output_type": "stream",
     "text": [
      "WARNING:absl:Compiled the loaded model, but the compiled metrics have yet to be built. `model.compile_metrics` will be empty until you train or evaluate the model.\n"
     ]
    },
    {
     "name": "stdout",
     "output_type": "stream",
     "text": [
      "data_practucom/test\\documents_with_json\\10282556_1.json 😄 Testimony page including a photograph\n"
     ]
    },
    {
     "name": "stderr",
     "output_type": "stream",
     "text": [
      "WARNING:absl:Compiled the loaded model, but the compiled metrics have yet to be built. `model.compile_metrics` will be empty until you train or evaluate the model.\n"
     ]
    },
    {
     "name": "stdout",
     "output_type": "stream",
     "text": [
      "eeeeeeeeeeeeeeeeeeeeeeeeeeeee\n",
      "(48, 217.5)\n",
      "10.11.1988\n",
      "uuuuuuuuuuuuuuuuuuuuu {'page type': 'Testimony page including a photograph', 'data_Languages': [('German', 0.5098535), ('English', 0.1568963), ('Lithuanian', 0.054691616)], 'full_desc_with_verices': ({'text': 'EISINGEROVA, Gertruda verh. REICHOVA 135 443 jüd. 17.6.1923 i. Vistuk 4/42-8/44 1. Auschwitz 8/44-3/45 i. KL Siegenheim, d.n. Allendorf h.Nr. 7 282, beschäft. b. Dynamit- Nobel 28.3.1945 i. Siegenheim befreit COMPENSATION TREUHAND GMBH, Frankfurt 2.11.1988 10.11.1988 GW'}, {'vertices': [{'x': 102, 'y': 48}, {'x': 1106, 'y': 48}, {'x': 1106, 'y': 726}, {'x': 102, 'y': 726}]}), 'words': [({'vertices': [{'x': 102, 'y': 48}, {'x': 1106, 'y': 48}, {'x': 1106, 'y': 726}, {'x': 102, 'y': 726}]}, ['EISINGEROVA, Gertruda', 'verh. REICHOVA', '135 443', 'jüd.', '17.6.1923 i. Vistuk', '4/42-8/44 1. Auschwitz', '8/44-3/45 i. KL Siegenheim, d.n. Allendorf', 'h.Nr. 7 282, beschäft. b. Dynamit-', 'Nobel', '28.3.1945', 'i. Siegenheim befreit', 'COMPENSATION TREUHAND GMBH, Frankfurt', '2.11.1988', '10.11.1988 GW']), ({'vertices': [{'x': 267, 'y': 51}, {'x': 494, 'y': 55}, {'x': 493, 'y': 84}, {'x': 267, 'y': 80}]}, ['EISINGEROVA']), ({'vertices': [{'x': 497, 'y': 55}, {'x': 509, 'y': 55}, {'x': 509, 'y': 83}, {'x': 497, 'y': 83}]}, [',']), ({'vertices': [{'x': 533, 'y': 54}, {'x': 697, 'y': 53}, {'x': 697, 'y': 78}, {'x': 533, 'y': 79}]}, ['Gertruda']), ({'vertices': [{'x': 328, 'y': 94}, {'x': 409, 'y': 93}, {'x': 409, 'y': 120}, {'x': 328, 'y': 121}]}, ['verh']), ({'vertices': [{'x': 414, 'y': 93}, {'x': 425, 'y': 93}, {'x': 425, 'y': 119}, {'x': 414, 'y': 119}]}, ['.']), ({'vertices': [{'x': 452, 'y': 92}, {'x': 615, 'y': 90}, {'x': 615, 'y': 117}, {'x': 452, 'y': 119}]}, ['REICHOVA']), ({'vertices': [{'x': 907, 'y': 55}, {'x': 999, 'y': 56}, {'x': 999, 'y': 84}, {'x': 907, 'y': 83}]}, ['135']), ({'vertices': [{'x': 1017, 'y': 55}, {'x': 1106, 'y': 56}, {'x': 1106, 'y': 84}, {'x': 1017, 'y': 83}]}, ['443']), ({'vertices': [{'x': 953, 'y': 242}, {'x': 1013, 'y': 242}, {'x': 1013, 'y': 271}, {'x': 953, 'y': 271}]}, ['jüd']), ({'vertices': [{'x': 1016, 'y': 242}, {'x': 1029, 'y': 242}, {'x': 1029, 'y': 271}, {'x': 1016, 'y': 271}]}, ['.']), ({'vertices': [{'x': 290, 'y': 303}, {'x': 472, 'y': 301}, {'x': 472, 'y': 331}, {'x': 290, 'y': 333}]}, ['17.6.1923']), ({'vertices': [{'x': 495, 'y': 301}, {'x': 513, 'y': 301}, {'x': 513, 'y': 330}, {'x': 495, 'y': 330}]}, ['i']), ({'vertices': [{'x': 518, 'y': 301}, {'x': 529, 'y': 301}, {'x': 529, 'y': 330}, {'x': 518, 'y': 330}]}, ['.']), ({'vertices': [{'x': 554, 'y': 300}, {'x': 680, 'y': 299}, {'x': 680, 'y': 329}, {'x': 554, 'y': 330}]}, ['Vistuk']), ({'vertices': [{'x': 141, 'y': 360}, {'x': 163, 'y': 360}, {'x': 163, 'y': 393}, {'x': 141, 'y': 393}]}, ['4']), ({'vertices': [{'x': 163, 'y': 359}, {'x': 184, 'y': 359}, {'x': 184, 'y': 392}, {'x': 163, 'y': 392}]}, ['/']), ({'vertices': [{'x': 182, 'y': 359}, {'x': 267, 'y': 358}, {'x': 267, 'y': 391}, {'x': 182, 'y': 392}]}, ['42-8']), ({'vertices': [{'x': 268, 'y': 358}, {'x': 288, 'y': 358}, {'x': 288, 'y': 391}, {'x': 268, 'y': 391}]}, ['/']), ({'vertices': [{'x': 287, 'y': 357}, {'x': 329, 'y': 356}, {'x': 329, 'y': 390}, {'x': 287, 'y': 391}]}, ['44']), ({'vertices': [{'x': 370, 'y': 356}, {'x': 404, 'y': 356}, {'x': 404, 'y': 390}, {'x': 370, 'y': 390}]}, ['1.']), ({'vertices': [{'x': 431, 'y': 356}, {'x': 616, 'y': 354}, {'x': 616, 'y': 387}, {'x': 431, 'y': 389}]}, ['Auschwitz']), ({'vertices': [{'x': 141, 'y': 399}, {'x': 161, 'y': 399}, {'x': 161, 'y': 433}, {'x': 141, 'y': 433}]}, ['8']), ({'vertices': [{'x': 164, 'y': 398}, {'x': 183, 'y': 398}, {'x': 183, 'y': 432}, {'x': 164, 'y': 432}]}, ['/']), ({'vertices': [{'x': 182, 'y': 398}, {'x': 264, 'y': 397}, {'x': 264, 'y': 431}, {'x': 182, 'y': 432}]}, ['44-3']), ({'vertices': [{'x': 266, 'y': 397}, {'x': 286, 'y': 397}, {'x': 286, 'y': 431}, {'x': 266, 'y': 431}]}, ['/']), ({'vertices': [{'x': 286, 'y': 397}, {'x': 327, 'y': 397}, {'x': 327, 'y': 431}, {'x': 286, 'y': 431}]}, ['45']), ({'vertices': [{'x': 370, 'y': 396}, {'x': 389, 'y': 396}, {'x': 389, 'y': 430}, {'x': 370, 'y': 430}]}, ['i']), ({'vertices': [{'x': 395, 'y': 396}, {'x': 405, 'y': 396}, {'x': 405, 'y': 430}, {'x': 395, 'y': 430}]}, ['.']), ({'vertices': [{'x': 431, 'y': 395}, {'x': 473, 'y': 395}, {'x': 473, 'y': 429}, {'x': 431, 'y': 429}]}, ['KL']), ({'vertices': [{'x': 495, 'y': 394}, {'x': 699, 'y': 392}, {'x': 699, 'y': 427}, {'x': 495, 'y': 429}]}, ['Siegenheim']), ({'vertices': [{'x': 706, 'y': 392}, {'x': 716, 'y': 392}, {'x': 716, 'y': 426}, {'x': 706, 'y': 426}]}, [',']), ({'vertices': [{'x': 742, 'y': 391}, {'x': 819, 'y': 390}, {'x': 819, 'y': 425}, {'x': 742, 'y': 426}]}, ['d.n.']), ({'vertices': [{'x': 846, 'y': 390}, {'x': 1034, 'y': 388}, {'x': 1034, 'y': 423}, {'x': 846, 'y': 425}]}, ['Allendorf']), ({'vertices': [{'x': 370, 'y': 434}, {'x': 467, 'y': 434}, {'x': 467, 'y': 467}, {'x': 370, 'y': 467}]}, ['h.Nr.']), ({'vertices': [{'x': 497, 'y': 434}, {'x': 514, 'y': 434}, {'x': 514, 'y': 466}, {'x': 497, 'y': 466}]}, ['7']), ({'vertices': [{'x': 537, 'y': 434}, {'x': 596, 'y': 434}, {'x': 596, 'y': 466}, {'x': 537, 'y': 466}]}, ['282']), ({'vertices': [{'x': 603, 'y': 433}, {'x': 613, 'y': 433}, {'x': 613, 'y': 465}, {'x': 603, 'y': 465}]}, [',']), ({'vertices': [{'x': 641, 'y': 433}, {'x': 804, 'y': 432}, {'x': 804, 'y': 465}, {'x': 641, 'y': 466}]}, ['beschäft']), ({'vertices': [{'x': 810, 'y': 432}, {'x': 820, 'y': 432}, {'x': 820, 'y': 464}, {'x': 810, 'y': 464}]}, ['.']), ({'vertices': [{'x': 847, 'y': 432}, {'x': 865, 'y': 432}, {'x': 865, 'y': 464}, {'x': 847, 'y': 464}]}, ['b']), ({'vertices': [{'x': 872, 'y': 432}, {'x': 883, 'y': 432}, {'x': 883, 'y': 464}, {'x': 872, 'y': 464}]}, ['.']), ({'vertices': [{'x': 909, 'y': 432}, {'x': 1072, 'y': 431}, {'x': 1072, 'y': 463}, {'x': 909, 'y': 464}]}, ['Dynamit-']), ({'vertices': [{'x': 370, 'y': 475}, {'x': 474, 'y': 475}, {'x': 474, 'y': 499}, {'x': 370, 'y': 499}]}, ['Nobel']), ({'vertices': [{'x': 102, 'y': 516}, {'x': 286, 'y': 514}, {'x': 286, 'y': 543}, {'x': 102, 'y': 545}]}, ['28.3.1945']), ({'vertices': [{'x': 374, 'y': 515}, {'x': 391, 'y': 515}, {'x': 391, 'y': 545}, {'x': 374, 'y': 545}]}, ['i']), ({'vertices': [{'x': 396, 'y': 514}, {'x': 406, 'y': 514}, {'x': 406, 'y': 544}, {'x': 396, 'y': 544}]}, ['.']), ({'vertices': [{'x': 435, 'y': 513}, {'x': 640, 'y': 510}, {'x': 640, 'y': 541}, {'x': 435, 'y': 544}]}, ['Siegenheim']), ({'vertices': [{'x': 662, 'y': 510}, {'x': 805, 'y': 508}, {'x': 805, 'y': 538}, {'x': 662, 'y': 540}]}, ['befreit']), ({'vertices': [{'x': 164, 'y': 607}, {'x': 413, 'y': 606}, {'x': 413, 'y': 634}, {'x': 164, 'y': 635}]}, ['COMPENSATION']), ({'vertices': [{'x': 434, 'y': 606}, {'x': 599, 'y': 605}, {'x': 599, 'y': 633}, {'x': 434, 'y': 634}]}, ['TREUHAND']), ({'vertices': [{'x': 621, 'y': 605}, {'x': 702, 'y': 605}, {'x': 702, 'y': 633}, {'x': 621, 'y': 633}]}, ['GMBH']), ({'vertices': [{'x': 708, 'y': 605}, {'x': 719, 'y': 605}, {'x': 719, 'y': 632}, {'x': 708, 'y': 632}]}, [',']), ({'vertices': [{'x': 746, 'y': 604}, {'x': 930, 'y': 604}, {'x': 930, 'y': 629}, {'x': 746, 'y': 629}]}, ['Frankfurt']), ({'vertices': [{'x': 166, 'y': 646}, {'x': 351, 'y': 646}, {'x': 351, 'y': 674}, {'x': 166, 'y': 674}]}, ['2.11.1988']), ({'vertices': [{'x': 749, 'y': 698}, {'x': 952, 'y': 696}, {'x': 952, 'y': 724}, {'x': 749, 'y': 726}]}, ['10.11.1988']), ({'vertices': [{'x': 973, 'y': 696}, {'x': 1016, 'y': 696}, {'x': 1016, 'y': 723}, {'x': 973, 'y': 723}]}, ['GW'])], 'entity_types': {'ORG': ['EISINGEROVA', 'GW'], 'PERSON': ['Gertruda', 'd.n', 'Allendorf h.Nr', 'b.'], 'CARDINAL': ['135 443', '17.6.1923', '7 282'], 'PRODUCT': ['Auschwitz 8/44-3/45'], 'GPE': ['Siegenheim', 'Siegenheim', 'Frankfurt'], 'DATE': ['10.11.1988']}, 'top_title': ['page of Testimony', 'דף עד'], 'Production date': '10.11.1988'}\n"
     ]
    },
    {
     "name": "stderr",
     "output_type": "stream",
     "text": [
      "WARNING:absl:Compiled the loaded model, but the compiled metrics have yet to be built. `model.compile_metrics` will be empty until you train or evaluate the model.\n"
     ]
    },
    {
     "name": "stdout",
     "output_type": "stream",
     "text": [
      "data_practucom/test\\documents_with_json\\10545451_1.json 😄 Testimony page including a photograph\n"
     ]
    },
    {
     "name": "stderr",
     "output_type": "stream",
     "text": [
      "WARNING:absl:Compiled the loaded model, but the compiled metrics have yet to be built. `model.compile_metrics` will be empty until you train or evaluate the model.\n",
      "WARNING:absl:Compiled the loaded model, but the compiled metrics have yet to be built. `model.compile_metrics` will be empty until you train or evaluate the model.\n"
     ]
    },
    {
     "name": "stdout",
     "output_type": "stream",
     "text": [
      "eeeeeeeeeeeeeeeeeeeeeeeeeeeee\n",
      "(119, 482.5)\n",
      "12.2.1962\n",
      "uuuuuuuuuuuuuuuuuuuuu {'page type': 'Testimony page including a photograph', 'data_Languages': [('German', 0.7952433), ('English', 0.07918007), ('French', 0.0325287), ('Spanish', 0.020961924)], 'full_desc_with_verices': ({'text': 'Besirkssnt f. Viedergutmachung Reg. Hr 71 394 Abt. B An dan Internationalan Suchdienst 5548 Arola en / Waldeok 55 Trier, den Brotatr. 8-9 Betr. Entschädigungusache Henry TOVEY geb am 15.Juni 1923 Lodz /Polen in 16.August 1966 Ki/Qu Frühere Statsangehörigkeit polnisch Dortiges A. 2.: T/D - Nr.1 209 327 bieri Krankenpapiere aus ehem. Österr. DP-Lagern. Bezugt Dortige Sohreiben von 20.10.1961, 20.12.1961, 12.2.1962. Der xxx obige Antragsteller/xx gibt in seinem xxxxxx hier gestellten Antrag an, daß er in den nachfolgenden benannten ehemaligen Ostery, DP-Lagern zu den angegebenen Zeiten in arstlicher Behand- lung wari 1945/1946 Bergen-Belsen, Zeilsheim Wir bitten un Überprüfung, ob dort Krankenpapiere, Aufzeichnungen, Röntgenaufnahmen usw. für den xxx obige/n Antragsteller xxx vorhan- den sind und un deren Übersendung. Vir hitten, die überprüfung auch unter den früheren Namen des xxx Antragstellera xxx Henryk Choroszez Torsunehon Im rage:'}, {'vertices': [{'x': 189, 'y': 119}, {'x': 1192, 'y': 119}, {'x': 1192, 'y': 1573}, {'x': 189, 'y': 1573}]}), 'words': [({'vertices': [{'x': 189, 'y': 119}, {'x': 1192, 'y': 119}, {'x': 1192, 'y': 1573}, {'x': 189, 'y': 1573}]}, ['Besirkssnt', 'f. Viedergutmachung', 'Reg. Hr', '71 394', 'Abt. B', 'An dan', 'Internationalan Suchdienst', '5548 Arola en / Waldeok', '55 Trier, den', 'Brotatr. 8-9', 'Betr. Entschädigungusache', 'Henry', 'TOVEY', 'geb am 15.Juni 1923', 'Lodz /Polen', 'in', '16.August 1966', 'Ki/Qu', 'Frühere Statsangehörigkeit polnisch', 'Dortiges A. 2.: T/D - Nr.1', '209 327', 'bieri Krankenpapiere aus ehem. Österr. DP-Lagern.', 'Bezugt Dortige Sohreiben von 20.10.1961, 20.12.1961, 12.2.1962.', 'Der xxx obige Antragsteller/xx gibt in seinem xxxxxx hier gestellten', 'Antrag an, daß er in den nachfolgenden benannten ehemaligen', 'Ostery, DP-Lagern zu den angegebenen Zeiten in arstlicher Behand-', 'lung wari', '1945/1946 Bergen-Belsen, Zeilsheim', 'Wir bitten un Überprüfung, ob dort Krankenpapiere, Aufzeichnungen,', 'Röntgenaufnahmen usw. für den xxx obige/n Antragsteller xxx vorhan-', 'den sind und un deren Übersendung.', 'Vir hitten, die überprüfung auch unter den früheren Namen des xxx', 'Antragstellera xxx Henryk Choroszez', 'Torsunehon', 'Im', 'rage:']), ({'vertices': [{'x': 218, 'y': 120}, {'x': 503, 'y': 127}, {'x': 502, 'y': 147}, {'x': 218, 'y': 140}]}, ['Besirkssnt']), ({'vertices': [{'x': 217, 'y': 158}, {'x': 235, 'y': 159}, {'x': 234, 'y': 179}, {'x': 216, 'y': 179}]}, ['f']), ({'vertices': [{'x': 233, 'y': 158}, {'x': 248, 'y': 158}, {'x': 247, 'y': 179}, {'x': 232, 'y': 179}]}, ['.']), ({'vertices': [{'x': 261, 'y': 158}, {'x': 502, 'y': 165}, {'x': 501, 'y': 187}, {'x': 260, 'y': 180}]}, ['Viedergutmachung']), ({'vertices': [{'x': 214, 'y': 269}, {'x': 264, 'y': 269}, {'x': 264, 'y': 291}, {'x': 214, 'y': 291}]}, ['Reg']), ({'vertices': [{'x': 261, 'y': 269}, {'x': 278, 'y': 269}, {'x': 278, 'y': 291}, {'x': 261, 'y': 291}]}, ['.']), ({'vertices': [{'x': 287, 'y': 269}, {'x': 324, 'y': 269}, {'x': 324, 'y': 291}, {'x': 287, 'y': 291}]}, ['Hr']), ({'vertices': [{'x': 361, 'y': 264}, {'x': 389, 'y': 265}, {'x': 389, 'y': 283}, {'x': 361, 'y': 282}]}, ['71']), ({'vertices': [{'x': 405, 'y': 264}, {'x': 449, 'y': 265}, {'x': 449, 'y': 284}, {'x': 405, 'y': 283}]}, ['394']), ({'vertices': [{'x': 496, 'y': 274}, {'x': 545, 'y': 274}, {'x': 545, 'y': 294}, {'x': 496, 'y': 294}]}, ['Abt']), ({'vertices': [{'x': 545, 'y': 274}, {'x': 562, 'y': 274}, {'x': 562, 'y': 294}, {'x': 545, 'y': 294}]}, ['.']), ({'vertices': [{'x': 571, 'y': 274}, {'x': 589, 'y': 274}, {'x': 589, 'y': 294}, {'x': 571, 'y': 294}]}, ['B']), ({'vertices': [{'x': 215, 'y': 330}, {'x': 245, 'y': 330}, {'x': 245, 'y': 346}, {'x': 215, 'y': 346}]}, ['An']), ({'vertices': [{'x': 259, 'y': 330}, {'x': 303, 'y': 330}, {'x': 303, 'y': 346}, {'x': 259, 'y': 346}]}, ['dan']), ({'vertices': [{'x': 215, 'y': 363}, {'x': 438, 'y': 368}, {'x': 438, 'y': 388}, {'x': 215, 'y': 383}]}, ['Internationalan']), ({'vertices': [{'x': 452, 'y': 368}, {'x': 600, 'y': 371}, {'x': 600, 'y': 391}, {'x': 452, 'y': 388}]}, ['Suchdienst']), ({'vertices': [{'x': 210, 'y': 446}, {'x': 272, 'y': 447}, {'x': 272, 'y': 470}, {'x': 210, 'y': 469}]}, ['5548']), ({'vertices': [{'x': 298, 'y': 448}, {'x': 437, 'y': 451}, {'x': 437, 'y': 474}, {'x': 298, 'y': 471}]}, ['Arola']), ({'vertices': [{'x': 449, 'y': 451}, {'x': 499, 'y': 452}, {'x': 499, 'y': 474}, {'x': 449, 'y': 473}]}, ['en']), ({'vertices': [{'x': 509, 'y': 452}, {'x': 525, 'y': 452}, {'x': 525, 'y': 474}, {'x': 509, 'y': 474}]}, ['/']), ({'vertices': [{'x': 538, 'y': 453}, {'x': 644, 'y': 455}, {'x': 644, 'y': 477}, {'x': 538, 'y': 475}]}, ['Waldeok']), ({'vertices': [{'x': 736, 'y': 134}, {'x': 767, 'y': 134}, {'x': 767, 'y': 157}, {'x': 736, 'y': 157}]}, ['55']), ({'vertices': [{'x': 797, 'y': 134}, {'x': 871, 'y': 134}, {'x': 871, 'y': 157}, {'x': 797, 'y': 157}]}, ['Trier']), ({'vertices': [{'x': 875, 'y': 134}, {'x': 884, 'y': 134}, {'x': 884, 'y': 157}, {'x': 875, 'y': 157}]}, [',']), ({'vertices': [{'x': 901, 'y': 134}, {'x': 945, 'y': 134}, {'x': 945, 'y': 158}, {'x': 901, 'y': 158}]}, ['den']), ({'vertices': [{'x': 796, 'y': 169}, {'x': 901, 'y': 172}, {'x': 900, 'y': 193}, {'x': 795, 'y': 190}]}, ['Brotatr']), ({'vertices': [{'x': 903, 'y': 173}, {'x': 912, 'y': 173}, {'x': 911, 'y': 193}, {'x': 902, 'y': 193}]}, ['.']), ({'vertices': [{'x': 930, 'y': 173}, {'x': 975, 'y': 174}, {'x': 974, 'y': 195}, {'x': 929, 'y': 194}]}, ['8-9']), ({'vertices': [{'x': 209, 'y': 592}, {'x': 269, 'y': 593}, {'x': 268, 'y': 616}, {'x': 208, 'y': 615}]}, ['Betr']), ({'vertices': [{'x': 270, 'y': 594}, {'x': 286, 'y': 594}, {'x': 285, 'y': 616}, {'x': 269, 'y': 616}]}, ['.']), ({'vertices': [{'x': 324, 'y': 595}, {'x': 608, 'y': 602}, {'x': 607, 'y': 625}, {'x': 323, 'y': 618}]}, ['Entschädigungusache']), ({'vertices': [{'x': 668, 'y': 594}, {'x': 742, 'y': 595}, {'x': 742, 'y': 616}, {'x': 668, 'y': 615}]}, ['Henry']), ({'vertices': [{'x': 772, 'y': 595}, {'x': 905, 'y': 596}, {'x': 905, 'y': 614}, {'x': 772, 'y': 613}]}, ['TOVEY']), ({'vertices': [{'x': 324, 'y': 657}, {'x': 373, 'y': 656}, {'x': 374, 'y': 680}, {'x': 325, 'y': 681}]}, ['geb']), ({'vertices': [{'x': 399, 'y': 655}, {'x': 429, 'y': 654}, {'x': 430, 'y': 677}, {'x': 400, 'y': 678}]}, ['am']), ({'vertices': [{'x': 460, 'y': 653}, {'x': 562, 'y': 650}, {'x': 563, 'y': 674}, {'x': 461, 'y': 677}]}, ['15.Juni']), ({'vertices': [{'x': 577, 'y': 650}, {'x': 636, 'y': 648}, {'x': 637, 'y': 672}, {'x': 578, 'y': 674}]}, ['1923']), ({'vertices': [{'x': 757, 'y': 651}, {'x': 816, 'y': 652}, {'x': 816, 'y': 674}, {'x': 757, 'y': 673}]}, ['Lodz']), ({'vertices': [{'x': 830, 'y': 653}, {'x': 845, 'y': 653}, {'x': 845, 'y': 674}, {'x': 830, 'y': 674}]}, ['/']), ({'vertices': [{'x': 845, 'y': 653}, {'x': 920, 'y': 654}, {'x': 920, 'y': 675}, {'x': 845, 'y': 674}]}, ['Polen']), ({'vertices': [{'x': 669, 'y': 666}, {'x': 696, 'y': 667}, {'x': 696, 'y': 680}, {'x': 669, 'y': 679}]}, ['in']), ({'vertices': [{'x': 981, 'y': 134}, {'x': 1115, 'y': 135}, {'x': 1115, 'y': 159}, {'x': 981, 'y': 158}]}, ['16.August']), ({'vertices': [{'x': 1129, 'y': 136}, {'x': 1188, 'y': 136}, {'x': 1188, 'y': 159}, {'x': 1129, 'y': 159}]}, ['1966']), ({'vertices': [{'x': 1026, 'y': 171}, {'x': 1056, 'y': 171}, {'x': 1056, 'y': 193}, {'x': 1026, 'y': 193}]}, ['Ki']), ({'vertices': [{'x': 1056, 'y': 171}, {'x': 1073, 'y': 171}, {'x': 1073, 'y': 193}, {'x': 1056, 'y': 193}]}, ['/']), ({'vertices': [{'x': 1070, 'y': 171}, {'x': 1101, 'y': 171}, {'x': 1101, 'y': 193}, {'x': 1070, 'y': 193}]}, ['Qu']), ({'vertices': [{'x': 324, 'y': 715}, {'x': 427, 'y': 717}, {'x': 426, 'y': 741}, {'x': 323, 'y': 739}]}, ['Frühere']), ({'vertices': [{'x': 443, 'y': 718}, {'x': 726, 'y': 724}, {'x': 725, 'y': 748}, {'x': 442, 'y': 742}]}, ['Statsangehörigkeit']), ({'vertices': [{'x': 756, 'y': 725}, {'x': 874, 'y': 728}, {'x': 873, 'y': 752}, {'x': 755, 'y': 749}]}, ['polnisch']), ({'vertices': [{'x': 322, 'y': 777}, {'x': 442, 'y': 779}, {'x': 442, 'y': 802}, {'x': 322, 'y': 800}]}, ['Dortiges']), ({'vertices': [{'x': 455, 'y': 780}, {'x': 486, 'y': 781}, {'x': 486, 'y': 803}, {'x': 455, 'y': 802}]}, ['A.']), ({'vertices': [{'x': 485, 'y': 780}, {'x': 503, 'y': 780}, {'x': 503, 'y': 802}, {'x': 485, 'y': 802}]}, ['2']), ({'vertices': [{'x': 504, 'y': 781}, {'x': 529, 'y': 781}, {'x': 529, 'y': 803}, {'x': 504, 'y': 803}]}, ['.:']), ({'vertices': [{'x': 546, 'y': 781}, {'x': 564, 'y': 781}, {'x': 564, 'y': 803}, {'x': 546, 'y': 803}]}, ['T']), ({'vertices': [{'x': 561, 'y': 782}, {'x': 579, 'y': 782}, {'x': 579, 'y': 804}, {'x': 561, 'y': 804}]}, ['/']), ({'vertices': [{'x': 573, 'y': 782}, {'x': 592, 'y': 782}, {'x': 592, 'y': 804}, {'x': 573, 'y': 804}]}, ['D']), ({'vertices': [{'x': 607, 'y': 782}, {'x': 621, 'y': 782}, {'x': 621, 'y': 804}, {'x': 607, 'y': 804}]}, ['-']), ({'vertices': [{'x': 635, 'y': 783}, {'x': 692, 'y': 784}, {'x': 692, 'y': 806}, {'x': 635, 'y': 805}]}, ['Nr.1']), ({'vertices': [{'x': 770, 'y': 788}, {'x': 814, 'y': 788}, {'x': 814, 'y': 806}, {'x': 770, 'y': 806}]}, ['209']), ({'vertices': [{'x': 830, 'y': 788}, {'x': 873, 'y': 788}, {'x': 873, 'y': 806}, {'x': 830, 'y': 806}]}, ['327']), ({'vertices': [{'x': 321, 'y': 835}, {'x': 395, 'y': 836}, {'x': 394, 'y': 862}, {'x': 321, 'y': 861}]}, ['bieri']), ({'vertices': [{'x': 426, 'y': 837}, {'x': 633, 'y': 841}, {'x': 632, 'y': 867}, {'x': 426, 'y': 863}]}, ['Krankenpapiere']), ({'vertices': [{'x': 650, 'y': 841}, {'x': 693, 'y': 842}, {'x': 693, 'y': 868}, {'x': 650, 'y': 867}]}, ['aus']), ({'vertices': [{'x': 709, 'y': 842}, {'x': 771, 'y': 843}, {'x': 771, 'y': 869}, {'x': 709, 'y': 868}]}, ['ehem']), ({'vertices': [{'x': 772, 'y': 844}, {'x': 781, 'y': 844}, {'x': 781, 'y': 869}, {'x': 772, 'y': 869}]}, ['.']), ({'vertices': [{'x': 798, 'y': 844}, {'x': 885, 'y': 846}, {'x': 884, 'y': 872}, {'x': 798, 'y': 870}]}, ['Österr']), ({'vertices': [{'x': 888, 'y': 846}, {'x': 896, 'y': 846}, {'x': 896, 'y': 871}, {'x': 888, 'y': 871}]}, ['.']), ({'vertices': [{'x': 914, 'y': 847}, {'x': 946, 'y': 848}, {'x': 946, 'y': 873}, {'x': 914, 'y': 872}]}, ['DP']), ({'vertices': [{'x': 944, 'y': 847}, {'x': 958, 'y': 847}, {'x': 958, 'y': 872}, {'x': 944, 'y': 872}]}, ['-']), ({'vertices': [{'x': 959, 'y': 847}, {'x': 1049, 'y': 849}, {'x': 1048, 'y': 875}, {'x': 959, 'y': 873}]}, ['Lagern']), ({'vertices': [{'x': 1051, 'y': 849}, {'x': 1061, 'y': 849}, {'x': 1061, 'y': 874}, {'x': 1051, 'y': 874}]}, ['.']), ({'vertices': [{'x': 202, 'y': 881}, {'x': 291, 'y': 883}, {'x': 290, 'y': 909}, {'x': 201, 'y': 907}]}, ['Bezugt']), ({'vertices': [{'x': 320, 'y': 883}, {'x': 425, 'y': 885}, {'x': 424, 'y': 911}, {'x': 319, 'y': 909}]}, ['Dortige']), ({'vertices': [{'x': 441, 'y': 886}, {'x': 574, 'y': 889}, {'x': 573, 'y': 915}, {'x': 440, 'y': 912}]}, ['Sohreiben']), ({'vertices': [{'x': 590, 'y': 889}, {'x': 632, 'y': 890}, {'x': 632, 'y': 915}, {'x': 590, 'y': 914}]}, ['von']), ({'vertices': [{'x': 649, 'y': 890}, {'x': 799, 'y': 893}, {'x': 798, 'y': 919}, {'x': 648, 'y': 916}]}, ['20.10.1961']), ({'vertices': [{'x': 798, 'y': 893}, {'x': 807, 'y': 893}, {'x': 807, 'y': 918}, {'x': 798, 'y': 918}]}, [',']), ({'vertices': [{'x': 826, 'y': 893}, {'x': 974, 'y': 896}, {'x': 973, 'y': 922}, {'x': 825, 'y': 919}]}, ['20.12.1961']), ({'vertices': [{'x': 975, 'y': 897}, {'x': 983, 'y': 897}, {'x': 983, 'y': 922}, {'x': 975, 'y': 922}]}, [',']), ({'vertices': [{'x': 1002, 'y': 897}, {'x': 1135, 'y': 900}, {'x': 1134, 'y': 926}, {'x': 1001, 'y': 923}]}, ['12.2.1962']), ({'vertices': [{'x': 1136, 'y': 900}, {'x': 1145, 'y': 900}, {'x': 1145, 'y': 925}, {'x': 1136, 'y': 925}]}, ['.']), ({'vertices': [{'x': 199, 'y': 943}, {'x': 249, 'y': 944}, {'x': 249, 'y': 969}, {'x': 199, 'y': 968}]}, ['Der']), ({'vertices': [{'x': 268, 'y': 944}, {'x': 319, 'y': 945}, {'x': 319, 'y': 970}, {'x': 268, 'y': 969}]}, ['xxx']), ({'vertices': [{'x': 322, 'y': 945}, {'x': 396, 'y': 946}, {'x': 396, 'y': 971}, {'x': 322, 'y': 970}]}, ['obige']), ({'vertices': [{'x': 408, 'y': 947}, {'x': 606, 'y': 951}, {'x': 605, 'y': 976}, {'x': 408, 'y': 972}]}, ['Antragsteller']), ({'vertices': [{'x': 604, 'y': 951}, {'x': 620, 'y': 951}, {'x': 620, 'y': 975}, {'x': 604, 'y': 975}]}, ['/']), ({'vertices': [{'x': 621, 'y': 951}, {'x': 658, 'y': 952}, {'x': 658, 'y': 977}, {'x': 621, 'y': 976}]}, ['xx']), ({'vertices': [{'x': 661, 'y': 952}, {'x': 718, 'y': 953}, {'x': 718, 'y': 978}, {'x': 661, 'y': 977}]}, ['gibt']), ({'vertices': [{'x': 735, 'y': 954}, {'x': 764, 'y': 955}, {'x': 764, 'y': 979}, {'x': 735, 'y': 978}]}, ['in']), ({'vertices': [{'x': 780, 'y': 954}, {'x': 870, 'y': 956}, {'x': 870, 'y': 981}, {'x': 780, 'y': 979}]}, ['seinem']), ({'vertices': [{'x': 873, 'y': 956}, {'x': 953, 'y': 958}, {'x': 953, 'y': 983}, {'x': 873, 'y': 981}]}, ['xxxxxx']), ({'vertices': [{'x': 971, 'y': 958}, {'x': 1031, 'y': 959}, {'x': 1031, 'y': 983}, {'x': 971, 'y': 982}]}, ['hier']), ({'vertices': [{'x': 1045, 'y': 959}, {'x': 1192, 'y': 962}, {'x': 1192, 'y': 987}, {'x': 1045, 'y': 984}]}, ['gestellten']), ({'vertices': [{'x': 198, 'y': 979}, {'x': 293, 'y': 981}, {'x': 293, 'y': 1005}, {'x': 198, 'y': 1003}]}, ['Antrag']), ({'vertices': [{'x': 305, 'y': 982}, {'x': 337, 'y': 983}, {'x': 337, 'y': 1006}, {'x': 305, 'y': 1005}]}, ['an']), ({'vertices': [{'x': 337, 'y': 982}, {'x': 347, 'y': 982}, {'x': 347, 'y': 1005}, {'x': 337, 'y': 1005}]}, [',']), ({'vertices': [{'x': 363, 'y': 982}, {'x': 409, 'y': 983}, {'x': 409, 'y': 1007}, {'x': 363, 'y': 1006}]}, ['daß']), ({'vertices': [{'x': 422, 'y': 984}, {'x': 454, 'y': 985}, {'x': 454, 'y': 1008}, {'x': 422, 'y': 1007}]}, ['er']), ({'vertices': [{'x': 528, 'y': 986}, {'x': 557, 'y': 987}, {'x': 557, 'y': 1010}, {'x': 528, 'y': 1009}]}, ['in']), ({'vertices': [{'x': 571, 'y': 986}, {'x': 617, 'y': 987}, {'x': 617, 'y': 1011}, {'x': 571, 'y': 1010}]}, ['den']), ({'vertices': [{'x': 630, 'y': 987}, {'x': 822, 'y': 991}, {'x': 822, 'y': 1015}, {'x': 630, 'y': 1011}]}, ['nachfolgenden']), ({'vertices': [{'x': 838, 'y': 991}, {'x': 971, 'y': 993}, {'x': 971, 'y': 1017}, {'x': 838, 'y': 1015}]}, ['benannten']), ({'vertices': [{'x': 986, 'y': 994}, {'x': 1133, 'y': 997}, {'x': 1133, 'y': 1021}, {'x': 986, 'y': 1018}]}, ['ehemaligen']), ({'vertices': [{'x': 200, 'y': 1015}, {'x': 290, 'y': 1017}, {'x': 290, 'y': 1043}, {'x': 200, 'y': 1041}]}, ['Ostery']), ({'vertices': [{'x': 293, 'y': 1017}, {'x': 303, 'y': 1017}, {'x': 303, 'y': 1042}, {'x': 293, 'y': 1042}]}, [',']), ({'vertices': [{'x': 318, 'y': 1018}, {'x': 353, 'y': 1019}, {'x': 353, 'y': 1044}, {'x': 318, 'y': 1043}]}, ['DP']), ({'vertices': [{'x': 350, 'y': 1018}, {'x': 365, 'y': 1018}, {'x': 365, 'y': 1043}, {'x': 350, 'y': 1043}]}, ['-']), ({'vertices': [{'x': 362, 'y': 1018}, {'x': 451, 'y': 1020}, {'x': 451, 'y': 1046}, {'x': 362, 'y': 1044}]}, ['Lagern']), ({'vertices': [{'x': 468, 'y': 1020}, {'x': 497, 'y': 1021}, {'x': 497, 'y': 1046}, {'x': 468, 'y': 1045}]}, ['zu']), ({'vertices': [{'x': 511, 'y': 1021}, {'x': 555, 'y': 1022}, {'x': 555, 'y': 1047}, {'x': 511, 'y': 1046}]}, ['den']), ({'vertices': [{'x': 571, 'y': 1022}, {'x': 733, 'y': 1025}, {'x': 733, 'y': 1050}, {'x': 571, 'y': 1047}]}, ['angegebenen']), ({'vertices': [{'x': 748, 'y': 1025}, {'x': 837, 'y': 1027}, {'x': 837, 'y': 1052}, {'x': 748, 'y': 1050}]}, ['Zeiten']), ({'vertices': [{'x': 852, 'y': 1027}, {'x': 882, 'y': 1028}, {'x': 882, 'y': 1053}, {'x': 852, 'y': 1052}]}, ['in']), ({'vertices': [{'x': 896, 'y': 1027}, {'x': 1044, 'y': 1030}, {'x': 1044, 'y': 1056}, {'x': 896, 'y': 1053}]}, ['arstlicher']), ({'vertices': [{'x': 1058, 'y': 1030}, {'x': 1161, 'y': 1032}, {'x': 1161, 'y': 1058}, {'x': 1058, 'y': 1056}]}, ['Behand-']), ({'vertices': [{'x': 199, 'y': 1052}, {'x': 261, 'y': 1054}, {'x': 260, 'y': 1076}, {'x': 198, 'y': 1074}]}, ['lung']), ({'vertices': [{'x': 272, 'y': 1055}, {'x': 331, 'y': 1057}, {'x': 330, 'y': 1078}, {'x': 271, 'y': 1076}]}, ['wari']), ({'vertices': [{'x': 268, 'y': 1127}, {'x': 399, 'y': 1129}, {'x': 399, 'y': 1153}, {'x': 268, 'y': 1151}]}, ['1945/1946']), ({'vertices': [{'x': 416, 'y': 1129}, {'x': 505, 'y': 1130}, {'x': 505, 'y': 1154}, {'x': 416, 'y': 1153}]}, ['Bergen']), ({'vertices': [{'x': 506, 'y': 1131}, {'x': 519, 'y': 1131}, {'x': 519, 'y': 1154}, {'x': 506, 'y': 1154}]}, ['-']), ({'vertices': [{'x': 519, 'y': 1131}, {'x': 608, 'y': 1132}, {'x': 608, 'y': 1156}, {'x': 519, 'y': 1155}]}, ['Belsen']), ({'vertices': [{'x': 611, 'y': 1133}, {'x': 620, 'y': 1133}, {'x': 620, 'y': 1156}, {'x': 611, 'y': 1156}]}, [',']), ({'vertices': [{'x': 636, 'y': 1133}, {'x': 770, 'y': 1135}, {'x': 770, 'y': 1159}, {'x': 636, 'y': 1157}]}, ['Zeilsheim']), ({'vertices': [{'x': 195, 'y': 1302}, {'x': 243, 'y': 1303}, {'x': 242, 'y': 1329}, {'x': 194, 'y': 1328}]}, ['Wir']), ({'vertices': [{'x': 253, 'y': 1303}, {'x': 341, 'y': 1305}, {'x': 340, 'y': 1331}, {'x': 252, 'y': 1329}]}, ['bitten']), ({'vertices': [{'x': 356, 'y': 1306}, {'x': 388, 'y': 1307}, {'x': 387, 'y': 1332}, {'x': 355, 'y': 1331}]}, ['un']), ({'vertices': [{'x': 400, 'y': 1306}, {'x': 568, 'y': 1309}, {'x': 567, 'y': 1335}, {'x': 399, 'y': 1332}]}, ['Überprüfung']), ({'vertices': [{'x': 567, 'y': 1310}, {'x': 577, 'y': 1310}, {'x': 576, 'y': 1335}, {'x': 566, 'y': 1335}]}, [',']), ({'vertices': [{'x': 596, 'y': 1311}, {'x': 624, 'y': 1312}, {'x': 623, 'y': 1337}, {'x': 595, 'y': 1336}]}, ['ob']), ({'vertices': [{'x': 638, 'y': 1311}, {'x': 696, 'y': 1312}, {'x': 695, 'y': 1338}, {'x': 637, 'y': 1337}]}, ['dort']), ({'vertices': [{'x': 713, 'y': 1313}, {'x': 919, 'y': 1317}, {'x': 918, 'y': 1342}, {'x': 712, 'y': 1338}]}, ['Krankenpapiere']), ({'vertices': [{'x': 921, 'y': 1317}, {'x': 930, 'y': 1317}, {'x': 929, 'y': 1342}, {'x': 920, 'y': 1342}]}, [',']), ({'vertices': [{'x': 949, 'y': 1317}, {'x': 1155, 'y': 1321}, {'x': 1154, 'y': 1347}, {'x': 948, 'y': 1343}]}, ['Aufzeichnungen']), ({'vertices': [{'x': 1155, 'y': 1322}, {'x': 1166, 'y': 1322}, {'x': 1165, 'y': 1347}, {'x': 1154, 'y': 1347}]}, [',']), ({'vertices': [{'x': 192, 'y': 1339}, {'x': 431, 'y': 1343}, {'x': 430, 'y': 1369}, {'x': 192, 'y': 1365}]}, ['Röntgenaufnahmen']), ({'vertices': [{'x': 444, 'y': 1344}, {'x': 502, 'y': 1345}, {'x': 502, 'y': 1370}, {'x': 444, 'y': 1369}]}, ['usw.']), ({'vertices': [{'x': 519, 'y': 1345}, {'x': 565, 'y': 1346}, {'x': 565, 'y': 1372}, {'x': 519, 'y': 1371}]}, ['für']), ({'vertices': [{'x': 576, 'y': 1346}, {'x': 623, 'y': 1347}, {'x': 623, 'y': 1373}, {'x': 576, 'y': 1372}]}, ['den']), ({'vertices': [{'x': 630, 'y': 1347}, {'x': 680, 'y': 1348}, {'x': 680, 'y': 1374}, {'x': 630, 'y': 1373}]}, ['xxx']), ({'vertices': [{'x': 699, 'y': 1348}, {'x': 772, 'y': 1349}, {'x': 772, 'y': 1375}, {'x': 699, 'y': 1374}]}, ['obige']), ({'vertices': [{'x': 770, 'y': 1350}, {'x': 788, 'y': 1350}, {'x': 788, 'y': 1375}, {'x': 770, 'y': 1375}]}, ['/']), ({'vertices': [{'x': 784, 'y': 1350}, {'x': 800, 'y': 1350}, {'x': 800, 'y': 1375}, {'x': 784, 'y': 1375}]}, ['n']), ({'vertices': [{'x': 814, 'y': 1350}, {'x': 1007, 'y': 1354}, {'x': 1006, 'y': 1380}, {'x': 814, 'y': 1376}]}, ['Antragsteller']), ({'vertices': [{'x': 1012, 'y': 1354}, {'x': 1061, 'y': 1355}, {'x': 1061, 'y': 1381}, {'x': 1012, 'y': 1380}]}, ['xxx']), ({'vertices': [{'x': 1064, 'y': 1355}, {'x': 1168, 'y': 1357}, {'x': 1168, 'y': 1383}, {'x': 1064, 'y': 1381}]}, ['vorhan-']), ({'vertices': [{'x': 192, 'y': 1375}, {'x': 239, 'y': 1376}, {'x': 238, 'y': 1401}, {'x': 192, 'y': 1400}]}, ['den']), ({'vertices': [{'x': 253, 'y': 1376}, {'x': 311, 'y': 1377}, {'x': 310, 'y': 1402}, {'x': 253, 'y': 1401}]}, ['sind']), ({'vertices': [{'x': 328, 'y': 1378}, {'x': 370, 'y': 1379}, {'x': 370, 'y': 1403}, {'x': 328, 'y': 1402}]}, ['und']), ({'vertices': [{'x': 385, 'y': 1379}, {'x': 416, 'y': 1380}, {'x': 415, 'y': 1405}, {'x': 385, 'y': 1404}]}, ['un']), ({'vertices': [{'x': 429, 'y': 1380}, {'x': 506, 'y': 1382}, {'x': 505, 'y': 1407}, {'x': 429, 'y': 1405}]}, ['deren']), ({'vertices': [{'x': 518, 'y': 1382}, {'x': 684, 'y': 1385}, {'x': 683, 'y': 1409}, {'x': 518, 'y': 1406}]}, ['Übersendung']), ({'vertices': [{'x': 683, 'y': 1385}, {'x': 695, 'y': 1385}, {'x': 695, 'y': 1409}, {'x': 683, 'y': 1409}]}, ['.']), ({'vertices': [{'x': 192, 'y': 1423}, {'x': 238, 'y': 1424}, {'x': 238, 'y': 1448}, {'x': 192, 'y': 1447}]}, ['Vir']), ({'vertices': [{'x': 255, 'y': 1424}, {'x': 338, 'y': 1426}, {'x': 338, 'y': 1450}, {'x': 255, 'y': 1448}]}, ['hitten']), ({'vertices': [{'x': 341, 'y': 1426}, {'x': 351, 'y': 1426}, {'x': 351, 'y': 1449}, {'x': 341, 'y': 1449}]}, [',']), ({'vertices': [{'x': 369, 'y': 1426}, {'x': 415, 'y': 1427}, {'x': 415, 'y': 1451}, {'x': 369, 'y': 1450}]}, ['die']), ({'vertices': [{'x': 429, 'y': 1427}, {'x': 593, 'y': 1430}, {'x': 593, 'y': 1454}, {'x': 429, 'y': 1451}]}, ['überprüfung']), ({'vertices': [{'x': 607, 'y': 1431}, {'x': 667, 'y': 1432}, {'x': 667, 'y': 1455}, {'x': 607, 'y': 1454}]}, ['auch']), ({'vertices': [{'x': 680, 'y': 1432}, {'x': 755, 'y': 1433}, {'x': 755, 'y': 1457}, {'x': 680, 'y': 1456}]}, ['unter']), ({'vertices': [{'x': 769, 'y': 1434}, {'x': 813, 'y': 1435}, {'x': 813, 'y': 1459}, {'x': 769, 'y': 1458}]}, ['den']), ({'vertices': [{'x': 828, 'y': 1435}, {'x': 946, 'y': 1437}, {'x': 946, 'y': 1460}, {'x': 828, 'y': 1458}]}, ['früheren']), ({'vertices': [{'x': 959, 'y': 1437}, {'x': 1035, 'y': 1438}, {'x': 1035, 'y': 1462}, {'x': 959, 'y': 1461}]}, ['Namen']), ({'vertices': [{'x': 1048, 'y': 1439}, {'x': 1093, 'y': 1440}, {'x': 1093, 'y': 1463}, {'x': 1048, 'y': 1462}]}, ['des']), ({'vertices': [{'x': 1100, 'y': 1440}, {'x': 1147, 'y': 1441}, {'x': 1147, 'y': 1464}, {'x': 1100, 'y': 1463}]}, ['xxx']), ({'vertices': [{'x': 190, 'y': 1461}, {'x': 399, 'y': 1465}, {'x': 399, 'y': 1488}, {'x': 190, 'y': 1484}]}, ['Antragstellera']), ({'vertices': [{'x': 408, 'y': 1465}, {'x': 454, 'y': 1466}, {'x': 454, 'y': 1489}, {'x': 408, 'y': 1488}]}, ['xxx']), ({'vertices': [{'x': 482, 'y': 1467}, {'x': 569, 'y': 1469}, {'x': 569, 'y': 1492}, {'x': 482, 'y': 1490}]}, ['Henryk']), ({'vertices': [{'x': 600, 'y': 1469}, {'x': 853, 'y': 1474}, {'x': 853, 'y': 1497}, {'x': 600, 'y': 1492}]}, ['Choroszez']), ({'vertices': [{'x': 191, 'y': 1500}, {'x': 354, 'y': 1502}, {'x': 354, 'y': 1519}, {'x': 191, 'y': 1517}]}, ['Torsunehon']), ({'vertices': [{'x': 841, 'y': 1549}, {'x': 869, 'y': 1550}, {'x': 869, 'y': 1566}, {'x': 841, 'y': 1565}]}, ['Im']), ({'vertices': [{'x': 944, 'y': 1552}, {'x': 1002, 'y': 1556}, {'x': 1001, 'y': 1572}, {'x': 943, 'y': 1568}]}, ['rage']), ({'vertices': [{'x': 1005, 'y': 1556}, {'x': 1015, 'y': 1557}, {'x': 1014, 'y': 1573}, {'x': 1004, 'y': 1572}]}, [':'])], 'entity_types': {'PERSON': ['Besirkssnt f. Viedergutmachung Reg', 'Krankenpapiere', 'Bezugt Dortige Sohreiben von 20.10.1961', 'Der', 'Antragsteller', 'Behand- lung', 'Zeilsheim', 'Krankenpapiere', 'Aufzeichnungen', 'Röntgenaufnahmen', 'deren Übersendung', 'Vir', 'Antragstellera'], 'DATE': ['5548', '1923', '16.August 1966', '20.12.1961', 'überprüfung'], 'CARDINAL': ['8', '209 327', '12.2.1962', '1945/1946'], 'ORG': ['Entschädigungusache Henry TOVEY geb', 'Ki/Qu Frühere Statsangehörigkeit', 'Bergen-Belsen', 'un'], 'GPE': ['Lodz', 'seinem', 'Überprüfung', 'Henryk'], 'WORK_OF_ART': ['Ostery, DP-Lagern']}, 'top_title': ['page of Testimony', 'דף עד'], 'Production date': '12.2.1962'}\n",
      "data_practucom/test\\documents_with_json\\10546758_1.json 😄 Testimony page including a photograph\n"
     ]
    },
    {
     "name": "stderr",
     "output_type": "stream",
     "text": [
      "WARNING:absl:Compiled the loaded model, but the compiled metrics have yet to be built. `model.compile_metrics` will be empty until you train or evaluate the model.\n"
     ]
    },
    {
     "name": "stdout",
     "output_type": "stream",
     "text": [
      "eeeeeeeeeeeeeeeeeeeeeeeeeeeee\n",
      "(47, 127.0)\n",
      "30.8.45\n",
      "uuuuuuuuuuuuuuuuuuuuu {'page type': 'Testimony page including a photograph', 'data_Languages': [('English', 0.60630375), ('French', 0.09320325), ('Oromo', 0.08699711), ('Maltese', 0.05123679)], 'full_desc_with_verices': ({'text': 'Date 2.10.50/KrW. Name BAGA IN SKY, Margarethe File F-18-366 Nat statel.-Jew. Italy No Transit Camp DP & Rap Bub Com BD 1895 BP Next of Kin Source of Information ADC Paris dans Last kn. Location Italy Pari CC/Prison Transxon 30.8.45 repatr. to Palestine Arr. Date lib. ecoBerdic Died on Cause of death Buried on Grave Remarks XXI.5 in in D. C. No. wwwwwwwwAAAA KANSA'}, {'vertices': [{'x': 30, 'y': 47}, {'x': 579, 'y': 47}, {'x': 579, 'y': 367}, {'x': 30, 'y': 367}]}), 'words': [({'vertices': [{'x': 30, 'y': 47}, {'x': 579, 'y': 47}, {'x': 579, 'y': 367}, {'x': 30, 'y': 367}]}, ['Date', '2.10.50/KrW.', 'Name BAGA IN SKY, Margarethe', 'File F-18-366', 'Nat statel.-Jew.', 'Italy', 'No Transit Camp DP & Rap Bub Com', 'BD', '1895', 'BP', 'Next of Kin', 'Source of Information ADC Paris', 'dans', 'Last kn. Location', 'Italy Pari', 'CC/Prison', 'Transxon 30.8.45 repatr. to Palestine', 'Arr.', 'Date', 'lib.', 'ecoBerdic', 'Died on', 'Cause of death', 'Buried on', 'Grave', 'Remarks XXI.5', 'in', 'in', 'D. C. No.', 'wwwwwwwwAAAA KANSA']), ({'vertices': [{'x': 30, 'y': 56}, {'x': 65, 'y': 55}, {'x': 65, 'y': 68}, {'x': 30, 'y': 69}]}, ['Date']), ({'vertices': [{'x': 98, 'y': 55}, {'x': 167, 'y': 50}, {'x': 168, 'y': 66}, {'x': 99, 'y': 71}]}, ['2.10.50']), ({'vertices': [{'x': 166, 'y': 50}, {'x': 176, 'y': 49}, {'x': 177, 'y': 64}, {'x': 167, 'y': 65}]}, ['/']), ({'vertices': [{'x': 174, 'y': 49}, {'x': 208, 'y': 47}, {'x': 209, 'y': 62}, {'x': 175, 'y': 65}]}, ['KrW']), ({'vertices': [{'x': 205, 'y': 48}, {'x': 213, 'y': 47}, {'x': 214, 'y': 62}, {'x': 206, 'y': 63}]}, ['.']), ({'vertices': [{'x': 30, 'y': 76}, {'x': 76, 'y': 74}, {'x': 77, 'y': 92}, {'x': 31, 'y': 94}]}, ['Name']), ({'vertices': [{'x': 91, 'y': 74}, {'x': 159, 'y': 71}, {'x': 160, 'y': 88}, {'x': 92, 'y': 91}]}, ['BAGA']), ({'vertices': [{'x': 168, 'y': 70}, {'x': 199, 'y': 69}, {'x': 200, 'y': 86}, {'x': 169, 'y': 87}]}, ['IN']), ({'vertices': [{'x': 206, 'y': 68}, {'x': 257, 'y': 66}, {'x': 258, 'y': 84}, {'x': 207, 'y': 86}]}, ['SKY']), ({'vertices': [{'x': 264, 'y': 66}, {'x': 273, 'y': 66}, {'x': 274, 'y': 83}, {'x': 265, 'y': 83}]}, [',']), ({'vertices': [{'x': 280, 'y': 65}, {'x': 377, 'y': 61}, {'x': 378, 'y': 79}, {'x': 281, 'y': 83}]}, ['Margarethe']), ({'vertices': [{'x': 428, 'y': 55}, {'x': 457, 'y': 54}, {'x': 457, 'y': 73}, {'x': 428, 'y': 74}]}, ['File']), ({'vertices': [{'x': 471, 'y': 55}, {'x': 485, 'y': 55}, {'x': 485, 'y': 73}, {'x': 471, 'y': 73}]}, ['F']), ({'vertices': [{'x': 483, 'y': 55}, {'x': 493, 'y': 55}, {'x': 493, 'y': 73}, {'x': 483, 'y': 73}]}, ['-']), ({'vertices': [{'x': 493, 'y': 54}, {'x': 548, 'y': 53}, {'x': 548, 'y': 72}, {'x': 493, 'y': 73}]}, ['18-366']), ({'vertices': [{'x': 429, 'y': 82}, {'x': 459, 'y': 82}, {'x': 459, 'y': 98}, {'x': 429, 'y': 98}]}, ['Nat']), ({'vertices': [{'x': 466, 'y': 82}, {'x': 522, 'y': 82}, {'x': 522, 'y': 98}, {'x': 466, 'y': 98}]}, ['statel']), ({'vertices': [{'x': 524, 'y': 82}, {'x': 534, 'y': 82}, {'x': 534, 'y': 98}, {'x': 524, 'y': 98}]}, ['.']), ({'vertices': [{'x': 533, 'y': 82}, {'x': 545, 'y': 82}, {'x': 545, 'y': 98}, {'x': 533, 'y': 98}]}, ['-']), ({'vertices': [{'x': 541, 'y': 82}, {'x': 572, 'y': 82}, {'x': 572, 'y': 98}, {'x': 541, 'y': 98}]}, ['Jew']), ({'vertices': [{'x': 573, 'y': 82}, {'x': 578, 'y': 82}, {'x': 578, 'y': 98}, {'x': 573, 'y': 98}]}, ['.']), ({'vertices': [{'x': 518, 'y': 103}, {'x': 571, 'y': 104}, {'x': 571, 'y': 118}, {'x': 518, 'y': 117}]}, ['Italy']), ({'vertices': [{'x': 217, 'y': 135}, {'x': 238, 'y': 134}, {'x': 239, 'y': 149}, {'x': 218, 'y': 150}]}, ['No']), ({'vertices': [{'x': 265, 'y': 131}, {'x': 333, 'y': 127}, {'x': 334, 'y': 143}, {'x': 266, 'y': 147}]}, ['Transit']), ({'vertices': [{'x': 343, 'y': 127}, {'x': 382, 'y': 125}, {'x': 383, 'y': 140}, {'x': 344, 'y': 142}]}, ['Camp']), ({'vertices': [{'x': 388, 'y': 124}, {'x': 408, 'y': 123}, {'x': 409, 'y': 139}, {'x': 389, 'y': 140}]}, ['DP']), ({'vertices': [{'x': 418, 'y': 123}, {'x': 429, 'y': 122}, {'x': 430, 'y': 137}, {'x': 419, 'y': 138}]}, ['&']), ({'vertices': [{'x': 437, 'y': 121}, {'x': 467, 'y': 119}, {'x': 468, 'y': 135}, {'x': 438, 'y': 137}]}, ['Rap']), ({'vertices': [{'x': 475, 'y': 119}, {'x': 504, 'y': 117}, {'x': 505, 'y': 133}, {'x': 476, 'y': 135}]}, ['Bub']), ({'vertices': [{'x': 514, 'y': 117}, {'x': 544, 'y': 115}, {'x': 545, 'y': 130}, {'x': 515, 'y': 132}]}, ['Com']), ({'vertices': [{'x': 33, 'y': 103}, {'x': 54, 'y': 102}, {'x': 55, 'y': 116}, {'x': 34, 'y': 117}]}, ['BD']), ({'vertices': [{'x': 93, 'y': 103}, {'x': 132, 'y': 100}, {'x': 133, 'y': 115}, {'x': 94, 'y': 118}]}, ['1895']), ({'vertices': [{'x': 199, 'y': 95}, {'x': 219, 'y': 94}, {'x': 220, 'y': 106}, {'x': 200, 'y': 107}]}, ['BP']), ({'vertices': [{'x': 32, 'y': 127}, {'x': 72, 'y': 124}, {'x': 73, 'y': 139}, {'x': 33, 'y': 142}]}, ['Next']), ({'vertices': [{'x': 80, 'y': 124}, {'x': 97, 'y': 123}, {'x': 98, 'y': 138}, {'x': 81, 'y': 139}]}, ['of']), ({'vertices': [{'x': 103, 'y': 122}, {'x': 131, 'y': 120}, {'x': 132, 'y': 135}, {'x': 104, 'y': 137}]}, ['Kin']), ({'vertices': [{'x': 34, 'y': 148}, {'x': 86, 'y': 146}, {'x': 87, 'y': 164}, {'x': 35, 'y': 166}]}, ['Source']), ({'vertices': [{'x': 96, 'y': 146}, {'x': 112, 'y': 145}, {'x': 113, 'y': 162}, {'x': 97, 'y': 163}]}, ['of']), ({'vertices': [{'x': 120, 'y': 145}, {'x': 210, 'y': 142}, {'x': 211, 'y': 160}, {'x': 121, 'y': 163}]}, ['Information']), ({'vertices': [{'x': 217, 'y': 143}, {'x': 259, 'y': 142}, {'x': 260, 'y': 159}, {'x': 218, 'y': 160}]}, ['ADC']), ({'vertices': [{'x': 266, 'y': 141}, {'x': 317, 'y': 139}, {'x': 318, 'y': 156}, {'x': 267, 'y': 158}]}, ['Paris']), ({'vertices': [{'x': 340, 'y': 138}, {'x': 381, 'y': 137}, {'x': 382, 'y': 155}, {'x': 341, 'y': 156}]}, ['dans']), ({'vertices': [{'x': 35, 'y': 174}, {'x': 67, 'y': 172}, {'x': 68, 'y': 188}, {'x': 36, 'y': 190}]}, ['Last']), ({'vertices': [{'x': 75, 'y': 171}, {'x': 96, 'y': 169}, {'x': 97, 'y': 185}, {'x': 76, 'y': 187}]}, ['kn']), ({'vertices': [{'x': 95, 'y': 170}, {'x': 100, 'y': 170}, {'x': 101, 'y': 185}, {'x': 96, 'y': 185}]}, ['.']), ({'vertices': [{'x': 108, 'y': 169}, {'x': 175, 'y': 164}, {'x': 176, 'y': 180}, {'x': 109, 'y': 185}]}, ['Location']), ({'vertices': [{'x': 212, 'y': 169}, {'x': 260, 'y': 166}, {'x': 261, 'y': 180}, {'x': 213, 'y': 183}]}, ['Italy']), ({'vertices': [{'x': 286, 'y': 164}, {'x': 328, 'y': 161}, {'x': 329, 'y': 175}, {'x': 287, 'y': 178}]}, ['Pari']), ({'vertices': [{'x': 36, 'y': 198}, {'x': 60, 'y': 197}, {'x': 61, 'y': 212}, {'x': 37, 'y': 213}]}, ['CC']), ({'vertices': [{'x': 60, 'y': 197}, {'x': 65, 'y': 197}, {'x': 66, 'y': 211}, {'x': 61, 'y': 211}]}, ['/']), ({'vertices': [{'x': 66, 'y': 197}, {'x': 114, 'y': 195}, {'x': 115, 'y': 210}, {'x': 67, 'y': 212}]}, ['Prison']), ({'vertices': [{'x': 37, 'y': 222}, {'x': 118, 'y': 218}, {'x': 119, 'y': 236}, {'x': 38, 'y': 240}]}, ['Transxon']), ({'vertices': [{'x': 126, 'y': 218}, {'x': 194, 'y': 215}, {'x': 195, 'y': 232}, {'x': 127, 'y': 235}]}, ['30.8.45']), ({'vertices': [{'x': 202, 'y': 214}, {'x': 260, 'y': 211}, {'x': 261, 'y': 229}, {'x': 203, 'y': 232}]}, ['repatr']), ({'vertices': [{'x': 262, 'y': 211}, {'x': 269, 'y': 211}, {'x': 270, 'y': 228}, {'x': 263, 'y': 228}]}, ['.']), ({'vertices': [{'x': 277, 'y': 210}, {'x': 292, 'y': 209}, {'x': 293, 'y': 227}, {'x': 278, 'y': 228}]}, ['to']), ({'vertices': [{'x': 307, 'y': 209}, {'x': 394, 'y': 205}, {'x': 395, 'y': 222}, {'x': 308, 'y': 226}]}, ['Palestine']), ({'vertices': [{'x': 259, 'y': 186}, {'x': 287, 'y': 185}, {'x': 287, 'y': 198}, {'x': 259, 'y': 199}]}, ['Arr']), ({'vertices': [{'x': 286, 'y': 186}, {'x': 291, 'y': 186}, {'x': 291, 'y': 198}, {'x': 286, 'y': 198}]}, ['.']), ({'vertices': [{'x': 425, 'y': 153}, {'x': 461, 'y': 153}, {'x': 461, 'y': 166}, {'x': 425, 'y': 166}]}, ['Date']), ({'vertices': [{'x': 440, 'y': 176}, {'x': 458, 'y': 176}, {'x': 458, 'y': 189}, {'x': 440, 'y': 189}]}, ['lib']), ({'vertices': [{'x': 458, 'y': 176}, {'x': 461, 'y': 176}, {'x': 461, 'y': 188}, {'x': 458, 'y': 188}]}, ['.']), ({'vertices': [{'x': 420, 'y': 203}, {'x': 485, 'y': 200}, {'x': 486, 'y': 218}, {'x': 421, 'y': 221}]}, ['ecoBerdic']), ({'vertices': [{'x': 39, 'y': 244}, {'x': 74, 'y': 244}, {'x': 74, 'y': 259}, {'x': 39, 'y': 259}]}, ['Died']), ({'vertices': [{'x': 83, 'y': 244}, {'x': 101, 'y': 244}, {'x': 101, 'y': 258}, {'x': 83, 'y': 258}]}, ['on']), ({'vertices': [{'x': 39, 'y': 268}, {'x': 87, 'y': 265}, {'x': 88, 'y': 281}, {'x': 40, 'y': 284}]}, ['Cause']), ({'vertices': [{'x': 96, 'y': 265}, {'x': 112, 'y': 264}, {'x': 113, 'y': 279}, {'x': 97, 'y': 280}]}, ['of']), ({'vertices': [{'x': 119, 'y': 263}, {'x': 162, 'y': 260}, {'x': 163, 'y': 276}, {'x': 120, 'y': 279}]}, ['death']), ({'vertices': [{'x': 41, 'y': 292}, {'x': 90, 'y': 291}, {'x': 90, 'y': 305}, {'x': 41, 'y': 306}]}, ['Buried']), ({'vertices': [{'x': 99, 'y': 291}, {'x': 118, 'y': 290}, {'x': 118, 'y': 303}, {'x': 99, 'y': 304}]}, ['on']), ({'vertices': [{'x': 42, 'y': 316}, {'x': 87, 'y': 315}, {'x': 87, 'y': 328}, {'x': 42, 'y': 329}]}, ['Grave']), ({'vertices': [{'x': 41, 'y': 339}, {'x': 110, 'y': 335}, {'x': 111, 'y': 350}, {'x': 42, 'y': 355}]}, ['Remarks']), ({'vertices': [{'x': 120, 'y': 334}, {'x': 170, 'y': 331}, {'x': 171, 'y': 347}, {'x': 121, 'y': 350}]}, ['XXI.5']), ({'vertices': [{'x': 280, 'y': 234}, {'x': 292, 'y': 234}, {'x': 292, 'y': 245}, {'x': 280, 'y': 245}]}, ['in']), ({'vertices': [{'x': 282, 'y': 281}, {'x': 294, 'y': 281}, {'x': 294, 'y': 292}, {'x': 282, 'y': 292}]}, ['in']), ({'vertices': [{'x': 400, 'y': 296}, {'x': 416, 'y': 295}, {'x': 417, 'y': 309}, {'x': 401, 'y': 310}]}, ['D.']), ({'vertices': [{'x': 420, 'y': 295}, {'x': 435, 'y': 294}, {'x': 436, 'y': 308}, {'x': 421, 'y': 309}]}, ['C.']), ({'vertices': [{'x': 439, 'y': 295}, {'x': 466, 'y': 294}, {'x': 467, 'y': 307}, {'x': 440, 'y': 308}]}, ['No.']), ({'vertices': [{'x': 199, 'y': 359}, {'x': 440, 'y': 346}, {'x': 440, 'y': 354}, {'x': 199, 'y': 367}]}, ['wwwwwwwwAAAA']), ({'vertices': [{'x': 443, 'y': 346}, {'x': 579, 'y': 339}, {'x': 579, 'y': 347}, {'x': 443, 'y': 354}]}, ['KANSA'])], 'entity_types': {'ORG': ['SKY', 'Margarethe File F-18-366 Nat', 'Transit Camp DP'], 'GPE': ['Italy', 'ecoBerdic Died'], 'PERSON': ['Rap Bub', 'Palestine Arr'], 'DATE': ['1895'], 'CARDINAL': ['30.8.45']}, 'top_title': ['page of Testimony', 'דף עד'], 'Production date': '30.8.45'}\n"
     ]
    },
    {
     "name": "stderr",
     "output_type": "stream",
     "text": [
      "WARNING:absl:Compiled the loaded model, but the compiled metrics have yet to be built. `model.compile_metrics` will be empty until you train or evaluate the model.\n"
     ]
    },
    {
     "name": "stdout",
     "output_type": "stream",
     "text": [
      "data_practucom/test\\documents_with_json\\10547399_1.json 😄 Testimony page including a photograph\n"
     ]
    },
    {
     "name": "stderr",
     "output_type": "stream",
     "text": [
      "WARNING:absl:Compiled the loaded model, but the compiled metrics have yet to be built. `model.compile_metrics` will be empty until you train or evaluate the model.\n"
     ]
    },
    {
     "name": "stdout",
     "output_type": "stream",
     "text": [
      "eeeeeeeeeeeeeeeeeeeeeeeeeeeee\n",
      "(19, 201.25)\n",
      "10-30781-1\n",
      "uuuuuuuuuuuuuuuuuuuuu {'page type': 'Testimony page including a photograph', 'data_Languages': [('English', 0.88861513), ('Spanish', 0.024342012), ('Polish', 0.00924779), ('French', 0.008143368)], 'full_desc_with_verices': ({'text': '(1) REGISTRATION NO 403440754 LIPSZYC (2) Family Name 1929-Sept. 14 (6) Birthdate (9) Number of BELSEN HOSPITAL A.E.F. D.P. REGISTRATION RECORD Original Rywka Sologne Duplicate Married Divorced (4) Marital Status M. Single Other Given Names F. Widowed (3) Sex LODZ Birthplace Country You (10) Full Name of Father Dependents: LIPSZYC Province (12) DESIRED DESTINATION PALESTINE City or Village Ecolie Province • Country LÖDZ Juve (7) Religion (Optional) Maria 4454 For coding purposes ABCDEF. G. H. LJ Polonase (5) Claimed Nationality (8) Number of Accom- panying Family Members: ZELVER (11) Full Maiden Name of Mother (13) LAST PERMANENT RESIDENCE OR RESIDENCE JANUARY 1, 1938. LODZ City or Village Bologne Province Country (14) Usual Trade, Occupation or Profession (15) Performed in What Kind of Establishment (16) Other Trades or Occupations Solonas B. b. a. (17) Languages Spoken in Order of Fluency (20) Signature of Registrant: X (22) Destination or Reception Center: Name or Number (18) Do You Claim to be a Pris- oner of War Yes No (19) Amount and Kind of Currency in your Possession Assembly T. Date: 10-9.45 Center No. (21) Signature of Registrar: Sent to Nio City or Village Provitice Country (23) Code 1 2 3 4 5 6 7 8 9 10 11 12 13 14 15 16 17 18 19 20 21 22 23 24 25 26 27 28 for Issue 12 EaPalghine 1 coume a TEL. AVIV (24) REMARKS Bogen. Derson. Anetre in Art 1944 avec / xem oft 3ions. Anchurity syus, Ravent mas day a ghetto · DP-2 10-30781-1'}, {'vertices': [{'x': 35, 'y': 19}, {'x': 1162, 'y': 19}, {'x': 1162, 'y': 748}, {'x': 35, 'y': 748}]}), 'words': [({'vertices': [{'x': 35, 'y': 19}, {'x': 1162, 'y': 19}, {'x': 1162, 'y': 748}, {'x': 35, 'y': 748}]}, ['(1) REGISTRATION NO', '403440754', 'LIPSZYC', '(2) Family Name', '1929-Sept. 14', '(6) Birthdate', '(9) Number of', 'BELSEN', 'HOSPITAL', 'A.E.F. D.P. REGISTRATION RECORD', 'Original', 'Rywka', 'Sologne', 'Duplicate', 'Married', 'Divorced', '(4) Marital Status', 'M. Single', 'Other Given Names', 'F. Widowed', '(3) Sex', 'LODZ', 'Birthplace', 'Country', 'You', '(10) Full Name of Father', 'Dependents: LIPSZYC', 'Province', '(12) DESIRED DESTINATION', 'PALESTINE', 'City or Village', 'Ecolie', 'Province', '•', 'Country', 'LÖDZ', 'Juve', '(7) Religion (Optional)', 'Maria', '4454', 'For coding purposes', 'ABCDEF. G. H. LJ', 'Polonase', '(5) Claimed Nationality', '(8) Number of Accom-', 'panying Family', 'Members:', 'ZELVER', '(11) Full Maiden Name of Mother', '(13) LAST PERMANENT RESIDENCE OR RESIDENCE JANUARY 1, 1938.', 'LODZ', 'City or Village', 'Bologne', 'Province', 'Country', '(14) Usual Trade, Occupation or Profession (15) Performed in What Kind of Establishment (16) Other Trades or Occupations', 'Solonas', 'B.', 'b.', 'a.', '(17) Languages Spoken in Order of Fluency', '(20) Signature', 'of Registrant:', 'X', '(22) Destination or', 'Reception Center:', 'Name or Number', '(18) Do You Claim', 'to be a Pris-', 'oner of War', 'Yes No (19) Amount and Kind of Currency in your Possession', 'Assembly T.', 'Date: 10-9.45 Center No.', '(21) Signature', 'of Registrar:', 'Sent to Nio', 'City or Village', 'Provitice', 'Country', '(23) Code 1 2 3 4 5 6 7 8 9 10 11 12 13 14 15 16 17 18 19 20 21 22 23 24 25 26 27 28', 'for Issue', '12 EaPalghine 1 coume a', 'TEL. AVIV (24) REMARKS', 'Bogen. Derson.', 'Anetre in Art 1944 avec / xem oft 3ions. Anchurity syus, Ravent', 'mas day a ghetto', '·', 'DP-2', '10-30781-1']), ({'vertices': [{'x': 86, 'y': 53}, {'x': 92, 'y': 53}, {'x': 92, 'y': 66}, {'x': 86, 'y': 66}]}, ['(']), ({'vertices': [{'x': 92, 'y': 53}, {'x': 99, 'y': 53}, {'x': 99, 'y': 66}, {'x': 92, 'y': 66}]}, ['1']), ({'vertices': [{'x': 97, 'y': 53}, {'x': 104, 'y': 53}, {'x': 104, 'y': 66}, {'x': 97, 'y': 66}]}, [')']), ({'vertices': [{'x': 110, 'y': 53}, {'x': 201, 'y': 53}, {'x': 201, 'y': 66}, {'x': 110, 'y': 66}]}, ['REGISTRATION']), ({'vertices': [{'x': 205, 'y': 53}, {'x': 227, 'y': 53}, {'x': 227, 'y': 66}, {'x': 205, 'y': 66}]}, ['NO']), ({'vertices': [{'x': 51, 'y': 68}, {'x': 276, 'y': 70}, {'x': 276, 'y': 100}, {'x': 51, 'y': 98}]}, ['403440754']), ({'vertices': [{'x': 95, 'y': 130}, {'x': 242, 'y': 130}, {'x': 242, 'y': 155}, {'x': 95, 'y': 155}]}, ['LIPSZYC']), ({'vertices': [{'x': 49, 'y': 165}, {'x': 57, 'y': 165}, {'x': 57, 'y': 183}, {'x': 49, 'y': 183}]}, ['(']), ({'vertices': [{'x': 54, 'y': 164}, {'x': 66, 'y': 164}, {'x': 66, 'y': 182}, {'x': 54, 'y': 182}]}, ['2']), ({'vertices': [{'x': 62, 'y': 164}, {'x': 72, 'y': 164}, {'x': 72, 'y': 182}, {'x': 62, 'y': 182}]}, [')']), ({'vertices': [{'x': 82, 'y': 164}, {'x': 139, 'y': 163}, {'x': 139, 'y': 182}, {'x': 82, 'y': 183}]}, ['Family']), ({'vertices': [{'x': 146, 'y': 163}, {'x': 194, 'y': 162}, {'x': 194, 'y': 181}, {'x': 146, 'y': 182}]}, ['Name']), ({'vertices': [{'x': 45, 'y': 189}, {'x': 117, 'y': 189}, {'x': 117, 'y': 219}, {'x': 45, 'y': 219}]}, ['1929']), ({'vertices': [{'x': 111, 'y': 189}, {'x': 136, 'y': 189}, {'x': 136, 'y': 218}, {'x': 111, 'y': 218}]}, ['-']), ({'vertices': [{'x': 136, 'y': 189}, {'x': 217, 'y': 189}, {'x': 217, 'y': 218}, {'x': 136, 'y': 218}]}, ['Sept']), ({'vertices': [{'x': 200, 'y': 189}, {'x': 227, 'y': 189}, {'x': 227, 'y': 218}, {'x': 200, 'y': 218}]}, ['.']), ({'vertices': [{'x': 214, 'y': 189}, {'x': 254, 'y': 189}, {'x': 254, 'y': 218}, {'x': 214, 'y': 218}]}, ['14']), ({'vertices': [{'x': 49, 'y': 224}, {'x': 57, 'y': 224}, {'x': 57, 'y': 240}, {'x': 49, 'y': 240}]}, ['(']), ({'vertices': [{'x': 55, 'y': 223}, {'x': 66, 'y': 223}, {'x': 66, 'y': 239}, {'x': 55, 'y': 239}]}, ['6']), ({'vertices': [{'x': 62, 'y': 223}, {'x': 71, 'y': 223}, {'x': 71, 'y': 239}, {'x': 62, 'y': 239}]}, [')']), ({'vertices': [{'x': 82, 'y': 223}, {'x': 159, 'y': 222}, {'x': 159, 'y': 239}, {'x': 82, 'y': 240}]}, ['Birthdate']), ({'vertices': [{'x': 50, 'y': 245}, {'x': 57, 'y': 245}, {'x': 57, 'y': 260}, {'x': 50, 'y': 260}]}, ['(']), ({'vertices': [{'x': 55, 'y': 244}, {'x': 66, 'y': 244}, {'x': 66, 'y': 259}, {'x': 55, 'y': 259}]}, ['9']), ({'vertices': [{'x': 62, 'y': 244}, {'x': 71, 'y': 244}, {'x': 71, 'y': 259}, {'x': 62, 'y': 259}]}, [')']), ({'vertices': [{'x': 81, 'y': 244}, {'x': 149, 'y': 243}, {'x': 149, 'y': 258}, {'x': 81, 'y': 259}]}, ['Number']), ({'vertices': [{'x': 158, 'y': 244}, {'x': 177, 'y': 244}, {'x': 177, 'y': 259}, {'x': 158, 'y': 259}]}, ['of']), ({'vertices': [{'x': 269, 'y': 19}, {'x': 411, 'y': 20}, {'x': 411, 'y': 45}, {'x': 269, 'y': 44}]}, ['BELSEN']), ({'vertices': [{'x': 752, 'y': 19}, {'x': 922, 'y': 20}, {'x': 922, 'y': 41}, {'x': 752, 'y': 40}]}, ['HOSPITAL']), ({'vertices': [{'x': 391, 'y': 53}, {'x': 458, 'y': 53}, {'x': 458, 'y': 74}, {'x': 391, 'y': 74}]}, ['A.E.F.']), ({'vertices': [{'x': 470, 'y': 53}, {'x': 514, 'y': 53}, {'x': 514, 'y': 74}, {'x': 470, 'y': 74}]}, ['D.P.']), ({'vertices': [{'x': 527, 'y': 53}, {'x': 700, 'y': 53}, {'x': 700, 'y': 74}, {'x': 527, 'y': 74}]}, ['REGISTRATION']), ({'vertices': [{'x': 713, 'y': 53}, {'x': 808, 'y': 53}, {'x': 808, 'y': 74}, {'x': 713, 'y': 74}]}, ['RECORD']), ({'vertices': [{'x': 460, 'y': 84}, {'x': 536, 'y': 84}, {'x': 536, 'y': 104}, {'x': 460, 'y': 104}]}, ['Original']), ({'vertices': [{'x': 393, 'y': 131}, {'x': 522, 'y': 131}, {'x': 522, 'y': 161}, {'x': 393, 'y': 161}]}, ['Rywka']), ({'vertices': [{'x': 449, 'y': 193}, {'x': 581, 'y': 193}, {'x': 581, 'y': 213}, {'x': 449, 'y': 213}]}, ['Sologne']), ({'vertices': [{'x': 620, 'y': 86}, {'x': 708, 'y': 86}, {'x': 708, 'y': 103}, {'x': 620, 'y': 103}]}, ['Duplicate']), ({'vertices': [{'x': 779, 'y': 110}, {'x': 847, 'y': 111}, {'x': 847, 'y': 129}, {'x': 779, 'y': 128}]}, ['Married']), ({'vertices': [{'x': 780, 'y': 139}, {'x': 854, 'y': 139}, {'x': 854, 'y': 152}, {'x': 780, 'y': 152}]}, ['Divorced']), ({'vertices': [{'x': 697, 'y': 165}, {'x': 704, 'y': 165}, {'x': 704, 'y': 179}, {'x': 697, 'y': 179}]}, ['(']), ({'vertices': [{'x': 701, 'y': 164}, {'x': 711, 'y': 164}, {'x': 711, 'y': 178}, {'x': 701, 'y': 178}]}, ['4']), ({'vertices': [{'x': 709, 'y': 164}, {'x': 717, 'y': 164}, {'x': 717, 'y': 178}, {'x': 709, 'y': 178}]}, [')']), ({'vertices': [{'x': 728, 'y': 164}, {'x': 789, 'y': 164}, {'x': 789, 'y': 178}, {'x': 728, 'y': 178}]}, ['Marital']), ({'vertices': [{'x': 795, 'y': 164}, {'x': 848, 'y': 164}, {'x': 848, 'y': 178}, {'x': 795, 'y': 178}]}, ['Status']), ({'vertices': [{'x': 575, 'y': 113}, {'x': 599, 'y': 113}, {'x': 599, 'y': 129}, {'x': 575, 'y': 129}]}, ['M.']), ({'vertices': [{'x': 649, 'y': 114}, {'x': 701, 'y': 115}, {'x': 701, 'y': 131}, {'x': 649, 'y': 130}]}, ['Single']), ({'vertices': [{'x': 359, 'y': 164}, {'x': 405, 'y': 164}, {'x': 405, 'y': 179}, {'x': 359, 'y': 179}]}, ['Other']), ({'vertices': [{'x': 411, 'y': 164}, {'x': 459, 'y': 164}, {'x': 459, 'y': 178}, {'x': 411, 'y': 178}]}, ['Given']), ({'vertices': [{'x': 466, 'y': 164}, {'x': 521, 'y': 164}, {'x': 521, 'y': 178}, {'x': 466, 'y': 178}]}, ['Names']), ({'vertices': [{'x': 573, 'y': 138}, {'x': 596, 'y': 138}, {'x': 596, 'y': 155}, {'x': 573, 'y': 155}]}, ['F.']), ({'vertices': [{'x': 650, 'y': 138}, {'x': 726, 'y': 138}, {'x': 726, 'y': 155}, {'x': 650, 'y': 155}]}, ['Widowed']), ({'vertices': [{'x': 578, 'y': 166}, {'x': 586, 'y': 166}, {'x': 587, 'y': 181}, {'x': 579, 'y': 181}]}, ['(']), ({'vertices': [{'x': 584, 'y': 165}, {'x': 595, 'y': 165}, {'x': 595, 'y': 180}, {'x': 585, 'y': 180}]}, ['3']), ({'vertices': [{'x': 592, 'y': 165}, {'x': 601, 'y': 165}, {'x': 602, 'y': 180}, {'x': 593, 'y': 180}]}, [')']), ({'vertices': [{'x': 609, 'y': 164}, {'x': 640, 'y': 163}, {'x': 641, 'y': 179}, {'x': 610, 'y': 180}]}, ['Sex']), ({'vertices': [{'x': 296, 'y': 189}, {'x': 379, 'y': 187}, {'x': 380, 'y': 210}, {'x': 297, 'y': 212}]}, ['LODZ']), ({'vertices': [{'x': 226, 'y': 224}, {'x': 310, 'y': 224}, {'x': 310, 'y': 241}, {'x': 226, 'y': 241}]}, ['Birthplace']), ({'vertices': [{'x': 552, 'y': 222}, {'x': 620, 'y': 224}, {'x': 620, 'y': 240}, {'x': 552, 'y': 238}]}, ['Country']), ({'vertices': [{'x': 466, 'y': 252}, {'x': 533, 'y': 252}, {'x': 533, 'y': 274}, {'x': 466, 'y': 274}]}, ['You']), ({'vertices': [{'x': 355, 'y': 282}, {'x': 363, 'y': 282}, {'x': 363, 'y': 297}, {'x': 355, 'y': 297}]}, ['(']), ({'vertices': [{'x': 362, 'y': 281}, {'x': 380, 'y': 281}, {'x': 380, 'y': 296}, {'x': 362, 'y': 296}]}, ['10']), ({'vertices': [{'x': 378, 'y': 281}, {'x': 385, 'y': 281}, {'x': 385, 'y': 296}, {'x': 378, 'y': 296}]}, [')']), ({'vertices': [{'x': 397, 'y': 281}, {'x': 430, 'y': 281}, {'x': 430, 'y': 296}, {'x': 397, 'y': 296}]}, ['Full']), ({'vertices': [{'x': 437, 'y': 281}, {'x': 486, 'y': 281}, {'x': 486, 'y': 296}, {'x': 437, 'y': 296}]}, ['Name']), ({'vertices': [{'x': 489, 'y': 281}, {'x': 507, 'y': 281}, {'x': 507, 'y': 296}, {'x': 489, 'y': 296}]}, ['of']), ({'vertices': [{'x': 513, 'y': 280}, {'x': 567, 'y': 280}, {'x': 567, 'y': 296}, {'x': 513, 'y': 296}]}, ['Father']), ({'vertices': [{'x': 78, 'y': 256}, {'x': 178, 'y': 251}, {'x': 179, 'y': 279}, {'x': 79, 'y': 284}]}, ['Dependents']), ({'vertices': [{'x': 177, 'y': 252}, {'x': 184, 'y': 252}, {'x': 185, 'y': 279}, {'x': 178, 'y': 279}]}, [':']), ({'vertices': [{'x': 245, 'y': 248}, {'x': 388, 'y': 241}, {'x': 389, 'y': 269}, {'x': 246, 'y': 276}]}, ['LIPSZYC']), ({'vertices': [{'x': 406, 'y': 224}, {'x': 475, 'y': 225}, {'x': 475, 'y': 238}, {'x': 406, 'y': 237}]}, ['Province']), ({'vertices': [{'x': 204, 'y': 304}, {'x': 212, 'y': 304}, {'x': 212, 'y': 319}, {'x': 204, 'y': 319}]}, ['(']), ({'vertices': [{'x': 212, 'y': 304}, {'x': 231, 'y': 304}, {'x': 231, 'y': 319}, {'x': 212, 'y': 319}]}, ['12']), ({'vertices': [{'x': 228, 'y': 304}, {'x': 236, 'y': 304}, {'x': 236, 'y': 319}, {'x': 228, 'y': 319}]}, [')']), ({'vertices': [{'x': 247, 'y': 304}, {'x': 317, 'y': 304}, {'x': 317, 'y': 319}, {'x': 247, 'y': 319}]}, ['DESIRED']), ({'vertices': [{'x': 327, 'y': 304}, {'x': 435, 'y': 304}, {'x': 435, 'y': 319}, {'x': 327, 'y': 319}]}, ['DESTINATION']), ({'vertices': [{'x': 180, 'y': 326}, {'x': 402, 'y': 322}, {'x': 402, 'y': 344}, {'x': 180, 'y': 348}]}, ['PALESTINE']), ({'vertices': [{'x': 89, 'y': 361}, {'x': 118, 'y': 361}, {'x': 118, 'y': 375}, {'x': 89, 'y': 375}]}, ['City']), ({'vertices': [{'x': 121, 'y': 361}, {'x': 137, 'y': 361}, {'x': 137, 'y': 374}, {'x': 121, 'y': 374}]}, ['or']), ({'vertices': [{'x': 138, 'y': 361}, {'x': 182, 'y': 361}, {'x': 182, 'y': 374}, {'x': 138, 'y': 374}]}, ['Village']), ({'vertices': [{'x': 113, 'y': 382}, {'x': 246, 'y': 382}, {'x': 246, 'y': 403}, {'x': 113, 'y': 403}]}, ['Ecolie']), ({'vertices': [{'x': 280, 'y': 363}, {'x': 335, 'y': 363}, {'x': 335, 'y': 374}, {'x': 280, 'y': 374}]}, ['Province']), ({'vertices': [{'x': 391, 'y': 385}, {'x': 399, 'y': 385}, {'x': 399, 'y': 393}, {'x': 391, 'y': 393}]}, ['•']), ({'vertices': [{'x': 466, 'y': 360}, {'x': 519, 'y': 363}, {'x': 518, 'y': 374}, {'x': 465, 'y': 371}]}, ['Country']), ({'vertices': [{'x': 441, 'y': 382}, {'x': 536, 'y': 382}, {'x': 536, 'y': 402}, {'x': 441, 'y': 402}]}, ['LÖDZ']), ({'vertices': [{'x': 775, 'y': 189}, {'x': 872, 'y': 189}, {'x': 872, 'y': 212}, {'x': 775, 'y': 212}]}, ['Juve']), ({'vertices': [{'x': 734, 'y': 223}, {'x': 743, 'y': 223}, {'x': 743, 'y': 238}, {'x': 734, 'y': 238}]}, ['(']), ({'vertices': [{'x': 741, 'y': 223}, {'x': 754, 'y': 223}, {'x': 754, 'y': 238}, {'x': 741, 'y': 238}]}, ['7']), ({'vertices': [{'x': 748, 'y': 223}, {'x': 759, 'y': 223}, {'x': 759, 'y': 238}, {'x': 748, 'y': 238}]}, [')']), ({'vertices': [{'x': 768, 'y': 223}, {'x': 833, 'y': 223}, {'x': 833, 'y': 238}, {'x': 768, 'y': 238}]}, ['Religion']), ({'vertices': [{'x': 841, 'y': 223}, {'x': 847, 'y': 223}, {'x': 847, 'y': 238}, {'x': 841, 'y': 238}]}, ['(']), ({'vertices': [{'x': 847, 'y': 223}, {'x': 903, 'y': 223}, {'x': 903, 'y': 238}, {'x': 847, 'y': 238}]}, ['Optional']), ({'vertices': [{'x': 900, 'y': 223}, {'x': 908, 'y': 223}, {'x': 908, 'y': 238}, {'x': 900, 'y': 238}]}, [')']), ({'vertices': [{'x': 706, 'y': 253}, {'x': 793, 'y': 252}, {'x': 793, 'y': 268}, {'x': 706, 'y': 269}]}, ['Maria']), ({'vertices': [{'x': 1003, 'y': 24}, {'x': 1098, 'y': 22}, {'x': 1098, 'y': 45}, {'x': 1003, 'y': 47}]}, ['4454']), ({'vertices': [{'x': 978, 'y': 52}, {'x': 1000, 'y': 52}, {'x': 1000, 'y': 64}, {'x': 978, 'y': 64}]}, ['For']), ({'vertices': [{'x': 1003, 'y': 52}, {'x': 1044, 'y': 53}, {'x': 1044, 'y': 65}, {'x': 1003, 'y': 64}]}, ['coding']), ({'vertices': [{'x': 1047, 'y': 52}, {'x': 1102, 'y': 53}, {'x': 1102, 'y': 66}, {'x': 1047, 'y': 65}]}, ['purposes']), ({'vertices': [{'x': 918, 'y': 68}, {'x': 1054, 'y': 69}, {'x': 1054, 'y': 82}, {'x': 918, 'y': 81}]}, ['ABCDEF']), ({'vertices': [{'x': 1048, 'y': 70}, {'x': 1059, 'y': 70}, {'x': 1059, 'y': 82}, {'x': 1048, 'y': 82}]}, ['.']), ({'vertices': [{'x': 1067, 'y': 70}, {'x': 1085, 'y': 70}, {'x': 1085, 'y': 82}, {'x': 1067, 'y': 82}]}, ['G.']), ({'vertices': [{'x': 1093, 'y': 70}, {'x': 1113, 'y': 70}, {'x': 1113, 'y': 82}, {'x': 1093, 'y': 82}]}, ['H.']), ({'vertices': [{'x': 1118, 'y': 70}, {'x': 1153, 'y': 70}, {'x': 1153, 'y': 82}, {'x': 1118, 'y': 82}]}, ['LJ']), ({'vertices': [{'x': 952, 'y': 117}, {'x': 1108, 'y': 112}, {'x': 1109, 'y': 141}, {'x': 953, 'y': 146}]}, ['Polonase']), ({'vertices': [{'x': 923, 'y': 164}, {'x': 930, 'y': 164}, {'x': 930, 'y': 180}, {'x': 923, 'y': 180}]}, ['(']), ({'vertices': [{'x': 928, 'y': 164}, {'x': 939, 'y': 164}, {'x': 939, 'y': 180}, {'x': 928, 'y': 180}]}, ['5']), ({'vertices': [{'x': 937, 'y': 164}, {'x': 945, 'y': 164}, {'x': 945, 'y': 180}, {'x': 937, 'y': 180}]}, [')']), ({'vertices': [{'x': 955, 'y': 164}, {'x': 1021, 'y': 164}, {'x': 1021, 'y': 180}, {'x': 955, 'y': 180}]}, ['Claimed']), ({'vertices': [{'x': 1029, 'y': 164}, {'x': 1122, 'y': 165}, {'x': 1122, 'y': 182}, {'x': 1029, 'y': 181}]}, ['Nationality']), ({'vertices': [{'x': 924, 'y': 189}, {'x': 930, 'y': 189}, {'x': 930, 'y': 205}, {'x': 924, 'y': 205}]}, ['(']), ({'vertices': [{'x': 929, 'y': 188}, {'x': 939, 'y': 188}, {'x': 939, 'y': 204}, {'x': 929, 'y': 204}]}, ['8']), ({'vertices': [{'x': 937, 'y': 188}, {'x': 944, 'y': 188}, {'x': 944, 'y': 204}, {'x': 937, 'y': 204}]}, [')']), ({'vertices': [{'x': 955, 'y': 188}, {'x': 1023, 'y': 188}, {'x': 1023, 'y': 204}, {'x': 955, 'y': 204}]}, ['Number']), ({'vertices': [{'x': 1029, 'y': 188}, {'x': 1046, 'y': 188}, {'x': 1046, 'y': 204}, {'x': 1029, 'y': 204}]}, ['of']), ({'vertices': [{'x': 1050, 'y': 188}, {'x': 1112, 'y': 188}, {'x': 1112, 'y': 204}, {'x': 1050, 'y': 204}]}, ['Accom-']), ({'vertices': [{'x': 975, 'y': 206}, {'x': 1039, 'y': 206}, {'x': 1039, 'y': 223}, {'x': 975, 'y': 223}]}, ['panying']), ({'vertices': [{'x': 1053, 'y': 206}, {'x': 1109, 'y': 206}, {'x': 1109, 'y': 222}, {'x': 1053, 'y': 222}]}, ['Family']), ({'vertices': [{'x': 975, 'y': 222}, {'x': 1050, 'y': 221}, {'x': 1050, 'y': 236}, {'x': 975, 'y': 237}]}, ['Members']), ({'vertices': [{'x': 1050, 'y': 222}, {'x': 1055, 'y': 222}, {'x': 1055, 'y': 236}, {'x': 1050, 'y': 236}]}, [':']), ({'vertices': [{'x': 842, 'y': 250}, {'x': 973, 'y': 252}, {'x': 973, 'y': 275}, {'x': 842, 'y': 273}]}, ['ZELVER']), ({'vertices': [{'x': 783, 'y': 280}, {'x': 790, 'y': 280}, {'x': 790, 'y': 296}, {'x': 783, 'y': 296}]}, ['(']), ({'vertices': [{'x': 791, 'y': 280}, {'x': 808, 'y': 280}, {'x': 808, 'y': 296}, {'x': 791, 'y': 296}]}, ['11']), ({'vertices': [{'x': 806, 'y': 280}, {'x': 814, 'y': 280}, {'x': 814, 'y': 296}, {'x': 806, 'y': 296}]}, [')']), ({'vertices': [{'x': 825, 'y': 280}, {'x': 858, 'y': 280}, {'x': 858, 'y': 296}, {'x': 825, 'y': 296}]}, ['Full']), ({'vertices': [{'x': 865, 'y': 280}, {'x': 925, 'y': 280}, {'x': 925, 'y': 296}, {'x': 865, 'y': 296}]}, ['Maiden']), ({'vertices': [{'x': 933, 'y': 280}, {'x': 982, 'y': 280}, {'x': 982, 'y': 296}, {'x': 933, 'y': 296}]}, ['Name']), ({'vertices': [{'x': 987, 'y': 280}, {'x': 1004, 'y': 280}, {'x': 1004, 'y': 296}, {'x': 987, 'y': 296}]}, ['of']), ({'vertices': [{'x': 1010, 'y': 280}, {'x': 1070, 'y': 280}, {'x': 1070, 'y': 296}, {'x': 1010, 'y': 296}]}, ['Mother']), ({'vertices': [{'x': 612, 'y': 302}, {'x': 620, 'y': 302}, {'x': 620, 'y': 319}, {'x': 612, 'y': 319}]}, ['(']), ({'vertices': [{'x': 619, 'y': 302}, {'x': 636, 'y': 302}, {'x': 636, 'y': 319}, {'x': 619, 'y': 319}]}, ['13']), ({'vertices': [{'x': 636, 'y': 302}, {'x': 643, 'y': 302}, {'x': 643, 'y': 319}, {'x': 636, 'y': 319}]}, [')']), ({'vertices': [{'x': 648, 'y': 302}, {'x': 691, 'y': 302}, {'x': 691, 'y': 319}, {'x': 648, 'y': 319}]}, ['LAST']), ({'vertices': [{'x': 696, 'y': 302}, {'x': 794, 'y': 302}, {'x': 794, 'y': 319}, {'x': 696, 'y': 319}]}, ['PERMANENT']), ({'vertices': [{'x': 801, 'y': 302}, {'x': 890, 'y': 302}, {'x': 890, 'y': 319}, {'x': 801, 'y': 319}]}, ['RESIDENCE']), ({'vertices': [{'x': 896, 'y': 302}, {'x': 918, 'y': 302}, {'x': 918, 'y': 319}, {'x': 896, 'y': 319}]}, ['OR']), ({'vertices': [{'x': 923, 'y': 302}, {'x': 1014, 'y': 302}, {'x': 1014, 'y': 319}, {'x': 923, 'y': 319}]}, ['RESIDENCE']), ({'vertices': [{'x': 1019, 'y': 302}, {'x': 1095, 'y': 302}, {'x': 1095, 'y': 319}, {'x': 1019, 'y': 319}]}, ['JANUARY']), ({'vertices': [{'x': 1099, 'y': 302}, {'x': 1108, 'y': 302}, {'x': 1108, 'y': 319}, {'x': 1099, 'y': 319}]}, ['1']), ({'vertices': [{'x': 1108, 'y': 302}, {'x': 1114, 'y': 302}, {'x': 1114, 'y': 319}, {'x': 1108, 'y': 319}]}, [',']), ({'vertices': [{'x': 1120, 'y': 302}, {'x': 1157, 'y': 302}, {'x': 1157, 'y': 319}, {'x': 1120, 'y': 319}]}, ['1938']), ({'vertices': [{'x': 1157, 'y': 302}, {'x': 1162, 'y': 302}, {'x': 1162, 'y': 319}, {'x': 1157, 'y': 319}]}, ['.']), ({'vertices': [{'x': 631, 'y': 323}, {'x': 727, 'y': 325}, {'x': 726, 'y': 349}, {'x': 630, 'y': 347}]}, ['LODZ']), ({'vertices': [{'x': 664, 'y': 361}, {'x': 694, 'y': 361}, {'x': 694, 'y': 372}, {'x': 664, 'y': 372}]}, ['City']), ({'vertices': [{'x': 697, 'y': 361}, {'x': 711, 'y': 361}, {'x': 711, 'y': 372}, {'x': 697, 'y': 372}]}, ['or']), ({'vertices': [{'x': 714, 'y': 361}, {'x': 758, 'y': 361}, {'x': 758, 'y': 372}, {'x': 714, 'y': 372}]}, ['Village']), ({'vertices': [{'x': 815, 'y': 322}, {'x': 964, 'y': 323}, {'x': 964, 'y': 351}, {'x': 815, 'y': 350}]}, ['Bologne']), ({'vertices': [{'x': 874, 'y': 359}, {'x': 928, 'y': 361}, {'x': 928, 'y': 372}, {'x': 874, 'y': 370}]}, ['Province']), ({'vertices': [{'x': 1047, 'y': 360}, {'x': 1100, 'y': 363}, {'x': 1099, 'y': 375}, {'x': 1046, 'y': 372}]}, ['Country']), ({'vertices': [{'x': 50, 'y': 418}, {'x': 58, 'y': 418}, {'x': 58, 'y': 435}, {'x': 50, 'y': 435}]}, ['(']), ({'vertices': [{'x': 58, 'y': 418}, {'x': 75, 'y': 418}, {'x': 75, 'y': 435}, {'x': 58, 'y': 435}]}, ['14']), ({'vertices': [{'x': 74, 'y': 418}, {'x': 81, 'y': 418}, {'x': 81, 'y': 435}, {'x': 74, 'y': 435}]}, [')']), ({'vertices': [{'x': 90, 'y': 418}, {'x': 135, 'y': 418}, {'x': 135, 'y': 435}, {'x': 90, 'y': 435}]}, ['Usual']), ({'vertices': [{'x': 140, 'y': 418}, {'x': 189, 'y': 418}, {'x': 189, 'y': 435}, {'x': 140, 'y': 435}]}, ['Trade']), ({'vertices': [{'x': 188, 'y': 418}, {'x': 192, 'y': 418}, {'x': 192, 'y': 435}, {'x': 188, 'y': 435}]}, [',']), ({'vertices': [{'x': 200, 'y': 418}, {'x': 292, 'y': 418}, {'x': 292, 'y': 435}, {'x': 200, 'y': 435}]}, ['Occupation']), ({'vertices': [{'x': 297, 'y': 418}, {'x': 314, 'y': 418}, {'x': 314, 'y': 435}, {'x': 297, 'y': 435}]}, ['or']), ({'vertices': [{'x': 319, 'y': 418}, {'x': 400, 'y': 418}, {'x': 400, 'y': 435}, {'x': 319, 'y': 435}]}, ['Profession']), ({'vertices': [{'x': 422, 'y': 418}, {'x': 429, 'y': 418}, {'x': 429, 'y': 435}, {'x': 422, 'y': 435}]}, ['(']), ({'vertices': [{'x': 429, 'y': 418}, {'x': 446, 'y': 418}, {'x': 446, 'y': 435}, {'x': 429, 'y': 435}]}, ['15']), ({'vertices': [{'x': 444, 'y': 418}, {'x': 451, 'y': 418}, {'x': 451, 'y': 435}, {'x': 444, 'y': 435}]}, [')']), ({'vertices': [{'x': 460, 'y': 418}, {'x': 545, 'y': 418}, {'x': 545, 'y': 435}, {'x': 460, 'y': 435}]}, ['Performed']), ({'vertices': [{'x': 550, 'y': 418}, {'x': 565, 'y': 418}, {'x': 565, 'y': 435}, {'x': 550, 'y': 435}]}, ['in']), ({'vertices': [{'x': 570, 'y': 418}, {'x': 615, 'y': 418}, {'x': 615, 'y': 435}, {'x': 570, 'y': 435}]}, ['What']), ({'vertices': [{'x': 620, 'y': 418}, {'x': 660, 'y': 418}, {'x': 660, 'y': 435}, {'x': 620, 'y': 435}]}, ['Kind']), ({'vertices': [{'x': 665, 'y': 418}, {'x': 683, 'y': 418}, {'x': 683, 'y': 435}, {'x': 665, 'y': 435}]}, ['of']), ({'vertices': [{'x': 686, 'y': 418}, {'x': 803, 'y': 418}, {'x': 803, 'y': 435}, {'x': 686, 'y': 435}]}, ['Establishment']), ({'vertices': [{'x': 824, 'y': 418}, {'x': 831, 'y': 418}, {'x': 831, 'y': 435}, {'x': 824, 'y': 435}]}, ['(']), ({'vertices': [{'x': 830, 'y': 418}, {'x': 848, 'y': 418}, {'x': 848, 'y': 435}, {'x': 830, 'y': 435}]}, ['16']), ({'vertices': [{'x': 848, 'y': 418}, {'x': 855, 'y': 418}, {'x': 855, 'y': 435}, {'x': 848, 'y': 435}]}, [')']), ({'vertices': [{'x': 865, 'y': 418}, {'x': 911, 'y': 418}, {'x': 911, 'y': 435}, {'x': 865, 'y': 435}]}, ['Other']), ({'vertices': [{'x': 918, 'y': 418}, {'x': 974, 'y': 418}, {'x': 974, 'y': 435}, {'x': 918, 'y': 435}]}, ['Trades']), ({'vertices': [{'x': 979, 'y': 418}, {'x': 998, 'y': 418}, {'x': 998, 'y': 435}, {'x': 979, 'y': 435}]}, ['or']), ({'vertices': [{'x': 1002, 'y': 418}, {'x': 1103, 'y': 418}, {'x': 1103, 'y': 435}, {'x': 1002, 'y': 435}]}, ['Occupations']), ({'vertices': [{'x': 40, 'y': 442}, {'x': 147, 'y': 446}, {'x': 146, 'y': 472}, {'x': 39, 'y': 468}]}, ['Solonas']), ({'vertices': [{'x': 48, 'y': 478}, {'x': 64, 'y': 478}, {'x': 64, 'y': 488}, {'x': 48, 'y': 488}]}, ['B.']), ({'vertices': [{'x': 189, 'y': 476}, {'x': 198, 'y': 476}, {'x': 198, 'y': 488}, {'x': 189, 'y': 488}]}, ['b']), ({'vertices': [{'x': 200, 'y': 476}, {'x': 205, 'y': 476}, {'x': 205, 'y': 488}, {'x': 200, 'y': 488}]}, ['.']), ({'vertices': [{'x': 337, 'y': 479}, {'x': 345, 'y': 479}, {'x': 345, 'y': 489}, {'x': 337, 'y': 489}]}, ['a']), ({'vertices': [{'x': 343, 'y': 479}, {'x': 351, 'y': 479}, {'x': 351, 'y': 489}, {'x': 343, 'y': 489}]}, ['.']), ({'vertices': [{'x': 50, 'y': 496}, {'x': 58, 'y': 496}, {'x': 58, 'y': 511}, {'x': 50, 'y': 511}]}, ['(']), ({'vertices': [{'x': 57, 'y': 495}, {'x': 77, 'y': 495}, {'x': 77, 'y': 510}, {'x': 57, 'y': 510}]}, ['17']), ({'vertices': [{'x': 72, 'y': 495}, {'x': 81, 'y': 495}, {'x': 81, 'y': 510}, {'x': 72, 'y': 510}]}, [')']), ({'vertices': [{'x': 91, 'y': 495}, {'x': 176, 'y': 495}, {'x': 176, 'y': 510}, {'x': 91, 'y': 510}]}, ['Languages']), ({'vertices': [{'x': 184, 'y': 495}, {'x': 241, 'y': 495}, {'x': 241, 'y': 510}, {'x': 184, 'y': 510}]}, ['Spoken']), ({'vertices': [{'x': 249, 'y': 495}, {'x': 263, 'y': 495}, {'x': 263, 'y': 510}, {'x': 249, 'y': 510}]}, ['in']), ({'vertices': [{'x': 271, 'y': 494}, {'x': 318, 'y': 494}, {'x': 318, 'y': 509}, {'x': 271, 'y': 509}]}, ['Order']), ({'vertices': [{'x': 323, 'y': 494}, {'x': 342, 'y': 494}, {'x': 342, 'y': 509}, {'x': 323, 'y': 509}]}, ['of']), ({'vertices': [{'x': 344, 'y': 494}, {'x': 410, 'y': 494}, {'x': 410, 'y': 509}, {'x': 344, 'y': 509}]}, ['Fluency']), ({'vertices': [{'x': 50, 'y': 515}, {'x': 57, 'y': 515}, {'x': 57, 'y': 532}, {'x': 50, 'y': 532}]}, ['(']), ({'vertices': [{'x': 56, 'y': 514}, {'x': 75, 'y': 514}, {'x': 75, 'y': 531}, {'x': 56, 'y': 531}]}, ['20']), ({'vertices': [{'x': 73, 'y': 514}, {'x': 81, 'y': 514}, {'x': 81, 'y': 531}, {'x': 73, 'y': 531}]}, [')']), ({'vertices': [{'x': 91, 'y': 513}, {'x': 168, 'y': 512}, {'x': 168, 'y': 530}, {'x': 91, 'y': 531}]}, ['Signature']), ({'vertices': [{'x': 92, 'y': 532}, {'x': 109, 'y': 532}, {'x': 109, 'y': 548}, {'x': 92, 'y': 548}]}, ['of']), ({'vertices': [{'x': 113, 'y': 531}, {'x': 199, 'y': 532}, {'x': 199, 'y': 549}, {'x': 113, 'y': 548}]}, ['Registrant']), ({'vertices': [{'x': 200, 'y': 533}, {'x': 206, 'y': 533}, {'x': 206, 'y': 549}, {'x': 200, 'y': 549}]}, [':']), ({'vertices': [{'x': 231, 'y': 528}, {'x': 245, 'y': 528}, {'x': 245, 'y': 539}, {'x': 231, 'y': 539}]}, ['X']), ({'vertices': [{'x': 50, 'y': 553}, {'x': 58, 'y': 553}, {'x': 58, 'y': 569}, {'x': 50, 'y': 569}]}, ['(']), ({'vertices': [{'x': 56, 'y': 553}, {'x': 76, 'y': 553}, {'x': 76, 'y': 569}, {'x': 56, 'y': 569}]}, ['22']), ({'vertices': [{'x': 75, 'y': 553}, {'x': 82, 'y': 553}, {'x': 82, 'y': 569}, {'x': 75, 'y': 569}]}, [')']), ({'vertices': [{'x': 93, 'y': 553}, {'x': 188, 'y': 553}, {'x': 188, 'y': 569}, {'x': 93, 'y': 569}]}, ['Destination']), ({'vertices': [{'x': 193, 'y': 553}, {'x': 212, 'y': 553}, {'x': 212, 'y': 569}, {'x': 193, 'y': 569}]}, ['or']), ({'vertices': [{'x': 93, 'y': 568}, {'x': 172, 'y': 567}, {'x': 172, 'y': 584}, {'x': 93, 'y': 585}]}, ['Reception']), ({'vertices': [{'x': 181, 'y': 568}, {'x': 235, 'y': 568}, {'x': 235, 'y': 584}, {'x': 181, 'y': 584}]}, ['Center']), ({'vertices': [{'x': 235, 'y': 568}, {'x': 240, 'y': 568}, {'x': 240, 'y': 584}, {'x': 235, 'y': 584}]}, [':']), ({'vertices': [{'x': 350, 'y': 590}, {'x': 388, 'y': 590}, {'x': 388, 'y': 601}, {'x': 350, 'y': 601}]}, ['Name']), ({'vertices': [{'x': 392, 'y': 590}, {'x': 405, 'y': 590}, {'x': 405, 'y': 601}, {'x': 392, 'y': 601}]}, ['or']), ({'vertices': [{'x': 408, 'y': 590}, {'x': 462, 'y': 590}, {'x': 462, 'y': 601}, {'x': 408, 'y': 601}]}, ['Number']), ({'vertices': [{'x': 474, 'y': 441}, {'x': 481, 'y': 441}, {'x': 481, 'y': 457}, {'x': 474, 'y': 457}]}, ['(']), ({'vertices': [{'x': 480, 'y': 440}, {'x': 498, 'y': 440}, {'x': 498, 'y': 456}, {'x': 480, 'y': 456}]}, ['18']), ({'vertices': [{'x': 497, 'y': 440}, {'x': 504, 'y': 440}, {'x': 504, 'y': 456}, {'x': 497, 'y': 456}]}, [')']), ({'vertices': [{'x': 515, 'y': 440}, {'x': 540, 'y': 440}, {'x': 540, 'y': 456}, {'x': 515, 'y': 456}]}, ['Do']), ({'vertices': [{'x': 544, 'y': 440}, {'x': 577, 'y': 440}, {'x': 577, 'y': 456}, {'x': 544, 'y': 456}]}, ['You']), ({'vertices': [{'x': 583, 'y': 440}, {'x': 629, 'y': 440}, {'x': 629, 'y': 456}, {'x': 583, 'y': 456}]}, ['Claim']), ({'vertices': [{'x': 514, 'y': 456}, {'x': 532, 'y': 456}, {'x': 532, 'y': 471}, {'x': 514, 'y': 471}]}, ['to']), ({'vertices': [{'x': 542, 'y': 456}, {'x': 561, 'y': 456}, {'x': 561, 'y': 470}, {'x': 542, 'y': 470}]}, ['be']), ({'vertices': [{'x': 571, 'y': 456}, {'x': 581, 'y': 456}, {'x': 581, 'y': 470}, {'x': 571, 'y': 470}]}, ['a']), ({'vertices': [{'x': 592, 'y': 456}, {'x': 629, 'y': 456}, {'x': 629, 'y': 470}, {'x': 592, 'y': 470}]}, ['Pris-']), ({'vertices': [{'x': 515, 'y': 475}, {'x': 550, 'y': 474}, {'x': 550, 'y': 489}, {'x': 515, 'y': 490}]}, ['oner']), ({'vertices': [{'x': 556, 'y': 474}, {'x': 574, 'y': 474}, {'x': 574, 'y': 488}, {'x': 556, 'y': 488}]}, ['of']), ({'vertices': [{'x': 579, 'y': 473}, {'x': 613, 'y': 472}, {'x': 613, 'y': 487}, {'x': 579, 'y': 488}]}, ['War']), ({'vertices': [{'x': 651, 'y': 493}, {'x': 677, 'y': 493}, {'x': 677, 'y': 511}, {'x': 651, 'y': 511}]}, ['Yes']), ({'vertices': [{'x': 692, 'y': 493}, {'x': 712, 'y': 493}, {'x': 712, 'y': 511}, {'x': 692, 'y': 511}]}, ['No']), ({'vertices': [{'x': 729, 'y': 493}, {'x': 736, 'y': 493}, {'x': 736, 'y': 511}, {'x': 729, 'y': 511}]}, ['(']), ({'vertices': [{'x': 737, 'y': 493}, {'x': 754, 'y': 493}, {'x': 754, 'y': 511}, {'x': 737, 'y': 511}]}, ['19']), ({'vertices': [{'x': 753, 'y': 493}, {'x': 760, 'y': 493}, {'x': 760, 'y': 511}, {'x': 753, 'y': 511}]}, [')']), ({'vertices': [{'x': 768, 'y': 493}, {'x': 834, 'y': 493}, {'x': 834, 'y': 511}, {'x': 768, 'y': 511}]}, ['Amount']), ({'vertices': [{'x': 837, 'y': 493}, {'x': 869, 'y': 493}, {'x': 869, 'y': 512}, {'x': 837, 'y': 512}]}, ['and']), ({'vertices': [{'x': 873, 'y': 494}, {'x': 914, 'y': 494}, {'x': 914, 'y': 512}, {'x': 873, 'y': 512}]}, ['Kind']), ({'vertices': [{'x': 917, 'y': 494}, {'x': 935, 'y': 494}, {'x': 935, 'y': 512}, {'x': 917, 'y': 512}]}, ['of']), ({'vertices': [{'x': 937, 'y': 494}, {'x': 1012, 'y': 494}, {'x': 1012, 'y': 512}, {'x': 937, 'y': 512}]}, ['Currency']), ({'vertices': [{'x': 1016, 'y': 494}, {'x': 1031, 'y': 494}, {'x': 1031, 'y': 512}, {'x': 1016, 'y': 512}]}, ['in']), ({'vertices': [{'x': 1036, 'y': 495}, {'x': 1074, 'y': 495}, {'x': 1074, 'y': 513}, {'x': 1036, 'y': 513}]}, ['your']), ({'vertices': [{'x': 1078, 'y': 495}, {'x': 1162, 'y': 495}, {'x': 1162, 'y': 513}, {'x': 1078, 'y': 513}]}, ['Possession']), ({'vertices': [{'x': 981, 'y': 516}, {'x': 1058, 'y': 516}, {'x': 1058, 'y': 531}, {'x': 981, 'y': 531}]}, ['Assembly']), ({'vertices': [{'x': 1083, 'y': 516}, {'x': 1101, 'y': 516}, {'x': 1101, 'y': 531}, {'x': 1083, 'y': 531}]}, ['T.']), ({'vertices': [{'x': 801, 'y': 522}, {'x': 844, 'y': 522}, {'x': 844, 'y': 547}, {'x': 801, 'y': 547}]}, ['Date']), ({'vertices': [{'x': 843, 'y': 522}, {'x': 850, 'y': 522}, {'x': 850, 'y': 546}, {'x': 843, 'y': 546}]}, [':']), ({'vertices': [{'x': 858, 'y': 522}, {'x': 965, 'y': 521}, {'x': 965, 'y': 545}, {'x': 858, 'y': 546}]}, ['10-9.45']), ({'vertices': [{'x': 977, 'y': 520}, {'x': 1039, 'y': 519}, {'x': 1039, 'y': 544}, {'x': 977, 'y': 545}]}, ['Center']), ({'vertices': [{'x': 1039, 'y': 520}, {'x': 1071, 'y': 520}, {'x': 1071, 'y': 544}, {'x': 1039, 'y': 544}]}, ['No.']), ({'vertices': [{'x': 473, 'y': 516}, {'x': 480, 'y': 516}, {'x': 480, 'y': 532}, {'x': 473, 'y': 532}]}, ['(']), ({'vertices': [{'x': 477, 'y': 515}, {'x': 496, 'y': 515}, {'x': 496, 'y': 531}, {'x': 477, 'y': 531}]}, ['21']), ({'vertices': [{'x': 494, 'y': 515}, {'x': 502, 'y': 515}, {'x': 502, 'y': 531}, {'x': 494, 'y': 531}]}, [')']), ({'vertices': [{'x': 512, 'y': 515}, {'x': 591, 'y': 514}, {'x': 591, 'y': 531}, {'x': 512, 'y': 532}]}, ['Signature']), ({'vertices': [{'x': 511, 'y': 534}, {'x': 535, 'y': 533}, {'x': 536, 'y': 553}, {'x': 512, 'y': 554}]}, ['of']), ({'vertices': [{'x': 531, 'y': 532}, {'x': 612, 'y': 528}, {'x': 613, 'y': 549}, {'x': 532, 'y': 553}]}, ['Registrar']), ({'vertices': [{'x': 610, 'y': 528}, {'x': 618, 'y': 528}, {'x': 619, 'y': 548}, {'x': 611, 'y': 548}]}, [':']), ({'vertices': [{'x': 600, 'y': 560}, {'x': 671, 'y': 561}, {'x': 671, 'y': 589}, {'x': 600, 'y': 588}]}, ['Sent']), ({'vertices': [{'x': 676, 'y': 562}, {'x': 707, 'y': 562}, {'x': 707, 'y': 589}, {'x': 676, 'y': 589}]}, ['to']), ({'vertices': [{'x': 711, 'y': 562}, {'x': 762, 'y': 563}, {'x': 762, 'y': 590}, {'x': 711, 'y': 589}]}, ['Nio']), ({'vertices': [{'x': 635, 'y': 590}, {'x': 663, 'y': 590}, {'x': 663, 'y': 602}, {'x': 635, 'y': 602}]}, ['City']), ({'vertices': [{'x': 667, 'y': 590}, {'x': 680, 'y': 590}, {'x': 680, 'y': 601}, {'x': 667, 'y': 601}]}, ['or']), ({'vertices': [{'x': 684, 'y': 590}, {'x': 726, 'y': 590}, {'x': 726, 'y': 601}, {'x': 684, 'y': 601}]}, ['Village']), ({'vertices': [{'x': 883, 'y': 589}, {'x': 938, 'y': 588}, {'x': 938, 'y': 601}, {'x': 883, 'y': 602}]}, ['Provitice']), ({'vertices': [{'x': 1045, 'y': 589}, {'x': 1100, 'y': 591}, {'x': 1100, 'y': 604}, {'x': 1045, 'y': 602}]}, ['Country']), ({'vertices': [{'x': 51, 'y': 607}, {'x': 58, 'y': 607}, {'x': 58, 'y': 622}, {'x': 51, 'y': 622}]}, ['(']), ({'vertices': [{'x': 57, 'y': 607}, {'x': 76, 'y': 607}, {'x': 76, 'y': 622}, {'x': 57, 'y': 622}]}, ['23']), ({'vertices': [{'x': 75, 'y': 607}, {'x': 82, 'y': 607}, {'x': 82, 'y': 622}, {'x': 75, 'y': 622}]}, [')']), ({'vertices': [{'x': 85, 'y': 607}, {'x': 126, 'y': 607}, {'x': 126, 'y': 622}, {'x': 85, 'y': 622}]}, ['Code']), ({'vertices': [{'x': 135, 'y': 607}, {'x': 145, 'y': 607}, {'x': 145, 'y': 622}, {'x': 135, 'y': 622}]}, ['1']), ({'vertices': [{'x': 171, 'y': 608}, {'x': 181, 'y': 608}, {'x': 181, 'y': 619}, {'x': 171, 'y': 619}]}, ['2']), ({'vertices': [{'x': 209, 'y': 609}, {'x': 219, 'y': 609}, {'x': 219, 'y': 620}, {'x': 209, 'y': 620}]}, ['3']), ({'vertices': [{'x': 246, 'y': 609}, {'x': 257, 'y': 609}, {'x': 257, 'y': 621}, {'x': 246, 'y': 621}]}, ['4']), ({'vertices': [{'x': 284, 'y': 608}, {'x': 295, 'y': 608}, {'x': 295, 'y': 620}, {'x': 284, 'y': 620}]}, ['5']), ({'vertices': [{'x': 322, 'y': 609}, {'x': 333, 'y': 609}, {'x': 333, 'y': 620}, {'x': 322, 'y': 620}]}, ['6']), ({'vertices': [{'x': 360, 'y': 609}, {'x': 368, 'y': 609}, {'x': 368, 'y': 620}, {'x': 360, 'y': 620}]}, ['7']), ({'vertices': [{'x': 396, 'y': 608}, {'x': 408, 'y': 608}, {'x': 408, 'y': 620}, {'x': 396, 'y': 620}]}, ['8']), ({'vertices': [{'x': 432, 'y': 609}, {'x': 444, 'y': 609}, {'x': 444, 'y': 621}, {'x': 432, 'y': 621}]}, ['9']), ({'vertices': [{'x': 468, 'y': 608}, {'x': 487, 'y': 608}, {'x': 487, 'y': 620}, {'x': 468, 'y': 620}]}, ['10']), ({'vertices': [{'x': 505, 'y': 608}, {'x': 523, 'y': 608}, {'x': 523, 'y': 620}, {'x': 505, 'y': 620}]}, ['11']), ({'vertices': [{'x': 543, 'y': 607}, {'x': 559, 'y': 607}, {'x': 559, 'y': 621}, {'x': 543, 'y': 621}]}, ['12']), ({'vertices': [{'x': 579, 'y': 607}, {'x': 598, 'y': 607}, {'x': 598, 'y': 620}, {'x': 579, 'y': 620}]}, ['13']), ({'vertices': [{'x': 616, 'y': 607}, {'x': 634, 'y': 607}, {'x': 634, 'y': 620}, {'x': 616, 'y': 620}]}, ['14']), ({'vertices': [{'x': 654, 'y': 607}, {'x': 672, 'y': 607}, {'x': 672, 'y': 620}, {'x': 654, 'y': 620}]}, ['15']), ({'vertices': [{'x': 693, 'y': 606}, {'x': 710, 'y': 606}, {'x': 710, 'y': 621}, {'x': 693, 'y': 621}]}, ['16']), ({'vertices': [{'x': 729, 'y': 606}, {'x': 747, 'y': 606}, {'x': 747, 'y': 621}, {'x': 729, 'y': 621}]}, ['17']), ({'vertices': [{'x': 768, 'y': 606}, {'x': 786, 'y': 606}, {'x': 786, 'y': 621}, {'x': 768, 'y': 621}]}, ['18']), ({'vertices': [{'x': 805, 'y': 606}, {'x': 824, 'y': 606}, {'x': 824, 'y': 621}, {'x': 805, 'y': 621}]}, ['19']), ({'vertices': [{'x': 841, 'y': 606}, {'x': 861, 'y': 606}, {'x': 861, 'y': 621}, {'x': 841, 'y': 621}]}, ['20']), ({'vertices': [{'x': 878, 'y': 606}, {'x': 898, 'y': 606}, {'x': 898, 'y': 621}, {'x': 878, 'y': 621}]}, ['21']), ({'vertices': [{'x': 915, 'y': 606}, {'x': 936, 'y': 606}, {'x': 936, 'y': 621}, {'x': 915, 'y': 621}]}, ['22']), ({'vertices': [{'x': 954, 'y': 607}, {'x': 975, 'y': 607}, {'x': 975, 'y': 622}, {'x': 954, 'y': 622}]}, ['23']), ({'vertices': [{'x': 992, 'y': 607}, {'x': 1012, 'y': 607}, {'x': 1012, 'y': 622}, {'x': 992, 'y': 622}]}, ['24']), ({'vertices': [{'x': 1029, 'y': 607}, {'x': 1049, 'y': 607}, {'x': 1049, 'y': 622}, {'x': 1029, 'y': 622}]}, ['25']), ({'vertices': [{'x': 1066, 'y': 607}, {'x': 1087, 'y': 607}, {'x': 1087, 'y': 622}, {'x': 1066, 'y': 622}]}, ['26']), ({'vertices': [{'x': 1103, 'y': 607}, {'x': 1123, 'y': 607}, {'x': 1123, 'y': 622}, {'x': 1103, 'y': 622}]}, ['27']), ({'vertices': [{'x': 1139, 'y': 607}, {'x': 1161, 'y': 607}, {'x': 1161, 'y': 622}, {'x': 1139, 'y': 622}]}, ['28']), ({'vertices': [{'x': 48, 'y': 624}, {'x': 73, 'y': 624}, {'x': 73, 'y': 637}, {'x': 48, 'y': 637}]}, ['for']), ({'vertices': [{'x': 79, 'y': 624}, {'x': 121, 'y': 624}, {'x': 121, 'y': 637}, {'x': 79, 'y': 637}]}, ['Issue']), ({'vertices': [{'x': 35, 'y': 647}, {'x': 66, 'y': 647}, {'x': 66, 'y': 673}, {'x': 35, 'y': 673}]}, ['12']), ({'vertices': [{'x': 75, 'y': 646}, {'x': 220, 'y': 644}, {'x': 220, 'y': 670}, {'x': 75, 'y': 672}]}, ['EaPalghine']), ({'vertices': [{'x': 237, 'y': 645}, {'x': 251, 'y': 645}, {'x': 251, 'y': 670}, {'x': 237, 'y': 670}]}, ['1']), ({'vertices': [{'x': 249, 'y': 644}, {'x': 352, 'y': 643}, {'x': 352, 'y': 669}, {'x': 249, 'y': 670}]}, ['coume']), ({'vertices': [{'x': 360, 'y': 643}, {'x': 378, 'y': 643}, {'x': 378, 'y': 668}, {'x': 360, 'y': 668}]}, ['a']), ({'vertices': [{'x': 387, 'y': 642}, {'x': 443, 'y': 641}, {'x': 443, 'y': 666}, {'x': 387, 'y': 667}]}, ['TEL']), ({'vertices': [{'x': 436, 'y': 642}, {'x': 451, 'y': 642}, {'x': 451, 'y': 667}, {'x': 436, 'y': 667}]}, ['.']), ({'vertices': [{'x': 450, 'y': 641}, {'x': 520, 'y': 640}, {'x': 520, 'y': 666}, {'x': 450, 'y': 667}]}, ['AVIV']), ({'vertices': [{'x': 536, 'y': 640}, {'x': 546, 'y': 640}, {'x': 546, 'y': 665}, {'x': 536, 'y': 665}]}, ['(']), ({'vertices': [{'x': 543, 'y': 640}, {'x': 565, 'y': 640}, {'x': 565, 'y': 665}, {'x': 543, 'y': 665}]}, ['24']), ({'vertices': [{'x': 560, 'y': 640}, {'x': 570, 'y': 640}, {'x': 570, 'y': 665}, {'x': 560, 'y': 665}]}, [')']), ({'vertices': [{'x': 577, 'y': 639}, {'x': 658, 'y': 638}, {'x': 658, 'y': 664}, {'x': 577, 'y': 665}]}, ['REMARKS']), ({'vertices': [{'x': 404, 'y': 693}, {'x': 506, 'y': 691}, {'x': 507, 'y': 721}, {'x': 405, 'y': 723}]}, ['Bogen']), ({'vertices': [{'x': 503, 'y': 691}, {'x': 527, 'y': 690}, {'x': 528, 'y': 719}, {'x': 504, 'y': 720}]}, ['.']), ({'vertices': [{'x': 518, 'y': 691}, {'x': 620, 'y': 689}, {'x': 621, 'y': 718}, {'x': 519, 'y': 720}]}, ['Derson']), ({'vertices': [{'x': 619, 'y': 689}, {'x': 637, 'y': 689}, {'x': 638, 'y': 718}, {'x': 620, 'y': 718}]}, ['.']), ({'vertices': [{'x': 66, 'y': 663}, {'x': 176, 'y': 664}, {'x': 176, 'y': 696}, {'x': 66, 'y': 695}]}, ['Anetre']), ({'vertices': [{'x': 183, 'y': 664}, {'x': 222, 'y': 664}, {'x': 222, 'y': 695}, {'x': 183, 'y': 695}]}, ['in']), ({'vertices': [{'x': 236, 'y': 665}, {'x': 308, 'y': 666}, {'x': 308, 'y': 697}, {'x': 236, 'y': 696}]}, ['Art']), ({'vertices': [{'x': 319, 'y': 665}, {'x': 400, 'y': 666}, {'x': 400, 'y': 698}, {'x': 319, 'y': 697}]}, ['1944']), ({'vertices': [{'x': 418, 'y': 666}, {'x': 487, 'y': 666}, {'x': 487, 'y': 697}, {'x': 418, 'y': 697}]}, ['avec']), ({'vertices': [{'x': 486, 'y': 667}, {'x': 505, 'y': 667}, {'x': 505, 'y': 698}, {'x': 486, 'y': 698}]}, ['/']), ({'vertices': [{'x': 509, 'y': 667}, {'x': 571, 'y': 667}, {'x': 571, 'y': 698}, {'x': 509, 'y': 698}]}, ['xem']), ({'vertices': [{'x': 587, 'y': 667}, {'x': 625, 'y': 667}, {'x': 625, 'y': 698}, {'x': 587, 'y': 698}]}, ['oft']), ({'vertices': [{'x': 631, 'y': 667}, {'x': 757, 'y': 668}, {'x': 757, 'y': 700}, {'x': 631, 'y': 699}]}, ['3ions']), ({'vertices': [{'x': 759, 'y': 668}, {'x': 780, 'y': 668}, {'x': 780, 'y': 699}, {'x': 759, 'y': 699}]}, ['.']), ({'vertices': [{'x': 780, 'y': 668}, {'x': 918, 'y': 669}, {'x': 918, 'y': 701}, {'x': 780, 'y': 700}]}, ['Anchurity']), ({'vertices': [{'x': 932, 'y': 670}, {'x': 1022, 'y': 671}, {'x': 1022, 'y': 702}, {'x': 932, 'y': 701}]}, ['syus']), ({'vertices': [{'x': 1023, 'y': 670}, {'x': 1044, 'y': 670}, {'x': 1044, 'y': 701}, {'x': 1023, 'y': 701}]}, [',']), ({'vertices': [{'x': 1048, 'y': 670}, {'x': 1161, 'y': 671}, {'x': 1161, 'y': 703}, {'x': 1048, 'y': 702}]}, ['Ravent']), ({'vertices': [{'x': 54, 'y': 686}, {'x': 136, 'y': 688}, {'x': 135, 'y': 720}, {'x': 53, 'y': 718}]}, ['mas']), ({'vertices': [{'x': 150, 'y': 689}, {'x': 222, 'y': 691}, {'x': 221, 'y': 722}, {'x': 149, 'y': 720}]}, ['day']), ({'vertices': [{'x': 221, 'y': 691}, {'x': 249, 'y': 692}, {'x': 248, 'y': 723}, {'x': 220, 'y': 722}]}, ['a']), ({'vertices': [{'x': 258, 'y': 692}, {'x': 361, 'y': 695}, {'x': 360, 'y': 727}, {'x': 257, 'y': 724}]}, ['ghetto']), ({'vertices': [{'x': 376, 'y': 705}, {'x': 385, 'y': 705}, {'x': 385, 'y': 712}, {'x': 376, 'y': 712}]}, ['·']), ({'vertices': [{'x': 1106, 'y': 723}, {'x': 1133, 'y': 723}, {'x': 1133, 'y': 734}, {'x': 1106, 'y': 734}]}, ['DP']), ({'vertices': [{'x': 1132, 'y': 723}, {'x': 1142, 'y': 723}, {'x': 1142, 'y': 734}, {'x': 1132, 'y': 734}]}, ['-']), ({'vertices': [{'x': 1137, 'y': 723}, {'x': 1149, 'y': 723}, {'x': 1149, 'y': 734}, {'x': 1137, 'y': 734}]}, ['2']), ({'vertices': [{'x': 1092, 'y': 738}, {'x': 1160, 'y': 738}, {'x': 1160, 'y': 747}, {'x': 1092, 'y': 747}]}, ['10-30781-1'])], 'entity_types': {'CARDINAL': ['1', '2', '6', '9', '4', '3', '12', '5', '11', '13', '20', '23', '13', '15', '23', '27 28', '12', '24', '3ions'], 'DATE': ['1929-Sept. 14', '1, 1938', 'Art 1944', '10-30781-1'], 'PERSON': ['Names F. Widowed', 'Maria 4454', 'ABCDEF', 'G. H. LJ Polonase', 'Solonas B. b. a.', 'Derson'], 'GPE': ['LIPSZYC Province', 'LODZ City', 'Village Bologne Province Country', 'Nio City'], 'ORG': ['ZELVER', 'Trades', 'Order of Fluency', 'Possession Assembly T. Date', 'TEL'], 'EVENT': ['Occupation'], 'PERCENT': ['10-9.45'], 'PRODUCT': ['REMARKS Bogen']}, 'top_title': ['page of Testimony', 'דף עד'], 'Production date': '10-30781-1'}\n"
     ]
    },
    {
     "name": "stderr",
     "output_type": "stream",
     "text": [
      "WARNING:absl:Compiled the loaded model, but the compiled metrics have yet to be built. `model.compile_metrics` will be empty until you train or evaluate the model.\n"
     ]
    },
    {
     "name": "stdout",
     "output_type": "stream",
     "text": [
      "data_practucom/test\\documents_with_json\\10554956_1.json 😄 Testimony page including a photograph\n"
     ]
    },
    {
     "name": "stderr",
     "output_type": "stream",
     "text": [
      "WARNING:absl:Compiled the loaded model, but the compiled metrics have yet to be built. `model.compile_metrics` will be empty until you train or evaluate the model.\n"
     ]
    },
    {
     "name": "stdout",
     "output_type": "stream",
     "text": [
      "eeeeeeeeeeeeeeeeeeeeeeeeeeeee\n",
      "(12, 223.25)\n",
      "Monday\n",
      "uuuuuuuuuuuuuuuuuuuuu {'page type': 'Testimony page including a photograph', 'data_Languages': [('English', 0.996043), ('German', 0.0039570024)], 'full_desc_with_verices': ({'text': 'Edward Reiter (Born Vienna, Austria: April 19, 1925) Dear Mr. Gertner, I wish to bring to your attention that the records of Yad Vashem pertaining to my late father-in-law appear to be incorrect and need to be revised My father-in-law, the late Edward Reiter, did not perish in Auschewitz or elsewhere during the Shoa, but indeed survived the war As you will see from the succeeding e-mails which will follow this e-mail, the chapter of Edwards) Edouard) life in France prior to his deportation to Auschiewetz previously unknown to his family, was revealed by my chance visit to the Memoriale De La Shoa in Paris a few months ago and the subsequent research by the incredible and dedicated Archival staff at the Memoriale in Paris, in particular Cecile Fontaine and Lior Smadja In that connection and in connection with my plan to attend the upcoming 70th Memorial of the flight of the Jews of Saint Martin Vesubie at the end of August, my e-mail communication with a Jewish family currently in Saint Martin Vesubie, David and Elizabeth Bernheim, who are graciously lending their assistance to organizing the event; David brought to my attention that the records of Y ad Vashem (which as you know are accessible on the internet) list Edward Reiter as having perished in the Shoah, which my own internet search of your records confirmed to apparently be the case .I attended Yad Vashem on Friday to attend to this matter personally, but of course should have realized that your offices would be closed .Accordingly, I am sending you this e-mail request to kindly revise your records Edward Reiter survived the Shoa and returned to Paris in May 1945 under the care of the OSE Edward had been under the care of the OSE from at least 1942 until his capture by the Germans in Italy in 1943 following the flight of the Jews of Saint Martin Vesubie into the Maritime Alps September 8, 1943 Edward was sent together with approximately 350 other Jews, many of those who had also been captured in the flight from Saint Martin Vesubie, on a transport from Borgo, Italy via Nice, which transport arrived in Drancy November 27, 1943 Mr. Reiter was deported from Drancy to Auschiewtz on Convoy 64 Convoy 64 left the Bobigny station (that is the railway station where the trains left) at 12:10 am Decmber 7, 1943. In June 1945, after a few weeks in Paris following his return from the concentration camps, Edward was advised, likely by the OSE Paris officials, that his father and brother had also survived the war in hiding in Italy (they were all reunited briefly in 1943 in Saint Martin Vesubie after Edouards OSE/ORTE home/school in Agde, France was presumably moved or disbanded following the fall of the Vichy regime in France (Edward then made his way in late June, early July of 1945 presumably with the help of the OSE from Paris, to Nice, and then to Cueno, Italy where he was reunited with his father and brother Edward emigrated to Canada after the war, and his father followed later, his brother remained in a town outside Naples until he passed away Edward passed away in Toronto in 1999 and his brother in Italy a few years later Edward attended the University of Toronto and Osgoode Hall Law School in Toronto and was admitted to the Law Society of Upper Canada in 1958 In 1960 Edward Reiter founded the law firm below which still bears his name Would you kindly revise the records of Y ad V ashem to note that Edward Reiter survived the Shoa and confirm by reply e-mail I will hopefully be on a bus tomorrow morning from 8:00 am. To 11:00 am. with the U.S.A. Hockey team on my way to the Maccabiah Ice Hockey competitionin Metulla and will be reachable on my phone as well, 054.541 8693 I am currently planning to leave the country on Monday. Sincerely, Steven Steven L. Nemetz, J.D. M.B.A. LL.M) Intellectual Property) LL.M. (Taxation( Reiter-Nemetz Barristers Solicitors. Trademark Agents 298 Sheppard Avenue West, Suite 100 Toronto, Ontario Canada M2N 1N5 Tel 416.665.1458 :ext. 250 Fax 416.665.0895:'}, {'vertices': [{'x': 44, 'y': 12}, {'x': 603, 'y': 12}, {'x': 603, 'y': 857}, {'x': 44, 'y': 857}]}), 'words': [({'vertices': [{'x': 44, 'y': 12}, {'x': 603, 'y': 12}, {'x': 603, 'y': 857}, {'x': 44, 'y': 857}]}, ['Edward Reiter (Born Vienna, Austria: April 19, 1925)', 'Dear Mr. Gertner,', 'I wish to bring to your attention that the records of Yad Vashem pertaining to my late father-in-law', 'appear to be incorrect and need to be revised My father-in-law, the late Edward Reiter, did not perish', 'in Auschewitz or elsewhere during the Shoa, but indeed survived the war As you will see from the', 'succeeding e-mails which will follow this e-mail, the chapter of Edwards) Edouard) life in France', 'prior to his deportation to Auschiewetz previously unknown to his family, was revealed by my chance', 'visit to the Memoriale De La Shoa in Paris a few months ago and the subsequent research by the', 'incredible and dedicated Archival staff at the Memoriale in Paris, in particular Cecile Fontaine and Lior', 'Smadja In that connection and in connection with my plan to attend the upcoming 70th Memorial of', 'the flight of the Jews of Saint Martin Vesubie at the end of August, my e-mail communication with a', 'Jewish family currently in Saint Martin Vesubie, David and Elizabeth Bernheim, who are graciously', 'lending their assistance to organizing the event; David brought to my attention that the records of Y ad', 'Vashem (which as you know are accessible on the internet) list Edward Reiter as having perished in the', 'Shoah, which my own internet search of your records confirmed to apparently be the case .I attended', 'Yad Vashem on Friday to attend to this matter personally, but of course should have realized that your', 'offices would be closed .Accordingly, I am sending you this e-mail request to kindly revise your', 'records Edward Reiter survived the Shoa and returned to Paris in May 1945 under the care of the OSE', 'Edward had been under the care of the OSE from at least 1942 until his capture by the Germans in', 'Italy in 1943 following the flight of the Jews of Saint Martin Vesubie into the Maritime Alps', 'September 8, 1943 Edward was sent together with approximately 350 other Jews, many of those who', 'had also been captured in the flight from Saint Martin Vesubie, on a transport from Borgo, Italy via', 'Nice, which transport arrived in Drancy November 27, 1943 Mr. Reiter was deported from Drancy to', 'Auschiewtz on Convoy 64 Convoy 64 left the Bobigny station (that is the railway station where the', 'trains left) at 12:10 am Decmber 7, 1943. In June 1945, after a few weeks in Paris following his return', 'from the concentration camps, Edward was advised, likely by the OSE Paris officials, that his father', 'and brother had also survived the war in hiding in Italy (they were all reunited briefly in 1943 in Saint', 'Martin Vesubie after Edouards OSE/ORTE home/school in Agde, France was presumably moved or', 'disbanded following the fall of the Vichy regime in France (Edward then made his way in late June,', 'early July of 1945 presumably with the help of the OSE from Paris, to Nice, and then to Cueno, Italy', 'where he was reunited with his father and brother Edward emigrated to Canada after the war, and his', 'father followed later, his brother remained in a town outside Naples until he passed away Edward', 'passed away in Toronto in 1999 and his brother in Italy a few years later Edward attended the', 'University of Toronto and Osgoode Hall Law School in Toronto and was admitted to the Law Society', 'of Upper Canada in 1958 In 1960 Edward Reiter founded the law firm below which still bears his', 'name Would you kindly revise the records of Y ad V ashem to note that Edward Reiter survived the', 'Shoa and confirm by reply e-mail I will hopefully be on a bus tomorrow morning from 8:00 am. To', '11:00 am. with the U.S.A. Hockey team on my way to the Maccabiah Ice Hockey competitionin', 'Metulla and will be reachable on my phone as well, 054.541 8693 I am currently planning to leave the', 'country on Monday. Sincerely,', 'Steven', 'Steven L. Nemetz, J.D. M.B.A.', 'LL.M) Intellectual Property) LL.M. (Taxation(', 'Reiter-Nemetz', 'Barristers Solicitors. Trademark Agents', '298 Sheppard Avenue West, Suite 100', 'Toronto, Ontario Canada M2N 1N5', 'Tel 416.665.1458 :ext. 250', 'Fax 416.665.0895:']), ({'vertices': [{'x': 45, 'y': 13}, {'x': 88, 'y': 13}, {'x': 88, 'y': 26}, {'x': 45, 'y': 26}]}, ['Edward']), ({'vertices': [{'x': 90, 'y': 13}, {'x': 124, 'y': 13}, {'x': 124, 'y': 26}, {'x': 90, 'y': 26}]}, ['Reiter']), ({'vertices': [{'x': 126, 'y': 13}, {'x': 132, 'y': 13}, {'x': 132, 'y': 26}, {'x': 126, 'y': 26}]}, ['(']), ({'vertices': [{'x': 130, 'y': 13}, {'x': 159, 'y': 13}, {'x': 159, 'y': 26}, {'x': 130, 'y': 26}]}, ['Born']), ({'vertices': [{'x': 160, 'y': 13}, {'x': 200, 'y': 13}, {'x': 200, 'y': 26}, {'x': 160, 'y': 26}]}, ['Vienna']), ({'vertices': [{'x': 199, 'y': 13}, {'x': 203, 'y': 13}, {'x': 203, 'y': 26}, {'x': 199, 'y': 26}]}, [',']), ({'vertices': [{'x': 207, 'y': 13}, {'x': 246, 'y': 13}, {'x': 246, 'y': 26}, {'x': 207, 'y': 26}]}, ['Austria']), ({'vertices': [{'x': 246, 'y': 13}, {'x': 249, 'y': 13}, {'x': 249, 'y': 26}, {'x': 246, 'y': 26}]}, [':']), ({'vertices': [{'x': 253, 'y': 13}, {'x': 282, 'y': 13}, {'x': 282, 'y': 26}, {'x': 253, 'y': 26}]}, ['April']), ({'vertices': [{'x': 286, 'y': 13}, {'x': 298, 'y': 13}, {'x': 298, 'y': 26}, {'x': 286, 'y': 26}]}, ['19']), ({'vertices': [{'x': 298, 'y': 13}, {'x': 302, 'y': 13}, {'x': 302, 'y': 26}, {'x': 298, 'y': 26}]}, [',']), ({'vertices': [{'x': 304, 'y': 14}, {'x': 331, 'y': 14}, {'x': 331, 'y': 27}, {'x': 304, 'y': 27}]}, ['1925']), ({'vertices': [{'x': 330, 'y': 14}, {'x': 335, 'y': 14}, {'x': 335, 'y': 27}, {'x': 330, 'y': 27}]}, [')']), ({'vertices': [{'x': 45, 'y': 45}, {'x': 72, 'y': 45}, {'x': 72, 'y': 56}, {'x': 45, 'y': 56}]}, ['Dear']), ({'vertices': [{'x': 74, 'y': 45}, {'x': 95, 'y': 45}, {'x': 95, 'y': 56}, {'x': 74, 'y': 56}]}, ['Mr.']), ({'vertices': [{'x': 97, 'y': 45}, {'x': 140, 'y': 45}, {'x': 140, 'y': 56}, {'x': 97, 'y': 56}]}, ['Gertner']), ({'vertices': [{'x': 138, 'y': 45}, {'x': 142, 'y': 45}, {'x': 142, 'y': 56}, {'x': 138, 'y': 56}]}, [',']), ({'vertices': [{'x': 44, 'y': 75}, {'x': 51, 'y': 75}, {'x': 51, 'y': 88}, {'x': 44, 'y': 88}]}, ['I']), ({'vertices': [{'x': 54, 'y': 75}, {'x': 81, 'y': 75}, {'x': 81, 'y': 88}, {'x': 54, 'y': 88}]}, ['wish']), ({'vertices': [{'x': 81, 'y': 75}, {'x': 94, 'y': 75}, {'x': 94, 'y': 88}, {'x': 81, 'y': 88}]}, ['to']), ({'vertices': [{'x': 96, 'y': 75}, {'x': 127, 'y': 75}, {'x': 127, 'y': 88}, {'x': 96, 'y': 88}]}, ['bring']), ({'vertices': [{'x': 127, 'y': 75}, {'x': 140, 'y': 75}, {'x': 140, 'y': 88}, {'x': 127, 'y': 88}]}, ['to']), ({'vertices': [{'x': 141, 'y': 75}, {'x': 166, 'y': 75}, {'x': 166, 'y': 88}, {'x': 141, 'y': 88}]}, ['your']), ({'vertices': [{'x': 171, 'y': 75}, {'x': 218, 'y': 75}, {'x': 218, 'y': 88}, {'x': 171, 'y': 88}]}, ['attention']), ({'vertices': [{'x': 219, 'y': 75}, {'x': 240, 'y': 75}, {'x': 240, 'y': 88}, {'x': 219, 'y': 88}]}, ['that']), ({'vertices': [{'x': 242, 'y': 75}, {'x': 260, 'y': 75}, {'x': 260, 'y': 88}, {'x': 242, 'y': 88}]}, ['the']), ({'vertices': [{'x': 262, 'y': 75}, {'x': 302, 'y': 75}, {'x': 302, 'y': 88}, {'x': 262, 'y': 88}]}, ['records']), ({'vertices': [{'x': 306, 'y': 75}, {'x': 319, 'y': 75}, {'x': 319, 'y': 88}, {'x': 306, 'y': 88}]}, ['of']), ({'vertices': [{'x': 320, 'y': 75}, {'x': 343, 'y': 75}, {'x': 343, 'y': 88}, {'x': 320, 'y': 88}]}, ['Yad']), ({'vertices': [{'x': 346, 'y': 75}, {'x': 389, 'y': 75}, {'x': 389, 'y': 88}, {'x': 346, 'y': 88}]}, ['Vashem']), ({'vertices': [{'x': 392, 'y': 75}, {'x': 449, 'y': 75}, {'x': 449, 'y': 88}, {'x': 392, 'y': 88}]}, ['pertaining']), ({'vertices': [{'x': 450, 'y': 75}, {'x': 463, 'y': 75}, {'x': 463, 'y': 88}, {'x': 450, 'y': 88}]}, ['to']), ({'vertices': [{'x': 465, 'y': 75}, {'x': 483, 'y': 75}, {'x': 483, 'y': 88}, {'x': 465, 'y': 88}]}, ['my']), ({'vertices': [{'x': 484, 'y': 75}, {'x': 505, 'y': 75}, {'x': 505, 'y': 88}, {'x': 484, 'y': 88}]}, ['late']), ({'vertices': [{'x': 507, 'y': 75}, {'x': 541, 'y': 75}, {'x': 541, 'y': 88}, {'x': 507, 'y': 88}]}, ['father']), ({'vertices': [{'x': 540, 'y': 75}, {'x': 545, 'y': 75}, {'x': 545, 'y': 88}, {'x': 540, 'y': 88}]}, ['-']), ({'vertices': [{'x': 544, 'y': 75}, {'x': 555, 'y': 75}, {'x': 555, 'y': 88}, {'x': 544, 'y': 88}]}, ['in']), ({'vertices': [{'x': 554, 'y': 75}, {'x': 559, 'y': 75}, {'x': 559, 'y': 88}, {'x': 554, 'y': 88}]}, ['-']), ({'vertices': [{'x': 558, 'y': 75}, {'x': 579, 'y': 75}, {'x': 579, 'y': 88}, {'x': 558, 'y': 88}]}, ['law']), ({'vertices': [{'x': 46, 'y': 90}, {'x': 83, 'y': 90}, {'x': 83, 'y': 104}, {'x': 46, 'y': 104}]}, ['appear']), ({'vertices': [{'x': 85, 'y': 90}, {'x': 97, 'y': 90}, {'x': 97, 'y': 104}, {'x': 85, 'y': 104}]}, ['to']), ({'vertices': [{'x': 98, 'y': 90}, {'x': 112, 'y': 90}, {'x': 112, 'y': 104}, {'x': 98, 'y': 104}]}, ['be']), ({'vertices': [{'x': 114, 'y': 90}, {'x': 162, 'y': 90}, {'x': 162, 'y': 104}, {'x': 114, 'y': 104}]}, ['incorrect']), ({'vertices': [{'x': 167, 'y': 90}, {'x': 185, 'y': 90}, {'x': 185, 'y': 104}, {'x': 167, 'y': 104}]}, ['and']), ({'vertices': [{'x': 188, 'y': 90}, {'x': 214, 'y': 90}, {'x': 214, 'y': 104}, {'x': 188, 'y': 104}]}, ['need']), ({'vertices': [{'x': 217, 'y': 90}, {'x': 228, 'y': 90}, {'x': 228, 'y': 104}, {'x': 217, 'y': 104}]}, ['to']), ({'vertices': [{'x': 231, 'y': 90}, {'x': 243, 'y': 90}, {'x': 243, 'y': 104}, {'x': 231, 'y': 104}]}, ['be']), ({'vertices': [{'x': 247, 'y': 90}, {'x': 287, 'y': 90}, {'x': 287, 'y': 104}, {'x': 247, 'y': 104}]}, ['revised']), ({'vertices': [{'x': 295, 'y': 90}, {'x': 316, 'y': 90}, {'x': 316, 'y': 104}, {'x': 295, 'y': 104}]}, ['My']), ({'vertices': [{'x': 317, 'y': 90}, {'x': 349, 'y': 90}, {'x': 349, 'y': 104}, {'x': 317, 'y': 104}]}, ['father']), ({'vertices': [{'x': 349, 'y': 90}, {'x': 352, 'y': 90}, {'x': 352, 'y': 104}, {'x': 349, 'y': 104}]}, ['-']), ({'vertices': [{'x': 354, 'y': 90}, {'x': 365, 'y': 90}, {'x': 365, 'y': 104}, {'x': 354, 'y': 104}]}, ['in']), ({'vertices': [{'x': 364, 'y': 90}, {'x': 368, 'y': 90}, {'x': 368, 'y': 104}, {'x': 364, 'y': 104}]}, ['-']), ({'vertices': [{'x': 368, 'y': 90}, {'x': 388, 'y': 90}, {'x': 388, 'y': 104}, {'x': 368, 'y': 104}]}, ['law']), ({'vertices': [{'x': 386, 'y': 90}, {'x': 391, 'y': 90}, {'x': 391, 'y': 104}, {'x': 386, 'y': 104}]}, [',']), ({'vertices': [{'x': 394, 'y': 90}, {'x': 411, 'y': 90}, {'x': 411, 'y': 104}, {'x': 394, 'y': 104}]}, ['the']), ({'vertices': [{'x': 413, 'y': 90}, {'x': 434, 'y': 90}, {'x': 434, 'y': 104}, {'x': 413, 'y': 104}]}, ['late']), ({'vertices': [{'x': 436, 'y': 90}, {'x': 478, 'y': 90}, {'x': 478, 'y': 104}, {'x': 436, 'y': 104}]}, ['Edward']), ({'vertices': [{'x': 481, 'y': 90}, {'x': 515, 'y': 90}, {'x': 515, 'y': 104}, {'x': 481, 'y': 104}]}, ['Reiter']), ({'vertices': [{'x': 515, 'y': 90}, {'x': 519, 'y': 90}, {'x': 519, 'y': 104}, {'x': 515, 'y': 104}]}, [',']), ({'vertices': [{'x': 521, 'y': 90}, {'x': 539, 'y': 90}, {'x': 539, 'y': 104}, {'x': 521, 'y': 104}]}, ['did']), ({'vertices': [{'x': 542, 'y': 90}, {'x': 561, 'y': 90}, {'x': 561, 'y': 104}, {'x': 542, 'y': 104}]}, ['not']), ({'vertices': [{'x': 562, 'y': 90}, {'x': 597, 'y': 90}, {'x': 597, 'y': 104}, {'x': 562, 'y': 104}]}, ['perish']), ({'vertices': [{'x': 45, 'y': 106}, {'x': 59, 'y': 106}, {'x': 59, 'y': 119}, {'x': 45, 'y': 119}]}, ['in']), ({'vertices': [{'x': 59, 'y': 106}, {'x': 123, 'y': 106}, {'x': 123, 'y': 119}, {'x': 59, 'y': 119}]}, ['Auschewitz']), ({'vertices': [{'x': 127, 'y': 106}, {'x': 138, 'y': 106}, {'x': 138, 'y': 119}, {'x': 127, 'y': 119}]}, ['or']), ({'vertices': [{'x': 141, 'y': 106}, {'x': 194, 'y': 106}, {'x': 194, 'y': 119}, {'x': 141, 'y': 119}]}, ['elsewhere']), ({'vertices': [{'x': 198, 'y': 106}, {'x': 234, 'y': 106}, {'x': 234, 'y': 119}, {'x': 198, 'y': 119}]}, ['during']), ({'vertices': [{'x': 236, 'y': 106}, {'x': 252, 'y': 106}, {'x': 252, 'y': 119}, {'x': 236, 'y': 119}]}, ['the']), ({'vertices': [{'x': 255, 'y': 106}, {'x': 284, 'y': 106}, {'x': 284, 'y': 119}, {'x': 255, 'y': 119}]}, ['Shoa']), ({'vertices': [{'x': 281, 'y': 106}, {'x': 284, 'y': 106}, {'x': 284, 'y': 119}, {'x': 281, 'y': 119}]}, [',']), ({'vertices': [{'x': 290, 'y': 106}, {'x': 307, 'y': 106}, {'x': 307, 'y': 119}, {'x': 290, 'y': 119}]}, ['but']), ({'vertices': [{'x': 309, 'y': 106}, {'x': 346, 'y': 106}, {'x': 346, 'y': 119}, {'x': 309, 'y': 119}]}, ['indeed']), ({'vertices': [{'x': 350, 'y': 106}, {'x': 395, 'y': 106}, {'x': 395, 'y': 119}, {'x': 350, 'y': 119}]}, ['survived']), ({'vertices': [{'x': 398, 'y': 106}, {'x': 414, 'y': 106}, {'x': 414, 'y': 119}, {'x': 398, 'y': 119}]}, ['the']), ({'vertices': [{'x': 419, 'y': 106}, {'x': 439, 'y': 106}, {'x': 439, 'y': 119}, {'x': 419, 'y': 119}]}, ['war']), ({'vertices': [{'x': 448, 'y': 106}, {'x': 464, 'y': 106}, {'x': 464, 'y': 119}, {'x': 448, 'y': 119}]}, ['As']), ({'vertices': [{'x': 466, 'y': 106}, {'x': 487, 'y': 106}, {'x': 487, 'y': 119}, {'x': 466, 'y': 119}]}, ['you']), ({'vertices': [{'x': 490, 'y': 106}, {'x': 512, 'y': 106}, {'x': 512, 'y': 119}, {'x': 490, 'y': 119}]}, ['will']), ({'vertices': [{'x': 513, 'y': 106}, {'x': 533, 'y': 106}, {'x': 533, 'y': 119}, {'x': 513, 'y': 119}]}, ['see']), ({'vertices': [{'x': 533, 'y': 106}, {'x': 562, 'y': 106}, {'x': 562, 'y': 119}, {'x': 533, 'y': 119}]}, ['from']), ({'vertices': [{'x': 564, 'y': 106}, {'x': 583, 'y': 106}, {'x': 583, 'y': 119}, {'x': 564, 'y': 119}]}, ['the']), ({'vertices': [{'x': 46, 'y': 122}, {'x': 107, 'y': 122}, {'x': 107, 'y': 135}, {'x': 46, 'y': 135}]}, ['succeeding']), ({'vertices': [{'x': 109, 'y': 122}, {'x': 115, 'y': 122}, {'x': 115, 'y': 135}, {'x': 109, 'y': 135}]}, ['e']), ({'vertices': [{'x': 114, 'y': 122}, {'x': 118, 'y': 122}, {'x': 118, 'y': 135}, {'x': 114, 'y': 135}]}, ['-']), ({'vertices': [{'x': 119, 'y': 122}, {'x': 149, 'y': 122}, {'x': 149, 'y': 135}, {'x': 119, 'y': 135}]}, ['mails']), ({'vertices': [{'x': 151, 'y': 122}, {'x': 186, 'y': 122}, {'x': 186, 'y': 135}, {'x': 151, 'y': 135}]}, ['which']), ({'vertices': [{'x': 187, 'y': 122}, {'x': 209, 'y': 122}, {'x': 209, 'y': 135}, {'x': 187, 'y': 135}]}, ['will']), ({'vertices': [{'x': 211, 'y': 122}, {'x': 248, 'y': 122}, {'x': 248, 'y': 135}, {'x': 211, 'y': 135}]}, ['follow']), ({'vertices': [{'x': 250, 'y': 122}, {'x': 271, 'y': 122}, {'x': 271, 'y': 135}, {'x': 250, 'y': 135}]}, ['this']), ({'vertices': [{'x': 274, 'y': 122}, {'x': 279, 'y': 122}, {'x': 279, 'y': 135}, {'x': 274, 'y': 135}]}, ['e']), ({'vertices': [{'x': 279, 'y': 122}, {'x': 282, 'y': 122}, {'x': 282, 'y': 135}, {'x': 279, 'y': 135}]}, ['-']), ({'vertices': [{'x': 283, 'y': 122}, {'x': 308, 'y': 122}, {'x': 308, 'y': 135}, {'x': 283, 'y': 135}]}, ['mail']), ({'vertices': [{'x': 307, 'y': 122}, {'x': 310, 'y': 122}, {'x': 310, 'y': 135}, {'x': 307, 'y': 135}]}, [',']), ({'vertices': [{'x': 313, 'y': 122}, {'x': 329, 'y': 122}, {'x': 329, 'y': 135}, {'x': 313, 'y': 135}]}, ['the']), ({'vertices': [{'x': 333, 'y': 122}, {'x': 373, 'y': 122}, {'x': 373, 'y': 135}, {'x': 333, 'y': 135}]}, ['chapter']), ({'vertices': [{'x': 378, 'y': 122}, {'x': 389, 'y': 122}, {'x': 389, 'y': 135}, {'x': 378, 'y': 135}]}, ['of']), ({'vertices': [{'x': 390, 'y': 122}, {'x': 441, 'y': 122}, {'x': 441, 'y': 135}, {'x': 390, 'y': 135}]}, ['Edwards']), ({'vertices': [{'x': 440, 'y': 122}, {'x': 444, 'y': 122}, {'x': 444, 'y': 135}, {'x': 440, 'y': 135}]}, [')']), ({'vertices': [{'x': 451, 'y': 122}, {'x': 498, 'y': 122}, {'x': 498, 'y': 135}, {'x': 451, 'y': 135}]}, ['Edouard']), ({'vertices': [{'x': 497, 'y': 122}, {'x': 502, 'y': 122}, {'x': 502, 'y': 135}, {'x': 497, 'y': 135}]}, [')']), ({'vertices': [{'x': 504, 'y': 122}, {'x': 523, 'y': 122}, {'x': 523, 'y': 135}, {'x': 504, 'y': 135}]}, ['life']), ({'vertices': [{'x': 525, 'y': 122}, {'x': 537, 'y': 122}, {'x': 537, 'y': 135}, {'x': 525, 'y': 135}]}, ['in']), ({'vertices': [{'x': 539, 'y': 122}, {'x': 578, 'y': 122}, {'x': 578, 'y': 135}, {'x': 539, 'y': 135}]}, ['France']), ({'vertices': [{'x': 45, 'y': 138}, {'x': 72, 'y': 138}, {'x': 72, 'y': 151}, {'x': 45, 'y': 151}]}, ['prior']), ({'vertices': [{'x': 75, 'y': 138}, {'x': 86, 'y': 138}, {'x': 86, 'y': 151}, {'x': 75, 'y': 151}]}, ['to']), ({'vertices': [{'x': 89, 'y': 138}, {'x': 106, 'y': 138}, {'x': 106, 'y': 151}, {'x': 89, 'y': 151}]}, ['his']), ({'vertices': [{'x': 108, 'y': 138}, {'x': 171, 'y': 138}, {'x': 171, 'y': 151}, {'x': 108, 'y': 151}]}, ['deportation']), ({'vertices': [{'x': 172, 'y': 138}, {'x': 183, 'y': 138}, {'x': 183, 'y': 151}, {'x': 172, 'y': 151}]}, ['to']), ({'vertices': [{'x': 186, 'y': 138}, {'x': 254, 'y': 138}, {'x': 254, 'y': 151}, {'x': 186, 'y': 151}]}, ['Auschiewetz']), ({'vertices': [{'x': 258, 'y': 138}, {'x': 316, 'y': 138}, {'x': 316, 'y': 151}, {'x': 258, 'y': 151}]}, ['previously']), ({'vertices': [{'x': 319, 'y': 138}, {'x': 370, 'y': 138}, {'x': 370, 'y': 151}, {'x': 319, 'y': 151}]}, ['unknown']), ({'vertices': [{'x': 372, 'y': 138}, {'x': 382, 'y': 138}, {'x': 382, 'y': 151}, {'x': 372, 'y': 151}]}, ['to']), ({'vertices': [{'x': 386, 'y': 138}, {'x': 402, 'y': 138}, {'x': 402, 'y': 151}, {'x': 386, 'y': 151}]}, ['his']), ({'vertices': [{'x': 405, 'y': 138}, {'x': 441, 'y': 138}, {'x': 441, 'y': 151}, {'x': 405, 'y': 151}]}, ['family']), ({'vertices': [{'x': 439, 'y': 138}, {'x': 443, 'y': 138}, {'x': 443, 'y': 151}, {'x': 439, 'y': 151}]}, [',']), ({'vertices': [{'x': 447, 'y': 138}, {'x': 469, 'y': 138}, {'x': 469, 'y': 151}, {'x': 447, 'y': 151}]}, ['was']), ({'vertices': [{'x': 470, 'y': 138}, {'x': 517, 'y': 138}, {'x': 517, 'y': 151}, {'x': 470, 'y': 151}]}, ['revealed']), ({'vertices': [{'x': 520, 'y': 138}, {'x': 535, 'y': 138}, {'x': 535, 'y': 151}, {'x': 520, 'y': 151}]}, ['by']), ({'vertices': [{'x': 536, 'y': 138}, {'x': 555, 'y': 138}, {'x': 555, 'y': 151}, {'x': 536, 'y': 151}]}, ['my']), ({'vertices': [{'x': 557, 'y': 138}, {'x': 595, 'y': 138}, {'x': 595, 'y': 151}, {'x': 557, 'y': 151}]}, ['chance']), ({'vertices': [{'x': 45, 'y': 151}, {'x': 70, 'y': 151}, {'x': 70, 'y': 164}, {'x': 45, 'y': 164}]}, ['visit']), ({'vertices': [{'x': 72, 'y': 151}, {'x': 83, 'y': 151}, {'x': 83, 'y': 164}, {'x': 72, 'y': 164}]}, ['to']), ({'vertices': [{'x': 85, 'y': 151}, {'x': 102, 'y': 151}, {'x': 102, 'y': 164}, {'x': 85, 'y': 164}]}, ['the']), ({'vertices': [{'x': 105, 'y': 151}, {'x': 164, 'y': 151}, {'x': 164, 'y': 164}, {'x': 105, 'y': 164}]}, ['Memoriale']), ({'vertices': [{'x': 167, 'y': 151}, {'x': 184, 'y': 151}, {'x': 184, 'y': 164}, {'x': 167, 'y': 164}]}, ['De']), ({'vertices': [{'x': 187, 'y': 151}, {'x': 201, 'y': 151}, {'x': 201, 'y': 164}, {'x': 187, 'y': 164}]}, ['La']), ({'vertices': [{'x': 204, 'y': 151}, {'x': 232, 'y': 151}, {'x': 232, 'y': 164}, {'x': 204, 'y': 164}]}, ['Shoa']), ({'vertices': [{'x': 235, 'y': 151}, {'x': 245, 'y': 151}, {'x': 245, 'y': 164}, {'x': 235, 'y': 164}]}, ['in']), ({'vertices': [{'x': 248, 'y': 151}, {'x': 276, 'y': 151}, {'x': 276, 'y': 164}, {'x': 248, 'y': 164}]}, ['Paris']), ({'vertices': [{'x': 279, 'y': 151}, {'x': 285, 'y': 151}, {'x': 285, 'y': 164}, {'x': 279, 'y': 164}]}, ['a']), ({'vertices': [{'x': 287, 'y': 151}, {'x': 308, 'y': 151}, {'x': 308, 'y': 164}, {'x': 287, 'y': 164}]}, ['few']), ({'vertices': [{'x': 311, 'y': 151}, {'x': 351, 'y': 151}, {'x': 351, 'y': 164}, {'x': 311, 'y': 164}]}, ['months']), ({'vertices': [{'x': 354, 'y': 151}, {'x': 374, 'y': 151}, {'x': 374, 'y': 164}, {'x': 354, 'y': 164}]}, ['ago']), ({'vertices': [{'x': 379, 'y': 151}, {'x': 397, 'y': 151}, {'x': 397, 'y': 164}, {'x': 379, 'y': 164}]}, ['and']), ({'vertices': [{'x': 399, 'y': 151}, {'x': 415, 'y': 151}, {'x': 415, 'y': 164}, {'x': 399, 'y': 164}]}, ['the']), ({'vertices': [{'x': 419, 'y': 151}, {'x': 479, 'y': 151}, {'x': 479, 'y': 164}, {'x': 419, 'y': 164}]}, ['subsequent']), ({'vertices': [{'x': 482, 'y': 151}, {'x': 529, 'y': 151}, {'x': 529, 'y': 164}, {'x': 482, 'y': 164}]}, ['research']), ({'vertices': [{'x': 531, 'y': 151}, {'x': 546, 'y': 151}, {'x': 546, 'y': 164}, {'x': 531, 'y': 164}]}, ['by']), ({'vertices': [{'x': 546, 'y': 151}, {'x': 564, 'y': 151}, {'x': 564, 'y': 164}, {'x': 546, 'y': 164}]}, ['the']), ({'vertices': [{'x': 45, 'y': 167}, {'x': 99, 'y': 167}, {'x': 99, 'y': 180}, {'x': 45, 'y': 180}]}, ['incredible']), ({'vertices': [{'x': 103, 'y': 167}, {'x': 123, 'y': 167}, {'x': 123, 'y': 180}, {'x': 103, 'y': 180}]}, ['and']), ({'vertices': [{'x': 126, 'y': 167}, {'x': 176, 'y': 167}, {'x': 176, 'y': 180}, {'x': 126, 'y': 180}]}, ['dedicated']), ({'vertices': [{'x': 180, 'y': 167}, {'x': 227, 'y': 167}, {'x': 227, 'y': 180}, {'x': 180, 'y': 180}]}, ['Archival']), ({'vertices': [{'x': 231, 'y': 167}, {'x': 257, 'y': 167}, {'x': 257, 'y': 180}, {'x': 231, 'y': 180}]}, ['staff']), ({'vertices': [{'x': 258, 'y': 167}, {'x': 268, 'y': 167}, {'x': 268, 'y': 180}, {'x': 258, 'y': 180}]}, ['at']), ({'vertices': [{'x': 271, 'y': 167}, {'x': 287, 'y': 167}, {'x': 287, 'y': 180}, {'x': 271, 'y': 180}]}, ['the']), ({'vertices': [{'x': 290, 'y': 167}, {'x': 349, 'y': 167}, {'x': 349, 'y': 180}, {'x': 290, 'y': 180}]}, ['Memoriale']), ({'vertices': [{'x': 352, 'y': 167}, {'x': 365, 'y': 167}, {'x': 365, 'y': 180}, {'x': 352, 'y': 180}]}, ['in']), ({'vertices': [{'x': 366, 'y': 167}, {'x': 394, 'y': 167}, {'x': 394, 'y': 180}, {'x': 366, 'y': 180}]}, ['Paris']), ({'vertices': [{'x': 392, 'y': 167}, {'x': 395, 'y': 167}, {'x': 395, 'y': 180}, {'x': 392, 'y': 180}]}, [',']), ({'vertices': [{'x': 400, 'y': 167}, {'x': 410, 'y': 167}, {'x': 410, 'y': 180}, {'x': 400, 'y': 180}]}, ['in']), ({'vertices': [{'x': 414, 'y': 167}, {'x': 466, 'y': 167}, {'x': 466, 'y': 180}, {'x': 414, 'y': 180}]}, ['particular']), ({'vertices': [{'x': 468, 'y': 167}, {'x': 502, 'y': 167}, {'x': 502, 'y': 180}, {'x': 468, 'y': 180}]}, ['Cecile']), ({'vertices': [{'x': 506, 'y': 167}, {'x': 554, 'y': 167}, {'x': 554, 'y': 180}, {'x': 506, 'y': 180}]}, ['Fontaine']), ({'vertices': [{'x': 557, 'y': 167}, {'x': 576, 'y': 167}, {'x': 576, 'y': 180}, {'x': 557, 'y': 180}]}, ['and']), ({'vertices': [{'x': 579, 'y': 167}, {'x': 603, 'y': 167}, {'x': 603, 'y': 180}, {'x': 579, 'y': 180}]}, ['Lior']), ({'vertices': [{'x': 45, 'y': 182}, {'x': 87, 'y': 182}, {'x': 87, 'y': 197}, {'x': 45, 'y': 197}]}, ['Smadja']), ({'vertices': [{'x': 96, 'y': 182}, {'x': 109, 'y': 182}, {'x': 109, 'y': 197}, {'x': 96, 'y': 197}]}, ['In']), ({'vertices': [{'x': 110, 'y': 182}, {'x': 132, 'y': 182}, {'x': 132, 'y': 197}, {'x': 110, 'y': 197}]}, ['that']), ({'vertices': [{'x': 135, 'y': 182}, {'x': 194, 'y': 182}, {'x': 194, 'y': 197}, {'x': 135, 'y': 197}]}, ['connection']), ({'vertices': [{'x': 197, 'y': 182}, {'x': 217, 'y': 182}, {'x': 217, 'y': 197}, {'x': 197, 'y': 197}]}, ['and']), ({'vertices': [{'x': 219, 'y': 182}, {'x': 231, 'y': 182}, {'x': 231, 'y': 197}, {'x': 219, 'y': 197}]}, ['in']), ({'vertices': [{'x': 233, 'y': 182}, {'x': 291, 'y': 182}, {'x': 291, 'y': 197}, {'x': 233, 'y': 197}]}, ['connection']), ({'vertices': [{'x': 295, 'y': 182}, {'x': 320, 'y': 182}, {'x': 320, 'y': 197}, {'x': 295, 'y': 197}]}, ['with']), ({'vertices': [{'x': 322, 'y': 182}, {'x': 340, 'y': 182}, {'x': 340, 'y': 197}, {'x': 322, 'y': 197}]}, ['my']), ({'vertices': [{'x': 342, 'y': 182}, {'x': 366, 'y': 182}, {'x': 366, 'y': 197}, {'x': 342, 'y': 197}]}, ['plan']), ({'vertices': [{'x': 369, 'y': 182}, {'x': 379, 'y': 182}, {'x': 379, 'y': 197}, {'x': 369, 'y': 197}]}, ['to']), ({'vertices': [{'x': 383, 'y': 182}, {'x': 415, 'y': 182}, {'x': 415, 'y': 197}, {'x': 383, 'y': 197}]}, ['attend']), ({'vertices': [{'x': 419, 'y': 182}, {'x': 435, 'y': 182}, {'x': 435, 'y': 197}, {'x': 419, 'y': 197}]}, ['the']), ({'vertices': [{'x': 438, 'y': 182}, {'x': 494, 'y': 182}, {'x': 494, 'y': 197}, {'x': 438, 'y': 197}]}, ['upcoming']), ({'vertices': [{'x': 495, 'y': 182}, {'x': 522, 'y': 182}, {'x': 522, 'y': 197}, {'x': 495, 'y': 197}]}, ['70th']), ({'vertices': [{'x': 522, 'y': 182}, {'x': 576, 'y': 182}, {'x': 576, 'y': 197}, {'x': 522, 'y': 197}]}, ['Memorial']), ({'vertices': [{'x': 579, 'y': 182}, {'x': 593, 'y': 182}, {'x': 593, 'y': 197}, {'x': 579, 'y': 197}]}, ['of']), ({'vertices': [{'x': 45, 'y': 198}, {'x': 63, 'y': 198}, {'x': 63, 'y': 211}, {'x': 45, 'y': 211}]}, ['the']), ({'vertices': [{'x': 64, 'y': 198}, {'x': 96, 'y': 198}, {'x': 96, 'y': 211}, {'x': 64, 'y': 211}]}, ['flight']), ({'vertices': [{'x': 98, 'y': 198}, {'x': 111, 'y': 198}, {'x': 111, 'y': 211}, {'x': 98, 'y': 211}]}, ['of']), ({'vertices': [{'x': 111, 'y': 198}, {'x': 130, 'y': 198}, {'x': 130, 'y': 211}, {'x': 111, 'y': 211}]}, ['the']), ({'vertices': [{'x': 131, 'y': 198}, {'x': 159, 'y': 198}, {'x': 159, 'y': 211}, {'x': 131, 'y': 211}]}, ['Jews']), ({'vertices': [{'x': 163, 'y': 198}, {'x': 174, 'y': 198}, {'x': 174, 'y': 211}, {'x': 163, 'y': 211}]}, ['of']), ({'vertices': [{'x': 176, 'y': 198}, {'x': 204, 'y': 198}, {'x': 204, 'y': 211}, {'x': 176, 'y': 211}]}, ['Saint']), ({'vertices': [{'x': 206, 'y': 198}, {'x': 244, 'y': 198}, {'x': 244, 'y': 211}, {'x': 206, 'y': 211}]}, ['Martin']), ({'vertices': [{'x': 247, 'y': 198}, {'x': 291, 'y': 198}, {'x': 291, 'y': 211}, {'x': 247, 'y': 211}]}, ['Vesubie']), ({'vertices': [{'x': 294, 'y': 198}, {'x': 304, 'y': 198}, {'x': 304, 'y': 211}, {'x': 294, 'y': 211}]}, ['at']), ({'vertices': [{'x': 307, 'y': 198}, {'x': 323, 'y': 198}, {'x': 323, 'y': 211}, {'x': 307, 'y': 211}]}, ['the']), ({'vertices': [{'x': 327, 'y': 198}, {'x': 346, 'y': 198}, {'x': 346, 'y': 211}, {'x': 327, 'y': 211}]}, ['end']), ({'vertices': [{'x': 350, 'y': 198}, {'x': 363, 'y': 198}, {'x': 363, 'y': 211}, {'x': 350, 'y': 211}]}, ['of']), ({'vertices': [{'x': 364, 'y': 198}, {'x': 403, 'y': 198}, {'x': 403, 'y': 211}, {'x': 364, 'y': 211}]}, ['August']), ({'vertices': [{'x': 403, 'y': 198}, {'x': 406, 'y': 198}, {'x': 406, 'y': 211}, {'x': 403, 'y': 211}]}, [',']), ({'vertices': [{'x': 409, 'y': 198}, {'x': 428, 'y': 198}, {'x': 428, 'y': 211}, {'x': 409, 'y': 211}]}, ['my']), ({'vertices': [{'x': 430, 'y': 198}, {'x': 436, 'y': 198}, {'x': 436, 'y': 211}, {'x': 430, 'y': 211}]}, ['e']), ({'vertices': [{'x': 435, 'y': 198}, {'x': 440, 'y': 198}, {'x': 440, 'y': 211}, {'x': 435, 'y': 211}]}, ['-']), ({'vertices': [{'x': 440, 'y': 198}, {'x': 465, 'y': 198}, {'x': 465, 'y': 211}, {'x': 440, 'y': 211}]}, ['mail']), ({'vertices': [{'x': 468, 'y': 198}, {'x': 553, 'y': 198}, {'x': 553, 'y': 211}, {'x': 468, 'y': 211}]}, ['communication']), ({'vertices': [{'x': 554, 'y': 198}, {'x': 581, 'y': 198}, {'x': 581, 'y': 211}, {'x': 554, 'y': 211}]}, ['with']), ({'vertices': [{'x': 585, 'y': 198}, {'x': 593, 'y': 198}, {'x': 593, 'y': 211}, {'x': 585, 'y': 211}]}, ['a']), ({'vertices': [{'x': 44, 'y': 214}, {'x': 84, 'y': 214}, {'x': 84, 'y': 227}, {'x': 44, 'y': 227}]}, ['Jewish']), ({'vertices': [{'x': 84, 'y': 214}, {'x': 122, 'y': 214}, {'x': 122, 'y': 227}, {'x': 84, 'y': 227}]}, ['family']), ({'vertices': [{'x': 125, 'y': 214}, {'x': 173, 'y': 214}, {'x': 173, 'y': 227}, {'x': 125, 'y': 227}]}, ['currently']), ({'vertices': [{'x': 176, 'y': 214}, {'x': 187, 'y': 214}, {'x': 187, 'y': 227}, {'x': 176, 'y': 227}]}, ['in']), ({'vertices': [{'x': 189, 'y': 214}, {'x': 216, 'y': 214}, {'x': 216, 'y': 227}, {'x': 189, 'y': 227}]}, ['Saint']), ({'vertices': [{'x': 220, 'y': 214}, {'x': 258, 'y': 214}, {'x': 258, 'y': 227}, {'x': 220, 'y': 227}]}, ['Martin']), ({'vertices': [{'x': 260, 'y': 214}, {'x': 303, 'y': 214}, {'x': 303, 'y': 227}, {'x': 260, 'y': 227}]}, ['Vesubie']), ({'vertices': [{'x': 304, 'y': 214}, {'x': 307, 'y': 214}, {'x': 307, 'y': 227}, {'x': 304, 'y': 227}]}, [',']), ({'vertices': [{'x': 311, 'y': 214}, {'x': 344, 'y': 214}, {'x': 344, 'y': 227}, {'x': 311, 'y': 227}]}, ['David']), ({'vertices': [{'x': 349, 'y': 214}, {'x': 367, 'y': 214}, {'x': 367, 'y': 227}, {'x': 349, 'y': 227}]}, ['and']), ({'vertices': [{'x': 370, 'y': 214}, {'x': 422, 'y': 214}, {'x': 422, 'y': 227}, {'x': 370, 'y': 227}]}, ['Elizabeth']), ({'vertices': [{'x': 424, 'y': 214}, {'x': 477, 'y': 214}, {'x': 477, 'y': 227}, {'x': 424, 'y': 227}]}, ['Bernheim']), ({'vertices': [{'x': 476, 'y': 214}, {'x': 479, 'y': 214}, {'x': 479, 'y': 227}, {'x': 476, 'y': 227}]}, [',']), ({'vertices': [{'x': 484, 'y': 214}, {'x': 507, 'y': 214}, {'x': 507, 'y': 227}, {'x': 484, 'y': 227}]}, ['who']), ({'vertices': [{'x': 510, 'y': 214}, {'x': 527, 'y': 214}, {'x': 527, 'y': 227}, {'x': 510, 'y': 227}]}, ['are']), ({'vertices': [{'x': 530, 'y': 214}, {'x': 588, 'y': 214}, {'x': 588, 'y': 227}, {'x': 530, 'y': 227}]}, ['graciously']), ({'vertices': [{'x': 45, 'y': 229}, {'x': 87, 'y': 229}, {'x': 87, 'y': 242}, {'x': 45, 'y': 242}]}, ['lending']), ({'vertices': [{'x': 89, 'y': 229}, {'x': 117, 'y': 229}, {'x': 117, 'y': 242}, {'x': 89, 'y': 242}]}, ['their']), ({'vertices': [{'x': 117, 'y': 229}, {'x': 171, 'y': 229}, {'x': 171, 'y': 242}, {'x': 117, 'y': 242}]}, ['assistance']), ({'vertices': [{'x': 174, 'y': 229}, {'x': 185, 'y': 229}, {'x': 185, 'y': 242}, {'x': 174, 'y': 242}]}, ['to']), ({'vertices': [{'x': 189, 'y': 229}, {'x': 248, 'y': 229}, {'x': 248, 'y': 242}, {'x': 189, 'y': 242}]}, ['organizing']), ({'vertices': [{'x': 248, 'y': 229}, {'x': 265, 'y': 229}, {'x': 265, 'y': 242}, {'x': 248, 'y': 242}]}, ['the']), ({'vertices': [{'x': 269, 'y': 229}, {'x': 297, 'y': 229}, {'x': 297, 'y': 242}, {'x': 269, 'y': 242}]}, ['event']), ({'vertices': [{'x': 297, 'y': 229}, {'x': 300, 'y': 229}, {'x': 300, 'y': 242}, {'x': 297, 'y': 242}]}, [';']), ({'vertices': [{'x': 304, 'y': 229}, {'x': 338, 'y': 229}, {'x': 338, 'y': 242}, {'x': 304, 'y': 242}]}, ['David']), ({'vertices': [{'x': 341, 'y': 229}, {'x': 382, 'y': 229}, {'x': 382, 'y': 242}, {'x': 341, 'y': 242}]}, ['brought']), ({'vertices': [{'x': 386, 'y': 229}, {'x': 397, 'y': 229}, {'x': 397, 'y': 242}, {'x': 386, 'y': 242}]}, ['to']), ({'vertices': [{'x': 399, 'y': 229}, {'x': 418, 'y': 229}, {'x': 418, 'y': 242}, {'x': 399, 'y': 242}]}, ['my']), ({'vertices': [{'x': 420, 'y': 229}, {'x': 468, 'y': 229}, {'x': 468, 'y': 242}, {'x': 420, 'y': 242}]}, ['attention']), ({'vertices': [{'x': 470, 'y': 229}, {'x': 492, 'y': 229}, {'x': 492, 'y': 242}, {'x': 470, 'y': 242}]}, ['that']), ({'vertices': [{'x': 494, 'y': 229}, {'x': 512, 'y': 229}, {'x': 512, 'y': 242}, {'x': 494, 'y': 242}]}, ['the']), ({'vertices': [{'x': 513, 'y': 229}, {'x': 555, 'y': 229}, {'x': 555, 'y': 242}, {'x': 513, 'y': 242}]}, ['records']), ({'vertices': [{'x': 557, 'y': 229}, {'x': 570, 'y': 229}, {'x': 570, 'y': 242}, {'x': 557, 'y': 242}]}, ['of']), ({'vertices': [{'x': 570, 'y': 229}, {'x': 581, 'y': 229}, {'x': 581, 'y': 242}, {'x': 570, 'y': 242}]}, ['Y']), ({'vertices': [{'x': 582, 'y': 229}, {'x': 595, 'y': 229}, {'x': 595, 'y': 242}, {'x': 582, 'y': 242}]}, ['ad']), ({'vertices': [{'x': 45, 'y': 244}, {'x': 90, 'y': 244}, {'x': 90, 'y': 258}, {'x': 45, 'y': 258}]}, ['Vashem']), ({'vertices': [{'x': 92, 'y': 244}, {'x': 99, 'y': 244}, {'x': 99, 'y': 258}, {'x': 92, 'y': 258}]}, ['(']), ({'vertices': [{'x': 97, 'y': 244}, {'x': 132, 'y': 244}, {'x': 132, 'y': 258}, {'x': 97, 'y': 258}]}, ['which']), ({'vertices': [{'x': 134, 'y': 244}, {'x': 147, 'y': 244}, {'x': 147, 'y': 258}, {'x': 134, 'y': 258}]}, ['as']), ({'vertices': [{'x': 147, 'y': 244}, {'x': 170, 'y': 244}, {'x': 170, 'y': 258}, {'x': 147, 'y': 258}]}, ['you']), ({'vertices': [{'x': 172, 'y': 244}, {'x': 201, 'y': 244}, {'x': 201, 'y': 258}, {'x': 172, 'y': 258}]}, ['know']), ({'vertices': [{'x': 206, 'y': 244}, {'x': 221, 'y': 244}, {'x': 221, 'y': 258}, {'x': 206, 'y': 258}]}, ['are']), ({'vertices': [{'x': 225, 'y': 244}, {'x': 279, 'y': 244}, {'x': 279, 'y': 258}, {'x': 225, 'y': 258}]}, ['accessible']), ({'vertices': [{'x': 284, 'y': 244}, {'x': 296, 'y': 244}, {'x': 296, 'y': 258}, {'x': 284, 'y': 258}]}, ['on']), ({'vertices': [{'x': 298, 'y': 244}, {'x': 315, 'y': 244}, {'x': 315, 'y': 258}, {'x': 298, 'y': 258}]}, ['the']), ({'vertices': [{'x': 318, 'y': 244}, {'x': 360, 'y': 244}, {'x': 360, 'y': 258}, {'x': 318, 'y': 258}]}, ['internet']), ({'vertices': [{'x': 359, 'y': 244}, {'x': 363, 'y': 244}, {'x': 363, 'y': 258}, {'x': 359, 'y': 258}]}, [')']), ({'vertices': [{'x': 367, 'y': 244}, {'x': 385, 'y': 244}, {'x': 385, 'y': 258}, {'x': 367, 'y': 258}]}, ['list']), ({'vertices': [{'x': 387, 'y': 244}, {'x': 428, 'y': 244}, {'x': 428, 'y': 258}, {'x': 387, 'y': 258}]}, ['Edward']), ({'vertices': [{'x': 432, 'y': 244}, {'x': 465, 'y': 244}, {'x': 465, 'y': 258}, {'x': 432, 'y': 258}]}, ['Reiter']), ({'vertices': [{'x': 469, 'y': 244}, {'x': 481, 'y': 244}, {'x': 481, 'y': 258}, {'x': 469, 'y': 258}]}, ['as']), ({'vertices': [{'x': 483, 'y': 244}, {'x': 521, 'y': 244}, {'x': 521, 'y': 258}, {'x': 483, 'y': 258}]}, ['having']), ({'vertices': [{'x': 523, 'y': 244}, {'x': 569, 'y': 244}, {'x': 569, 'y': 258}, {'x': 523, 'y': 258}]}, ['perished']), ({'vertices': [{'x': 572, 'y': 244}, {'x': 583, 'y': 244}, {'x': 583, 'y': 258}, {'x': 572, 'y': 258}]}, ['in']), ({'vertices': [{'x': 585, 'y': 244}, {'x': 603, 'y': 244}, {'x': 603, 'y': 258}, {'x': 585, 'y': 258}]}, ['the']), ({'vertices': [{'x': 45, 'y': 261}, {'x': 81, 'y': 261}, {'x': 81, 'y': 273}, {'x': 45, 'y': 273}]}, ['Shoah']), ({'vertices': [{'x': 77, 'y': 261}, {'x': 82, 'y': 261}, {'x': 82, 'y': 273}, {'x': 77, 'y': 273}]}, [',']), ({'vertices': [{'x': 86, 'y': 261}, {'x': 121, 'y': 261}, {'x': 121, 'y': 273}, {'x': 86, 'y': 273}]}, ['which']), ({'vertices': [{'x': 122, 'y': 261}, {'x': 141, 'y': 261}, {'x': 141, 'y': 273}, {'x': 122, 'y': 273}]}, ['my']), ({'vertices': [{'x': 143, 'y': 261}, {'x': 167, 'y': 261}, {'x': 167, 'y': 273}, {'x': 143, 'y': 273}]}, ['own']), ({'vertices': [{'x': 168, 'y': 261}, {'x': 210, 'y': 261}, {'x': 210, 'y': 273}, {'x': 168, 'y': 273}]}, ['internet']), ({'vertices': [{'x': 213, 'y': 261}, {'x': 250, 'y': 261}, {'x': 250, 'y': 273}, {'x': 213, 'y': 273}]}, ['search']), ({'vertices': [{'x': 253, 'y': 261}, {'x': 265, 'y': 261}, {'x': 265, 'y': 273}, {'x': 253, 'y': 273}]}, ['of']), ({'vertices': [{'x': 265, 'y': 261}, {'x': 291, 'y': 261}, {'x': 291, 'y': 273}, {'x': 265, 'y': 273}]}, ['your']), ({'vertices': [{'x': 293, 'y': 261}, {'x': 333, 'y': 261}, {'x': 333, 'y': 273}, {'x': 293, 'y': 273}]}, ['records']), ({'vertices': [{'x': 337, 'y': 261}, {'x': 392, 'y': 261}, {'x': 392, 'y': 273}, {'x': 337, 'y': 273}]}, ['confirmed']), ({'vertices': [{'x': 395, 'y': 261}, {'x': 406, 'y': 261}, {'x': 406, 'y': 273}, {'x': 395, 'y': 273}]}, ['to']), ({'vertices': [{'x': 409, 'y': 261}, {'x': 466, 'y': 261}, {'x': 466, 'y': 273}, {'x': 409, 'y': 273}]}, ['apparently']), ({'vertices': [{'x': 469, 'y': 261}, {'x': 482, 'y': 261}, {'x': 482, 'y': 273}, {'x': 469, 'y': 273}]}, ['be']), ({'vertices': [{'x': 484, 'y': 261}, {'x': 502, 'y': 261}, {'x': 502, 'y': 273}, {'x': 484, 'y': 273}]}, ['the']), ({'vertices': [{'x': 505, 'y': 261}, {'x': 529, 'y': 261}, {'x': 529, 'y': 273}, {'x': 505, 'y': 273}]}, ['case']), ({'vertices': [{'x': 534, 'y': 261}, {'x': 544, 'y': 261}, {'x': 544, 'y': 273}, {'x': 534, 'y': 273}]}, ['.I']), ({'vertices': [{'x': 545, 'y': 261}, {'x': 592, 'y': 261}, {'x': 592, 'y': 273}, {'x': 545, 'y': 273}]}, ['attended']), ({'vertices': [{'x': 44, 'y': 275}, {'x': 69, 'y': 275}, {'x': 69, 'y': 289}, {'x': 44, 'y': 289}]}, ['Yad']), ({'vertices': [{'x': 71, 'y': 275}, {'x': 114, 'y': 275}, {'x': 114, 'y': 289}, {'x': 71, 'y': 289}]}, ['Vashem']), ({'vertices': [{'x': 119, 'y': 275}, {'x': 133, 'y': 275}, {'x': 133, 'y': 289}, {'x': 119, 'y': 289}]}, ['on']), ({'vertices': [{'x': 135, 'y': 275}, {'x': 171, 'y': 275}, {'x': 171, 'y': 289}, {'x': 135, 'y': 289}]}, ['Friday']), ({'vertices': [{'x': 174, 'y': 275}, {'x': 184, 'y': 275}, {'x': 184, 'y': 289}, {'x': 174, 'y': 289}]}, ['to']), ({'vertices': [{'x': 188, 'y': 275}, {'x': 220, 'y': 275}, {'x': 220, 'y': 289}, {'x': 188, 'y': 289}]}, ['attend']), ({'vertices': [{'x': 223, 'y': 275}, {'x': 234, 'y': 275}, {'x': 234, 'y': 289}, {'x': 223, 'y': 289}]}, ['to']), ({'vertices': [{'x': 237, 'y': 275}, {'x': 257, 'y': 275}, {'x': 257, 'y': 289}, {'x': 237, 'y': 289}]}, ['this']), ({'vertices': [{'x': 260, 'y': 275}, {'x': 295, 'y': 275}, {'x': 295, 'y': 289}, {'x': 260, 'y': 289}]}, ['matter']), ({'vertices': [{'x': 298, 'y': 275}, {'x': 355, 'y': 275}, {'x': 355, 'y': 289}, {'x': 298, 'y': 289}]}, ['personally']), ({'vertices': [{'x': 354, 'y': 275}, {'x': 358, 'y': 275}, {'x': 358, 'y': 289}, {'x': 354, 'y': 289}]}, [',']), ({'vertices': [{'x': 361, 'y': 275}, {'x': 377, 'y': 275}, {'x': 377, 'y': 289}, {'x': 361, 'y': 289}]}, ['but']), ({'vertices': [{'x': 381, 'y': 275}, {'x': 394, 'y': 275}, {'x': 394, 'y': 289}, {'x': 381, 'y': 289}]}, ['of']), ({'vertices': [{'x': 396, 'y': 275}, {'x': 430, 'y': 275}, {'x': 430, 'y': 289}, {'x': 396, 'y': 289}]}, ['course']), ({'vertices': [{'x': 434, 'y': 275}, {'x': 470, 'y': 275}, {'x': 470, 'y': 289}, {'x': 434, 'y': 289}]}, ['should']), ({'vertices': [{'x': 472, 'y': 275}, {'x': 497, 'y': 275}, {'x': 497, 'y': 289}, {'x': 472, 'y': 289}]}, ['have']), ({'vertices': [{'x': 501, 'y': 275}, {'x': 545, 'y': 275}, {'x': 545, 'y': 289}, {'x': 501, 'y': 289}]}, ['realized']), ({'vertices': [{'x': 547, 'y': 275}, {'x': 569, 'y': 275}, {'x': 569, 'y': 289}, {'x': 547, 'y': 289}]}, ['that']), ({'vertices': [{'x': 570, 'y': 275}, {'x': 598, 'y': 275}, {'x': 598, 'y': 289}, {'x': 570, 'y': 289}]}, ['your']), ({'vertices': [{'x': 46, 'y': 291}, {'x': 83, 'y': 291}, {'x': 83, 'y': 304}, {'x': 46, 'y': 304}]}, ['offices']), ({'vertices': [{'x': 85, 'y': 291}, {'x': 120, 'y': 291}, {'x': 120, 'y': 304}, {'x': 85, 'y': 304}]}, ['would']), ({'vertices': [{'x': 122, 'y': 291}, {'x': 138, 'y': 291}, {'x': 138, 'y': 304}, {'x': 122, 'y': 304}]}, ['be']), ({'vertices': [{'x': 138, 'y': 291}, {'x': 173, 'y': 291}, {'x': 173, 'y': 304}, {'x': 138, 'y': 304}]}, ['closed']), ({'vertices': [{'x': 179, 'y': 291}, {'x': 251, 'y': 291}, {'x': 251, 'y': 304}, {'x': 179, 'y': 304}]}, ['.Accordingly']), ({'vertices': [{'x': 248, 'y': 291}, {'x': 252, 'y': 291}, {'x': 252, 'y': 304}, {'x': 248, 'y': 304}]}, [',']), ({'vertices': [{'x': 256, 'y': 291}, {'x': 262, 'y': 291}, {'x': 262, 'y': 304}, {'x': 256, 'y': 304}]}, ['I']), ({'vertices': [{'x': 266, 'y': 291}, {'x': 280, 'y': 291}, {'x': 280, 'y': 304}, {'x': 266, 'y': 304}]}, ['am']), ({'vertices': [{'x': 285, 'y': 291}, {'x': 328, 'y': 291}, {'x': 328, 'y': 304}, {'x': 285, 'y': 304}]}, ['sending']), ({'vertices': [{'x': 328, 'y': 291}, {'x': 350, 'y': 291}, {'x': 350, 'y': 304}, {'x': 328, 'y': 304}]}, ['you']), ({'vertices': [{'x': 352, 'y': 291}, {'x': 374, 'y': 291}, {'x': 374, 'y': 304}, {'x': 352, 'y': 304}]}, ['this']), ({'vertices': [{'x': 376, 'y': 291}, {'x': 381, 'y': 291}, {'x': 381, 'y': 304}, {'x': 376, 'y': 304}]}, ['e']), ({'vertices': [{'x': 382, 'y': 291}, {'x': 387, 'y': 291}, {'x': 387, 'y': 304}, {'x': 382, 'y': 304}]}, ['-']), ({'vertices': [{'x': 386, 'y': 291}, {'x': 409, 'y': 291}, {'x': 409, 'y': 304}, {'x': 386, 'y': 304}]}, ['mail']), ({'vertices': [{'x': 412, 'y': 291}, {'x': 452, 'y': 291}, {'x': 452, 'y': 304}, {'x': 412, 'y': 304}]}, ['request']), ({'vertices': [{'x': 454, 'y': 291}, {'x': 466, 'y': 291}, {'x': 466, 'y': 304}, {'x': 454, 'y': 304}]}, ['to']), ({'vertices': [{'x': 468, 'y': 291}, {'x': 505, 'y': 291}, {'x': 505, 'y': 304}, {'x': 468, 'y': 304}]}, ['kindly']), ({'vertices': [{'x': 506, 'y': 291}, {'x': 539, 'y': 291}, {'x': 539, 'y': 304}, {'x': 506, 'y': 304}]}, ['revise']), ({'vertices': [{'x': 541, 'y': 291}, {'x': 567, 'y': 291}, {'x': 567, 'y': 304}, {'x': 541, 'y': 304}]}, ['your']), ({'vertices': [{'x': 44, 'y': 306}, {'x': 87, 'y': 306}, {'x': 87, 'y': 321}, {'x': 44, 'y': 321}]}, ['records']), ({'vertices': [{'x': 95, 'y': 306}, {'x': 138, 'y': 306}, {'x': 138, 'y': 321}, {'x': 95, 'y': 321}]}, ['Edward']), ({'vertices': [{'x': 140, 'y': 306}, {'x': 174, 'y': 306}, {'x': 174, 'y': 321}, {'x': 140, 'y': 321}]}, ['Reiter']), ({'vertices': [{'x': 177, 'y': 306}, {'x': 224, 'y': 306}, {'x': 224, 'y': 321}, {'x': 177, 'y': 321}]}, ['survived']), ({'vertices': [{'x': 226, 'y': 306}, {'x': 242, 'y': 306}, {'x': 242, 'y': 321}, {'x': 226, 'y': 321}]}, ['the']), ({'vertices': [{'x': 246, 'y': 306}, {'x': 274, 'y': 306}, {'x': 274, 'y': 321}, {'x': 246, 'y': 321}]}, ['Shoa']), ({'vertices': [{'x': 277, 'y': 306}, {'x': 296, 'y': 306}, {'x': 296, 'y': 321}, {'x': 277, 'y': 321}]}, ['and']), ({'vertices': [{'x': 299, 'y': 306}, {'x': 344, 'y': 306}, {'x': 344, 'y': 321}, {'x': 299, 'y': 321}]}, ['returned']), ({'vertices': [{'x': 346, 'y': 306}, {'x': 358, 'y': 306}, {'x': 358, 'y': 321}, {'x': 346, 'y': 321}]}, ['to']), ({'vertices': [{'x': 360, 'y': 306}, {'x': 387, 'y': 306}, {'x': 387, 'y': 321}, {'x': 360, 'y': 321}]}, ['Paris']), ({'vertices': [{'x': 391, 'y': 306}, {'x': 402, 'y': 306}, {'x': 402, 'y': 321}, {'x': 391, 'y': 321}]}, ['in']), ({'vertices': [{'x': 404, 'y': 306}, {'x': 430, 'y': 306}, {'x': 430, 'y': 321}, {'x': 404, 'y': 321}]}, ['May']), ({'vertices': [{'x': 433, 'y': 306}, {'x': 457, 'y': 306}, {'x': 457, 'y': 321}, {'x': 433, 'y': 321}]}, ['1945']), ({'vertices': [{'x': 462, 'y': 306}, {'x': 493, 'y': 306}, {'x': 493, 'y': 321}, {'x': 462, 'y': 321}]}, ['under']), ({'vertices': [{'x': 495, 'y': 306}, {'x': 513, 'y': 306}, {'x': 513, 'y': 321}, {'x': 495, 'y': 321}]}, ['the']), ({'vertices': [{'x': 516, 'y': 306}, {'x': 539, 'y': 306}, {'x': 539, 'y': 321}, {'x': 516, 'y': 321}]}, ['care']), ({'vertices': [{'x': 542, 'y': 306}, {'x': 556, 'y': 306}, {'x': 556, 'y': 321}, {'x': 542, 'y': 321}]}, ['of']), ({'vertices': [{'x': 555, 'y': 306}, {'x': 575, 'y': 306}, {'x': 575, 'y': 321}, {'x': 555, 'y': 321}]}, ['the']), ({'vertices': [{'x': 575, 'y': 306}, {'x': 602, 'y': 306}, {'x': 602, 'y': 321}, {'x': 575, 'y': 321}]}, ['OSE']), ({'vertices': [{'x': 55, 'y': 322}, {'x': 99, 'y': 322}, {'x': 99, 'y': 335}, {'x': 55, 'y': 335}]}, ['Edward']), ({'vertices': [{'x': 100, 'y': 322}, {'x': 121, 'y': 322}, {'x': 121, 'y': 335}, {'x': 100, 'y': 335}]}, ['had']), ({'vertices': [{'x': 123, 'y': 322}, {'x': 151, 'y': 322}, {'x': 151, 'y': 335}, {'x': 123, 'y': 335}]}, ['been']), ({'vertices': [{'x': 152, 'y': 322}, {'x': 183, 'y': 322}, {'x': 183, 'y': 335}, {'x': 152, 'y': 335}]}, ['under']), ({'vertices': [{'x': 186, 'y': 322}, {'x': 203, 'y': 322}, {'x': 203, 'y': 335}, {'x': 186, 'y': 335}]}, ['the']), ({'vertices': [{'x': 206, 'y': 322}, {'x': 229, 'y': 322}, {'x': 229, 'y': 335}, {'x': 206, 'y': 335}]}, ['care']), ({'vertices': [{'x': 233, 'y': 322}, {'x': 244, 'y': 322}, {'x': 244, 'y': 335}, {'x': 233, 'y': 335}]}, ['of']), ({'vertices': [{'x': 245, 'y': 322}, {'x': 262, 'y': 322}, {'x': 262, 'y': 335}, {'x': 245, 'y': 335}]}, ['the']), ({'vertices': [{'x': 266, 'y': 322}, {'x': 290, 'y': 322}, {'x': 290, 'y': 335}, {'x': 266, 'y': 335}]}, ['OSE']), ({'vertices': [{'x': 296, 'y': 322}, {'x': 324, 'y': 322}, {'x': 324, 'y': 335}, {'x': 296, 'y': 335}]}, ['from']), ({'vertices': [{'x': 328, 'y': 322}, {'x': 337, 'y': 322}, {'x': 337, 'y': 335}, {'x': 328, 'y': 335}]}, ['at']), ({'vertices': [{'x': 340, 'y': 322}, {'x': 366, 'y': 322}, {'x': 366, 'y': 335}, {'x': 340, 'y': 335}]}, ['least']), ({'vertices': [{'x': 369, 'y': 322}, {'x': 395, 'y': 322}, {'x': 395, 'y': 335}, {'x': 369, 'y': 335}]}, ['1942']), ({'vertices': [{'x': 399, 'y': 322}, {'x': 424, 'y': 322}, {'x': 424, 'y': 335}, {'x': 399, 'y': 335}]}, ['until']), ({'vertices': [{'x': 426, 'y': 322}, {'x': 442, 'y': 322}, {'x': 442, 'y': 335}, {'x': 426, 'y': 335}]}, ['his']), ({'vertices': [{'x': 446, 'y': 322}, {'x': 486, 'y': 322}, {'x': 486, 'y': 335}, {'x': 446, 'y': 335}]}, ['capture']), ({'vertices': [{'x': 488, 'y': 322}, {'x': 503, 'y': 322}, {'x': 503, 'y': 335}, {'x': 488, 'y': 335}]}, ['by']), ({'vertices': [{'x': 504, 'y': 322}, {'x': 522, 'y': 322}, {'x': 522, 'y': 335}, {'x': 504, 'y': 335}]}, ['the']), ({'vertices': [{'x': 524, 'y': 322}, {'x': 574, 'y': 322}, {'x': 574, 'y': 335}, {'x': 524, 'y': 335}]}, ['Germans']), ({'vertices': [{'x': 577, 'y': 322}, {'x': 588, 'y': 322}, {'x': 588, 'y': 335}, {'x': 577, 'y': 335}]}, ['in']), ({'vertices': [{'x': 45, 'y': 337}, {'x': 71, 'y': 337}, {'x': 71, 'y': 349}, {'x': 45, 'y': 349}]}, ['Italy']), ({'vertices': [{'x': 73, 'y': 337}, {'x': 85, 'y': 337}, {'x': 85, 'y': 349}, {'x': 73, 'y': 349}]}, ['in']), ({'vertices': [{'x': 87, 'y': 337}, {'x': 113, 'y': 337}, {'x': 113, 'y': 349}, {'x': 87, 'y': 349}]}, ['1943']), ({'vertices': [{'x': 117, 'y': 337}, {'x': 171, 'y': 337}, {'x': 171, 'y': 349}, {'x': 117, 'y': 349}]}, ['following']), ({'vertices': [{'x': 172, 'y': 337}, {'x': 190, 'y': 337}, {'x': 190, 'y': 349}, {'x': 172, 'y': 349}]}, ['the']), ({'vertices': [{'x': 192, 'y': 337}, {'x': 223, 'y': 337}, {'x': 223, 'y': 349}, {'x': 192, 'y': 349}]}, ['flight']), ({'vertices': [{'x': 226, 'y': 337}, {'x': 238, 'y': 337}, {'x': 238, 'y': 349}, {'x': 226, 'y': 349}]}, ['of']), ({'vertices': [{'x': 239, 'y': 337}, {'x': 257, 'y': 337}, {'x': 257, 'y': 349}, {'x': 239, 'y': 349}]}, ['the']), ({'vertices': [{'x': 259, 'y': 337}, {'x': 286, 'y': 337}, {'x': 286, 'y': 349}, {'x': 259, 'y': 349}]}, ['Jews']), ({'vertices': [{'x': 289, 'y': 337}, {'x': 301, 'y': 337}, {'x': 301, 'y': 349}, {'x': 289, 'y': 349}]}, ['of']), ({'vertices': [{'x': 302, 'y': 337}, {'x': 330, 'y': 337}, {'x': 330, 'y': 349}, {'x': 302, 'y': 349}]}, ['Saint']), ({'vertices': [{'x': 334, 'y': 337}, {'x': 372, 'y': 337}, {'x': 372, 'y': 349}, {'x': 334, 'y': 349}]}, ['Martin']), ({'vertices': [{'x': 374, 'y': 337}, {'x': 418, 'y': 337}, {'x': 418, 'y': 349}, {'x': 374, 'y': 349}]}, ['Vesubie']), ({'vertices': [{'x': 422, 'y': 337}, {'x': 442, 'y': 337}, {'x': 442, 'y': 349}, {'x': 422, 'y': 349}]}, ['into']), ({'vertices': [{'x': 446, 'y': 337}, {'x': 463, 'y': 337}, {'x': 463, 'y': 349}, {'x': 446, 'y': 349}]}, ['the']), ({'vertices': [{'x': 465, 'y': 337}, {'x': 516, 'y': 337}, {'x': 516, 'y': 349}, {'x': 465, 'y': 349}]}, ['Maritime']), ({'vertices': [{'x': 518, 'y': 337}, {'x': 546, 'y': 337}, {'x': 546, 'y': 349}, {'x': 518, 'y': 349}]}, ['Alps']), ({'vertices': [{'x': 45, 'y': 353}, {'x': 104, 'y': 353}, {'x': 104, 'y': 366}, {'x': 45, 'y': 366}]}, ['September']), ({'vertices': [{'x': 106, 'y': 353}, {'x': 112, 'y': 353}, {'x': 112, 'y': 366}, {'x': 106, 'y': 366}]}, ['8']), ({'vertices': [{'x': 112, 'y': 353}, {'x': 115, 'y': 353}, {'x': 115, 'y': 366}, {'x': 112, 'y': 366}]}, [',']), ({'vertices': [{'x': 120, 'y': 353}, {'x': 146, 'y': 353}, {'x': 146, 'y': 366}, {'x': 120, 'y': 366}]}, ['1943']), ({'vertices': [{'x': 155, 'y': 353}, {'x': 199, 'y': 353}, {'x': 199, 'y': 366}, {'x': 155, 'y': 366}]}, ['Edward']), ({'vertices': [{'x': 201, 'y': 353}, {'x': 224, 'y': 353}, {'x': 224, 'y': 366}, {'x': 201, 'y': 366}]}, ['was']), ({'vertices': [{'x': 226, 'y': 353}, {'x': 249, 'y': 353}, {'x': 249, 'y': 366}, {'x': 226, 'y': 366}]}, ['sent']), ({'vertices': [{'x': 252, 'y': 353}, {'x': 296, 'y': 353}, {'x': 296, 'y': 366}, {'x': 252, 'y': 366}]}, ['together']), ({'vertices': [{'x': 298, 'y': 353}, {'x': 323, 'y': 353}, {'x': 323, 'y': 366}, {'x': 298, 'y': 366}]}, ['with']), ({'vertices': [{'x': 327, 'y': 353}, {'x': 404, 'y': 353}, {'x': 404, 'y': 366}, {'x': 327, 'y': 366}]}, ['approximately']), ({'vertices': [{'x': 407, 'y': 353}, {'x': 426, 'y': 353}, {'x': 426, 'y': 366}, {'x': 407, 'y': 366}]}, ['350']), ({'vertices': [{'x': 431, 'y': 353}, {'x': 458, 'y': 353}, {'x': 458, 'y': 366}, {'x': 431, 'y': 366}]}, ['other']), ({'vertices': [{'x': 460, 'y': 353}, {'x': 488, 'y': 353}, {'x': 488, 'y': 366}, {'x': 460, 'y': 366}]}, ['Jews']), ({'vertices': [{'x': 486, 'y': 353}, {'x': 490, 'y': 353}, {'x': 490, 'y': 366}, {'x': 486, 'y': 366}]}, [',']), ({'vertices': [{'x': 493, 'y': 353}, {'x': 524, 'y': 353}, {'x': 524, 'y': 366}, {'x': 493, 'y': 366}]}, ['many']), ({'vertices': [{'x': 527, 'y': 353}, {'x': 539, 'y': 353}, {'x': 539, 'y': 366}, {'x': 527, 'y': 366}]}, ['of']), ({'vertices': [{'x': 541, 'y': 353}, {'x': 570, 'y': 353}, {'x': 570, 'y': 366}, {'x': 541, 'y': 366}]}, ['those']), ({'vertices': [{'x': 573, 'y': 353}, {'x': 597, 'y': 353}, {'x': 597, 'y': 366}, {'x': 573, 'y': 366}]}, ['who']), ({'vertices': [{'x': 45, 'y': 368}, {'x': 65, 'y': 368}, {'x': 65, 'y': 381}, {'x': 45, 'y': 381}]}, ['had']), ({'vertices': [{'x': 69, 'y': 368}, {'x': 91, 'y': 368}, {'x': 91, 'y': 381}, {'x': 69, 'y': 381}]}, ['also']), ({'vertices': [{'x': 96, 'y': 368}, {'x': 123, 'y': 368}, {'x': 123, 'y': 381}, {'x': 96, 'y': 381}]}, ['been']), ({'vertices': [{'x': 126, 'y': 368}, {'x': 171, 'y': 368}, {'x': 171, 'y': 381}, {'x': 126, 'y': 381}]}, ['captured']), ({'vertices': [{'x': 175, 'y': 368}, {'x': 186, 'y': 368}, {'x': 186, 'y': 381}, {'x': 175, 'y': 381}]}, ['in']), ({'vertices': [{'x': 188, 'y': 368}, {'x': 205, 'y': 368}, {'x': 205, 'y': 381}, {'x': 188, 'y': 381}]}, ['the']), ({'vertices': [{'x': 207, 'y': 368}, {'x': 238, 'y': 368}, {'x': 238, 'y': 381}, {'x': 207, 'y': 381}]}, ['flight']), ({'vertices': [{'x': 240, 'y': 368}, {'x': 267, 'y': 368}, {'x': 267, 'y': 381}, {'x': 240, 'y': 381}]}, ['from']), ({'vertices': [{'x': 270, 'y': 368}, {'x': 297, 'y': 368}, {'x': 297, 'y': 381}, {'x': 270, 'y': 381}]}, ['Saint']), ({'vertices': [{'x': 301, 'y': 368}, {'x': 338, 'y': 368}, {'x': 338, 'y': 381}, {'x': 301, 'y': 381}]}, ['Martin']), ({'vertices': [{'x': 341, 'y': 368}, {'x': 385, 'y': 368}, {'x': 385, 'y': 381}, {'x': 341, 'y': 381}]}, ['Vesubie']), ({'vertices': [{'x': 384, 'y': 368}, {'x': 388, 'y': 368}, {'x': 388, 'y': 381}, {'x': 384, 'y': 381}]}, [',']), ({'vertices': [{'x': 393, 'y': 368}, {'x': 406, 'y': 368}, {'x': 406, 'y': 381}, {'x': 393, 'y': 381}]}, ['on']), ({'vertices': [{'x': 409, 'y': 368}, {'x': 414, 'y': 368}, {'x': 414, 'y': 381}, {'x': 409, 'y': 381}]}, ['a']), ({'vertices': [{'x': 418, 'y': 368}, {'x': 465, 'y': 368}, {'x': 465, 'y': 381}, {'x': 418, 'y': 381}]}, ['transport']), ({'vertices': [{'x': 468, 'y': 368}, {'x': 494, 'y': 368}, {'x': 494, 'y': 381}, {'x': 468, 'y': 381}]}, ['from']), ({'vertices': [{'x': 498, 'y': 368}, {'x': 532, 'y': 368}, {'x': 532, 'y': 381}, {'x': 498, 'y': 381}]}, ['Borgo']), ({'vertices': [{'x': 531, 'y': 368}, {'x': 535, 'y': 368}, {'x': 535, 'y': 381}, {'x': 531, 'y': 381}]}, [',']), ({'vertices': [{'x': 538, 'y': 368}, {'x': 564, 'y': 368}, {'x': 564, 'y': 381}, {'x': 538, 'y': 381}]}, ['Italy']), ({'vertices': [{'x': 567, 'y': 368}, {'x': 585, 'y': 368}, {'x': 585, 'y': 381}, {'x': 567, 'y': 381}]}, ['via']), ({'vertices': [{'x': 45, 'y': 382}, {'x': 72, 'y': 382}, {'x': 72, 'y': 396}, {'x': 45, 'y': 396}]}, ['Nice']), ({'vertices': [{'x': 70, 'y': 382}, {'x': 74, 'y': 382}, {'x': 74, 'y': 396}, {'x': 70, 'y': 396}]}, [',']), ({'vertices': [{'x': 77, 'y': 382}, {'x': 111, 'y': 382}, {'x': 111, 'y': 396}, {'x': 77, 'y': 396}]}, ['which']), ({'vertices': [{'x': 114, 'y': 382}, {'x': 161, 'y': 382}, {'x': 161, 'y': 396}, {'x': 114, 'y': 396}]}, ['transport']), ({'vertices': [{'x': 165, 'y': 382}, {'x': 204, 'y': 382}, {'x': 204, 'y': 396}, {'x': 165, 'y': 396}]}, ['arrived']), ({'vertices': [{'x': 205, 'y': 382}, {'x': 217, 'y': 382}, {'x': 217, 'y': 396}, {'x': 205, 'y': 396}]}, ['in']), ({'vertices': [{'x': 220, 'y': 382}, {'x': 261, 'y': 382}, {'x': 261, 'y': 396}, {'x': 220, 'y': 396}]}, ['Drancy']), ({'vertices': [{'x': 263, 'y': 382}, {'x': 321, 'y': 382}, {'x': 321, 'y': 396}, {'x': 263, 'y': 396}]}, ['November']), ({'vertices': [{'x': 322, 'y': 382}, {'x': 335, 'y': 382}, {'x': 335, 'y': 396}, {'x': 322, 'y': 396}]}, ['27']), ({'vertices': [{'x': 335, 'y': 382}, {'x': 339, 'y': 382}, {'x': 339, 'y': 396}, {'x': 335, 'y': 396}]}, [',']), ({'vertices': [{'x': 344, 'y': 382}, {'x': 369, 'y': 382}, {'x': 369, 'y': 396}, {'x': 344, 'y': 396}]}, ['1943']), ({'vertices': [{'x': 379, 'y': 382}, {'x': 399, 'y': 382}, {'x': 399, 'y': 396}, {'x': 379, 'y': 396}]}, ['Mr.']), ({'vertices': [{'x': 403, 'y': 382}, {'x': 436, 'y': 382}, {'x': 436, 'y': 396}, {'x': 403, 'y': 396}]}, ['Reiter']), ({'vertices': [{'x': 439, 'y': 382}, {'x': 462, 'y': 382}, {'x': 462, 'y': 396}, {'x': 439, 'y': 396}]}, ['was']), ({'vertices': [{'x': 464, 'y': 382}, {'x': 511, 'y': 382}, {'x': 511, 'y': 396}, {'x': 464, 'y': 396}]}, ['deported']), ({'vertices': [{'x': 512, 'y': 382}, {'x': 539, 'y': 382}, {'x': 539, 'y': 396}, {'x': 512, 'y': 396}]}, ['from']), ({'vertices': [{'x': 542, 'y': 382}, {'x': 585, 'y': 382}, {'x': 585, 'y': 396}, {'x': 542, 'y': 396}]}, ['Drancy']), ({'vertices': [{'x': 585, 'y': 382}, {'x': 598, 'y': 382}, {'x': 598, 'y': 396}, {'x': 585, 'y': 396}]}, ['to']), ({'vertices': [{'x': 44, 'y': 398}, {'x': 110, 'y': 398}, {'x': 110, 'y': 412}, {'x': 44, 'y': 412}]}, ['Auschiewtz']), ({'vertices': [{'x': 112, 'y': 398}, {'x': 127, 'y': 398}, {'x': 127, 'y': 412}, {'x': 112, 'y': 412}]}, ['on']), ({'vertices': [{'x': 128, 'y': 398}, {'x': 173, 'y': 398}, {'x': 173, 'y': 412}, {'x': 128, 'y': 412}]}, ['Convoy']), ({'vertices': [{'x': 175, 'y': 398}, {'x': 189, 'y': 398}, {'x': 189, 'y': 412}, {'x': 175, 'y': 412}]}, ['64']), ({'vertices': [{'x': 198, 'y': 398}, {'x': 243, 'y': 398}, {'x': 243, 'y': 412}, {'x': 198, 'y': 412}]}, ['Convoy']), ({'vertices': [{'x': 244, 'y': 398}, {'x': 258, 'y': 398}, {'x': 258, 'y': 412}, {'x': 244, 'y': 412}]}, ['64']), ({'vertices': [{'x': 260, 'y': 398}, {'x': 280, 'y': 398}, {'x': 280, 'y': 412}, {'x': 260, 'y': 412}]}, ['left']), ({'vertices': [{'x': 282, 'y': 398}, {'x': 299, 'y': 398}, {'x': 299, 'y': 412}, {'x': 282, 'y': 412}]}, ['the']), ({'vertices': [{'x': 302, 'y': 398}, {'x': 350, 'y': 398}, {'x': 350, 'y': 412}, {'x': 302, 'y': 412}]}, ['Bobigny']), ({'vertices': [{'x': 353, 'y': 398}, {'x': 387, 'y': 398}, {'x': 387, 'y': 412}, {'x': 353, 'y': 412}]}, ['station']), ({'vertices': [{'x': 391, 'y': 398}, {'x': 395, 'y': 398}, {'x': 395, 'y': 412}, {'x': 391, 'y': 412}]}, ['(']), ({'vertices': [{'x': 394, 'y': 398}, {'x': 415, 'y': 398}, {'x': 415, 'y': 412}, {'x': 394, 'y': 412}]}, ['that']), ({'vertices': [{'x': 418, 'y': 398}, {'x': 428, 'y': 398}, {'x': 428, 'y': 412}, {'x': 418, 'y': 412}]}, ['is']), ({'vertices': [{'x': 431, 'y': 398}, {'x': 447, 'y': 398}, {'x': 447, 'y': 412}, {'x': 431, 'y': 412}]}, ['the']), ({'vertices': [{'x': 450, 'y': 398}, {'x': 493, 'y': 398}, {'x': 493, 'y': 412}, {'x': 450, 'y': 412}]}, ['railway']), ({'vertices': [{'x': 495, 'y': 398}, {'x': 532, 'y': 398}, {'x': 532, 'y': 412}, {'x': 495, 'y': 412}]}, ['station']), ({'vertices': [{'x': 533, 'y': 398}, {'x': 568, 'y': 398}, {'x': 568, 'y': 412}, {'x': 533, 'y': 412}]}, ['where']), ({'vertices': [{'x': 569, 'y': 398}, {'x': 588, 'y': 398}, {'x': 588, 'y': 412}, {'x': 569, 'y': 412}]}, ['the']), ({'vertices': [{'x': 45, 'y': 414}, {'x': 76, 'y': 414}, {'x': 76, 'y': 427}, {'x': 45, 'y': 427}]}, ['trains']), ({'vertices': [{'x': 78, 'y': 414}, {'x': 98, 'y': 414}, {'x': 98, 'y': 427}, {'x': 78, 'y': 427}]}, ['left']), ({'vertices': [{'x': 96, 'y': 414}, {'x': 102, 'y': 414}, {'x': 102, 'y': 427}, {'x': 96, 'y': 427}]}, [')']), ({'vertices': [{'x': 105, 'y': 414}, {'x': 115, 'y': 414}, {'x': 115, 'y': 427}, {'x': 105, 'y': 427}]}, ['at']), ({'vertices': [{'x': 118, 'y': 414}, {'x': 148, 'y': 414}, {'x': 148, 'y': 427}, {'x': 118, 'y': 427}]}, ['12:10']), ({'vertices': [{'x': 152, 'y': 414}, {'x': 172, 'y': 414}, {'x': 172, 'y': 427}, {'x': 152, 'y': 427}]}, ['am']), ({'vertices': [{'x': 177, 'y': 414}, {'x': 227, 'y': 414}, {'x': 227, 'y': 427}, {'x': 177, 'y': 427}]}, ['Decmber']), ({'vertices': [{'x': 230, 'y': 414}, {'x': 236, 'y': 414}, {'x': 236, 'y': 427}, {'x': 230, 'y': 427}]}, ['7']), ({'vertices': [{'x': 237, 'y': 414}, {'x': 240, 'y': 414}, {'x': 240, 'y': 427}, {'x': 237, 'y': 427}]}, [',']), ({'vertices': [{'x': 245, 'y': 414}, {'x': 274, 'y': 414}, {'x': 274, 'y': 427}, {'x': 245, 'y': 427}]}, ['1943.']), ({'vertices': [{'x': 277, 'y': 414}, {'x': 290, 'y': 414}, {'x': 290, 'y': 427}, {'x': 277, 'y': 427}]}, ['In']), ({'vertices': [{'x': 291, 'y': 414}, {'x': 316, 'y': 414}, {'x': 316, 'y': 427}, {'x': 291, 'y': 427}]}, ['June']), ({'vertices': [{'x': 320, 'y': 414}, {'x': 346, 'y': 414}, {'x': 346, 'y': 427}, {'x': 320, 'y': 427}]}, ['1945']), ({'vertices': [{'x': 346, 'y': 414}, {'x': 349, 'y': 414}, {'x': 349, 'y': 427}, {'x': 346, 'y': 427}]}, [',']), ({'vertices': [{'x': 354, 'y': 414}, {'x': 378, 'y': 414}, {'x': 378, 'y': 427}, {'x': 354, 'y': 427}]}, ['after']), ({'vertices': [{'x': 382, 'y': 414}, {'x': 388, 'y': 414}, {'x': 388, 'y': 427}, {'x': 382, 'y': 427}]}, ['a']), ({'vertices': [{'x': 390, 'y': 414}, {'x': 411, 'y': 414}, {'x': 411, 'y': 427}, {'x': 390, 'y': 427}]}, ['few']), ({'vertices': [{'x': 413, 'y': 414}, {'x': 449, 'y': 414}, {'x': 449, 'y': 427}, {'x': 413, 'y': 427}]}, ['weeks']), ({'vertices': [{'x': 451, 'y': 414}, {'x': 463, 'y': 414}, {'x': 463, 'y': 427}, {'x': 451, 'y': 427}]}, ['in']), ({'vertices': [{'x': 464, 'y': 414}, {'x': 491, 'y': 414}, {'x': 491, 'y': 427}, {'x': 464, 'y': 427}]}, ['Paris']), ({'vertices': [{'x': 495, 'y': 414}, {'x': 549, 'y': 414}, {'x': 549, 'y': 427}, {'x': 495, 'y': 427}]}, ['following']), ({'vertices': [{'x': 550, 'y': 414}, {'x': 566, 'y': 414}, {'x': 566, 'y': 427}, {'x': 550, 'y': 427}]}, ['his']), ({'vertices': [{'x': 570, 'y': 414}, {'x': 603, 'y': 414}, {'x': 603, 'y': 427}, {'x': 570, 'y': 427}]}, ['return']), ({'vertices': [{'x': 45, 'y': 430}, {'x': 73, 'y': 430}, {'x': 73, 'y': 443}, {'x': 45, 'y': 443}]}, ['from']), ({'vertices': [{'x': 74, 'y': 430}, {'x': 91, 'y': 430}, {'x': 91, 'y': 443}, {'x': 74, 'y': 443}]}, ['the']), ({'vertices': [{'x': 96, 'y': 430}, {'x': 169, 'y': 430}, {'x': 169, 'y': 443}, {'x': 96, 'y': 443}]}, ['concentration']), ({'vertices': [{'x': 172, 'y': 430}, {'x': 207, 'y': 430}, {'x': 207, 'y': 443}, {'x': 172, 'y': 443}]}, ['camps']), ({'vertices': [{'x': 205, 'y': 430}, {'x': 209, 'y': 430}, {'x': 209, 'y': 443}, {'x': 205, 'y': 443}]}, [',']), ({'vertices': [{'x': 212, 'y': 430}, {'x': 254, 'y': 430}, {'x': 254, 'y': 443}, {'x': 212, 'y': 443}]}, ['Edward']), ({'vertices': [{'x': 258, 'y': 430}, {'x': 279, 'y': 430}, {'x': 279, 'y': 443}, {'x': 258, 'y': 443}]}, ['was']), ({'vertices': [{'x': 282, 'y': 430}, {'x': 322, 'y': 430}, {'x': 322, 'y': 443}, {'x': 282, 'y': 443}]}, ['advised']), ({'vertices': [{'x': 325, 'y': 430}, {'x': 329, 'y': 430}, {'x': 329, 'y': 443}, {'x': 325, 'y': 443}]}, [',']), ({'vertices': [{'x': 333, 'y': 430}, {'x': 364, 'y': 430}, {'x': 364, 'y': 443}, {'x': 333, 'y': 443}]}, ['likely']), ({'vertices': [{'x': 367, 'y': 430}, {'x': 381, 'y': 430}, {'x': 381, 'y': 443}, {'x': 367, 'y': 443}]}, ['by']), ({'vertices': [{'x': 383, 'y': 430}, {'x': 399, 'y': 430}, {'x': 399, 'y': 443}, {'x': 383, 'y': 443}]}, ['the']), ({'vertices': [{'x': 403, 'y': 430}, {'x': 427, 'y': 430}, {'x': 427, 'y': 443}, {'x': 403, 'y': 443}]}, ['OSE']), ({'vertices': [{'x': 431, 'y': 430}, {'x': 459, 'y': 430}, {'x': 459, 'y': 443}, {'x': 431, 'y': 443}]}, ['Paris']), ({'vertices': [{'x': 463, 'y': 430}, {'x': 507, 'y': 430}, {'x': 507, 'y': 443}, {'x': 463, 'y': 443}]}, ['officials']), ({'vertices': [{'x': 505, 'y': 430}, {'x': 508, 'y': 430}, {'x': 508, 'y': 443}, {'x': 505, 'y': 443}]}, [',']), ({'vertices': [{'x': 512, 'y': 430}, {'x': 535, 'y': 430}, {'x': 535, 'y': 443}, {'x': 512, 'y': 443}]}, ['that']), ({'vertices': [{'x': 536, 'y': 430}, {'x': 553, 'y': 430}, {'x': 553, 'y': 443}, {'x': 536, 'y': 443}]}, ['his']), ({'vertices': [{'x': 554, 'y': 430}, {'x': 588, 'y': 430}, {'x': 588, 'y': 443}, {'x': 554, 'y': 443}]}, ['father']), ({'vertices': [{'x': 46, 'y': 445}, {'x': 67, 'y': 445}, {'x': 67, 'y': 459}, {'x': 46, 'y': 459}]}, ['and']), ({'vertices': [{'x': 69, 'y': 445}, {'x': 108, 'y': 445}, {'x': 108, 'y': 459}, {'x': 69, 'y': 459}]}, ['brother']), ({'vertices': [{'x': 111, 'y': 445}, {'x': 131, 'y': 445}, {'x': 131, 'y': 459}, {'x': 111, 'y': 459}]}, ['had']), ({'vertices': [{'x': 134, 'y': 445}, {'x': 156, 'y': 445}, {'x': 156, 'y': 459}, {'x': 134, 'y': 459}]}, ['also']), ({'vertices': [{'x': 159, 'y': 445}, {'x': 204, 'y': 445}, {'x': 204, 'y': 459}, {'x': 159, 'y': 459}]}, ['survived']), ({'vertices': [{'x': 207, 'y': 445}, {'x': 224, 'y': 445}, {'x': 224, 'y': 459}, {'x': 207, 'y': 459}]}, ['the']), ({'vertices': [{'x': 227, 'y': 445}, {'x': 249, 'y': 445}, {'x': 249, 'y': 459}, {'x': 227, 'y': 459}]}, ['war']), ({'vertices': [{'x': 251, 'y': 445}, {'x': 263, 'y': 445}, {'x': 263, 'y': 459}, {'x': 251, 'y': 459}]}, ['in']), ({'vertices': [{'x': 265, 'y': 445}, {'x': 301, 'y': 445}, {'x': 301, 'y': 459}, {'x': 265, 'y': 459}]}, ['hiding']), ({'vertices': [{'x': 302, 'y': 445}, {'x': 314, 'y': 445}, {'x': 314, 'y': 459}, {'x': 302, 'y': 459}]}, ['in']), ({'vertices': [{'x': 316, 'y': 445}, {'x': 342, 'y': 445}, {'x': 342, 'y': 459}, {'x': 316, 'y': 459}]}, ['Italy']), ({'vertices': [{'x': 344, 'y': 445}, {'x': 348, 'y': 445}, {'x': 348, 'y': 459}, {'x': 344, 'y': 459}]}, ['(']), ({'vertices': [{'x': 348, 'y': 445}, {'x': 372, 'y': 445}, {'x': 372, 'y': 459}, {'x': 348, 'y': 459}]}, ['they']), ({'vertices': [{'x': 375, 'y': 445}, {'x': 401, 'y': 445}, {'x': 401, 'y': 459}, {'x': 375, 'y': 459}]}, ['were']), ({'vertices': [{'x': 405, 'y': 445}, {'x': 417, 'y': 445}, {'x': 417, 'y': 459}, {'x': 405, 'y': 459}]}, ['all']), ({'vertices': [{'x': 421, 'y': 445}, {'x': 466, 'y': 445}, {'x': 466, 'y': 459}, {'x': 421, 'y': 459}]}, ['reunited']), ({'vertices': [{'x': 469, 'y': 445}, {'x': 506, 'y': 445}, {'x': 506, 'y': 459}, {'x': 469, 'y': 459}]}, ['briefly']), ({'vertices': [{'x': 507, 'y': 445}, {'x': 518, 'y': 445}, {'x': 518, 'y': 459}, {'x': 507, 'y': 459}]}, ['in']), ({'vertices': [{'x': 522, 'y': 445}, {'x': 549, 'y': 445}, {'x': 549, 'y': 459}, {'x': 522, 'y': 459}]}, ['1943']), ({'vertices': [{'x': 552, 'y': 445}, {'x': 563, 'y': 445}, {'x': 563, 'y': 459}, {'x': 552, 'y': 459}]}, ['in']), ({'vertices': [{'x': 565, 'y': 445}, {'x': 595, 'y': 445}, {'x': 595, 'y': 459}, {'x': 565, 'y': 459}]}, ['Saint']), ({'vertices': [{'x': 45, 'y': 460}, {'x': 84, 'y': 460}, {'x': 84, 'y': 474}, {'x': 45, 'y': 474}]}, ['Martin']), ({'vertices': [{'x': 85, 'y': 460}, {'x': 130, 'y': 460}, {'x': 130, 'y': 474}, {'x': 85, 'y': 474}]}, ['Vesubie']), ({'vertices': [{'x': 133, 'y': 460}, {'x': 158, 'y': 460}, {'x': 158, 'y': 474}, {'x': 133, 'y': 474}]}, ['after']), ({'vertices': [{'x': 160, 'y': 460}, {'x': 214, 'y': 460}, {'x': 214, 'y': 474}, {'x': 160, 'y': 474}]}, ['Edouards']), ({'vertices': [{'x': 217, 'y': 460}, {'x': 241, 'y': 460}, {'x': 241, 'y': 474}, {'x': 217, 'y': 474}]}, ['OSE']), ({'vertices': [{'x': 241, 'y': 460}, {'x': 247, 'y': 460}, {'x': 247, 'y': 474}, {'x': 241, 'y': 474}]}, ['/']), ({'vertices': [{'x': 247, 'y': 460}, {'x': 281, 'y': 460}, {'x': 281, 'y': 474}, {'x': 247, 'y': 474}]}, ['ORTE']), ({'vertices': [{'x': 285, 'y': 460}, {'x': 314, 'y': 460}, {'x': 314, 'y': 474}, {'x': 285, 'y': 474}]}, ['home']), ({'vertices': [{'x': 315, 'y': 460}, {'x': 320, 'y': 460}, {'x': 320, 'y': 474}, {'x': 315, 'y': 474}]}, ['/']), ({'vertices': [{'x': 319, 'y': 460}, {'x': 352, 'y': 460}, {'x': 352, 'y': 474}, {'x': 319, 'y': 474}]}, ['school']), ({'vertices': [{'x': 357, 'y': 460}, {'x': 367, 'y': 460}, {'x': 367, 'y': 474}, {'x': 357, 'y': 474}]}, ['in']), ({'vertices': [{'x': 370, 'y': 460}, {'x': 399, 'y': 460}, {'x': 399, 'y': 474}, {'x': 370, 'y': 474}]}, ['Agde']), ({'vertices': [{'x': 399, 'y': 460}, {'x': 402, 'y': 460}, {'x': 402, 'y': 474}, {'x': 399, 'y': 474}]}, [',']), ({'vertices': [{'x': 406, 'y': 460}, {'x': 442, 'y': 460}, {'x': 442, 'y': 474}, {'x': 406, 'y': 474}]}, ['France']), ({'vertices': [{'x': 445, 'y': 460}, {'x': 468, 'y': 460}, {'x': 468, 'y': 474}, {'x': 445, 'y': 474}]}, ['was']), ({'vertices': [{'x': 470, 'y': 460}, {'x': 536, 'y': 460}, {'x': 536, 'y': 474}, {'x': 470, 'y': 474}]}, ['presumably']), ({'vertices': [{'x': 536, 'y': 460}, {'x': 574, 'y': 460}, {'x': 574, 'y': 474}, {'x': 536, 'y': 474}]}, ['moved']), ({'vertices': [{'x': 576, 'y': 460}, {'x': 589, 'y': 460}, {'x': 589, 'y': 474}, {'x': 576, 'y': 474}]}, ['or']), ({'vertices': [{'x': 46, 'y': 476}, {'x': 101, 'y': 476}, {'x': 101, 'y': 490}, {'x': 46, 'y': 490}]}, ['disbanded']), ({'vertices': [{'x': 103, 'y': 476}, {'x': 158, 'y': 476}, {'x': 158, 'y': 490}, {'x': 103, 'y': 490}]}, ['following']), ({'vertices': [{'x': 159, 'y': 476}, {'x': 176, 'y': 476}, {'x': 176, 'y': 490}, {'x': 159, 'y': 490}]}, ['the']), ({'vertices': [{'x': 178, 'y': 476}, {'x': 196, 'y': 476}, {'x': 196, 'y': 490}, {'x': 178, 'y': 490}]}, ['fall']), ({'vertices': [{'x': 200, 'y': 476}, {'x': 213, 'y': 476}, {'x': 213, 'y': 490}, {'x': 200, 'y': 490}]}, ['of']), ({'vertices': [{'x': 214, 'y': 476}, {'x': 230, 'y': 476}, {'x': 230, 'y': 490}, {'x': 214, 'y': 490}]}, ['the']), ({'vertices': [{'x': 233, 'y': 476}, {'x': 268, 'y': 476}, {'x': 268, 'y': 490}, {'x': 233, 'y': 490}]}, ['Vichy']), ({'vertices': [{'x': 269, 'y': 476}, {'x': 307, 'y': 476}, {'x': 307, 'y': 490}, {'x': 269, 'y': 490}]}, ['regime']), ({'vertices': [{'x': 311, 'y': 476}, {'x': 323, 'y': 476}, {'x': 323, 'y': 490}, {'x': 311, 'y': 490}]}, ['in']), ({'vertices': [{'x': 324, 'y': 476}, {'x': 362, 'y': 476}, {'x': 362, 'y': 490}, {'x': 324, 'y': 490}]}, ['France']), ({'vertices': [{'x': 369, 'y': 476}, {'x': 375, 'y': 476}, {'x': 375, 'y': 490}, {'x': 369, 'y': 490}]}, ['(']), ({'vertices': [{'x': 375, 'y': 476}, {'x': 418, 'y': 476}, {'x': 418, 'y': 490}, {'x': 375, 'y': 490}]}, ['Edward']), ({'vertices': [{'x': 421, 'y': 476}, {'x': 445, 'y': 476}, {'x': 445, 'y': 490}, {'x': 421, 'y': 490}]}, ['then']), ({'vertices': [{'x': 448, 'y': 476}, {'x': 476, 'y': 476}, {'x': 476, 'y': 490}, {'x': 448, 'y': 490}]}, ['made']), ({'vertices': [{'x': 480, 'y': 476}, {'x': 496, 'y': 476}, {'x': 496, 'y': 490}, {'x': 480, 'y': 490}]}, ['his']), ({'vertices': [{'x': 498, 'y': 476}, {'x': 522, 'y': 476}, {'x': 522, 'y': 490}, {'x': 498, 'y': 490}]}, ['way']), ({'vertices': [{'x': 524, 'y': 476}, {'x': 537, 'y': 476}, {'x': 537, 'y': 490}, {'x': 524, 'y': 490}]}, ['in']), ({'vertices': [{'x': 537, 'y': 476}, {'x': 558, 'y': 476}, {'x': 558, 'y': 490}, {'x': 537, 'y': 490}]}, ['late']), ({'vertices': [{'x': 561, 'y': 476}, {'x': 586, 'y': 476}, {'x': 586, 'y': 490}, {'x': 561, 'y': 490}]}, ['June']), ({'vertices': [{'x': 585, 'y': 476}, {'x': 589, 'y': 476}, {'x': 589, 'y': 490}, {'x': 585, 'y': 490}]}, [',']), ({'vertices': [{'x': 46, 'y': 490}, {'x': 75, 'y': 490}, {'x': 75, 'y': 505}, {'x': 46, 'y': 505}]}, ['early']), ({'vertices': [{'x': 75, 'y': 490}, {'x': 100, 'y': 490}, {'x': 100, 'y': 505}, {'x': 75, 'y': 505}]}, ['July']), ({'vertices': [{'x': 102, 'y': 490}, {'x': 114, 'y': 490}, {'x': 114, 'y': 505}, {'x': 102, 'y': 505}]}, ['of']), ({'vertices': [{'x': 116, 'y': 490}, {'x': 144, 'y': 490}, {'x': 144, 'y': 505}, {'x': 116, 'y': 505}]}, ['1945']), ({'vertices': [{'x': 146, 'y': 490}, {'x': 210, 'y': 490}, {'x': 210, 'y': 505}, {'x': 146, 'y': 505}]}, ['presumably']), ({'vertices': [{'x': 212, 'y': 490}, {'x': 238, 'y': 490}, {'x': 238, 'y': 505}, {'x': 212, 'y': 505}]}, ['with']), ({'vertices': [{'x': 239, 'y': 490}, {'x': 257, 'y': 490}, {'x': 257, 'y': 505}, {'x': 239, 'y': 505}]}, ['the']), ({'vertices': [{'x': 260, 'y': 490}, {'x': 282, 'y': 490}, {'x': 282, 'y': 505}, {'x': 260, 'y': 505}]}, ['help']), ({'vertices': [{'x': 286, 'y': 490}, {'x': 298, 'y': 490}, {'x': 298, 'y': 505}, {'x': 286, 'y': 505}]}, ['of']), ({'vertices': [{'x': 299, 'y': 490}, {'x': 316, 'y': 490}, {'x': 316, 'y': 505}, {'x': 299, 'y': 505}]}, ['the']), ({'vertices': [{'x': 319, 'y': 490}, {'x': 345, 'y': 490}, {'x': 345, 'y': 505}, {'x': 319, 'y': 505}]}, ['OSE']), ({'vertices': [{'x': 348, 'y': 490}, {'x': 373, 'y': 490}, {'x': 373, 'y': 505}, {'x': 348, 'y': 505}]}, ['from']), ({'vertices': [{'x': 377, 'y': 490}, {'x': 405, 'y': 490}, {'x': 405, 'y': 505}, {'x': 377, 'y': 505}]}, ['Paris']), ({'vertices': [{'x': 404, 'y': 490}, {'x': 407, 'y': 490}, {'x': 407, 'y': 505}, {'x': 404, 'y': 505}]}, [',']), ({'vertices': [{'x': 411, 'y': 490}, {'x': 423, 'y': 490}, {'x': 423, 'y': 505}, {'x': 411, 'y': 505}]}, ['to']), ({'vertices': [{'x': 424, 'y': 490}, {'x': 450, 'y': 490}, {'x': 450, 'y': 505}, {'x': 424, 'y': 505}]}, ['Nice']), ({'vertices': [{'x': 450, 'y': 490}, {'x': 453, 'y': 490}, {'x': 453, 'y': 505}, {'x': 450, 'y': 505}]}, [',']), ({'vertices': [{'x': 458, 'y': 490}, {'x': 477, 'y': 490}, {'x': 477, 'y': 505}, {'x': 458, 'y': 505}]}, ['and']), ({'vertices': [{'x': 480, 'y': 490}, {'x': 504, 'y': 490}, {'x': 504, 'y': 505}, {'x': 480, 'y': 505}]}, ['then']), ({'vertices': [{'x': 506, 'y': 490}, {'x': 518, 'y': 490}, {'x': 518, 'y': 505}, {'x': 506, 'y': 505}]}, ['to']), ({'vertices': [{'x': 519, 'y': 490}, {'x': 556, 'y': 490}, {'x': 556, 'y': 505}, {'x': 519, 'y': 505}]}, ['Cueno']), ({'vertices': [{'x': 554, 'y': 490}, {'x': 559, 'y': 490}, {'x': 559, 'y': 505}, {'x': 554, 'y': 505}]}, [',']), ({'vertices': [{'x': 562, 'y': 490}, {'x': 589, 'y': 490}, {'x': 589, 'y': 505}, {'x': 562, 'y': 505}]}, ['Italy']), ({'vertices': [{'x': 45, 'y': 505}, {'x': 80, 'y': 505}, {'x': 80, 'y': 519}, {'x': 45, 'y': 519}]}, ['where']), ({'vertices': [{'x': 81, 'y': 505}, {'x': 95, 'y': 505}, {'x': 95, 'y': 519}, {'x': 81, 'y': 519}]}, ['he']), ({'vertices': [{'x': 96, 'y': 505}, {'x': 121, 'y': 505}, {'x': 121, 'y': 519}, {'x': 96, 'y': 519}]}, ['was']), ({'vertices': [{'x': 121, 'y': 505}, {'x': 167, 'y': 505}, {'x': 167, 'y': 519}, {'x': 121, 'y': 519}]}, ['reunited']), ({'vertices': [{'x': 170, 'y': 505}, {'x': 195, 'y': 505}, {'x': 195, 'y': 519}, {'x': 170, 'y': 519}]}, ['with']), ({'vertices': [{'x': 197, 'y': 505}, {'x': 214, 'y': 505}, {'x': 214, 'y': 519}, {'x': 197, 'y': 519}]}, ['his']), ({'vertices': [{'x': 214, 'y': 505}, {'x': 248, 'y': 505}, {'x': 248, 'y': 519}, {'x': 214, 'y': 519}]}, ['father']), ({'vertices': [{'x': 251, 'y': 505}, {'x': 271, 'y': 505}, {'x': 271, 'y': 519}, {'x': 251, 'y': 519}]}, ['and']), ({'vertices': [{'x': 273, 'y': 505}, {'x': 313, 'y': 505}, {'x': 313, 'y': 519}, {'x': 273, 'y': 519}]}, ['brother']), ({'vertices': [{'x': 321, 'y': 505}, {'x': 365, 'y': 505}, {'x': 365, 'y': 519}, {'x': 321, 'y': 519}]}, ['Edward']), ({'vertices': [{'x': 368, 'y': 505}, {'x': 421, 'y': 505}, {'x': 421, 'y': 519}, {'x': 368, 'y': 519}]}, ['emigrated']), ({'vertices': [{'x': 424, 'y': 505}, {'x': 435, 'y': 505}, {'x': 435, 'y': 519}, {'x': 424, 'y': 519}]}, ['to']), ({'vertices': [{'x': 437, 'y': 505}, {'x': 479, 'y': 505}, {'x': 479, 'y': 519}, {'x': 437, 'y': 519}]}, ['Canada']), ({'vertices': [{'x': 481, 'y': 505}, {'x': 507, 'y': 505}, {'x': 507, 'y': 519}, {'x': 481, 'y': 519}]}, ['after']), ({'vertices': [{'x': 508, 'y': 505}, {'x': 527, 'y': 505}, {'x': 527, 'y': 519}, {'x': 508, 'y': 519}]}, ['the']), ({'vertices': [{'x': 528, 'y': 505}, {'x': 550, 'y': 505}, {'x': 550, 'y': 519}, {'x': 528, 'y': 519}]}, ['war']), ({'vertices': [{'x': 549, 'y': 505}, {'x': 554, 'y': 505}, {'x': 554, 'y': 519}, {'x': 549, 'y': 519}]}, [',']), ({'vertices': [{'x': 556, 'y': 505}, {'x': 577, 'y': 505}, {'x': 577, 'y': 519}, {'x': 556, 'y': 519}]}, ['and']), ({'vertices': [{'x': 578, 'y': 505}, {'x': 595, 'y': 505}, {'x': 595, 'y': 519}, {'x': 578, 'y': 519}]}, ['his']), ({'vertices': [{'x': 44, 'y': 522}, {'x': 78, 'y': 522}, {'x': 78, 'y': 535}, {'x': 44, 'y': 535}]}, ['father']), ({'vertices': [{'x': 80, 'y': 522}, {'x': 129, 'y': 522}, {'x': 129, 'y': 535}, {'x': 80, 'y': 535}]}, ['followed']), ({'vertices': [{'x': 131, 'y': 522}, {'x': 156, 'y': 522}, {'x': 156, 'y': 535}, {'x': 131, 'y': 535}]}, ['later']), ({'vertices': [{'x': 156, 'y': 522}, {'x': 159, 'y': 522}, {'x': 159, 'y': 535}, {'x': 156, 'y': 535}]}, [',']), ({'vertices': [{'x': 163, 'y': 522}, {'x': 178, 'y': 522}, {'x': 178, 'y': 535}, {'x': 163, 'y': 535}]}, ['his']), ({'vertices': [{'x': 181, 'y': 522}, {'x': 220, 'y': 522}, {'x': 220, 'y': 535}, {'x': 181, 'y': 535}]}, ['brother']), ({'vertices': [{'x': 223, 'y': 522}, {'x': 275, 'y': 522}, {'x': 275, 'y': 535}, {'x': 223, 'y': 535}]}, ['remained']), ({'vertices': [{'x': 276, 'y': 522}, {'x': 288, 'y': 522}, {'x': 288, 'y': 535}, {'x': 276, 'y': 535}]}, ['in']), ({'vertices': [{'x': 291, 'y': 522}, {'x': 297, 'y': 522}, {'x': 297, 'y': 535}, {'x': 291, 'y': 535}]}, ['a']), ({'vertices': [{'x': 300, 'y': 522}, {'x': 327, 'y': 522}, {'x': 327, 'y': 535}, {'x': 300, 'y': 535}]}, ['town']), ({'vertices': [{'x': 330, 'y': 522}, {'x': 369, 'y': 522}, {'x': 369, 'y': 535}, {'x': 330, 'y': 535}]}, ['outside']), ({'vertices': [{'x': 372, 'y': 522}, {'x': 409, 'y': 522}, {'x': 409, 'y': 535}, {'x': 372, 'y': 535}]}, ['Naples']), ({'vertices': [{'x': 413, 'y': 522}, {'x': 437, 'y': 522}, {'x': 437, 'y': 535}, {'x': 413, 'y': 535}]}, ['until']), ({'vertices': [{'x': 441, 'y': 522}, {'x': 452, 'y': 522}, {'x': 452, 'y': 535}, {'x': 441, 'y': 535}]}, ['he']), ({'vertices': [{'x': 456, 'y': 522}, {'x': 493, 'y': 522}, {'x': 493, 'y': 535}, {'x': 456, 'y': 535}]}, ['passed']), ({'vertices': [{'x': 496, 'y': 522}, {'x': 525, 'y': 522}, {'x': 525, 'y': 535}, {'x': 496, 'y': 535}]}, ['away']), ({'vertices': [{'x': 529, 'y': 522}, {'x': 574, 'y': 522}, {'x': 574, 'y': 535}, {'x': 529, 'y': 535}]}, ['Edward']), ({'vertices': [{'x': 45, 'y': 538}, {'x': 82, 'y': 538}, {'x': 82, 'y': 550}, {'x': 45, 'y': 550}]}, ['passed']), ({'vertices': [{'x': 86, 'y': 538}, {'x': 115, 'y': 538}, {'x': 115, 'y': 550}, {'x': 86, 'y': 550}]}, ['away']), ({'vertices': [{'x': 115, 'y': 538}, {'x': 128, 'y': 538}, {'x': 128, 'y': 550}, {'x': 115, 'y': 550}]}, ['in']), ({'vertices': [{'x': 130, 'y': 538}, {'x': 173, 'y': 538}, {'x': 173, 'y': 550}, {'x': 130, 'y': 550}]}, ['Toronto']), ({'vertices': [{'x': 177, 'y': 538}, {'x': 188, 'y': 538}, {'x': 188, 'y': 550}, {'x': 177, 'y': 550}]}, ['in']), ({'vertices': [{'x': 191, 'y': 538}, {'x': 216, 'y': 538}, {'x': 216, 'y': 550}, {'x': 191, 'y': 550}]}, ['1999']), ({'vertices': [{'x': 222, 'y': 538}, {'x': 241, 'y': 538}, {'x': 241, 'y': 550}, {'x': 222, 'y': 550}]}, ['and']), ({'vertices': [{'x': 244, 'y': 538}, {'x': 260, 'y': 538}, {'x': 260, 'y': 550}, {'x': 244, 'y': 550}]}, ['his']), ({'vertices': [{'x': 263, 'y': 538}, {'x': 301, 'y': 538}, {'x': 301, 'y': 550}, {'x': 263, 'y': 550}]}, ['brother']), ({'vertices': [{'x': 305, 'y': 538}, {'x': 316, 'y': 538}, {'x': 316, 'y': 550}, {'x': 305, 'y': 550}]}, ['in']), ({'vertices': [{'x': 319, 'y': 538}, {'x': 345, 'y': 538}, {'x': 345, 'y': 550}, {'x': 319, 'y': 550}]}, ['Italy']), ({'vertices': [{'x': 347, 'y': 538}, {'x': 353, 'y': 538}, {'x': 353, 'y': 550}, {'x': 347, 'y': 550}]}, ['a']), ({'vertices': [{'x': 355, 'y': 538}, {'x': 376, 'y': 538}, {'x': 376, 'y': 550}, {'x': 355, 'y': 550}]}, ['few']), ({'vertices': [{'x': 379, 'y': 538}, {'x': 408, 'y': 538}, {'x': 408, 'y': 550}, {'x': 379, 'y': 550}]}, ['years']), ({'vertices': [{'x': 410, 'y': 538}, {'x': 435, 'y': 538}, {'x': 435, 'y': 550}, {'x': 410, 'y': 550}]}, ['later']), ({'vertices': [{'x': 444, 'y': 538}, {'x': 486, 'y': 538}, {'x': 486, 'y': 550}, {'x': 444, 'y': 550}]}, ['Edward']), ({'vertices': [{'x': 491, 'y': 538}, {'x': 536, 'y': 538}, {'x': 536, 'y': 550}, {'x': 491, 'y': 550}]}, ['attended']), ({'vertices': [{'x': 538, 'y': 538}, {'x': 557, 'y': 538}, {'x': 557, 'y': 550}, {'x': 538, 'y': 550}]}, ['the']), ({'vertices': [{'x': 45, 'y': 553}, {'x': 104, 'y': 553}, {'x': 104, 'y': 566}, {'x': 45, 'y': 566}]}, ['University']), ({'vertices': [{'x': 106, 'y': 553}, {'x': 119, 'y': 553}, {'x': 119, 'y': 566}, {'x': 106, 'y': 566}]}, ['of']), ({'vertices': [{'x': 120, 'y': 553}, {'x': 163, 'y': 553}, {'x': 163, 'y': 566}, {'x': 120, 'y': 566}]}, ['Toronto']), ({'vertices': [{'x': 167, 'y': 553}, {'x': 187, 'y': 553}, {'x': 187, 'y': 566}, {'x': 167, 'y': 566}]}, ['and']), ({'vertices': [{'x': 189, 'y': 553}, {'x': 238, 'y': 553}, {'x': 238, 'y': 566}, {'x': 189, 'y': 566}]}, ['Osgoode']), ({'vertices': [{'x': 241, 'y': 553}, {'x': 263, 'y': 553}, {'x': 263, 'y': 566}, {'x': 241, 'y': 566}]}, ['Hall']), ({'vertices': [{'x': 267, 'y': 553}, {'x': 292, 'y': 553}, {'x': 292, 'y': 566}, {'x': 267, 'y': 566}]}, ['Law']), ({'vertices': [{'x': 294, 'y': 553}, {'x': 331, 'y': 553}, {'x': 331, 'y': 566}, {'x': 294, 'y': 566}]}, ['School']), ({'vertices': [{'x': 335, 'y': 553}, {'x': 345, 'y': 553}, {'x': 345, 'y': 566}, {'x': 335, 'y': 566}]}, ['in']), ({'vertices': [{'x': 348, 'y': 553}, {'x': 391, 'y': 553}, {'x': 391, 'y': 566}, {'x': 348, 'y': 566}]}, ['Toronto']), ({'vertices': [{'x': 396, 'y': 553}, {'x': 415, 'y': 553}, {'x': 415, 'y': 566}, {'x': 396, 'y': 566}]}, ['and']), ({'vertices': [{'x': 418, 'y': 553}, {'x': 439, 'y': 553}, {'x': 439, 'y': 566}, {'x': 418, 'y': 566}]}, ['was']), ({'vertices': [{'x': 442, 'y': 553}, {'x': 490, 'y': 553}, {'x': 490, 'y': 566}, {'x': 442, 'y': 566}]}, ['admitted']), ({'vertices': [{'x': 492, 'y': 553}, {'x': 503, 'y': 553}, {'x': 503, 'y': 566}, {'x': 492, 'y': 566}]}, ['to']), ({'vertices': [{'x': 506, 'y': 553}, {'x': 523, 'y': 553}, {'x': 523, 'y': 566}, {'x': 506, 'y': 566}]}, ['the']), ({'vertices': [{'x': 526, 'y': 553}, {'x': 550, 'y': 553}, {'x': 550, 'y': 566}, {'x': 526, 'y': 566}]}, ['Law']), ({'vertices': [{'x': 553, 'y': 553}, {'x': 595, 'y': 553}, {'x': 595, 'y': 566}, {'x': 553, 'y': 566}]}, ['Society']), ({'vertices': [{'x': 46, 'y': 568}, {'x': 59, 'y': 568}, {'x': 59, 'y': 580}, {'x': 46, 'y': 580}]}, ['of']), ({'vertices': [{'x': 60, 'y': 568}, {'x': 95, 'y': 568}, {'x': 95, 'y': 580}, {'x': 60, 'y': 580}]}, ['Upper']), ({'vertices': [{'x': 96, 'y': 568}, {'x': 138, 'y': 568}, {'x': 138, 'y': 580}, {'x': 96, 'y': 580}]}, ['Canada']), ({'vertices': [{'x': 141, 'y': 568}, {'x': 151, 'y': 568}, {'x': 151, 'y': 580}, {'x': 141, 'y': 580}]}, ['in']), ({'vertices': [{'x': 155, 'y': 568}, {'x': 180, 'y': 568}, {'x': 180, 'y': 580}, {'x': 155, 'y': 580}]}, ['1958']), ({'vertices': [{'x': 191, 'y': 568}, {'x': 204, 'y': 568}, {'x': 204, 'y': 580}, {'x': 191, 'y': 580}]}, ['In']), ({'vertices': [{'x': 207, 'y': 568}, {'x': 232, 'y': 568}, {'x': 232, 'y': 580}, {'x': 207, 'y': 580}]}, ['1960']), ({'vertices': [{'x': 236, 'y': 568}, {'x': 279, 'y': 568}, {'x': 279, 'y': 580}, {'x': 236, 'y': 580}]}, ['Edward']), ({'vertices': [{'x': 281, 'y': 568}, {'x': 314, 'y': 568}, {'x': 314, 'y': 580}, {'x': 281, 'y': 580}]}, ['Reiter']), ({'vertices': [{'x': 317, 'y': 568}, {'x': 362, 'y': 568}, {'x': 362, 'y': 580}, {'x': 317, 'y': 580}]}, ['founded']), ({'vertices': [{'x': 365, 'y': 568}, {'x': 381, 'y': 568}, {'x': 381, 'y': 580}, {'x': 365, 'y': 580}]}, ['the']), ({'vertices': [{'x': 385, 'y': 568}, {'x': 403, 'y': 568}, {'x': 403, 'y': 580}, {'x': 385, 'y': 580}]}, ['law']), ({'vertices': [{'x': 407, 'y': 568}, {'x': 428, 'y': 568}, {'x': 428, 'y': 580}, {'x': 407, 'y': 580}]}, ['firm']), ({'vertices': [{'x': 434, 'y': 568}, {'x': 467, 'y': 568}, {'x': 467, 'y': 580}, {'x': 434, 'y': 580}]}, ['below']), ({'vertices': [{'x': 470, 'y': 568}, {'x': 504, 'y': 568}, {'x': 504, 'y': 580}, {'x': 470, 'y': 580}]}, ['which']), ({'vertices': [{'x': 506, 'y': 568}, {'x': 526, 'y': 568}, {'x': 526, 'y': 580}, {'x': 506, 'y': 580}]}, ['still']), ({'vertices': [{'x': 530, 'y': 568}, {'x': 559, 'y': 568}, {'x': 559, 'y': 580}, {'x': 530, 'y': 580}]}, ['bears']), ({'vertices': [{'x': 561, 'y': 568}, {'x': 579, 'y': 568}, {'x': 579, 'y': 580}, {'x': 561, 'y': 580}]}, ['his']), ({'vertices': [{'x': 45, 'y': 584}, {'x': 75, 'y': 584}, {'x': 75, 'y': 597}, {'x': 45, 'y': 597}]}, ['name']), ({'vertices': [{'x': 84, 'y': 584}, {'x': 122, 'y': 584}, {'x': 122, 'y': 597}, {'x': 84, 'y': 597}]}, ['Would']), ({'vertices': [{'x': 123, 'y': 584}, {'x': 145, 'y': 584}, {'x': 145, 'y': 597}, {'x': 123, 'y': 597}]}, ['you']), ({'vertices': [{'x': 148, 'y': 584}, {'x': 184, 'y': 584}, {'x': 184, 'y': 597}, {'x': 148, 'y': 597}]}, ['kindly']), ({'vertices': [{'x': 185, 'y': 584}, {'x': 218, 'y': 584}, {'x': 218, 'y': 597}, {'x': 185, 'y': 597}]}, ['revise']), ({'vertices': [{'x': 221, 'y': 584}, {'x': 238, 'y': 584}, {'x': 238, 'y': 597}, {'x': 221, 'y': 597}]}, ['the']), ({'vertices': [{'x': 241, 'y': 584}, {'x': 281, 'y': 584}, {'x': 281, 'y': 597}, {'x': 241, 'y': 597}]}, ['records']), ({'vertices': [{'x': 284, 'y': 584}, {'x': 296, 'y': 584}, {'x': 296, 'y': 597}, {'x': 284, 'y': 597}]}, ['of']), ({'vertices': [{'x': 298, 'y': 584}, {'x': 307, 'y': 584}, {'x': 307, 'y': 597}, {'x': 298, 'y': 597}]}, ['Y']), ({'vertices': [{'x': 309, 'y': 584}, {'x': 320, 'y': 584}, {'x': 320, 'y': 597}, {'x': 309, 'y': 597}]}, ['ad']), ({'vertices': [{'x': 323, 'y': 584}, {'x': 331, 'y': 584}, {'x': 331, 'y': 597}, {'x': 323, 'y': 597}]}, ['V']), ({'vertices': [{'x': 334, 'y': 584}, {'x': 367, 'y': 584}, {'x': 367, 'y': 597}, {'x': 334, 'y': 597}]}, ['ashem']), ({'vertices': [{'x': 371, 'y': 584}, {'x': 382, 'y': 584}, {'x': 382, 'y': 597}, {'x': 371, 'y': 597}]}, ['to']), ({'vertices': [{'x': 385, 'y': 584}, {'x': 409, 'y': 584}, {'x': 409, 'y': 597}, {'x': 385, 'y': 597}]}, ['note']), ({'vertices': [{'x': 411, 'y': 584}, {'x': 433, 'y': 584}, {'x': 433, 'y': 597}, {'x': 411, 'y': 597}]}, ['that']), ({'vertices': [{'x': 435, 'y': 584}, {'x': 477, 'y': 584}, {'x': 477, 'y': 597}, {'x': 435, 'y': 597}]}, ['Edward']), ({'vertices': [{'x': 479, 'y': 584}, {'x': 514, 'y': 584}, {'x': 514, 'y': 597}, {'x': 479, 'y': 597}]}, ['Reiter']), ({'vertices': [{'x': 517, 'y': 584}, {'x': 563, 'y': 584}, {'x': 563, 'y': 597}, {'x': 517, 'y': 597}]}, ['survived']), ({'vertices': [{'x': 565, 'y': 584}, {'x': 583, 'y': 584}, {'x': 583, 'y': 597}, {'x': 565, 'y': 597}]}, ['the']), ({'vertices': [{'x': 45, 'y': 599}, {'x': 74, 'y': 599}, {'x': 74, 'y': 612}, {'x': 45, 'y': 612}]}, ['Shoa']), ({'vertices': [{'x': 76, 'y': 599}, {'x': 95, 'y': 599}, {'x': 95, 'y': 612}, {'x': 76, 'y': 612}]}, ['and']), ({'vertices': [{'x': 98, 'y': 599}, {'x': 140, 'y': 599}, {'x': 140, 'y': 612}, {'x': 98, 'y': 612}]}, ['confirm']), ({'vertices': [{'x': 144, 'y': 599}, {'x': 160, 'y': 599}, {'x': 160, 'y': 612}, {'x': 144, 'y': 612}]}, ['by']), ({'vertices': [{'x': 161, 'y': 599}, {'x': 189, 'y': 599}, {'x': 189, 'y': 612}, {'x': 161, 'y': 612}]}, ['reply']), ({'vertices': [{'x': 193, 'y': 599}, {'x': 199, 'y': 599}, {'x': 199, 'y': 612}, {'x': 193, 'y': 612}]}, ['e']), ({'vertices': [{'x': 198, 'y': 599}, {'x': 202, 'y': 599}, {'x': 202, 'y': 612}, {'x': 198, 'y': 612}]}, ['-']), ({'vertices': [{'x': 203, 'y': 599}, {'x': 226, 'y': 599}, {'x': 226, 'y': 612}, {'x': 203, 'y': 612}]}, ['mail']), ({'vertices': [{'x': 236, 'y': 599}, {'x': 241, 'y': 599}, {'x': 241, 'y': 612}, {'x': 236, 'y': 612}]}, ['I']), ({'vertices': [{'x': 244, 'y': 599}, {'x': 265, 'y': 599}, {'x': 265, 'y': 612}, {'x': 244, 'y': 612}]}, ['will']), ({'vertices': [{'x': 269, 'y': 599}, {'x': 321, 'y': 599}, {'x': 321, 'y': 612}, {'x': 269, 'y': 612}]}, ['hopefully']), ({'vertices': [{'x': 323, 'y': 599}, {'x': 336, 'y': 599}, {'x': 336, 'y': 612}, {'x': 323, 'y': 612}]}, ['be']), ({'vertices': [{'x': 340, 'y': 599}, {'x': 354, 'y': 599}, {'x': 354, 'y': 612}, {'x': 340, 'y': 612}]}, ['on']), ({'vertices': [{'x': 356, 'y': 599}, {'x': 362, 'y': 599}, {'x': 362, 'y': 612}, {'x': 356, 'y': 612}]}, ['a']), ({'vertices': [{'x': 365, 'y': 599}, {'x': 384, 'y': 599}, {'x': 384, 'y': 612}, {'x': 365, 'y': 612}]}, ['bus']), ({'vertices': [{'x': 387, 'y': 599}, {'x': 440, 'y': 599}, {'x': 440, 'y': 612}, {'x': 387, 'y': 612}]}, ['tomorrow']), ({'vertices': [{'x': 443, 'y': 599}, {'x': 491, 'y': 599}, {'x': 491, 'y': 612}, {'x': 443, 'y': 612}]}, ['morning']), ({'vertices': [{'x': 492, 'y': 599}, {'x': 517, 'y': 599}, {'x': 517, 'y': 612}, {'x': 492, 'y': 612}]}, ['from']), ({'vertices': [{'x': 520, 'y': 599}, {'x': 545, 'y': 599}, {'x': 545, 'y': 612}, {'x': 520, 'y': 612}]}, ['8:00']), ({'vertices': [{'x': 549, 'y': 599}, {'x': 568, 'y': 599}, {'x': 568, 'y': 612}, {'x': 549, 'y': 612}]}, ['am']), ({'vertices': [{'x': 568, 'y': 599}, {'x': 573, 'y': 599}, {'x': 573, 'y': 612}, {'x': 568, 'y': 612}]}, ['.']), ({'vertices': [{'x': 574, 'y': 599}, {'x': 592, 'y': 599}, {'x': 592, 'y': 612}, {'x': 574, 'y': 612}]}, ['To']), ({'vertices': [{'x': 45, 'y': 614}, {'x': 76, 'y': 614}, {'x': 76, 'y': 628}, {'x': 45, 'y': 628}]}, ['11:00']), ({'vertices': [{'x': 80, 'y': 614}, {'x': 100, 'y': 614}, {'x': 100, 'y': 628}, {'x': 80, 'y': 628}]}, ['am']), ({'vertices': [{'x': 99, 'y': 614}, {'x': 104, 'y': 614}, {'x': 104, 'y': 628}, {'x': 99, 'y': 628}]}, ['.']), ({'vertices': [{'x': 105, 'y': 614}, {'x': 132, 'y': 614}, {'x': 132, 'y': 628}, {'x': 105, 'y': 628}]}, ['with']), ({'vertices': [{'x': 133, 'y': 614}, {'x': 150, 'y': 614}, {'x': 150, 'y': 628}, {'x': 133, 'y': 628}]}, ['the']), ({'vertices': [{'x': 153, 'y': 614}, {'x': 189, 'y': 614}, {'x': 189, 'y': 628}, {'x': 153, 'y': 628}]}, ['U.S.A.']), ({'vertices': [{'x': 193, 'y': 614}, {'x': 236, 'y': 614}, {'x': 236, 'y': 628}, {'x': 193, 'y': 628}]}, ['Hockey']), ({'vertices': [{'x': 237, 'y': 614}, {'x': 265, 'y': 614}, {'x': 265, 'y': 628}, {'x': 237, 'y': 628}]}, ['team']), ({'vertices': [{'x': 269, 'y': 614}, {'x': 282, 'y': 614}, {'x': 282, 'y': 628}, {'x': 269, 'y': 628}]}, ['on']), ({'vertices': [{'x': 284, 'y': 614}, {'x': 303, 'y': 614}, {'x': 303, 'y': 628}, {'x': 284, 'y': 628}]}, ['my']), ({'vertices': [{'x': 305, 'y': 614}, {'x': 329, 'y': 614}, {'x': 329, 'y': 628}, {'x': 305, 'y': 628}]}, ['way']), ({'vertices': [{'x': 330, 'y': 614}, {'x': 341, 'y': 614}, {'x': 341, 'y': 628}, {'x': 330, 'y': 628}]}, ['to']), ({'vertices': [{'x': 344, 'y': 614}, {'x': 361, 'y': 614}, {'x': 361, 'y': 628}, {'x': 344, 'y': 628}]}, ['the']), ({'vertices': [{'x': 364, 'y': 614}, {'x': 424, 'y': 614}, {'x': 424, 'y': 628}, {'x': 364, 'y': 628}]}, ['Maccabiah']), ({'vertices': [{'x': 426, 'y': 614}, {'x': 442, 'y': 614}, {'x': 442, 'y': 628}, {'x': 426, 'y': 628}]}, ['Ice']), ({'vertices': [{'x': 447, 'y': 614}, {'x': 489, 'y': 614}, {'x': 489, 'y': 628}, {'x': 447, 'y': 628}]}, ['Hockey']), ({'vertices': [{'x': 491, 'y': 614}, {'x': 570, 'y': 614}, {'x': 570, 'y': 628}, {'x': 491, 'y': 628}]}, ['competitionin']), ({'vertices': [{'x': 45, 'y': 630}, {'x': 88, 'y': 630}, {'x': 88, 'y': 644}, {'x': 45, 'y': 644}]}, ['Metulla']), ({'vertices': [{'x': 92, 'y': 630}, {'x': 111, 'y': 630}, {'x': 111, 'y': 644}, {'x': 92, 'y': 644}]}, ['and']), ({'vertices': [{'x': 113, 'y': 630}, {'x': 135, 'y': 630}, {'x': 135, 'y': 644}, {'x': 113, 'y': 644}]}, ['will']), ({'vertices': [{'x': 138, 'y': 630}, {'x': 152, 'y': 630}, {'x': 152, 'y': 644}, {'x': 138, 'y': 644}]}, ['be']), ({'vertices': [{'x': 154, 'y': 630}, {'x': 204, 'y': 630}, {'x': 204, 'y': 644}, {'x': 154, 'y': 644}]}, ['reachable']), ({'vertices': [{'x': 209, 'y': 630}, {'x': 223, 'y': 630}, {'x': 223, 'y': 644}, {'x': 209, 'y': 644}]}, ['on']), ({'vertices': [{'x': 226, 'y': 630}, {'x': 243, 'y': 630}, {'x': 243, 'y': 644}, {'x': 226, 'y': 644}]}, ['my']), ({'vertices': [{'x': 245, 'y': 630}, {'x': 279, 'y': 630}, {'x': 279, 'y': 644}, {'x': 245, 'y': 644}]}, ['phone']), ({'vertices': [{'x': 282, 'y': 630}, {'x': 293, 'y': 630}, {'x': 293, 'y': 644}, {'x': 282, 'y': 644}]}, ['as']), ({'vertices': [{'x': 296, 'y': 630}, {'x': 319, 'y': 630}, {'x': 319, 'y': 644}, {'x': 296, 'y': 644}]}, ['well']), ({'vertices': [{'x': 319, 'y': 630}, {'x': 322, 'y': 630}, {'x': 322, 'y': 644}, {'x': 319, 'y': 644}]}, [',']), ({'vertices': [{'x': 326, 'y': 630}, {'x': 368, 'y': 630}, {'x': 368, 'y': 644}, {'x': 326, 'y': 644}]}, ['054.541']), ({'vertices': [{'x': 373, 'y': 630}, {'x': 399, 'y': 630}, {'x': 399, 'y': 644}, {'x': 373, 'y': 644}]}, ['8693']), ({'vertices': [{'x': 409, 'y': 630}, {'x': 414, 'y': 630}, {'x': 414, 'y': 644}, {'x': 409, 'y': 644}]}, ['I']), ({'vertices': [{'x': 419, 'y': 630}, {'x': 433, 'y': 630}, {'x': 433, 'y': 644}, {'x': 419, 'y': 644}]}, ['am']), ({'vertices': [{'x': 438, 'y': 630}, {'x': 487, 'y': 630}, {'x': 487, 'y': 644}, {'x': 438, 'y': 644}]}, ['currently']), ({'vertices': [{'x': 489, 'y': 630}, {'x': 538, 'y': 630}, {'x': 538, 'y': 644}, {'x': 489, 'y': 644}]}, ['planning']), ({'vertices': [{'x': 540, 'y': 630}, {'x': 551, 'y': 630}, {'x': 551, 'y': 644}, {'x': 540, 'y': 644}]}, ['to']), ({'vertices': [{'x': 553, 'y': 630}, {'x': 583, 'y': 630}, {'x': 583, 'y': 644}, {'x': 553, 'y': 644}]}, ['leave']), ({'vertices': [{'x': 585, 'y': 630}, {'x': 603, 'y': 630}, {'x': 603, 'y': 644}, {'x': 585, 'y': 644}]}, ['the']), ({'vertices': [{'x': 46, 'y': 646}, {'x': 88, 'y': 646}, {'x': 88, 'y': 659}, {'x': 46, 'y': 659}]}, ['country']), ({'vertices': [{'x': 91, 'y': 646}, {'x': 104, 'y': 646}, {'x': 104, 'y': 659}, {'x': 91, 'y': 659}]}, ['on']), ({'vertices': [{'x': 106, 'y': 646}, {'x': 153, 'y': 646}, {'x': 153, 'y': 659}, {'x': 106, 'y': 659}]}, ['Monday']), ({'vertices': [{'x': 150, 'y': 646}, {'x': 154, 'y': 646}, {'x': 154, 'y': 659}, {'x': 150, 'y': 659}]}, ['.']), ({'vertices': [{'x': 158, 'y': 646}, {'x': 210, 'y': 646}, {'x': 210, 'y': 659}, {'x': 158, 'y': 659}]}, ['Sincerely']), ({'vertices': [{'x': 208, 'y': 646}, {'x': 212, 'y': 646}, {'x': 212, 'y': 659}, {'x': 208, 'y': 659}]}, [',']), ({'vertices': [{'x': 45, 'y': 676}, {'x': 83, 'y': 676}, {'x': 83, 'y': 686}, {'x': 45, 'y': 686}]}, ['Steven']), ({'vertices': [{'x': 44, 'y': 707}, {'x': 84, 'y': 707}, {'x': 84, 'y': 718}, {'x': 44, 'y': 718}]}, ['Steven']), ({'vertices': [{'x': 85, 'y': 707}, {'x': 97, 'y': 707}, {'x': 97, 'y': 718}, {'x': 85, 'y': 718}]}, ['L.']), ({'vertices': [{'x': 100, 'y': 707}, {'x': 142, 'y': 707}, {'x': 142, 'y': 718}, {'x': 100, 'y': 718}]}, ['Nemetz']), ({'vertices': [{'x': 141, 'y': 707}, {'x': 145, 'y': 707}, {'x': 145, 'y': 718}, {'x': 141, 'y': 718}]}, [',']), ({'vertices': [{'x': 155, 'y': 707}, {'x': 177, 'y': 707}, {'x': 177, 'y': 718}, {'x': 155, 'y': 718}]}, ['J.D.']), ({'vertices': [{'x': 181, 'y': 707}, {'x': 220, 'y': 707}, {'x': 220, 'y': 718}, {'x': 181, 'y': 718}]}, ['M.B.A.']), ({'vertices': [{'x': 45, 'y': 723}, {'x': 78, 'y': 723}, {'x': 78, 'y': 736}, {'x': 45, 'y': 736}]}, ['LL.M']), ({'vertices': [{'x': 75, 'y': 723}, {'x': 81, 'y': 723}, {'x': 81, 'y': 736}, {'x': 75, 'y': 736}]}, [')']), ({'vertices': [{'x': 87, 'y': 723}, {'x': 148, 'y': 723}, {'x': 148, 'y': 736}, {'x': 87, 'y': 736}]}, ['Intellectual']), ({'vertices': [{'x': 152, 'y': 723}, {'x': 198, 'y': 723}, {'x': 198, 'y': 736}, {'x': 152, 'y': 736}]}, ['Property']), ({'vertices': [{'x': 198, 'y': 723}, {'x': 202, 'y': 723}, {'x': 202, 'y': 736}, {'x': 198, 'y': 736}]}, [')']), ({'vertices': [{'x': 206, 'y': 723}, {'x': 242, 'y': 723}, {'x': 242, 'y': 736}, {'x': 206, 'y': 736}]}, ['LL.M.']), ({'vertices': [{'x': 243, 'y': 723}, {'x': 249, 'y': 723}, {'x': 249, 'y': 736}, {'x': 243, 'y': 736}]}, ['(']), ({'vertices': [{'x': 249, 'y': 723}, {'x': 296, 'y': 723}, {'x': 296, 'y': 736}, {'x': 249, 'y': 736}]}, ['Taxation']), ({'vertices': [{'x': 296, 'y': 723}, {'x': 303, 'y': 723}, {'x': 303, 'y': 736}, {'x': 296, 'y': 736}]}, ['(']), ({'vertices': [{'x': 45, 'y': 754}, {'x': 78, 'y': 754}, {'x': 78, 'y': 764}, {'x': 45, 'y': 764}]}, ['Reiter']), ({'vertices': [{'x': 79, 'y': 754}, {'x': 83, 'y': 754}, {'x': 83, 'y': 764}, {'x': 79, 'y': 764}]}, ['-']), ({'vertices': [{'x': 82, 'y': 754}, {'x': 126, 'y': 754}, {'x': 126, 'y': 764}, {'x': 82, 'y': 764}]}, ['Nemetz']), ({'vertices': [{'x': 45, 'y': 769}, {'x': 100, 'y': 769}, {'x': 100, 'y': 781}, {'x': 45, 'y': 781}]}, ['Barristers']), ({'vertices': [{'x': 101, 'y': 769}, {'x': 153, 'y': 769}, {'x': 153, 'y': 781}, {'x': 101, 'y': 781}]}, ['Solicitors']), ({'vertices': [{'x': 152, 'y': 769}, {'x': 155, 'y': 769}, {'x': 155, 'y': 781}, {'x': 152, 'y': 781}]}, ['.']), ({'vertices': [{'x': 156, 'y': 769}, {'x': 215, 'y': 769}, {'x': 215, 'y': 781}, {'x': 156, 'y': 781}]}, ['Trademark']), ({'vertices': [{'x': 218, 'y': 769}, {'x': 258, 'y': 769}, {'x': 258, 'y': 781}, {'x': 218, 'y': 781}]}, ['Agents']), ({'vertices': [{'x': 48, 'y': 784}, {'x': 67, 'y': 784}, {'x': 67, 'y': 797}, {'x': 48, 'y': 797}]}, ['298']), ({'vertices': [{'x': 69, 'y': 784}, {'x': 120, 'y': 784}, {'x': 120, 'y': 797}, {'x': 69, 'y': 797}]}, ['Sheppard']), ({'vertices': [{'x': 123, 'y': 784}, {'x': 166, 'y': 784}, {'x': 166, 'y': 797}, {'x': 123, 'y': 797}]}, ['Avenue']), ({'vertices': [{'x': 168, 'y': 784}, {'x': 197, 'y': 784}, {'x': 197, 'y': 797}, {'x': 168, 'y': 797}]}, ['West']), ({'vertices': [{'x': 195, 'y': 784}, {'x': 198, 'y': 784}, {'x': 198, 'y': 797}, {'x': 195, 'y': 797}]}, [',']), ({'vertices': [{'x': 202, 'y': 784}, {'x': 231, 'y': 784}, {'x': 231, 'y': 797}, {'x': 202, 'y': 797}]}, ['Suite']), ({'vertices': [{'x': 234, 'y': 784}, {'x': 254, 'y': 784}, {'x': 254, 'y': 797}, {'x': 234, 'y': 797}]}, ['100']), ({'vertices': [{'x': 45, 'y': 800}, {'x': 89, 'y': 800}, {'x': 89, 'y': 811}, {'x': 45, 'y': 811}]}, ['Toronto']), ({'vertices': [{'x': 91, 'y': 800}, {'x': 96, 'y': 800}, {'x': 96, 'y': 811}, {'x': 91, 'y': 811}]}, [',']), ({'vertices': [{'x': 95, 'y': 800}, {'x': 136, 'y': 800}, {'x': 136, 'y': 811}, {'x': 95, 'y': 811}]}, ['Ontario']), ({'vertices': [{'x': 139, 'y': 800}, {'x': 181, 'y': 800}, {'x': 181, 'y': 811}, {'x': 139, 'y': 811}]}, ['Canada']), ({'vertices': [{'x': 183, 'y': 800}, {'x': 211, 'y': 800}, {'x': 211, 'y': 811}, {'x': 183, 'y': 811}]}, ['M2N']), ({'vertices': [{'x': 216, 'y': 800}, {'x': 238, 'y': 800}, {'x': 238, 'y': 811}, {'x': 216, 'y': 811}]}, ['1N5']), ({'vertices': [{'x': 45, 'y': 831}, {'x': 63, 'y': 831}, {'x': 63, 'y': 842}, {'x': 45, 'y': 842}]}, ['Tel']), ({'vertices': [{'x': 66, 'y': 831}, {'x': 139, 'y': 831}, {'x': 139, 'y': 842}, {'x': 66, 'y': 842}]}, ['416.665.1458']), ({'vertices': [{'x': 144, 'y': 831}, {'x': 148, 'y': 831}, {'x': 148, 'y': 842}, {'x': 144, 'y': 842}]}, [':']), ({'vertices': [{'x': 148, 'y': 831}, {'x': 165, 'y': 831}, {'x': 165, 'y': 842}, {'x': 148, 'y': 842}]}, ['ext']), ({'vertices': [{'x': 165, 'y': 831}, {'x': 168, 'y': 831}, {'x': 168, 'y': 842}, {'x': 165, 'y': 842}]}, ['.']), ({'vertices': [{'x': 170, 'y': 831}, {'x': 191, 'y': 831}, {'x': 191, 'y': 842}, {'x': 170, 'y': 842}]}, ['250']), ({'vertices': [{'x': 45, 'y': 847}, {'x': 66, 'y': 847}, {'x': 66, 'y': 857}, {'x': 45, 'y': 857}]}, ['Fax']), ({'vertices': [{'x': 69, 'y': 847}, {'x': 142, 'y': 847}, {'x': 142, 'y': 857}, {'x': 69, 'y': 857}]}, ['416.665.0895']), ({'vertices': [{'x': 146, 'y': 847}, {'x': 151, 'y': 847}, {'x': 151, 'y': 857}, {'x': 146, 'y': 857}]}, [':'])], 'entity_types': {'PERSON': ['Edward Reiter', 'Gertner', 'Edward Reiter', 'Lior Smadja', 'David', 'Elizabeth Bernheim', 'David', 'Edward Reiter', 'Edward Reiter', 'Edward', 'Alps', 'Edward', 'Saint Martin Vesubie', 'Reiter', 'Auschiewtz', 'Bobigny', 'Edward', 'Edward', 'Edward', 'Edward', 'Edward', 'Edward Reiter', 'Edward Reiter', 'Steven Steven L. Nemetz', 'Intellectual Property', 'Suite'], 'GPE': ['Vienna', 'Austria', 'France', 'Paris', 'Paris', 'Saint Martin Vesubie', 'Paris', 'Italy', 'Borgo', 'Italy', 'Nice', 'Paris', 'Italy', 'Saint Martin Vesubie', 'Agde', 'France', 'France', 'Paris', 'Nice', 'Cueno', 'Italy', 'Canada', 'Naples', 'Toronto', 'Italy', 'Toronto', 'J.D.', 'Toronto'], 'DATE': ['April 19, 1925', 'a few months ago', 'the end of August', 'Friday', 'May 1945', '1943', 'September 8, 1943', 'November 27, 1943', 'June 1945', 'a few weeks', '1943', 'late June', 'early July of 1945', '1999', 'a few years later', '1958', '1960', 'tomorrow', '054.541 8693', 'Monday'], 'ORG': ['Yad Vashem', 'Auschewitz', 'Edwards) Edouard', 'Cecile Fontaine', '70th Memorial', 'Vashem', 'Yad Vashem', 'OSE', 'OSE', 'OSE Paris', 'OSE', 'ORTE', 'OSE', 'the University of Toronto', 'Osgoode Hall Law School', 'the Law Society of Upper Canada', 'the U.S.A. Hockey', 'the Maccabiah Ice Hockey', 'Reiter-Nemetz Barristers Solicitors', 'Ontario Canada'], 'NORP': ['Memoriale', 'Jews', 'Jewish', 'Germans', 'Jews', 'Jews'], 'LOC': ['Shoah', 'Metulla'], 'CARDINAL': ['at least 1942', 'approximately 350', '64', '64', '100', '250'], 'TIME': ['12:10 am Decmber 7, 1943', '8:00 am', '11:00 am']}, 'top_title': ['page of Testimony', 'דף עד'], 'Production date': 'Monday'}\n"
     ]
    },
    {
     "name": "stderr",
     "output_type": "stream",
     "text": [
      "WARNING:absl:Compiled the loaded model, but the compiled metrics have yet to be built. `model.compile_metrics` will be empty until you train or evaluate the model.\n"
     ]
    },
    {
     "name": "stdout",
     "output_type": "stream",
     "text": [
      "data_practucom/test\\documents_with_json\\10561637_1.json 😄 Testimony page including a photograph\n"
     ]
    },
    {
     "name": "stderr",
     "output_type": "stream",
     "text": [
      "WARNING:absl:Compiled the loaded model, but the compiled metrics have yet to be built. `model.compile_metrics` will be empty until you train or evaluate the model.\n"
     ]
    },
    {
     "name": "stdout",
     "output_type": "stream",
     "text": [
      "eeeeeeeeeeeeeeeeeeeeeeeeeeeee\n",
      "(15, 153.0)\n",
      "april 1946\n",
      "uuuuuuuuuuuuuuuuuuuuu {'page type': 'Testimony page including a photograph', 'data_Languages': [('German', 0.7361112), ('English', 0.13299297), ('Dutch', 0.040023647), ('Indonesian', 0.027300648)], 'full_desc_with_verices': ({'text': 'bes Monate Merzig, im reise Merzig, den un Häß §3 tersher. crſchien vor mir ale 17 August had the be 三 COPY BIRTH CERTIFICATE dnschuhundert beet und siebenzia, Noul mittags, Josezen Pike, Borgerechten. Beamten des Civilstandes der Bürgermeisterei Merzig (Stadt). Mognition Felsenmal, de unde wohnhaft zu ſuchen ab ülir. Strauche, acht – Sara. wohnhaft zu The Mantel bergant John Gestricken gemäche. desiging bes Re. geringspräsidiom Baar, Abteiling des Jun vom 8. april 1946. unzig. de Standesbeamte 3. Mai 1946. In veszching. Manging Zweiblichen Küche. Ebeeldhofen 21.4.1955 Seben (Stat мизда 9544555 Jahre alt, Staudes mun von 23 Peninſßig Sicher alt, ehne beſe y wire and wonzingesten Nace Zuſ Jahres Nachthei Wejchlechts geboren fei, welchem Stinbe b Borname beigelegt wurde Wohnning. Jusanna Diefe yon mir aufgenommene Erflärung ist geschehen in Arweienheit der beiden Jeugen, ale nämlich: Jahre alt. Standesver 鸛 2). Peter Willler, dreießßing. Jahre alt, Standes eicbate. wohnhaft zu Merzig W Gegenwärtige Urtunde in demnach in doppeltem Original aufgenommen, den. Declarant und den \"Zeugen vorgehen und mit denselben von mir unterschrieben worden. Man Sebenthal J. Freiburg PMülle DIE DATE'}, {'vertices': [{'x': 64, 'y': 15}, {'x': 756, 'y': 15}, {'x': 756, 'y': 567}, {'x': 64, 'y': 567}]}), 'words': [({'vertices': [{'x': 64, 'y': 15}, {'x': 756, 'y': 15}, {'x': 756, 'y': 567}, {'x': 64, 'y': 567}]}, ['bes Monate', 'Merzig, im reise Merzig, den un', 'Häß §3 tersher. crſchien vor mir', 'ale', '17 August had the be', '三', 'COPY BIRTH', 'CERTIFICATE', 'dnschuhundert beet und siebenzia, Noul mittags,', 'Josezen Pike, Borgerechten.', 'Beamten des Civilstandes der Bürgermeisterei Merzig (Stadt).', 'Mognition Felsenmal, de unde', 'wohnhaft zu', 'ſuchen ab ülir. Strauche, acht –', 'Sara.', 'wohnhaft zu', 'The Mantel bergant', 'John', 'Gestricken gemäche.', 'desiging bes Re.', 'geringspräsidiom', 'Baar, Abteiling des', 'Jun vom 8. april', '1946.', 'unzig.', 'de Standesbeamte', '3. Mai 1946.', 'In veszching.', 'Manging', 'Zweiblichen', 'Küche.', 'Ebeeldhofen 21.4.1955', 'Seben', '(Stat', 'мизда', '9544555', 'Jahre alt, Staudes mun', 'von', '23 Peninſßig Sicher alt, ehne beſe', 'y wire and wonzingesten Nace Zuſ', 'Jahres Nachthei', 'Wejchlechts geboren fei, welchem Stinbe b Borname', 'beigelegt wurde', 'Wohnning.', 'Jusanna', 'Diefe yon mir aufgenommene Erflärung ist geschehen in Arweienheit der beiden Jeugen, ale nämlich:', 'Jahre alt. Standesver', '鸛', '2).', 'Peter Willler, dreießßing.', 'Jahre alt, Standes eicbate.', 'wohnhaft zu', 'Merzig', 'W', 'Gegenwärtige Urtunde in demnach in doppeltem Original aufgenommen, den. Declarant und den', '\"Zeugen vorgehen und mit denselben von mir unterschrieben worden.', 'Man Sebenthal J. Freiburg PMülle', 'DIE DATE']), ({'vertices': [{'x': 214, 'y': 60}, {'x': 229, 'y': 60}, {'x': 229, 'y': 70}, {'x': 214, 'y': 70}]}, ['bes']), ({'vertices': [{'x': 232, 'y': 60}, {'x': 267, 'y': 60}, {'x': 267, 'y': 70}, {'x': 232, 'y': 70}]}, ['Monate']), ({'vertices': [{'x': 266, 'y': 42}, {'x': 309, 'y': 42}, {'x': 309, 'y': 55}, {'x': 266, 'y': 55}]}, ['Merzig']), ({'vertices': [{'x': 307, 'y': 42}, {'x': 312, 'y': 42}, {'x': 312, 'y': 55}, {'x': 307, 'y': 55}]}, [',']), ({'vertices': [{'x': 316, 'y': 42}, {'x': 329, 'y': 42}, {'x': 329, 'y': 55}, {'x': 316, 'y': 55}]}, ['im']), ({'vertices': [{'x': 341, 'y': 42}, {'x': 361, 'y': 42}, {'x': 361, 'y': 55}, {'x': 341, 'y': 55}]}, ['reise']), ({'vertices': [{'x': 365, 'y': 42}, {'x': 415, 'y': 42}, {'x': 415, 'y': 55}, {'x': 365, 'y': 55}]}, ['Merzig']), ({'vertices': [{'x': 414, 'y': 42}, {'x': 419, 'y': 42}, {'x': 419, 'y': 55}, {'x': 414, 'y': 55}]}, [',']), ({'vertices': [{'x': 424, 'y': 42}, {'x': 440, 'y': 42}, {'x': 440, 'y': 55}, {'x': 424, 'y': 55}]}, ['den']), ({'vertices': [{'x': 486, 'y': 42}, {'x': 507, 'y': 42}, {'x': 507, 'y': 55}, {'x': 486, 'y': 55}]}, ['un']), ({'vertices': [{'x': 93, 'y': 72}, {'x': 137, 'y': 73}, {'x': 137, 'y': 92}, {'x': 93, 'y': 91}]}, ['Häß']), ({'vertices': [{'x': 136, 'y': 73}, {'x': 153, 'y': 73}, {'x': 153, 'y': 91}, {'x': 136, 'y': 91}]}, ['§3']), ({'vertices': [{'x': 154, 'y': 73}, {'x': 201, 'y': 74}, {'x': 201, 'y': 93}, {'x': 154, 'y': 92}]}, ['tersher']), ({'vertices': [{'x': 197, 'y': 74}, {'x': 205, 'y': 74}, {'x': 205, 'y': 92}, {'x': 197, 'y': 92}]}, ['.']), ({'vertices': [{'x': 213, 'y': 74}, {'x': 248, 'y': 75}, {'x': 248, 'y': 94}, {'x': 213, 'y': 93}]}, ['crſchien']), ({'vertices': [{'x': 253, 'y': 75}, {'x': 269, 'y': 75}, {'x': 269, 'y': 94}, {'x': 253, 'y': 94}]}, ['vor']), ({'vertices': [{'x': 275, 'y': 76}, {'x': 291, 'y': 76}, {'x': 291, 'y': 94}, {'x': 275, 'y': 94}]}, ['mir']), ({'vertices': [{'x': 214, 'y': 122}, {'x': 229, 'y': 122}, {'x': 229, 'y': 129}, {'x': 214, 'y': 129}]}, ['ale']), ({'vertices': [{'x': 73, 'y': 145}, {'x': 89, 'y': 144}, {'x': 90, 'y': 159}, {'x': 74, 'y': 160}]}, ['17']), ({'vertices': [{'x': 91, 'y': 145}, {'x': 170, 'y': 142}, {'x': 170, 'y': 156}, {'x': 92, 'y': 159}]}, ['August']), ({'vertices': [{'x': 173, 'y': 141}, {'x': 195, 'y': 140}, {'x': 196, 'y': 155}, {'x': 174, 'y': 156}]}, ['had']), ({'vertices': [{'x': 194, 'y': 141}, {'x': 210, 'y': 140}, {'x': 211, 'y': 154}, {'x': 195, 'y': 155}]}, ['the']), ({'vertices': [{'x': 212, 'y': 140}, {'x': 225, 'y': 140}, {'x': 226, 'y': 153}, {'x': 213, 'y': 154}]}, ['be']), ({'vertices': [{'x': 76, 'y': 183}, {'x': 101, 'y': 182}, {'x': 102, 'y': 196}, {'x': 77, 'y': 197}]}, ['三']), ({'vertices': [{'x': 586, 'y': 21}, {'x': 632, 'y': 21}, {'x': 632, 'y': 37}, {'x': 586, 'y': 37}]}, ['COPY']), ({'vertices': [{'x': 636, 'y': 21}, {'x': 693, 'y': 21}, {'x': 693, 'y': 36}, {'x': 636, 'y': 36}]}, ['BIRTH']), ({'vertices': [{'x': 637, 'y': 42}, {'x': 755, 'y': 49}, {'x': 754, 'y': 65}, {'x': 636, 'y': 58}]}, ['CERTIFICATE']), ({'vertices': [{'x': 422, 'y': 56}, {'x': 485, 'y': 57}, {'x': 485, 'y': 78}, {'x': 422, 'y': 77}]}, ['dnschuhundert']), ({'vertices': [{'x': 487, 'y': 57}, {'x': 505, 'y': 57}, {'x': 505, 'y': 78}, {'x': 487, 'y': 78}]}, ['beet']), ({'vertices': [{'x': 509, 'y': 58}, {'x': 526, 'y': 58}, {'x': 526, 'y': 78}, {'x': 509, 'y': 78}]}, ['und']), ({'vertices': [{'x': 527, 'y': 58}, {'x': 565, 'y': 59}, {'x': 565, 'y': 79}, {'x': 527, 'y': 78}]}, ['siebenzia']), ({'vertices': [{'x': 562, 'y': 59}, {'x': 572, 'y': 59}, {'x': 572, 'y': 79}, {'x': 562, 'y': 79}]}, [',']), ({'vertices': [{'x': 570, 'y': 59}, {'x': 613, 'y': 60}, {'x': 613, 'y': 80}, {'x': 570, 'y': 79}]}, ['Noul']), ({'vertices': [{'x': 611, 'y': 59}, {'x': 648, 'y': 60}, {'x': 648, 'y': 81}, {'x': 611, 'y': 80}]}, ['mittags']), ({'vertices': [{'x': 703, 'y': 61}, {'x': 712, 'y': 61}, {'x': 712, 'y': 81}, {'x': 703, 'y': 81}]}, [',']), ({'vertices': [{'x': 295, 'y': 72}, {'x': 352, 'y': 72}, {'x': 352, 'y': 96}, {'x': 295, 'y': 96}]}, ['Josezen']), ({'vertices': [{'x': 353, 'y': 72}, {'x': 387, 'y': 72}, {'x': 387, 'y': 96}, {'x': 353, 'y': 96}]}, ['Pike']), ({'vertices': [{'x': 386, 'y': 72}, {'x': 396, 'y': 72}, {'x': 396, 'y': 96}, {'x': 386, 'y': 96}]}, [',']), ({'vertices': [{'x': 407, 'y': 72}, {'x': 500, 'y': 72}, {'x': 500, 'y': 96}, {'x': 407, 'y': 96}]}, ['Borgerechten']), ({'vertices': [{'x': 499, 'y': 72}, {'x': 510, 'y': 72}, {'x': 510, 'y': 96}, {'x': 499, 'y': 96}]}, ['.']), ({'vertices': [{'x': 428, 'y': 120}, {'x': 466, 'y': 121}, {'x': 466, 'y': 134}, {'x': 428, 'y': 133}]}, ['Beamten']), ({'vertices': [{'x': 471, 'y': 120}, {'x': 484, 'y': 120}, {'x': 484, 'y': 133}, {'x': 471, 'y': 133}]}, ['des']), ({'vertices': [{'x': 490, 'y': 120}, {'x': 541, 'y': 121}, {'x': 541, 'y': 135}, {'x': 490, 'y': 134}]}, ['Civilstandes']), ({'vertices': [{'x': 546, 'y': 121}, {'x': 559, 'y': 121}, {'x': 559, 'y': 134}, {'x': 546, 'y': 134}]}, ['der']), ({'vertices': [{'x': 563, 'y': 121}, {'x': 631, 'y': 122}, {'x': 631, 'y': 136}, {'x': 563, 'y': 135}]}, ['Bürgermeisterei']), ({'vertices': [{'x': 632, 'y': 123}, {'x': 671, 'y': 124}, {'x': 671, 'y': 137}, {'x': 632, 'y': 136}]}, ['Merzig']), ({'vertices': [{'x': 672, 'y': 123}, {'x': 678, 'y': 123}, {'x': 678, 'y': 136}, {'x': 672, 'y': 136}]}, ['(']), ({'vertices': [{'x': 676, 'y': 123}, {'x': 702, 'y': 123}, {'x': 702, 'y': 136}, {'x': 676, 'y': 136}]}, ['Stadt']), ({'vertices': [{'x': 702, 'y': 124}, {'x': 706, 'y': 124}, {'x': 706, 'y': 137}, {'x': 702, 'y': 137}]}, [')']), ({'vertices': [{'x': 705, 'y': 124}, {'x': 709, 'y': 124}, {'x': 709, 'y': 137}, {'x': 705, 'y': 137}]}, ['.']), ({'vertices': [{'x': 242, 'y': 125}, {'x': 335, 'y': 126}, {'x': 335, 'y': 154}, {'x': 242, 'y': 153}]}, ['Mognition']), ({'vertices': [{'x': 347, 'y': 127}, {'x': 456, 'y': 129}, {'x': 456, 'y': 157}, {'x': 347, 'y': 155}]}, ['Felsenmal']), ({'vertices': [{'x': 447, 'y': 129}, {'x': 462, 'y': 129}, {'x': 462, 'y': 156}, {'x': 447, 'y': 156}]}, [',']), ({'vertices': [{'x': 468, 'y': 129}, {'x': 496, 'y': 129}, {'x': 496, 'y': 156}, {'x': 468, 'y': 156}]}, ['de']), ({'vertices': [{'x': 509, 'y': 130}, {'x': 572, 'y': 131}, {'x': 572, 'y': 158}, {'x': 509, 'y': 157}]}, ['unde']), ({'vertices': [{'x': 214, 'y': 179}, {'x': 257, 'y': 179}, {'x': 257, 'y': 189}, {'x': 214, 'y': 189}]}, ['wohnhaft']), ({'vertices': [{'x': 259, 'y': 179}, {'x': 271, 'y': 179}, {'x': 271, 'y': 189}, {'x': 259, 'y': 189}]}, ['zu']), ({'vertices': [{'x': 86, 'y': 184}, {'x': 139, 'y': 186}, {'x': 138, 'y': 216}, {'x': 85, 'y': 214}]}, ['ſuchen']), ({'vertices': [{'x': 158, 'y': 187}, {'x': 178, 'y': 188}, {'x': 177, 'y': 217}, {'x': 157, 'y': 216}]}, ['ab']), ({'vertices': [{'x': 173, 'y': 187}, {'x': 212, 'y': 188}, {'x': 211, 'y': 218}, {'x': 172, 'y': 217}]}, ['ülir']), ({'vertices': [{'x': 199, 'y': 188}, {'x': 216, 'y': 189}, {'x': 215, 'y': 218}, {'x': 198, 'y': 217}]}, ['.']), ({'vertices': [{'x': 217, 'y': 188}, {'x': 276, 'y': 190}, {'x': 275, 'y': 220}, {'x': 216, 'y': 218}]}, ['Strauche']), ({'vertices': [{'x': 275, 'y': 191}, {'x': 288, 'y': 191}, {'x': 287, 'y': 220}, {'x': 274, 'y': 220}]}, [',']), ({'vertices': [{'x': 290, 'y': 191}, {'x': 329, 'y': 192}, {'x': 328, 'y': 221}, {'x': 289, 'y': 220}]}, ['acht']), ({'vertices': [{'x': 323, 'y': 192}, {'x': 335, 'y': 192}, {'x': 334, 'y': 221}, {'x': 322, 'y': 221}]}, ['–']), ({'vertices': [{'x': 128, 'y': 221}, {'x': 176, 'y': 224}, {'x': 175, 'y': 240}, {'x': 127, 'y': 238}]}, ['Sara']), ({'vertices': [{'x': 203, 'y': 225}, {'x': 212, 'y': 225}, {'x': 211, 'y': 241}, {'x': 202, 'y': 241}]}, ['.']), ({'vertices': [{'x': 215, 'y': 257}, {'x': 258, 'y': 258}, {'x': 258, 'y': 270}, {'x': 215, 'y': 269}]}, ['wohnhaft']), ({'vertices': [{'x': 261, 'y': 258}, {'x': 271, 'y': 258}, {'x': 271, 'y': 270}, {'x': 261, 'y': 270}]}, ['zu']), ({'vertices': [{'x': 67, 'y': 251}, {'x': 110, 'y': 248}, {'x': 112, 'y': 279}, {'x': 69, 'y': 282}]}, ['The']), ({'vertices': [{'x': 108, 'y': 249}, {'x': 155, 'y': 246}, {'x': 157, 'y': 276}, {'x': 110, 'y': 279}]}, ['Mantel']), ({'vertices': [{'x': 155, 'y': 246}, {'x': 192, 'y': 244}, {'x': 194, 'y': 274}, {'x': 157, 'y': 276}]}, ['bergant']), ({'vertices': [{'x': 105, 'y': 290}, {'x': 171, 'y': 288}, {'x': 172, 'y': 317}, {'x': 106, 'y': 319}]}, ['John']), ({'vertices': [{'x': 68, 'y': 320}, {'x': 132, 'y': 320}, {'x': 132, 'y': 337}, {'x': 68, 'y': 337}]}, ['Gestricken']), ({'vertices': [{'x': 139, 'y': 320}, {'x': 187, 'y': 320}, {'x': 187, 'y': 337}, {'x': 139, 'y': 337}]}, ['gemäche']), ({'vertices': [{'x': 183, 'y': 320}, {'x': 193, 'y': 320}, {'x': 193, 'y': 337}, {'x': 183, 'y': 337}]}, ['.']), ({'vertices': [{'x': 69, 'y': 334}, {'x': 132, 'y': 332}, {'x': 133, 'y': 351}, {'x': 70, 'y': 353}]}, ['desiging']), ({'vertices': [{'x': 135, 'y': 332}, {'x': 160, 'y': 331}, {'x': 161, 'y': 349}, {'x': 136, 'y': 350}]}, ['bes']), ({'vertices': [{'x': 161, 'y': 331}, {'x': 181, 'y': 330}, {'x': 182, 'y': 348}, {'x': 162, 'y': 349}]}, ['Re']), ({'vertices': [{'x': 179, 'y': 331}, {'x': 190, 'y': 331}, {'x': 191, 'y': 349}, {'x': 180, 'y': 349}]}, ['.']), ({'vertices': [{'x': 71, 'y': 353}, {'x': 181, 'y': 353}, {'x': 181, 'y': 367}, {'x': 71, 'y': 367}]}, ['geringspräsidiom']), ({'vertices': [{'x': 71, 'y': 367}, {'x': 99, 'y': 367}, {'x': 99, 'y': 382}, {'x': 71, 'y': 382}]}, ['Baar']), ({'vertices': [{'x': 95, 'y': 367}, {'x': 102, 'y': 367}, {'x': 102, 'y': 382}, {'x': 95, 'y': 382}]}, [',']), ({'vertices': [{'x': 102, 'y': 367}, {'x': 163, 'y': 367}, {'x': 163, 'y': 382}, {'x': 102, 'y': 382}]}, ['Abteiling']), ({'vertices': [{'x': 167, 'y': 367}, {'x': 185, 'y': 367}, {'x': 185, 'y': 382}, {'x': 167, 'y': 382}]}, ['des']), ({'vertices': [{'x': 70, 'y': 378}, {'x': 108, 'y': 380}, {'x': 107, 'y': 392}, {'x': 70, 'y': 390}]}, ['Jun']), ({'vertices': [{'x': 119, 'y': 379}, {'x': 145, 'y': 380}, {'x': 144, 'y': 393}, {'x': 118, 'y': 392}]}, ['vom']), ({'vertices': [{'x': 148, 'y': 381}, {'x': 165, 'y': 382}, {'x': 165, 'y': 394}, {'x': 148, 'y': 393}]}, ['8.']), ({'vertices': [{'x': 161, 'y': 381}, {'x': 189, 'y': 382}, {'x': 188, 'y': 394}, {'x': 161, 'y': 393}]}, ['april']), ({'vertices': [{'x': 73, 'y': 391}, {'x': 99, 'y': 394}, {'x': 97, 'y': 404}, {'x': 72, 'y': 401}]}, ['1946']), ({'vertices': [{'x': 95, 'y': 395}, {'x': 100, 'y': 396}, {'x': 99, 'y': 405}, {'x': 94, 'y': 404}]}, ['.']), ({'vertices': [{'x': 74, 'y': 406}, {'x': 103, 'y': 410}, {'x': 101, 'y': 424}, {'x': 72, 'y': 421}]}, ['unzig']), ({'vertices': [{'x': 102, 'y': 410}, {'x': 108, 'y': 411}, {'x': 106, 'y': 425}, {'x': 100, 'y': 424}]}, ['.']), ({'vertices': [{'x': 82, 'y': 425}, {'x': 98, 'y': 425}, {'x': 98, 'y': 437}, {'x': 82, 'y': 437}]}, ['de']), ({'vertices': [{'x': 103, 'y': 424}, {'x': 193, 'y': 426}, {'x': 193, 'y': 439}, {'x': 103, 'y': 437}]}, ['Standesbeamte']), ({'vertices': [{'x': 132, 'y': 409}, {'x': 147, 'y': 409}, {'x': 147, 'y': 419}, {'x': 132, 'y': 419}]}, ['3.']), ({'vertices': [{'x': 142, 'y': 409}, {'x': 172, 'y': 409}, {'x': 172, 'y': 419}, {'x': 142, 'y': 419}]}, ['Mai']), ({'vertices': [{'x': 174, 'y': 409}, {'x': 195, 'y': 409}, {'x': 195, 'y': 419}, {'x': 174, 'y': 419}]}, ['1946']), ({'vertices': [{'x': 193, 'y': 409}, {'x': 198, 'y': 409}, {'x': 198, 'y': 419}, {'x': 193, 'y': 419}]}, ['.']), ({'vertices': [{'x': 88, 'y': 442}, {'x': 107, 'y': 443}, {'x': 106, 'y': 459}, {'x': 87, 'y': 458}]}, ['In']), ({'vertices': [{'x': 106, 'y': 442}, {'x': 166, 'y': 446}, {'x': 165, 'y': 463}, {'x': 105, 'y': 459}]}, ['veszching']), ({'vertices': [{'x': 162, 'y': 446}, {'x': 170, 'y': 447}, {'x': 169, 'y': 462}, {'x': 161, 'y': 462}]}, ['.']), ({'vertices': [{'x': 249, 'y': 278}, {'x': 328, 'y': 285}, {'x': 325, 'y': 315}, {'x': 246, 'y': 308}]}, ['Manging']), ({'vertices': [{'x': 201, 'y': 301}, {'x': 313, 'y': 311}, {'x': 310, 'y': 339}, {'x': 198, 'y': 329}]}, ['Zweiblichen']), ({'vertices': [{'x': 95, 'y': 454}, {'x': 206, 'y': 455}, {'x': 206, 'y': 484}, {'x': 95, 'y': 483}]}, ['Küche']), ({'vertices': [{'x': 197, 'y': 456}, {'x': 221, 'y': 456}, {'x': 221, 'y': 484}, {'x': 197, 'y': 484}]}, ['.']), ({'vertices': [{'x': 67, 'y': 494}, {'x': 117, 'y': 493}, {'x': 117, 'y': 503}, {'x': 67, 'y': 504}]}, ['Ebeeldhofen']), ({'vertices': [{'x': 138, 'y': 492}, {'x': 196, 'y': 491}, {'x': 196, 'y': 503}, {'x': 138, 'y': 504}]}, ['21.4.1955']), ({'vertices': [{'x': 76, 'y': 509}, {'x': 108, 'y': 510}, {'x': 108, 'y': 518}, {'x': 76, 'y': 517}]}, ['Seben']), ({'vertices': [{'x': 69, 'y': 532}, {'x': 74, 'y': 532}, {'x': 74, 'y': 541}, {'x': 69, 'y': 541}]}, ['(']), ({'vertices': [{'x': 71, 'y': 532}, {'x': 111, 'y': 532}, {'x': 111, 'y': 541}, {'x': 71, 'y': 541}]}, ['Stat']), ({'vertices': [{'x': 129, 'y': 514}, {'x': 189, 'y': 520}, {'x': 187, 'y': 536}, {'x': 127, 'y': 530}]}, ['мизда']), ({'vertices': [{'x': 117, 'y': 537}, {'x': 189, 'y': 533}, {'x': 190, 'y': 547}, {'x': 118, 'y': 551}]}, ['9544555']), ({'vertices': [{'x': 377, 'y': 158}, {'x': 405, 'y': 158}, {'x': 405, 'y': 171}, {'x': 377, 'y': 171}]}, ['Jahre']), ({'vertices': [{'x': 409, 'y': 158}, {'x': 421, 'y': 158}, {'x': 421, 'y': 171}, {'x': 409, 'y': 171}]}, ['alt']), ({'vertices': [{'x': 421, 'y': 158}, {'x': 424, 'y': 158}, {'x': 424, 'y': 171}, {'x': 421, 'y': 171}]}, [',']), ({'vertices': [{'x': 427, 'y': 158}, {'x': 466, 'y': 158}, {'x': 466, 'y': 171}, {'x': 427, 'y': 171}]}, ['Staudes']), ({'vertices': [{'x': 523, 'y': 159}, {'x': 553, 'y': 159}, {'x': 553, 'y': 172}, {'x': 523, 'y': 172}]}, ['mun']), ({'vertices': [{'x': 536, 'y': 183}, {'x': 549, 'y': 183}, {'x': 549, 'y': 188}, {'x': 536, 'y': 188}]}, ['von']), ({'vertices': [{'x': 331, 'y': 182}, {'x': 366, 'y': 183}, {'x': 365, 'y': 215}, {'x': 330, 'y': 214}]}, ['23']), ({'vertices': [{'x': 359, 'y': 182}, {'x': 429, 'y': 185}, {'x': 428, 'y': 217}, {'x': 358, 'y': 215}]}, ['Peninſßig']), ({'vertices': [{'x': 433, 'y': 185}, {'x': 478, 'y': 187}, {'x': 477, 'y': 220}, {'x': 432, 'y': 218}]}, ['Sicher']), ({'vertices': [{'x': 481, 'y': 187}, {'x': 515, 'y': 188}, {'x': 514, 'y': 220}, {'x': 480, 'y': 219}]}, ['alt']), ({'vertices': [{'x': 510, 'y': 188}, {'x': 522, 'y': 188}, {'x': 521, 'y': 220}, {'x': 509, 'y': 220}]}, [',']), ({'vertices': [{'x': 522, 'y': 188}, {'x': 562, 'y': 189}, {'x': 561, 'y': 222}, {'x': 521, 'y': 221}]}, ['ehne']), ({'vertices': [{'x': 562, 'y': 189}, {'x': 603, 'y': 190}, {'x': 602, 'y': 223}, {'x': 561, 'y': 222}]}, ['beſe']), ({'vertices': [{'x': 396, 'y': 247}, {'x': 419, 'y': 247}, {'x': 419, 'y': 282}, {'x': 396, 'y': 282}]}, ['y']), ({'vertices': [{'x': 415, 'y': 246}, {'x': 463, 'y': 245}, {'x': 463, 'y': 280}, {'x': 415, 'y': 281}]}, ['wire']), ({'vertices': [{'x': 463, 'y': 245}, {'x': 501, 'y': 244}, {'x': 501, 'y': 280}, {'x': 463, 'y': 281}]}, ['and']), ({'vertices': [{'x': 510, 'y': 244}, {'x': 609, 'y': 243}, {'x': 609, 'y': 279}, {'x': 510, 'y': 280}]}, ['wonzingesten']), ({'vertices': [{'x': 618, 'y': 243}, {'x': 681, 'y': 242}, {'x': 681, 'y': 278}, {'x': 618, 'y': 279}]}, ['Nace']), ({'vertices': [{'x': 688, 'y': 242}, {'x': 725, 'y': 242}, {'x': 725, 'y': 278}, {'x': 688, 'y': 278}]}, ['Zuſ']), ({'vertices': [{'x': 340, 'y': 271}, {'x': 373, 'y': 270}, {'x': 374, 'y': 290}, {'x': 341, 'y': 291}]}, ['Jahres']), ({'vertices': [{'x': 384, 'y': 270}, {'x': 464, 'y': 267}, {'x': 465, 'y': 286}, {'x': 385, 'y': 289}]}, ['Nachthei']), ({'vertices': [{'x': 315, 'y': 313}, {'x': 363, 'y': 313}, {'x': 363, 'y': 327}, {'x': 315, 'y': 327}]}, ['Wejchlechts']), ({'vertices': [{'x': 368, 'y': 313}, {'x': 401, 'y': 313}, {'x': 401, 'y': 326}, {'x': 368, 'y': 326}]}, ['geboren']), ({'vertices': [{'x': 406, 'y': 313}, {'x': 418, 'y': 313}, {'x': 418, 'y': 326}, {'x': 406, 'y': 326}]}, ['fei']), ({'vertices': [{'x': 417, 'y': 313}, {'x': 420, 'y': 313}, {'x': 420, 'y': 326}, {'x': 417, 'y': 326}]}, [',']), ({'vertices': [{'x': 425, 'y': 312}, {'x': 460, 'y': 312}, {'x': 460, 'y': 325}, {'x': 425, 'y': 325}]}, ['welchem']), ({'vertices': [{'x': 465, 'y': 312}, {'x': 491, 'y': 312}, {'x': 491, 'y': 325}, {'x': 465, 'y': 325}]}, ['Stinbe']), ({'vertices': [{'x': 495, 'y': 312}, {'x': 501, 'y': 312}, {'x': 501, 'y': 325}, {'x': 495, 'y': 325}]}, ['b']), ({'vertices': [{'x': 522, 'y': 311}, {'x': 564, 'y': 311}, {'x': 564, 'y': 325}, {'x': 522, 'y': 325}]}, ['Borname']), ({'vertices': [{'x': 466, 'y': 333}, {'x': 502, 'y': 333}, {'x': 502, 'y': 345}, {'x': 466, 'y': 345}]}, ['beigelegt']), ({'vertices': [{'x': 505, 'y': 333}, {'x': 532, 'y': 333}, {'x': 532, 'y': 344}, {'x': 505, 'y': 344}]}, ['wurde']), ({'vertices': [{'x': 659, 'y': 271}, {'x': 732, 'y': 272}, {'x': 732, 'y': 293}, {'x': 659, 'y': 292}]}, ['Wohnning']), ({'vertices': [{'x': 726, 'y': 272}, {'x': 738, 'y': 272}, {'x': 738, 'y': 292}, {'x': 726, 'y': 292}]}, ['.']), ({'vertices': [{'x': 575, 'y': 294}, {'x': 694, 'y': 296}, {'x': 693, 'y': 323}, {'x': 575, 'y': 321}]}, ['Jusanna']), ({'vertices': [{'x': 242, 'y': 353}, {'x': 266, 'y': 353}, {'x': 266, 'y': 367}, {'x': 242, 'y': 367}]}, ['Diefe']), ({'vertices': [{'x': 268, 'y': 353}, {'x': 286, 'y': 353}, {'x': 286, 'y': 366}, {'x': 268, 'y': 366}]}, ['yon']), ({'vertices': [{'x': 290, 'y': 353}, {'x': 306, 'y': 353}, {'x': 306, 'y': 366}, {'x': 290, 'y': 366}]}, ['mir']), ({'vertices': [{'x': 310, 'y': 353}, {'x': 374, 'y': 353}, {'x': 374, 'y': 366}, {'x': 310, 'y': 366}]}, ['aufgenommene']), ({'vertices': [{'x': 379, 'y': 353}, {'x': 422, 'y': 353}, {'x': 422, 'y': 366}, {'x': 379, 'y': 366}]}, ['Erflärung']), ({'vertices': [{'x': 426, 'y': 353}, {'x': 437, 'y': 353}, {'x': 437, 'y': 366}, {'x': 426, 'y': 366}]}, ['ist']), ({'vertices': [{'x': 440, 'y': 353}, {'x': 479, 'y': 353}, {'x': 479, 'y': 366}, {'x': 440, 'y': 366}]}, ['geschehen']), ({'vertices': [{'x': 484, 'y': 353}, {'x': 494, 'y': 353}, {'x': 494, 'y': 366}, {'x': 484, 'y': 366}]}, ['in']), ({'vertices': [{'x': 498, 'y': 352}, {'x': 551, 'y': 352}, {'x': 551, 'y': 365}, {'x': 498, 'y': 365}]}, ['Arweienheit']), ({'vertices': [{'x': 553, 'y': 352}, {'x': 567, 'y': 352}, {'x': 567, 'y': 365}, {'x': 553, 'y': 365}]}, ['der']), ({'vertices': [{'x': 572, 'y': 352}, {'x': 598, 'y': 352}, {'x': 598, 'y': 365}, {'x': 572, 'y': 365}]}, ['beiden']), ({'vertices': [{'x': 604, 'y': 352}, {'x': 634, 'y': 352}, {'x': 634, 'y': 365}, {'x': 604, 'y': 365}]}, ['Jeugen']), ({'vertices': [{'x': 633, 'y': 352}, {'x': 637, 'y': 352}, {'x': 637, 'y': 365}, {'x': 633, 'y': 365}]}, [',']), ({'vertices': [{'x': 641, 'y': 352}, {'x': 655, 'y': 352}, {'x': 655, 'y': 365}, {'x': 641, 'y': 365}]}, ['ale']), ({'vertices': [{'x': 659, 'y': 352}, {'x': 693, 'y': 352}, {'x': 693, 'y': 365}, {'x': 659, 'y': 365}]}, ['nämlich']), ({'vertices': [{'x': 692, 'y': 352}, {'x': 696, 'y': 352}, {'x': 696, 'y': 365}, {'x': 692, 'y': 365}]}, [':']), ({'vertices': [{'x': 215, 'y': 390}, {'x': 243, 'y': 389}, {'x': 244, 'y': 406}, {'x': 216, 'y': 407}]}, ['Jahre']), ({'vertices': [{'x': 246, 'y': 389}, {'x': 260, 'y': 389}, {'x': 261, 'y': 405}, {'x': 247, 'y': 405}]}, ['alt']), ({'vertices': [{'x': 258, 'y': 389}, {'x': 263, 'y': 389}, {'x': 264, 'y': 405}, {'x': 259, 'y': 405}]}, ['.']), ({'vertices': [{'x': 265, 'y': 388}, {'x': 396, 'y': 384}, {'x': 396, 'y': 401}, {'x': 266, 'y': 405}]}, ['Standesver']), ({'vertices': [{'x': 263, 'y': 414}, {'x': 277, 'y': 414}, {'x': 277, 'y': 423}, {'x': 263, 'y': 423}]}, ['鸛']), ({'vertices': [{'x': 233, 'y': 431}, {'x': 239, 'y': 431}, {'x': 239, 'y': 440}, {'x': 233, 'y': 440}]}, ['2']), ({'vertices': [{'x': 238, 'y': 430}, {'x': 242, 'y': 430}, {'x': 242, 'y': 439}, {'x': 238, 'y': 439}]}, [')']), ({'vertices': [{'x': 240, 'y': 430}, {'x': 243, 'y': 430}, {'x': 243, 'y': 439}, {'x': 240, 'y': 439}]}, ['.']), ({'vertices': [{'x': 244, 'y': 419}, {'x': 298, 'y': 418}, {'x': 298, 'y': 450}, {'x': 244, 'y': 451}]}, ['Peter']), ({'vertices': [{'x': 301, 'y': 418}, {'x': 379, 'y': 417}, {'x': 379, 'y': 449}, {'x': 301, 'y': 450}]}, ['Willler']), ({'vertices': [{'x': 374, 'y': 418}, {'x': 387, 'y': 418}, {'x': 387, 'y': 449}, {'x': 374, 'y': 449}]}, [',']), ({'vertices': [{'x': 385, 'y': 417}, {'x': 461, 'y': 416}, {'x': 461, 'y': 448}, {'x': 385, 'y': 449}]}, ['dreießßing']), ({'vertices': [{'x': 456, 'y': 416}, {'x': 467, 'y': 416}, {'x': 467, 'y': 447}, {'x': 456, 'y': 447}]}, ['.']), ({'vertices': [{'x': 216, 'y': 447}, {'x': 243, 'y': 446}, {'x': 244, 'y': 464}, {'x': 217, 'y': 465}]}, ['Jahre']), ({'vertices': [{'x': 246, 'y': 446}, {'x': 261, 'y': 445}, {'x': 262, 'y': 462}, {'x': 247, 'y': 463}]}, ['alt']), ({'vertices': [{'x': 258, 'y': 446}, {'x': 262, 'y': 446}, {'x': 263, 'y': 463}, {'x': 259, 'y': 463}]}, [',']), ({'vertices': [{'x': 266, 'y': 445}, {'x': 306, 'y': 443}, {'x': 307, 'y': 461}, {'x': 267, 'y': 463}]}, ['Standes']), ({'vertices': [{'x': 326, 'y': 442}, {'x': 395, 'y': 439}, {'x': 396, 'y': 457}, {'x': 327, 'y': 460}]}, ['eicbate']), ({'vertices': [{'x': 391, 'y': 440}, {'x': 400, 'y': 440}, {'x': 401, 'y': 457}, {'x': 392, 'y': 457}]}, ['.']), ({'vertices': [{'x': 217, 'y': 467}, {'x': 258, 'y': 468}, {'x': 258, 'y': 479}, {'x': 217, 'y': 478}]}, ['wohnhaft']), ({'vertices': [{'x': 265, 'y': 469}, {'x': 276, 'y': 469}, {'x': 276, 'y': 479}, {'x': 265, 'y': 479}]}, ['zu']), ({'vertices': [{'x': 286, 'y': 457}, {'x': 364, 'y': 467}, {'x': 361, 'y': 491}, {'x': 283, 'y': 481}]}, ['Merzig']), ({'vertices': [{'x': 407, 'y': 457}, {'x': 416, 'y': 457}, {'x': 416, 'y': 463}, {'x': 407, 'y': 463}]}, ['W']), ({'vertices': [{'x': 244, 'y': 486}, {'x': 302, 'y': 486}, {'x': 302, 'y': 499}, {'x': 244, 'y': 499}]}, ['Gegenwärtige']), ({'vertices': [{'x': 306, 'y': 486}, {'x': 342, 'y': 486}, {'x': 342, 'y': 498}, {'x': 306, 'y': 498}]}, ['Urtunde']), ({'vertices': [{'x': 346, 'y': 486}, {'x': 356, 'y': 486}, {'x': 356, 'y': 498}, {'x': 346, 'y': 498}]}, ['in']), ({'vertices': [{'x': 361, 'y': 486}, {'x': 397, 'y': 486}, {'x': 397, 'y': 498}, {'x': 361, 'y': 498}]}, ['demnach']), ({'vertices': [{'x': 402, 'y': 486}, {'x': 410, 'y': 486}, {'x': 410, 'y': 498}, {'x': 402, 'y': 498}]}, ['in']), ({'vertices': [{'x': 415, 'y': 485}, {'x': 457, 'y': 485}, {'x': 457, 'y': 498}, {'x': 415, 'y': 498}]}, ['doppeltem']), ({'vertices': [{'x': 461, 'y': 485}, {'x': 499, 'y': 485}, {'x': 499, 'y': 497}, {'x': 461, 'y': 497}]}, ['Original']), ({'vertices': [{'x': 504, 'y': 485}, {'x': 560, 'y': 485}, {'x': 560, 'y': 497}, {'x': 504, 'y': 497}]}, ['aufgenommen']), ({'vertices': [{'x': 559, 'y': 485}, {'x': 563, 'y': 485}, {'x': 563, 'y': 497}, {'x': 559, 'y': 497}]}, [',']), ({'vertices': [{'x': 567, 'y': 485}, {'x': 603, 'y': 485}, {'x': 603, 'y': 497}, {'x': 567, 'y': 497}]}, ['den']), ({'vertices': [{'x': 600, 'y': 485}, {'x': 606, 'y': 485}, {'x': 606, 'y': 497}, {'x': 600, 'y': 497}]}, ['.']), ({'vertices': [{'x': 610, 'y': 484}, {'x': 652, 'y': 484}, {'x': 652, 'y': 496}, {'x': 610, 'y': 496}]}, ['Declarant']), ({'vertices': [{'x': 675, 'y': 484}, {'x': 692, 'y': 484}, {'x': 692, 'y': 496}, {'x': 675, 'y': 496}]}, ['und']), ({'vertices': [{'x': 695, 'y': 484}, {'x': 709, 'y': 484}, {'x': 709, 'y': 496}, {'x': 695, 'y': 496}]}, ['den']), ({'vertices': [{'x': 215, 'y': 505}, {'x': 221, 'y': 505}, {'x': 221, 'y': 518}, {'x': 215, 'y': 518}]}, ['\"']), ({'vertices': [{'x': 218, 'y': 504}, {'x': 250, 'y': 504}, {'x': 250, 'y': 517}, {'x': 218, 'y': 517}]}, ['Zeugen']), ({'vertices': [{'x': 254, 'y': 504}, {'x': 298, 'y': 503}, {'x': 298, 'y': 516}, {'x': 254, 'y': 517}]}, ['vorgehen']), ({'vertices': [{'x': 302, 'y': 503}, {'x': 320, 'y': 503}, {'x': 320, 'y': 516}, {'x': 302, 'y': 516}]}, ['und']), ({'vertices': [{'x': 322, 'y': 503}, {'x': 337, 'y': 503}, {'x': 337, 'y': 516}, {'x': 322, 'y': 516}]}, ['mit']), ({'vertices': [{'x': 339, 'y': 503}, {'x': 379, 'y': 503}, {'x': 379, 'y': 516}, {'x': 339, 'y': 516}]}, ['denselben']), ({'vertices': [{'x': 384, 'y': 502}, {'x': 400, 'y': 502}, {'x': 400, 'y': 515}, {'x': 384, 'y': 515}]}, ['von']), ({'vertices': [{'x': 403, 'y': 502}, {'x': 418, 'y': 502}, {'x': 418, 'y': 515}, {'x': 403, 'y': 515}]}, ['mir']), ({'vertices': [{'x': 421, 'y': 501}, {'x': 480, 'y': 500}, {'x': 480, 'y': 514}, {'x': 421, 'y': 515}]}, ['unterschrieben']), ({'vertices': [{'x': 482, 'y': 501}, {'x': 514, 'y': 501}, {'x': 514, 'y': 514}, {'x': 482, 'y': 514}]}, ['worden']), ({'vertices': [{'x': 512, 'y': 501}, {'x': 517, 'y': 501}, {'x': 517, 'y': 514}, {'x': 512, 'y': 514}]}, ['.']), ({'vertices': [{'x': 242, 'y': 521}, {'x': 291, 'y': 521}, {'x': 291, 'y': 553}, {'x': 242, 'y': 553}]}, ['Man']), ({'vertices': [{'x': 295, 'y': 521}, {'x': 399, 'y': 520}, {'x': 399, 'y': 551}, {'x': 295, 'y': 552}]}, ['Sebenthal']), ({'vertices': [{'x': 412, 'y': 520}, {'x': 441, 'y': 520}, {'x': 441, 'y': 551}, {'x': 412, 'y': 551}]}, ['J.']), ({'vertices': [{'x': 437, 'y': 519}, {'x': 515, 'y': 518}, {'x': 515, 'y': 550}, {'x': 437, 'y': 551}]}, ['Freiburg']), ({'vertices': [{'x': 526, 'y': 518}, {'x': 640, 'y': 517}, {'x': 640, 'y': 549}, {'x': 526, 'y': 550}]}, ['PMülle']), ({'vertices': [{'x': 200, 'y': 550}, {'x': 240, 'y': 550}, {'x': 240, 'y': 566}, {'x': 200, 'y': 566}]}, ['DIE']), ({'vertices': [{'x': 251, 'y': 550}, {'x': 315, 'y': 550}, {'x': 315, 'y': 566}, {'x': 251, 'y': 566}]}, ['DATE'])], 'entity_types': {'PERSON': ['Monate Merzig', 'crſchien', 'Josezen Pike', 'Borgerechten', 'Bürgermeisterei Merzig', 'Mognition Felsenmal', 'ſuchen ab', 'John Gestricken', 'de Standesbeamte 3', 'Manging Zweiblichen Küche', 'Ebeeldhofen 21.4.1955 Seben', 'Nace Zuſ Jahres', 'geboren fei', 'Jusanna Diefe', 'Peter Willler', 'wohnhaft', 'Merzig W Gegenwärtige Urtunde', 'Zeugen', 'von mir', 'Sebenthal J. Freiburg'], 'GPE': ['Merzig', 'Häß §', 'Erflärung', 'Arweienheit'], 'CARDINAL': ['3', '2'], 'DATE': ['17 August', 'april 1946', 'Staudes'], 'ORG': ['Noul', 'Stadt', 'Strauche', 'Mantel', 'Baar', 'Stinbe b Borname', 'Original'], 'PRODUCT': ['Standes']}, 'top_title': ['page of Testimony', 'דף עד'], 'Production date': 'april 1946'}\n"
     ]
    },
    {
     "name": "stderr",
     "output_type": "stream",
     "text": [
      "WARNING:absl:Compiled the loaded model, but the compiled metrics have yet to be built. `model.compile_metrics` will be empty until you train or evaluate the model.\n"
     ]
    },
    {
     "name": "stdout",
     "output_type": "stream",
     "text": [
      "data_practucom/test\\documents_with_json\\10561637_2.json 😄 Testimony page including a photograph\n"
     ]
    },
    {
     "name": "stderr",
     "output_type": "stream",
     "text": [
      "WARNING:absl:Compiled the loaded model, but the compiled metrics have yet to be built. `model.compile_metrics` will be empty until you train or evaluate the model.\n"
     ]
    },
    {
     "name": "stdout",
     "output_type": "stream",
     "text": [
      "eeeeeeeeeeeeeeeeeeeeeeeeeeeee\n",
      "(150, 931.75)\n",
      "3.4.1955\n",
      "uuuuuuuuuuuuuuuuuuuuu {'page type': 'Testimony page including a photograph', 'data_Languages': [('German', 0.8968001), ('English', 0.047885533), ('Romanian', 0.008308049), ('Norwegian', 0.0056615914)], 'full_desc_with_verices': ({'text': 'Bernd Schirra AUF DER POWEI 866663 MERZIG Susanna Felsenthal Geboren am 24. März 1873 in Merzig - Gestorben am 21. April 1955 in Merzig № 74. Geburts-Akt Merzig, im Kreise Merzig, den des Monats rechtzehnhundert bei nub siebengig. mittage 11hr, Jenüßß §2 karter, erſchien vor mir Hosuzen Tette, Bergen 17. Augen4/1985 fat his der Beamten des Gwilstandes der Bürgermeisterei Merzig (Stabt), Mirginitian Felsentral, Jahre alt, Standes fenrur. welcher mir erklärte, daß von anche das dr. Strauſs, recht und dichting Fähre alt, ahme before, man Sarama. the Nantal busonh Je voertung: Gestricken gemags defügung des Re- geingerändin Zaar, Ableitung des Jun vom 8.april. 1946. Mezig. An 8. Mai 1946. de Standesbranite Tu va Gistoben (Stanamt vastching. 3.4.1955 мезднат 95,7955) wohnhaft zu Margery Zweiblichen 1) Jahres Nachth W die seiner Wohnung Jusanna Geichlechts geboren sei, welchem Rinde de Borname beigelegt wurde Diefe you mir aufgenommene Erklärung ist geschchen in Newesenheit der beiden Jengen, als němlid): Julie Freiberg, deci cam Jahre alt, Standes Harbier, wohnhaft zu Mersin Peter Müller, dreich Jahre alt, Standes ribete wohnhaft zu. Merzig Gegenwärtige Urkunde i demnach in doppeltem Original aufgenommen, dce Declarant und den Zengen vorgeféien und mit denselben von mir unterschrieben worden. Man Jebsenthal J. Seiberg PMülle Susanna Felsenthal wohnte in der Feldstraße 5 (heute Am Feldchen) im Hause der Geschwister Levy. 1939 wurde infolge des 2.Weltkrieges die Bevölkerung aus der sogenannten Roten Zone evakuiert, auch die noch in Merzig lebenden Juden. Susanna Felsenthal kam am 9. September 1939 in Halle an und blieb dort bis zum 1. Oktober 1940 dort. Ihre Adresse in Halle: Boelckestraße 24. Diese Anschrift war die Adresse der Trauerhalle des neuen jüdischen Friedhofs in Halle. Dort waren die jüdischen Rückwanderer untergebracht. Am 29.August 1941 wurden ihre Wäsche und Kleidungsstücke für den Betrag von 22,70 Reichsmark in Merzig durch die Stadtverwaltung versteigert. Über das Schicksal von Susanne Felsenthal zwischen Oktober 1940 und 18.Dezember 1946 ist nichts bekannt. Am 18. Dezember kehrte Susanne Felsenthal aus Frankreich nach Merzig zurück. Bis zu ihrem Tod am 21.April 1955 wohnte Susanne Felsenthal in der Straße „Am Weißenfels\" Seite 1 von 3'}, {'vertices': [{'x': 272, 'y': 150}, {'x': 2170, 'y': 150}, {'x': 2170, 'y': 3277}, {'x': 272, 'y': 3277}]}), 'words': [({'vertices': [{'x': 272, 'y': 150}, {'x': 2170, 'y': 150}, {'x': 2170, 'y': 3277}, {'x': 272, 'y': 3277}]}, ['Bernd Schirra', 'AUF DER POWEI 866663 MERZIG', 'Susanna Felsenthal', 'Geboren am 24. März 1873 in Merzig - Gestorben am 21. April 1955 in Merzig', '№ 74.', 'Geburts-Akt', 'Merzig, im Kreise Merzig, den', 'des Monats', 'rechtzehnhundert bei nub siebengig.', 'mittage', '11hr,', 'Jenüßß §2 karter, erſchien vor mir', 'Hosuzen Tette, Bergen', '17. Augen4/1985 fat his der', 'Beamten des Gwilstandes der Bürgermeisterei Merzig (Stabt),', 'Mirginitian Felsentral,', 'Jahre alt, Standes fenrur.', 'welcher mir erklärte, daß von', 'anche das dr. Strauſs, recht und dichting Fähre alt, ahme before,', 'man Sarama.', 'the Nantal busonh', 'Je voertung:', 'Gestricken gemags', 'defügung des Re-', 'geingerändin', 'Zaar, Ableitung des', 'Jun vom 8.april.', '1946.', 'Mezig.', 'An 8. Mai 1946.', 'de Standesbranite', 'Tu va', 'Gistoben', '(Stanamt', 'vastching.', '3.4.1955', 'мезднат', '95,7955)', 'wohnhaft zu', 'Margery', 'Zweiblichen', '1)', 'Jahres', 'Nachth', 'W die seiner Wohnung', 'Jusanna', 'Geichlechts geboren sei, welchem Rinde de Borname', 'beigelegt wurde', 'Diefe you mir aufgenommene Erklärung ist geschchen in Newesenheit der beiden Jengen, als němlid):', 'Julie Freiberg, deci cam', 'Jahre alt, Standes Harbier,', 'wohnhaft zu Mersin', 'Peter Müller, dreich', 'Jahre alt, Standes ribete', 'wohnhaft zu.', 'Merzig', 'Gegenwärtige Urkunde i demnach in doppeltem Original aufgenommen, dce Declarant und den', 'Zengen vorgeféien und mit denselben von mir unterschrieben worden.', 'Man Jebsenthal J. Seiberg PMülle', 'Susanna Felsenthal wohnte in der Feldstraße 5 (heute Am Feldchen) im Hause der', 'Geschwister Levy. 1939 wurde infolge des 2.Weltkrieges die Bevölkerung aus der', 'sogenannten Roten Zone evakuiert, auch die noch in Merzig lebenden Juden. Susanna', 'Felsenthal kam am 9. September 1939 in Halle an und blieb dort bis zum 1. Oktober 1940', 'dort. Ihre Adresse in Halle: Boelckestraße 24. Diese Anschrift war die Adresse der', 'Trauerhalle des neuen jüdischen Friedhofs in Halle. Dort waren die jüdischen Rückwanderer', 'untergebracht. Am 29.August 1941 wurden ihre Wäsche und Kleidungsstücke für den Betrag', 'von 22,70 Reichsmark in Merzig durch die Stadtverwaltung versteigert. Über das Schicksal', 'von Susanne Felsenthal zwischen Oktober 1940 und 18.Dezember 1946 ist nichts bekannt.', 'Am 18. Dezember kehrte Susanne Felsenthal aus Frankreich nach Merzig zurück. Bis zu', 'ihrem Tod am 21.April 1955 wohnte Susanne Felsenthal in der Straße „Am Weißenfels\"', 'Seite 1 von 3']), ({'vertices': [{'x': 1064, 'y': 150}, {'x': 1212, 'y': 150}, {'x': 1212, 'y': 188}, {'x': 1064, 'y': 188}]}, ['Bernd']), ({'vertices': [{'x': 1230, 'y': 150}, {'x': 1406, 'y': 150}, {'x': 1406, 'y': 188}, {'x': 1230, 'y': 188}]}, ['Schirra']), ({'vertices': [{'x': 837, 'y': 211}, {'x': 927, 'y': 211}, {'x': 927, 'y': 237}, {'x': 837, 'y': 237}]}, ['AUF']), ({'vertices': [{'x': 947, 'y': 211}, {'x': 1038, 'y': 211}, {'x': 1038, 'y': 237}, {'x': 947, 'y': 237}]}, ['DER']), ({'vertices': [{'x': 1060, 'y': 211}, {'x': 1208, 'y': 211}, {'x': 1208, 'y': 237}, {'x': 1060, 'y': 237}]}, ['POWEI']), ({'vertices': [{'x': 1231, 'y': 211}, {'x': 1420, 'y': 211}, {'x': 1420, 'y': 237}, {'x': 1231, 'y': 237}]}, ['866663']), ({'vertices': [{'x': 1441, 'y': 211}, {'x': 1619, 'y': 211}, {'x': 1619, 'y': 237}, {'x': 1441, 'y': 237}]}, ['MERZIG']), ({'vertices': [{'x': 930, 'y': 365}, {'x': 1187, 'y': 364}, {'x': 1187, 'y': 412}, {'x': 930, 'y': 413}]}, ['Susanna']), ({'vertices': [{'x': 1213, 'y': 364}, {'x': 1534, 'y': 362}, {'x': 1534, 'y': 410}, {'x': 1213, 'y': 412}]}, ['Felsenthal']), ({'vertices': [{'x': 277, 'y': 503}, {'x': 454, 'y': 503}, {'x': 454, 'y': 543}, {'x': 277, 'y': 543}]}, ['Geboren']), ({'vertices': [{'x': 468, 'y': 503}, {'x': 528, 'y': 503}, {'x': 528, 'y': 543}, {'x': 468, 'y': 543}]}, ['am']), ({'vertices': [{'x': 543, 'y': 503}, {'x': 609, 'y': 503}, {'x': 609, 'y': 543}, {'x': 543, 'y': 543}]}, ['24.']), ({'vertices': [{'x': 620, 'y': 503}, {'x': 726, 'y': 503}, {'x': 726, 'y': 543}, {'x': 620, 'y': 543}]}, ['März']), ({'vertices': [{'x': 738, 'y': 503}, {'x': 838, 'y': 503}, {'x': 838, 'y': 543}, {'x': 738, 'y': 543}]}, ['1873']), ({'vertices': [{'x': 851, 'y': 503}, {'x': 887, 'y': 503}, {'x': 887, 'y': 543}, {'x': 851, 'y': 543}]}, ['in']), ({'vertices': [{'x': 901, 'y': 503}, {'x': 1043, 'y': 503}, {'x': 1043, 'y': 543}, {'x': 901, 'y': 543}]}, ['Merzig']), ({'vertices': [{'x': 1049, 'y': 503}, {'x': 1070, 'y': 503}, {'x': 1070, 'y': 543}, {'x': 1049, 'y': 543}]}, ['-']), ({'vertices': [{'x': 1091, 'y': 503}, {'x': 1304, 'y': 503}, {'x': 1304, 'y': 543}, {'x': 1091, 'y': 543}]}, ['Gestorben']), ({'vertices': [{'x': 1320, 'y': 503}, {'x': 1381, 'y': 503}, {'x': 1381, 'y': 543}, {'x': 1320, 'y': 543}]}, ['am']), ({'vertices': [{'x': 1396, 'y': 503}, {'x': 1457, 'y': 503}, {'x': 1457, 'y': 543}, {'x': 1396, 'y': 543}]}, ['21.']), ({'vertices': [{'x': 1469, 'y': 503}, {'x': 1567, 'y': 503}, {'x': 1567, 'y': 543}, {'x': 1469, 'y': 543}]}, ['April']), ({'vertices': [{'x': 1580, 'y': 503}, {'x': 1679, 'y': 503}, {'x': 1679, 'y': 543}, {'x': 1580, 'y': 543}]}, ['1955']), ({'vertices': [{'x': 1694, 'y': 503}, {'x': 1727, 'y': 503}, {'x': 1727, 'y': 543}, {'x': 1694, 'y': 543}]}, ['in']), ({'vertices': [{'x': 1744, 'y': 503}, {'x': 1883, 'y': 503}, {'x': 1883, 'y': 543}, {'x': 1744, 'y': 543}]}, ['Merzig']), ({'vertices': [{'x': 688, 'y': 663}, {'x': 721, 'y': 660}, {'x': 723, 'y': 687}, {'x': 690, 'y': 690}]}, ['№']), ({'vertices': [{'x': 752, 'y': 657}, {'x': 810, 'y': 652}, {'x': 812, 'y': 679}, {'x': 754, 'y': 684}]}, ['74']), ({'vertices': [{'x': 790, 'y': 654}, {'x': 816, 'y': 652}, {'x': 818, 'y': 679}, {'x': 792, 'y': 681}]}, ['.']), ({'vertices': [{'x': 1071, 'y': 663}, {'x': 1236, 'y': 663}, {'x': 1236, 'y': 689}, {'x': 1071, 'y': 689}]}, ['Geburts']), ({'vertices': [{'x': 1244, 'y': 663}, {'x': 1260, 'y': 663}, {'x': 1260, 'y': 689}, {'x': 1244, 'y': 689}]}, ['-']), ({'vertices': [{'x': 1267, 'y': 663}, {'x': 1342, 'y': 663}, {'x': 1342, 'y': 689}, {'x': 1267, 'y': 689}]}, ['Akt']), ({'vertices': [{'x': 797, 'y': 738}, {'x': 881, 'y': 738}, {'x': 881, 'y': 760}, {'x': 797, 'y': 760}]}, ['Merzig']), ({'vertices': [{'x': 880, 'y': 738}, {'x': 888, 'y': 738}, {'x': 888, 'y': 760}, {'x': 880, 'y': 760}]}, [',']), ({'vertices': [{'x': 901, 'y': 738}, {'x': 922, 'y': 738}, {'x': 922, 'y': 760}, {'x': 901, 'y': 760}]}, ['im']), ({'vertices': [{'x': 936, 'y': 738}, {'x': 992, 'y': 738}, {'x': 992, 'y': 760}, {'x': 936, 'y': 760}]}, ['Kreise']), ({'vertices': [{'x': 999, 'y': 738}, {'x': 1099, 'y': 738}, {'x': 1099, 'y': 760}, {'x': 999, 'y': 760}]}, ['Merzig']), ({'vertices': [{'x': 1102, 'y': 738}, {'x': 1110, 'y': 738}, {'x': 1110, 'y': 760}, {'x': 1102, 'y': 760}]}, [',']), ({'vertices': [{'x': 1120, 'y': 738}, {'x': 1152, 'y': 738}, {'x': 1152, 'y': 760}, {'x': 1120, 'y': 760}]}, ['den']), ({'vertices': [{'x': 691, 'y': 776}, {'x': 719, 'y': 776}, {'x': 719, 'y': 793}, {'x': 691, 'y': 793}]}, ['des']), ({'vertices': [{'x': 726, 'y': 776}, {'x': 799, 'y': 775}, {'x': 799, 'y': 792}, {'x': 726, 'y': 793}]}, ['Monats']), ({'vertices': [{'x': 1099, 'y': 777}, {'x': 1240, 'y': 776}, {'x': 1240, 'y': 795}, {'x': 1099, 'y': 796}]}, ['rechtzehnhundert']), ({'vertices': [{'x': 1251, 'y': 777}, {'x': 1284, 'y': 777}, {'x': 1284, 'y': 795}, {'x': 1251, 'y': 795}]}, ['bei']), ({'vertices': [{'x': 1291, 'y': 777}, {'x': 1325, 'y': 777}, {'x': 1325, 'y': 795}, {'x': 1291, 'y': 795}]}, ['nub']), ({'vertices': [{'x': 1331, 'y': 776}, {'x': 1404, 'y': 776}, {'x': 1404, 'y': 795}, {'x': 1331, 'y': 795}]}, ['siebengig']), ({'vertices': [{'x': 1403, 'y': 776}, {'x': 1409, 'y': 776}, {'x': 1409, 'y': 794}, {'x': 1403, 'y': 794}]}, ['.']), ({'vertices': [{'x': 1508, 'y': 779}, {'x': 1572, 'y': 781}, {'x': 1572, 'y': 797}, {'x': 1508, 'y': 795}]}, ['mittage']), ({'vertices': [{'x': 1655, 'y': 779}, {'x': 1690, 'y': 780}, {'x': 1690, 'y': 795}, {'x': 1655, 'y': 794}]}, ['11hr']), ({'vertices': [{'x': 1690, 'y': 779}, {'x': 1695, 'y': 779}, {'x': 1695, 'y': 794}, {'x': 1690, 'y': 794}]}, [',']), ({'vertices': [{'x': 444, 'y': 803}, {'x': 532, 'y': 804}, {'x': 532, 'y': 839}, {'x': 444, 'y': 838}]}, ['Jenüßß']), ({'vertices': [{'x': 530, 'y': 805}, {'x': 563, 'y': 805}, {'x': 563, 'y': 839}, {'x': 530, 'y': 839}]}, ['§2']), ({'vertices': [{'x': 566, 'y': 805}, {'x': 663, 'y': 806}, {'x': 663, 'y': 840}, {'x': 566, 'y': 839}]}, ['karter']), ({'vertices': [{'x': 658, 'y': 806}, {'x': 674, 'y': 806}, {'x': 674, 'y': 840}, {'x': 658, 'y': 840}]}, [',']), ({'vertices': [{'x': 689, 'y': 806}, {'x': 757, 'y': 807}, {'x': 757, 'y': 842}, {'x': 689, 'y': 841}]}, ['erſchien']), ({'vertices': [{'x': 769, 'y': 807}, {'x': 802, 'y': 807}, {'x': 802, 'y': 842}, {'x': 769, 'y': 842}]}, ['vor']), ({'vertices': [{'x': 812, 'y': 808}, {'x': 848, 'y': 808}, {'x': 848, 'y': 842}, {'x': 812, 'y': 842}]}, ['mir']), ({'vertices': [{'x': 859, 'y': 798}, {'x': 965, 'y': 797}, {'x': 965, 'y': 843}, {'x': 859, 'y': 844}]}, ['Hosuzen']), ({'vertices': [{'x': 970, 'y': 797}, {'x': 1045, 'y': 797}, {'x': 1045, 'y': 843}, {'x': 970, 'y': 843}]}, ['Tette']), ({'vertices': [{'x': 1040, 'y': 797}, {'x': 1062, 'y': 797}, {'x': 1062, 'y': 842}, {'x': 1040, 'y': 842}]}, [',']), ({'vertices': [{'x': 1074, 'y': 797}, {'x': 1179, 'y': 796}, {'x': 1179, 'y': 842}, {'x': 1074, 'y': 843}]}, ['Bergen']), ({'vertices': [{'x': 402, 'y': 946}, {'x': 442, 'y': 944}, {'x': 443, 'y': 971}, {'x': 403, 'y': 973}]}, ['17.']), ({'vertices': [{'x': 440, 'y': 944}, {'x': 543, 'y': 939}, {'x': 544, 'y': 966}, {'x': 441, 'y': 971}]}, ['Augen4']), ({'vertices': [{'x': 539, 'y': 940}, {'x': 554, 'y': 939}, {'x': 555, 'y': 965}, {'x': 540, 'y': 966}]}, ['/']), ({'vertices': [{'x': 550, 'y': 939}, {'x': 601, 'y': 937}, {'x': 602, 'y': 964}, {'x': 551, 'y': 966}]}, ['1985']), ({'vertices': [{'x': 607, 'y': 937}, {'x': 650, 'y': 935}, {'x': 651, 'y': 961}, {'x': 608, 'y': 963}]}, ['fat']), ({'vertices': [{'x': 650, 'y': 935}, {'x': 681, 'y': 934}, {'x': 682, 'y': 961}, {'x': 651, 'y': 962}]}, ['his']), ({'vertices': [{'x': 687, 'y': 933}, {'x': 721, 'y': 931}, {'x': 722, 'y': 958}, {'x': 688, 'y': 960}]}, ['der']), ({'vertices': [{'x': 1128, 'y': 892}, {'x': 1204, 'y': 893}, {'x': 1204, 'y': 915}, {'x': 1128, 'y': 914}]}, ['Beamten']), ({'vertices': [{'x': 1215, 'y': 892}, {'x': 1244, 'y': 892}, {'x': 1244, 'y': 914}, {'x': 1215, 'y': 914}]}, ['des']), ({'vertices': [{'x': 1254, 'y': 892}, {'x': 1359, 'y': 893}, {'x': 1359, 'y': 916}, {'x': 1254, 'y': 915}]}, ['Gwilstandes']), ({'vertices': [{'x': 1370, 'y': 893}, {'x': 1398, 'y': 893}, {'x': 1398, 'y': 915}, {'x': 1370, 'y': 915}]}, ['der']), ({'vertices': [{'x': 1407, 'y': 893}, {'x': 1540, 'y': 894}, {'x': 1540, 'y': 917}, {'x': 1407, 'y': 916}]}, ['Bürgermeisterei']), ({'vertices': [{'x': 1544, 'y': 894}, {'x': 1623, 'y': 895}, {'x': 1623, 'y': 918}, {'x': 1544, 'y': 917}]}, ['Merzig']), ({'vertices': [{'x': 1628, 'y': 895}, {'x': 1639, 'y': 895}, {'x': 1639, 'y': 917}, {'x': 1628, 'y': 917}]}, ['(']), ({'vertices': [{'x': 1636, 'y': 895}, {'x': 1685, 'y': 895}, {'x': 1685, 'y': 917}, {'x': 1636, 'y': 917}]}, ['Stabt']), ({'vertices': [{'x': 1686, 'y': 895}, {'x': 1695, 'y': 895}, {'x': 1695, 'y': 917}, {'x': 1686, 'y': 917}]}, [')']), ({'vertices': [{'x': 1693, 'y': 895}, {'x': 1699, 'y': 895}, {'x': 1699, 'y': 917}, {'x': 1693, 'y': 917}]}, [',']), ({'vertices': [{'x': 751, 'y': 903}, {'x': 937, 'y': 901}, {'x': 937, 'y': 953}, {'x': 752, 'y': 955}]}, ['Mirginitian']), ({'vertices': [{'x': 957, 'y': 901}, {'x': 1179, 'y': 899}, {'x': 1179, 'y': 951}, {'x': 958, 'y': 953}]}, ['Felsentral']), ({'vertices': [{'x': 1168, 'y': 899}, {'x': 1197, 'y': 899}, {'x': 1197, 'y': 950}, {'x': 1168, 'y': 950}]}, [',']), ({'vertices': [{'x': 1024, 'y': 964}, {'x': 1080, 'y': 964}, {'x': 1080, 'y': 992}, {'x': 1024, 'y': 992}]}, ['Jahre']), ({'vertices': [{'x': 1089, 'y': 964}, {'x': 1114, 'y': 964}, {'x': 1114, 'y': 992}, {'x': 1089, 'y': 992}]}, ['alt']), ({'vertices': [{'x': 1113, 'y': 964}, {'x': 1121, 'y': 964}, {'x': 1121, 'y': 992}, {'x': 1113, 'y': 992}]}, [',']), ({'vertices': [{'x': 1126, 'y': 964}, {'x': 1204, 'y': 964}, {'x': 1204, 'y': 992}, {'x': 1126, 'y': 992}]}, ['Standes']), ({'vertices': [{'x': 1284, 'y': 965}, {'x': 1379, 'y': 965}, {'x': 1379, 'y': 993}, {'x': 1284, 'y': 993}]}, ['fenrur']), ({'vertices': [{'x': 1379, 'y': 965}, {'x': 1396, 'y': 965}, {'x': 1396, 'y': 993}, {'x': 1379, 'y': 993}]}, ['.']), ({'vertices': [{'x': 1111, 'y': 1008}, {'x': 1173, 'y': 1008}, {'x': 1173, 'y': 1026}, {'x': 1111, 'y': 1026}]}, ['welcher']), ({'vertices': [{'x': 1183, 'y': 1008}, {'x': 1215, 'y': 1008}, {'x': 1215, 'y': 1026}, {'x': 1183, 'y': 1026}]}, ['mir']), ({'vertices': [{'x': 1225, 'y': 1008}, {'x': 1289, 'y': 1008}, {'x': 1289, 'y': 1026}, {'x': 1225, 'y': 1026}]}, ['erklärte']), ({'vertices': [{'x': 1289, 'y': 1008}, {'x': 1296, 'y': 1008}, {'x': 1296, 'y': 1026}, {'x': 1289, 'y': 1026}]}, [',']), ({'vertices': [{'x': 1307, 'y': 1008}, {'x': 1338, 'y': 1008}, {'x': 1338, 'y': 1026}, {'x': 1307, 'y': 1026}]}, ['daß']), ({'vertices': [{'x': 1349, 'y': 1009}, {'x': 1379, 'y': 1009}, {'x': 1379, 'y': 1027}, {'x': 1349, 'y': 1027}]}, ['von']), ({'vertices': [{'x': 432, 'y': 1020}, {'x': 537, 'y': 1020}, {'x': 537, 'y': 1090}, {'x': 432, 'y': 1090}]}, ['anche']), ({'vertices': [{'x': 524, 'y': 1020}, {'x': 625, 'y': 1020}, {'x': 625, 'y': 1090}, {'x': 524, 'y': 1090}]}, ['das']), ({'vertices': [{'x': 603, 'y': 1020}, {'x': 683, 'y': 1020}, {'x': 683, 'y': 1090}, {'x': 603, 'y': 1090}]}, ['dr']), ({'vertices': [{'x': 660, 'y': 1020}, {'x': 703, 'y': 1020}, {'x': 703, 'y': 1090}, {'x': 660, 'y': 1090}]}, ['.']), ({'vertices': [{'x': 696, 'y': 1020}, {'x': 815, 'y': 1020}, {'x': 815, 'y': 1090}, {'x': 696, 'y': 1090}]}, ['Strauſs']), ({'vertices': [{'x': 815, 'y': 1020}, {'x': 844, 'y': 1020}, {'x': 844, 'y': 1090}, {'x': 815, 'y': 1090}]}, [',']), ({'vertices': [{'x': 849, 'y': 1020}, {'x': 931, 'y': 1020}, {'x': 931, 'y': 1090}, {'x': 849, 'y': 1090}]}, ['recht']), ({'vertices': [{'x': 919, 'y': 1020}, {'x': 999, 'y': 1020}, {'x': 999, 'y': 1090}, {'x': 919, 'y': 1090}]}, ['und']), ({'vertices': [{'x': 979, 'y': 1020}, {'x': 1145, 'y': 1020}, {'x': 1145, 'y': 1090}, {'x': 979, 'y': 1090}]}, ['dichting']), ({'vertices': [{'x': 1128, 'y': 1020}, {'x': 1229, 'y': 1020}, {'x': 1229, 'y': 1090}, {'x': 1128, 'y': 1090}]}, ['Fähre']), ({'vertices': [{'x': 1229, 'y': 1020}, {'x': 1320, 'y': 1020}, {'x': 1320, 'y': 1090}, {'x': 1229, 'y': 1090}]}, ['alt']), ({'vertices': [{'x': 1295, 'y': 1020}, {'x': 1330, 'y': 1020}, {'x': 1330, 'y': 1090}, {'x': 1295, 'y': 1090}]}, [',']), ({'vertices': [{'x': 1318, 'y': 1020}, {'x': 1413, 'y': 1020}, {'x': 1413, 'y': 1090}, {'x': 1318, 'y': 1090}]}, ['ahme']), ({'vertices': [{'x': 1395, 'y': 1020}, {'x': 1499, 'y': 1020}, {'x': 1499, 'y': 1090}, {'x': 1395, 'y': 1090}]}, ['before']), ({'vertices': [{'x': 1475, 'y': 1020}, {'x': 1511, 'y': 1020}, {'x': 1511, 'y': 1090}, {'x': 1475, 'y': 1090}]}, [',']), ({'vertices': [{'x': 400, 'y': 1105}, {'x': 470, 'y': 1102}, {'x': 472, 'y': 1144}, {'x': 402, 'y': 1147}]}, ['man']), ({'vertices': [{'x': 504, 'y': 1099}, {'x': 660, 'y': 1091}, {'x': 662, 'y': 1134}, {'x': 506, 'y': 1142}]}, ['Sarama']), ({'vertices': [{'x': 661, 'y': 1092}, {'x': 680, 'y': 1091}, {'x': 682, 'y': 1133}, {'x': 663, 'y': 1134}]}, ['.']), ({'vertices': [{'x': 436, 'y': 1165}, {'x': 478, 'y': 1165}, {'x': 478, 'y': 1197}, {'x': 436, 'y': 1197}]}, ['the']), ({'vertices': [{'x': 487, 'y': 1165}, {'x': 570, 'y': 1165}, {'x': 570, 'y': 1196}, {'x': 487, 'y': 1196}]}, ['Nantal']), ({'vertices': [{'x': 569, 'y': 1164}, {'x': 643, 'y': 1164}, {'x': 643, 'y': 1196}, {'x': 569, 'y': 1196}]}, ['busonh']), ({'vertices': [{'x': 457, 'y': 1205}, {'x': 492, 'y': 1205}, {'x': 492, 'y': 1233}, {'x': 457, 'y': 1233}]}, ['Je']), ({'vertices': [{'x': 493, 'y': 1205}, {'x': 631, 'y': 1205}, {'x': 631, 'y': 1233}, {'x': 493, 'y': 1233}]}, ['voertung']), ({'vertices': [{'x': 624, 'y': 1205}, {'x': 644, 'y': 1205}, {'x': 644, 'y': 1233}, {'x': 624, 'y': 1233}]}, [':']), ({'vertices': [{'x': 392, 'y': 1296}, {'x': 524, 'y': 1298}, {'x': 523, 'y': 1330}, {'x': 391, 'y': 1328}]}, ['Gestricken']), ({'vertices': [{'x': 537, 'y': 1299}, {'x': 635, 'y': 1301}, {'x': 634, 'y': 1332}, {'x': 536, 'y': 1330}]}, ['gemags']), ({'vertices': [{'x': 395, 'y': 1323}, {'x': 525, 'y': 1318}, {'x': 526, 'y': 1354}, {'x': 396, 'y': 1359}]}, ['defügung']), ({'vertices': [{'x': 530, 'y': 1318}, {'x': 578, 'y': 1316}, {'x': 579, 'y': 1352}, {'x': 531, 'y': 1354}]}, ['des']), ({'vertices': [{'x': 586, 'y': 1316}, {'x': 639, 'y': 1314}, {'x': 640, 'y': 1349}, {'x': 587, 'y': 1351}]}, ['Re-']), ({'vertices': [{'x': 400, 'y': 1358}, {'x': 628, 'y': 1359}, {'x': 628, 'y': 1389}, {'x': 400, 'y': 1388}]}, ['geingerändin']), ({'vertices': [{'x': 399, 'y': 1385}, {'x': 453, 'y': 1386}, {'x': 452, 'y': 1415}, {'x': 398, 'y': 1414}]}, ['Zaar']), ({'vertices': [{'x': 448, 'y': 1386}, {'x': 464, 'y': 1386}, {'x': 463, 'y': 1414}, {'x': 447, 'y': 1414}]}, [',']), ({'vertices': [{'x': 463, 'y': 1386}, {'x': 589, 'y': 1388}, {'x': 588, 'y': 1417}, {'x': 462, 'y': 1415}]}, ['Ableitung']), ({'vertices': [{'x': 592, 'y': 1389}, {'x': 633, 'y': 1390}, {'x': 632, 'y': 1418}, {'x': 591, 'y': 1417}]}, ['des']), ({'vertices': [{'x': 400, 'y': 1412}, {'x': 471, 'y': 1414}, {'x': 470, 'y': 1434}, {'x': 399, 'y': 1432}]}, ['Jun']), ({'vertices': [{'x': 495, 'y': 1414}, {'x': 551, 'y': 1415}, {'x': 550, 'y': 1435}, {'x': 494, 'y': 1434}]}, ['vom']), ({'vertices': [{'x': 558, 'y': 1415}, {'x': 635, 'y': 1417}, {'x': 634, 'y': 1438}, {'x': 557, 'y': 1436}]}, ['8.april']), ({'vertices': [{'x': 633, 'y': 1418}, {'x': 645, 'y': 1418}, {'x': 644, 'y': 1438}, {'x': 632, 'y': 1438}]}, ['.']), ({'vertices': [{'x': 403, 'y': 1437}, {'x': 453, 'y': 1442}, {'x': 451, 'y': 1460}, {'x': 401, 'y': 1455}]}, ['1946']), ({'vertices': [{'x': 452, 'y': 1443}, {'x': 460, 'y': 1444}, {'x': 458, 'y': 1461}, {'x': 450, 'y': 1460}]}, ['.']), ({'vertices': [{'x': 402, 'y': 1467}, {'x': 466, 'y': 1474}, {'x': 463, 'y': 1503}, {'x': 399, 'y': 1496}]}, ['Mezig']), ({'vertices': [{'x': 461, 'y': 1474}, {'x': 473, 'y': 1475}, {'x': 470, 'y': 1503}, {'x': 458, 'y': 1502}]}, ['.']), ({'vertices': [{'x': 476, 'y': 1472}, {'x': 507, 'y': 1472}, {'x': 507, 'y': 1489}, {'x': 476, 'y': 1489}]}, ['An']), ({'vertices': [{'x': 523, 'y': 1472}, {'x': 549, 'y': 1472}, {'x': 549, 'y': 1488}, {'x': 523, 'y': 1488}]}, ['8.']), ({'vertices': [{'x': 546, 'y': 1472}, {'x': 602, 'y': 1472}, {'x': 602, 'y': 1488}, {'x': 546, 'y': 1488}]}, ['Mai']), ({'vertices': [{'x': 609, 'y': 1472}, {'x': 649, 'y': 1472}, {'x': 649, 'y': 1488}, {'x': 609, 'y': 1488}]}, ['1946']), ({'vertices': [{'x': 645, 'y': 1472}, {'x': 654, 'y': 1472}, {'x': 654, 'y': 1488}, {'x': 645, 'y': 1488}]}, ['.']), ({'vertices': [{'x': 421, 'y': 1505}, {'x': 451, 'y': 1505}, {'x': 451, 'y': 1524}, {'x': 421, 'y': 1524}]}, ['de']), ({'vertices': [{'x': 468, 'y': 1505}, {'x': 646, 'y': 1507}, {'x': 646, 'y': 1527}, {'x': 468, 'y': 1525}]}, ['Standesbranite']), ({'vertices': [{'x': 435, 'y': 1542}, {'x': 463, 'y': 1543}, {'x': 463, 'y': 1557}, {'x': 435, 'y': 1556}]}, ['Tu']), ({'vertices': [{'x': 473, 'y': 1542}, {'x': 500, 'y': 1543}, {'x': 500, 'y': 1557}, {'x': 473, 'y': 1556}]}, ['va']), ({'vertices': [{'x': 411, 'y': 1675}, {'x': 476, 'y': 1676}, {'x': 476, 'y': 1690}, {'x': 411, 'y': 1689}]}, ['Gistoben']), ({'vertices': [{'x': 397, 'y': 1721}, {'x': 405, 'y': 1721}, {'x': 405, 'y': 1736}, {'x': 397, 'y': 1736}]}, ['(']), ({'vertices': [{'x': 401, 'y': 1721}, {'x': 481, 'y': 1721}, {'x': 481, 'y': 1736}, {'x': 401, 'y': 1736}]}, ['Stanamt']), ({'vertices': [{'x': 472, 'y': 1539}, {'x': 591, 'y': 1544}, {'x': 590, 'y': 1577}, {'x': 471, 'y': 1572}]}, ['vastching']), ({'vertices': [{'x': 581, 'y': 1544}, {'x': 599, 'y': 1545}, {'x': 598, 'y': 1577}, {'x': 580, 'y': 1576}]}, ['.']), ({'vertices': [{'x': 540, 'y': 1641}, {'x': 657, 'y': 1641}, {'x': 657, 'y': 1660}, {'x': 540, 'y': 1660}]}, ['3.4.1955']), ({'vertices': [{'x': 518, 'y': 1683}, {'x': 672, 'y': 1692}, {'x': 670, 'y': 1724}, {'x': 516, 'y': 1715}]}, ['мезднат']), ({'vertices': [{'x': 493, 'y': 1727}, {'x': 631, 'y': 1730}, {'x': 630, 'y': 1758}, {'x': 492, 'y': 1755}]}, ['95,7955']), ({'vertices': [{'x': 632, 'y': 1730}, {'x': 643, 'y': 1730}, {'x': 642, 'y': 1757}, {'x': 631, 'y': 1757}]}, [')']), ({'vertices': [{'x': 695, 'y': 1170}, {'x': 778, 'y': 1172}, {'x': 777, 'y': 1191}, {'x': 695, 'y': 1189}]}, ['wohnhaft']), ({'vertices': [{'x': 787, 'y': 1173}, {'x': 807, 'y': 1174}, {'x': 807, 'y': 1192}, {'x': 787, 'y': 1191}]}, ['zu']), ({'vertices': [{'x': 774, 'y': 1208}, {'x': 919, 'y': 1224}, {'x': 912, 'y': 1286}, {'x': 767, 'y': 1270}]}, ['Margery']), ({'vertices': [{'x': 669, 'y': 1258}, {'x': 892, 'y': 1266}, {'x': 890, 'y': 1322}, {'x': 667, 'y': 1314}]}, ['Zweiblichen']), ({'vertices': [{'x': 733, 'y': 1401}, {'x': 745, 'y': 1401}, {'x': 745, 'y': 1414}, {'x': 733, 'y': 1414}]}, ['1']), ({'vertices': [{'x': 741, 'y': 1401}, {'x': 752, 'y': 1401}, {'x': 752, 'y': 1414}, {'x': 741, 'y': 1414}]}, [')']), ({'vertices': [{'x': 953, 'y': 1209}, {'x': 1013, 'y': 1208}, {'x': 1013, 'y': 1225}, {'x': 953, 'y': 1226}]}, ['Jahres']), ({'vertices': [{'x': 1023, 'y': 1181}, {'x': 1164, 'y': 1188}, {'x': 1161, 'y': 1237}, {'x': 1021, 'y': 1230}]}, ['Nachth']), ({'vertices': [{'x': 1355, 'y': 1184}, {'x': 1393, 'y': 1185}, {'x': 1392, 'y': 1235}, {'x': 1354, 'y': 1234}]}, ['W']), ({'vertices': [{'x': 1417, 'y': 1185}, {'x': 1463, 'y': 1186}, {'x': 1462, 'y': 1236}, {'x': 1416, 'y': 1235}]}, ['die']), ({'vertices': [{'x': 1467, 'y': 1186}, {'x': 1570, 'y': 1188}, {'x': 1569, 'y': 1238}, {'x': 1466, 'y': 1236}]}, ['seiner']), ({'vertices': [{'x': 1596, 'y': 1189}, {'x': 1754, 'y': 1193}, {'x': 1753, 'y': 1243}, {'x': 1595, 'y': 1239}]}, ['Wohnung']), ({'vertices': [{'x': 1428, 'y': 1232}, {'x': 1670, 'y': 1233}, {'x': 1670, 'y': 1293}, {'x': 1428, 'y': 1292}]}, ['Jusanna']), ({'vertices': [{'x': 902, 'y': 1285}, {'x': 994, 'y': 1284}, {'x': 994, 'y': 1304}, {'x': 902, 'y': 1305}]}, ['Geichlechts']), ({'vertices': [{'x': 1006, 'y': 1283}, {'x': 1073, 'y': 1282}, {'x': 1073, 'y': 1302}, {'x': 1006, 'y': 1303}]}, ['geboren']), ({'vertices': [{'x': 1084, 'y': 1283}, {'x': 1106, 'y': 1283}, {'x': 1106, 'y': 1302}, {'x': 1084, 'y': 1302}]}, ['sei']), ({'vertices': [{'x': 1105, 'y': 1282}, {'x': 1110, 'y': 1282}, {'x': 1110, 'y': 1301}, {'x': 1105, 'y': 1301}]}, [',']), ({'vertices': [{'x': 1124, 'y': 1282}, {'x': 1193, 'y': 1281}, {'x': 1193, 'y': 1301}, {'x': 1124, 'y': 1302}]}, ['welchem']), ({'vertices': [{'x': 1205, 'y': 1280}, {'x': 1256, 'y': 1279}, {'x': 1256, 'y': 1299}, {'x': 1205, 'y': 1300}]}, ['Rinde']), ({'vertices': [{'x': 1265, 'y': 1280}, {'x': 1295, 'y': 1280}, {'x': 1295, 'y': 1299}, {'x': 1265, 'y': 1299}]}, ['de']), ({'vertices': [{'x': 1326, 'y': 1279}, {'x': 1406, 'y': 1278}, {'x': 1406, 'y': 1298}, {'x': 1326, 'y': 1299}]}, ['Borname']), ({'vertices': [{'x': 1206, 'y': 1319}, {'x': 1279, 'y': 1317}, {'x': 1280, 'y': 1339}, {'x': 1207, 'y': 1341}]}, ['beigelegt']), ({'vertices': [{'x': 1287, 'y': 1317}, {'x': 1341, 'y': 1315}, {'x': 1342, 'y': 1336}, {'x': 1288, 'y': 1338}]}, ['wurde']), ({'vertices': [{'x': 749, 'y': 1360}, {'x': 796, 'y': 1359}, {'x': 796, 'y': 1383}, {'x': 749, 'y': 1384}]}, ['Diefe']), ({'vertices': [{'x': 804, 'y': 1360}, {'x': 838, 'y': 1360}, {'x': 838, 'y': 1383}, {'x': 804, 'y': 1383}]}, ['you']), ({'vertices': [{'x': 847, 'y': 1359}, {'x': 878, 'y': 1359}, {'x': 878, 'y': 1382}, {'x': 847, 'y': 1382}]}, ['mir']), ({'vertices': [{'x': 888, 'y': 1358}, {'x': 1017, 'y': 1356}, {'x': 1017, 'y': 1380}, {'x': 888, 'y': 1382}]}, ['aufgenommene']), ({'vertices': [{'x': 1027, 'y': 1357}, {'x': 1116, 'y': 1356}, {'x': 1116, 'y': 1379}, {'x': 1027, 'y': 1380}]}, ['Erklärung']), ({'vertices': [{'x': 1125, 'y': 1356}, {'x': 1145, 'y': 1356}, {'x': 1145, 'y': 1379}, {'x': 1125, 'y': 1379}]}, ['ist']), ({'vertices': [{'x': 1154, 'y': 1355}, {'x': 1231, 'y': 1354}, {'x': 1231, 'y': 1378}, {'x': 1154, 'y': 1379}]}, ['geschchen']), ({'vertices': [{'x': 1243, 'y': 1354}, {'x': 1258, 'y': 1354}, {'x': 1258, 'y': 1377}, {'x': 1243, 'y': 1377}]}, ['in']), ({'vertices': [{'x': 1270, 'y': 1354}, {'x': 1379, 'y': 1353}, {'x': 1379, 'y': 1377}, {'x': 1270, 'y': 1378}]}, ['Newesenheit']), ({'vertices': [{'x': 1386, 'y': 1352}, {'x': 1413, 'y': 1352}, {'x': 1413, 'y': 1376}, {'x': 1386, 'y': 1376}]}, ['der']), ({'vertices': [{'x': 1424, 'y': 1352}, {'x': 1477, 'y': 1351}, {'x': 1477, 'y': 1375}, {'x': 1424, 'y': 1376}]}, ['beiden']), ({'vertices': [{'x': 1488, 'y': 1351}, {'x': 1548, 'y': 1350}, {'x': 1548, 'y': 1374}, {'x': 1488, 'y': 1375}]}, ['Jengen']), ({'vertices': [{'x': 1548, 'y': 1351}, {'x': 1554, 'y': 1351}, {'x': 1554, 'y': 1374}, {'x': 1548, 'y': 1374}]}, [',']), ({'vertices': [{'x': 1564, 'y': 1350}, {'x': 1592, 'y': 1350}, {'x': 1592, 'y': 1373}, {'x': 1564, 'y': 1373}]}, ['als']), ({'vertices': [{'x': 1601, 'y': 1349}, {'x': 1661, 'y': 1348}, {'x': 1661, 'y': 1372}, {'x': 1601, 'y': 1373}]}, ['němlid']), ({'vertices': [{'x': 1659, 'y': 1349}, {'x': 1666, 'y': 1349}, {'x': 1666, 'y': 1372}, {'x': 1659, 'y': 1372}]}, [')']), ({'vertices': [{'x': 1668, 'y': 1349}, {'x': 1675, 'y': 1349}, {'x': 1675, 'y': 1372}, {'x': 1668, 'y': 1372}]}, [':']), ({'vertices': [{'x': 767, 'y': 1387}, {'x': 855, 'y': 1385}, {'x': 856, 'y': 1434}, {'x': 768, 'y': 1436}]}, ['Julie']), ({'vertices': [{'x': 879, 'y': 1385}, {'x': 1026, 'y': 1382}, {'x': 1027, 'y': 1431}, {'x': 880, 'y': 1434}]}, ['Freiberg']), ({'vertices': [{'x': 1024, 'y': 1383}, {'x': 1055, 'y': 1382}, {'x': 1056, 'y': 1430}, {'x': 1025, 'y': 1431}]}, [',']), ({'vertices': [{'x': 1049, 'y': 1382}, {'x': 1135, 'y': 1381}, {'x': 1136, 'y': 1430}, {'x': 1050, 'y': 1431}]}, ['deci']), ({'vertices': [{'x': 1135, 'y': 1381}, {'x': 1206, 'y': 1380}, {'x': 1207, 'y': 1428}, {'x': 1136, 'y': 1429}]}, ['cam']), ({'vertices': [{'x': 695, 'y': 1430}, {'x': 751, 'y': 1428}, {'x': 752, 'y': 1465}, {'x': 696, 'y': 1467}]}, ['Jahre']), ({'vertices': [{'x': 759, 'y': 1428}, {'x': 785, 'y': 1427}, {'x': 786, 'y': 1464}, {'x': 760, 'y': 1465}]}, ['alt']), ({'vertices': [{'x': 784, 'y': 1427}, {'x': 793, 'y': 1427}, {'x': 794, 'y': 1463}, {'x': 785, 'y': 1463}]}, [',']), ({'vertices': [{'x': 799, 'y': 1426}, {'x': 880, 'y': 1423}, {'x': 881, 'y': 1460}, {'x': 800, 'y': 1463}]}, ['Standes']), ({'vertices': [{'x': 892, 'y': 1423}, {'x': 1063, 'y': 1417}, {'x': 1064, 'y': 1454}, {'x': 893, 'y': 1460}]}, ['Harbier']), ({'vertices': [{'x': 1067, 'y': 1417}, {'x': 1087, 'y': 1416}, {'x': 1088, 'y': 1452}, {'x': 1068, 'y': 1453}]}, [',']), ({'vertices': [{'x': 695, 'y': 1460}, {'x': 783, 'y': 1459}, {'x': 783, 'y': 1497}, {'x': 695, 'y': 1498}]}, ['wohnhaft']), ({'vertices': [{'x': 787, 'y': 1459}, {'x': 819, 'y': 1459}, {'x': 819, 'y': 1497}, {'x': 787, 'y': 1497}]}, ['zu']), ({'vertices': [{'x': 829, 'y': 1459}, {'x': 986, 'y': 1457}, {'x': 986, 'y': 1494}, {'x': 829, 'y': 1496}]}, ['Mersin']), ({'vertices': [{'x': 762, 'y': 1493}, {'x': 861, 'y': 1492}, {'x': 861, 'y': 1544}, {'x': 762, 'y': 1545}]}, ['Peter']), ({'vertices': [{'x': 872, 'y': 1492}, {'x': 1024, 'y': 1491}, {'x': 1024, 'y': 1543}, {'x': 872, 'y': 1544}]}, ['Müller']), ({'vertices': [{'x': 1023, 'y': 1492}, {'x': 1046, 'y': 1492}, {'x': 1046, 'y': 1543}, {'x': 1023, 'y': 1543}]}, [',']), ({'vertices': [{'x': 1046, 'y': 1491}, {'x': 1136, 'y': 1490}, {'x': 1136, 'y': 1542}, {'x': 1046, 'y': 1543}]}, ['dreich']), ({'vertices': [{'x': 698, 'y': 1546}, {'x': 752, 'y': 1544}, {'x': 754, 'y': 1579}, {'x': 700, 'y': 1582}]}, ['Jahre']), ({'vertices': [{'x': 760, 'y': 1543}, {'x': 787, 'y': 1542}, {'x': 789, 'y': 1578}, {'x': 762, 'y': 1579}]}, ['alt']), ({'vertices': [{'x': 784, 'y': 1543}, {'x': 792, 'y': 1543}, {'x': 794, 'y': 1578}, {'x': 786, 'y': 1578}]}, [',']), ({'vertices': [{'x': 801, 'y': 1542}, {'x': 880, 'y': 1538}, {'x': 882, 'y': 1573}, {'x': 803, 'y': 1577}]}, ['Standes']), ({'vertices': [{'x': 917, 'y': 1536}, {'x': 1060, 'y': 1529}, {'x': 1061, 'y': 1565}, {'x': 919, 'y': 1572}]}, ['ribete']), ({'vertices': [{'x': 700, 'y': 1591}, {'x': 783, 'y': 1591}, {'x': 783, 'y': 1608}, {'x': 700, 'y': 1608}]}, ['wohnhaft']), ({'vertices': [{'x': 796, 'y': 1591}, {'x': 815, 'y': 1591}, {'x': 815, 'y': 1608}, {'x': 796, 'y': 1608}]}, ['zu']), ({'vertices': [{'x': 815, 'y': 1591}, {'x': 824, 'y': 1591}, {'x': 824, 'y': 1608}, {'x': 815, 'y': 1608}]}, ['.']), ({'vertices': [{'x': 841, 'y': 1565}, {'x': 1000, 'y': 1585}, {'x': 993, 'y': 1635}, {'x': 835, 'y': 1615}]}, ['Merzig']), ({'vertices': [{'x': 754, 'y': 1628}, {'x': 874, 'y': 1626}, {'x': 874, 'y': 1650}, {'x': 754, 'y': 1652}]}, ['Gegenwärtige']), ({'vertices': [{'x': 880, 'y': 1626}, {'x': 954, 'y': 1625}, {'x': 954, 'y': 1649}, {'x': 880, 'y': 1650}]}, ['Urkunde']), ({'vertices': [{'x': 964, 'y': 1625}, {'x': 970, 'y': 1625}, {'x': 970, 'y': 1648}, {'x': 964, 'y': 1648}]}, ['i']), ({'vertices': [{'x': 993, 'y': 1625}, {'x': 1067, 'y': 1624}, {'x': 1067, 'y': 1647}, {'x': 993, 'y': 1648}]}, ['demnach']), ({'vertices': [{'x': 1075, 'y': 1624}, {'x': 1092, 'y': 1624}, {'x': 1092, 'y': 1647}, {'x': 1075, 'y': 1647}]}, ['in']), ({'vertices': [{'x': 1102, 'y': 1623}, {'x': 1188, 'y': 1622}, {'x': 1188, 'y': 1646}, {'x': 1102, 'y': 1647}]}, ['doppeltem']), ({'vertices': [{'x': 1198, 'y': 1621}, {'x': 1274, 'y': 1620}, {'x': 1274, 'y': 1644}, {'x': 1198, 'y': 1645}]}, ['Original']), ({'vertices': [{'x': 1283, 'y': 1620}, {'x': 1401, 'y': 1618}, {'x': 1401, 'y': 1642}, {'x': 1283, 'y': 1644}]}, ['aufgenommen']), ({'vertices': [{'x': 1400, 'y': 1619}, {'x': 1406, 'y': 1619}, {'x': 1406, 'y': 1642}, {'x': 1400, 'y': 1642}]}, [',']), ({'vertices': [{'x': 1414, 'y': 1619}, {'x': 1477, 'y': 1618}, {'x': 1477, 'y': 1641}, {'x': 1414, 'y': 1642}]}, ['dce']), ({'vertices': [{'x': 1501, 'y': 1617}, {'x': 1588, 'y': 1616}, {'x': 1588, 'y': 1640}, {'x': 1501, 'y': 1641}]}, ['Declarant']), ({'vertices': [{'x': 1634, 'y': 1615}, {'x': 1668, 'y': 1614}, {'x': 1668, 'y': 1637}, {'x': 1634, 'y': 1638}]}, ['und']), ({'vertices': [{'x': 1675, 'y': 1615}, {'x': 1703, 'y': 1615}, {'x': 1703, 'y': 1638}, {'x': 1675, 'y': 1638}]}, ['den']), ({'vertices': [{'x': 701, 'y': 1666}, {'x': 765, 'y': 1665}, {'x': 765, 'y': 1689}, {'x': 701, 'y': 1690}]}, ['Zengen']), ({'vertices': [{'x': 776, 'y': 1665}, {'x': 864, 'y': 1663}, {'x': 864, 'y': 1687}, {'x': 776, 'y': 1689}]}, ['vorgeféien']), ({'vertices': [{'x': 875, 'y': 1663}, {'x': 908, 'y': 1662}, {'x': 908, 'y': 1685}, {'x': 875, 'y': 1686}]}, ['und']), ({'vertices': [{'x': 914, 'y': 1662}, {'x': 944, 'y': 1661}, {'x': 944, 'y': 1685}, {'x': 914, 'y': 1686}]}, ['mit']), ({'vertices': [{'x': 949, 'y': 1662}, {'x': 1029, 'y': 1661}, {'x': 1029, 'y': 1685}, {'x': 949, 'y': 1686}]}, ['denselben']), ({'vertices': [{'x': 1040, 'y': 1660}, {'x': 1073, 'y': 1659}, {'x': 1073, 'y': 1683}, {'x': 1040, 'y': 1684}]}, ['von']), ({'vertices': [{'x': 1078, 'y': 1660}, {'x': 1110, 'y': 1659}, {'x': 1110, 'y': 1682}, {'x': 1078, 'y': 1683}]}, ['mir']), ({'vertices': [{'x': 1116, 'y': 1659}, {'x': 1235, 'y': 1657}, {'x': 1235, 'y': 1681}, {'x': 1116, 'y': 1683}]}, ['unterschrieben']), ({'vertices': [{'x': 1239, 'y': 1657}, {'x': 1305, 'y': 1656}, {'x': 1305, 'y': 1680}, {'x': 1239, 'y': 1681}]}, ['worden']), ({'vertices': [{'x': 1302, 'y': 1656}, {'x': 1309, 'y': 1656}, {'x': 1309, 'y': 1679}, {'x': 1302, 'y': 1679}]}, ['.']), ({'vertices': [{'x': 751, 'y': 1697}, {'x': 842, 'y': 1696}, {'x': 843, 'y': 1757}, {'x': 752, 'y': 1758}]}, ['Man']), ({'vertices': [{'x': 856, 'y': 1694}, {'x': 1073, 'y': 1691}, {'x': 1074, 'y': 1753}, {'x': 857, 'y': 1756}]}, ['Jebsenthal']), ({'vertices': [{'x': 1099, 'y': 1691}, {'x': 1155, 'y': 1690}, {'x': 1156, 'y': 1751}, {'x': 1100, 'y': 1752}]}, ['J.']), ({'vertices': [{'x': 1147, 'y': 1690}, {'x': 1307, 'y': 1688}, {'x': 1308, 'y': 1750}, {'x': 1148, 'y': 1752}]}, ['Seiberg']), ({'vertices': [{'x': 1334, 'y': 1687}, {'x': 1556, 'y': 1684}, {'x': 1557, 'y': 1746}, {'x': 1335, 'y': 1749}]}, ['PMülle']), ({'vertices': [{'x': 290, 'y': 1931}, {'x': 458, 'y': 1931}, {'x': 458, 'y': 1972}, {'x': 290, 'y': 1972}]}, ['Susanna']), ({'vertices': [{'x': 473, 'y': 1931}, {'x': 681, 'y': 1931}, {'x': 681, 'y': 1972}, {'x': 473, 'y': 1972}]}, ['Felsenthal']), ({'vertices': [{'x': 693, 'y': 1931}, {'x': 851, 'y': 1931}, {'x': 851, 'y': 1972}, {'x': 693, 'y': 1972}]}, ['wohnte']), ({'vertices': [{'x': 863, 'y': 1931}, {'x': 897, 'y': 1931}, {'x': 897, 'y': 1972}, {'x': 863, 'y': 1972}]}, ['in']), ({'vertices': [{'x': 914, 'y': 1931}, {'x': 983, 'y': 1931}, {'x': 983, 'y': 1972}, {'x': 914, 'y': 1972}]}, ['der']), ({'vertices': [{'x': 995, 'y': 1931}, {'x': 1207, 'y': 1931}, {'x': 1207, 'y': 1972}, {'x': 995, 'y': 1972}]}, ['Feldstraße']), ({'vertices': [{'x': 1220, 'y': 1931}, {'x': 1245, 'y': 1931}, {'x': 1245, 'y': 1972}, {'x': 1220, 'y': 1972}]}, ['5']), ({'vertices': [{'x': 1257, 'y': 1931}, {'x': 1272, 'y': 1931}, {'x': 1272, 'y': 1972}, {'x': 1257, 'y': 1972}]}, ['(']), ({'vertices': [{'x': 1274, 'y': 1931}, {'x': 1392, 'y': 1931}, {'x': 1392, 'y': 1972}, {'x': 1274, 'y': 1972}]}, ['heute']), ({'vertices': [{'x': 1401, 'y': 1931}, {'x': 1470, 'y': 1931}, {'x': 1470, 'y': 1972}, {'x': 1401, 'y': 1972}]}, ['Am']), ({'vertices': [{'x': 1487, 'y': 1931}, {'x': 1667, 'y': 1931}, {'x': 1667, 'y': 1972}, {'x': 1487, 'y': 1972}]}, ['Feldchen']), ({'vertices': [{'x': 1670, 'y': 1931}, {'x': 1685, 'y': 1931}, {'x': 1685, 'y': 1972}, {'x': 1670, 'y': 1972}]}, [')']), ({'vertices': [{'x': 1697, 'y': 1931}, {'x': 1744, 'y': 1931}, {'x': 1744, 'y': 1972}, {'x': 1697, 'y': 1972}]}, ['im']), ({'vertices': [{'x': 1762, 'y': 1931}, {'x': 1886, 'y': 1931}, {'x': 1886, 'y': 1972}, {'x': 1762, 'y': 1972}]}, ['Hause']), ({'vertices': [{'x': 1899, 'y': 1931}, {'x': 1968, 'y': 1931}, {'x': 1968, 'y': 1972}, {'x': 1899, 'y': 1972}]}, ['der']), ({'vertices': [{'x': 279, 'y': 2002}, {'x': 528, 'y': 2002}, {'x': 528, 'y': 2044}, {'x': 279, 'y': 2044}]}, ['Geschwister']), ({'vertices': [{'x': 542, 'y': 2002}, {'x': 634, 'y': 2002}, {'x': 634, 'y': 2044}, {'x': 542, 'y': 2044}]}, ['Levy']), ({'vertices': [{'x': 632, 'y': 2002}, {'x': 644, 'y': 2002}, {'x': 644, 'y': 2044}, {'x': 632, 'y': 2044}]}, ['.']), ({'vertices': [{'x': 660, 'y': 2002}, {'x': 758, 'y': 2002}, {'x': 758, 'y': 2044}, {'x': 660, 'y': 2044}]}, ['1939']), ({'vertices': [{'x': 769, 'y': 2002}, {'x': 902, 'y': 2002}, {'x': 902, 'y': 2044}, {'x': 769, 'y': 2044}]}, ['wurde']), ({'vertices': [{'x': 915, 'y': 2002}, {'x': 1053, 'y': 2002}, {'x': 1053, 'y': 2044}, {'x': 915, 'y': 2044}]}, ['infolge']), ({'vertices': [{'x': 1067, 'y': 2002}, {'x': 1136, 'y': 2002}, {'x': 1136, 'y': 2044}, {'x': 1067, 'y': 2044}]}, ['des']), ({'vertices': [{'x': 1149, 'y': 2002}, {'x': 1429, 'y': 2002}, {'x': 1429, 'y': 2044}, {'x': 1149, 'y': 2044}]}, ['2.Weltkrieges']), ({'vertices': [{'x': 1441, 'y': 2002}, {'x': 1504, 'y': 2002}, {'x': 1504, 'y': 2044}, {'x': 1441, 'y': 2044}]}, ['die']), ({'vertices': [{'x': 1518, 'y': 2002}, {'x': 1772, 'y': 2002}, {'x': 1772, 'y': 2044}, {'x': 1518, 'y': 2044}]}, ['Bevölkerung']), ({'vertices': [{'x': 1783, 'y': 2002}, {'x': 1855, 'y': 2002}, {'x': 1855, 'y': 2044}, {'x': 1783, 'y': 2044}]}, ['aus']), ({'vertices': [{'x': 1864, 'y': 2002}, {'x': 1937, 'y': 2002}, {'x': 1937, 'y': 2044}, {'x': 1864, 'y': 2044}]}, ['der']), ({'vertices': [{'x': 277, 'y': 2075}, {'x': 541, 'y': 2074}, {'x': 541, 'y': 2118}, {'x': 277, 'y': 2119}]}, ['sogenannten']), ({'vertices': [{'x': 558, 'y': 2074}, {'x': 674, 'y': 2073}, {'x': 674, 'y': 2116}, {'x': 558, 'y': 2117}]}, ['Roten']), ({'vertices': [{'x': 688, 'y': 2073}, {'x': 790, 'y': 2073}, {'x': 790, 'y': 2117}, {'x': 688, 'y': 2117}]}, ['Zone']), ({'vertices': [{'x': 802, 'y': 2073}, {'x': 995, 'y': 2072}, {'x': 995, 'y': 2116}, {'x': 802, 'y': 2117}]}, ['evakuiert']), ({'vertices': [{'x': 994, 'y': 2072}, {'x': 1006, 'y': 2072}, {'x': 1006, 'y': 2115}, {'x': 994, 'y': 2115}]}, [',']), ({'vertices': [{'x': 1020, 'y': 2072}, {'x': 1115, 'y': 2072}, {'x': 1115, 'y': 2115}, {'x': 1020, 'y': 2115}]}, ['auch']), ({'vertices': [{'x': 1130, 'y': 2071}, {'x': 1191, 'y': 2071}, {'x': 1191, 'y': 2115}, {'x': 1130, 'y': 2115}]}, ['die']), ({'vertices': [{'x': 1205, 'y': 2071}, {'x': 1303, 'y': 2071}, {'x': 1303, 'y': 2114}, {'x': 1205, 'y': 2114}]}, ['noch']), ({'vertices': [{'x': 1318, 'y': 2071}, {'x': 1351, 'y': 2071}, {'x': 1351, 'y': 2114}, {'x': 1318, 'y': 2114}]}, ['in']), ({'vertices': [{'x': 1367, 'y': 2070}, {'x': 1506, 'y': 2069}, {'x': 1506, 'y': 2113}, {'x': 1367, 'y': 2114}]}, ['Merzig']), ({'vertices': [{'x': 1518, 'y': 2069}, {'x': 1707, 'y': 2068}, {'x': 1707, 'y': 2112}, {'x': 1518, 'y': 2113}]}, ['lebenden']), ({'vertices': [{'x': 1719, 'y': 2069}, {'x': 1840, 'y': 2068}, {'x': 1840, 'y': 2111}, {'x': 1719, 'y': 2112}]}, ['Juden']), ({'vertices': [{'x': 1842, 'y': 2068}, {'x': 1854, 'y': 2068}, {'x': 1854, 'y': 2111}, {'x': 1842, 'y': 2111}]}, ['.']), ({'vertices': [{'x': 1865, 'y': 2068}, {'x': 2038, 'y': 2067}, {'x': 2038, 'y': 2111}, {'x': 1865, 'y': 2112}]}, ['Susanna']), ({'vertices': [{'x': 281, 'y': 2142}, {'x': 486, 'y': 2142}, {'x': 486, 'y': 2185}, {'x': 281, 'y': 2185}]}, ['Felsenthal']), ({'vertices': [{'x': 501, 'y': 2142}, {'x': 583, 'y': 2142}, {'x': 583, 'y': 2185}, {'x': 501, 'y': 2185}]}, ['kam']), ({'vertices': [{'x': 598, 'y': 2142}, {'x': 659, 'y': 2142}, {'x': 659, 'y': 2185}, {'x': 598, 'y': 2185}]}, ['am']), ({'vertices': [{'x': 673, 'y': 2142}, {'x': 711, 'y': 2142}, {'x': 711, 'y': 2185}, {'x': 673, 'y': 2185}]}, ['9.']), ({'vertices': [{'x': 723, 'y': 2142}, {'x': 951, 'y': 2142}, {'x': 951, 'y': 2185}, {'x': 723, 'y': 2185}]}, ['September']), ({'vertices': [{'x': 963, 'y': 2142}, {'x': 1063, 'y': 2142}, {'x': 1063, 'y': 2185}, {'x': 963, 'y': 2185}]}, ['1939']), ({'vertices': [{'x': 1077, 'y': 2142}, {'x': 1109, 'y': 2142}, {'x': 1109, 'y': 2185}, {'x': 1077, 'y': 2185}]}, ['in']), ({'vertices': [{'x': 1128, 'y': 2142}, {'x': 1227, 'y': 2142}, {'x': 1227, 'y': 2185}, {'x': 1128, 'y': 2185}]}, ['Halle']), ({'vertices': [{'x': 1239, 'y': 2142}, {'x': 1287, 'y': 2142}, {'x': 1287, 'y': 2185}, {'x': 1239, 'y': 2185}]}, ['an']), ({'vertices': [{'x': 1303, 'y': 2142}, {'x': 1377, 'y': 2142}, {'x': 1377, 'y': 2185}, {'x': 1303, 'y': 2185}]}, ['und']), ({'vertices': [{'x': 1393, 'y': 2142}, {'x': 1492, 'y': 2142}, {'x': 1492, 'y': 2185}, {'x': 1393, 'y': 2185}]}, ['blieb']), ({'vertices': [{'x': 1505, 'y': 2142}, {'x': 1591, 'y': 2142}, {'x': 1591, 'y': 2185}, {'x': 1505, 'y': 2185}]}, ['dort']), ({'vertices': [{'x': 1605, 'y': 2142}, {'x': 1661, 'y': 2142}, {'x': 1661, 'y': 2185}, {'x': 1605, 'y': 2185}]}, ['bis']), ({'vertices': [{'x': 1673, 'y': 2142}, {'x': 1756, 'y': 2142}, {'x': 1756, 'y': 2185}, {'x': 1673, 'y': 2185}]}, ['zum']), ({'vertices': [{'x': 1772, 'y': 2142}, {'x': 1808, 'y': 2142}, {'x': 1808, 'y': 2185}, {'x': 1772, 'y': 2185}]}, ['1.']), ({'vertices': [{'x': 1821, 'y': 2142}, {'x': 1991, 'y': 2142}, {'x': 1991, 'y': 2185}, {'x': 1821, 'y': 2185}]}, ['Oktober']), ({'vertices': [{'x': 2002, 'y': 2142}, {'x': 2105, 'y': 2142}, {'x': 2105, 'y': 2185}, {'x': 2002, 'y': 2185}]}, ['1940']), ({'vertices': [{'x': 279, 'y': 2214}, {'x': 363, 'y': 2214}, {'x': 363, 'y': 2249}, {'x': 279, 'y': 2249}]}, ['dort']), ({'vertices': [{'x': 365, 'y': 2214}, {'x': 378, 'y': 2214}, {'x': 378, 'y': 2249}, {'x': 365, 'y': 2249}]}, ['.']), ({'vertices': [{'x': 390, 'y': 2214}, {'x': 469, 'y': 2214}, {'x': 469, 'y': 2249}, {'x': 390, 'y': 2249}]}, ['Ihre']), ({'vertices': [{'x': 481, 'y': 2214}, {'x': 645, 'y': 2214}, {'x': 645, 'y': 2249}, {'x': 481, 'y': 2249}]}, ['Adresse']), ({'vertices': [{'x': 658, 'y': 2214}, {'x': 693, 'y': 2214}, {'x': 693, 'y': 2249}, {'x': 658, 'y': 2249}]}, ['in']), ({'vertices': [{'x': 709, 'y': 2214}, {'x': 810, 'y': 2214}, {'x': 810, 'y': 2249}, {'x': 709, 'y': 2249}]}, ['Halle']), ({'vertices': [{'x': 811, 'y': 2214}, {'x': 823, 'y': 2214}, {'x': 823, 'y': 2249}, {'x': 811, 'y': 2249}]}, [':']), ({'vertices': [{'x': 838, 'y': 2214}, {'x': 1124, 'y': 2214}, {'x': 1124, 'y': 2249}, {'x': 838, 'y': 2249}]}, ['Boelckestraße']), ({'vertices': [{'x': 1138, 'y': 2214}, {'x': 1199, 'y': 2214}, {'x': 1199, 'y': 2249}, {'x': 1138, 'y': 2249}]}, ['24.']), ({'vertices': [{'x': 1213, 'y': 2214}, {'x': 1323, 'y': 2214}, {'x': 1323, 'y': 2249}, {'x': 1213, 'y': 2249}]}, ['Diese']), ({'vertices': [{'x': 1335, 'y': 2214}, {'x': 1521, 'y': 2214}, {'x': 1521, 'y': 2249}, {'x': 1335, 'y': 2249}]}, ['Anschrift']), ({'vertices': [{'x': 1531, 'y': 2214}, {'x': 1609, 'y': 2214}, {'x': 1609, 'y': 2249}, {'x': 1531, 'y': 2249}]}, ['war']), ({'vertices': [{'x': 1622, 'y': 2214}, {'x': 1683, 'y': 2214}, {'x': 1683, 'y': 2249}, {'x': 1622, 'y': 2249}]}, ['die']), ({'vertices': [{'x': 1694, 'y': 2214}, {'x': 1858, 'y': 2214}, {'x': 1858, 'y': 2249}, {'x': 1694, 'y': 2249}]}, ['Adresse']), ({'vertices': [{'x': 1868, 'y': 2214}, {'x': 1941, 'y': 2214}, {'x': 1941, 'y': 2249}, {'x': 1868, 'y': 2249}]}, ['der']), ({'vertices': [{'x': 277, 'y': 2282}, {'x': 508, 'y': 2282}, {'x': 508, 'y': 2325}, {'x': 277, 'y': 2325}]}, ['Trauerhalle']), ({'vertices': [{'x': 522, 'y': 2282}, {'x': 594, 'y': 2282}, {'x': 594, 'y': 2325}, {'x': 522, 'y': 2325}]}, ['des']), ({'vertices': [{'x': 608, 'y': 2282}, {'x': 733, 'y': 2282}, {'x': 733, 'y': 2325}, {'x': 608, 'y': 2325}]}, ['neuen']), ({'vertices': [{'x': 745, 'y': 2282}, {'x': 940, 'y': 2282}, {'x': 940, 'y': 2325}, {'x': 745, 'y': 2325}]}, ['jüdischen']), ({'vertices': [{'x': 958, 'y': 2282}, {'x': 1146, 'y': 2282}, {'x': 1146, 'y': 2325}, {'x': 958, 'y': 2325}]}, ['Friedhofs']), ({'vertices': [{'x': 1160, 'y': 2282}, {'x': 1192, 'y': 2282}, {'x': 1192, 'y': 2325}, {'x': 1160, 'y': 2325}]}, ['in']), ({'vertices': [{'x': 1209, 'y': 2282}, {'x': 1309, 'y': 2282}, {'x': 1309, 'y': 2325}, {'x': 1209, 'y': 2325}]}, ['Halle']), ({'vertices': [{'x': 1312, 'y': 2282}, {'x': 1321, 'y': 2282}, {'x': 1321, 'y': 2325}, {'x': 1312, 'y': 2325}]}, ['.']), ({'vertices': [{'x': 1337, 'y': 2282}, {'x': 1426, 'y': 2282}, {'x': 1426, 'y': 2325}, {'x': 1337, 'y': 2325}]}, ['Dort']), ({'vertices': [{'x': 1438, 'y': 2282}, {'x': 1566, 'y': 2282}, {'x': 1566, 'y': 2325}, {'x': 1438, 'y': 2325}]}, ['waren']), ({'vertices': [{'x': 1580, 'y': 2282}, {'x': 1642, 'y': 2282}, {'x': 1642, 'y': 2325}, {'x': 1580, 'y': 2325}]}, ['die']), ({'vertices': [{'x': 1651, 'y': 2282}, {'x': 1845, 'y': 2282}, {'x': 1845, 'y': 2325}, {'x': 1651, 'y': 2325}]}, ['jüdischen']), ({'vertices': [{'x': 1862, 'y': 2282}, {'x': 2160, 'y': 2282}, {'x': 2160, 'y': 2325}, {'x': 1862, 'y': 2325}]}, ['Rückwanderer']), ({'vertices': [{'x': 279, 'y': 2352}, {'x': 569, 'y': 2352}, {'x': 569, 'y': 2394}, {'x': 279, 'y': 2394}]}, ['untergebracht']), ({'vertices': [{'x': 571, 'y': 2352}, {'x': 583, 'y': 2352}, {'x': 583, 'y': 2394}, {'x': 571, 'y': 2394}]}, ['.']), ({'vertices': [{'x': 594, 'y': 2352}, {'x': 660, 'y': 2352}, {'x': 660, 'y': 2394}, {'x': 594, 'y': 2394}]}, ['Am']), ({'vertices': [{'x': 677, 'y': 2352}, {'x': 882, 'y': 2352}, {'x': 882, 'y': 2394}, {'x': 677, 'y': 2394}]}, ['29.August']), ({'vertices': [{'x': 897, 'y': 2352}, {'x': 996, 'y': 2352}, {'x': 996, 'y': 2394}, {'x': 897, 'y': 2394}]}, ['1941']), ({'vertices': [{'x': 1008, 'y': 2352}, {'x': 1163, 'y': 2352}, {'x': 1163, 'y': 2394}, {'x': 1008, 'y': 2394}]}, ['wurden']), ({'vertices': [{'x': 1177, 'y': 2352}, {'x': 1256, 'y': 2352}, {'x': 1256, 'y': 2394}, {'x': 1177, 'y': 2394}]}, ['ihre']), ({'vertices': [{'x': 1268, 'y': 2352}, {'x': 1431, 'y': 2352}, {'x': 1431, 'y': 2394}, {'x': 1268, 'y': 2394}]}, ['Wäsche']), ({'vertices': [{'x': 1444, 'y': 2352}, {'x': 1519, 'y': 2352}, {'x': 1519, 'y': 2394}, {'x': 1444, 'y': 2394}]}, ['und']), ({'vertices': [{'x': 1535, 'y': 2352}, {'x': 1861, 'y': 2352}, {'x': 1861, 'y': 2394}, {'x': 1535, 'y': 2394}]}, ['Kleidungsstücke']), ({'vertices': [{'x': 1873, 'y': 2352}, {'x': 1937, 'y': 2352}, {'x': 1937, 'y': 2394}, {'x': 1873, 'y': 2394}]}, ['für']), ({'vertices': [{'x': 1945, 'y': 2352}, {'x': 2021, 'y': 2352}, {'x': 2021, 'y': 2394}, {'x': 1945, 'y': 2394}]}, ['den']), ({'vertices': [{'x': 2036, 'y': 2352}, {'x': 2170, 'y': 2352}, {'x': 2170, 'y': 2394}, {'x': 2036, 'y': 2394}]}, ['Betrag']), ({'vertices': [{'x': 276, 'y': 2417}, {'x': 351, 'y': 2417}, {'x': 351, 'y': 2464}, {'x': 276, 'y': 2464}]}, ['von']), ({'vertices': [{'x': 363, 'y': 2417}, {'x': 478, 'y': 2417}, {'x': 478, 'y': 2464}, {'x': 363, 'y': 2464}]}, ['22,70']), ({'vertices': [{'x': 492, 'y': 2417}, {'x': 729, 'y': 2417}, {'x': 729, 'y': 2464}, {'x': 492, 'y': 2464}]}, ['Reichsmark']), ({'vertices': [{'x': 739, 'y': 2417}, {'x': 775, 'y': 2417}, {'x': 775, 'y': 2464}, {'x': 739, 'y': 2464}]}, ['in']), ({'vertices': [{'x': 789, 'y': 2417}, {'x': 930, 'y': 2417}, {'x': 930, 'y': 2464}, {'x': 789, 'y': 2464}]}, ['Merzig']), ({'vertices': [{'x': 941, 'y': 2417}, {'x': 1056, 'y': 2417}, {'x': 1056, 'y': 2464}, {'x': 941, 'y': 2464}]}, ['durch']), ({'vertices': [{'x': 1070, 'y': 2417}, {'x': 1132, 'y': 2417}, {'x': 1132, 'y': 2464}, {'x': 1070, 'y': 2464}]}, ['die']), ({'vertices': [{'x': 1143, 'y': 2417}, {'x': 1484, 'y': 2417}, {'x': 1484, 'y': 2464}, {'x': 1143, 'y': 2464}]}, ['Stadtverwaltung']), ({'vertices': [{'x': 1493, 'y': 2417}, {'x': 1716, 'y': 2417}, {'x': 1716, 'y': 2464}, {'x': 1493, 'y': 2464}]}, ['versteigert']), ({'vertices': [{'x': 1718, 'y': 2417}, {'x': 1729, 'y': 2417}, {'x': 1729, 'y': 2464}, {'x': 1718, 'y': 2464}]}, ['.']), ({'vertices': [{'x': 1743, 'y': 2417}, {'x': 1842, 'y': 2417}, {'x': 1842, 'y': 2464}, {'x': 1743, 'y': 2464}]}, ['Über']), ({'vertices': [{'x': 1854, 'y': 2417}, {'x': 1922, 'y': 2417}, {'x': 1922, 'y': 2464}, {'x': 1854, 'y': 2464}]}, ['das']), ({'vertices': [{'x': 1934, 'y': 2417}, {'x': 2116, 'y': 2417}, {'x': 2116, 'y': 2464}, {'x': 1934, 'y': 2464}]}, ['Schicksal']), ({'vertices': [{'x': 275, 'y': 2491}, {'x': 349, 'y': 2491}, {'x': 349, 'y': 2528}, {'x': 275, 'y': 2528}]}, ['von']), ({'vertices': [{'x': 363, 'y': 2491}, {'x': 533, 'y': 2491}, {'x': 533, 'y': 2528}, {'x': 363, 'y': 2528}]}, ['Susanne']), ({'vertices': [{'x': 547, 'y': 2491}, {'x': 756, 'y': 2491}, {'x': 756, 'y': 2528}, {'x': 547, 'y': 2528}]}, ['Felsenthal']), ({'vertices': [{'x': 769, 'y': 2491}, {'x': 953, 'y': 2491}, {'x': 953, 'y': 2528}, {'x': 769, 'y': 2528}]}, ['zwischen']), ({'vertices': [{'x': 967, 'y': 2491}, {'x': 1136, 'y': 2491}, {'x': 1136, 'y': 2528}, {'x': 967, 'y': 2528}]}, ['Oktober']), ({'vertices': [{'x': 1149, 'y': 2491}, {'x': 1248, 'y': 2491}, {'x': 1248, 'y': 2528}, {'x': 1149, 'y': 2528}]}, ['1940']), ({'vertices': [{'x': 1262, 'y': 2491}, {'x': 1335, 'y': 2491}, {'x': 1335, 'y': 2528}, {'x': 1262, 'y': 2528}]}, ['und']), ({'vertices': [{'x': 1354, 'y': 2491}, {'x': 1628, 'y': 2491}, {'x': 1628, 'y': 2528}, {'x': 1354, 'y': 2528}]}, ['18.Dezember']), ({'vertices': [{'x': 1639, 'y': 2491}, {'x': 1742, 'y': 2491}, {'x': 1742, 'y': 2528}, {'x': 1639, 'y': 2528}]}, ['1946']), ({'vertices': [{'x': 1753, 'y': 2491}, {'x': 1798, 'y': 2491}, {'x': 1798, 'y': 2528}, {'x': 1753, 'y': 2528}]}, ['ist']), ({'vertices': [{'x': 1812, 'y': 2491}, {'x': 1932, 'y': 2491}, {'x': 1932, 'y': 2528}, {'x': 1812, 'y': 2528}]}, ['nichts']), ({'vertices': [{'x': 1946, 'y': 2491}, {'x': 2112, 'y': 2491}, {'x': 2112, 'y': 2528}, {'x': 1946, 'y': 2528}]}, ['bekannt']), ({'vertices': [{'x': 2113, 'y': 2491}, {'x': 2123, 'y': 2491}, {'x': 2123, 'y': 2528}, {'x': 2113, 'y': 2528}]}, ['.']), ({'vertices': [{'x': 274, 'y': 2564}, {'x': 344, 'y': 2564}, {'x': 344, 'y': 2603}, {'x': 274, 'y': 2603}]}, ['Am']), ({'vertices': [{'x': 359, 'y': 2564}, {'x': 423, 'y': 2564}, {'x': 423, 'y': 2603}, {'x': 359, 'y': 2603}]}, ['18.']), ({'vertices': [{'x': 434, 'y': 2564}, {'x': 644, 'y': 2564}, {'x': 644, 'y': 2603}, {'x': 434, 'y': 2603}]}, ['Dezember']), ({'vertices': [{'x': 656, 'y': 2564}, {'x': 787, 'y': 2564}, {'x': 787, 'y': 2603}, {'x': 656, 'y': 2603}]}, ['kehrte']), ({'vertices': [{'x': 800, 'y': 2564}, {'x': 971, 'y': 2564}, {'x': 971, 'y': 2603}, {'x': 800, 'y': 2603}]}, ['Susanne']), ({'vertices': [{'x': 985, 'y': 2564}, {'x': 1193, 'y': 2564}, {'x': 1193, 'y': 2603}, {'x': 985, 'y': 2603}]}, ['Felsenthal']), ({'vertices': [{'x': 1206, 'y': 2564}, {'x': 1275, 'y': 2564}, {'x': 1275, 'y': 2603}, {'x': 1206, 'y': 2603}]}, ['aus']), ({'vertices': [{'x': 1288, 'y': 2564}, {'x': 1500, 'y': 2564}, {'x': 1500, 'y': 2603}, {'x': 1288, 'y': 2603}]}, ['Frankreich']), ({'vertices': [{'x': 1517, 'y': 2564}, {'x': 1610, 'y': 2564}, {'x': 1610, 'y': 2603}, {'x': 1517, 'y': 2603}]}, ['nach']), ({'vertices': [{'x': 1626, 'y': 2564}, {'x': 1765, 'y': 2564}, {'x': 1765, 'y': 2603}, {'x': 1626, 'y': 2603}]}, ['Merzig']), ({'vertices': [{'x': 1776, 'y': 2564}, {'x': 1912, 'y': 2564}, {'x': 1912, 'y': 2603}, {'x': 1776, 'y': 2603}]}, ['zurück']), ({'vertices': [{'x': 1913, 'y': 2564}, {'x': 1924, 'y': 2564}, {'x': 1924, 'y': 2603}, {'x': 1913, 'y': 2603}]}, ['.']), ({'vertices': [{'x': 1938, 'y': 2564}, {'x': 1993, 'y': 2564}, {'x': 1993, 'y': 2603}, {'x': 1938, 'y': 2603}]}, ['Bis']), ({'vertices': [{'x': 2005, 'y': 2564}, {'x': 2049, 'y': 2564}, {'x': 2049, 'y': 2603}, {'x': 2005, 'y': 2603}]}, ['zu']), ({'vertices': [{'x': 276, 'y': 2634}, {'x': 391, 'y': 2634}, {'x': 391, 'y': 2676}, {'x': 276, 'y': 2676}]}, ['ihrem']), ({'vertices': [{'x': 406, 'y': 2634}, {'x': 482, 'y': 2634}, {'x': 482, 'y': 2676}, {'x': 406, 'y': 2676}]}, ['Tod']), ({'vertices': [{'x': 496, 'y': 2634}, {'x': 557, 'y': 2634}, {'x': 557, 'y': 2676}, {'x': 496, 'y': 2676}]}, ['am']), ({'vertices': [{'x': 571, 'y': 2634}, {'x': 733, 'y': 2634}, {'x': 733, 'y': 2676}, {'x': 571, 'y': 2676}]}, ['21.April']), ({'vertices': [{'x': 748, 'y': 2634}, {'x': 846, 'y': 2634}, {'x': 846, 'y': 2676}, {'x': 748, 'y': 2676}]}, ['1955']), ({'vertices': [{'x': 858, 'y': 2634}, {'x': 1015, 'y': 2634}, {'x': 1015, 'y': 2676}, {'x': 858, 'y': 2676}]}, ['wohnte']), ({'vertices': [{'x': 1028, 'y': 2634}, {'x': 1198, 'y': 2634}, {'x': 1198, 'y': 2676}, {'x': 1028, 'y': 2676}]}, ['Susanne']), ({'vertices': [{'x': 1213, 'y': 2634}, {'x': 1421, 'y': 2634}, {'x': 1421, 'y': 2676}, {'x': 1213, 'y': 2676}]}, ['Felsenthal']), ({'vertices': [{'x': 1435, 'y': 2634}, {'x': 1468, 'y': 2634}, {'x': 1468, 'y': 2676}, {'x': 1435, 'y': 2676}]}, ['in']), ({'vertices': [{'x': 1482, 'y': 2634}, {'x': 1551, 'y': 2634}, {'x': 1551, 'y': 2676}, {'x': 1482, 'y': 2676}]}, ['der']), ({'vertices': [{'x': 1562, 'y': 2634}, {'x': 1695, 'y': 2634}, {'x': 1695, 'y': 2676}, {'x': 1562, 'y': 2676}]}, ['Straße']), ({'vertices': [{'x': 1705, 'y': 2634}, {'x': 1725, 'y': 2634}, {'x': 1725, 'y': 2676}, {'x': 1705, 'y': 2676}]}, ['„']), ({'vertices': [{'x': 1725, 'y': 2634}, {'x': 1795, 'y': 2634}, {'x': 1795, 'y': 2676}, {'x': 1725, 'y': 2676}]}, ['Am']), ({'vertices': [{'x': 1808, 'y': 2634}, {'x': 2044, 'y': 2634}, {'x': 2044, 'y': 2676}, {'x': 1808, 'y': 2676}]}, ['Weißenfels']), ({'vertices': [{'x': 2041, 'y': 2634}, {'x': 2066, 'y': 2634}, {'x': 2066, 'y': 2676}, {'x': 2041, 'y': 2676}]}, ['\"']), ({'vertices': [{'x': 272, 'y': 3246}, {'x': 365, 'y': 3246}, {'x': 365, 'y': 3277}, {'x': 272, 'y': 3277}]}, ['Seite']), ({'vertices': [{'x': 378, 'y': 3246}, {'x': 400, 'y': 3246}, {'x': 400, 'y': 3277}, {'x': 378, 'y': 3277}]}, ['1']), ({'vertices': [{'x': 411, 'y': 3246}, {'x': 479, 'y': 3246}, {'x': 479, 'y': 3277}, {'x': 411, 'y': 3277}]}, ['von']), ({'vertices': [{'x': 493, 'y': 3246}, {'x': 519, 'y': 3246}, {'x': 519, 'y': 3277}, {'x': 493, 'y': 3277}]}, ['3'])], 'entity_types': {'PERSON': ['Bernd Schirra', 'POWEI', 'Kreise Merzig', 'Bürgermeisterei Merzig', 'Je voertung:', 'Gestricken', 'Zaar', 'Ableitung des Jun vom 8.april', 'de Standesbranite Tu', 'мезднат 95,7955', 'Margery Zweiblichen 1', 'Jahres Nachth W', 'Wohnung Jusanna Geichlechts', 'geboren sei', 'Rinde de Borname', 'Erklärung', 'Jengen', 'Julie Freiberg', 'Jahre', 'Standes Harbier', 'Peter Müller', 'Jahre', 'Merzig Gegenwärtige Urkunde', 'Zengen', 'von mir', 'Jebsenthal J. Seiberg PMülle Susanna Felsenthal', 'Feldstraße 5', 'Am Feldchen', 'Geschwister Levy', 'wurde infolge', 'Roten Zone', 'Susanna Felsenthal', 'Ihre Adresse', 'Adresse', 'Dort waren', 'jüdischen Rückwanderer', 'Betrag von 22,70', 'Über das Schicksal von Susanne Felsenthal', 'Susanne Felsenthal', 'Frankreich nach Merzig', 'Tod', 'Susanne Felsenthal'], 'ORG': ['AUF', 'DER', 'Geburts-Akt Merzig', 'Jenüßß §2', 'Hosuzen Tette', 'Bergen', 'Mirginitian Felsentral', 'Nantal', 'Gistoben', 'Original', 'Boelckestraße', 'Kleidungsstücke'], 'DATE': ['März 1873', 'April 1955', '1939', '9.', 'September 1939', '1940', '29.August 1941', 'Stadtverwaltung', 'Oktober 1940', '21.April 1955'], 'GPE': ['Merzig', 'Merzig', 'Stabt', 'Jahre', 'Fähre', 'Sarama', 'Newesenheit', 'Mersin', 'Bevölkerung', 'Merzig', 'Juden', 'Halle', 'Halle', 'Trauerhalle', 'Halle', 'Reichsmark', 'Merzig', 'Straße'], 'NORP': ['Monats', 'Diese'], 'PRODUCT': ['Standes', 'von anche'], 'CARDINAL': ['8', '3.4.1955', '1', '24', '18.Dezember 1946', '18', '3']}, 'top_title': ['page of Testimony', 'דף עד'], 'Production date': '3.4.1955'}\n"
     ]
    },
    {
     "name": "stderr",
     "output_type": "stream",
     "text": [
      "WARNING:absl:Compiled the loaded model, but the compiled metrics have yet to be built. `model.compile_metrics` will be empty until you train or evaluate the model.\n"
     ]
    },
    {
     "name": "stdout",
     "output_type": "stream",
     "text": [
      "data_practucom/test\\documents_with_json\\10562068_1.json 😄 Testimony page including a photograph\n",
      "eeeeeeeeeeeeeeeeeeeeeeeeeeeee\n",
      "(23, 177.75)\n",
      "23531\n",
      "uuuuuuuuuuuuuuuuuuuuu {'page type': 'Testimony page including a photograph', 'data_Languages': [('English', 0.3297069), ('German', 0.29036015), ('Hungarian', 0.07970913)], 'full_desc_with_verices': ({'text': 'KLE I N 577 013 Ernest 12.9.30 Tiszakorod/Ung. Gh. Mateszalka 6.44 v. Ungarn n. Auschwitz 7.44 Mauthausen Nr. 71938 b.4.45 KZ Gusen II Rel_jud. 5.5.45 befr.in Gunskirchen /Österr. Ernest Klein 23531 Marlow, Oak Park,Michigan USA'}, {'vertices': [{'x': 104, 'y': 23}, {'x': 1141, 'y': 23}, {'x': 1141, 'y': 642}, {'x': 104, 'y': 642}]}), 'words': [({'vertices': [{'x': 104, 'y': 23}, {'x': 1141, 'y': 23}, {'x': 1141, 'y': 642}, {'x': 104, 'y': 642}]}, ['KLE I N', '577 013', 'Ernest', '12.9.30', 'Tiszakorod/Ung.', 'Gh. Mateszalka', '6.44 v. Ungarn n. Auschwitz', '7.44 Mauthausen Nr. 71938', 'b.4.45 KZ Gusen II', 'Rel_jud.', '5.5.45 befr.in Gunskirchen /Österr.', 'Ernest Klein 23531 Marlow, Oak Park,Michigan', 'USA']), ({'vertices': [{'x': 197, 'y': 82}, {'x': 317, 'y': 81}, {'x': 317, 'y': 111}, {'x': 197, 'y': 112}]}, ['KLE']), ({'vertices': [{'x': 370, 'y': 82}, {'x': 391, 'y': 82}, {'x': 391, 'y': 111}, {'x': 370, 'y': 111}]}, ['I']), ({'vertices': [{'x': 411, 'y': 82}, {'x': 436, 'y': 82}, {'x': 436, 'y': 111}, {'x': 411, 'y': 111}]}, ['N']), ({'vertices': [{'x': 785, 'y': 23}, {'x': 857, 'y': 24}, {'x': 857, 'y': 54}, {'x': 785, 'y': 53}]}, ['577']), ({'vertices': [{'x': 884, 'y': 24}, {'x': 951, 'y': 25}, {'x': 951, 'y': 55}, {'x': 884, 'y': 54}]}, ['013']), ({'vertices': [{'x': 600, 'y': 85}, {'x': 738, 'y': 85}, {'x': 738, 'y': 112}, {'x': 600, 'y': 112}]}, ['Ernest']), ({'vertices': [{'x': 106, 'y': 196}, {'x': 270, 'y': 196}, {'x': 270, 'y': 228}, {'x': 106, 'y': 228}]}, ['12.9.30']), ({'vertices': [{'x': 409, 'y': 193}, {'x': 646, 'y': 194}, {'x': 646, 'y': 229}, {'x': 409, 'y': 228}]}, ['Tiszakorod']), ({'vertices': [{'x': 647, 'y': 195}, {'x': 670, 'y': 195}, {'x': 670, 'y': 229}, {'x': 647, 'y': 229}]}, ['/']), ({'vertices': [{'x': 668, 'y': 195}, {'x': 742, 'y': 195}, {'x': 742, 'y': 229}, {'x': 668, 'y': 229}]}, ['Ung']), ({'vertices': [{'x': 743, 'y': 195}, {'x': 758, 'y': 195}, {'x': 758, 'y': 229}, {'x': 743, 'y': 229}]}, ['.']), ({'vertices': [{'x': 294, 'y': 234}, {'x': 343, 'y': 234}, {'x': 343, 'y': 266}, {'x': 294, 'y': 266}]}, ['Gh']), ({'vertices': [{'x': 346, 'y': 234}, {'x': 359, 'y': 234}, {'x': 359, 'y': 266}, {'x': 346, 'y': 266}]}, ['.']), ({'vertices': [{'x': 385, 'y': 234}, {'x': 624, 'y': 234}, {'x': 624, 'y': 266}, {'x': 385, 'y': 266}]}, ['Mateszalka']), ({'vertices': [{'x': 106, 'y': 272}, {'x': 198, 'y': 272}, {'x': 198, 'y': 307}, {'x': 106, 'y': 307}]}, ['6.44']), ({'vertices': [{'x': 222, 'y': 272}, {'x': 246, 'y': 272}, {'x': 246, 'y': 307}, {'x': 222, 'y': 307}]}, ['v']), ({'vertices': [{'x': 253, 'y': 272}, {'x': 264, 'y': 272}, {'x': 264, 'y': 307}, {'x': 253, 'y': 307}]}, ['.']), ({'vertices': [{'x': 293, 'y': 272}, {'x': 434, 'y': 272}, {'x': 434, 'y': 307}, {'x': 293, 'y': 307}]}, ['Ungarn']), ({'vertices': [{'x': 459, 'y': 272}, {'x': 483, 'y': 272}, {'x': 483, 'y': 307}, {'x': 459, 'y': 307}]}, ['n']), ({'vertices': [{'x': 487, 'y': 272}, {'x': 498, 'y': 272}, {'x': 498, 'y': 307}, {'x': 487, 'y': 307}]}, ['.']), ({'vertices': [{'x': 528, 'y': 272}, {'x': 739, 'y': 272}, {'x': 739, 'y': 307}, {'x': 528, 'y': 307}]}, ['Auschwitz']), ({'vertices': [{'x': 107, 'y': 312}, {'x': 198, 'y': 312}, {'x': 198, 'y': 339}, {'x': 107, 'y': 339}]}, ['7.44']), ({'vertices': [{'x': 290, 'y': 310}, {'x': 529, 'y': 310}, {'x': 529, 'y': 342}, {'x': 290, 'y': 342}]}, ['Mauthausen']), ({'vertices': [{'x': 576, 'y': 310}, {'x': 621, 'y': 310}, {'x': 621, 'y': 342}, {'x': 576, 'y': 342}]}, ['Nr']), ({'vertices': [{'x': 630, 'y': 310}, {'x': 638, 'y': 310}, {'x': 638, 'y': 342}, {'x': 630, 'y': 342}]}, ['.']), ({'vertices': [{'x': 673, 'y': 310}, {'x': 785, 'y': 310}, {'x': 785, 'y': 342}, {'x': 673, 'y': 342}]}, ['71938']), ({'vertices': [{'x': 107, 'y': 350}, {'x': 242, 'y': 350}, {'x': 242, 'y': 380}, {'x': 107, 'y': 380}]}, ['b.4.45']), ({'vertices': [{'x': 292, 'y': 350}, {'x': 336, 'y': 350}, {'x': 336, 'y': 380}, {'x': 292, 'y': 380}]}, ['KZ']), ({'vertices': [{'x': 367, 'y': 350}, {'x': 481, 'y': 350}, {'x': 481, 'y': 380}, {'x': 367, 'y': 380}]}, ['Gusen']), ({'vertices': [{'x': 510, 'y': 350}, {'x': 550, 'y': 350}, {'x': 550, 'y': 380}, {'x': 510, 'y': 380}]}, ['II']), ({'vertices': [{'x': 856, 'y': 177}, {'x': 1021, 'y': 175}, {'x': 1021, 'y': 213}, {'x': 856, 'y': 215}]}, ['Rel_jud']), ({'vertices': [{'x': 1025, 'y': 176}, {'x': 1039, 'y': 176}, {'x': 1039, 'y': 213}, {'x': 1025, 'y': 213}]}, ['.']), ({'vertices': [{'x': 104, 'y': 382}, {'x': 245, 'y': 381}, {'x': 245, 'y': 422}, {'x': 104, 'y': 423}]}, ['5.5.45']), ({'vertices': [{'x': 292, 'y': 381}, {'x': 459, 'y': 380}, {'x': 459, 'y': 421}, {'x': 292, 'y': 422}]}, ['befr.in']), ({'vertices': [{'x': 481, 'y': 380}, {'x': 741, 'y': 379}, {'x': 741, 'y': 420}, {'x': 481, 'y': 421}]}, ['Gunskirchen']), ({'vertices': [{'x': 761, 'y': 380}, {'x': 786, 'y': 380}, {'x': 786, 'y': 420}, {'x': 761, 'y': 420}]}, ['/']), ({'vertices': [{'x': 786, 'y': 379}, {'x': 925, 'y': 378}, {'x': 925, 'y': 419}, {'x': 786, 'y': 420}]}, ['Österr']), ({'vertices': [{'x': 931, 'y': 379}, {'x': 943, 'y': 379}, {'x': 943, 'y': 419}, {'x': 931, 'y': 419}]}, ['.']), ({'vertices': [{'x': 104, 'y': 573}, {'x': 245, 'y': 573}, {'x': 245, 'y': 610}, {'x': 104, 'y': 610}]}, ['Ernest']), ({'vertices': [{'x': 268, 'y': 573}, {'x': 388, 'y': 573}, {'x': 388, 'y': 610}, {'x': 268, 'y': 610}]}, ['Klein']), ({'vertices': [{'x': 413, 'y': 573}, {'x': 524, 'y': 573}, {'x': 524, 'y': 610}, {'x': 413, 'y': 610}]}, ['23531']), ({'vertices': [{'x': 548, 'y': 573}, {'x': 693, 'y': 573}, {'x': 693, 'y': 610}, {'x': 548, 'y': 610}]}, ['Marlow']), ({'vertices': [{'x': 700, 'y': 573}, {'x': 711, 'y': 573}, {'x': 711, 'y': 610}, {'x': 700, 'y': 610}]}, [',']), ({'vertices': [{'x': 741, 'y': 573}, {'x': 809, 'y': 573}, {'x': 809, 'y': 610}, {'x': 741, 'y': 610}]}, ['Oak']), ({'vertices': [{'x': 837, 'y': 573}, {'x': 928, 'y': 573}, {'x': 928, 'y': 610}, {'x': 837, 'y': 610}]}, ['Park']), ({'vertices': [{'x': 935, 'y': 573}, {'x': 943, 'y': 573}, {'x': 943, 'y': 610}, {'x': 935, 'y': 610}]}, [',']), ({'vertices': [{'x': 950, 'y': 573}, {'x': 1141, 'y': 573}, {'x': 1141, 'y': 610}, {'x': 950, 'y': 610}]}, ['Michigan']), ({'vertices': [{'x': 128, 'y': 611}, {'x': 201, 'y': 614}, {'x': 200, 'y': 642}, {'x': 127, 'y': 639}]}, ['USA'])], 'entity_types': {'ORG': ['KLE I N', 'Mateszalka', 'Michigan USA'], 'CARDINAL': ['6.44'], 'PERSON': ['Auschwitz 7.44', 'Mauthausen Nr', 'Ernest Klein'], 'DATE': ['Gusen II', '23531'], 'NORP': ['Rel_jud'], 'GPE': ['Oak Park']}, 'top_title': ['page of Testimony', 'דף עד'], 'Production date': '23531'}\n",
      "data_practucom/test\\documents_with_json\\10256434_1.JPG 1.1.47   :::   ['page of Testimony', 'דף עד']\n",
      "data_practucom/test\\documents_with_json\\10257538_1.JPG 44-4.45   :::   ['page of Testimony', 'דף עד']\n",
      "data_practucom/test\\documents_with_json\\10258234_1.JPG 44-4.45   :::   ['page of Testimony', 'דף עד']\n",
      "data_practucom/test\\documents_with_json\\10261046_1.JPG 1.5.40 - 20.8.44   :::   ['page of Testimony', 'דף עד']\n",
      "data_practucom/test\\documents_with_json\\10261769_1.JPG 1906   :::   ['page of Testimony', 'דף עד']\n",
      "data_practucom/test\\documents_with_json\\10262331_1.JPG 29.10.29   :::   ['page of Testimony', 'דף עד']\n",
      "data_practucom/test\\documents_with_json\\10263012_1.JPG 25 19   :::   ['page of Testimony', 'דף עד']\n",
      "data_practucom/test\\documents_with_json\\10263118_1.JPG 2009   :::   ['page of Testimony', 'דף עד']\n",
      "data_practucom/test\\documents_with_json\\10282556_1.JPG 10.11.1988   :::   ['page of Testimony', 'דף עד']\n",
      "data_practucom/test\\documents_with_json\\10545451_1.JPG 12.2.1962   :::   ['page of Testimony', 'דף עד']\n",
      "data_practucom/test\\documents_with_json\\10546758_1.JPG 30.8.45   :::   ['page of Testimony', 'דף עד']\n",
      "data_practucom/test\\documents_with_json\\10547399_1.JPG 10-30781-1   :::   ['page of Testimony', 'דף עד']\n",
      "data_practucom/test\\documents_with_json\\10554956_1.JPG Monday   :::   ['page of Testimony', 'דף עד']\n",
      "data_practucom/test\\documents_with_json\\10561637_1.JPG april 1946   :::   ['page of Testimony', 'דף עד']\n",
      "data_practucom/test\\documents_with_json\\10561637_2.JPG 3.4.1955   :::   ['page of Testimony', 'דף עד']\n",
      "data_practucom/test\\documents_with_json\\10562068_1.JPG 23531   :::   ['page of Testimony', 'דף עד']\n"
     ]
    }
   ],
   "source": [
    "data='data_practucom/test'\n",
    "second_steps_for_all_images(data)"
   ]
  },
  {
   "cell_type": "code",
   "execution_count": null,
   "id": "104e4ddb-6536-4646-9898-89a413574ada",
   "metadata": {},
   "outputs": [],
   "source": []
  },
  {
   "cell_type": "code",
   "execution_count": null,
   "id": "6588267f-7eb9-4766-8c6d-35dea2e71060",
   "metadata": {},
   "outputs": [],
   "source": []
  }
 ],
 "metadata": {
  "kernelspec": {
   "display_name": "Python 3 (ipykernel)",
   "language": "python",
   "name": "python3"
  },
  "language_info": {
   "codemirror_mode": {
    "name": "ipython",
    "version": 3
   },
   "file_extension": ".py",
   "mimetype": "text/x-python",
   "name": "python",
   "nbconvert_exporter": "python",
   "pygments_lexer": "ipython3",
   "version": "3.10.5"
  }
 },
 "nbformat": 4,
 "nbformat_minor": 5
}
