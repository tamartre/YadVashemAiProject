{
 "cells": [
  {
   "cell_type": "code",
   "execution_count": 3,
   "id": "0c265b4e-b7fb-4aa6-9b16-e6225c961b19",
   "metadata": {},
   "outputs": [],
   "source": [
    "# pip install elasticsearch"
   ]
  },
  {
   "cell_type": "code",
   "execution_count": 1,
   "id": "e1c6f2aa-03fe-4640-b995-afb4f0584327",
   "metadata": {},
   "outputs": [],
   "source": [
    "from datetime import datetime\n",
    "from elasticsearch import Elasticsearch"
   ]
  },
  {
   "cell_type": "markdown",
   "id": "1e20c5dc-8f3c-402c-bd1f-43b29d9ecbac",
   "metadata": {},
   "source": [
    "#1 way"
   ]
  },
  {
   "cell_type": "code",
   "execution_count": 4,
   "id": "effe1b1d-ede6-4d7d-85f2-97b0c1acd3a5",
   "metadata": {},
   "outputs": [],
   "source": [
    "ELASTIC_PASSWORD = \"biOiUqxTHDLrBMvvYT7BC9yC\"\n",
    "# Found in the 'Manage Deployment' page\n",
    "CLOUD_ID = \"ea88302d0e50445e96d4423cb86a129b:dXMtY2VudHJhbDEuZ2NwLmNsb3VkLmVzLmlvOjQ0MyQzZDFiOTg0NzA4MzY0MzUzYjllNjBhZWMxZjJkY2IxYyRmNGE1Njk5NGQ2ZDI0ODNiOGZhZDFmNGNmN2NkNWZlNA==\"\n",
    "# Create the client instance\n",
    "client = Elasticsearch(\n",
    "    cloud_id=CLOUD_ID,\n",
    "    basic_auth=(\"elastic\", ELASTIC_PASSWORD)\n",
    ")\n",
    "\n",
    "# # Succclientsful rclientponse!\n",
    "# client.info()"
   ]
  },
  {
   "cell_type": "markdown",
   "id": "4720b49c-9b4a-47cd-9f4d-1513bfecd9e5",
   "metadata": {},
   "source": [
    "#2 way"
   ]
  },
  {
   "cell_type": "code",
   "execution_count": 5,
   "id": "a80258cc-fd70-4f30-92c7-e93b40ff198a",
   "metadata": {},
   "outputs": [],
   "source": [
    "# client = Elasticsearch(\n",
    "#     \"https://3d1b984708364353b9e60aec1f2dcb1c.us-central1.gcp.cloud.es.io:443\",  # Elasticsearch endpoint\n",
    "#     api_key=\"TlU0a0NKRUIxaEpzcERZRmt2WE46eEJNQlZPbGlSMzIyNVcxOVZUM0xIdw==\",\n",
    "# )\n",
    "# client.info()"
   ]
  },
  {
   "cell_type": "code",
   "execution_count": 12,
   "id": "75d02002-a174-417a-9e7a-949798636bb7",
   "metadata": {},
   "outputs": [],
   "source": [
    "import json\n",
    "with open(\"data_elastic.json\") as file:\n",
    "    for line in file:\n",
    "        line = line.strip()  # Remove leading and trailing whitespaces\n",
    "        if line:  # Check if the line is not empty\n",
    "            try:\n",
    "                document = json.loads(line)\n",
    "                response = client.index(index=\"data_elastic_test\", body=document)\n",
    "            except json.JSONDecodeError as e:\n",
    "                print(\"Error decoding JSON on line:\", line)\n",
    "                print(\"Exception:\", e)"
   ]
  },
  {
   "cell_type": "code",
   "execution_count": 13,
   "id": "f77f02cf-6052-463d-ba97-47bbd1cb85d2",
   "metadata": {},
   "outputs": [],
   "source": [
    "def create_query(search_term):\n",
    "    search_term_lower = search_term.lower()\n",
    "    query_body = {\n",
    "    \"query\": {\n",
    "        \"bool\": {\n",
    "            \"should\": [\n",
    "                {\n",
    "                    \"query_string\": {\n",
    "                        \"query\": \"*{}*\".format(search_term_lower),\n",
    "                        \"fields\": [\"name\"],\n",
    "                        \"default_operator\": \"OR\"\n",
    "                    }\n",
    "                },\n",
    "                {\n",
    "                    \"query_string\": {\n",
    "                        \"query\": \"*{}*\".format(search_term_lower),\n",
    "                        \"fields\": [\"place\"],\n",
    "                        \"default_operator\": \"OR\"\n",
    "                    }\n",
    "                }\n",
    "            ]\n",
    "        }\n",
    "        },\n",
    "        \"sort\": [\n",
    "            {\n",
    "                \"_score\": {\n",
    "                    \"order\": \"desc\"\n",
    "                }\n",
    "            },\n",
    "            {\n",
    "                \"_script\": {\n",
    "                    \"type\": \"number\",\n",
    "                    \"script\": {\n",
    "                        \"lang\": \"painless\",\n",
    "                        \"source\": \"if (doc['name.keyword'].value == params.searchTerm) { return 1 } else { return 2 }\",\n",
    "                        \"params\": {\n",
    "                            \"searchTerm\": search_term\n",
    "                        }\n",
    "                    },\n",
    "                    \"order\": \"asc\"\n",
    "                }\n",
    "            }\n",
    "        ],\n",
    "        \"_source\": {}  \n",
    "    }\n",
    "    return query_body"
   ]
  },
  {
   "cell_type": "code",
   "execution_count": 14,
   "id": "ed2f83d0-7f5e-473c-b235-422bc996cc7d",
   "metadata": {},
   "outputs": [],
   "source": [
    "def serch_in_files(search_term):\n",
    "    query_body=create_query(search_term) \n",
    "    search_results = client.search(index=\"data_elastic_test\", body=query_body)\n",
    "    if search_results['hits']['total']['value'] > 0:\n",
    "    # Process the hits\n",
    "        for hit in search_results['hits']['hits']:\n",
    "            # Access and process individual documents\n",
    "            print(hit['_source'])\n",
    "    else:\n",
    "        print(\"No matching documents found.\")\n",
    "    "
   ]
  },
  {
   "cell_type": "code",
   "execution_count": 17,
   "id": "f51fb76b-dc84-4a54-b73d-725d5095ad1f",
   "metadata": {},
   "outputs": [
    {
     "ename": "ApiError",
     "evalue": "ApiError(418, \"{'blockByNetFree': True, 'blockUrl': 'https://netfree.link/block/#%7B%22block%22%3A%22default-block%22%2C%22sourceStatusCode%22%3A200%7D'}\")",
     "output_type": "error",
     "traceback": [
      "\u001b[1;31m---------------------------------------------------------------------------\u001b[0m",
      "\u001b[1;31mApiError\u001b[0m                                  Traceback (most recent call last)",
      "Cell \u001b[1;32mIn[17], line 2\u001b[0m\n\u001b[0;32m      1\u001b[0m search_term \u001b[38;5;241m=\u001b[39m \u001b[38;5;124m\"\u001b[39m\u001b[38;5;124mTe\u001b[39m\u001b[38;5;124m\"\u001b[39m \n\u001b[1;32m----> 2\u001b[0m \u001b[43mserch_in_files\u001b[49m\u001b[43m(\u001b[49m\u001b[43msearch_term\u001b[49m\u001b[43m)\u001b[49m\n",
      "Cell \u001b[1;32mIn[14], line 3\u001b[0m, in \u001b[0;36mserch_in_files\u001b[1;34m(search_term)\u001b[0m\n\u001b[0;32m      1\u001b[0m \u001b[38;5;28;01mdef\u001b[39;00m \u001b[38;5;21mserch_in_files\u001b[39m(search_term):\n\u001b[0;32m      2\u001b[0m     query_body\u001b[38;5;241m=\u001b[39mcreate_query(search_term) \n\u001b[1;32m----> 3\u001b[0m     search_results \u001b[38;5;241m=\u001b[39m \u001b[43mclient\u001b[49m\u001b[38;5;241;43m.\u001b[39;49m\u001b[43msearch\u001b[49m\u001b[43m(\u001b[49m\u001b[43mindex\u001b[49m\u001b[38;5;241;43m=\u001b[39;49m\u001b[38;5;124;43m\"\u001b[39;49m\u001b[38;5;124;43mdata_elastic_test\u001b[39;49m\u001b[38;5;124;43m\"\u001b[39;49m\u001b[43m,\u001b[49m\u001b[43m \u001b[49m\u001b[43mbody\u001b[49m\u001b[38;5;241;43m=\u001b[39;49m\u001b[43mquery_body\u001b[49m\u001b[43m)\u001b[49m\n\u001b[0;32m      4\u001b[0m     \u001b[38;5;28;01mif\u001b[39;00m search_results[\u001b[38;5;124m'\u001b[39m\u001b[38;5;124mhits\u001b[39m\u001b[38;5;124m'\u001b[39m][\u001b[38;5;124m'\u001b[39m\u001b[38;5;124mtotal\u001b[39m\u001b[38;5;124m'\u001b[39m][\u001b[38;5;124m'\u001b[39m\u001b[38;5;124mvalue\u001b[39m\u001b[38;5;124m'\u001b[39m] \u001b[38;5;241m>\u001b[39m \u001b[38;5;241m0\u001b[39m:\n\u001b[0;32m      5\u001b[0m     \u001b[38;5;66;03m# Process the hits\u001b[39;00m\n\u001b[0;32m      6\u001b[0m         \u001b[38;5;28;01mfor\u001b[39;00m hit \u001b[38;5;129;01min\u001b[39;00m search_results[\u001b[38;5;124m'\u001b[39m\u001b[38;5;124mhits\u001b[39m\u001b[38;5;124m'\u001b[39m][\u001b[38;5;124m'\u001b[39m\u001b[38;5;124mhits\u001b[39m\u001b[38;5;124m'\u001b[39m]:\n\u001b[0;32m      7\u001b[0m             \u001b[38;5;66;03m# Access and process individual documents\u001b[39;00m\n",
      "File \u001b[1;32mC:\\Python310\\lib\\site-packages\\elasticsearch\\_sync\\client\\utils.py:446\u001b[0m, in \u001b[0;36m_rewrite_parameters.<locals>.wrapper.<locals>.wrapped\u001b[1;34m(*args, **kwargs)\u001b[0m\n\u001b[0;32m    443\u001b[0m         \u001b[38;5;28;01mexcept\u001b[39;00m \u001b[38;5;167;01mKeyError\u001b[39;00m:\n\u001b[0;32m    444\u001b[0m             \u001b[38;5;28;01mpass\u001b[39;00m\n\u001b[1;32m--> 446\u001b[0m \u001b[38;5;28;01mreturn\u001b[39;00m api(\u001b[38;5;241m*\u001b[39margs, \u001b[38;5;241m*\u001b[39m\u001b[38;5;241m*\u001b[39mkwargs)\n",
      "File \u001b[1;32mC:\\Python310\\lib\\site-packages\\elasticsearch\\_sync\\client\\__init__.py:4119\u001b[0m, in \u001b[0;36mElasticsearch.search\u001b[1;34m(self, index, aggregations, aggs, allow_no_indices, allow_partial_search_results, analyze_wildcard, analyzer, batched_reduce_size, ccs_minimize_roundtrips, collapse, default_operator, df, docvalue_fields, error_trace, expand_wildcards, explain, ext, fields, filter_path, force_synthetic_source, from_, highlight, human, ignore_throttled, ignore_unavailable, indices_boost, knn, lenient, max_concurrent_shard_requests, min_compatible_shard_node, min_score, pit, post_filter, pre_filter_shard_size, preference, pretty, profile, q, query, rank, request_cache, rescore, rest_total_hits_as_int, retriever, routing, runtime_mappings, script_fields, scroll, search_after, search_type, seq_no_primary_term, size, slice, sort, source, source_excludes, source_includes, stats, stored_fields, suggest, suggest_field, suggest_mode, suggest_size, suggest_text, terminate_after, timeout, track_scores, track_total_hits, typed_keys, version, body)\u001b[0m\n\u001b[0;32m   4117\u001b[0m \u001b[38;5;28;01mif\u001b[39;00m __body \u001b[38;5;129;01mis\u001b[39;00m \u001b[38;5;129;01mnot\u001b[39;00m \u001b[38;5;28;01mNone\u001b[39;00m:\n\u001b[0;32m   4118\u001b[0m     __headers[\u001b[38;5;124m\"\u001b[39m\u001b[38;5;124mcontent-type\u001b[39m\u001b[38;5;124m\"\u001b[39m] \u001b[38;5;241m=\u001b[39m \u001b[38;5;124m\"\u001b[39m\u001b[38;5;124mapplication/json\u001b[39m\u001b[38;5;124m\"\u001b[39m\n\u001b[1;32m-> 4119\u001b[0m \u001b[38;5;28;01mreturn\u001b[39;00m \u001b[38;5;28;43mself\u001b[39;49m\u001b[38;5;241;43m.\u001b[39;49m\u001b[43mperform_request\u001b[49m\u001b[43m(\u001b[49m\u001b[43m  \u001b[49m\u001b[38;5;66;43;03m# type: ignore[return-value]\u001b[39;49;00m\n\u001b[0;32m   4120\u001b[0m \u001b[43m    \u001b[49m\u001b[38;5;124;43m\"\u001b[39;49m\u001b[38;5;124;43mPOST\u001b[39;49m\u001b[38;5;124;43m\"\u001b[39;49m\u001b[43m,\u001b[49m\n\u001b[0;32m   4121\u001b[0m \u001b[43m    \u001b[49m\u001b[43m__path\u001b[49m\u001b[43m,\u001b[49m\n\u001b[0;32m   4122\u001b[0m \u001b[43m    \u001b[49m\u001b[43mparams\u001b[49m\u001b[38;5;241;43m=\u001b[39;49m\u001b[43m__query\u001b[49m\u001b[43m,\u001b[49m\n\u001b[0;32m   4123\u001b[0m \u001b[43m    \u001b[49m\u001b[43mheaders\u001b[49m\u001b[38;5;241;43m=\u001b[39;49m\u001b[43m__headers\u001b[49m\u001b[43m,\u001b[49m\n\u001b[0;32m   4124\u001b[0m \u001b[43m    \u001b[49m\u001b[43mbody\u001b[49m\u001b[38;5;241;43m=\u001b[39;49m\u001b[43m__body\u001b[49m\u001b[43m,\u001b[49m\n\u001b[0;32m   4125\u001b[0m \u001b[43m    \u001b[49m\u001b[43mendpoint_id\u001b[49m\u001b[38;5;241;43m=\u001b[39;49m\u001b[38;5;124;43m\"\u001b[39;49m\u001b[38;5;124;43msearch\u001b[39;49m\u001b[38;5;124;43m\"\u001b[39;49m\u001b[43m,\u001b[49m\n\u001b[0;32m   4126\u001b[0m \u001b[43m    \u001b[49m\u001b[43mpath_parts\u001b[49m\u001b[38;5;241;43m=\u001b[39;49m\u001b[43m__path_parts\u001b[49m\u001b[43m,\u001b[49m\n\u001b[0;32m   4127\u001b[0m \u001b[43m\u001b[49m\u001b[43m)\u001b[49m\n",
      "File \u001b[1;32mC:\\Python310\\lib\\site-packages\\elasticsearch\\_sync\\client\\_base.py:271\u001b[0m, in \u001b[0;36mBaseClient.perform_request\u001b[1;34m(self, method, path, params, headers, body, endpoint_id, path_parts)\u001b[0m\n\u001b[0;32m    255\u001b[0m \u001b[38;5;28;01mdef\u001b[39;00m \u001b[38;5;21mperform_request\u001b[39m(\n\u001b[0;32m    256\u001b[0m     \u001b[38;5;28mself\u001b[39m,\n\u001b[0;32m    257\u001b[0m     method: \u001b[38;5;28mstr\u001b[39m,\n\u001b[1;32m   (...)\u001b[0m\n\u001b[0;32m    264\u001b[0m     path_parts: Optional[Mapping[\u001b[38;5;28mstr\u001b[39m, Any]] \u001b[38;5;241m=\u001b[39m \u001b[38;5;28;01mNone\u001b[39;00m,\n\u001b[0;32m    265\u001b[0m ) \u001b[38;5;241m-\u001b[39m\u001b[38;5;241m>\u001b[39m ApiResponse[Any]:\n\u001b[0;32m    266\u001b[0m     \u001b[38;5;28;01mwith\u001b[39;00m \u001b[38;5;28mself\u001b[39m\u001b[38;5;241m.\u001b[39m_otel\u001b[38;5;241m.\u001b[39mspan(\n\u001b[0;32m    267\u001b[0m         method,\n\u001b[0;32m    268\u001b[0m         endpoint_id\u001b[38;5;241m=\u001b[39mendpoint_id,\n\u001b[0;32m    269\u001b[0m         path_parts\u001b[38;5;241m=\u001b[39mpath_parts \u001b[38;5;129;01mor\u001b[39;00m {},\n\u001b[0;32m    270\u001b[0m     ) \u001b[38;5;28;01mas\u001b[39;00m otel_span:\n\u001b[1;32m--> 271\u001b[0m         response \u001b[38;5;241m=\u001b[39m \u001b[38;5;28;43mself\u001b[39;49m\u001b[38;5;241;43m.\u001b[39;49m\u001b[43m_perform_request\u001b[49m\u001b[43m(\u001b[49m\n\u001b[0;32m    272\u001b[0m \u001b[43m            \u001b[49m\u001b[43mmethod\u001b[49m\u001b[43m,\u001b[49m\n\u001b[0;32m    273\u001b[0m \u001b[43m            \u001b[49m\u001b[43mpath\u001b[49m\u001b[43m,\u001b[49m\n\u001b[0;32m    274\u001b[0m \u001b[43m            \u001b[49m\u001b[43mparams\u001b[49m\u001b[38;5;241;43m=\u001b[39;49m\u001b[43mparams\u001b[49m\u001b[43m,\u001b[49m\n\u001b[0;32m    275\u001b[0m \u001b[43m            \u001b[49m\u001b[43mheaders\u001b[49m\u001b[38;5;241;43m=\u001b[39;49m\u001b[43mheaders\u001b[49m\u001b[43m,\u001b[49m\n\u001b[0;32m    276\u001b[0m \u001b[43m            \u001b[49m\u001b[43mbody\u001b[49m\u001b[38;5;241;43m=\u001b[39;49m\u001b[43mbody\u001b[49m\u001b[43m,\u001b[49m\n\u001b[0;32m    277\u001b[0m \u001b[43m            \u001b[49m\u001b[43motel_span\u001b[49m\u001b[38;5;241;43m=\u001b[39;49m\u001b[43motel_span\u001b[49m\u001b[43m,\u001b[49m\n\u001b[0;32m    278\u001b[0m \u001b[43m        \u001b[49m\u001b[43m)\u001b[49m\n\u001b[0;32m    279\u001b[0m         otel_span\u001b[38;5;241m.\u001b[39mset_elastic_cloud_metadata(response\u001b[38;5;241m.\u001b[39mmeta\u001b[38;5;241m.\u001b[39mheaders)\n\u001b[0;32m    280\u001b[0m         \u001b[38;5;28;01mreturn\u001b[39;00m response\n",
      "File \u001b[1;32mC:\\Python310\\lib\\site-packages\\elasticsearch\\_sync\\client\\_base.py:352\u001b[0m, in \u001b[0;36mBaseClient._perform_request\u001b[1;34m(self, method, path, params, headers, body, otel_span)\u001b[0m\n\u001b[0;32m    349\u001b[0m         \u001b[38;5;28;01mexcept\u001b[39;00m (\u001b[38;5;167;01mValueError\u001b[39;00m, \u001b[38;5;167;01mKeyError\u001b[39;00m, \u001b[38;5;167;01mTypeError\u001b[39;00m):\n\u001b[0;32m    350\u001b[0m             \u001b[38;5;28;01mpass\u001b[39;00m\n\u001b[1;32m--> 352\u001b[0m     \u001b[38;5;28;01mraise\u001b[39;00m HTTP_EXCEPTIONS\u001b[38;5;241m.\u001b[39mget(meta\u001b[38;5;241m.\u001b[39mstatus, ApiError)(\n\u001b[0;32m    353\u001b[0m         message\u001b[38;5;241m=\u001b[39mmessage, meta\u001b[38;5;241m=\u001b[39mmeta, body\u001b[38;5;241m=\u001b[39mresp_body\n\u001b[0;32m    354\u001b[0m     )\n\u001b[0;32m    356\u001b[0m \u001b[38;5;66;03m# 'X-Elastic-Product: Elasticsearch' should be on every 2XX response.\u001b[39;00m\n\u001b[0;32m    357\u001b[0m \u001b[38;5;28;01mif\u001b[39;00m \u001b[38;5;129;01mnot\u001b[39;00m \u001b[38;5;28mself\u001b[39m\u001b[38;5;241m.\u001b[39m_verified_elasticsearch:\n\u001b[0;32m    358\u001b[0m     \u001b[38;5;66;03m# If the header is set we mark the server as verified.\u001b[39;00m\n",
      "\u001b[1;31mApiError\u001b[0m: ApiError(418, \"{'blockByNetFree': True, 'blockUrl': 'https://netfree.link/block/#%7B%22block%22%3A%22default-block%22%2C%22sourceStatusCode%22%3A200%7D'}\")"
     ]
    }
   ],
   "source": [
    "search_term = \"Te\" \n",
    "serch_in_files(search_term)"
   ]
  },
  {
   "cell_type": "code",
   "execution_count": null,
   "id": "fb9529e2-f537-46df-b118-1c508f25eb6f",
   "metadata": {},
   "outputs": [],
   "source": [
    " \n"
   ]
  },
  {
   "cell_type": "code",
   "execution_count": null,
   "id": "4d6f7a9d-0292-4ac6-a5c7-2bc760ff5d34",
   "metadata": {},
   "outputs": [],
   "source": [
    "\n"
   ]
  },
  {
   "cell_type": "code",
   "execution_count": null,
   "id": "6218d5e0-2f51-4117-a3e0-8822b3710c12",
   "metadata": {},
   "outputs": [],
   "source": []
  }
 ],
 "metadata": {
  "kernelspec": {
   "display_name": "Python 3 (ipykernel)",
   "language": "python",
   "name": "python3"
  },
  "language_info": {
   "codemirror_mode": {
    "name": "ipython",
    "version": 3
   },
   "file_extension": ".py",
   "mimetype": "text/x-python",
   "name": "python",
   "nbconvert_exporter": "python",
   "pygments_lexer": "ipython3",
   "version": "3.10.5"
  }
 },
 "nbformat": 4,
 "nbformat_minor": 5
}
