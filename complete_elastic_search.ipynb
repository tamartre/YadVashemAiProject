{
 "cells": [
  {
   "cell_type": "code",
   "execution_count": 1,
   "id": "0c265b4e-b7fb-4aa6-9b16-e6225c961b19",
   "metadata": {},
   "outputs": [
    {
     "name": "stdout",
     "output_type": "stream",
     "text": [
      "Collecting elasticsearchNote: you may need to restart the kernel to use updated packages.\n",
      "\n",
      "  Downloading elasticsearch-8.14.0-py3-none-any.whl.metadata (7.2 kB)\n",
      "Collecting elastic-transport<9,>=8.13 (from elasticsearch)\n",
      "  Downloading elastic_transport-8.13.1-py3-none-any.whl.metadata (3.7 kB)\n",
      "Requirement already satisfied: urllib3<3,>=1.26.2 in c:\\users\\the user\\appdata\\local\\programs\\python\\python312\\lib\\site-packages (from elastic-transport<9,>=8.13->elasticsearch) (2.2.2)\n",
      "Requirement already satisfied: certifi in c:\\users\\the user\\appdata\\local\\programs\\python\\python312\\lib\\site-packages (from elastic-transport<9,>=8.13->elasticsearch) (2024.7.4)\n",
      "Downloading elasticsearch-8.14.0-py3-none-any.whl (480 kB)\n",
      "   ---------------------------------------- 0.0/480.2 kB ? eta -:--:--\n",
      "   -- ------------------------------------- 30.7/480.2 kB 1.3 MB/s eta 0:00:01\n",
      "   ----- --------------------------------- 71.7/480.2 kB 653.6 kB/s eta 0:00:01\n",
      "   ----------- ---------------------------- 143.4/480.2 kB 1.1 MB/s eta 0:00:01\n",
      "   ------------------- -------------------- 235.5/480.2 kB 1.3 MB/s eta 0:00:01\n",
      "   ----------------------------- ---------- 358.4/480.2 kB 1.6 MB/s eta 0:00:01\n",
      "   ------------------------------------ --- 440.3/480.2 kB 1.6 MB/s eta 0:00:01\n",
      "   ---------------------------------------- 480.2/480.2 kB 1.6 MB/s eta 0:00:00\n",
      "Downloading elastic_transport-8.13.1-py3-none-any.whl (64 kB)\n",
      "   ---------------------------------------- 0.0/64.5 kB ? eta -:--:--\n",
      "   ------------------- -------------------- 30.7/64.5 kB 1.3 MB/s eta 0:00:01\n",
      "   -------------------------------------- - 61.4/64.5 kB 648.1 kB/s eta 0:00:01\n",
      "   ---------------------------------------- 64.5/64.5 kB 576.8 kB/s eta 0:00:00\n",
      "Installing collected packages: elastic-transport, elasticsearch\n",
      "Successfully installed elastic-transport-8.13.1 elasticsearch-8.14.0\n"
     ]
    },
    {
     "name": "stderr",
     "output_type": "stream",
     "text": [
      "\n",
      "[notice] A new release of pip is available: 24.0 -> 24.2\n",
      "[notice] To update, run: python.exe -m pip install --upgrade pip\n"
     ]
    }
   ],
   "source": [
    "pip install elasticsearch"
   ]
  },
  {
   "cell_type": "code",
   "execution_count": 1,
   "id": "e1c6f2aa-03fe-4640-b995-afb4f0584327",
   "metadata": {},
   "outputs": [],
   "source": [
    "from datetime import datetime\n",
    "from elasticsearch import Elasticsearch"
   ]
  },
  {
   "cell_type": "markdown",
   "id": "1e20c5dc-8f3c-402c-bd1f-43b29d9ecbac",
   "metadata": {},
   "source": [
    "#1 way"
   ]
  },
  {
   "cell_type": "code",
   "execution_count": 2,
   "id": "effe1b1d-ede6-4d7d-85f2-97b0c1acd3a5",
   "metadata": {},
   "outputs": [],
   "source": [
    "ELASTIC_PASSWORD = \"biOiUqxTHDLrBMvvYT7BC9yC\"\n",
    "# Found in the 'Manage Deployment' page\n",
    "CLOUD_ID = \"ea88302d0e50445e96d4423cb86a129b:dXMtY2VudHJhbDEuZ2NwLmNsb3VkLmVzLmlvOjQ0MyQzZDFiOTg0NzA4MzY0MzUzYjllNjBhZWMxZjJkY2IxYyRmNGE1Njk5NGQ2ZDI0ODNiOGZhZDFmNGNmN2NkNWZlNA==\"\n",
    "# Create the client instance\n",
    "client = Elasticsearch(\n",
    "    cloud_id=CLOUD_ID,\n",
    "    basic_auth=(\"elastic\", ELASTIC_PASSWORD)\n",
    ")\n",
    "\n",
    "# # Succclientsful rclientponse!\n",
    "# client.info()"
   ]
  },
  {
   "cell_type": "markdown",
   "id": "4720b49c-9b4a-47cd-9f4d-1513bfecd9e5",
   "metadata": {},
   "source": [
    "#2 way"
   ]
  },
  {
   "cell_type": "code",
   "execution_count": 5,
   "id": "a80258cc-fd70-4f30-92c7-e93b40ff198a",
   "metadata": {},
   "outputs": [],
   "source": [
    "# client = Elasticsearch(\n",
    "#     \"https://3d1b984708364353b9e60aec1f2dcb1c.us-central1.gcp.cloud.es.io:443\",  # Elasticsearch endpoint\n",
    "#     api_key=\"TlU0a0NKRUIxaEpzcERZRmt2WE46eEJNQlZPbGlSMzIyNVcxOVZUM0xIdw==\",\n",
    "# )\n",
    "# client.info()"
   ]
  },
  {
   "cell_type": "code",
   "execution_count": 4,
   "id": "75d02002-a174-417a-9e7a-949798636bb7",
   "metadata": {},
   "outputs": [],
   "source": [
    "import json\n",
    "with open(\"data_elastic.json\") as file:\n",
    "    for line in file:\n",
    "        line = line.strip()  # Remove leading and trailing whitespaces\n",
    "        if line:  # Check if the line is not empty\n",
    "            try:\n",
    "                document = json.loads(line)\n",
    "                response = client.index(index=\"data_elastic_test\", body=document)\n",
    "            except json.JSONDecodeError as e:\n",
    "                print(\"Error decoding JSON on line:\", line)\n",
    "                print(\"Exception:\", e)"
   ]
  },
  {
   "cell_type": "code",
   "execution_count": 5,
   "id": "f77f02cf-6052-463d-ba97-47bbd1cb85d2",
   "metadata": {},
   "outputs": [],
   "source": [
    "def create_query(search_term):\n",
    "    search_term_lower = search_term.lower()\n",
    "    query_body = {\n",
    "    \"query\": {\n",
    "        \"bool\": {\n",
    "            \"should\": [\n",
    "                {\n",
    "                    \"query_string\": {\n",
    "                        \"query\": \"*{}*\".format(search_term_lower),\n",
    "                        \"fields\": [\"name\"],\n",
    "                        \"default_operator\": \"OR\"\n",
    "                    }\n",
    "                },\n",
    "                {\n",
    "                    \"query_string\": {\n",
    "                        \"query\": \"*{}*\".format(search_term_lower),\n",
    "                        \"fields\": [\"place\"],\n",
    "                        \"default_operator\": \"OR\"\n",
    "                    }\n",
    "                }\n",
    "            ]\n",
    "        }\n",
    "        },\n",
    "        \"sort\": [\n",
    "            {\n",
    "                \"_score\": {\n",
    "                    \"order\": \"desc\"\n",
    "                }\n",
    "            },\n",
    "            {\n",
    "                \"_script\": {\n",
    "                    \"type\": \"number\",\n",
    "                    \"script\": {\n",
    "                        \"lang\": \"painless\",\n",
    "                        \"source\": \"if (doc['name.keyword'].value == params.searchTerm) { return 1 } else { return 2 }\",\n",
    "                        \"params\": {\n",
    "                            \"searchTerm\": search_term\n",
    "                        }\n",
    "                    },\n",
    "                    \"order\": \"asc\"\n",
    "                }\n",
    "            }\n",
    "        ],\n",
    "        \"_source\": {}  \n",
    "    }\n",
    "    return query_body"
   ]
  },
  {
   "cell_type": "code",
   "execution_count": 6,
   "id": "ed2f83d0-7f5e-473c-b235-422bc996cc7d",
   "metadata": {},
   "outputs": [],
   "source": [
    "def serch_in_files(search_term):\n",
    "    query_body=create_query(search_term) \n",
    "    search_results = client.search(index=\"data_elastic_test\", body=query_body)\n",
    "    if search_results['hits']['total']['value'] > 0:\n",
    "    # Process the hits\n",
    "        for hit in search_results['hits']['hits']:\n",
    "            # Access and process individual documents\n",
    "            print(hit['_source'])\n",
    "    else:\n",
    "        print(\"No matching documents found.\")\n",
    "    "
   ]
  },
  {
   "cell_type": "code",
   "execution_count": 7,
   "id": "f51fb76b-dc84-4a54-b73d-725d5095ad1f",
   "metadata": {},
   "outputs": [
    {
     "name": "stdout",
     "output_type": "stream",
     "text": [
      "{'id': 2, 'name': 'te', 'age': 1, 'place': 'BBBBB jerusattttttttem'}\n",
      "{'id': 2, 'name': 'Te', 'age': 1, 'place': 'BBBBB jerusalem'}\n",
      "{'id': 2, 'name': 'Te', 'age': 1, 'place': 'BBBBB jerusalem'}\n",
      "{'id': 2, 'name': 'Te', 'age': 1, 'place': 'BBBBB jerusalem'}\n",
      "{'id': 2, 'name': 'Te', 'age': 1, 'place': 'BBBBB jerusatttlem'}\n",
      "{'id': 2, 'name': 'te', 'age': 1, 'place': 'BBBBB jerusalem'}\n",
      "{'id': 2, 'name': 'te', 'age': 1, 'place': 'BBBBB jerusalem'}\n",
      "{'id': 2, 'name': 'te', 'age': 1, 'place': 'BBBBB jerusalem'}\n",
      "{'id': 2, 'name': 'te', 'age': 1, 'place': 'BBBBB jerusalem'}\n",
      "{'id': 2, 'name': 'te', 'age': 1, 'place': 'BBBBB jerusattttttttlem'}\n"
     ]
    }
   ],
   "source": [
    "search_term = \"Te\" \n",
    "serch_in_files(search_term)"
   ]
  },
  {
   "cell_type": "code",
   "execution_count": null,
   "id": "fb9529e2-f537-46df-b118-1c508f25eb6f",
   "metadata": {},
   "outputs": [],
   "source": [
    " \n"
   ]
  },
  {
   "cell_type": "code",
   "execution_count": null,
   "id": "4d6f7a9d-0292-4ac6-a5c7-2bc760ff5d34",
   "metadata": {},
   "outputs": [],
   "source": [
    "\n"
   ]
  },
  {
   "cell_type": "code",
   "execution_count": null,
   "id": "6218d5e0-2f51-4117-a3e0-8822b3710c12",
   "metadata": {},
   "outputs": [],
   "source": []
  }
 ],
 "metadata": {
  "kernelspec": {
   "display_name": "Python 3 (ipykernel)",
   "language": "python",
   "name": "python3"
  },
  "language_info": {
   "codemirror_mode": {
    "name": "ipython",
    "version": 3
   },
   "file_extension": ".py",
   "mimetype": "text/x-python",
   "name": "python",
   "nbconvert_exporter": "python",
   "pygments_lexer": "ipython3",
   "version": "3.12.4"
  }
 },
 "nbformat": 4,
 "nbformat_minor": 5
}
