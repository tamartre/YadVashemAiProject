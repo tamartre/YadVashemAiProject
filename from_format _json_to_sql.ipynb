{
 "cells": [
  {
   "cell_type": "code",
   "execution_count": null,
   "id": "a0c5dccf-a4e1-4b07-83ed-8b3a5b7f028f",
   "metadata": {},
   "outputs": [],
   "source": [
    "# # try_connect_DB\n",
    "\n",
    "# # nl\n",
    "# # hr\n",
    "\n",
    "# C:\\Program Files\\Microsoft SQL Server\\MSSQL15.SQLEXPRESS\\MSSQL\\DATA"
   ]
  },
  {
   "cell_type": "code",
   "execution_count": 8,
   "id": "33cb2f86-4fda-4b67-9117-d2ea33756ea8",
   "metadata": {},
   "outputs": [
    {
     "name": "stdout",
     "output_type": "stream",
     "text": [
      "Collecting pyodbc\n",
      "  Downloading pyodbc-5.1.0-cp310-cp310-win_amd64.whl.metadata (2.8 kB)\n",
      "Downloading pyodbc-5.1.0-cp310-cp310-win_amd64.whl (68 kB)\n",
      "   ---------------------------------------- 0.0/68.7 kB ? eta -:--:--\n",
      "   ----------------- ---------------------- 30.7/68.7 kB 435.7 kB/s eta 0:00:01\n",
      "   ---------------------------------------- 68.7/68.7 kB 622.3 kB/s eta 0:00:00\n",
      "Installing collected packages: pyodbc\n",
      "Successfully installed pyodbc-5.1.0\n",
      "Note: you may need to restart the kernel to use updated packages.\n"
     ]
    },
    {
     "name": "stderr",
     "output_type": "stream",
     "text": [
      "WARNING: Ignoring invalid distribution -rotobuf (c:\\python310\\lib\\site-packages)\n",
      "WARNING: Ignoring invalid distribution -rotobuf (c:\\python310\\lib\\site-packages)\n"
     ]
    }
   ],
   "source": [
    "pip install pyodbc\n"
   ]
  },
  {
   "cell_type": "code",
   "execution_count": 3,
   "id": "2da47ffa-c59f-48ab-bd7a-7f59fe167e88",
   "metadata": {},
   "outputs": [],
   "source": [
    "# אילו טבלאות יש ב-SQL? \n",
    "# MASTER TABLE:\n",
    "#     1. DOC_ID- INT\n",
    "#     2. IMG_NAME- STRING MAX\n",
    "#     3. FULL_DESC_WITH_VERTICES- STRING MAX\n",
    "#     4. WORDS- STRING MAX\n",
    "#     5. DATE- \n",
    "#     6. JSON_PATH- STRING MAX\n",
    "#     7. FORMAT_JSON_PATH-STRING MAX\n",
    "# TITLE TABLE\n",
    "#     1. DOC_ID\n",
    "#     2. TITLE_NUM:-INT\n",
    "#     3. TITLE_TEXT-STRING\n"
   ]
  },
  {
   "cell_type": "code",
   "execution_count": null,
   "id": "9cc7a71c-d0e1-4069-9d1c-f7b594e98779",
   "metadata": {},
   "outputs": [],
   "source": []
  },
  {
   "cell_type": "code",
   "execution_count": 5,
   "id": "e0a903e7-8be1-4e68-8600-7fe1ad70cba4",
   "metadata": {},
   "outputs": [],
   "source": [
    "json_data={\"image_path\":\"00001.jpg\", \"full_desc_with_verices\": [{\"text\": \"424 692 Rel. jued. stl./poln. CYMBEL verh. FLEISCHER Cecia Elt. Abraham Laib u. Bluma geb. Sedemska 1.5.24 Loda /Polan : - 5.40 8.44 8.44 Gh. Lode Auschw. Hamburg Berg.-Bels. - 1948 9.49 Zeihsheim Frankfurt RA, A. &.K. Hus.\"}, {\"vertices\": [{\"x\": 1, \"y\": 29}, {\"x\": 1081, \"y\": 29}, {\"x\": 1081, \"y\": 618}, {\"x\": 1, \"y\": 618}]}], \"words\": [[{\"vertices\": [{\"x\": 1, \"y\": 29}, {\"x\": 1081, \"y\": 29}, {\"x\": 1081, \"y\": 618}, {\"x\": 1, \"y\": 618}]}, [\"424 692\", \"Rel. jued.\", \"stl./poln.\", \"CYMBEL\", \"verh. FLEISCHER\", \"Cecia\", \"Elt. Abraham Laib u. Bluma geb. Sedemska\", \"1.5.24\", \"Loda /Polan\", \":\", \"-\", \"5.40 8.44\", \"8.44\", \"Gh. Lode\", \"Auschw.\", \"Hamburg\", \"Berg.-Bels.\", \"-\", \"1948\", \"9.49\", \"Zeihsheim\", \"Frankfurt\", \"RA, A. &.K. Hus.\"]], [{\"vertices\": [{\"x\": 786, \"y\": 31}, {\"x\": 848, \"y\": 30}, {\"x\": 848, \"y\": 59}, {\"x\": 786, \"y\": 60}]}, [\"424\"]], [{\"vertices\": [{\"x\": 865, \"y\": 30}, {\"x\": 923, \"y\": 29}, {\"x\": 923, \"y\": 58}, {\"x\": 865, \"y\": 59}]}, [\"692\"]], [{\"vertices\": [{\"x\": 887, \"y\": 142}, {\"x\": 945, \"y\": 143}, {\"x\": 944, \"y\": 175}, {\"x\": 886, \"y\": 174}]}, [\"Rel\"]], [{\"vertices\": [{\"x\": 949, \"y\": 144}, {\"x\": 961, \"y\": 144}, {\"x\": 960, \"y\": 175}, {\"x\": 948, \"y\": 175}]}, [\".\"]], [{\"vertices\": [{\"x\": 985, \"y\": 144}, {\"x\": 1063, \"y\": 146}, {\"x\": 1062, \"y\": 178}, {\"x\": 984, \"y\": 176}]}, [\"jued\"]], [{\"vertices\": [{\"x\": 1066, \"y\": 146}, {\"x\": 1081, \"y\": 146}, {\"x\": 1080, \"y\": 177}, {\"x\": 1065, \"y\": 177}]}, [\".\"]], [{\"vertices\": [{\"x\": 848, \"y\": 179}, {\"x\": 1024, \"y\": 182}, {\"x\": 1023, \"y\": 217}, {\"x\": 847, \"y\": 214}]}, [\"stl./poln\"]], [{\"vertices\": [{\"x\": 1027, \"y\": 183}, {\"x\": 1041, \"y\": 183}, {\"x\": 1040, \"y\": 217}, {\"x\": 1026, \"y\": 217}]}, [\".\"]], [{\"vertices\": [{\"x\": 185, \"y\": 71}, {\"x\": 403, \"y\": 69}, {\"x\": 403, \"y\": 97}, {\"x\": 185, \"y\": 99}]}, [\"CYMBEL\"]], [{\"vertices\": [{\"x\": 186, \"y\": 111}, {\"x\": 264, \"y\": 109}, {\"x\": 265, \"y\": 139}, {\"x\": 187, \"y\": 141}]}, [\"verh\"]], [{\"vertices\": [{\"x\": 267, \"y\": 110}, {\"x\": 280, \"y\": 110}, {\"x\": 281, \"y\": 139}, {\"x\": 268, \"y\": 139}]}, [\".\"]], [{\"vertices\": [{\"x\": 302, \"y\": 108}, {\"x\": 481, \"y\": 104}, {\"x\": 482, \"y\": 134}, {\"x\": 303, \"y\": 138}]}, [\"FLEISCHER\"]], [{\"vertices\": [{\"x\": 500, \"y\": 73}, {\"x\": 595, \"y\": 73}, {\"x\": 595, \"y\": 99}, {\"x\": 500, \"y\": 99}]}, [\"Cecia\"]], [{\"vertices\": [{\"x\": 49, \"y\": 150}, {\"x\": 106, \"y\": 150}, {\"x\": 106, \"y\": 184}, {\"x\": 49, \"y\": 184}]}, [\"Elt\"]], [{\"vertices\": [{\"x\": 110, \"y\": 150}, {\"x\": 123, \"y\": 150}, {\"x\": 123, \"y\": 183}, {\"x\": 110, \"y\": 183}]}, [\".\"]], [{\"vertices\": [{\"x\": 146, \"y\": 149}, {\"x\": 284, \"y\": 148}, {\"x\": 284, \"y\": 182}, {\"x\": 146, \"y\": 183}]}, [\"Abraham\"]], [{\"vertices\": [{\"x\": 302, \"y\": 149}, {\"x\": 378, \"y\": 149}, {\"x\": 378, \"y\": 182}, {\"x\": 302, \"y\": 182}]}, [\"Laib\"]], [{\"vertices\": [{\"x\": 398, \"y\": 148}, {\"x\": 418, \"y\": 148}, {\"x\": 418, \"y\": 181}, {\"x\": 398, \"y\": 181}]}, [\"u\"]], [{\"vertices\": [{\"x\": 424, \"y\": 148}, {\"x\": 435, \"y\": 148}, {\"x\": 435, \"y\": 181}, {\"x\": 424, \"y\": 181}]}, [\".\"]], [{\"vertices\": [{\"x\": 460, \"y\": 148}, {\"x\": 555, \"y\": 147}, {\"x\": 555, \"y\": 180}, {\"x\": 460, \"y\": 181}]}, [\"Bluma\"]], [{\"vertices\": [{\"x\": 575, \"y\": 147}, {\"x\": 648, \"y\": 147}, {\"x\": 648, \"y\": 180}, {\"x\": 575, \"y\": 180}]}, [\"geb.\"]], [{\"vertices\": [{\"x\": 674, \"y\": 146}, {\"x\": 828, \"y\": 145}, {\"x\": 828, \"y\": 179}, {\"x\": 674, \"y\": 180}]}, [\"Sedemska\"]], [{\"vertices\": [{\"x\": 126, \"y\": 188}, {\"x\": 248, \"y\": 190}, {\"x\": 248, \"y\": 219}, {\"x\": 126, \"y\": 217}]}, [\"1.5.24\"]], [{\"vertices\": [{\"x\": 402, \"y\": 184}, {\"x\": 480, \"y\": 184}, {\"x\": 480, \"y\": 218}, {\"x\": 402, \"y\": 218}]}, [\"Loda\"]], [{\"vertices\": [{\"x\": 498, \"y\": 184}, {\"x\": 517, \"y\": 184}, {\"x\": 517, \"y\": 218}, {\"x\": 498, \"y\": 218}]}, [\"/\"]], [{\"vertices\": [{\"x\": 517, \"y\": 184}, {\"x\": 614, \"y\": 184}, {\"x\": 614, \"y\": 218}, {\"x\": 517, \"y\": 218}]}, [\"Polan\"]], [{\"vertices\": [{\"x\": 1, \"y\": 263}, {\"x\": 7, \"y\": 263}, {\"x\": 7, \"y\": 270}, {\"x\": 1, \"y\": 270}]}, [\":\"]], [{\"vertices\": [{\"x\": 147, \"y\": 278}, {\"x\": 164, \"y\": 278}, {\"x\": 164, \"y\": 287}, {\"x\": 147, \"y\": 287}]}, [\"-\"]], [{\"vertices\": [{\"x\": 48, \"y\": 268}, {\"x\": 128, \"y\": 266}, {\"x\": 129, \"y\": 296}, {\"x\": 49, \"y\": 298}]}, [\"5.40\"]], [{\"vertices\": [{\"x\": 187, \"y\": 256}, {\"x\": 268, \"y\": 257}, {\"x\": 268, \"y\": 295}, {\"x\": 187, \"y\": 294}]}, [\"8.44\"]], [{\"vertices\": [{\"x\": 50, \"y\": 306}, {\"x\": 130, \"y\": 305}, {\"x\": 130, \"y\": 334}, {\"x\": 50, \"y\": 335}]}, [\"8.44\"]], [{\"vertices\": [{\"x\": 402, \"y\": 264}, {\"x\": 440, \"y\": 264}, {\"x\": 440, \"y\": 290}, {\"x\": 402, \"y\": 290}]}, [\"Gh\"]], [{\"vertices\": [{\"x\": 444, \"y\": 264}, {\"x\": 457, \"y\": 264}, {\"x\": 457, \"y\": 289}, {\"x\": 444, \"y\": 289}]}, [\".\"]], [{\"vertices\": [{\"x\": 479, \"y\": 264}, {\"x\": 556, \"y\": 264}, {\"x\": 556, \"y\": 289}, {\"x\": 479, \"y\": 289}]}, [\"Lode\"]], [{\"vertices\": [{\"x\": 403, \"y\": 304}, {\"x\": 522, \"y\": 304}, {\"x\": 522, \"y\": 329}, {\"x\": 403, \"y\": 329}]}, [\"Auschw\"]], [{\"vertices\": [{\"x\": 522, \"y\": 304}, {\"x\": 534, \"y\": 304}, {\"x\": 534, \"y\": 328}, {\"x\": 522, \"y\": 328}]}, [\".\"]], [{\"vertices\": [{\"x\": 400, \"y\": 342}, {\"x\": 540, \"y\": 343}, {\"x\": 540, \"y\": 371}, {\"x\": 400, \"y\": 370}]}, [\"Hamburg\"]], [{\"vertices\": [{\"x\": 402, \"y\": 379}, {\"x\": 481, \"y\": 378}, {\"x\": 481, \"y\": 410}, {\"x\": 402, \"y\": 411}]}, [\"Berg\"]], [{\"vertices\": [{\"x\": 482, \"y\": 378}, {\"x\": 495, \"y\": 378}, {\"x\": 495, \"y\": 409}, {\"x\": 482, \"y\": 409}]}, [\".\"]], [{\"vertices\": [{\"x\": 497, \"y\": 378}, {\"x\": 516, \"y\": 378}, {\"x\": 516, \"y\": 409}, {\"x\": 497, \"y\": 409}]}, [\"-\"]], [{\"vertices\": [{\"x\": 518, \"y\": 378}, {\"x\": 595, \"y\": 377}, {\"x\": 595, \"y\": 408}, {\"x\": 518, \"y\": 409}]}, [\"Bels\"]], [{\"vertices\": [{\"x\": 598, \"y\": 377}, {\"x\": 612, \"y\": 377}, {\"x\": 612, \"y\": 408}, {\"x\": 598, \"y\": 408}]}, [\".\"]], [{\"vertices\": [{\"x\": 149, \"y\": 450}, {\"x\": 167, \"y\": 450}, {\"x\": 167, \"y\": 460}, {\"x\": 149, \"y\": 460}]}, [\"-\"]], [{\"vertices\": [{\"x\": 189, \"y\": 438}, {\"x\": 267, \"y\": 438}, {\"x\": 267, \"y\": 468}, {\"x\": 189, \"y\": 468}]}, [\"1948\"]], [{\"vertices\": [{\"x\": 186, \"y\": 475}, {\"x\": 266, \"y\": 475}, {\"x\": 266, \"y\": 505}, {\"x\": 186, \"y\": 505}]}, [\"9.49\"]], [{\"vertices\": [{\"x\": 404, \"y\": 436}, {\"x\": 578, \"y\": 436}, {\"x\": 578, \"y\": 461}, {\"x\": 404, \"y\": 461}]}, [\"Zeihsheim\"]], [{\"vertices\": [{\"x\": 403, \"y\": 474}, {\"x\": 575, \"y\": 474}, {\"x\": 575, \"y\": 499}, {\"x\": 403, \"y\": 499}]}, [\"Frankfurt\"]], [{\"vertices\": [{\"x\": 52, \"y\": 587}, {\"x\": 93, \"y\": 587}, {\"x\": 93, \"y\": 616}, {\"x\": 52, \"y\": 616}]}, [\"RA\"]], [{\"vertices\": [{\"x\": 95, \"y\": 587}, {\"x\": 107, \"y\": 587}, {\"x\": 107, \"y\": 616}, {\"x\": 95, \"y\": 616}]}, [\",\"]], [{\"vertices\": [{\"x\": 127, \"y\": 587}, {\"x\": 165, \"y\": 587}, {\"x\": 165, \"y\": 616}, {\"x\": 127, \"y\": 616}]}, [\"A.\"]], [{\"vertices\": [{\"x\": 186, \"y\": 588}, {\"x\": 207, \"y\": 588}, {\"x\": 207, \"y\": 617}, {\"x\": 186, \"y\": 617}]}, [\"&\"]], [{\"vertices\": [{\"x\": 210, \"y\": 588}, {\"x\": 247, \"y\": 588}, {\"x\": 247, \"y\": 617}, {\"x\": 210, \"y\": 617}]}, [\".K\"]], [{\"vertices\": [{\"x\": 251, \"y\": 588}, {\"x\": 262, \"y\": 588}, {\"x\": 262, \"y\": 617}, {\"x\": 251, \"y\": 617}]}, [\".\"]], [{\"vertices\": [{\"x\": 285, \"y\": 588}, {\"x\": 345, \"y\": 588}, {\"x\": 345, \"y\": 618}, {\"x\": 285, \"y\": 618}]}, [\"Hus\"]], [{\"vertices\": [{\"x\": 347, \"y\": 589}, {\"x\": 358, \"y\": 589}, {\"x\": 358, \"y\": 618}, {\"x\": 347, \"y\": 618}]}, [\".\"]]] , \"date\": [], \"data_Languages\": [[\"English\", 0.27194348], [\"hr\", 0.18225823], [\"German\", 0.108396694], [\"nl\", 0.065701656]], \"top_title\": [\"Elt . Abraham Laib u . Bluma geb. Sedemska \", \"Rel . jued . stl./poln . \", \"CYMBEL verh . FLEISCHER \"], \"json_path\": \"data_for_model_img_doc_\\\\0\\\\10001405_1.json\", \"format_json_path\": \"data_for_model_img_doc_\\\\0\\\\10001405_1_format.json\", \"type_page\": \" Yad Vashem binding\"}"
   ]
  },
  {
   "cell_type": "code",
   "execution_count": 9,
   "id": "43a98577-ffa3-4871-a2f8-c7748e9f0fbb",
   "metadata": {},
   "outputs": [],
   "source": [
    "# json_data['full_desc_with_verices'][0]\n",
    "# json_data['full_desc_with_verices'][1]\n",
    "import pyodbc\n",
    "import json\n"
   ]
  },
  {
   "cell_type": "code",
   "execution_count": 10,
   "id": "6f807fae-58d9-40fd-98f7-ac9c2feace37",
   "metadata": {},
   "outputs": [],
   "source": [
    "def write_to_sql(json_data):\n",
    "    image_name=json_data.get(\"image_path\", [])\n",
    "    print(\"image_path\", image_name)\n",
    "    full_desc_with_verices=json_data.get(\"full_desc_with_verices\", [])\n",
    "    lang_text_1=''\n",
    "    lang_text_1+=str(full_desc_with_verices[0])\n",
    "    lang_text_1+=','\n",
    "    lang_text_1+=str(full_desc_with_verices[1])\n",
    "    full_desc_with_verices=lang_text_1\n",
    "    words=json_data.get(\"words\", [])\n",
    "    flat_data = [item for sublist in words for item in sublist]\n",
    "    long_string = ', '.join(map(str, flat_data))\n",
    "    words=long_string\n",
    "    top_title=json_data.get(\"top_title\", '')\n",
    "    format_json_path=json_data.get(\"format_json_path\", '')\n",
    "    json_path=json_data.get(\"json_path\", '')\n",
    "    date=json_data.get(\"date\", '')\n",
    "    if date==[]:\n",
    "        date=''\n",
    "    type_page=json_data.get(\"type_page\", '')\n",
    "# Establish connection to the SQL Server database\n",
    "    connection_string = 'DRIVER={SQL Server};SERVER=DESKTOP-E0FAPSB\\SQLEXPRESS;DATABASE=Practicom-DB-format_json;Trusted_Connection=yes;'\n",
    "    connection = pyodbc.connect(connection_string)\n",
    "    cursor = connection.cursor()\n",
    "    \n",
    "    try:\n",
    "        # Insert data into the Master table\n",
    "        cursor.execute(\"INSERT INTO Master (IMG_NAME, FULL_DESC_WITH_VERTICES, WORDS, DATE, JSON_PATH, FORMAT_JSON_PATH, TYPE_PAGE) VALUES (?, ?, ?, ?, ?, ?, ?)\", \n",
    "                           (image_name, full_desc_with_verices, words, date, json_path, format_json_path, type_page))\n",
    "        connection.commit()\n",
    "    \n",
    "        # Get the generated DOC_ID\n",
    "        cursor.execute(\"SELECT @@IDENTITY AS LastIdentity\")\n",
    "        doc_id = cursor.fetchone().LastIdentity\n",
    "    \n",
    "        print(doc_id)\n",
    "        # Insert data into the Title table with the correct DOC_ID\n",
    "        for title_text in top_title:\n",
    "            cursor.execute(\"INSERT INTO Title (DOC_ID, TITLE_TEXT) VALUES (?, ?)\", (doc_id, title_text))\n",
    "        connection.commit()\n",
    "    \n",
    "        # Insert data into the Data_Languages table\n",
    "        data_languages = json_data.get(\"data_Languages\", [])\n",
    "        for language, confidence in data_languages:\n",
    "            cursor.execute(\"INSERT INTO Data_Languages (DOC_ID, LANGUAGE, CONFIDENCE) VALUES (?, ?, ?)\", (doc_id, language, confidence))\n",
    "        connection.commit()\n",
    "    \n",
    "    except Exception as e:\n",
    "        # Handle any exceptions that may occur during the database operations\n",
    "        print(\"An error occurred:\", e)\n",
    "    finally:\n",
    "        cursor.close()\n",
    "        connection.close()"
   ]
  },
  {
   "cell_type": "code",
   "execution_count": 11,
   "id": "d7841e41-aaff-41e7-83ab-5a5f8203b0e4",
   "metadata": {},
   "outputs": [
    {
     "name": "stdout",
     "output_type": "stream",
     "text": [
      "image_path 00001.jpg\n",
      "34\n"
     ]
    }
   ],
   "source": [
    "write_to_sql(json_data)"
   ]
  },
  {
   "cell_type": "code",
   "execution_count": 12,
   "id": "c0ad8bad-cf7e-4b2c-a7df-631d5ed6f39a",
   "metadata": {},
   "outputs": [],
   "source": [
    "# DELETE FROM master;"
   ]
  },
  {
   "cell_type": "code",
   "execution_count": null,
   "id": "e36e5957-b75f-4989-8800-4122c4f1a628",
   "metadata": {},
   "outputs": [],
   "source": []
  }
 ],
 "metadata": {
  "kernelspec": {
   "display_name": "Python 3 (ipykernel)",
   "language": "python",
   "name": "python3"
  },
  "language_info": {
   "codemirror_mode": {
    "name": "ipython",
    "version": 3
   },
   "file_extension": ".py",
   "mimetype": "text/x-python",
   "name": "python",
   "nbconvert_exporter": "python",
   "pygments_lexer": "ipython3",
   "version": "3.10.5"
  }
 },
 "nbformat": 4,
 "nbformat_minor": 5
}
